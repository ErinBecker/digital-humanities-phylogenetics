{
 "cells": [
  {
   "cell_type": "code",
   "execution_count": 9,
   "metadata": {
    "collapsed": false
   },
   "outputs": [],
   "source": [
    "setwd(\"../data/composite_texts/\")"
   ]
  },
  {
   "cell_type": "code",
   "execution_count": 34,
   "metadata": {
    "collapsed": false
   },
   "outputs": [],
   "source": [
    "####### Read in section definitions from file #######\n",
    "## These section definitions were generated with the notebook 03_define_sections_R\n",
    "\n",
    "Q1_sections = read.csv(\"Q000001_sections.csv\", stringsAsFactors = FALSE)\n",
    "Q39_sections = read.csv(\"Q000039_sections.csv\", stringsAsFactors = FALSE)\n",
    "Q40_sections = read.csv(\"Q000040_sections.csv\", stringsAsFactors = FALSE)\n",
    "Q41_sections = read.csv(\"Q000040_sections.csv\", stringsAsFactors = FALSE)\n",
    "Q42_sections = read.csv(\"Q000042_sections.csv\", stringsAsFactors = FALSE)"
   ]
  },
  {
   "cell_type": "code",
   "execution_count": 92,
   "metadata": {
    "collapsed": false
   },
   "outputs": [
    {
     "data": {
      "text/html": [
       "<table>\n",
       "<thead><tr><th scope=col>X</th><th scope=col>id_line</th><th scope=col>label</th><th scope=col>lemma</th><th scope=col>base</th><th scope=col>id_text</th><th scope=col>line</th><th scope=col>skip</th><th scope=col>entry</th></tr></thead>\n",
       "<tbody>\n",
       "\t<tr><td>0                     </td><td>P117395.2             </td><td>o 1                   </td><td>ŋešed[key]N           </td><td>{ŋeš}e₃-a             </td><td>P117395               </td><td>2                     </td><td>0                     </td><td>ŋešed[key]N           </td></tr>\n",
       "\t<tr><td>1                     </td><td>P117395.3             </td><td>o 2                   </td><td>pakud[~tree]N         </td><td>{ŋeš}pa-kud           </td><td>P117395               </td><td>3                     </td><td>0                     </td><td>pakud[~tree]N         </td></tr>\n",
       "\t<tr><td>2                     </td><td>P117395.4             </td><td>o 3                   </td><td>raba[clamp]N          </td><td>{ŋeš}raba             </td><td>P117395               </td><td>4                     </td><td>0                     </td><td>raba[clamp]N          </td></tr>\n",
       "\t<tr><td>3                     </td><td>P117404.2             </td><td>o 1                   </td><td>ig[door]N eren[cedar]N</td><td>{ŋeš}ig {ŋeš}eren     </td><td>P117404               </td><td>2                     </td><td>0                     </td><td>ig[door]N_eren[cedar]N</td></tr>\n",
       "\t<tr><td>4                     </td><td>P117404.3             </td><td>o 2                   </td><td>ig[door]N dib[board]N </td><td>{ŋeš}ig dib           </td><td>P117404               </td><td>3                     </td><td>0                     </td><td>ig[door]N_dib[board]N </td></tr>\n",
       "\t<tr><td>5                     </td><td>P117404.4             </td><td>o 3                   </td><td>ig[door]N i[oil]N     </td><td>{ŋeš}ig i₃            </td><td>P117404               </td><td>4                     </td><td>0                     </td><td>ig[door]N_i[oil]N     </td></tr>\n",
       "</tbody>\n",
       "</table>\n"
      ],
      "text/latex": [
       "\\begin{tabular}{r|lllllllll}\n",
       " X & id\\_line & label & lemma & base & id\\_text & line & skip & entry\\\\\n",
       "\\hline\n",
       "\t 0                          & P117395.2                  & o 1                        & ŋešed{[}key{]}N            & \\{ŋeš\\}e₃-a              & P117395                    & 2                          & 0                          & ŋešed{[}key{]}N           \\\\\n",
       "\t 1                                           & P117395.3                                   & o 2                                         & pakud{[}\\textasciitilde{}tree{]}N          & \\{ŋeš\\}pa-kud                             & P117395                                     & 3                                           & 0                                           & pakud{[}\\textasciitilde{}tree{]}N         \\\\\n",
       "\t 2                          & P117395.4                  & o 3                        & raba{[}clamp{]}N           & \\{ŋeš\\}raba              & P117395                    & 4                          & 0                          & raba{[}clamp{]}N          \\\\\n",
       "\t 3                                & P117404.2                        & o 1                              & ig{[}door{]}N eren{[}cedar{]}N   & \\{ŋeš\\}ig \\{ŋeš\\}eren        & P117404                          & 2                                & 0                                & ig{[}door{]}N\\_eren{[}cedar{]}N\\\\\n",
       "\t 4                                & P117404.3                        & o 2                              & ig{[}door{]}N dib{[}board{]}N    & \\{ŋeš\\}ig dib                  & P117404                          & 3                                & 0                                & ig{[}door{]}N\\_dib{[}board{]}N \\\\\n",
       "\t 5                                & P117404.4                        & o 3                              & ig{[}door{]}N i{[}oil{]}N        & \\{ŋeš\\}ig i₃                   & P117404                          & 4                                & 0                                & ig{[}door{]}N\\_i{[}oil{]}N     \\\\\n",
       "\\end{tabular}\n"
      ],
      "text/markdown": [
       "\n",
       "X | id_line | label | lemma | base | id_text | line | skip | entry | \n",
       "|---|---|---|---|---|---|\n",
       "| 0                      | P117395.2              | o 1                    | ŋešed[key]N            | {ŋeš}e₃-a              | P117395                | 2                      | 0                      | ŋešed[key]N            | \n",
       "| 1                      | P117395.3              | o 2                    | pakud[~tree]N          | {ŋeš}pa-kud            | P117395                | 3                      | 0                      | pakud[~tree]N          | \n",
       "| 2                      | P117395.4              | o 3                    | raba[clamp]N           | {ŋeš}raba              | P117395                | 4                      | 0                      | raba[clamp]N           | \n",
       "| 3                      | P117404.2              | o 1                    | ig[door]N eren[cedar]N | {ŋeš}ig {ŋeš}eren      | P117404                | 2                      | 0                      | ig[door]N_eren[cedar]N | \n",
       "| 4                      | P117404.3              | o 2                    | ig[door]N dib[board]N  | {ŋeš}ig dib            | P117404                | 3                      | 0                      | ig[door]N_dib[board]N  | \n",
       "| 5                      | P117404.4              | o 3                    | ig[door]N i[oil]N      | {ŋeš}ig i₃             | P117404                | 4                      | 0                      | ig[door]N_i[oil]N      | \n",
       "\n",
       "\n"
      ],
      "text/plain": [
       "  X id_line   label lemma                  base              id_text line skip\n",
       "1 0 P117395.2 o 1   ŋešed[key]N            {ŋeš}e₃-a         P117395 2    0   \n",
       "2 1 P117395.3 o 2   pakud[~tree]N          {ŋeš}pa-kud       P117395 3    0   \n",
       "3 2 P117395.4 o 3   raba[clamp]N           {ŋeš}raba         P117395 4    0   \n",
       "4 3 P117404.2 o 1   ig[door]N eren[cedar]N {ŋeš}ig {ŋeš}eren P117404 2    0   \n",
       "5 4 P117404.3 o 2   ig[door]N dib[board]N  {ŋeš}ig dib       P117404 3    0   \n",
       "6 5 P117404.4 o 3   ig[door]N i[oil]N      {ŋeš}ig i₃        P117404 4    0   \n",
       "  entry                 \n",
       "1 ŋešed[key]N           \n",
       "2 pakud[~tree]N         \n",
       "3 raba[clamp]N          \n",
       "4 ig[door]N_eren[cedar]N\n",
       "5 ig[door]N_dib[board]N \n",
       "6 ig[door]N_i[oil]N     "
      ]
     },
     "metadata": {},
     "output_type": "display_data"
    }
   ],
   "source": [
    "# Read in a corpus to analyze\n",
    "\n",
    "df = read.csv(\"../pass/Q39_par.csv\", stringsAsFactors = FALSE)\n",
    "head(df)"
   ]
  },
  {
   "cell_type": "code",
   "execution_count": 93,
   "metadata": {
    "collapsed": false
   },
   "outputs": [
    {
     "data": {
      "text/html": [
       "<table>\n",
       "<thead><tr><th scope=col>X</th><th scope=col>id_line</th><th scope=col>label</th><th scope=col>lemma</th><th scope=col>base</th><th scope=col>id_text</th><th scope=col>line</th><th scope=col>skip</th><th scope=col>entry</th><th scope=col>section</th></tr></thead>\n",
       "<tbody>\n",
       "\t<tr><td> 0                                   </td><td>P117395.2                            </td><td>o 1                                  </td><td>ŋešed[key]N                          </td><td>{ŋeš}e₃-a                            </td><td>P117395                              </td><td>2                                    </td><td>0                                    </td><td>ŋešed[key]N                          </td><td>NA                                   </td></tr>\n",
       "\t<tr><td> 1                                   </td><td>P117395.3                            </td><td>o 2                                  </td><td>pakud[~tree]N                        </td><td>{ŋeš}pa-kud                          </td><td>P117395                              </td><td>3                                    </td><td>0                                    </td><td>pakud[~tree]N                        </td><td>NA                                   </td></tr>\n",
       "\t<tr><td> 2                                   </td><td>P117395.4                            </td><td>o 3                                  </td><td>raba[clamp]N                         </td><td>{ŋeš}raba                            </td><td>P117395                              </td><td>4                                    </td><td>0                                    </td><td>raba[clamp]N                         </td><td>NA                                   </td></tr>\n",
       "\t<tr><td> 3                                   </td><td>P117404.2                            </td><td>o 1                                  </td><td>ig[door]N eren[cedar]N               </td><td>{ŋeš}ig {ŋeš}eren                    </td><td>P117404                              </td><td>2                                    </td><td>0                                    </td><td>ig[door]N_eren[cedar]N               </td><td>NA                                   </td></tr>\n",
       "\t<tr><td> 4                                   </td><td>P117404.3                            </td><td>o 2                                  </td><td>ig[door]N dib[board]N                </td><td>{ŋeš}ig dib                          </td><td>P117404                              </td><td>3                                    </td><td>0                                    </td><td>ig[door]N_dib[board]N                </td><td>door                                 </td></tr>\n",
       "\t<tr><td> 5                                   </td><td>P117404.4                            </td><td>o 3                                  </td><td>ig[door]N i[oil]N                    </td><td>{ŋeš}ig i₃                           </td><td>P117404                              </td><td>4                                    </td><td>0                                    </td><td>ig[door]N_i[oil]N                    </td><td>door                                 </td></tr>\n",
       "\t<tr><td> 6                                   </td><td>P128345.2                            </td><td>o 1                                  </td><td>garig[comb]N siki[hair]N             </td><td>{ŋeš}ga-rig₂ siki                    </td><td>P128345                              </td><td>2                                    </td><td>0                                    </td><td>garig[comb]N_siki[hair]N             </td><td>comb                                 </td></tr>\n",
       "\t<tr><td> 7                                   </td><td>P128345.3                            </td><td>o 2                                  </td><td>garig[comb]N siki-siki[NA]NA         </td><td>{ŋeš}ga-rig₂ siki-siki               </td><td>P128345                              </td><td>3                                    </td><td>0                                    </td><td>garig[comb]N_siki-siki[NA]NA         </td><td>NA                                   </td></tr>\n",
       "\t<tr><td> 8                                   </td><td>P128345.4                            </td><td>o 3                                  </td><td>garig[comb]N saŋdu[head]N            </td><td>{ŋeš}ga-rig₂ saŋ-du                  </td><td>P128345                              </td><td>4                                    </td><td>0                                    </td><td>garig[comb]N_saŋdu[head]N            </td><td>comb                                 </td></tr>\n",
       "\t<tr><td> 9                                   </td><td>P224980.4                            </td><td>o i 1                                </td><td>gigir[chariot]N                      </td><td>{ŋeš}gigir                           </td><td>P224980                              </td><td>4                                    </td><td>0                                    </td><td>gigir[chariot]N                      </td><td>chariot                              </td></tr>\n",
       "\t<tr><td>10                                   </td><td>P224980.5                            </td><td>o i 2                                </td><td>e[house]N gigir[chariot]N            </td><td>{ŋeš}e₂ gigir                        </td><td>P224980                              </td><td>5                                    </td><td>0                                    </td><td>e[house]N_gigir[chariot]N            </td><td>chariot                              </td></tr>\n",
       "\t<tr><td>11                                   </td><td>P224980.6                            </td><td>o i 3                                </td><td>e[house]N usan[whip]N gigir[chariot]N</td><td>{ŋeš}e₂ usan₃ gigir                  </td><td>P224980                              </td><td>6                                    </td><td>0                                    </td><td>e[house]N_usan[whip]N_gigir[chariot]N</td><td>chariot                              </td></tr>\n",
       "\t<tr><td>12                                   </td><td>P224986.4                            </td><td>o i 1                                </td><td>guza[chair]N anše[equid]N            </td><td>{ŋeš}gu-za anše                      </td><td>P224986                              </td><td>4                                    </td><td>0                                    </td><td>guza[chair]N_anše[equid]N            </td><td>chair                                </td></tr>\n",
       "\t<tr><td>13                                   </td><td>P224986.5                            </td><td>o i 2                                </td><td>guza[chair]N kaskal[way]N            </td><td>{ŋeš}gu-za kaskal                    </td><td>P224986                              </td><td>5                                    </td><td>0                                    </td><td>guza[chair]N_kaskal[way]N            </td><td>chair                                </td></tr>\n",
       "\t<tr><td>14                                   </td><td>P224986.6                            </td><td>o i 3                                </td><td>guza[chair]N zir[break]V/t           </td><td>{ŋeš}gu-za zi                        </td><td>P224986                              </td><td>6                                    </td><td>0                                    </td><td>guza[chair]N_zir[break]V/t           </td><td>NA                                   </td></tr>\n",
       "\t<tr><td>15                                   </td><td>P224994.4                            </td><td>o i 1                                </td><td>{ŋeš}x-x[NA]NA                       </td><td>{ŋeš}x-x                             </td><td>P224994                              </td><td>4                                    </td><td>0                                    </td><td>{ŋeš}x-x[NA]NA                       </td><td>NA                                   </td></tr>\n",
       "\t<tr><td>16                                   </td><td>P224994.5                            </td><td>o i 2                                </td><td>{ŋeš}SI-x[NA]NA                      </td><td>{ŋeš}SI-x                            </td><td>P224994                              </td><td>5                                    </td><td>0                                    </td><td>{ŋeš}SI-x[NA]NA                      </td><td>NA                                   </td></tr>\n",
       "\t<tr><td>17                                   </td><td>P224994.6                            </td><td>o i 3                                </td><td>{ŋeš}šu-x[NA]NA                      </td><td>{ŋeš}šu-x                            </td><td>P224994                              </td><td>6                                    </td><td>0                                    </td><td>{ŋeš}šu-x[NA]NA                      </td><td>NA                                   </td></tr>\n",
       "\t<tr><td>18                                   </td><td>P224996.4                            </td><td>o i 1                                </td><td>guza[chair]N                         </td><td>{ŋeš}gu-za                           </td><td>P224996                              </td><td>4                                    </td><td>0                                    </td><td>guza[chair]N                         </td><td>chair                                </td></tr>\n",
       "\t<tr><td>19                                   </td><td>P224996.5                            </td><td>o i 2                                </td><td>guza[chair]N gid[long]V/i            </td><td>{ŋeš}gu-za gid₂                      </td><td>P224996                              </td><td>5                                    </td><td>0                                    </td><td>guza[chair]N_gid[long]V/i            </td><td>chair                                </td></tr>\n",
       "\t<tr><td>20                                   </td><td>P224996.6                            </td><td>o i 3                                </td><td>guza[chair]N sirda[cnne]N            </td><td>{ŋeš}gu-za sir₂-da                   </td><td>P224996                              </td><td>6                                    </td><td>0                                    </td><td>guza[chair]N_sirda[cnne]N            </td><td>chair                                </td></tr>\n",
       "\t<tr><td>21                                   </td><td>P225006.4                            </td><td>o i 1                                </td><td>ig[door]N                            </td><td>{ŋeš}ig                              </td><td>P225006                              </td><td>4                                    </td><td>0                                    </td><td>ig[door]N                            </td><td>door                                 </td></tr>\n",
       "\t<tr><td>22                                   </td><td>P225006.5                            </td><td>o i 2                                </td><td>suku[pole]N ig[door]N                </td><td>{ŋeš}suku₅ ig                        </td><td>P225006                              </td><td>5                                    </td><td>0                                    </td><td>suku[pole]N_ig[door]N                </td><td>door                                 </td></tr>\n",
       "\t<tr><td>23                                   </td><td>P225006.6                            </td><td>o i 3                                </td><td>zara[pivot]N ig[door]N               </td><td>{ŋeš}za-ra ig                        </td><td>P225006                              </td><td>6                                    </td><td>0                                    </td><td>zara[pivot]N_ig[door]N               </td><td>NA                                   </td></tr>\n",
       "\t<tr><td>24                                   </td><td>P225023.4                            </td><td>o i 1                                </td><td>{ŋeš}x[NA]NA                         </td><td>{ŋeš}x                               </td><td>P225023                              </td><td>4                                    </td><td>0                                    </td><td>{ŋeš}x[NA]NA                         </td><td>X.6                                  </td></tr>\n",
       "\t<tr><td>25                                   </td><td>P225023.5                            </td><td>o i 2                                </td><td>emerah[jug]N x[NA]NA                 </td><td>{ŋeš}emerah x                        </td><td>P225023                              </td><td>5                                    </td><td>0                                    </td><td>emerah[jug]N_x[NA]NA                 </td><td>NA                                   </td></tr>\n",
       "\t<tr><td>26                                   </td><td>P225023.6                            </td><td>o i 3                                </td><td>emerah[jug]N x[NA]NA                 </td><td>{ŋeš}emerah x                        </td><td>P225023                              </td><td>6                                    </td><td>0                                    </td><td>emerah[jug]N_x[NA]NA                 </td><td>NA                                   </td></tr>\n",
       "\t<tr><td>27                                   </td><td>P225033.4                            </td><td>o i 1                                </td><td>targul[pole]N                        </td><td>{ŋeš}dar-gul                         </td><td>P225033                              </td><td>4                                    </td><td>0                                    </td><td>targul[pole]N                        </td><td>pole                                 </td></tr>\n",
       "\t<tr><td>28                                   </td><td>P225033.5                            </td><td>o i 2                                </td><td>targul[pole]N                        </td><td>{ŋeš}dar-gul-la₂                     </td><td>P225033                              </td><td>5                                    </td><td>0                                    </td><td>targul[pole]N                        </td><td>pole                                 </td></tr>\n",
       "\t<tr><td>29                                   </td><td>P225033.6                            </td><td>o i 3                                </td><td>garig[comb]N                         </td><td>{ŋeš}ga-rig₂                         </td><td>P225033                              </td><td>6                                    </td><td>0                                    </td><td>garig[comb]N                         </td><td>comb                                 </td></tr>\n",
       "\t<tr><td>⋮</td><td>⋮</td><td>⋮</td><td>⋮</td><td>⋮</td><td>⋮</td><td>⋮</td><td>⋮</td><td>⋮</td><td>⋮</td></tr>\n",
       "\t<tr><td>5085                      </td><td>Q000039.749               </td><td>678                       </td><td>dih[weed]N                </td><td>{ŋeš}dih₃                 </td><td>Q000039                   </td><td>749                       </td><td>0                         </td><td>dih[weed]N                </td><td>weed                      </td></tr>\n",
       "\t<tr><td>5086                      </td><td>Q000039.750               </td><td>679                       </td><td>dih[weed]N kur[mountain]N </td><td>{ŋeš}dih₃ kur             </td><td>Q000039                   </td><td>750                       </td><td>0                         </td><td>dih[weed]N_kur[mountain]N </td><td>weed                      </td></tr>\n",
       "\t<tr><td>5087                      </td><td>Q000039.751               </td><td>680                       </td><td>raba[clamp]N              </td><td>{ŋeš}raba                 </td><td>Q000039                   </td><td>751                       </td><td>0                         </td><td>raba[clamp]N              </td><td>NA                        </td></tr>\n",
       "\t<tr><td>5088                      </td><td>Q000039.752               </td><td>681                       </td><td>ešgiri[staff]N            </td><td>ŋeš-giri₁₉                </td><td>Q000039                   </td><td>752                       </td><td>0                         </td><td>ešgiri[staff]N            </td><td>staff.1                   </td></tr>\n",
       "\t<tr><td>5089                      </td><td>Q000039.753               </td><td>682                       </td><td>kunsig[bristle]N          </td><td>{ŋeš}kun-sigₓ(UMBIN) </td><td>Q000039                   </td><td>753                       </td><td>0                         </td><td>kunsig[bristle]N          </td><td>staff.1                   </td></tr>\n",
       "\t<tr><td>5090                      </td><td>Q000039.754               </td><td>683                       </td><td>nisiki[comb]N             </td><td>{ŋeš}niŋ₂-sigₓ(UMBIN)</td><td>Q000039                   </td><td>754                       </td><td>0                         </td><td>nisiki[comb]N             </td><td>NA                        </td></tr>\n",
       "\t<tr><td>5091                      </td><td>Q000039.755               </td><td>684                       </td><td>šaŋanla[trader]N          </td><td>{ŋeš}šaŋan-la₂            </td><td>Q000039                   </td><td>755                       </td><td>0                         </td><td>šaŋanla[trader]N          </td><td>NA                        </td></tr>\n",
       "\t<tr><td>5092                      </td><td>Q000039.756               </td><td>685                       </td><td>u[sleep]N ku[place]V/t    </td><td>{ŋeš}u₃ ku                </td><td>Q000039                   </td><td>756                       </td><td>0                         </td><td>u[sleep]N_ku[place]V/t    </td><td>NA                        </td></tr>\n",
       "\t<tr><td>5093                      </td><td>Q000039.757               </td><td>686                       </td><td>{ŋeš}x[NA]NA              </td><td>{ŋeš}x                    </td><td>Q000039                   </td><td>757                       </td><td>0                         </td><td>{ŋeš}x[NA]NA              </td><td>X.6                       </td></tr>\n",
       "\t<tr><td>5094                      </td><td>Q000039.758               </td><td>687                       </td><td>{ŋeš}x[NA]NA              </td><td>{ŋeš}x                    </td><td>Q000039                   </td><td>758                       </td><td>0                         </td><td>{ŋeš}x[NA]NA              </td><td>X.6                       </td></tr>\n",
       "\t<tr><td>5095                      </td><td>Q000039.759               </td><td>688                       </td><td>ŋušur[beam]N              </td><td>{ŋeš}ur₂                  </td><td>Q000039                   </td><td>759                       </td><td>0                         </td><td>ŋušur[beam]N              </td><td>NA                        </td></tr>\n",
       "\t<tr><td>5096                      </td><td>Q000039.760               </td><td>689                       </td><td>ŋešdubak[board]N          </td><td>ŋeš-dub                   </td><td>Q000039                   </td><td>760                       </td><td>0                         </td><td>ŋešdubak[board]N          </td><td>board.1                   </td></tr>\n",
       "\t<tr><td>5097                      </td><td>Q000039.761               </td><td>690                       </td><td>ŋeššu[manacles]N          </td><td>ŋeš-šu                    </td><td>Q000039                   </td><td>761                       </td><td>0                         </td><td>ŋeššu[manacles]N          </td><td>board.1                   </td></tr>\n",
       "\t<tr><td>5098                      </td><td>Q000039.762               </td><td>691                       </td><td>ŋešgu[stock]N             </td><td>ŋeš-gu₂                   </td><td>Q000039                   </td><td>762                       </td><td>0                         </td><td>ŋešgu[stock]N             </td><td>board.1                   </td></tr>\n",
       "\t<tr><td>5099                      </td><td>Q000039.763               </td><td>692                       </td><td>antibal[sign]N gu[eat]V/t </td><td>{ŋeš}an-ti-bal gu₇        </td><td>Q000039                   </td><td>763                       </td><td>0                         </td><td>antibal[sign]N_gu[eat]V/t </td><td>sign_eat                  </td></tr>\n",
       "\t<tr><td>5100                      </td><td>Q000039.764               </td><td>693                       </td><td>dur[balk]N                </td><td>{ŋeš}dur                  </td><td>Q000039                   </td><td>764                       </td><td>0                         </td><td>dur[balk]N                </td><td>sign_eat                  </td></tr>\n",
       "\t<tr><td>5101                      </td><td>Q000039.765               </td><td>694                       </td><td>dur[balk]N si[horn]N      </td><td>{ŋeš}dur si               </td><td>Q000039                   </td><td>765                       </td><td>0                         </td><td>dur[balk]N_si[horn]N      </td><td>sign_eat                  </td></tr>\n",
       "\t<tr><td>5102                      </td><td>Q000039.766               </td><td>695                       </td><td>dur[balk]N piš-piš[NA]NA  </td><td>{ŋeš}dur piš-piš          </td><td>Q000039                   </td><td>766                       </td><td>0                         </td><td>dur[balk]N_piš-piš[NA]NA  </td><td>sign_eat                  </td></tr>\n",
       "\t<tr><td>5103                      </td><td>Q000039.767               </td><td>696                       </td><td>alan[statue]N             </td><td>{ŋeš}alam                 </td><td>Q000039                   </td><td>767                       </td><td>0                         </td><td>alan[statue]N             </td><td>NA                        </td></tr>\n",
       "\t<tr><td>5104                      </td><td>Q000039.768               </td><td>697                       </td><td>az[bear]N                 </td><td>{ŋeš}az                   </td><td>Q000039                   </td><td>768                       </td><td>0                         </td><td>az[bear]N                 </td><td>NA                        </td></tr>\n",
       "\t<tr><td>5105                      </td><td>Q000039.769               </td><td>698                       </td><td>piriŋ[lion]N              </td><td>{ŋeš}piriŋ                </td><td>Q000039                   </td><td>769                       </td><td>0                         </td><td>piriŋ[lion]N              </td><td>NA                        </td></tr>\n",
       "\t<tr><td>5106                      </td><td>Q000039.770               </td><td>699                       </td><td>nemur[leopard]N           </td><td>{ŋeš}nemur                </td><td>Q000039                   </td><td>770                       </td><td>0                         </td><td>nemur[leopard]N           </td><td>NA                        </td></tr>\n",
       "\t<tr><td>5107                      </td><td>Q000039.771               </td><td>700                       </td><td>ur[dog]N                  </td><td>{ŋeš}ur                   </td><td>Q000039                   </td><td>771                       </td><td>0                         </td><td>ur[dog]N                  </td><td>NA                        </td></tr>\n",
       "\t<tr><td>5108                      </td><td>Q000039.772               </td><td>701                       </td><td>zana[doll]N               </td><td>{ŋeš}za-na                </td><td>Q000039                   </td><td>772                       </td><td>0                         </td><td>zana[doll]N               </td><td>doll                      </td></tr>\n",
       "\t<tr><td>5109                      </td><td>Q000039.773               </td><td>702                       </td><td>e[house]N zana[doll]N     </td><td>{ŋeš}e₂ za-na             </td><td>Q000039                   </td><td>773                       </td><td>0                         </td><td>e[house]N_zana[doll]N     </td><td>doll                      </td></tr>\n",
       "\t<tr><td>5110                      </td><td>Q000039.774               </td><td>703                       </td><td>namra[booty]N             </td><td>{ŋeš}nam-ra               </td><td>Q000039                   </td><td>774                       </td><td>0                         </td><td>namra[booty]N             </td><td>NA                        </td></tr>\n",
       "\t<tr><td>5111                      </td><td>Q000039.775               </td><td>704                       </td><td>šaʾuša[lance]N            </td><td>{ŋeš}ša-u₁₈-ša            </td><td>Q000039                   </td><td>775                       </td><td>0                         </td><td>šaʾuša[lance]N            </td><td>NA                        </td></tr>\n",
       "\t<tr><td>5112                      </td><td>Q000039.776               </td><td>705                       </td><td>argibil[structure]N       </td><td>{ŋeš}ar-gibil₂            </td><td>Q000039                   </td><td>776                       </td><td>0                         </td><td>argibil[structure]N       </td><td>NA                        </td></tr>\n",
       "\t<tr><td>5113                      </td><td>Q000039.777               </td><td>706                       </td><td>ŋeš[tree]N šuniŋin[total]N</td><td>ŋeš šu-niŋin₂             </td><td>Q000039                   </td><td>777                       </td><td>0                         </td><td>ŋeš[tree]N_šuniŋin[total]N</td><td>NA                        </td></tr>\n",
       "\t<tr><td>5114                      </td><td>Q000039.778               </td><td>707                       </td><td>Nisaba[1]DN zamin[lyre]N  </td><td>{d}nisaba za₃-mi₂         </td><td>Q000039                   </td><td>778                       </td><td>0                         </td><td>Nisaba[1]DN_zamin[lyre]N  </td><td>NA                        </td></tr>\n",
       "</tbody>\n",
       "</table>\n"
      ],
      "text/latex": [
       "\\begin{tabular}{r|llllllllll}\n",
       " X & id\\_line & label & lemma & base & id\\_text & line & skip & entry & section\\\\\n",
       "\\hline\n",
       "\t  0                                        & P117395.2                                 & o 1                                       & ŋešed{[}key{]}N                           & \\{ŋeš\\}e₃-a                             & P117395                                   & 2                                         & 0                                         & ŋešed{[}key{]}N                           & NA                                       \\\\\n",
       "\t  1                                                         & P117395.3                                                  & o 2                                                        & pakud{[}\\textasciitilde{}tree{]}N                         & \\{ŋeš\\}pa-kud                                            & P117395                                                    & 3                                                          & 0                                                          & pakud{[}\\textasciitilde{}tree{]}N                         & NA                                                        \\\\\n",
       "\t  2                                        & P117395.4                                 & o 3                                       & raba{[}clamp{]}N                          & \\{ŋeš\\}raba                             & P117395                                   & 4                                         & 0                                         & raba{[}clamp{]}N                          & NA                                       \\\\\n",
       "\t  3                                              & P117404.2                                       & o 1                                             & ig{[}door{]}N eren{[}cedar{]}N                  & \\{ŋeš\\}ig \\{ŋeš\\}eren                       & P117404                                         & 2                                               & 0                                               & ig{[}door{]}N\\_eren{[}cedar{]}N                & NA                                             \\\\\n",
       "\t  4                                              & P117404.3                                       & o 2                                             & ig{[}door{]}N dib{[}board{]}N                   & \\{ŋeš\\}ig dib                                 & P117404                                         & 3                                               & 0                                               & ig{[}door{]}N\\_dib{[}board{]}N                 & door                                           \\\\\n",
       "\t  5                                              & P117404.4                                       & o 3                                             & ig{[}door{]}N i{[}oil{]}N                       & \\{ŋeš\\}ig i₃                                  & P117404                                         & 4                                               & 0                                               & ig{[}door{]}N\\_i{[}oil{]}N                     & door                                           \\\\\n",
       "\t  6                                              & P128345.2                                       & o 1                                             & garig{[}comb{]}N siki{[}hair{]}N                & \\{ŋeš\\}ga-rig₂ siki                           & P128345                                         & 2                                               & 0                                               & garig{[}comb{]}N\\_siki{[}hair{]}N              & comb                                           \\\\\n",
       "\t  7                                              & P128345.3                                       & o 2                                             & garig{[}comb{]}N siki-siki{[}NA{]}NA            & \\{ŋeš\\}ga-rig₂ siki-siki                      & P128345                                         & 3                                               & 0                                               & garig{[}comb{]}N\\_siki-siki{[}NA{]}NA          & NA                                             \\\\\n",
       "\t  8                                              & P128345.4                                       & o 3                                             & garig{[}comb{]}N saŋdu{[}head{]}N               & \\{ŋeš\\}ga-rig₂ saŋ-du                         & P128345                                         & 4                                               & 0                                               & garig{[}comb{]}N\\_saŋdu{[}head{]}N             & comb                                           \\\\\n",
       "\t  9                                        & P224980.4                                 & o i 1                                     & gigir{[}chariot{]}N                       & \\{ŋeš\\}gigir                            & P224980                                   & 4                                         & 0                                         & gigir{[}chariot{]}N                       & chariot                                  \\\\\n",
       "\t 10                                              & P224980.5                                       & o i 2                                           & e{[}house{]}N gigir{[}chariot{]}N               & \\{ŋeš\\}e₂ gigir                               & P224980                                         & 5                                               & 0                                               & e{[}house{]}N\\_gigir{[}chariot{]}N             & chariot                                        \\\\\n",
       "\t 11                                                    & P224980.6                                             & o i 3                                                 & e{[}house{]}N usan{[}whip{]}N gigir{[}chariot{]}N     & \\{ŋeš\\}e₂ usan₃ gigir                               & P224980                                               & 6                                                     & 0                                                     & e{[}house{]}N\\_usan{[}whip{]}N\\_gigir{[}chariot{]}N & chariot                                              \\\\\n",
       "\t 12                                              & P224986.4                                       & o i 1                                           & guza{[}chair{]}N anše{[}equid{]}N               & \\{ŋeš\\}gu-za anše                             & P224986                                         & 4                                               & 0                                               & guza{[}chair{]}N\\_anše{[}equid{]}N             & chair                                          \\\\\n",
       "\t 13                                              & P224986.5                                       & o i 2                                           & guza{[}chair{]}N kaskal{[}way{]}N               & \\{ŋeš\\}gu-za kaskal                           & P224986                                         & 5                                               & 0                                               & guza{[}chair{]}N\\_kaskal{[}way{]}N             & chair                                          \\\\\n",
       "\t 14                                              & P224986.6                                       & o i 3                                           & guza{[}chair{]}N zir{[}break{]}V/t              & \\{ŋeš\\}gu-za zi                               & P224986                                         & 6                                               & 0                                               & guza{[}chair{]}N\\_zir{[}break{]}V/t            & NA                                             \\\\\n",
       "\t 15                                            & P224994.4                                     & o i 1                                         & \\{ŋeš\\}x-x{[}NA{]}NA                        & \\{ŋeš\\}x-x                                  & P224994                                       & 4                                             & 0                                             & \\{ŋeš\\}x-x{[}NA{]}NA                        & NA                                           \\\\\n",
       "\t 16                                            & P224994.5                                     & o i 2                                         & \\{ŋeš\\}SI-x{[}NA{]}NA                       & \\{ŋeš\\}SI-x                                 & P224994                                       & 5                                             & 0                                             & \\{ŋeš\\}SI-x{[}NA{]}NA                       & NA                                           \\\\\n",
       "\t 17                                            & P224994.6                                     & o i 3                                         & \\{ŋeš\\}šu-x{[}NA{]}NA                       & \\{ŋeš\\}šu-x                                 & P224994                                       & 6                                             & 0                                             & \\{ŋeš\\}šu-x{[}NA{]}NA                       & NA                                           \\\\\n",
       "\t 18                                        & P224996.4                                 & o i 1                                     & guza{[}chair{]}N                          & \\{ŋeš\\}gu-za                            & P224996                                   & 4                                         & 0                                         & guza{[}chair{]}N                          & chair                                    \\\\\n",
       "\t 19                                              & P224996.5                                       & o i 2                                           & guza{[}chair{]}N gid{[}long{]}V/i               & \\{ŋeš\\}gu-za gid₂                             & P224996                                         & 5                                               & 0                                               & guza{[}chair{]}N\\_gid{[}long{]}V/i             & chair                                          \\\\\n",
       "\t 20                                              & P224996.6                                       & o i 3                                           & guza{[}chair{]}N sirda{[}cnne{]}N               & \\{ŋeš\\}gu-za sir₂-da                          & P224996                                         & 6                                               & 0                                               & guza{[}chair{]}N\\_sirda{[}cnne{]}N             & chair                                          \\\\\n",
       "\t 21                                        & P225006.4                                 & o i 1                                     & ig{[}door{]}N                             & \\{ŋeš\\}ig                               & P225006                                   & 4                                         & 0                                         & ig{[}door{]}N                             & door                                     \\\\\n",
       "\t 22                                              & P225006.5                                       & o i 2                                           & suku{[}pole{]}N ig{[}door{]}N                   & \\{ŋeš\\}suku₅ ig                               & P225006                                         & 5                                               & 0                                               & suku{[}pole{]}N\\_ig{[}door{]}N                 & door                                           \\\\\n",
       "\t 23                                              & P225006.6                                       & o i 3                                           & zara{[}pivot{]}N ig{[}door{]}N                  & \\{ŋeš\\}za-ra ig                               & P225006                                         & 6                                               & 0                                               & zara{[}pivot{]}N\\_ig{[}door{]}N                & NA                                             \\\\\n",
       "\t 24                                            & P225023.4                                     & o i 1                                         & \\{ŋeš\\}x{[}NA{]}NA                          & \\{ŋeš\\}x                                    & P225023                                       & 4                                             & 0                                             & \\{ŋeš\\}x{[}NA{]}NA                          & X.6                                          \\\\\n",
       "\t 25                                              & P225023.5                                       & o i 2                                           & emerah{[}jug{]}N x{[}NA{]}NA                    & \\{ŋeš\\}emerah x                               & P225023                                         & 5                                               & 0                                               & emerah{[}jug{]}N\\_x{[}NA{]}NA                  & NA                                             \\\\\n",
       "\t 26                                              & P225023.6                                       & o i 3                                           & emerah{[}jug{]}N x{[}NA{]}NA                    & \\{ŋeš\\}emerah x                               & P225023                                         & 6                                               & 0                                               & emerah{[}jug{]}N\\_x{[}NA{]}NA                  & NA                                             \\\\\n",
       "\t 27                                        & P225033.4                                 & o i 1                                     & targul{[}pole{]}N                         & \\{ŋeš\\}dar-gul                          & P225033                                   & 4                                         & 0                                         & targul{[}pole{]}N                         & pole                                     \\\\\n",
       "\t 28                                        & P225033.5                                 & o i 2                                     & targul{[}pole{]}N                         & \\{ŋeš\\}dar-gul-la₂                      & P225033                                   & 5                                         & 0                                         & targul{[}pole{]}N                         & pole                                     \\\\\n",
       "\t 29                                        & P225033.6                                 & o i 3                                     & garig{[}comb{]}N                          & \\{ŋeš\\}ga-rig₂                          & P225033                                   & 6                                         & 0                                         & garig{[}comb{]}N                          & comb                                     \\\\\n",
       "\t ⋮ & ⋮ & ⋮ & ⋮ & ⋮ & ⋮ & ⋮ & ⋮ & ⋮ & ⋮\\\\\n",
       "\t 5085                           & Q000039.749                    & 678                            & dih{[}weed{]}N                 & \\{ŋeš\\}dih₃                  & Q000039                        & 749                            & 0                              & dih{[}weed{]}N                 & weed                          \\\\\n",
       "\t 5086                                 & Q000039.750                          & 679                                  & dih{[}weed{]}N kur{[}mountain{]}N    & \\{ŋeš\\}dih₃ kur                    & Q000039                              & 750                                  & 0                                    & dih{[}weed{]}N\\_kur{[}mountain{]}N  & weed                                \\\\\n",
       "\t 5087                           & Q000039.751                    & 680                            & raba{[}clamp{]}N               & \\{ŋeš\\}raba                  & Q000039                        & 751                            & 0                              & raba{[}clamp{]}N               & NA                            \\\\\n",
       "\t 5088                           & Q000039.752                    & 681                            & ešgiri{[}staff{]}N             & ŋeš-giri₁₉                     & Q000039                        & 752                            & 0                              & ešgiri{[}staff{]}N             & staff.1                       \\\\\n",
       "\t 5089                           & Q000039.753                    & 682                            & kunsig{[}bristle{]}N           & \\{ŋeš\\}kun-sigₓ(UMBIN)  & Q000039                        & 753                            & 0                              & kunsig{[}bristle{]}N           & staff.1                       \\\\\n",
       "\t 5090                           & Q000039.754                    & 683                            & nisiki{[}comb{]}N              & \\{ŋeš\\}niŋ₂-sigₓ(UMBIN) & Q000039                        & 754                            & 0                              & nisiki{[}comb{]}N              & NA                            \\\\\n",
       "\t 5091                           & Q000039.755                    & 684                            & šaŋanla{[}trader{]}N           & \\{ŋeš\\}šaŋan-la₂             & Q000039                        & 755                            & 0                              & šaŋanla{[}trader{]}N           & NA                            \\\\\n",
       "\t 5092                                 & Q000039.756                          & 685                                  & u{[}sleep{]}N ku{[}place{]}V/t       & \\{ŋeš\\}u₃ ku                       & Q000039                              & 756                                  & 0                                    & u{[}sleep{]}N\\_ku{[}place{]}V/t     & NA                                  \\\\\n",
       "\t 5093                               & Q000039.757                        & 686                                & \\{ŋeš\\}x{[}NA{]}NA               & \\{ŋeš\\}x                         & Q000039                            & 757                                & 0                                  & \\{ŋeš\\}x{[}NA{]}NA               & X.6                               \\\\\n",
       "\t 5094                               & Q000039.758                        & 687                                & \\{ŋeš\\}x{[}NA{]}NA               & \\{ŋeš\\}x                         & Q000039                            & 758                                & 0                                  & \\{ŋeš\\}x{[}NA{]}NA               & X.6                               \\\\\n",
       "\t 5095                           & Q000039.759                    & 688                            & ŋušur{[}beam{]}N               & \\{ŋeš\\}ur₂                   & Q000039                        & 759                            & 0                              & ŋušur{[}beam{]}N               & NA                            \\\\\n",
       "\t 5096                           & Q000039.760                    & 689                            & ŋešdubak{[}board{]}N           & ŋeš-dub                        & Q000039                        & 760                            & 0                              & ŋešdubak{[}board{]}N           & board.1                       \\\\\n",
       "\t 5097                           & Q000039.761                    & 690                            & ŋeššu{[}manacles{]}N           & ŋeš-šu                         & Q000039                        & 761                            & 0                              & ŋeššu{[}manacles{]}N           & board.1                       \\\\\n",
       "\t 5098                           & Q000039.762                    & 691                            & ŋešgu{[}stock{]}N              & ŋeš-gu₂                        & Q000039                        & 762                            & 0                              & ŋešgu{[}stock{]}N              & board.1                       \\\\\n",
       "\t 5099                                 & Q000039.763                          & 692                                  & antibal{[}sign{]}N gu{[}eat{]}V/t    & \\{ŋeš\\}an-ti-bal gu₇               & Q000039                              & 763                                  & 0                                    & antibal{[}sign{]}N\\_gu{[}eat{]}V/t  & sign\\_eat                          \\\\\n",
       "\t 5100                           & Q000039.764                    & 693                            & dur{[}balk{]}N                 & \\{ŋeš\\}dur                   & Q000039                        & 764                            & 0                              & dur{[}balk{]}N                 & sign\\_eat                    \\\\\n",
       "\t 5101                                 & Q000039.765                          & 694                                  & dur{[}balk{]}N si{[}horn{]}N         & \\{ŋeš\\}dur si                      & Q000039                              & 765                                  & 0                                    & dur{[}balk{]}N\\_si{[}horn{]}N       & sign\\_eat                          \\\\\n",
       "\t 5102                                 & Q000039.766                          & 695                                  & dur{[}balk{]}N piš-piš{[}NA{]}NA     & \\{ŋeš\\}dur piš-piš                 & Q000039                              & 766                                  & 0                                    & dur{[}balk{]}N\\_piš-piš{[}NA{]}NA   & sign\\_eat                          \\\\\n",
       "\t 5103                           & Q000039.767                    & 696                            & alan{[}statue{]}N              & \\{ŋeš\\}alam                  & Q000039                        & 767                            & 0                              & alan{[}statue{]}N              & NA                            \\\\\n",
       "\t 5104                           & Q000039.768                    & 697                            & az{[}bear{]}N                  & \\{ŋeš\\}az                    & Q000039                        & 768                            & 0                              & az{[}bear{]}N                  & NA                            \\\\\n",
       "\t 5105                           & Q000039.769                    & 698                            & piriŋ{[}lion{]}N               & \\{ŋeš\\}piriŋ                 & Q000039                        & 769                            & 0                              & piriŋ{[}lion{]}N               & NA                            \\\\\n",
       "\t 5106                           & Q000039.770                    & 699                            & nemur{[}leopard{]}N            & \\{ŋeš\\}nemur                 & Q000039                        & 770                            & 0                              & nemur{[}leopard{]}N            & NA                            \\\\\n",
       "\t 5107                           & Q000039.771                    & 700                            & ur{[}dog{]}N                   & \\{ŋeš\\}ur                    & Q000039                        & 771                            & 0                              & ur{[}dog{]}N                   & NA                            \\\\\n",
       "\t 5108                           & Q000039.772                    & 701                            & zana{[}doll{]}N                & \\{ŋeš\\}za-na                 & Q000039                        & 772                            & 0                              & zana{[}doll{]}N                & doll                          \\\\\n",
       "\t 5109                                 & Q000039.773                          & 702                                  & e{[}house{]}N zana{[}doll{]}N        & \\{ŋeš\\}e₂ za-na                    & Q000039                              & 773                                  & 0                                    & e{[}house{]}N\\_zana{[}doll{]}N      & doll                                \\\\\n",
       "\t 5110                           & Q000039.774                    & 703                            & namra{[}booty{]}N              & \\{ŋeš\\}nam-ra                & Q000039                        & 774                            & 0                              & namra{[}booty{]}N              & NA                            \\\\\n",
       "\t 5111                           & Q000039.775                    & 704                            & šaʾuša{[}lance{]}N             & \\{ŋeš\\}ša-u₁₈-ša             & Q000039                        & 775                            & 0                              & šaʾuša{[}lance{]}N             & NA                            \\\\\n",
       "\t 5112                           & Q000039.776                    & 705                            & argibil{[}structure{]}N        & \\{ŋeš\\}ar-gibil₂             & Q000039                        & 776                            & 0                              & argibil{[}structure{]}N        & NA                            \\\\\n",
       "\t 5113                                 & Q000039.777                          & 706                                  & ŋeš{[}tree{]}N šuniŋin{[}total{]}N   & ŋeš šu-niŋin₂                        & Q000039                              & 777                                  & 0                                    & ŋeš{[}tree{]}N\\_šuniŋin{[}total{]}N & NA                                  \\\\\n",
       "\t 5114                                 & Q000039.778                          & 707                                  & Nisaba{[}1{]}DN zamin{[}lyre{]}N     & \\{d\\}nisaba za₃-mi₂                & Q000039                              & 778                                  & 0                                    & Nisaba{[}1{]}DN\\_zamin{[}lyre{]}N   & NA                                  \\\\\n",
       "\\end{tabular}\n"
      ],
      "text/markdown": [
       "\n",
       "X | id_line | label | lemma | base | id_text | line | skip | entry | section | \n",
       "|---|---|---|---|---|---|---|---|---|---|---|---|---|---|---|---|---|---|---|---|---|---|---|---|---|---|---|---|---|---|---|---|---|---|---|---|---|---|---|---|---|---|---|---|---|---|---|---|---|---|---|---|---|---|---|---|---|---|---|---|---|\n",
       "|  0                                    | P117395.2                             | o 1                                   | ŋešed[key]N                           | {ŋeš}e₃-a                             | P117395                               | 2                                     | 0                                     | ŋešed[key]N                           | NA                                    | \n",
       "|  1                                    | P117395.3                             | o 2                                   | pakud[~tree]N                         | {ŋeš}pa-kud                           | P117395                               | 3                                     | 0                                     | pakud[~tree]N                         | NA                                    | \n",
       "|  2                                    | P117395.4                             | o 3                                   | raba[clamp]N                          | {ŋeš}raba                             | P117395                               | 4                                     | 0                                     | raba[clamp]N                          | NA                                    | \n",
       "|  3                                    | P117404.2                             | o 1                                   | ig[door]N eren[cedar]N                | {ŋeš}ig {ŋeš}eren                     | P117404                               | 2                                     | 0                                     | ig[door]N_eren[cedar]N                | NA                                    | \n",
       "|  4                                    | P117404.3                             | o 2                                   | ig[door]N dib[board]N                 | {ŋeš}ig dib                           | P117404                               | 3                                     | 0                                     | ig[door]N_dib[board]N                 | door                                  | \n",
       "|  5                                    | P117404.4                             | o 3                                   | ig[door]N i[oil]N                     | {ŋeš}ig i₃                            | P117404                               | 4                                     | 0                                     | ig[door]N_i[oil]N                     | door                                  | \n",
       "|  6                                    | P128345.2                             | o 1                                   | garig[comb]N siki[hair]N              | {ŋeš}ga-rig₂ siki                     | P128345                               | 2                                     | 0                                     | garig[comb]N_siki[hair]N              | comb                                  | \n",
       "|  7                                    | P128345.3                             | o 2                                   | garig[comb]N siki-siki[NA]NA          | {ŋeš}ga-rig₂ siki-siki                | P128345                               | 3                                     | 0                                     | garig[comb]N_siki-siki[NA]NA          | NA                                    | \n",
       "|  8                                    | P128345.4                             | o 3                                   | garig[comb]N saŋdu[head]N             | {ŋeš}ga-rig₂ saŋ-du                   | P128345                               | 4                                     | 0                                     | garig[comb]N_saŋdu[head]N             | comb                                  | \n",
       "|  9                                    | P224980.4                             | o i 1                                 | gigir[chariot]N                       | {ŋeš}gigir                            | P224980                               | 4                                     | 0                                     | gigir[chariot]N                       | chariot                               | \n",
       "| 10                                    | P224980.5                             | o i 2                                 | e[house]N gigir[chariot]N             | {ŋeš}e₂ gigir                         | P224980                               | 5                                     | 0                                     | e[house]N_gigir[chariot]N             | chariot                               | \n",
       "| 11                                    | P224980.6                             | o i 3                                 | e[house]N usan[whip]N gigir[chariot]N | {ŋeš}e₂ usan₃ gigir                   | P224980                               | 6                                     | 0                                     | e[house]N_usan[whip]N_gigir[chariot]N | chariot                               | \n",
       "| 12                                    | P224986.4                             | o i 1                                 | guza[chair]N anše[equid]N             | {ŋeš}gu-za anše                       | P224986                               | 4                                     | 0                                     | guza[chair]N_anše[equid]N             | chair                                 | \n",
       "| 13                                    | P224986.5                             | o i 2                                 | guza[chair]N kaskal[way]N             | {ŋeš}gu-za kaskal                     | P224986                               | 5                                     | 0                                     | guza[chair]N_kaskal[way]N             | chair                                 | \n",
       "| 14                                    | P224986.6                             | o i 3                                 | guza[chair]N zir[break]V/t            | {ŋeš}gu-za zi                         | P224986                               | 6                                     | 0                                     | guza[chair]N_zir[break]V/t            | NA                                    | \n",
       "| 15                                    | P224994.4                             | o i 1                                 | {ŋeš}x-x[NA]NA                        | {ŋeš}x-x                              | P224994                               | 4                                     | 0                                     | {ŋeš}x-x[NA]NA                        | NA                                    | \n",
       "| 16                                    | P224994.5                             | o i 2                                 | {ŋeš}SI-x[NA]NA                       | {ŋeš}SI-x                             | P224994                               | 5                                     | 0                                     | {ŋeš}SI-x[NA]NA                       | NA                                    | \n",
       "| 17                                    | P224994.6                             | o i 3                                 | {ŋeš}šu-x[NA]NA                       | {ŋeš}šu-x                             | P224994                               | 6                                     | 0                                     | {ŋeš}šu-x[NA]NA                       | NA                                    | \n",
       "| 18                                    | P224996.4                             | o i 1                                 | guza[chair]N                          | {ŋeš}gu-za                            | P224996                               | 4                                     | 0                                     | guza[chair]N                          | chair                                 | \n",
       "| 19                                    | P224996.5                             | o i 2                                 | guza[chair]N gid[long]V/i             | {ŋeš}gu-za gid₂                       | P224996                               | 5                                     | 0                                     | guza[chair]N_gid[long]V/i             | chair                                 | \n",
       "| 20                                    | P224996.6                             | o i 3                                 | guza[chair]N sirda[cnne]N             | {ŋeš}gu-za sir₂-da                    | P224996                               | 6                                     | 0                                     | guza[chair]N_sirda[cnne]N             | chair                                 | \n",
       "| 21                                    | P225006.4                             | o i 1                                 | ig[door]N                             | {ŋeš}ig                               | P225006                               | 4                                     | 0                                     | ig[door]N                             | door                                  | \n",
       "| 22                                    | P225006.5                             | o i 2                                 | suku[pole]N ig[door]N                 | {ŋeš}suku₅ ig                         | P225006                               | 5                                     | 0                                     | suku[pole]N_ig[door]N                 | door                                  | \n",
       "| 23                                    | P225006.6                             | o i 3                                 | zara[pivot]N ig[door]N                | {ŋeš}za-ra ig                         | P225006                               | 6                                     | 0                                     | zara[pivot]N_ig[door]N                | NA                                    | \n",
       "| 24                                    | P225023.4                             | o i 1                                 | {ŋeš}x[NA]NA                          | {ŋeš}x                                | P225023                               | 4                                     | 0                                     | {ŋeš}x[NA]NA                          | X.6                                   | \n",
       "| 25                                    | P225023.5                             | o i 2                                 | emerah[jug]N x[NA]NA                  | {ŋeš}emerah x                         | P225023                               | 5                                     | 0                                     | emerah[jug]N_x[NA]NA                  | NA                                    | \n",
       "| 26                                    | P225023.6                             | o i 3                                 | emerah[jug]N x[NA]NA                  | {ŋeš}emerah x                         | P225023                               | 6                                     | 0                                     | emerah[jug]N_x[NA]NA                  | NA                                    | \n",
       "| 27                                    | P225033.4                             | o i 1                                 | targul[pole]N                         | {ŋeš}dar-gul                          | P225033                               | 4                                     | 0                                     | targul[pole]N                         | pole                                  | \n",
       "| 28                                    | P225033.5                             | o i 2                                 | targul[pole]N                         | {ŋeš}dar-gul-la₂                      | P225033                               | 5                                     | 0                                     | targul[pole]N                         | pole                                  | \n",
       "| 29                                    | P225033.6                             | o i 3                                 | garig[comb]N                          | {ŋeš}ga-rig₂                          | P225033                               | 6                                     | 0                                     | garig[comb]N                          | comb                                  | \n",
       "| ⋮ | ⋮ | ⋮ | ⋮ | ⋮ | ⋮ | ⋮ | ⋮ | ⋮ | ⋮ | \n",
       "| 5085                       | Q000039.749                | 678                        | dih[weed]N                 | {ŋeš}dih₃                  | Q000039                    | 749                        | 0                          | dih[weed]N                 | weed                       | \n",
       "| 5086                       | Q000039.750                | 679                        | dih[weed]N kur[mountain]N  | {ŋeš}dih₃ kur              | Q000039                    | 750                        | 0                          | dih[weed]N_kur[mountain]N  | weed                       | \n",
       "| 5087                       | Q000039.751                | 680                        | raba[clamp]N               | {ŋeš}raba                  | Q000039                    | 751                        | 0                          | raba[clamp]N               | NA                         | \n",
       "| 5088                       | Q000039.752                | 681                        | ešgiri[staff]N             | ŋeš-giri₁₉                 | Q000039                    | 752                        | 0                          | ešgiri[staff]N             | staff.1                    | \n",
       "| 5089                       | Q000039.753                | 682                        | kunsig[bristle]N           | {ŋeš}kun-sigₓ(UMBIN)  | Q000039                    | 753                        | 0                          | kunsig[bristle]N           | staff.1                    | \n",
       "| 5090                       | Q000039.754                | 683                        | nisiki[comb]N              | {ŋeš}niŋ₂-sigₓ(UMBIN) | Q000039                    | 754                        | 0                          | nisiki[comb]N              | NA                         | \n",
       "| 5091                       | Q000039.755                | 684                        | šaŋanla[trader]N           | {ŋeš}šaŋan-la₂             | Q000039                    | 755                        | 0                          | šaŋanla[trader]N           | NA                         | \n",
       "| 5092                       | Q000039.756                | 685                        | u[sleep]N ku[place]V/t     | {ŋeš}u₃ ku                 | Q000039                    | 756                        | 0                          | u[sleep]N_ku[place]V/t     | NA                         | \n",
       "| 5093                       | Q000039.757                | 686                        | {ŋeš}x[NA]NA               | {ŋeš}x                     | Q000039                    | 757                        | 0                          | {ŋeš}x[NA]NA               | X.6                        | \n",
       "| 5094                       | Q000039.758                | 687                        | {ŋeš}x[NA]NA               | {ŋeš}x                     | Q000039                    | 758                        | 0                          | {ŋeš}x[NA]NA               | X.6                        | \n",
       "| 5095                       | Q000039.759                | 688                        | ŋušur[beam]N               | {ŋeš}ur₂                   | Q000039                    | 759                        | 0                          | ŋušur[beam]N               | NA                         | \n",
       "| 5096                       | Q000039.760                | 689                        | ŋešdubak[board]N           | ŋeš-dub                    | Q000039                    | 760                        | 0                          | ŋešdubak[board]N           | board.1                    | \n",
       "| 5097                       | Q000039.761                | 690                        | ŋeššu[manacles]N           | ŋeš-šu                     | Q000039                    | 761                        | 0                          | ŋeššu[manacles]N           | board.1                    | \n",
       "| 5098                       | Q000039.762                | 691                        | ŋešgu[stock]N              | ŋeš-gu₂                    | Q000039                    | 762                        | 0                          | ŋešgu[stock]N              | board.1                    | \n",
       "| 5099                       | Q000039.763                | 692                        | antibal[sign]N gu[eat]V/t  | {ŋeš}an-ti-bal gu₇         | Q000039                    | 763                        | 0                          | antibal[sign]N_gu[eat]V/t  | sign_eat                   | \n",
       "| 5100                       | Q000039.764                | 693                        | dur[balk]N                 | {ŋeš}dur                   | Q000039                    | 764                        | 0                          | dur[balk]N                 | sign_eat                   | \n",
       "| 5101                       | Q000039.765                | 694                        | dur[balk]N si[horn]N       | {ŋeš}dur si                | Q000039                    | 765                        | 0                          | dur[balk]N_si[horn]N       | sign_eat                   | \n",
       "| 5102                       | Q000039.766                | 695                        | dur[balk]N piš-piš[NA]NA   | {ŋeš}dur piš-piš           | Q000039                    | 766                        | 0                          | dur[balk]N_piš-piš[NA]NA   | sign_eat                   | \n",
       "| 5103                       | Q000039.767                | 696                        | alan[statue]N              | {ŋeš}alam                  | Q000039                    | 767                        | 0                          | alan[statue]N              | NA                         | \n",
       "| 5104                       | Q000039.768                | 697                        | az[bear]N                  | {ŋeš}az                    | Q000039                    | 768                        | 0                          | az[bear]N                  | NA                         | \n",
       "| 5105                       | Q000039.769                | 698                        | piriŋ[lion]N               | {ŋeš}piriŋ                 | Q000039                    | 769                        | 0                          | piriŋ[lion]N               | NA                         | \n",
       "| 5106                       | Q000039.770                | 699                        | nemur[leopard]N            | {ŋeš}nemur                 | Q000039                    | 770                        | 0                          | nemur[leopard]N            | NA                         | \n",
       "| 5107                       | Q000039.771                | 700                        | ur[dog]N                   | {ŋeš}ur                    | Q000039                    | 771                        | 0                          | ur[dog]N                   | NA                         | \n",
       "| 5108                       | Q000039.772                | 701                        | zana[doll]N                | {ŋeš}za-na                 | Q000039                    | 772                        | 0                          | zana[doll]N                | doll                       | \n",
       "| 5109                       | Q000039.773                | 702                        | e[house]N zana[doll]N      | {ŋeš}e₂ za-na              | Q000039                    | 773                        | 0                          | e[house]N_zana[doll]N      | doll                       | \n",
       "| 5110                       | Q000039.774                | 703                        | namra[booty]N              | {ŋeš}nam-ra                | Q000039                    | 774                        | 0                          | namra[booty]N              | NA                         | \n",
       "| 5111                       | Q000039.775                | 704                        | šaʾuša[lance]N             | {ŋeš}ša-u₁₈-ša             | Q000039                    | 775                        | 0                          | šaʾuša[lance]N             | NA                         | \n",
       "| 5112                       | Q000039.776                | 705                        | argibil[structure]N        | {ŋeš}ar-gibil₂             | Q000039                    | 776                        | 0                          | argibil[structure]N        | NA                         | \n",
       "| 5113                       | Q000039.777                | 706                        | ŋeš[tree]N šuniŋin[total]N | ŋeš šu-niŋin₂              | Q000039                    | 777                        | 0                          | ŋeš[tree]N_šuniŋin[total]N | NA                         | \n",
       "| 5114                       | Q000039.778                | 707                        | Nisaba[1]DN zamin[lyre]N   | {d}nisaba za₃-mi₂          | Q000039                    | 778                        | 0                          | Nisaba[1]DN_zamin[lyre]N   | NA                         | \n",
       "\n",
       "\n"
      ],
      "text/plain": [
       "     X    id_line     label lemma                                \n",
       "1     0   P117395.2   o 1   ŋešed[key]N                          \n",
       "2     1   P117395.3   o 2   pakud[~tree]N                        \n",
       "3     2   P117395.4   o 3   raba[clamp]N                         \n",
       "4     3   P117404.2   o 1   ig[door]N eren[cedar]N               \n",
       "5     4   P117404.3   o 2   ig[door]N dib[board]N                \n",
       "6     5   P117404.4   o 3   ig[door]N i[oil]N                    \n",
       "7     6   P128345.2   o 1   garig[comb]N siki[hair]N             \n",
       "8     7   P128345.3   o 2   garig[comb]N siki-siki[NA]NA         \n",
       "9     8   P128345.4   o 3   garig[comb]N saŋdu[head]N            \n",
       "10    9   P224980.4   o i 1 gigir[chariot]N                      \n",
       "11   10   P224980.5   o i 2 e[house]N gigir[chariot]N            \n",
       "12   11   P224980.6   o i 3 e[house]N usan[whip]N gigir[chariot]N\n",
       "13   12   P224986.4   o i 1 guza[chair]N anše[equid]N            \n",
       "14   13   P224986.5   o i 2 guza[chair]N kaskal[way]N            \n",
       "15   14   P224986.6   o i 3 guza[chair]N zir[break]V/t           \n",
       "16   15   P224994.4   o i 1 {ŋeš}x-x[NA]NA                       \n",
       "17   16   P224994.5   o i 2 {ŋeš}SI-x[NA]NA                      \n",
       "18   17   P224994.6   o i 3 {ŋeš}šu-x[NA]NA                      \n",
       "19   18   P224996.4   o i 1 guza[chair]N                         \n",
       "20   19   P224996.5   o i 2 guza[chair]N gid[long]V/i            \n",
       "21   20   P224996.6   o i 3 guza[chair]N sirda[cnne]N            \n",
       "22   21   P225006.4   o i 1 ig[door]N                            \n",
       "23   22   P225006.5   o i 2 suku[pole]N ig[door]N                \n",
       "24   23   P225006.6   o i 3 zara[pivot]N ig[door]N               \n",
       "25   24   P225023.4   o i 1 {ŋeš}x[NA]NA                         \n",
       "26   25   P225023.5   o i 2 emerah[jug]N x[NA]NA                 \n",
       "27   26   P225023.6   o i 3 emerah[jug]N x[NA]NA                 \n",
       "28   27   P225033.4   o i 1 targul[pole]N                        \n",
       "29   28   P225033.5   o i 2 targul[pole]N                        \n",
       "30   29   P225033.6   o i 3 garig[comb]N                         \n",
       "⋮    ⋮    ⋮           ⋮     ⋮                                    \n",
       "5086 5085 Q000039.749 678   dih[weed]N                           \n",
       "5087 5086 Q000039.750 679   dih[weed]N kur[mountain]N            \n",
       "5088 5087 Q000039.751 680   raba[clamp]N                         \n",
       "5089 5088 Q000039.752 681   ešgiri[staff]N                       \n",
       "5090 5089 Q000039.753 682   kunsig[bristle]N                     \n",
       "5091 5090 Q000039.754 683   nisiki[comb]N                        \n",
       "5092 5091 Q000039.755 684   šaŋanla[trader]N                     \n",
       "5093 5092 Q000039.756 685   u[sleep]N ku[place]V/t               \n",
       "5094 5093 Q000039.757 686   {ŋeš}x[NA]NA                         \n",
       "5095 5094 Q000039.758 687   {ŋeš}x[NA]NA                         \n",
       "5096 5095 Q000039.759 688   ŋušur[beam]N                         \n",
       "5097 5096 Q000039.760 689   ŋešdubak[board]N                     \n",
       "5098 5097 Q000039.761 690   ŋeššu[manacles]N                     \n",
       "5099 5098 Q000039.762 691   ŋešgu[stock]N                        \n",
       "5100 5099 Q000039.763 692   antibal[sign]N gu[eat]V/t            \n",
       "5101 5100 Q000039.764 693   dur[balk]N                           \n",
       "5102 5101 Q000039.765 694   dur[balk]N si[horn]N                 \n",
       "5103 5102 Q000039.766 695   dur[balk]N piš-piš[NA]NA             \n",
       "5104 5103 Q000039.767 696   alan[statue]N                        \n",
       "5105 5104 Q000039.768 697   az[bear]N                            \n",
       "5106 5105 Q000039.769 698   piriŋ[lion]N                         \n",
       "5107 5106 Q000039.770 699   nemur[leopard]N                      \n",
       "5108 5107 Q000039.771 700   ur[dog]N                             \n",
       "5109 5108 Q000039.772 701   zana[doll]N                          \n",
       "5110 5109 Q000039.773 702   e[house]N zana[doll]N                \n",
       "5111 5110 Q000039.774 703   namra[booty]N                        \n",
       "5112 5111 Q000039.775 704   šaʾuša[lance]N                       \n",
       "5113 5112 Q000039.776 705   argibil[structure]N                  \n",
       "5114 5113 Q000039.777 706   ŋeš[tree]N šuniŋin[total]N           \n",
       "5115 5114 Q000039.778 707   Nisaba[1]DN zamin[lyre]N             \n",
       "     base                       id_text line skip\n",
       "1    {ŋeš}e₃-a                  P117395 2    0   \n",
       "2    {ŋeš}pa-kud                P117395 3    0   \n",
       "3    {ŋeš}raba                  P117395 4    0   \n",
       "4    {ŋeš}ig {ŋeš}eren          P117404 2    0   \n",
       "5    {ŋeš}ig dib                P117404 3    0   \n",
       "6    {ŋeš}ig i₃                 P117404 4    0   \n",
       "7    {ŋeš}ga-rig₂ siki          P128345 2    0   \n",
       "8    {ŋeš}ga-rig₂ siki-siki     P128345 3    0   \n",
       "9    {ŋeš}ga-rig₂ saŋ-du        P128345 4    0   \n",
       "10   {ŋeš}gigir                 P224980 4    0   \n",
       "11   {ŋeš}e₂ gigir              P224980 5    0   \n",
       "12   {ŋeš}e₂ usan₃ gigir        P224980 6    0   \n",
       "13   {ŋeš}gu-za anše            P224986 4    0   \n",
       "14   {ŋeš}gu-za kaskal          P224986 5    0   \n",
       "15   {ŋeš}gu-za zi              P224986 6    0   \n",
       "16   {ŋeš}x-x                   P224994 4    0   \n",
       "17   {ŋeš}SI-x                  P224994 5    0   \n",
       "18   {ŋeš}šu-x                  P224994 6    0   \n",
       "19   {ŋeš}gu-za                 P224996 4    0   \n",
       "20   {ŋeš}gu-za gid₂            P224996 5    0   \n",
       "21   {ŋeš}gu-za sir₂-da         P224996 6    0   \n",
       "22   {ŋeš}ig                    P225006 4    0   \n",
       "23   {ŋeš}suku₅ ig              P225006 5    0   \n",
       "24   {ŋeš}za-ra ig              P225006 6    0   \n",
       "25   {ŋeš}x                     P225023 4    0   \n",
       "26   {ŋeš}emerah x              P225023 5    0   \n",
       "27   {ŋeš}emerah x              P225023 6    0   \n",
       "28   {ŋeš}dar-gul               P225033 4    0   \n",
       "29   {ŋeš}dar-gul-la₂           P225033 5    0   \n",
       "30   {ŋeš}ga-rig₂               P225033 6    0   \n",
       "⋮    ⋮                          ⋮       ⋮    ⋮   \n",
       "5086 {ŋeš}dih₃                  Q000039 749  0   \n",
       "5087 {ŋeš}dih₃ kur              Q000039 750  0   \n",
       "5088 {ŋeš}raba                  Q000039 751  0   \n",
       "5089 ŋeš-giri₁₉                 Q000039 752  0   \n",
       "5090 {ŋeš}kun-sig\\u2093(UMBIN)  Q000039 753  0   \n",
       "5091 {ŋeš}niŋ₂-sig\\u2093(UMBIN) Q000039 754  0   \n",
       "5092 {ŋeš}šaŋan-la₂             Q000039 755  0   \n",
       "5093 {ŋeš}u₃ ku                 Q000039 756  0   \n",
       "5094 {ŋeš}x                     Q000039 757  0   \n",
       "5095 {ŋeš}x                     Q000039 758  0   \n",
       "5096 {ŋeš}ur₂                   Q000039 759  0   \n",
       "5097 ŋeš-dub                    Q000039 760  0   \n",
       "5098 ŋeš-šu                     Q000039 761  0   \n",
       "5099 ŋeš-gu₂                    Q000039 762  0   \n",
       "5100 {ŋeš}an-ti-bal gu₇         Q000039 763  0   \n",
       "5101 {ŋeš}dur                   Q000039 764  0   \n",
       "5102 {ŋeš}dur si                Q000039 765  0   \n",
       "5103 {ŋeš}dur piš-piš           Q000039 766  0   \n",
       "5104 {ŋeš}alam                  Q000039 767  0   \n",
       "5105 {ŋeš}az                    Q000039 768  0   \n",
       "5106 {ŋeš}piriŋ                 Q000039 769  0   \n",
       "5107 {ŋeš}nemur                 Q000039 770  0   \n",
       "5108 {ŋeš}ur                    Q000039 771  0   \n",
       "5109 {ŋeš}za-na                 Q000039 772  0   \n",
       "5110 {ŋeš}e₂ za-na              Q000039 773  0   \n",
       "5111 {ŋeš}nam-ra                Q000039 774  0   \n",
       "5112 {ŋeš}ša-u₁₈-ša             Q000039 775  0   \n",
       "5113 {ŋeš}ar-gibil₂             Q000039 776  0   \n",
       "5114 ŋeš šu-niŋin₂              Q000039 777  0   \n",
       "5115 {d}nisaba za₃-mi₂          Q000039 778  0   \n",
       "     entry                                 section \n",
       "1    ŋešed[key]N                           NA      \n",
       "2    pakud[~tree]N                         NA      \n",
       "3    raba[clamp]N                          NA      \n",
       "4    ig[door]N_eren[cedar]N                NA      \n",
       "5    ig[door]N_dib[board]N                 door    \n",
       "6    ig[door]N_i[oil]N                     door    \n",
       "7    garig[comb]N_siki[hair]N              comb    \n",
       "8    garig[comb]N_siki-siki[NA]NA          NA      \n",
       "9    garig[comb]N_saŋdu[head]N             comb    \n",
       "10   gigir[chariot]N                       chariot \n",
       "11   e[house]N_gigir[chariot]N             chariot \n",
       "12   e[house]N_usan[whip]N_gigir[chariot]N chariot \n",
       "13   guza[chair]N_anše[equid]N             chair   \n",
       "14   guza[chair]N_kaskal[way]N             chair   \n",
       "15   guza[chair]N_zir[break]V/t            NA      \n",
       "16   {ŋeš}x-x[NA]NA                        NA      \n",
       "17   {ŋeš}SI-x[NA]NA                       NA      \n",
       "18   {ŋeš}šu-x[NA]NA                       NA      \n",
       "19   guza[chair]N                          chair   \n",
       "20   guza[chair]N_gid[long]V/i             chair   \n",
       "21   guza[chair]N_sirda[cnne]N             chair   \n",
       "22   ig[door]N                             door    \n",
       "23   suku[pole]N_ig[door]N                 door    \n",
       "24   zara[pivot]N_ig[door]N                NA      \n",
       "25   {ŋeš}x[NA]NA                          X.6     \n",
       "26   emerah[jug]N_x[NA]NA                  NA      \n",
       "27   emerah[jug]N_x[NA]NA                  NA      \n",
       "28   targul[pole]N                         pole    \n",
       "29   targul[pole]N                         pole    \n",
       "30   garig[comb]N                          comb    \n",
       "⋮    ⋮                                     ⋮       \n",
       "5086 dih[weed]N                            weed    \n",
       "5087 dih[weed]N_kur[mountain]N             weed    \n",
       "5088 raba[clamp]N                          NA      \n",
       "5089 ešgiri[staff]N                        staff.1 \n",
       "5090 kunsig[bristle]N                      staff.1 \n",
       "5091 nisiki[comb]N                         NA      \n",
       "5092 šaŋanla[trader]N                      NA      \n",
       "5093 u[sleep]N_ku[place]V/t                NA      \n",
       "5094 {ŋeš}x[NA]NA                          X.6     \n",
       "5095 {ŋeš}x[NA]NA                          X.6     \n",
       "5096 ŋušur[beam]N                          NA      \n",
       "5097 ŋešdubak[board]N                      board.1 \n",
       "5098 ŋeššu[manacles]N                      board.1 \n",
       "5099 ŋešgu[stock]N                         board.1 \n",
       "5100 antibal[sign]N_gu[eat]V/t             sign_eat\n",
       "5101 dur[balk]N                            sign_eat\n",
       "5102 dur[balk]N_si[horn]N                  sign_eat\n",
       "5103 dur[balk]N_piš-piš[NA]NA              sign_eat\n",
       "5104 alan[statue]N                         NA      \n",
       "5105 az[bear]N                             NA      \n",
       "5106 piriŋ[lion]N                          NA      \n",
       "5107 nemur[leopard]N                       NA      \n",
       "5108 ur[dog]N                              NA      \n",
       "5109 zana[doll]N                           doll    \n",
       "5110 e[house]N_zana[doll]N                 doll    \n",
       "5111 namra[booty]N                         NA      \n",
       "5112 šaʾuša[lance]N                        NA      \n",
       "5113 argibil[structure]N                   NA      \n",
       "5114 ŋeš[tree]N_šuniŋin[total]N            NA      \n",
       "5115 Nisaba[1]DN_zamin[lyre]N              NA      "
      ]
     },
     "metadata": {},
     "output_type": "display_data"
    }
   ],
   "source": [
    "# for each entry in the corpus, identify which section it belongs to\n",
    "\n",
    "section_defs = Q39_sections\n",
    "for (i in 1:nrow(df)) {\n",
    "    entry = tolower(df$entry[i])\n",
    "    sections = names(which(sapply(section_defs, function(x) any(x == entry)) == TRUE))\n",
    "    if (length(sections) == 0) df$section[i] = NA\n",
    "    else df$section[i] = paste(sections, collapse = \":\")\n",
    "}\n",
    "df"
   ]
  },
  {
   "cell_type": "code",
   "execution_count": 94,
   "metadata": {
    "collapsed": false
   },
   "outputs": [
    {
     "data": {
      "text/html": [
       "<ol class=list-inline>\n",
       "\t<li>479</li>\n",
       "\t<li>1860</li>\n",
       "\t<li>2328</li>\n",
       "\t<li>4509</li>\n",
       "\t<li>4633</li>\n",
       "</ol>\n"
      ],
      "text/latex": [
       "\\begin{enumerate*}\n",
       "\\item 479\n",
       "\\item 1860\n",
       "\\item 2328\n",
       "\\item 4509\n",
       "\\item 4633\n",
       "\\end{enumerate*}\n"
      ],
      "text/markdown": [
       "1. 479\n",
       "2. 1860\n",
       "3. 2328\n",
       "4. 4509\n",
       "5. 4633\n",
       "\n",
       "\n"
      ],
      "text/plain": [
       "[1]  479 1860 2328 4509 4633"
      ]
     },
     "metadata": {},
     "output_type": "display_data"
    }
   ],
   "source": [
    "grep(\":\", df$section)"
   ]
  },
  {
   "cell_type": "code",
   "execution_count": 96,
   "metadata": {
    "collapsed": false
   },
   "outputs": [
    {
     "data": {
      "text/html": [
       "<table>\n",
       "<thead><tr><th></th><th scope=col>X</th><th scope=col>id_line</th><th scope=col>label</th><th scope=col>lemma</th><th scope=col>base</th><th scope=col>id_text</th><th scope=col>line</th><th scope=col>skip</th><th scope=col>entry</th><th scope=col>section</th></tr></thead>\n",
       "<tbody>\n",
       "\t<tr><th scope=row>479</th><td> 478            </td><td>P247864.280     </td><td>o v 28          </td><td>ŋešgana[pestle]N</td><td>ŋeš-gan-na      </td><td>P247864         </td><td>280             </td><td>0               </td><td>ŋešgana[pestle]N</td><td>X.2:mortar      </td></tr>\n",
       "\t<tr><th scope=row>1860</th><td>1859            </td><td>P273880.293     </td><td>b iii 17        </td><td>ŋešgana[pestle]N</td><td>ŋeš-gan-na      </td><td>P273880         </td><td>293             </td><td>0               </td><td>ŋešgana[pestle]N</td><td>X.2:mortar      </td></tr>\n",
       "\t<tr><th scope=row>2328</th><td>2327            </td><td>P312012.3       </td><td>3               </td><td>ŋešgana[pestle]N</td><td>ŋeš-gan-na      </td><td>P312012         </td><td>  3             </td><td>0               </td><td>ŋešgana[pestle]N</td><td>X.2:mortar      </td></tr>\n",
       "\t<tr><th scope=row>4509</th><td>4508            </td><td>Q000039.172     </td><td>145a            </td><td>ŋešgana[pestle]N</td><td>ŋeš-gana        </td><td>Q000039         </td><td>172             </td><td>0               </td><td>ŋešgana[pestle]N</td><td>X.2:mortar      </td></tr>\n",
       "\t<tr><th scope=row>4633</th><td>4632            </td><td>Q000039.296     </td><td>260             </td><td>ŋešgana[pestle]N</td><td>ŋeš-gan-na      </td><td>Q000039         </td><td>296             </td><td>0               </td><td>ŋešgana[pestle]N</td><td>X.2:mortar      </td></tr>\n",
       "</tbody>\n",
       "</table>\n"
      ],
      "text/latex": [
       "\\begin{tabular}{r|llllllllll}\n",
       "  & X & id\\_line & label & lemma & base & id\\_text & line & skip & entry & section\\\\\n",
       "\\hline\n",
       "\t479 &  478                 & P247864.280          & o v 28               & ŋešgana{[}pestle{]}N & ŋeš-gan-na           & P247864              & 280                  & 0                    & ŋešgana{[}pestle{]}N & X.2:mortar          \\\\\n",
       "\t1860 & 1859                 & P273880.293          & b iii 17             & ŋešgana{[}pestle{]}N & ŋeš-gan-na           & P273880              & 293                  & 0                    & ŋešgana{[}pestle{]}N & X.2:mortar          \\\\\n",
       "\t2328 & 2327                 & P312012.3            & 3                    & ŋešgana{[}pestle{]}N & ŋeš-gan-na           & P312012              &   3                  & 0                    & ŋešgana{[}pestle{]}N & X.2:mortar          \\\\\n",
       "\t4509 & 4508                 & Q000039.172          & 145a                 & ŋešgana{[}pestle{]}N & ŋeš-gana             & Q000039              & 172                  & 0                    & ŋešgana{[}pestle{]}N & X.2:mortar          \\\\\n",
       "\t4633 & 4632                 & Q000039.296          & 260                  & ŋešgana{[}pestle{]}N & ŋeš-gan-na           & Q000039              & 296                  & 0                    & ŋešgana{[}pestle{]}N & X.2:mortar          \\\\\n",
       "\\end{tabular}\n"
      ],
      "text/markdown": [
       "\n",
       "| <!--/--> | X | id_line | label | lemma | base | id_text | line | skip | entry | section | \n",
       "|---|---|---|---|---|\n",
       "| 479 |  478             | P247864.280      | o v 28           | ŋešgana[pestle]N | ŋeš-gan-na       | P247864          | 280              | 0                | ŋešgana[pestle]N | X.2:mortar       | \n",
       "| 1860 | 1859             | P273880.293      | b iii 17         | ŋešgana[pestle]N | ŋeš-gan-na       | P273880          | 293              | 0                | ŋešgana[pestle]N | X.2:mortar       | \n",
       "| 2328 | 2327             | P312012.3        | 3                | ŋešgana[pestle]N | ŋeš-gan-na       | P312012          |   3              | 0                | ŋešgana[pestle]N | X.2:mortar       | \n",
       "| 4509 | 4508             | Q000039.172      | 145a             | ŋešgana[pestle]N | ŋeš-gana         | Q000039          | 172              | 0                | ŋešgana[pestle]N | X.2:mortar       | \n",
       "| 4633 | 4632             | Q000039.296      | 260              | ŋešgana[pestle]N | ŋeš-gan-na       | Q000039          | 296              | 0                | ŋešgana[pestle]N | X.2:mortar       | \n",
       "\n",
       "\n"
      ],
      "text/plain": [
       "     X    id_line     label    lemma            base       id_text line skip\n",
       "479   478 P247864.280 o v 28   ŋešgana[pestle]N ŋeš-gan-na P247864 280  0   \n",
       "1860 1859 P273880.293 b iii 17 ŋešgana[pestle]N ŋeš-gan-na P273880 293  0   \n",
       "2328 2327 P312012.3   3        ŋešgana[pestle]N ŋeš-gan-na P312012   3  0   \n",
       "4509 4508 Q000039.172 145a     ŋešgana[pestle]N ŋeš-gana   Q000039 172  0   \n",
       "4633 4632 Q000039.296 260      ŋešgana[pestle]N ŋeš-gan-na Q000039 296  0   \n",
       "     entry            section   \n",
       "479  ŋešgana[pestle]N X.2:mortar\n",
       "1860 ŋešgana[pestle]N X.2:mortar\n",
       "2328 ŋešgana[pestle]N X.2:mortar\n",
       "4509 ŋešgana[pestle]N X.2:mortar\n",
       "4633 ŋešgana[pestle]N X.2:mortar"
      ]
     },
     "metadata": {},
     "output_type": "display_data"
    }
   ],
   "source": [
    "df[grep(\":\", df$section),]"
   ]
  },
  {
   "cell_type": "code",
   "execution_count": 66,
   "metadata": {
    "collapsed": false
   },
   "outputs": [
    {
     "name": "stdout",
     "output_type": "stream",
     "text": [
      "ship_fishermanNULL\n"
     ]
    }
   ],
   "source": [
    "sections = names(which(sapply(section_defs, function(x) any(x == \"ma[ship]n_ninnu[fifty]nu_gur[unit]n\")) == TRUE))\n",
    "sections = cat(sections)\n",
    "print(sections)"
   ]
  },
  {
   "cell_type": "code",
   "execution_count": 77,
   "metadata": {
    "collapsed": false
   },
   "outputs": [
    {
     "name": "stdout",
     "output_type": "stream",
     "text": [
      "[1] \"Hi\"\n"
     ]
    }
   ],
   "source": [
    "if(is.na(NA)) print(\"Hi\")"
   ]
  },
  {
   "cell_type": "code",
   "execution_count": 86,
   "metadata": {
    "collapsed": false
   },
   "outputs": [
    {
     "name": "stdout",
     "output_type": "stream",
     "text": [
      "character(0)\n"
     ]
    }
   ],
   "source": [
    "test = print(names(which(sapply(section_defs, function(x) any(x == \"Hi erin\")) == TRUE)))"
   ]
  },
  {
   "cell_type": "code",
   "execution_count": 91,
   "metadata": {
    "collapsed": false
   },
   "outputs": [
    {
     "data": {
      "text/html": [
       "0"
      ],
      "text/latex": [
       "0"
      ],
      "text/markdown": [
       "0"
      ],
      "text/plain": [
       "[1] 0"
      ]
     },
     "metadata": {},
     "output_type": "display_data"
    }
   ],
   "source": [
    "length(test)"
   ]
  },
  {
   "cell_type": "code",
   "execution_count": null,
   "metadata": {
    "collapsed": true
   },
   "outputs": [],
   "source": []
  }
 ],
 "metadata": {
  "kernelspec": {
   "display_name": "R",
   "language": "R",
   "name": "ir"
  },
  "language_info": {
   "codemirror_mode": "r",
   "file_extension": ".r",
   "mimetype": "text/x-r-source",
   "name": "R",
   "pygments_lexer": "r",
   "version": "3.3.2"
  }
 },
 "nbformat": 4,
 "nbformat_minor": 1
}
