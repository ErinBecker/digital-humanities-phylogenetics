{
 "cells": [
  {
   "cell_type": "markdown",
   "metadata": {},
   "source": [
    "### To Do:\n",
    "- Figure out why max is lower than it should be in SI calcs. \n",
    "- (For efficiency) get rid of self-self comparisons and duplicate pairs in all_pairs_SI df.\n",
    "- Calculate maximum SI for any given k and use that to define distance measure. \n",
    "- Incorporate \"top\" and \"bottom\" of documents where known.\n",
    "- Implement Niek's method for comparing sections that appear multiple times within a document. \n",
    "- Add outlier texts. \n",
    "- Kick out texts that have only 1 section. \n",
    "- Exclude sections that are \"garbage\" sections (X.1, X.2). (But check that these are garbage first.)\n",
    "- Incorporate items from Q text that were not assigned to sections - add these to the section preceding the item.\n",
    "- Make the distance trees. \n",
    "- Incorporate provenience and period in output. "
   ]
  },
  {
   "cell_type": "markdown",
   "metadata": {
    "collapsed": false
   },
   "source": [
    "# Section order\n",
    "\n",
    "Here we analyze document similarity/difference from one another based on the degree of shared order of sections within a document. Sections are defined in 03_define_sections_R. \n",
    "\n",
    "Our approach is based on the idea of *synteny* from the field of genomics. Two (or more) genes are said to have a synteny if those genes are found in proximity across a set of genomes. The degree of synteny is proportional to the frequency with which genes are colocalized and the evolutionary distance of organisms in which that colocalization occurs.  \n",
    "\n",
    "A genome wide *synteny index* between a pair of genomes can be defined by calculating the *synteny* for all gene shared between that genome pair.\n",
    "\n",
    "Reference: ~/resources/biology/gene-order-phylogenetics/Ordered-orthology-as-a-tool-in-prokaryotic-evolutionary-inference.pdf\n",
    "\n",
    "For this analysis, **genes** are equivalent to **sections** (not **entries**) and **genomes** are equivalent to **documents**.  \n",
    "\n",
    "### Limitations/Issues: \n",
    "- SI is only defined for sections shared between two documents. If there is no overlap in sections, the genome-wide SI is 0. Short documents will tend to have extremes of SI, either 1 (all sections shared) or 0 (no sections shared). \n",
    "    - That's ok and makes sense.\n",
    "- Need to set a reasonable value for `k` by trial and error. This may also depend on the distribution of document lengths across our corpus. \n",
    "    - Try 2,3,5 or 7 and see what makes sense.\n",
    "- This method was developed for microbial genomes, which are usually circular. For our purposes, we will need to decide how to treat sections that occur within `k` of the beginning or end of a document.\n",
    "    - Idea: add a section called \"top\" and one called \"bottom\" when known to a document. Treat these as sections in the SI calculations.\n",
    "- Is the document wide SI the average of all shared sections SIs or are non-shared sections counted? \n",
    "    - Answer: Don't count non-shared sections.\n",
    "    - All of our documents are broken. Usually don't know whether a section was originally present in the non-broken document. (Difference because something missing because of sample and something truly missing.) \n",
    "- When a section appears multiple times in a document, how to deal with this? (Analogy in genomics is repeated genes.)\n",
    "    - How common is this? \n",
    "- When two sections are flipped in order, this method wouldn't notice (unless the documents are relatively long compared to k). Do we want it to?\n",
    "- Throw in a handful of outliers (documents from other list types).\n",
    "\n",
    "### Steps: \n",
    "- Determine order of sections within each document in corpus.  \n",
    "- Provisionally set `k` to some low number (2?).\n",
    "- For each document pair:\n",
    "    - Define the intersection of sections present in that pair.\n",
    "    - For each section in the intersection, count the number of shared sections in the k-neighborhood between the two documents.\n",
    "- Calculate document wide SI = average SI for all sections present in both documents (don't include unshared sections in calculation).\n",
    "- Distance = 1 - document wide SI for any document pair\n",
    "- Calculate a tree from the distance matrix\n",
    "\n"
   ]
  },
  {
   "cell_type": "markdown",
   "metadata": {},
   "source": [
    "## Read in section definitions\n",
    "Sections were defined in (previous notebook link) and are read in from file here."
   ]
  },
  {
   "cell_type": "code",
   "execution_count": 1,
   "metadata": {
    "collapsed": false
   },
   "outputs": [],
   "source": [
    "setwd(\"../data/sections/\")\n",
    "\n",
    "Q1_sections = read.csv(\"Q01_sections.csv\", stringsAsFactors = FALSE)\n",
    "Q39_sections = read.csv(\"Q39_sections.csv\", stringsAsFactors = FALSE)\n",
    "Q40_sections = read.csv(\"Q40_sections.csv\", stringsAsFactors = FALSE)\n",
    "Q41_sections = read.csv(\"Q41_sections.csv\", stringsAsFactors = FALSE)\n",
    "Q42_sections = read.csv(\"Q42_sections.csv\", stringsAsFactors = FALSE)"
   ]
  },
  {
   "cell_type": "markdown",
   "metadata": {},
   "source": [
    "## Read in a corpus to analyze"
   ]
  },
  {
   "cell_type": "code",
   "execution_count": 2,
   "metadata": {
    "collapsed": false
   },
   "outputs": [
    {
     "data": {
      "text/html": [
       "<table>\n",
       "<thead><tr><th></th><th scope=col>X</th><th scope=col>id_line</th><th scope=col>label</th><th scope=col>lemma</th><th scope=col>base</th><th scope=col>id_text</th><th scope=col>line</th><th scope=col>skip</th><th scope=col>entry</th></tr></thead>\n",
       "<tbody>\n",
       "\t<tr><th scope=row>8341</th><td>8340                    </td><td>X100003.28              </td><td>r 12                    </td><td>peš[fig]N Subir[1]GN    </td><td>{ŋeš}peš₃ su-bir{ki}    </td><td>X100003                 </td><td>28                      </td><td>0                       </td><td>peš[fig]N_Subir[1]GN    </td></tr>\n",
       "\t<tr><th scope=row>8342</th><td>8341                    </td><td>X100003.29              </td><td>r 13                    </td><td>peš[fig]N Elam[1]GN     </td><td>{ŋeš}peš₃ elam-ma{ki}   </td><td>X100003                 </td><td>29                      </td><td>0                       </td><td>peš[fig]N_Elam[1]GN     </td></tr>\n",
       "\t<tr><th scope=row>8343</th><td>8342                    </td><td>X100003.30              </td><td>r 14                    </td><td>peš[fig]N Martu[1]GN    </td><td>{ŋeš}peš₃ mar-tu{ki}    </td><td>X100003                 </td><td>30                      </td><td>0                       </td><td>peš[fig]N_Martu[1]GN    </td></tr>\n",
       "\t<tr><th scope=row>8344</th><td>8343                    </td><td>X100003.31              </td><td>r 15                    </td><td>peš[fig]N šergu[string]N</td><td>{ŋeš}peš₃ še-er-kum     </td><td>X100003                 </td><td>31                      </td><td>0                       </td><td>peš[fig]N_šergu[string]N</td></tr>\n",
       "\t<tr><th scope=row>8345</th><td>8344                    </td><td>X100003.32              </td><td>r 16                    </td><td>ama[mother]N peš[fig]N  </td><td>{ŋeš}ama {ŋeš}peš₃      </td><td>X100003                 </td><td>32                      </td><td>0                       </td><td>ama[mother]N_peš[fig]N  </td></tr>\n",
       "\t<tr><th scope=row>8346</th><td>8345                    </td><td>X100003.33              </td><td>r 17                    </td><td>pa[branch]N peš[fig]N   </td><td>{ŋeš}pa {ŋeš}peš₃       </td><td>X100003                 </td><td>33                      </td><td>0                       </td><td>pa[branch]N_peš[fig]N   </td></tr>\n",
       "</tbody>\n",
       "</table>\n"
      ],
      "text/latex": [
       "\\begin{tabular}{r|lllllllll}\n",
       "  & X & id\\_line & label & lemma & base & id\\_text & line & skip & entry\\\\\n",
       "\\hline\n",
       "\t8341 & 8340                               & X100003.28                         & r 12                               & peš{[}fig{]}N Subir{[}1{]}GN       & \\{ŋeš\\}peš₃ su-bir\\{ki\\}       & X100003                            & 28                                 & 0                                  & peš{[}fig{]}N\\_Subir{[}1{]}GN    \\\\\n",
       "\t8342 & 8341                               & X100003.29                         & r 13                               & peš{[}fig{]}N Elam{[}1{]}GN        & \\{ŋeš\\}peš₃ elam-ma\\{ki\\}      & X100003                            & 29                                 & 0                                  & peš{[}fig{]}N\\_Elam{[}1{]}GN     \\\\\n",
       "\t8343 & 8342                               & X100003.30                         & r 14                               & peš{[}fig{]}N Martu{[}1{]}GN       & \\{ŋeš\\}peš₃ mar-tu\\{ki\\}       & X100003                            & 30                                 & 0                                  & peš{[}fig{]}N\\_Martu{[}1{]}GN    \\\\\n",
       "\t8344 & 8343                               & X100003.31                         & r 15                               & peš{[}fig{]}N šergu{[}string{]}N   & \\{ŋeš\\}peš₃ še-er-kum            & X100003                            & 31                                 & 0                                  & peš{[}fig{]}N\\_šergu{[}string{]}N\\\\\n",
       "\t8345 & 8344                               & X100003.32                         & r 16                               & ama{[}mother{]}N peš{[}fig{]}N     & \\{ŋeš\\}ama \\{ŋeš\\}peš₃         & X100003                            & 32                                 & 0                                  & ama{[}mother{]}N\\_peš{[}fig{]}N  \\\\\n",
       "\t8346 & 8345                               & X100003.33                         & r 17                               & pa{[}branch{]}N peš{[}fig{]}N      & \\{ŋeš\\}pa \\{ŋeš\\}peš₃          & X100003                            & 33                                 & 0                                  & pa{[}branch{]}N\\_peš{[}fig{]}N   \\\\\n",
       "\\end{tabular}\n"
      ],
      "text/markdown": [
       "\n",
       "| <!--/--> | X | id_line | label | lemma | base | id_text | line | skip | entry | \n",
       "|---|---|---|---|---|---|\n",
       "| 8341 | 8340                     | X100003.28               | r 12                     | peš[fig]N Subir[1]GN     | {ŋeš}peš₃ su-bir{ki}     | X100003                  | 28                       | 0                        | peš[fig]N_Subir[1]GN     | \n",
       "| 8342 | 8341                     | X100003.29               | r 13                     | peš[fig]N Elam[1]GN      | {ŋeš}peš₃ elam-ma{ki}    | X100003                  | 29                       | 0                        | peš[fig]N_Elam[1]GN      | \n",
       "| 8343 | 8342                     | X100003.30               | r 14                     | peš[fig]N Martu[1]GN     | {ŋeš}peš₃ mar-tu{ki}     | X100003                  | 30                       | 0                        | peš[fig]N_Martu[1]GN     | \n",
       "| 8344 | 8343                     | X100003.31               | r 15                     | peš[fig]N šergu[string]N | {ŋeš}peš₃ še-er-kum      | X100003                  | 31                       | 0                        | peš[fig]N_šergu[string]N | \n",
       "| 8345 | 8344                     | X100003.32               | r 16                     | ama[mother]N peš[fig]N   | {ŋeš}ama {ŋeš}peš₃       | X100003                  | 32                       | 0                        | ama[mother]N_peš[fig]N   | \n",
       "| 8346 | 8345                     | X100003.33               | r 17                     | pa[branch]N peš[fig]N    | {ŋeš}pa {ŋeš}peš₃        | X100003                  | 33                       | 0                        | pa[branch]N_peš[fig]N    | \n",
       "\n",
       "\n"
      ],
      "text/plain": [
       "     X    id_line    label lemma                    base                 \n",
       "8341 8340 X100003.28 r 12  peš[fig]N Subir[1]GN     {ŋeš}peš₃ su-bir{ki} \n",
       "8342 8341 X100003.29 r 13  peš[fig]N Elam[1]GN      {ŋeš}peš₃ elam-ma{ki}\n",
       "8343 8342 X100003.30 r 14  peš[fig]N Martu[1]GN     {ŋeš}peš₃ mar-tu{ki} \n",
       "8344 8343 X100003.31 r 15  peš[fig]N šergu[string]N {ŋeš}peš₃ še-er-kum  \n",
       "8345 8344 X100003.32 r 16  ama[mother]N peš[fig]N   {ŋeš}ama {ŋeš}peš₃   \n",
       "8346 8345 X100003.33 r 17  pa[branch]N peš[fig]N    {ŋeš}pa {ŋeš}peš₃    \n",
       "     id_text line skip entry                   \n",
       "8341 X100003 28   0    peš[fig]N_Subir[1]GN    \n",
       "8342 X100003 29   0    peš[fig]N_Elam[1]GN     \n",
       "8343 X100003 30   0    peš[fig]N_Martu[1]GN    \n",
       "8344 X100003 31   0    peš[fig]N_šergu[string]N\n",
       "8345 X100003 32   0    ama[mother]N_peš[fig]N  \n",
       "8346 X100003 33   0    pa[branch]N_peš[fig]N   "
      ]
     },
     "metadata": {},
     "output_type": "display_data"
    },
    {
     "data": {
      "text/html": [
       "138"
      ],
      "text/latex": [
       "138"
      ],
      "text/markdown": [
       "138"
      ],
      "text/plain": [
       "[1] 138"
      ]
     },
     "metadata": {},
     "output_type": "display_data"
    }
   ],
   "source": [
    "df = read.csv(\"../pass/Q39_par.csv\", stringsAsFactors = FALSE)\n",
    "tail(df)\n",
    "length(unique(df$id_text))"
   ]
  },
  {
   "cell_type": "markdown",
   "metadata": {},
   "source": [
    "### Step 1: Determine order of sections for each document in corpus\n",
    "For each entry in each document in the corpus, identify which section it belongs to. Add this section identification to a new column in the dataframe. If an entry is found in more than one section, section names are separated by \":\"."
   ]
  },
  {
   "cell_type": "code",
   "execution_count": 3,
   "metadata": {
    "collapsed": false
   },
   "outputs": [
    {
     "data": {
      "text/html": [
       "<table>\n",
       "<thead><tr><th scope=col>X</th><th scope=col>id_line</th><th scope=col>label</th><th scope=col>lemma</th><th scope=col>base</th><th scope=col>id_text</th><th scope=col>line</th><th scope=col>skip</th><th scope=col>entry</th><th scope=col>section</th></tr></thead>\n",
       "<tbody>\n",
       "\t<tr><td> 0                                   </td><td>P117395.2                            </td><td>o 1                                  </td><td>ŋešed[key]N                          </td><td>{ŋeš}e₃-a                            </td><td>P117395                              </td><td>2                                    </td><td>0                                    </td><td>ŋešed[key]N                          </td><td>NA                                   </td></tr>\n",
       "\t<tr><td> 1                                   </td><td>P117395.3                            </td><td>o 2                                  </td><td>pakud[~tree]N                        </td><td>{ŋeš}pa-kud                          </td><td>P117395                              </td><td>3                                    </td><td>0                                    </td><td>pakud[~tree]N                        </td><td>NA                                   </td></tr>\n",
       "\t<tr><td> 2                                   </td><td>P117395.4                            </td><td>o 3                                  </td><td>raba[clamp]N                         </td><td>{ŋeš}raba                            </td><td>P117395                              </td><td>4                                    </td><td>0                                    </td><td>raba[clamp]N                         </td><td>NA                                   </td></tr>\n",
       "\t<tr><td> 3                                   </td><td>P117404.2                            </td><td>o 1                                  </td><td>ig[door]N eren[cedar]N               </td><td>{ŋeš}ig {ŋeš}eren                    </td><td>P117404                              </td><td>2                                    </td><td>0                                    </td><td>ig[door]N_eren[cedar]N               </td><td>NA                                   </td></tr>\n",
       "\t<tr><td> 4                                   </td><td>P117404.3                            </td><td>o 2                                  </td><td>ig[door]N dib[board]N                </td><td>{ŋeš}ig dib                          </td><td>P117404                              </td><td>3                                    </td><td>0                                    </td><td>ig[door]N_dib[board]N                </td><td>door                                 </td></tr>\n",
       "\t<tr><td> 5                                   </td><td>P117404.4                            </td><td>o 3                                  </td><td>ig[door]N i[oil]N                    </td><td>{ŋeš}ig i₃                           </td><td>P117404                              </td><td>4                                    </td><td>0                                    </td><td>ig[door]N_i[oil]N                    </td><td>door                                 </td></tr>\n",
       "\t<tr><td> 6                                   </td><td>P128345.2                            </td><td>o 1                                  </td><td>garig[comb]N siki[hair]N             </td><td>{ŋeš}ga-rig₂ siki                    </td><td>P128345                              </td><td>2                                    </td><td>0                                    </td><td>garig[comb]N_siki[hair]N             </td><td>comb                                 </td></tr>\n",
       "\t<tr><td> 7                                   </td><td>P128345.3                            </td><td>o 2                                  </td><td>garig[comb]N siki-siki[NA]NA         </td><td>{ŋeš}ga-rig₂ siki-siki               </td><td>P128345                              </td><td>3                                    </td><td>0                                    </td><td>garig[comb]N_siki-siki[NA]NA         </td><td>NA                                   </td></tr>\n",
       "\t<tr><td> 8                                   </td><td>P128345.4                            </td><td>o 3                                  </td><td>garig[comb]N saŋdu[head]N            </td><td>{ŋeš}ga-rig₂ saŋ-du                  </td><td>P128345                              </td><td>4                                    </td><td>0                                    </td><td>garig[comb]N_saŋdu[head]N            </td><td>comb                                 </td></tr>\n",
       "\t<tr><td> 9                                   </td><td>P224980.4                            </td><td>o i 1                                </td><td>gigir[chariot]N                      </td><td>{ŋeš}gigir                           </td><td>P224980                              </td><td>4                                    </td><td>0                                    </td><td>gigir[chariot]N                      </td><td>chariot                              </td></tr>\n",
       "\t<tr><td>10                                   </td><td>P224980.5                            </td><td>o i 2                                </td><td>e[house]N gigir[chariot]N            </td><td>{ŋeš}e₂ gigir                        </td><td>P224980                              </td><td>5                                    </td><td>0                                    </td><td>e[house]N_gigir[chariot]N            </td><td>chariot                              </td></tr>\n",
       "\t<tr><td>11                                   </td><td>P224980.6                            </td><td>o i 3                                </td><td>e[house]N usan[whip]N gigir[chariot]N</td><td>{ŋeš}e₂ usan₃ gigir                  </td><td>P224980                              </td><td>6                                    </td><td>0                                    </td><td>e[house]N_usan[whip]N_gigir[chariot]N</td><td>chariot                              </td></tr>\n",
       "\t<tr><td>12                                   </td><td>P224986.4                            </td><td>o i 1                                </td><td>guza[chair]N anše[equid]N            </td><td>{ŋeš}gu-za anše                      </td><td>P224986                              </td><td>4                                    </td><td>0                                    </td><td>guza[chair]N_anše[equid]N            </td><td>chair                                </td></tr>\n",
       "\t<tr><td>13                                   </td><td>P224986.5                            </td><td>o i 2                                </td><td>guza[chair]N kaskal[way]N            </td><td>{ŋeš}gu-za kaskal                    </td><td>P224986                              </td><td>5                                    </td><td>0                                    </td><td>guza[chair]N_kaskal[way]N            </td><td>chair                                </td></tr>\n",
       "\t<tr><td>14                                   </td><td>P224986.6                            </td><td>o i 3                                </td><td>guza[chair]N zir[break]V/t           </td><td>{ŋeš}gu-za zi                        </td><td>P224986                              </td><td>6                                    </td><td>0                                    </td><td>guza[chair]N_zir[break]V/t           </td><td>NA                                   </td></tr>\n",
       "\t<tr><td>15                                   </td><td>P224994.4                            </td><td>o i 1                                </td><td>{ŋeš}x-x[NA]NA                       </td><td>{ŋeš}x-x                             </td><td>P224994                              </td><td>4                                    </td><td>0                                    </td><td>{ŋeš}x-x[NA]NA                       </td><td>NA                                   </td></tr>\n",
       "\t<tr><td>16                                   </td><td>P224994.5                            </td><td>o i 2                                </td><td>{ŋeš}SI-x[NA]NA                      </td><td>{ŋeš}SI-x                            </td><td>P224994                              </td><td>5                                    </td><td>0                                    </td><td>{ŋeš}SI-x[NA]NA                      </td><td>NA                                   </td></tr>\n",
       "\t<tr><td>17                                   </td><td>P224994.6                            </td><td>o i 3                                </td><td>{ŋeš}šu-x[NA]NA                      </td><td>{ŋeš}šu-x                            </td><td>P224994                              </td><td>6                                    </td><td>0                                    </td><td>{ŋeš}šu-x[NA]NA                      </td><td>NA                                   </td></tr>\n",
       "\t<tr><td>18                                   </td><td>P224996.4                            </td><td>o i 1                                </td><td>guza[chair]N                         </td><td>{ŋeš}gu-za                           </td><td>P224996                              </td><td>4                                    </td><td>0                                    </td><td>guza[chair]N                         </td><td>chair                                </td></tr>\n",
       "\t<tr><td>19                                   </td><td>P224996.5                            </td><td>o i 2                                </td><td>guza[chair]N gid[long]V/i            </td><td>{ŋeš}gu-za gid₂                      </td><td>P224996                              </td><td>5                                    </td><td>0                                    </td><td>guza[chair]N_gid[long]V/i            </td><td>chair                                </td></tr>\n",
       "\t<tr><td>20                                   </td><td>P224996.6                            </td><td>unknown                              </td><td>guza[chair]N sirda[cnne]N            </td><td>{ŋeš}gu-za sir₂-da                   </td><td>P224996                              </td><td>6                                    </td><td>0                                    </td><td>guza[chair]N_sirda[cnne]N            </td><td>chair                                </td></tr>\n",
       "\t<tr><td>21                                   </td><td>P225006.4                            </td><td>o i 1                                </td><td>ig[door]N                            </td><td>{ŋeš}ig                              </td><td>P225006                              </td><td>4                                    </td><td>0                                    </td><td>ig[door]N                            </td><td>door                                 </td></tr>\n",
       "\t<tr><td>22                                   </td><td>P225006.5                            </td><td>o i 2                                </td><td>suku[pole]N ig[door]N                </td><td>{ŋeš}suku₅ ig                        </td><td>P225006                              </td><td>5                                    </td><td>0                                    </td><td>suku[pole]N_ig[door]N                </td><td>door                                 </td></tr>\n",
       "\t<tr><td>23                                   </td><td>P225006.6                            </td><td>o i 3                                </td><td>zara[pivot]N ig[door]N               </td><td>{ŋeš}za-ra ig                        </td><td>P225006                              </td><td>6                                    </td><td>0                                    </td><td>zara[pivot]N_ig[door]N               </td><td>NA                                   </td></tr>\n",
       "\t<tr><td>24                                   </td><td>P225023.4                            </td><td>o i 1                                </td><td>{ŋeš}x[NA]NA                         </td><td>{ŋeš}x                               </td><td>P225023                              </td><td>4                                    </td><td>0                                    </td><td>{ŋeš}x[NA]NA                         </td><td>X.6                                  </td></tr>\n",
       "\t<tr><td>25                                   </td><td>P225023.5                            </td><td>o i 2                                </td><td>emerah[jug]N x[NA]NA                 </td><td>{ŋeš}emerah x                        </td><td>P225023                              </td><td>5                                    </td><td>0                                    </td><td>emerah[jug]N_x[NA]NA                 </td><td>NA                                   </td></tr>\n",
       "\t<tr><td>26                                   </td><td>P225023.6                            </td><td>o i 3                                </td><td>emerah[jug]N x[NA]NA                 </td><td>{ŋeš}emerah x                        </td><td>P225023                              </td><td>6                                    </td><td>0                                    </td><td>emerah[jug]N_x[NA]NA                 </td><td>NA                                   </td></tr>\n",
       "\t<tr><td>27                                   </td><td>P225033.4                            </td><td>o i 1                                </td><td>targul[pole]N                        </td><td>{ŋeš}dar-gul                         </td><td>P225033                              </td><td>4                                    </td><td>0                                    </td><td>targul[pole]N                        </td><td>pole                                 </td></tr>\n",
       "\t<tr><td>28                                   </td><td>P225033.5                            </td><td>o i 2                                </td><td>targul[pole]N                        </td><td>{ŋeš}dar-gul-la₂                     </td><td>P225033                              </td><td>5                                    </td><td>0                                    </td><td>targul[pole]N                        </td><td>pole                                 </td></tr>\n",
       "\t<tr><td>29                                   </td><td>P225033.6                            </td><td>o i 3                                </td><td>garig[comb]N                         </td><td>{ŋeš}ga-rig₂                         </td><td>P225033                              </td><td>6                                    </td><td>0                                    </td><td>garig[comb]N                         </td><td>comb                                 </td></tr>\n",
       "\t<tr><td>⋮</td><td>⋮</td><td>⋮</td><td>⋮</td><td>⋮</td><td>⋮</td><td>⋮</td><td>⋮</td><td>⋮</td><td>⋮</td></tr>\n",
       "\t<tr><td>8316                                </td><td>X100003.3                           </td><td>o 2                                 </td><td>esi[tree]N                          </td><td>{ŋeš}esi                            </td><td>X100003                             </td><td> 3                                  </td><td>0                                   </td><td>esi[tree]N                          </td><td>tree                                </td></tr>\n",
       "\t<tr><td>8317                                </td><td>X100003.4                           </td><td>o 3                                 </td><td>ŋešnu[tree]N                        </td><td>ŋeš-BUR₂                            </td><td>X100003                             </td><td> 4                                  </td><td>0                                   </td><td>ŋešnu[tree]N                        </td><td>tree                                </td></tr>\n",
       "\t<tr><td>8318                                </td><td>X100003.5                           </td><td>o 4                                 </td><td>halub[tree]N                        </td><td>{ŋeš}ha-lu-ub₂                      </td><td>X100003                             </td><td> 5                                  </td><td>0                                   </td><td>halub[tree]N                        </td><td>tree                                </td></tr>\n",
       "\t<tr><td>8319                                </td><td>X100003.6                           </td><td>o 5                                 </td><td>šagkal[tree]N                       </td><td>{ŋeš}šag₄-ul₄                       </td><td>X100003                             </td><td> 6                                  </td><td>0                                   </td><td>šagkal[tree]N                       </td><td>tree                                </td></tr>\n",
       "\t<tr><td>8320                                </td><td>X100003.7                           </td><td>o 6                                 </td><td>ŋešgana[tree]N                      </td><td>ŋeš-kin₂                            </td><td>X100003                             </td><td> 7                                  </td><td>0                                   </td><td>ŋešgana[tree]N                      </td><td>tree                                </td></tr>\n",
       "\t<tr><td>8321                                </td><td>X100003.8                           </td><td>o 7                                 </td><td>ŋešgana[tree]N babbar[white]V/i     </td><td>ŋeš-kin₂ babbar                     </td><td>X100003                             </td><td> 8                                  </td><td>0                                   </td><td>ŋešgana[tree]N_babbar[white]V/i     </td><td>tree                                </td></tr>\n",
       "\t<tr><td>8322                                </td><td>X100003.9                           </td><td>o 8                                 </td><td>ŋešgana[tree]N giggi[black]V/i      </td><td>ŋeš-kin₂ giggi                      </td><td>X100003                             </td><td> 9                                  </td><td>0                                   </td><td>ŋešgana[tree]N_giggi[black]V/i      </td><td>tree                                </td></tr>\n",
       "\t<tr><td>8323                                </td><td>X100003.10                          </td><td>o 9                                 </td><td>ŋešgana[tree]N si[fill]V/t          </td><td>ŋeš-kin₂ sa₅                        </td><td>X100003                             </td><td>10                                  </td><td>0                                   </td><td>ŋešgana[tree]N_si[fill]V/t          </td><td>NA                                  </td></tr>\n",
       "\t<tr><td>8324                                </td><td>X100003.11                          </td><td>o 10                                </td><td>{ŋeš}bar-ŋeš[NA]NA gunu[speckled]V/i</td><td>{ŋeš}bar-ŋeš gun₃                   </td><td>X100003                             </td><td>11                                  </td><td>0                                   </td><td>{ŋeš}bar-ŋeš[NA]NA_gunu[speckled]V/i</td><td>NA                                  </td></tr>\n",
       "\t<tr><td>8325                                </td><td>X100003.12                          </td><td>o 11                                </td><td>ŋeš[tree]N babbar[white]V/i         </td><td>ŋeš babbar                          </td><td>X100003                             </td><td>12                                  </td><td>0                                   </td><td>ŋeš[tree]N_babbar[white]V/i         </td><td>NA                                  </td></tr>\n",
       "\t<tr><td>8326                                </td><td>X100003.13                          </td><td>o 12                                </td><td>ŋeš[tree]N giggi[black]V/i          </td><td>ŋeš giggi                           </td><td>X100003                             </td><td>13                                  </td><td>0                                   </td><td>ŋeš[tree]N_giggi[black]V/i          </td><td>tree                                </td></tr>\n",
       "\t<tr><td>8327                                </td><td>X100003.14                          </td><td>o 13                                </td><td>ŋeštin[vine]N                       </td><td>{ŋeš}ŋeštin                         </td><td>X100003                             </td><td>14                                  </td><td>0                                   </td><td>ŋeštin[vine]N                       </td><td>tree                                </td></tr>\n",
       "\t<tr><td>8328                                </td><td>X100003.15                          </td><td>o 14                                </td><td>ŋeštinkira[berry]N                  </td><td>{ŋeš}ŋeštin-ŋir₂                    </td><td>X100003                             </td><td>15                                  </td><td>0                                   </td><td>ŋeštinkira[berry]N                  </td><td>tree                                </td></tr>\n",
       "\t<tr><td>8329                                </td><td>X100003.17                          </td><td>r 1                                 </td><td>ŋeštinzug[grape]N                   </td><td>{ŋeš}ŋeštin-zug₂                    </td><td>X100003                             </td><td>17                                  </td><td>0                                   </td><td>ŋeštinzug[grape]N                   </td><td>NA                                  </td></tr>\n",
       "\t<tr><td>8330                                </td><td>X100003.18                          </td><td>r 2                                 </td><td>ŋeštinkaʾa[grape]N                  </td><td>{ŋeš}ŋeštin-ka₅-a                   </td><td>X100003                             </td><td>18                                  </td><td>0                                   </td><td>ŋeštinkaʾa[grape]N                  </td><td>tree                                </td></tr>\n",
       "\t<tr><td>8331                                </td><td>X100003.19                          </td><td>r 3                                 </td><td>ŋeštin[vine]N garan[bunch]N         </td><td>{ŋeš}ŋeštin ga-ra-na                </td><td>X100003                             </td><td>19                                  </td><td>0                                   </td><td>ŋeštin[vine]N_garan[bunch]N         </td><td>NA                                  </td></tr>\n",
       "\t<tr><td>8332                                </td><td>X100003.20                          </td><td>r 4                                 </td><td>ŋeštinguruma[~vine]N                </td><td>{ŋeš}ŋeštin-gurum-ma                </td><td>X100003                             </td><td>20                                  </td><td>0                                   </td><td>ŋeštinguruma[~vine]N                </td><td>tree                                </td></tr>\n",
       "\t<tr><td>8333                                </td><td>X100003.21                          </td><td>r 5                                 </td><td>ŋeštin[vine]N sur[press]V/t         </td><td>{ŋeš}ŋeštin sur                     </td><td>X100003                             </td><td>21                                  </td><td>0                                   </td><td>ŋeštin[vine]N_sur[press]V/t         </td><td>NA                                  </td></tr>\n",
       "\t<tr><td>8334                                </td><td>X100003.22                          </td><td>r 6                                 </td><td>ŋeštin[vine]N igi[eye]N gud[ox]N    </td><td>{ŋeš}ŋeštin igi gud                 </td><td>X100003                             </td><td>22                                  </td><td>0                                   </td><td>ŋeštin[vine]N_igi[eye]N_gud[ox]N    </td><td>NA                                  </td></tr>\n",
       "\t<tr><td>8335                                </td><td>X100003.23                          </td><td>r 7                                 </td><td>tila[grapevine]N ŋeštin[vine]N      </td><td>{ŋeš}illat {ŋeš}ŋeštin              </td><td>X100003                             </td><td>23                                  </td><td>0                                   </td><td>tila[grapevine]N_ŋeštin[vine]N      </td><td>NA                                  </td></tr>\n",
       "\t<tr><td>8336                                </td><td>X100003.24                          </td><td>r 8                                 </td><td>gurum[bend]V/t ŋeštin[vine]N        </td><td>{ŋeš}gurum {ŋeš}ŋeštin              </td><td>X100003                             </td><td>24                                  </td><td>0                                   </td><td>gurum[bend]V/t_ŋeštin[vine]N        </td><td>NA                                  </td></tr>\n",
       "\t<tr><td>8337                                </td><td>X100003.25                          </td><td>r 9                                 </td><td>garan[bunch]N ŋeštin[vine]N         </td><td>{ŋeš}ga-ra-na {ŋeš}ŋeštin           </td><td>X100003                             </td><td>25                                  </td><td>0                                   </td><td>garan[bunch]N_ŋeštin[vine]N         </td><td>NA                                  </td></tr>\n",
       "\t<tr><td>8338                                </td><td>X100003.26                          </td><td>r 10                                </td><td>peš[fig]N                           </td><td>{ŋeš}peš₃                           </td><td>X100003                             </td><td>26                                  </td><td>0                                   </td><td>peš[fig]N                           </td><td>NA                                  </td></tr>\n",
       "\t<tr><td>8339                                </td><td>X100003.27                          </td><td>r 11                                </td><td>peš[fig]N Mari[1]SN                 </td><td>{ŋeš}peš₃ ma₂-ri₂{ki}               </td><td>X100003                             </td><td>27                                  </td><td>0                                   </td><td>peš[fig]N_Mari[1]SN                 </td><td>NA                                  </td></tr>\n",
       "\t<tr><td>8340                                </td><td>X100003.28                          </td><td>r 12                                </td><td>peš[fig]N Subir[1]GN                </td><td>{ŋeš}peš₃ su-bir{ki}                </td><td>X100003                             </td><td>28                                  </td><td>0                                   </td><td>peš[fig]N_Subir[1]GN                </td><td>NA                                  </td></tr>\n",
       "\t<tr><td>8341                                </td><td>X100003.29                          </td><td>r 13                                </td><td>peš[fig]N Elam[1]GN                 </td><td>{ŋeš}peš₃ elam-ma{ki}               </td><td>X100003                             </td><td>29                                  </td><td>0                                   </td><td>peš[fig]N_Elam[1]GN                 </td><td>NA                                  </td></tr>\n",
       "\t<tr><td>8342                                </td><td>X100003.30                          </td><td>r 14                                </td><td>peš[fig]N Martu[1]GN                </td><td>{ŋeš}peš₃ mar-tu{ki}                </td><td>X100003                             </td><td>30                                  </td><td>0                                   </td><td>peš[fig]N_Martu[1]GN                </td><td>NA                                  </td></tr>\n",
       "\t<tr><td>8343                                </td><td>X100003.31                          </td><td>r 15                                </td><td>peš[fig]N šergu[string]N            </td><td>{ŋeš}peš₃ še-er-kum                 </td><td>X100003                             </td><td>31                                  </td><td>0                                   </td><td>peš[fig]N_šergu[string]N            </td><td>NA                                  </td></tr>\n",
       "\t<tr><td>8344                                </td><td>X100003.32                          </td><td>r 16                                </td><td>ama[mother]N peš[fig]N              </td><td>{ŋeš}ama {ŋeš}peš₃                  </td><td>X100003                             </td><td>32                                  </td><td>0                                   </td><td>ama[mother]N_peš[fig]N              </td><td>NA                                  </td></tr>\n",
       "\t<tr><td>8345                                </td><td>X100003.33                          </td><td>r 17                                </td><td>pa[branch]N peš[fig]N               </td><td>{ŋeš}pa {ŋeš}peš₃                   </td><td>X100003                             </td><td>33                                  </td><td>0                                   </td><td>pa[branch]N_peš[fig]N               </td><td>NA                                  </td></tr>\n",
       "</tbody>\n",
       "</table>\n"
      ],
      "text/latex": [
       "\\begin{tabular}{r|llllllllll}\n",
       " X & id\\_line & label & lemma & base & id\\_text & line & skip & entry & section\\\\\n",
       "\\hline\n",
       "\t  0                                        & P117395.2                                 & o 1                                       & ŋešed{[}key{]}N                           & \\{ŋeš\\}e₃-a                             & P117395                                   & 2                                         & 0                                         & ŋešed{[}key{]}N                           & NA                                       \\\\\n",
       "\t  1                                                         & P117395.3                                                  & o 2                                                        & pakud{[}\\textasciitilde{}tree{]}N                         & \\{ŋeš\\}pa-kud                                            & P117395                                                    & 3                                                          & 0                                                          & pakud{[}\\textasciitilde{}tree{]}N                         & NA                                                        \\\\\n",
       "\t  2                                        & P117395.4                                 & o 3                                       & raba{[}clamp{]}N                          & \\{ŋeš\\}raba                             & P117395                                   & 4                                         & 0                                         & raba{[}clamp{]}N                          & NA                                       \\\\\n",
       "\t  3                                              & P117404.2                                       & o 1                                             & ig{[}door{]}N eren{[}cedar{]}N                  & \\{ŋeš\\}ig \\{ŋeš\\}eren                       & P117404                                         & 2                                               & 0                                               & ig{[}door{]}N\\_eren{[}cedar{]}N                & NA                                             \\\\\n",
       "\t  4                                              & P117404.3                                       & o 2                                             & ig{[}door{]}N dib{[}board{]}N                   & \\{ŋeš\\}ig dib                                 & P117404                                         & 3                                               & 0                                               & ig{[}door{]}N\\_dib{[}board{]}N                 & door                                           \\\\\n",
       "\t  5                                              & P117404.4                                       & o 3                                             & ig{[}door{]}N i{[}oil{]}N                       & \\{ŋeš\\}ig i₃                                  & P117404                                         & 4                                               & 0                                               & ig{[}door{]}N\\_i{[}oil{]}N                     & door                                           \\\\\n",
       "\t  6                                              & P128345.2                                       & o 1                                             & garig{[}comb{]}N siki{[}hair{]}N                & \\{ŋeš\\}ga-rig₂ siki                           & P128345                                         & 2                                               & 0                                               & garig{[}comb{]}N\\_siki{[}hair{]}N              & comb                                           \\\\\n",
       "\t  7                                              & P128345.3                                       & o 2                                             & garig{[}comb{]}N siki-siki{[}NA{]}NA            & \\{ŋeš\\}ga-rig₂ siki-siki                      & P128345                                         & 3                                               & 0                                               & garig{[}comb{]}N\\_siki-siki{[}NA{]}NA          & NA                                             \\\\\n",
       "\t  8                                              & P128345.4                                       & o 3                                             & garig{[}comb{]}N saŋdu{[}head{]}N               & \\{ŋeš\\}ga-rig₂ saŋ-du                         & P128345                                         & 4                                               & 0                                               & garig{[}comb{]}N\\_saŋdu{[}head{]}N             & comb                                           \\\\\n",
       "\t  9                                        & P224980.4                                 & o i 1                                     & gigir{[}chariot{]}N                       & \\{ŋeš\\}gigir                            & P224980                                   & 4                                         & 0                                         & gigir{[}chariot{]}N                       & chariot                                  \\\\\n",
       "\t 10                                              & P224980.5                                       & o i 2                                           & e{[}house{]}N gigir{[}chariot{]}N               & \\{ŋeš\\}e₂ gigir                               & P224980                                         & 5                                               & 0                                               & e{[}house{]}N\\_gigir{[}chariot{]}N             & chariot                                        \\\\\n",
       "\t 11                                                    & P224980.6                                             & o i 3                                                 & e{[}house{]}N usan{[}whip{]}N gigir{[}chariot{]}N     & \\{ŋeš\\}e₂ usan₃ gigir                               & P224980                                               & 6                                                     & 0                                                     & e{[}house{]}N\\_usan{[}whip{]}N\\_gigir{[}chariot{]}N & chariot                                              \\\\\n",
       "\t 12                                              & P224986.4                                       & o i 1                                           & guza{[}chair{]}N anše{[}equid{]}N               & \\{ŋeš\\}gu-za anše                             & P224986                                         & 4                                               & 0                                               & guza{[}chair{]}N\\_anše{[}equid{]}N             & chair                                          \\\\\n",
       "\t 13                                              & P224986.5                                       & o i 2                                           & guza{[}chair{]}N kaskal{[}way{]}N               & \\{ŋeš\\}gu-za kaskal                           & P224986                                         & 5                                               & 0                                               & guza{[}chair{]}N\\_kaskal{[}way{]}N             & chair                                          \\\\\n",
       "\t 14                                              & P224986.6                                       & o i 3                                           & guza{[}chair{]}N zir{[}break{]}V/t              & \\{ŋeš\\}gu-za zi                               & P224986                                         & 6                                               & 0                                               & guza{[}chair{]}N\\_zir{[}break{]}V/t            & NA                                             \\\\\n",
       "\t 15                                            & P224994.4                                     & o i 1                                         & \\{ŋeš\\}x-x{[}NA{]}NA                        & \\{ŋeš\\}x-x                                  & P224994                                       & 4                                             & 0                                             & \\{ŋeš\\}x-x{[}NA{]}NA                        & NA                                           \\\\\n",
       "\t 16                                            & P224994.5                                     & o i 2                                         & \\{ŋeš\\}SI-x{[}NA{]}NA                       & \\{ŋeš\\}SI-x                                 & P224994                                       & 5                                             & 0                                             & \\{ŋeš\\}SI-x{[}NA{]}NA                       & NA                                           \\\\\n",
       "\t 17                                            & P224994.6                                     & o i 3                                         & \\{ŋeš\\}šu-x{[}NA{]}NA                       & \\{ŋeš\\}šu-x                                 & P224994                                       & 6                                             & 0                                             & \\{ŋeš\\}šu-x{[}NA{]}NA                       & NA                                           \\\\\n",
       "\t 18                                        & P224996.4                                 & o i 1                                     & guza{[}chair{]}N                          & \\{ŋeš\\}gu-za                            & P224996                                   & 4                                         & 0                                         & guza{[}chair{]}N                          & chair                                    \\\\\n",
       "\t 19                                              & P224996.5                                       & o i 2                                           & guza{[}chair{]}N gid{[}long{]}V/i               & \\{ŋeš\\}gu-za gid₂                             & P224996                                         & 5                                               & 0                                               & guza{[}chair{]}N\\_gid{[}long{]}V/i             & chair                                          \\\\\n",
       "\t 20                                              & P224996.6                                       & unknown                                         & guza{[}chair{]}N sirda{[}cnne{]}N               & \\{ŋeš\\}gu-za sir₂-da                          & P224996                                         & 6                                               & 0                                               & guza{[}chair{]}N\\_sirda{[}cnne{]}N             & chair                                          \\\\\n",
       "\t 21                                        & P225006.4                                 & o i 1                                     & ig{[}door{]}N                             & \\{ŋeš\\}ig                               & P225006                                   & 4                                         & 0                                         & ig{[}door{]}N                             & door                                     \\\\\n",
       "\t 22                                              & P225006.5                                       & o i 2                                           & suku{[}pole{]}N ig{[}door{]}N                   & \\{ŋeš\\}suku₅ ig                               & P225006                                         & 5                                               & 0                                               & suku{[}pole{]}N\\_ig{[}door{]}N                 & door                                           \\\\\n",
       "\t 23                                              & P225006.6                                       & o i 3                                           & zara{[}pivot{]}N ig{[}door{]}N                  & \\{ŋeš\\}za-ra ig                               & P225006                                         & 6                                               & 0                                               & zara{[}pivot{]}N\\_ig{[}door{]}N                & NA                                             \\\\\n",
       "\t 24                                            & P225023.4                                     & o i 1                                         & \\{ŋeš\\}x{[}NA{]}NA                          & \\{ŋeš\\}x                                    & P225023                                       & 4                                             & 0                                             & \\{ŋeš\\}x{[}NA{]}NA                          & X.6                                          \\\\\n",
       "\t 25                                              & P225023.5                                       & o i 2                                           & emerah{[}jug{]}N x{[}NA{]}NA                    & \\{ŋeš\\}emerah x                               & P225023                                         & 5                                               & 0                                               & emerah{[}jug{]}N\\_x{[}NA{]}NA                  & NA                                             \\\\\n",
       "\t 26                                              & P225023.6                                       & o i 3                                           & emerah{[}jug{]}N x{[}NA{]}NA                    & \\{ŋeš\\}emerah x                               & P225023                                         & 6                                               & 0                                               & emerah{[}jug{]}N\\_x{[}NA{]}NA                  & NA                                             \\\\\n",
       "\t 27                                        & P225033.4                                 & o i 1                                     & targul{[}pole{]}N                         & \\{ŋeš\\}dar-gul                          & P225033                                   & 4                                         & 0                                         & targul{[}pole{]}N                         & pole                                     \\\\\n",
       "\t 28                                        & P225033.5                                 & o i 2                                     & targul{[}pole{]}N                         & \\{ŋeš\\}dar-gul-la₂                      & P225033                                   & 5                                         & 0                                         & targul{[}pole{]}N                         & pole                                     \\\\\n",
       "\t 29                                        & P225033.6                                 & o i 3                                     & garig{[}comb{]}N                          & \\{ŋeš\\}ga-rig₂                          & P225033                                   & 6                                         & 0                                         & garig{[}comb{]}N                          & comb                                     \\\\\n",
       "\t ⋮ & ⋮ & ⋮ & ⋮ & ⋮ & ⋮ & ⋮ & ⋮ & ⋮ & ⋮\\\\\n",
       "\t 8316                                     & X100003.3                                & o 2                                      & esi{[}tree{]}N                           & \\{ŋeš\\}esi                             & X100003                                  &  3                                       & 0                                        & esi{[}tree{]}N                           & tree                                    \\\\\n",
       "\t 8317                                     & X100003.4                                & o 3                                      & ŋešnu{[}tree{]}N                         & ŋeš-BUR₂                                 & X100003                                  &  4                                       & 0                                        & ŋešnu{[}tree{]}N                         & tree                                    \\\\\n",
       "\t 8318                                     & X100003.5                                & o 4                                      & halub{[}tree{]}N                         & \\{ŋeš\\}ha-lu-ub₂                       & X100003                                  &  5                                       & 0                                        & halub{[}tree{]}N                         & tree                                    \\\\\n",
       "\t 8319                                     & X100003.6                                & o 5                                      & šagkal{[}tree{]}N                        & \\{ŋeš\\}šag₄-ul₄                        & X100003                                  &  6                                       & 0                                        & šagkal{[}tree{]}N                        & tree                                    \\\\\n",
       "\t 8320                                     & X100003.7                                & o 6                                      & ŋešgana{[}tree{]}N                       & ŋeš-kin₂                                 & X100003                                  &  7                                       & 0                                        & ŋešgana{[}tree{]}N                       & tree                                    \\\\\n",
       "\t 8321                                           & X100003.8                                      & o 7                                            & ŋešgana{[}tree{]}N babbar{[}white{]}V/i        & ŋeš-kin₂ babbar                                & X100003                                        &  8                                             & 0                                              & ŋešgana{[}tree{]}N\\_babbar{[}white{]}V/i      & tree                                          \\\\\n",
       "\t 8322                                           & X100003.9                                      & o 8                                            & ŋešgana{[}tree{]}N giggi{[}black{]}V/i         & ŋeš-kin₂ giggi                                 & X100003                                        &  9                                             & 0                                              & ŋešgana{[}tree{]}N\\_giggi{[}black{]}V/i       & tree                                          \\\\\n",
       "\t 8323                                           & X100003.10                                     & o 9                                            & ŋešgana{[}tree{]}N si{[}fill{]}V/t             & ŋeš-kin₂ sa₅                                   & X100003                                        & 10                                             & 0                                              & ŋešgana{[}tree{]}N\\_si{[}fill{]}V/t           & NA                                            \\\\\n",
       "\t 8324                                               & X100003.11                                         & o 10                                               & \\{ŋeš\\}bar-ŋeš{[}NA{]}NA gunu{[}speckled{]}V/i   & \\{ŋeš\\}bar-ŋeš gun₃                              & X100003                                            & 11                                                 & 0                                                  & \\{ŋeš\\}bar-ŋeš{[}NA{]}NA\\_gunu{[}speckled{]}V/i & NA                                                \\\\\n",
       "\t 8325                                           & X100003.12                                     & o 11                                           & ŋeš{[}tree{]}N babbar{[}white{]}V/i            & ŋeš babbar                                     & X100003                                        & 12                                             & 0                                              & ŋeš{[}tree{]}N\\_babbar{[}white{]}V/i          & NA                                            \\\\\n",
       "\t 8326                                           & X100003.13                                     & o 12                                           & ŋeš{[}tree{]}N giggi{[}black{]}V/i             & ŋeš giggi                                      & X100003                                        & 13                                             & 0                                              & ŋeš{[}tree{]}N\\_giggi{[}black{]}V/i           & tree                                          \\\\\n",
       "\t 8327                                     & X100003.14                               & o 13                                     & ŋeštin{[}vine{]}N                        & \\{ŋeš\\}ŋeštin                          & X100003                                  & 14                                       & 0                                        & ŋeštin{[}vine{]}N                        & tree                                    \\\\\n",
       "\t 8328                                     & X100003.15                               & o 14                                     & ŋeštinkira{[}berry{]}N                   & \\{ŋeš\\}ŋeštin-ŋir₂                     & X100003                                  & 15                                       & 0                                        & ŋeštinkira{[}berry{]}N                   & tree                                    \\\\\n",
       "\t 8329                                     & X100003.17                               & r 1                                      & ŋeštinzug{[}grape{]}N                    & \\{ŋeš\\}ŋeštin-zug₂                     & X100003                                  & 17                                       & 0                                        & ŋeštinzug{[}grape{]}N                    & NA                                      \\\\\n",
       "\t 8330                                     & X100003.18                               & r 2                                      & ŋeštinkaʾa{[}grape{]}N                   & \\{ŋeš\\}ŋeštin-ka₅-a                    & X100003                                  & 18                                       & 0                                        & ŋeštinkaʾa{[}grape{]}N                   & tree                                    \\\\\n",
       "\t 8331                                           & X100003.19                                     & r 3                                            & ŋeštin{[}vine{]}N garan{[}bunch{]}N            & \\{ŋeš\\}ŋeštin ga-ra-na                       & X100003                                        & 19                                             & 0                                              & ŋeštin{[}vine{]}N\\_garan{[}bunch{]}N          & NA                                            \\\\\n",
       "\t 8332                                                      & X100003.20                                                & r 4                                                       & ŋeštinguruma{[}\\textasciitilde{}vine{]}N                 & \\{ŋeš\\}ŋeštin-gurum-ma                                  & X100003                                                   & 20                                                        & 0                                                         & ŋeštinguruma{[}\\textasciitilde{}vine{]}N                 & tree                                                     \\\\\n",
       "\t 8333                                           & X100003.21                                     & r 5                                            & ŋeštin{[}vine{]}N sur{[}press{]}V/t            & \\{ŋeš\\}ŋeštin sur                            & X100003                                        & 21                                             & 0                                              & ŋeštin{[}vine{]}N\\_sur{[}press{]}V/t          & NA                                            \\\\\n",
       "\t 8334                                                 & X100003.22                                           & r 6                                                  & ŋeštin{[}vine{]}N igi{[}eye{]}N gud{[}ox{]}N         & \\{ŋeš\\}ŋeštin igi gud                              & X100003                                              & 22                                                   & 0                                                    & ŋeštin{[}vine{]}N\\_igi{[}eye{]}N\\_gud{[}ox{]}N     & NA                                                  \\\\\n",
       "\t 8335                                           & X100003.23                                     & r 7                                            & tila{[}grapevine{]}N ŋeštin{[}vine{]}N         & \\{ŋeš\\}illat \\{ŋeš\\}ŋeštin                 & X100003                                        & 23                                             & 0                                              & tila{[}grapevine{]}N\\_ŋeštin{[}vine{]}N       & NA                                            \\\\\n",
       "\t 8336                                           & X100003.24                                     & r 8                                            & gurum{[}bend{]}V/t ŋeštin{[}vine{]}N           & \\{ŋeš\\}gurum \\{ŋeš\\}ŋeštin                 & X100003                                        & 24                                             & 0                                              & gurum{[}bend{]}V/t\\_ŋeštin{[}vine{]}N         & NA                                            \\\\\n",
       "\t 8337                                           & X100003.25                                     & r 9                                            & garan{[}bunch{]}N ŋeštin{[}vine{]}N            & \\{ŋeš\\}ga-ra-na \\{ŋeš\\}ŋeštin              & X100003                                        & 25                                             & 0                                              & garan{[}bunch{]}N\\_ŋeštin{[}vine{]}N          & NA                                            \\\\\n",
       "\t 8338                                     & X100003.26                               & r 10                                     & peš{[}fig{]}N                            & \\{ŋeš\\}peš₃                            & X100003                                  & 26                                       & 0                                        & peš{[}fig{]}N                            & NA                                      \\\\\n",
       "\t 8339                                           & X100003.27                                     & r 11                                           & peš{[}fig{]}N Mari{[}1{]}SN                    & \\{ŋeš\\}peš₃ ma₂-ri₂\\{ki\\}                  & X100003                                        & 27                                             & 0                                              & peš{[}fig{]}N\\_Mari{[}1{]}SN                  & NA                                            \\\\\n",
       "\t 8340                                           & X100003.28                                     & r 12                                           & peš{[}fig{]}N Subir{[}1{]}GN                   & \\{ŋeš\\}peš₃ su-bir\\{ki\\}                   & X100003                                        & 28                                             & 0                                              & peš{[}fig{]}N\\_Subir{[}1{]}GN                 & NA                                            \\\\\n",
       "\t 8341                                           & X100003.29                                     & r 13                                           & peš{[}fig{]}N Elam{[}1{]}GN                    & \\{ŋeš\\}peš₃ elam-ma\\{ki\\}                  & X100003                                        & 29                                             & 0                                              & peš{[}fig{]}N\\_Elam{[}1{]}GN                  & NA                                            \\\\\n",
       "\t 8342                                           & X100003.30                                     & r 14                                           & peš{[}fig{]}N Martu{[}1{]}GN                   & \\{ŋeš\\}peš₃ mar-tu\\{ki\\}                   & X100003                                        & 30                                             & 0                                              & peš{[}fig{]}N\\_Martu{[}1{]}GN                 & NA                                            \\\\\n",
       "\t 8343                                           & X100003.31                                     & r 15                                           & peš{[}fig{]}N šergu{[}string{]}N               & \\{ŋeš\\}peš₃ še-er-kum                        & X100003                                        & 31                                             & 0                                              & peš{[}fig{]}N\\_šergu{[}string{]}N             & NA                                            \\\\\n",
       "\t 8344                                           & X100003.32                                     & r 16                                           & ama{[}mother{]}N peš{[}fig{]}N                 & \\{ŋeš\\}ama \\{ŋeš\\}peš₃                     & X100003                                        & 32                                             & 0                                              & ama{[}mother{]}N\\_peš{[}fig{]}N               & NA                                            \\\\\n",
       "\t 8345                                           & X100003.33                                     & r 17                                           & pa{[}branch{]}N peš{[}fig{]}N                  & \\{ŋeš\\}pa \\{ŋeš\\}peš₃                      & X100003                                        & 33                                             & 0                                              & pa{[}branch{]}N\\_peš{[}fig{]}N                & NA                                            \\\\\n",
       "\\end{tabular}\n"
      ],
      "text/markdown": [
       "\n",
       "X | id_line | label | lemma | base | id_text | line | skip | entry | section | \n",
       "|---|---|---|---|---|---|---|---|---|---|---|---|---|---|---|---|---|---|---|---|---|---|---|---|---|---|---|---|---|---|---|---|---|---|---|---|---|---|---|---|---|---|---|---|---|---|---|---|---|---|---|---|---|---|---|---|---|---|---|---|---|\n",
       "|  0                                    | P117395.2                             | o 1                                   | ŋešed[key]N                           | {ŋeš}e₃-a                             | P117395                               | 2                                     | 0                                     | ŋešed[key]N                           | NA                                    | \n",
       "|  1                                    | P117395.3                             | o 2                                   | pakud[~tree]N                         | {ŋeš}pa-kud                           | P117395                               | 3                                     | 0                                     | pakud[~tree]N                         | NA                                    | \n",
       "|  2                                    | P117395.4                             | o 3                                   | raba[clamp]N                          | {ŋeš}raba                             | P117395                               | 4                                     | 0                                     | raba[clamp]N                          | NA                                    | \n",
       "|  3                                    | P117404.2                             | o 1                                   | ig[door]N eren[cedar]N                | {ŋeš}ig {ŋeš}eren                     | P117404                               | 2                                     | 0                                     | ig[door]N_eren[cedar]N                | NA                                    | \n",
       "|  4                                    | P117404.3                             | o 2                                   | ig[door]N dib[board]N                 | {ŋeš}ig dib                           | P117404                               | 3                                     | 0                                     | ig[door]N_dib[board]N                 | door                                  | \n",
       "|  5                                    | P117404.4                             | o 3                                   | ig[door]N i[oil]N                     | {ŋeš}ig i₃                            | P117404                               | 4                                     | 0                                     | ig[door]N_i[oil]N                     | door                                  | \n",
       "|  6                                    | P128345.2                             | o 1                                   | garig[comb]N siki[hair]N              | {ŋeš}ga-rig₂ siki                     | P128345                               | 2                                     | 0                                     | garig[comb]N_siki[hair]N              | comb                                  | \n",
       "|  7                                    | P128345.3                             | o 2                                   | garig[comb]N siki-siki[NA]NA          | {ŋeš}ga-rig₂ siki-siki                | P128345                               | 3                                     | 0                                     | garig[comb]N_siki-siki[NA]NA          | NA                                    | \n",
       "|  8                                    | P128345.4                             | o 3                                   | garig[comb]N saŋdu[head]N             | {ŋeš}ga-rig₂ saŋ-du                   | P128345                               | 4                                     | 0                                     | garig[comb]N_saŋdu[head]N             | comb                                  | \n",
       "|  9                                    | P224980.4                             | o i 1                                 | gigir[chariot]N                       | {ŋeš}gigir                            | P224980                               | 4                                     | 0                                     | gigir[chariot]N                       | chariot                               | \n",
       "| 10                                    | P224980.5                             | o i 2                                 | e[house]N gigir[chariot]N             | {ŋeš}e₂ gigir                         | P224980                               | 5                                     | 0                                     | e[house]N_gigir[chariot]N             | chariot                               | \n",
       "| 11                                    | P224980.6                             | o i 3                                 | e[house]N usan[whip]N gigir[chariot]N | {ŋeš}e₂ usan₃ gigir                   | P224980                               | 6                                     | 0                                     | e[house]N_usan[whip]N_gigir[chariot]N | chariot                               | \n",
       "| 12                                    | P224986.4                             | o i 1                                 | guza[chair]N anše[equid]N             | {ŋeš}gu-za anše                       | P224986                               | 4                                     | 0                                     | guza[chair]N_anše[equid]N             | chair                                 | \n",
       "| 13                                    | P224986.5                             | o i 2                                 | guza[chair]N kaskal[way]N             | {ŋeš}gu-za kaskal                     | P224986                               | 5                                     | 0                                     | guza[chair]N_kaskal[way]N             | chair                                 | \n",
       "| 14                                    | P224986.6                             | o i 3                                 | guza[chair]N zir[break]V/t            | {ŋeš}gu-za zi                         | P224986                               | 6                                     | 0                                     | guza[chair]N_zir[break]V/t            | NA                                    | \n",
       "| 15                                    | P224994.4                             | o i 1                                 | {ŋeš}x-x[NA]NA                        | {ŋeš}x-x                              | P224994                               | 4                                     | 0                                     | {ŋeš}x-x[NA]NA                        | NA                                    | \n",
       "| 16                                    | P224994.5                             | o i 2                                 | {ŋeš}SI-x[NA]NA                       | {ŋeš}SI-x                             | P224994                               | 5                                     | 0                                     | {ŋeš}SI-x[NA]NA                       | NA                                    | \n",
       "| 17                                    | P224994.6                             | o i 3                                 | {ŋeš}šu-x[NA]NA                       | {ŋeš}šu-x                             | P224994                               | 6                                     | 0                                     | {ŋeš}šu-x[NA]NA                       | NA                                    | \n",
       "| 18                                    | P224996.4                             | o i 1                                 | guza[chair]N                          | {ŋeš}gu-za                            | P224996                               | 4                                     | 0                                     | guza[chair]N                          | chair                                 | \n",
       "| 19                                    | P224996.5                             | o i 2                                 | guza[chair]N gid[long]V/i             | {ŋeš}gu-za gid₂                       | P224996                               | 5                                     | 0                                     | guza[chair]N_gid[long]V/i             | chair                                 | \n",
       "| 20                                    | P224996.6                             | unknown                               | guza[chair]N sirda[cnne]N             | {ŋeš}gu-za sir₂-da                    | P224996                               | 6                                     | 0                                     | guza[chair]N_sirda[cnne]N             | chair                                 | \n",
       "| 21                                    | P225006.4                             | o i 1                                 | ig[door]N                             | {ŋeš}ig                               | P225006                               | 4                                     | 0                                     | ig[door]N                             | door                                  | \n",
       "| 22                                    | P225006.5                             | o i 2                                 | suku[pole]N ig[door]N                 | {ŋeš}suku₅ ig                         | P225006                               | 5                                     | 0                                     | suku[pole]N_ig[door]N                 | door                                  | \n",
       "| 23                                    | P225006.6                             | o i 3                                 | zara[pivot]N ig[door]N                | {ŋeš}za-ra ig                         | P225006                               | 6                                     | 0                                     | zara[pivot]N_ig[door]N                | NA                                    | \n",
       "| 24                                    | P225023.4                             | o i 1                                 | {ŋeš}x[NA]NA                          | {ŋeš}x                                | P225023                               | 4                                     | 0                                     | {ŋeš}x[NA]NA                          | X.6                                   | \n",
       "| 25                                    | P225023.5                             | o i 2                                 | emerah[jug]N x[NA]NA                  | {ŋeš}emerah x                         | P225023                               | 5                                     | 0                                     | emerah[jug]N_x[NA]NA                  | NA                                    | \n",
       "| 26                                    | P225023.6                             | o i 3                                 | emerah[jug]N x[NA]NA                  | {ŋeš}emerah x                         | P225023                               | 6                                     | 0                                     | emerah[jug]N_x[NA]NA                  | NA                                    | \n",
       "| 27                                    | P225033.4                             | o i 1                                 | targul[pole]N                         | {ŋeš}dar-gul                          | P225033                               | 4                                     | 0                                     | targul[pole]N                         | pole                                  | \n",
       "| 28                                    | P225033.5                             | o i 2                                 | targul[pole]N                         | {ŋeš}dar-gul-la₂                      | P225033                               | 5                                     | 0                                     | targul[pole]N                         | pole                                  | \n",
       "| 29                                    | P225033.6                             | o i 3                                 | garig[comb]N                          | {ŋeš}ga-rig₂                          | P225033                               | 6                                     | 0                                     | garig[comb]N                          | comb                                  | \n",
       "| ⋮ | ⋮ | ⋮ | ⋮ | ⋮ | ⋮ | ⋮ | ⋮ | ⋮ | ⋮ | \n",
       "| 8316                                 | X100003.3                            | o 2                                  | esi[tree]N                           | {ŋeš}esi                             | X100003                              |  3                                   | 0                                    | esi[tree]N                           | tree                                 | \n",
       "| 8317                                 | X100003.4                            | o 3                                  | ŋešnu[tree]N                         | ŋeš-BUR₂                             | X100003                              |  4                                   | 0                                    | ŋešnu[tree]N                         | tree                                 | \n",
       "| 8318                                 | X100003.5                            | o 4                                  | halub[tree]N                         | {ŋeš}ha-lu-ub₂                       | X100003                              |  5                                   | 0                                    | halub[tree]N                         | tree                                 | \n",
       "| 8319                                 | X100003.6                            | o 5                                  | šagkal[tree]N                        | {ŋeš}šag₄-ul₄                        | X100003                              |  6                                   | 0                                    | šagkal[tree]N                        | tree                                 | \n",
       "| 8320                                 | X100003.7                            | o 6                                  | ŋešgana[tree]N                       | ŋeš-kin₂                             | X100003                              |  7                                   | 0                                    | ŋešgana[tree]N                       | tree                                 | \n",
       "| 8321                                 | X100003.8                            | o 7                                  | ŋešgana[tree]N babbar[white]V/i      | ŋeš-kin₂ babbar                      | X100003                              |  8                                   | 0                                    | ŋešgana[tree]N_babbar[white]V/i      | tree                                 | \n",
       "| 8322                                 | X100003.9                            | o 8                                  | ŋešgana[tree]N giggi[black]V/i       | ŋeš-kin₂ giggi                       | X100003                              |  9                                   | 0                                    | ŋešgana[tree]N_giggi[black]V/i       | tree                                 | \n",
       "| 8323                                 | X100003.10                           | o 9                                  | ŋešgana[tree]N si[fill]V/t           | ŋeš-kin₂ sa₅                         | X100003                              | 10                                   | 0                                    | ŋešgana[tree]N_si[fill]V/t           | NA                                   | \n",
       "| 8324                                 | X100003.11                           | o 10                                 | {ŋeš}bar-ŋeš[NA]NA gunu[speckled]V/i | {ŋeš}bar-ŋeš gun₃                    | X100003                              | 11                                   | 0                                    | {ŋeš}bar-ŋeš[NA]NA_gunu[speckled]V/i | NA                                   | \n",
       "| 8325                                 | X100003.12                           | o 11                                 | ŋeš[tree]N babbar[white]V/i          | ŋeš babbar                           | X100003                              | 12                                   | 0                                    | ŋeš[tree]N_babbar[white]V/i          | NA                                   | \n",
       "| 8326                                 | X100003.13                           | o 12                                 | ŋeš[tree]N giggi[black]V/i           | ŋeš giggi                            | X100003                              | 13                                   | 0                                    | ŋeš[tree]N_giggi[black]V/i           | tree                                 | \n",
       "| 8327                                 | X100003.14                           | o 13                                 | ŋeštin[vine]N                        | {ŋeš}ŋeštin                          | X100003                              | 14                                   | 0                                    | ŋeštin[vine]N                        | tree                                 | \n",
       "| 8328                                 | X100003.15                           | o 14                                 | ŋeštinkira[berry]N                   | {ŋeš}ŋeštin-ŋir₂                     | X100003                              | 15                                   | 0                                    | ŋeštinkira[berry]N                   | tree                                 | \n",
       "| 8329                                 | X100003.17                           | r 1                                  | ŋeštinzug[grape]N                    | {ŋeš}ŋeštin-zug₂                     | X100003                              | 17                                   | 0                                    | ŋeštinzug[grape]N                    | NA                                   | \n",
       "| 8330                                 | X100003.18                           | r 2                                  | ŋeštinkaʾa[grape]N                   | {ŋeš}ŋeštin-ka₅-a                    | X100003                              | 18                                   | 0                                    | ŋeštinkaʾa[grape]N                   | tree                                 | \n",
       "| 8331                                 | X100003.19                           | r 3                                  | ŋeštin[vine]N garan[bunch]N          | {ŋeš}ŋeštin ga-ra-na                 | X100003                              | 19                                   | 0                                    | ŋeštin[vine]N_garan[bunch]N          | NA                                   | \n",
       "| 8332                                 | X100003.20                           | r 4                                  | ŋeštinguruma[~vine]N                 | {ŋeš}ŋeštin-gurum-ma                 | X100003                              | 20                                   | 0                                    | ŋeštinguruma[~vine]N                 | tree                                 | \n",
       "| 8333                                 | X100003.21                           | r 5                                  | ŋeštin[vine]N sur[press]V/t          | {ŋeš}ŋeštin sur                      | X100003                              | 21                                   | 0                                    | ŋeštin[vine]N_sur[press]V/t          | NA                                   | \n",
       "| 8334                                 | X100003.22                           | r 6                                  | ŋeštin[vine]N igi[eye]N gud[ox]N     | {ŋeš}ŋeštin igi gud                  | X100003                              | 22                                   | 0                                    | ŋeštin[vine]N_igi[eye]N_gud[ox]N     | NA                                   | \n",
       "| 8335                                 | X100003.23                           | r 7                                  | tila[grapevine]N ŋeštin[vine]N       | {ŋeš}illat {ŋeš}ŋeštin               | X100003                              | 23                                   | 0                                    | tila[grapevine]N_ŋeštin[vine]N       | NA                                   | \n",
       "| 8336                                 | X100003.24                           | r 8                                  | gurum[bend]V/t ŋeštin[vine]N         | {ŋeš}gurum {ŋeš}ŋeštin               | X100003                              | 24                                   | 0                                    | gurum[bend]V/t_ŋeštin[vine]N         | NA                                   | \n",
       "| 8337                                 | X100003.25                           | r 9                                  | garan[bunch]N ŋeštin[vine]N          | {ŋeš}ga-ra-na {ŋeš}ŋeštin            | X100003                              | 25                                   | 0                                    | garan[bunch]N_ŋeštin[vine]N          | NA                                   | \n",
       "| 8338                                 | X100003.26                           | r 10                                 | peš[fig]N                            | {ŋeš}peš₃                            | X100003                              | 26                                   | 0                                    | peš[fig]N                            | NA                                   | \n",
       "| 8339                                 | X100003.27                           | r 11                                 | peš[fig]N Mari[1]SN                  | {ŋeš}peš₃ ma₂-ri₂{ki}                | X100003                              | 27                                   | 0                                    | peš[fig]N_Mari[1]SN                  | NA                                   | \n",
       "| 8340                                 | X100003.28                           | r 12                                 | peš[fig]N Subir[1]GN                 | {ŋeš}peš₃ su-bir{ki}                 | X100003                              | 28                                   | 0                                    | peš[fig]N_Subir[1]GN                 | NA                                   | \n",
       "| 8341                                 | X100003.29                           | r 13                                 | peš[fig]N Elam[1]GN                  | {ŋeš}peš₃ elam-ma{ki}                | X100003                              | 29                                   | 0                                    | peš[fig]N_Elam[1]GN                  | NA                                   | \n",
       "| 8342                                 | X100003.30                           | r 14                                 | peš[fig]N Martu[1]GN                 | {ŋeš}peš₃ mar-tu{ki}                 | X100003                              | 30                                   | 0                                    | peš[fig]N_Martu[1]GN                 | NA                                   | \n",
       "| 8343                                 | X100003.31                           | r 15                                 | peš[fig]N šergu[string]N             | {ŋeš}peš₃ še-er-kum                  | X100003                              | 31                                   | 0                                    | peš[fig]N_šergu[string]N             | NA                                   | \n",
       "| 8344                                 | X100003.32                           | r 16                                 | ama[mother]N peš[fig]N               | {ŋeš}ama {ŋeš}peš₃                   | X100003                              | 32                                   | 0                                    | ama[mother]N_peš[fig]N               | NA                                   | \n",
       "| 8345                                 | X100003.33                           | r 17                                 | pa[branch]N peš[fig]N                | {ŋeš}pa {ŋeš}peš₃                    | X100003                              | 33                                   | 0                                    | pa[branch]N_peš[fig]N                | NA                                   | \n",
       "\n",
       "\n"
      ],
      "text/plain": [
       "     X    id_line    label   lemma                                \n",
       "1     0   P117395.2  o 1     ŋešed[key]N                          \n",
       "2     1   P117395.3  o 2     pakud[~tree]N                        \n",
       "3     2   P117395.4  o 3     raba[clamp]N                         \n",
       "4     3   P117404.2  o 1     ig[door]N eren[cedar]N               \n",
       "5     4   P117404.3  o 2     ig[door]N dib[board]N                \n",
       "6     5   P117404.4  o 3     ig[door]N i[oil]N                    \n",
       "7     6   P128345.2  o 1     garig[comb]N siki[hair]N             \n",
       "8     7   P128345.3  o 2     garig[comb]N siki-siki[NA]NA         \n",
       "9     8   P128345.4  o 3     garig[comb]N saŋdu[head]N            \n",
       "10    9   P224980.4  o i 1   gigir[chariot]N                      \n",
       "11   10   P224980.5  o i 2   e[house]N gigir[chariot]N            \n",
       "12   11   P224980.6  o i 3   e[house]N usan[whip]N gigir[chariot]N\n",
       "13   12   P224986.4  o i 1   guza[chair]N anše[equid]N            \n",
       "14   13   P224986.5  o i 2   guza[chair]N kaskal[way]N            \n",
       "15   14   P224986.6  o i 3   guza[chair]N zir[break]V/t           \n",
       "16   15   P224994.4  o i 1   {ŋeš}x-x[NA]NA                       \n",
       "17   16   P224994.5  o i 2   {ŋeš}SI-x[NA]NA                      \n",
       "18   17   P224994.6  o i 3   {ŋeš}šu-x[NA]NA                      \n",
       "19   18   P224996.4  o i 1   guza[chair]N                         \n",
       "20   19   P224996.5  o i 2   guza[chair]N gid[long]V/i            \n",
       "21   20   P224996.6  unknown guza[chair]N sirda[cnne]N            \n",
       "22   21   P225006.4  o i 1   ig[door]N                            \n",
       "23   22   P225006.5  o i 2   suku[pole]N ig[door]N                \n",
       "24   23   P225006.6  o i 3   zara[pivot]N ig[door]N               \n",
       "25   24   P225023.4  o i 1   {ŋeš}x[NA]NA                         \n",
       "26   25   P225023.5  o i 2   emerah[jug]N x[NA]NA                 \n",
       "27   26   P225023.6  o i 3   emerah[jug]N x[NA]NA                 \n",
       "28   27   P225033.4  o i 1   targul[pole]N                        \n",
       "29   28   P225033.5  o i 2   targul[pole]N                        \n",
       "30   29   P225033.6  o i 3   garig[comb]N                         \n",
       "⋮    ⋮    ⋮          ⋮       ⋮                                    \n",
       "8317 8316 X100003.3  o 2     esi[tree]N                           \n",
       "8318 8317 X100003.4  o 3     ŋešnu[tree]N                         \n",
       "8319 8318 X100003.5  o 4     halub[tree]N                         \n",
       "8320 8319 X100003.6  o 5     šagkal[tree]N                        \n",
       "8321 8320 X100003.7  o 6     ŋešgana[tree]N                       \n",
       "8322 8321 X100003.8  o 7     ŋešgana[tree]N babbar[white]V/i      \n",
       "8323 8322 X100003.9  o 8     ŋešgana[tree]N giggi[black]V/i       \n",
       "8324 8323 X100003.10 o 9     ŋešgana[tree]N si[fill]V/t           \n",
       "8325 8324 X100003.11 o 10    {ŋeš}bar-ŋeš[NA]NA gunu[speckled]V/i \n",
       "8326 8325 X100003.12 o 11    ŋeš[tree]N babbar[white]V/i          \n",
       "8327 8326 X100003.13 o 12    ŋeš[tree]N giggi[black]V/i           \n",
       "8328 8327 X100003.14 o 13    ŋeštin[vine]N                        \n",
       "8329 8328 X100003.15 o 14    ŋeštinkira[berry]N                   \n",
       "8330 8329 X100003.17 r 1     ŋeštinzug[grape]N                    \n",
       "8331 8330 X100003.18 r 2     ŋeštinkaʾa[grape]N                   \n",
       "8332 8331 X100003.19 r 3     ŋeštin[vine]N garan[bunch]N          \n",
       "8333 8332 X100003.20 r 4     ŋeštinguruma[~vine]N                 \n",
       "8334 8333 X100003.21 r 5     ŋeštin[vine]N sur[press]V/t          \n",
       "8335 8334 X100003.22 r 6     ŋeštin[vine]N igi[eye]N gud[ox]N     \n",
       "8336 8335 X100003.23 r 7     tila[grapevine]N ŋeštin[vine]N       \n",
       "8337 8336 X100003.24 r 8     gurum[bend]V/t ŋeštin[vine]N         \n",
       "8338 8337 X100003.25 r 9     garan[bunch]N ŋeštin[vine]N          \n",
       "8339 8338 X100003.26 r 10    peš[fig]N                            \n",
       "8340 8339 X100003.27 r 11    peš[fig]N Mari[1]SN                  \n",
       "8341 8340 X100003.28 r 12    peš[fig]N Subir[1]GN                 \n",
       "8342 8341 X100003.29 r 13    peš[fig]N Elam[1]GN                  \n",
       "8343 8342 X100003.30 r 14    peš[fig]N Martu[1]GN                 \n",
       "8344 8343 X100003.31 r 15    peš[fig]N šergu[string]N             \n",
       "8345 8344 X100003.32 r 16    ama[mother]N peš[fig]N               \n",
       "8346 8345 X100003.33 r 17    pa[branch]N peš[fig]N                \n",
       "     base                      id_text line skip\n",
       "1    {ŋeš}e₃-a                 P117395 2    0   \n",
       "2    {ŋeš}pa-kud               P117395 3    0   \n",
       "3    {ŋeš}raba                 P117395 4    0   \n",
       "4    {ŋeš}ig {ŋeš}eren         P117404 2    0   \n",
       "5    {ŋeš}ig dib               P117404 3    0   \n",
       "6    {ŋeš}ig i₃                P117404 4    0   \n",
       "7    {ŋeš}ga-rig₂ siki         P128345 2    0   \n",
       "8    {ŋeš}ga-rig₂ siki-siki    P128345 3    0   \n",
       "9    {ŋeš}ga-rig₂ saŋ-du       P128345 4    0   \n",
       "10   {ŋeš}gigir                P224980 4    0   \n",
       "11   {ŋeš}e₂ gigir             P224980 5    0   \n",
       "12   {ŋeš}e₂ usan₃ gigir       P224980 6    0   \n",
       "13   {ŋeš}gu-za anše           P224986 4    0   \n",
       "14   {ŋeš}gu-za kaskal         P224986 5    0   \n",
       "15   {ŋeš}gu-za zi             P224986 6    0   \n",
       "16   {ŋeš}x-x                  P224994 4    0   \n",
       "17   {ŋeš}SI-x                 P224994 5    0   \n",
       "18   {ŋeš}šu-x                 P224994 6    0   \n",
       "19   {ŋeš}gu-za                P224996 4    0   \n",
       "20   {ŋeš}gu-za gid₂           P224996 5    0   \n",
       "21   {ŋeš}gu-za sir₂-da        P224996 6    0   \n",
       "22   {ŋeš}ig                   P225006 4    0   \n",
       "23   {ŋeš}suku₅ ig             P225006 5    0   \n",
       "24   {ŋeš}za-ra ig             P225006 6    0   \n",
       "25   {ŋeš}x                    P225023 4    0   \n",
       "26   {ŋeš}emerah x             P225023 5    0   \n",
       "27   {ŋeš}emerah x             P225023 6    0   \n",
       "28   {ŋeš}dar-gul              P225033 4    0   \n",
       "29   {ŋeš}dar-gul-la₂          P225033 5    0   \n",
       "30   {ŋeš}ga-rig₂              P225033 6    0   \n",
       "⋮    ⋮                         ⋮       ⋮    ⋮   \n",
       "8317 {ŋeš}esi                  X100003  3   0   \n",
       "8318 ŋeš-BUR₂                  X100003  4   0   \n",
       "8319 {ŋeš}ha-lu-ub₂            X100003  5   0   \n",
       "8320 {ŋeš}šag₄-ul₄             X100003  6   0   \n",
       "8321 ŋeš-kin₂                  X100003  7   0   \n",
       "8322 ŋeš-kin₂ babbar           X100003  8   0   \n",
       "8323 ŋeš-kin₂ giggi            X100003  9   0   \n",
       "8324 ŋeš-kin₂ sa₅              X100003 10   0   \n",
       "8325 {ŋeš}bar-ŋeš gun₃         X100003 11   0   \n",
       "8326 ŋeš babbar                X100003 12   0   \n",
       "8327 ŋeš giggi                 X100003 13   0   \n",
       "8328 {ŋeš}ŋeštin               X100003 14   0   \n",
       "8329 {ŋeš}ŋeštin-ŋir₂          X100003 15   0   \n",
       "8330 {ŋeš}ŋeštin-zug₂          X100003 17   0   \n",
       "8331 {ŋeš}ŋeštin-ka₅-a         X100003 18   0   \n",
       "8332 {ŋeš}ŋeštin ga-ra-na      X100003 19   0   \n",
       "8333 {ŋeš}ŋeštin-gurum-ma      X100003 20   0   \n",
       "8334 {ŋeš}ŋeštin sur           X100003 21   0   \n",
       "8335 {ŋeš}ŋeštin igi gud       X100003 22   0   \n",
       "8336 {ŋeš}illat {ŋeš}ŋeštin    X100003 23   0   \n",
       "8337 {ŋeš}gurum {ŋeš}ŋeštin    X100003 24   0   \n",
       "8338 {ŋeš}ga-ra-na {ŋeš}ŋeštin X100003 25   0   \n",
       "8339 {ŋeš}peš₃                 X100003 26   0   \n",
       "8340 {ŋeš}peš₃ ma₂-ri₂{ki}     X100003 27   0   \n",
       "8341 {ŋeš}peš₃ su-bir{ki}      X100003 28   0   \n",
       "8342 {ŋeš}peš₃ elam-ma{ki}     X100003 29   0   \n",
       "8343 {ŋeš}peš₃ mar-tu{ki}      X100003 30   0   \n",
       "8344 {ŋeš}peš₃ še-er-kum       X100003 31   0   \n",
       "8345 {ŋeš}ama {ŋeš}peš₃        X100003 32   0   \n",
       "8346 {ŋeš}pa {ŋeš}peš₃         X100003 33   0   \n",
       "     entry                                 section\n",
       "1    ŋešed[key]N                           NA     \n",
       "2    pakud[~tree]N                         NA     \n",
       "3    raba[clamp]N                          NA     \n",
       "4    ig[door]N_eren[cedar]N                NA     \n",
       "5    ig[door]N_dib[board]N                 door   \n",
       "6    ig[door]N_i[oil]N                     door   \n",
       "7    garig[comb]N_siki[hair]N              comb   \n",
       "8    garig[comb]N_siki-siki[NA]NA          NA     \n",
       "9    garig[comb]N_saŋdu[head]N             comb   \n",
       "10   gigir[chariot]N                       chariot\n",
       "11   e[house]N_gigir[chariot]N             chariot\n",
       "12   e[house]N_usan[whip]N_gigir[chariot]N chariot\n",
       "13   guza[chair]N_anše[equid]N             chair  \n",
       "14   guza[chair]N_kaskal[way]N             chair  \n",
       "15   guza[chair]N_zir[break]V/t            NA     \n",
       "16   {ŋeš}x-x[NA]NA                        NA     \n",
       "17   {ŋeš}SI-x[NA]NA                       NA     \n",
       "18   {ŋeš}šu-x[NA]NA                       NA     \n",
       "19   guza[chair]N                          chair  \n",
       "20   guza[chair]N_gid[long]V/i             chair  \n",
       "21   guza[chair]N_sirda[cnne]N             chair  \n",
       "22   ig[door]N                             door   \n",
       "23   suku[pole]N_ig[door]N                 door   \n",
       "24   zara[pivot]N_ig[door]N                NA     \n",
       "25   {ŋeš}x[NA]NA                          X.6    \n",
       "26   emerah[jug]N_x[NA]NA                  NA     \n",
       "27   emerah[jug]N_x[NA]NA                  NA     \n",
       "28   targul[pole]N                         pole   \n",
       "29   targul[pole]N                         pole   \n",
       "30   garig[comb]N                          comb   \n",
       "⋮    ⋮                                     ⋮      \n",
       "8317 esi[tree]N                            tree   \n",
       "8318 ŋešnu[tree]N                          tree   \n",
       "8319 halub[tree]N                          tree   \n",
       "8320 šagkal[tree]N                         tree   \n",
       "8321 ŋešgana[tree]N                        tree   \n",
       "8322 ŋešgana[tree]N_babbar[white]V/i       tree   \n",
       "8323 ŋešgana[tree]N_giggi[black]V/i        tree   \n",
       "8324 ŋešgana[tree]N_si[fill]V/t            NA     \n",
       "8325 {ŋeš}bar-ŋeš[NA]NA_gunu[speckled]V/i  NA     \n",
       "8326 ŋeš[tree]N_babbar[white]V/i           NA     \n",
       "8327 ŋeš[tree]N_giggi[black]V/i            tree   \n",
       "8328 ŋeštin[vine]N                         tree   \n",
       "8329 ŋeštinkira[berry]N                    tree   \n",
       "8330 ŋeštinzug[grape]N                     NA     \n",
       "8331 ŋeštinkaʾa[grape]N                    tree   \n",
       "8332 ŋeštin[vine]N_garan[bunch]N           NA     \n",
       "8333 ŋeštinguruma[~vine]N                  tree   \n",
       "8334 ŋeštin[vine]N_sur[press]V/t           NA     \n",
       "8335 ŋeštin[vine]N_igi[eye]N_gud[ox]N      NA     \n",
       "8336 tila[grapevine]N_ŋeštin[vine]N        NA     \n",
       "8337 gurum[bend]V/t_ŋeštin[vine]N          NA     \n",
       "8338 garan[bunch]N_ŋeštin[vine]N           NA     \n",
       "8339 peš[fig]N                             NA     \n",
       "8340 peš[fig]N_Mari[1]SN                   NA     \n",
       "8341 peš[fig]N_Subir[1]GN                  NA     \n",
       "8342 peš[fig]N_Elam[1]GN                   NA     \n",
       "8343 peš[fig]N_Martu[1]GN                  NA     \n",
       "8344 peš[fig]N_šergu[string]N              NA     \n",
       "8345 ama[mother]N_peš[fig]N                NA     \n",
       "8346 pa[branch]N_peš[fig]N                 NA     "
      ]
     },
     "metadata": {},
     "output_type": "display_data"
    }
   ],
   "source": [
    "section_defs = Q39_sections\n",
    "for (i in 1:nrow(df)) {\n",
    "    entry = tolower(df$entry[i])\n",
    "    sections = names(which(sapply(section_defs, function(x) any(x == entry)) == TRUE))\n",
    "    if (length(sections) == 0) df$section[i] = NA\n",
    "    else df$section[i] = paste(sections, collapse = \":\")\n",
    "}\n",
    "df"
   ]
  },
  {
   "cell_type": "markdown",
   "metadata": {},
   "source": [
    "Many entries will not be assigned to a section because they either do not appear verbatium in the Q text that was used to define sections or they do appear in the Q text, but were not part of a section (i.e. they were not adjacent to another entry that shared enough similarity to be considered part of the same section).\n",
    "\n",
    "Note to Erin: Try going back to the section definition notebook and adding entries in the Q text that don't join a section to the previous section."
   ]
  },
  {
   "cell_type": "markdown",
   "metadata": {},
   "source": [
    "Very few entries were assigned to more than one section. Only the entry \"ŋešgana[pestle]N\" appears in two sections in the Q39 corpus. This entry appears in several documents."
   ]
  },
  {
   "cell_type": "code",
   "execution_count": 4,
   "metadata": {
    "collapsed": false
   },
   "outputs": [
    {
     "data": {
      "text/html": [
       "'ŋešgana[pestle]N'"
      ],
      "text/latex": [
       "'ŋešgana{[}pestle{]}N'"
      ],
      "text/markdown": [
       "'ŋešgana[pestle]N'"
      ],
      "text/plain": [
       "[1] \"ŋešgana[pestle]N\""
      ]
     },
     "metadata": {},
     "output_type": "display_data"
    }
   ],
   "source": [
    "unique(df[grep(\":\", df$section),]$entry)"
   ]
  },
  {
   "cell_type": "markdown",
   "metadata": {},
   "source": [
    "Now that we know which section(s) each entry belongs to, we can define the order of sections for each document. \n",
    "\n",
    "First, we split our dataframe by id_text so that each document is in its own dataframe. We then have a list of dataframes.\n",
    "\n",
    "We then extract the \"section\" column from each of those dataframes. This gives us a list of character vectors."
   ]
  },
  {
   "cell_type": "code",
   "execution_count": 5,
   "metadata": {
    "collapsed": false
   },
   "outputs": [
    {
     "data": {
      "text/html": [
       "<dl>\n",
       "\t<dt>$P117395</dt>\n",
       "\t\t<dd><ol class=list-inline>\n",
       "\t<li>NA</li>\n",
       "\t<li>NA</li>\n",
       "\t<li>NA</li>\n",
       "</ol>\n",
       "</dd>\n",
       "\t<dt>$P117404</dt>\n",
       "\t\t<dd><ol class=list-inline>\n",
       "\t<li>NA</li>\n",
       "\t<li>'door'</li>\n",
       "\t<li>'door'</li>\n",
       "</ol>\n",
       "</dd>\n",
       "\t<dt>$P128345</dt>\n",
       "\t\t<dd><ol class=list-inline>\n",
       "\t<li>'comb'</li>\n",
       "\t<li>NA</li>\n",
       "\t<li>'comb'</li>\n",
       "</ol>\n",
       "</dd>\n",
       "\t<dt>$P224980</dt>\n",
       "\t\t<dd><ol class=list-inline>\n",
       "\t<li>'chariot'</li>\n",
       "\t<li>'chariot'</li>\n",
       "\t<li>'chariot'</li>\n",
       "</ol>\n",
       "</dd>\n",
       "\t<dt>$P224986</dt>\n",
       "\t\t<dd><ol class=list-inline>\n",
       "\t<li>'chair'</li>\n",
       "\t<li>'chair'</li>\n",
       "\t<li>NA</li>\n",
       "</ol>\n",
       "</dd>\n",
       "\t<dt>$P224994</dt>\n",
       "\t\t<dd><ol class=list-inline>\n",
       "\t<li>NA</li>\n",
       "\t<li>NA</li>\n",
       "\t<li>NA</li>\n",
       "</ol>\n",
       "</dd>\n",
       "</dl>\n"
      ],
      "text/latex": [
       "\\begin{description}\n",
       "\\item[\\$P117395] \\begin{enumerate*}\n",
       "\\item NA\n",
       "\\item NA\n",
       "\\item NA\n",
       "\\end{enumerate*}\n",
       "\n",
       "\\item[\\$P117404] \\begin{enumerate*}\n",
       "\\item NA\n",
       "\\item 'door'\n",
       "\\item 'door'\n",
       "\\end{enumerate*}\n",
       "\n",
       "\\item[\\$P128345] \\begin{enumerate*}\n",
       "\\item 'comb'\n",
       "\\item NA\n",
       "\\item 'comb'\n",
       "\\end{enumerate*}\n",
       "\n",
       "\\item[\\$P224980] \\begin{enumerate*}\n",
       "\\item 'chariot'\n",
       "\\item 'chariot'\n",
       "\\item 'chariot'\n",
       "\\end{enumerate*}\n",
       "\n",
       "\\item[\\$P224986] \\begin{enumerate*}\n",
       "\\item 'chair'\n",
       "\\item 'chair'\n",
       "\\item NA\n",
       "\\end{enumerate*}\n",
       "\n",
       "\\item[\\$P224994] \\begin{enumerate*}\n",
       "\\item NA\n",
       "\\item NA\n",
       "\\item NA\n",
       "\\end{enumerate*}\n",
       "\n",
       "\\end{description}\n"
      ],
      "text/markdown": [
       "$P117395\n",
       ":   1. NA\n",
       "2. NA\n",
       "3. NA\n",
       "\n",
       "\n",
       "\n",
       "$P117404\n",
       ":   1. NA\n",
       "2. 'door'\n",
       "3. 'door'\n",
       "\n",
       "\n",
       "\n",
       "$P128345\n",
       ":   1. 'comb'\n",
       "2. NA\n",
       "3. 'comb'\n",
       "\n",
       "\n",
       "\n",
       "$P224980\n",
       ":   1. 'chariot'\n",
       "2. 'chariot'\n",
       "3. 'chariot'\n",
       "\n",
       "\n",
       "\n",
       "$P224986\n",
       ":   1. 'chair'\n",
       "2. 'chair'\n",
       "3. NA\n",
       "\n",
       "\n",
       "\n",
       "$P224994\n",
       ":   1. NA\n",
       "2. NA\n",
       "3. NA\n",
       "\n",
       "\n",
       "\n",
       "\n",
       "\n"
      ],
      "text/plain": [
       "$P117395\n",
       "[1] NA NA NA\n",
       "\n",
       "$P117404\n",
       "[1] NA     \"door\" \"door\"\n",
       "\n",
       "$P128345\n",
       "[1] \"comb\" NA     \"comb\"\n",
       "\n",
       "$P224980\n",
       "[1] \"chariot\" \"chariot\" \"chariot\"\n",
       "\n",
       "$P224986\n",
       "[1] \"chair\" \"chair\" NA     \n",
       "\n",
       "$P224994\n",
       "[1] NA NA NA\n"
      ]
     },
     "metadata": {},
     "output_type": "display_data"
    }
   ],
   "source": [
    "df$id_text = as.factor(df$id_text)\n",
    "docs = split(df, df$id_text)\n",
    "docs = sapply(docs, function(x) x$section)\n",
    "head(docs)"
   ]
  },
  {
   "cell_type": "markdown",
   "metadata": {},
   "source": [
    "We need to get rid of `NA`s. These represent entries that were not assigned to a section. Then we retain only documents that are not of length zero (i.e. documents that had at least one entry assigned to a section)."
   ]
  },
  {
   "cell_type": "code",
   "execution_count": 6,
   "metadata": {
    "collapsed": false
   },
   "outputs": [
    {
     "data": {
      "text/html": [
       "<dl>\n",
       "\t<dt>$P117404</dt>\n",
       "\t\t<dd><ol class=list-inline>\n",
       "\t<li>'door'</li>\n",
       "\t<li>'door'</li>\n",
       "</ol>\n",
       "</dd>\n",
       "\t<dt>$P128345</dt>\n",
       "\t\t<dd><ol class=list-inline>\n",
       "\t<li>'comb'</li>\n",
       "\t<li>'comb'</li>\n",
       "</ol>\n",
       "</dd>\n",
       "\t<dt>$P224980</dt>\n",
       "\t\t<dd><ol class=list-inline>\n",
       "\t<li>'chariot'</li>\n",
       "\t<li>'chariot'</li>\n",
       "\t<li>'chariot'</li>\n",
       "</ol>\n",
       "</dd>\n",
       "\t<dt>$P224986</dt>\n",
       "\t\t<dd><ol class=list-inline>\n",
       "\t<li>'chair'</li>\n",
       "\t<li>'chair'</li>\n",
       "</ol>\n",
       "</dd>\n",
       "\t<dt>$P224996</dt>\n",
       "\t\t<dd><ol class=list-inline>\n",
       "\t<li>'chair'</li>\n",
       "\t<li>'chair'</li>\n",
       "\t<li>'chair'</li>\n",
       "</ol>\n",
       "</dd>\n",
       "\t<dt>$P225006</dt>\n",
       "\t\t<dd><ol class=list-inline>\n",
       "\t<li>'door'</li>\n",
       "\t<li>'door'</li>\n",
       "</ol>\n",
       "</dd>\n",
       "</dl>\n"
      ],
      "text/latex": [
       "\\begin{description}\n",
       "\\item[\\$P117404] \\begin{enumerate*}\n",
       "\\item 'door'\n",
       "\\item 'door'\n",
       "\\end{enumerate*}\n",
       "\n",
       "\\item[\\$P128345] \\begin{enumerate*}\n",
       "\\item 'comb'\n",
       "\\item 'comb'\n",
       "\\end{enumerate*}\n",
       "\n",
       "\\item[\\$P224980] \\begin{enumerate*}\n",
       "\\item 'chariot'\n",
       "\\item 'chariot'\n",
       "\\item 'chariot'\n",
       "\\end{enumerate*}\n",
       "\n",
       "\\item[\\$P224986] \\begin{enumerate*}\n",
       "\\item 'chair'\n",
       "\\item 'chair'\n",
       "\\end{enumerate*}\n",
       "\n",
       "\\item[\\$P224996] \\begin{enumerate*}\n",
       "\\item 'chair'\n",
       "\\item 'chair'\n",
       "\\item 'chair'\n",
       "\\end{enumerate*}\n",
       "\n",
       "\\item[\\$P225006] \\begin{enumerate*}\n",
       "\\item 'door'\n",
       "\\item 'door'\n",
       "\\end{enumerate*}\n",
       "\n",
       "\\end{description}\n"
      ],
      "text/markdown": [
       "$P117404\n",
       ":   1. 'door'\n",
       "2. 'door'\n",
       "\n",
       "\n",
       "\n",
       "$P128345\n",
       ":   1. 'comb'\n",
       "2. 'comb'\n",
       "\n",
       "\n",
       "\n",
       "$P224980\n",
       ":   1. 'chariot'\n",
       "2. 'chariot'\n",
       "3. 'chariot'\n",
       "\n",
       "\n",
       "\n",
       "$P224986\n",
       ":   1. 'chair'\n",
       "2. 'chair'\n",
       "\n",
       "\n",
       "\n",
       "$P224996\n",
       ":   1. 'chair'\n",
       "2. 'chair'\n",
       "3. 'chair'\n",
       "\n",
       "\n",
       "\n",
       "$P225006\n",
       ":   1. 'door'\n",
       "2. 'door'\n",
       "\n",
       "\n",
       "\n",
       "\n",
       "\n"
      ],
      "text/plain": [
       "$P117404\n",
       "[1] \"door\" \"door\"\n",
       "\n",
       "$P128345\n",
       "[1] \"comb\" \"comb\"\n",
       "\n",
       "$P224980\n",
       "[1] \"chariot\" \"chariot\" \"chariot\"\n",
       "\n",
       "$P224986\n",
       "[1] \"chair\" \"chair\"\n",
       "\n",
       "$P224996\n",
       "[1] \"chair\" \"chair\" \"chair\"\n",
       "\n",
       "$P225006\n",
       "[1] \"door\" \"door\"\n"
      ]
     },
     "metadata": {},
     "output_type": "display_data"
    }
   ],
   "source": [
    "docs_no_nas = sapply(docs, function(x) x[!is.na(x)])\n",
    "\n",
    "non_empty_docs = sapply(docs_no_nas, function(x) length(x) > 0)\n",
    "\n",
    "docs_no_nas = docs_no_nas[non_empty_docs]\n",
    "head(docs_no_nas)"
   ]
  },
  {
   "cell_type": "code",
   "execution_count": 7,
   "metadata": {
    "collapsed": false
   },
   "outputs": [
    {
     "name": "stdout",
     "output_type": "stream",
     "text": [
      "[1] \"This leaves us with 123 documents.\"\n"
     ]
    }
   ],
   "source": [
    "print(paste(\"This leaves us with\", length(docs_no_nas), \"documents.\"))"
   ]
  },
  {
   "cell_type": "markdown",
   "metadata": {},
   "source": [
    "We can then use the `rle()` function (\"run length encoding\") to get a character vector of the sections in each document, in order. This function calculates the lengths and values of runs in a sequence. We're not interested in the lengths of the runs (for this analysis), but can extract the values (names of sections).\n",
    "\n",
    "We end up with a list of character vectors."
   ]
  },
  {
   "cell_type": "code",
   "execution_count": 8,
   "metadata": {
    "collapsed": false
   },
   "outputs": [],
   "source": [
    "doc_sections = lapply(docs_no_nas, \n",
    "                      function(x) unname(rle(unlist(x))$values))"
   ]
  },
  {
   "cell_type": "code",
   "execution_count": 9,
   "metadata": {
    "collapsed": false
   },
   "outputs": [
    {
     "data": {
      "text/html": [
       "<dl>\n",
       "\t<dt>$P117404</dt>\n",
       "\t\t<dd>'door'</dd>\n",
       "\t<dt>$P128345</dt>\n",
       "\t\t<dd>'comb'</dd>\n",
       "\t<dt>$P224980</dt>\n",
       "\t\t<dd>'chariot'</dd>\n",
       "\t<dt>$P224986</dt>\n",
       "\t\t<dd>'chair'</dd>\n",
       "\t<dt>$P224996</dt>\n",
       "\t\t<dd>'chair'</dd>\n",
       "\t<dt>$P225006</dt>\n",
       "\t\t<dd>'door'</dd>\n",
       "</dl>\n"
      ],
      "text/latex": [
       "\\begin{description}\n",
       "\\item[\\$P117404] 'door'\n",
       "\\item[\\$P128345] 'comb'\n",
       "\\item[\\$P224980] 'chariot'\n",
       "\\item[\\$P224986] 'chair'\n",
       "\\item[\\$P224996] 'chair'\n",
       "\\item[\\$P225006] 'door'\n",
       "\\end{description}\n"
      ],
      "text/markdown": [
       "$P117404\n",
       ":   'door'\n",
       "$P128345\n",
       ":   'comb'\n",
       "$P224980\n",
       ":   'chariot'\n",
       "$P224986\n",
       ":   'chair'\n",
       "$P224996\n",
       ":   'chair'\n",
       "$P225006\n",
       ":   'door'\n",
       "\n",
       "\n"
      ],
      "text/plain": [
       "$P117404\n",
       "[1] \"door\"\n",
       "\n",
       "$P128345\n",
       "[1] \"comb\"\n",
       "\n",
       "$P224980\n",
       "[1] \"chariot\"\n",
       "\n",
       "$P224986\n",
       "[1] \"chair\"\n",
       "\n",
       "$P224996\n",
       "[1] \"chair\"\n",
       "\n",
       "$P225006\n",
       "[1] \"door\"\n"
      ]
     },
     "metadata": {},
     "output_type": "display_data"
    },
    {
     "data": {
      "text/html": [
       "<dl>\n",
       "\t<dt>$P459228</dt>\n",
       "\t\t<dd>'nut'</dd>\n",
       "\t<dt>$P459231</dt>\n",
       "\t\t<dd>'chariot'</dd>\n",
       "\t<dt>$P459784</dt>\n",
       "\t\t<dd><ol class=list-inline>\n",
       "\t<li>'X.6'</li>\n",
       "\t<li>'tree.1'</li>\n",
       "</ol>\n",
       "</dd>\n",
       "\t<dt>$P492330</dt>\n",
       "\t\t<dd><ol class=list-inline>\n",
       "\t<li>'bolt'</li>\n",
       "\t<li>'X.6'</li>\n",
       "</ol>\n",
       "</dd>\n",
       "\t<dt>$Q000039</dt>\n",
       "\t\t<dd><ol class=list-inline>\n",
       "\t<li>'tree'</li>\n",
       "\t<li>'apple'</li>\n",
       "\t<li>'tree.1'</li>\n",
       "\t<li>'tamarisk'</li>\n",
       "\t<li>'tree.2'</li>\n",
       "\t<li>'plum'</li>\n",
       "\t<li>'nut'</li>\n",
       "\t<li>'poplar'</li>\n",
       "\t<li>'wood.1'</li>\n",
       "\t<li>'tree.3'</li>\n",
       "\t<li>'wood'</li>\n",
       "\t<li>'twig'</li>\n",
       "\t<li>'tree.4'</li>\n",
       "\t<li>'cedar'</li>\n",
       "\t<li>'poplar.1'</li>\n",
       "\t<li>'flower'</li>\n",
       "\t<li>'tree.5'</li>\n",
       "\t<li>'sprout'</li>\n",
       "\t<li>'poplar.1'</li>\n",
       "\t<li>'acacia'</li>\n",
       "\t<li>'tree.6'</li>\n",
       "\t<li>'X'</li>\n",
       "\t<li>'foliage_sky'</li>\n",
       "\t<li>'branch'</li>\n",
       "\t<li>'trough'</li>\n",
       "\t<li>'X.1'</li>\n",
       "\t<li>'X.2'</li>\n",
       "\t<li>'X.2:mortar'</li>\n",
       "\t<li>'X.2'</li>\n",
       "\t<li>'tool'</li>\n",
       "\t<li>'X.3'</li>\n",
       "\t<li>'chair'</li>\n",
       "\t<li>'stool'</li>\n",
       "\t<li>'bed'</li>\n",
       "\t<li>'dish'</li>\n",
       "\t<li>'table'</li>\n",
       "\t<li>'jug'</li>\n",
       "\t<li>'stair'</li>\n",
       "\t<li>'planking_stair'</li>\n",
       "\t<li>'trough'</li>\n",
       "\t<li>'mortar'</li>\n",
       "\t<li>'X.2:mortar'</li>\n",
       "\t<li>'plank'</li>\n",
       "\t<li>'ship'</li>\n",
       "\t<li>'ship_fisherman'</li>\n",
       "\t<li>'X1'</li>\n",
       "\t<li>'X1.1'</li>\n",
       "\t<li>'horn_ship'</li>\n",
       "\t<li>'boat'</li>\n",
       "\t<li>'pole'</li>\n",
       "\t<li>'rudder'</li>\n",
       "\t<li>'rope'</li>\n",
       "\t<li>'staff'</li>\n",
       "\t<li>'chariot'</li>\n",
       "\t<li>'whip'</li>\n",
       "\t<li>'harness'</li>\n",
       "\t<li>'vehicle_place'</li>\n",
       "\t<li>'door'</li>\n",
       "\t<li>'door.1'</li>\n",
       "\t<li>'bolt'</li>\n",
       "\t<li>'tube'</li>\n",
       "\t<li>'loom'</li>\n",
       "\t<li>'loom.1'</li>\n",
       "\t<li>'comb'</li>\n",
       "\t<li>'spindle'</li>\n",
       "\t<li>'pole.1'</li>\n",
       "\t<li>'rim'</li>\n",
       "\t<li>'scales'</li>\n",
       "\t<li>'plow'</li>\n",
       "\t<li>'harrow'</li>\n",
       "\t<li>'tool.1'</li>\n",
       "\t<li>'hoe'</li>\n",
       "\t<li>'brick.mold'</li>\n",
       "\t<li>'nail_mound_dig'</li>\n",
       "\t<li>'weapon'</li>\n",
       "\t<li>'board'</li>\n",
       "\t<li>'unit'</li>\n",
       "\t<li>'net'</li>\n",
       "\t<li>'snare'</li>\n",
       "\t<li>'trap'</li>\n",
       "\t<li>'youth_praise'</li>\n",
       "\t<li>'sign'</li>\n",
       "\t<li>'thorn'</li>\n",
       "\t<li>'lance'</li>\n",
       "\t<li>'weapon.1'</li>\n",
       "\t<li>'bow'</li>\n",
       "\t<li>'trap.1'</li>\n",
       "\t<li>'weapon.2'</li>\n",
       "\t<li>'ax'</li>\n",
       "\t<li>'ax.1'</li>\n",
       "\t<li>'fork'</li>\n",
       "\t<li>'moon'</li>\n",
       "\t<li>'shovel'</li>\n",
       "\t<li>'rot'</li>\n",
       "\t<li>'hook'</li>\n",
       "\t<li>'instrument'</li>\n",
       "\t<li>'X.4'</li>\n",
       "\t<li>'post_bed'</li>\n",
       "\t<li>'lyre'</li>\n",
       "\t<li>'instrument.1'</li>\n",
       "\t<li>'handle'</li>\n",
       "\t<li>'bench'</li>\n",
       "\t<li>'ram'</li>\n",
       "\t<li>'weapon.3'</li>\n",
       "\t<li>'beam'</li>\n",
       "\t<li>'rudder.1'</li>\n",
       "\t<li>'crook'</li>\n",
       "\t<li>'forest_die'</li>\n",
       "\t<li>'seed.funnel'</li>\n",
       "\t<li>'wood.1'</li>\n",
       "\t<li>'tree'</li>\n",
       "\t<li>'X.5'</li>\n",
       "\t<li>'weed'</li>\n",
       "\t<li>'staff.1'</li>\n",
       "\t<li>'X.6'</li>\n",
       "\t<li>'board.1'</li>\n",
       "\t<li>'sign_eat'</li>\n",
       "\t<li>'doll'</li>\n",
       "</ol>\n",
       "</dd>\n",
       "\t<dt>$X100003</dt>\n",
       "\t\t<dd>'tree'</dd>\n",
       "</dl>\n"
      ],
      "text/latex": [
       "\\begin{description}\n",
       "\\item[\\$P459228] 'nut'\n",
       "\\item[\\$P459231] 'chariot'\n",
       "\\item[\\$P459784] \\begin{enumerate*}\n",
       "\\item 'X.6'\n",
       "\\item 'tree.1'\n",
       "\\end{enumerate*}\n",
       "\n",
       "\\item[\\$P492330] \\begin{enumerate*}\n",
       "\\item 'bolt'\n",
       "\\item 'X.6'\n",
       "\\end{enumerate*}\n",
       "\n",
       "\\item[\\$Q000039] \\begin{enumerate*}\n",
       "\\item 'tree'\n",
       "\\item 'apple'\n",
       "\\item 'tree.1'\n",
       "\\item 'tamarisk'\n",
       "\\item 'tree.2'\n",
       "\\item 'plum'\n",
       "\\item 'nut'\n",
       "\\item 'poplar'\n",
       "\\item 'wood.1'\n",
       "\\item 'tree.3'\n",
       "\\item 'wood'\n",
       "\\item 'twig'\n",
       "\\item 'tree.4'\n",
       "\\item 'cedar'\n",
       "\\item 'poplar.1'\n",
       "\\item 'flower'\n",
       "\\item 'tree.5'\n",
       "\\item 'sprout'\n",
       "\\item 'poplar.1'\n",
       "\\item 'acacia'\n",
       "\\item 'tree.6'\n",
       "\\item 'X'\n",
       "\\item 'foliage\\_sky'\n",
       "\\item 'branch'\n",
       "\\item 'trough'\n",
       "\\item 'X.1'\n",
       "\\item 'X.2'\n",
       "\\item 'X.2:mortar'\n",
       "\\item 'X.2'\n",
       "\\item 'tool'\n",
       "\\item 'X.3'\n",
       "\\item 'chair'\n",
       "\\item 'stool'\n",
       "\\item 'bed'\n",
       "\\item 'dish'\n",
       "\\item 'table'\n",
       "\\item 'jug'\n",
       "\\item 'stair'\n",
       "\\item 'planking\\_stair'\n",
       "\\item 'trough'\n",
       "\\item 'mortar'\n",
       "\\item 'X.2:mortar'\n",
       "\\item 'plank'\n",
       "\\item 'ship'\n",
       "\\item 'ship\\_fisherman'\n",
       "\\item 'X1'\n",
       "\\item 'X1.1'\n",
       "\\item 'horn\\_ship'\n",
       "\\item 'boat'\n",
       "\\item 'pole'\n",
       "\\item 'rudder'\n",
       "\\item 'rope'\n",
       "\\item 'staff'\n",
       "\\item 'chariot'\n",
       "\\item 'whip'\n",
       "\\item 'harness'\n",
       "\\item 'vehicle\\_place'\n",
       "\\item 'door'\n",
       "\\item 'door.1'\n",
       "\\item 'bolt'\n",
       "\\item 'tube'\n",
       "\\item 'loom'\n",
       "\\item 'loom.1'\n",
       "\\item 'comb'\n",
       "\\item 'spindle'\n",
       "\\item 'pole.1'\n",
       "\\item 'rim'\n",
       "\\item 'scales'\n",
       "\\item 'plow'\n",
       "\\item 'harrow'\n",
       "\\item 'tool.1'\n",
       "\\item 'hoe'\n",
       "\\item 'brick.mold'\n",
       "\\item 'nail\\_mound\\_dig'\n",
       "\\item 'weapon'\n",
       "\\item 'board'\n",
       "\\item 'unit'\n",
       "\\item 'net'\n",
       "\\item 'snare'\n",
       "\\item 'trap'\n",
       "\\item 'youth\\_praise'\n",
       "\\item 'sign'\n",
       "\\item 'thorn'\n",
       "\\item 'lance'\n",
       "\\item 'weapon.1'\n",
       "\\item 'bow'\n",
       "\\item 'trap.1'\n",
       "\\item 'weapon.2'\n",
       "\\item 'ax'\n",
       "\\item 'ax.1'\n",
       "\\item 'fork'\n",
       "\\item 'moon'\n",
       "\\item 'shovel'\n",
       "\\item 'rot'\n",
       "\\item 'hook'\n",
       "\\item 'instrument'\n",
       "\\item 'X.4'\n",
       "\\item 'post\\_bed'\n",
       "\\item 'lyre'\n",
       "\\item 'instrument.1'\n",
       "\\item 'handle'\n",
       "\\item 'bench'\n",
       "\\item 'ram'\n",
       "\\item 'weapon.3'\n",
       "\\item 'beam'\n",
       "\\item 'rudder.1'\n",
       "\\item 'crook'\n",
       "\\item 'forest\\_die'\n",
       "\\item 'seed.funnel'\n",
       "\\item 'wood.1'\n",
       "\\item 'tree'\n",
       "\\item 'X.5'\n",
       "\\item 'weed'\n",
       "\\item 'staff.1'\n",
       "\\item 'X.6'\n",
       "\\item 'board.1'\n",
       "\\item 'sign\\_eat'\n",
       "\\item 'doll'\n",
       "\\end{enumerate*}\n",
       "\n",
       "\\item[\\$X100003] 'tree'\n",
       "\\end{description}\n"
      ],
      "text/markdown": [
       "$P459228\n",
       ":   'nut'\n",
       "$P459231\n",
       ":   'chariot'\n",
       "$P459784\n",
       ":   1. 'X.6'\n",
       "2. 'tree.1'\n",
       "\n",
       "\n",
       "\n",
       "$P492330\n",
       ":   1. 'bolt'\n",
       "2. 'X.6'\n",
       "\n",
       "\n",
       "\n",
       "$Q000039\n",
       ":   1. 'tree'\n",
       "2. 'apple'\n",
       "3. 'tree.1'\n",
       "4. 'tamarisk'\n",
       "5. 'tree.2'\n",
       "6. 'plum'\n",
       "7. 'nut'\n",
       "8. 'poplar'\n",
       "9. 'wood.1'\n",
       "10. 'tree.3'\n",
       "11. 'wood'\n",
       "12. 'twig'\n",
       "13. 'tree.4'\n",
       "14. 'cedar'\n",
       "15. 'poplar.1'\n",
       "16. 'flower'\n",
       "17. 'tree.5'\n",
       "18. 'sprout'\n",
       "19. 'poplar.1'\n",
       "20. 'acacia'\n",
       "21. 'tree.6'\n",
       "22. 'X'\n",
       "23. 'foliage_sky'\n",
       "24. 'branch'\n",
       "25. 'trough'\n",
       "26. 'X.1'\n",
       "27. 'X.2'\n",
       "28. 'X.2:mortar'\n",
       "29. 'X.2'\n",
       "30. 'tool'\n",
       "31. 'X.3'\n",
       "32. 'chair'\n",
       "33. 'stool'\n",
       "34. 'bed'\n",
       "35. 'dish'\n",
       "36. 'table'\n",
       "37. 'jug'\n",
       "38. 'stair'\n",
       "39. 'planking_stair'\n",
       "40. 'trough'\n",
       "41. 'mortar'\n",
       "42. 'X.2:mortar'\n",
       "43. 'plank'\n",
       "44. 'ship'\n",
       "45. 'ship_fisherman'\n",
       "46. 'X1'\n",
       "47. 'X1.1'\n",
       "48. 'horn_ship'\n",
       "49. 'boat'\n",
       "50. 'pole'\n",
       "51. 'rudder'\n",
       "52. 'rope'\n",
       "53. 'staff'\n",
       "54. 'chariot'\n",
       "55. 'whip'\n",
       "56. 'harness'\n",
       "57. 'vehicle_place'\n",
       "58. 'door'\n",
       "59. 'door.1'\n",
       "60. 'bolt'\n",
       "61. 'tube'\n",
       "62. 'loom'\n",
       "63. 'loom.1'\n",
       "64. 'comb'\n",
       "65. 'spindle'\n",
       "66. 'pole.1'\n",
       "67. 'rim'\n",
       "68. 'scales'\n",
       "69. 'plow'\n",
       "70. 'harrow'\n",
       "71. 'tool.1'\n",
       "72. 'hoe'\n",
       "73. 'brick.mold'\n",
       "74. 'nail_mound_dig'\n",
       "75. 'weapon'\n",
       "76. 'board'\n",
       "77. 'unit'\n",
       "78. 'net'\n",
       "79. 'snare'\n",
       "80. 'trap'\n",
       "81. 'youth_praise'\n",
       "82. 'sign'\n",
       "83. 'thorn'\n",
       "84. 'lance'\n",
       "85. 'weapon.1'\n",
       "86. 'bow'\n",
       "87. 'trap.1'\n",
       "88. 'weapon.2'\n",
       "89. 'ax'\n",
       "90. 'ax.1'\n",
       "91. 'fork'\n",
       "92. 'moon'\n",
       "93. 'shovel'\n",
       "94. 'rot'\n",
       "95. 'hook'\n",
       "96. 'instrument'\n",
       "97. 'X.4'\n",
       "98. 'post_bed'\n",
       "99. 'lyre'\n",
       "100. 'instrument.1'\n",
       "101. 'handle'\n",
       "102. 'bench'\n",
       "103. 'ram'\n",
       "104. 'weapon.3'\n",
       "105. 'beam'\n",
       "106. 'rudder.1'\n",
       "107. 'crook'\n",
       "108. 'forest_die'\n",
       "109. 'seed.funnel'\n",
       "110. 'wood.1'\n",
       "111. 'tree'\n",
       "112. 'X.5'\n",
       "113. 'weed'\n",
       "114. 'staff.1'\n",
       "115. 'X.6'\n",
       "116. 'board.1'\n",
       "117. 'sign_eat'\n",
       "118. 'doll'\n",
       "\n",
       "\n",
       "\n",
       "$X100003\n",
       ":   'tree'\n",
       "\n",
       "\n"
      ],
      "text/plain": [
       "$P459228\n",
       "[1] \"nut\"\n",
       "\n",
       "$P459231\n",
       "[1] \"chariot\"\n",
       "\n",
       "$P459784\n",
       "[1] \"X.6\"    \"tree.1\"\n",
       "\n",
       "$P492330\n",
       "[1] \"bolt\" \"X.6\" \n",
       "\n",
       "$Q000039\n",
       "  [1] \"tree\"           \"apple\"          \"tree.1\"         \"tamarisk\"      \n",
       "  [5] \"tree.2\"         \"plum\"           \"nut\"            \"poplar\"        \n",
       "  [9] \"wood.1\"         \"tree.3\"         \"wood\"           \"twig\"          \n",
       " [13] \"tree.4\"         \"cedar\"          \"poplar.1\"       \"flower\"        \n",
       " [17] \"tree.5\"         \"sprout\"         \"poplar.1\"       \"acacia\"        \n",
       " [21] \"tree.6\"         \"X\"              \"foliage_sky\"    \"branch\"        \n",
       " [25] \"trough\"         \"X.1\"            \"X.2\"            \"X.2:mortar\"    \n",
       " [29] \"X.2\"            \"tool\"           \"X.3\"            \"chair\"         \n",
       " [33] \"stool\"          \"bed\"            \"dish\"           \"table\"         \n",
       " [37] \"jug\"            \"stair\"          \"planking_stair\" \"trough\"        \n",
       " [41] \"mortar\"         \"X.2:mortar\"     \"plank\"          \"ship\"          \n",
       " [45] \"ship_fisherman\" \"X1\"             \"X1.1\"           \"horn_ship\"     \n",
       " [49] \"boat\"           \"pole\"           \"rudder\"         \"rope\"          \n",
       " [53] \"staff\"          \"chariot\"        \"whip\"           \"harness\"       \n",
       " [57] \"vehicle_place\"  \"door\"           \"door.1\"         \"bolt\"          \n",
       " [61] \"tube\"           \"loom\"           \"loom.1\"         \"comb\"          \n",
       " [65] \"spindle\"        \"pole.1\"         \"rim\"            \"scales\"        \n",
       " [69] \"plow\"           \"harrow\"         \"tool.1\"         \"hoe\"           \n",
       " [73] \"brick.mold\"     \"nail_mound_dig\" \"weapon\"         \"board\"         \n",
       " [77] \"unit\"           \"net\"            \"snare\"          \"trap\"          \n",
       " [81] \"youth_praise\"   \"sign\"           \"thorn\"          \"lance\"         \n",
       " [85] \"weapon.1\"       \"bow\"            \"trap.1\"         \"weapon.2\"      \n",
       " [89] \"ax\"             \"ax.1\"           \"fork\"           \"moon\"          \n",
       " [93] \"shovel\"         \"rot\"            \"hook\"           \"instrument\"    \n",
       " [97] \"X.4\"            \"post_bed\"       \"lyre\"           \"instrument.1\"  \n",
       "[101] \"handle\"         \"bench\"          \"ram\"            \"weapon.3\"      \n",
       "[105] \"beam\"           \"rudder.1\"       \"crook\"          \"forest_die\"    \n",
       "[109] \"seed.funnel\"    \"wood.1\"         \"tree\"           \"X.5\"           \n",
       "[113] \"weed\"           \"staff.1\"        \"X.6\"            \"board.1\"       \n",
       "[117] \"sign_eat\"       \"doll\"          \n",
       "\n",
       "$X100003\n",
       "[1] \"tree\"\n"
      ]
     },
     "metadata": {},
     "output_type": "display_data"
    }
   ],
   "source": [
    "head(doc_sections)\n",
    "tail(doc_sections)"
   ]
  },
  {
   "cell_type": "markdown",
   "metadata": {},
   "source": [
    "We now want to get rid of all documents with only one section, as this will not be informative when comparing section order."
   ]
  },
  {
   "cell_type": "code",
   "execution_count": 10,
   "metadata": {
    "collapsed": false
   },
   "outputs": [
    {
     "data": {
      "text/html": [
       "<dl>\n",
       "\t<dt>$P225033</dt>\n",
       "\t\t<dd><ol class=list-inline>\n",
       "\t<li>'pole'</li>\n",
       "\t<li>'comb'</li>\n",
       "</ol>\n",
       "</dd>\n",
       "\t<dt>$P225086</dt>\n",
       "\t\t<dd><ol class=list-inline>\n",
       "\t<li>'tree.2'</li>\n",
       "\t<li>'acacia'</li>\n",
       "</ol>\n",
       "</dd>\n",
       "\t<dt>$P228096</dt>\n",
       "\t\t<dd><ol class=list-inline>\n",
       "\t<li>'X.2'</li>\n",
       "\t<li>'sign'</li>\n",
       "\t<li>'comb'</li>\n",
       "</ol>\n",
       "</dd>\n",
       "\t<dt>$P228105</dt>\n",
       "\t\t<dd><ol class=list-inline>\n",
       "\t<li>'X.2'</li>\n",
       "\t<li>'sign'</li>\n",
       "\t<li>'X.2'</li>\n",
       "\t<li>'sign'</li>\n",
       "</ol>\n",
       "</dd>\n",
       "\t<dt>$P229426</dt>\n",
       "\t\t<dd><ol class=list-inline>\n",
       "\t<li>'ship_fisherman'</li>\n",
       "\t<li>'X1'</li>\n",
       "</ol>\n",
       "</dd>\n",
       "\t<dt>$P235262</dt>\n",
       "\t\t<dd><ol class=list-inline>\n",
       "\t<li>'tree'</li>\n",
       "\t<li>'apple'</li>\n",
       "\t<li>'tree.1'</li>\n",
       "\t<li>'tamarisk'</li>\n",
       "\t<li>'dish'</li>\n",
       "\t<li>'table'</li>\n",
       "\t<li>'stair'</li>\n",
       "\t<li>'trough'</li>\n",
       "\t<li>'mortar'</li>\n",
       "\t<li>'horn_ship'</li>\n",
       "\t<li>'boat'</li>\n",
       "\t<li>'ship_fisherman'</li>\n",
       "\t<li>'rope'</li>\n",
       "\t<li>'staff'</li>\n",
       "\t<li>'chariot'</li>\n",
       "\t<li>'harness'</li>\n",
       "\t<li>'vehicle_place'</li>\n",
       "\t<li>'X.6'</li>\n",
       "</ol>\n",
       "</dd>\n",
       "</dl>\n"
      ],
      "text/latex": [
       "\\begin{description}\n",
       "\\item[\\$P225033] \\begin{enumerate*}\n",
       "\\item 'pole'\n",
       "\\item 'comb'\n",
       "\\end{enumerate*}\n",
       "\n",
       "\\item[\\$P225086] \\begin{enumerate*}\n",
       "\\item 'tree.2'\n",
       "\\item 'acacia'\n",
       "\\end{enumerate*}\n",
       "\n",
       "\\item[\\$P228096] \\begin{enumerate*}\n",
       "\\item 'X.2'\n",
       "\\item 'sign'\n",
       "\\item 'comb'\n",
       "\\end{enumerate*}\n",
       "\n",
       "\\item[\\$P228105] \\begin{enumerate*}\n",
       "\\item 'X.2'\n",
       "\\item 'sign'\n",
       "\\item 'X.2'\n",
       "\\item 'sign'\n",
       "\\end{enumerate*}\n",
       "\n",
       "\\item[\\$P229426] \\begin{enumerate*}\n",
       "\\item 'ship\\_fisherman'\n",
       "\\item 'X1'\n",
       "\\end{enumerate*}\n",
       "\n",
       "\\item[\\$P235262] \\begin{enumerate*}\n",
       "\\item 'tree'\n",
       "\\item 'apple'\n",
       "\\item 'tree.1'\n",
       "\\item 'tamarisk'\n",
       "\\item 'dish'\n",
       "\\item 'table'\n",
       "\\item 'stair'\n",
       "\\item 'trough'\n",
       "\\item 'mortar'\n",
       "\\item 'horn\\_ship'\n",
       "\\item 'boat'\n",
       "\\item 'ship\\_fisherman'\n",
       "\\item 'rope'\n",
       "\\item 'staff'\n",
       "\\item 'chariot'\n",
       "\\item 'harness'\n",
       "\\item 'vehicle\\_place'\n",
       "\\item 'X.6'\n",
       "\\end{enumerate*}\n",
       "\n",
       "\\end{description}\n"
      ],
      "text/markdown": [
       "$P225033\n",
       ":   1. 'pole'\n",
       "2. 'comb'\n",
       "\n",
       "\n",
       "\n",
       "$P225086\n",
       ":   1. 'tree.2'\n",
       "2. 'acacia'\n",
       "\n",
       "\n",
       "\n",
       "$P228096\n",
       ":   1. 'X.2'\n",
       "2. 'sign'\n",
       "3. 'comb'\n",
       "\n",
       "\n",
       "\n",
       "$P228105\n",
       ":   1. 'X.2'\n",
       "2. 'sign'\n",
       "3. 'X.2'\n",
       "4. 'sign'\n",
       "\n",
       "\n",
       "\n",
       "$P229426\n",
       ":   1. 'ship_fisherman'\n",
       "2. 'X1'\n",
       "\n",
       "\n",
       "\n",
       "$P235262\n",
       ":   1. 'tree'\n",
       "2. 'apple'\n",
       "3. 'tree.1'\n",
       "4. 'tamarisk'\n",
       "5. 'dish'\n",
       "6. 'table'\n",
       "7. 'stair'\n",
       "8. 'trough'\n",
       "9. 'mortar'\n",
       "10. 'horn_ship'\n",
       "11. 'boat'\n",
       "12. 'ship_fisherman'\n",
       "13. 'rope'\n",
       "14. 'staff'\n",
       "15. 'chariot'\n",
       "16. 'harness'\n",
       "17. 'vehicle_place'\n",
       "18. 'X.6'\n",
       "\n",
       "\n",
       "\n",
       "\n",
       "\n"
      ],
      "text/plain": [
       "$P225033\n",
       "[1] \"pole\" \"comb\"\n",
       "\n",
       "$P225086\n",
       "[1] \"tree.2\" \"acacia\"\n",
       "\n",
       "$P228096\n",
       "[1] \"X.2\"  \"sign\" \"comb\"\n",
       "\n",
       "$P228105\n",
       "[1] \"X.2\"  \"sign\" \"X.2\"  \"sign\"\n",
       "\n",
       "$P229426\n",
       "[1] \"ship_fisherman\" \"X1\"            \n",
       "\n",
       "$P235262\n",
       " [1] \"tree\"           \"apple\"          \"tree.1\"         \"tamarisk\"      \n",
       " [5] \"dish\"           \"table\"          \"stair\"          \"trough\"        \n",
       " [9] \"mortar\"         \"horn_ship\"      \"boat\"           \"ship_fisherman\"\n",
       "[13] \"rope\"           \"staff\"          \"chariot\"        \"harness\"       \n",
       "[17] \"vehicle_place\"  \"X.6\"           \n"
      ]
     },
     "metadata": {},
     "output_type": "display_data"
    }
   ],
   "source": [
    "num_sections = sapply(doc_sections, length)\n",
    "doc_sections_keep = doc_sections[-which(num_sections == 1)]\n",
    "head(doc_sections_keep)"
   ]
  },
  {
   "cell_type": "code",
   "execution_count": 11,
   "metadata": {
    "collapsed": false
   },
   "outputs": [
    {
     "name": "stdout",
     "output_type": "stream",
     "text": [
      "[1] \"This leaves us with 53 documents.\"\n"
     ]
    }
   ],
   "source": [
    "print(paste(\"This leaves us with\", length(doc_sections_keep), \"documents.\"))"
   ]
  },
  {
   "cell_type": "markdown",
   "metadata": {},
   "source": [
    "Most documents have fewer than 5 sections. Eighteen documents have 20 sections or more. Twenty-two have 10 sections or more. "
   ]
  },
  {
   "cell_type": "code",
   "execution_count": 12,
   "metadata": {
    "collapsed": false
   },
   "outputs": [
    {
     "data": {
      "text/html": [
       "18"
      ],
      "text/latex": [
       "18"
      ],
      "text/markdown": [
       "18"
      ],
      "text/plain": [
       "[1] 18"
      ]
     },
     "metadata": {},
     "output_type": "display_data"
    },
    {
     "data": {
      "text/html": [
       "<ol class=list-inline>\n",
       "\t<li>'P235262'</li>\n",
       "\t<li>'P247864'</li>\n",
       "\t<li>'P250364'</li>\n",
       "\t<li>'P253228'</li>\n",
       "\t<li>'P253233'</li>\n",
       "\t<li>'P253866'</li>\n",
       "\t<li>'P271301'</li>\n",
       "\t<li>'P271771'</li>\n",
       "\t<li>'P271911'</li>\n",
       "\t<li>'P273880'</li>\n",
       "\t<li>'P332934'</li>\n",
       "\t<li>'P346714'</li>\n",
       "\t<li>'P347814'</li>\n",
       "\t<li>'P370399'</li>\n",
       "\t<li>'P388265'</li>\n",
       "\t<li>'P429503'</li>\n",
       "\t<li>'P437074'</li>\n",
       "\t<li>'P447996'</li>\n",
       "\t<li>'P459216'</li>\n",
       "\t<li>'P459217'</li>\n",
       "\t<li>'P459218'</li>\n",
       "\t<li>'Q000039'</li>\n",
       "</ol>\n"
      ],
      "text/latex": [
       "\\begin{enumerate*}\n",
       "\\item 'P235262'\n",
       "\\item 'P247864'\n",
       "\\item 'P250364'\n",
       "\\item 'P253228'\n",
       "\\item 'P253233'\n",
       "\\item 'P253866'\n",
       "\\item 'P271301'\n",
       "\\item 'P271771'\n",
       "\\item 'P271911'\n",
       "\\item 'P273880'\n",
       "\\item 'P332934'\n",
       "\\item 'P346714'\n",
       "\\item 'P347814'\n",
       "\\item 'P370399'\n",
       "\\item 'P388265'\n",
       "\\item 'P429503'\n",
       "\\item 'P437074'\n",
       "\\item 'P447996'\n",
       "\\item 'P459216'\n",
       "\\item 'P459217'\n",
       "\\item 'P459218'\n",
       "\\item 'Q000039'\n",
       "\\end{enumerate*}\n"
      ],
      "text/markdown": [
       "1. 'P235262'\n",
       "2. 'P247864'\n",
       "3. 'P250364'\n",
       "4. 'P253228'\n",
       "5. 'P253233'\n",
       "6. 'P253866'\n",
       "7. 'P271301'\n",
       "8. 'P271771'\n",
       "9. 'P271911'\n",
       "10. 'P273880'\n",
       "11. 'P332934'\n",
       "12. 'P346714'\n",
       "13. 'P347814'\n",
       "14. 'P370399'\n",
       "15. 'P388265'\n",
       "16. 'P429503'\n",
       "17. 'P437074'\n",
       "18. 'P447996'\n",
       "19. 'P459216'\n",
       "20. 'P459217'\n",
       "21. 'P459218'\n",
       "22. 'Q000039'\n",
       "\n",
       "\n"
      ],
      "text/plain": [
       " [1] \"P235262\" \"P247864\" \"P250364\" \"P253228\" \"P253233\" \"P253866\" \"P271301\"\n",
       " [8] \"P271771\" \"P271911\" \"P273880\" \"P332934\" \"P346714\" \"P347814\" \"P370399\"\n",
       "[15] \"P388265\" \"P429503\" \"P437074\" \"P447996\" \"P459216\" \"P459217\" \"P459218\"\n",
       "[22] \"Q000039\""
      ]
     },
     "metadata": {},
     "output_type": "display_data"
    },
    {
     "data": {
      "text/html": [
       "22"
      ],
      "text/latex": [
       "22"
      ],
      "text/markdown": [
       "22"
      ],
      "text/plain": [
       "[1] 22"
      ]
     },
     "metadata": {},
     "output_type": "display_data"
    },
    {
     "data": {
      "image/png": "[encoded data removed]",
      "text/plain": [
       "Plot with title “Histogram of num_sections”"
      ]
     },
     "metadata": {},
     "output_type": "display_data"
    }
   ],
   "source": [
    "num_sections = sapply(doc_sections_keep, length)\n",
    "hist(num_sections, breaks = 20)\n",
    "length(which(num_sections >= 20))\n",
    "names(which(num_sections >= 10))\n",
    "length(which(num_sections >= 10))"
   ]
  },
  {
   "cell_type": "markdown",
   "metadata": {},
   "source": [
    "### Method 1: Repeated sections combined\n",
    "\n",
    "This method considers repeated sections in a document as a single section and combines their k-neighborhoods."
   ]
  },
  {
   "cell_type": "markdown",
   "metadata": {},
   "source": [
    "First, we need a function to get the section neighborhood for any given section in any given document. The function below accomplishes this. Note that it is agnostic to the number of times a section appears in a document, combining the neighborhoods for all times that section appears. Individual neighborhoods are \"neighborhood\", combined neighborhoods are \"n\". \n",
    "\n",
    "Note also that the complicated indexing within the for loop is required to avoid going out of bounds. This is important for first few and last few sections in a document. Going out of bounds into negative numbers will throw a `Traceback error`, however, going out of bounds into numbers larger than the length of the vector you're indexing will add `NA`s to your resulting vector. This is worse because the `NA`s are counted in the intersection!\n",
    "\n",
    "Another thing to notice is that the grep statement only finds whole word matches. This is accomplished by using the \"beginning of string\" `^` and \"end of string\" `$` metacharacters within the regular expression search."
   ]
  },
  {
   "cell_type": "code",
   "execution_count": 13,
   "metadata": {
    "collapsed": false
   },
   "outputs": [],
   "source": [
    "get_neighborhood = function(doc, i, k) {\n",
    "    \n",
    "    # create vector to store combined neighborhoods\n",
    "    n = c()\n",
    "    \n",
    "    # search for a section within a document and extract neighborhood\n",
    "    for(x in grep(paste0(\"^\",i,\"$\"), doc)) {\n",
    "    \n",
    "        if(x >= k+1 & x <= length(doc) - k) sequence = (x - k):(x + k)\n",
    "        else if(x < k+1) sequence = 1:(x + k)\n",
    "        else if(x > length(doc) - k) sequence = (x - k):length(doc)\n",
    "    \n",
    "        neighborhood = doc[sequence]\n",
    "    \n",
    "        # add neighborhood to combined neighborhoods for repeated sections\n",
    "        n = c(n, neighborhood)\n",
    "}\n",
    "        # return combined neighborhood    \n",
    "        n \n",
    "    }"
   ]
  },
  {
   "cell_type": "markdown",
   "metadata": {},
   "source": [
    "Our next step is to create a function to calculate a document-wide synteny index (SI) for any given document pair. "
   ]
  },
  {
   "cell_type": "code",
   "execution_count": 14,
   "metadata": {
    "collapsed": false
   },
   "outputs": [],
   "source": [
    "#A = doc_sections[[\"P235262\"]]\n",
    "#B = doc_sections[[\"P247864\"]]\n",
    "\n",
    "calc_SI = function(A, B, k) {\n",
    "\n",
    "    I = intersect(A, B)\n",
    "#    print(I)\n",
    "    counter = 0\n",
    "\n",
    "    for(i in I) {\n",
    "#        print(i)\n",
    "        n_A = get_neighborhood(A, i, k)\n",
    "        n_B = get_neighborhood(B, i, k)\n",
    "        SI = length(na.omit(intersect(n_A, n_B))) - 1 # subtract the shared section iteself\n",
    "#        print(SI)\n",
    "        counter = counter + SI\n",
    "        }\n",
    "\n",
    "return(c(SI = counter/length(I), num_shared = length(I), k = k))\n",
    "#counter/length(I)\n",
    "    }\n",
    "\n",
    "#test = calc_SI(A, B, k = 2)\n",
    "#test"
   ]
  },
  {
   "cell_type": "markdown",
   "metadata": {},
   "source": [
    "Now we will create a dataframe to store our results. It will have column `doc_A` = text_id for first document in compared pair, column `doc_B` = text_id for second document in compared pair, `num_shared_sec` = length(I) or number of shared sections between the two documents, and `SI` = document wide SI. \n",
    "\n",
    "The function `combn` allows us to get all possible combinations of documents. `t` transposes the resulting data.frame."
   ]
  },
  {
   "cell_type": "markdown",
   "metadata": {},
   "source": [
    "The theoretical maximum SI for a document pair depends on k, but is always less than 2k, because sections at the end and beginning of documents can never have a SI of 2k, even if they match perfectly with the comparison document. \n",
    "\n",
    "For k = 2, the maximum SI for a document pair is 3.66666666666667."
   ]
  },
  {
   "cell_type": "code",
   "execution_count": 45,
   "metadata": {
    "collapsed": false
   },
   "outputs": [
    {
     "name": "stderr",
     "output_type": "stream",
     "text": [
      "Warning message in data.frame(doc_A = all_pairs[, 1], doc_B = all_pairs[, 2], num_shared_sec = numeric(length(all_pairs)), :\n",
      "“row names were found from a short variable and have been discarded”"
     ]
    },
    {
     "name": "stdout",
     "output_type": "stream",
     "text": [
      "'data.frame':\t2756 obs. of  5 variables:\n",
      " $ doc_A         : chr  \"P225033\" \"P225033\" \"P225033\" \"P225033\" ...\n",
      " $ doc_B         : chr  \"P225086\" \"P228096\" \"P228105\" \"P229426\" ...\n",
      " $ num_shared_sec: num  0 0 0 0 0 0 0 0 0 0 ...\n",
      " $ SI            : num  0 0 0 0 0 0 0 0 0 0 ...\n",
      " $ k             : num  0 0 0 0 0 0 0 0 0 0 ...\n"
     ]
    }
   ],
   "source": [
    "docs = names(doc_sections_keep)\n",
    "all_pairs = t(as.data.frame(combn(docs, 2)))\n",
    "\n",
    "all_pairs_SI = data.frame(\"doc_A\" = all_pairs[,1], \"doc_B\" = all_pairs[,2], \n",
    "                        \"num_shared_sec\" = numeric(length(all_pairs)), \n",
    "                       \"SI\" = numeric(length(all_pairs)), \"k\" = numeric(length(all_pairs)))\n",
    "all_pairs_SI$doc_A = as.character(all_pairs_SI$doc_A)\n",
    "all_pairs_SI$doc_B = as.character(all_pairs_SI$doc_B)\n",
    "\n",
    "str(all_pairs_SI)"
   ]
  },
  {
   "cell_type": "markdown",
   "metadata": {},
   "source": [
    "Now we use the `calc_SI` function to iterate through each of the document pairs and store the results in our data.frame `all_pairs_SI`."
   ]
  },
  {
   "cell_type": "code",
   "execution_count": 46,
   "metadata": {
    "collapsed": false
   },
   "outputs": [],
   "source": [
    "for(i in 1:nrow(all_pairs_SI)) {\n",
    "    A = all_pairs_SI[i,]$doc_A\n",
    "    B = all_pairs_SI[i,]$doc_B\n",
    "    result = calc_SI(doc_sections_keep[[A]], doc_sections_keep[[B]], k = 2)\n",
    "    all_pairs_SI[i,]$SI = result[\"SI\"]\n",
    "    all_pairs_SI[i,]$num_shared_sec = result[\"num_shared\"]\n",
    "    all_pairs_SI[i,]$k = result[\"k\"] \n",
    "}"
   ]
  },
  {
   "cell_type": "code",
   "execution_count": 47,
   "metadata": {
    "collapsed": false
   },
   "outputs": [
    {
     "data": {
      "text/plain": [
       "   Min. 1st Qu.  Median    Mean 3rd Qu.    Max.    NA's \n",
       " 0.0000  0.0000  0.0000  0.5172  1.0000  3.3330    1340 "
      ]
     },
     "metadata": {},
     "output_type": "display_data"
    },
    {
     "data": {
      "text/html": [
       "2756"
      ],
      "text/latex": [
       "2756"
      ],
      "text/markdown": [
       "2756"
      ],
      "text/plain": [
       "[1] 2756"
      ]
     },
     "metadata": {},
     "output_type": "display_data"
    }
   ],
   "source": [
    "summary(all_pairs_SI$SI)\n",
    "nrow(all_pairs_SI)"
   ]
  },
  {
   "cell_type": "markdown",
   "metadata": {},
   "source": [
    "With k =2, the maximum possible SI for a pair of documents is 3.6667 (if the two documents are identical). However, the maximum calculated here is lower than the theoretical maximum. This is because the combinations are calculated without replacement (doc_A and doc_B can't be the same)."
   ]
  },
  {
   "cell_type": "code",
   "execution_count": 48,
   "metadata": {
    "collapsed": false
   },
   "outputs": [
    {
     "data": {
      "text/html": [
       "<table>\n",
       "<thead><tr><th scope=col>doc_A</th><th scope=col>doc_B</th><th scope=col>num_shared_sec</th><th scope=col>SI</th><th scope=col>k</th></tr></thead>\n",
       "<tbody>\n",
       "</tbody>\n",
       "</table>\n"
      ],
      "text/latex": [
       "\\begin{tabular}{r|lllll}\n",
       " doc\\_A & doc\\_B & num\\_shared\\_sec & SI & k\\\\\n",
       "\\hline\n",
       "\\end{tabular}\n"
      ],
      "text/markdown": [
       "\n",
       "doc_A | doc_B | num_shared_sec | SI | k | \n",
       "||\n",
       "\n",
       "\n"
      ],
      "text/plain": [
       "     doc_A doc_B num_shared_sec SI k"
      ]
     },
     "metadata": {},
     "output_type": "display_data"
    }
   ],
   "source": [
    "# Demonstration that doc_A and doc_B are never the same.\n",
    "all_pairs_SI[which(all_pairs_SI$doc_B == all_pairs_SI$doc_A),]"
   ]
  },
  {
   "cell_type": "code",
   "execution_count": 49,
   "metadata": {
    "collapsed": false
   },
   "outputs": [
    {
     "data": {
      "text/html": [
       "<table>\n",
       "<thead><tr><th scope=col>doc_A</th><th scope=col>doc_B</th><th scope=col>num_shared_sec</th><th scope=col>SI</th><th scope=col>k</th></tr></thead>\n",
       "<tbody>\n",
       "\t<tr><td>P225033</td><td>P225086</td><td>0      </td><td>NaN    </td><td>2      </td></tr>\n",
       "\t<tr><td>P225033</td><td>P228096</td><td>1      </td><td>  0    </td><td>2      </td></tr>\n",
       "\t<tr><td>P225033</td><td>P228105</td><td>0      </td><td>NaN    </td><td>2      </td></tr>\n",
       "\t<tr><td>P225033</td><td>P229426</td><td>0      </td><td>NaN    </td><td>2      </td></tr>\n",
       "\t<tr><td>P225033</td><td>P235262</td><td>0      </td><td>NaN    </td><td>2      </td></tr>\n",
       "\t<tr><td>P225033</td><td>P247864</td><td>1      </td><td>  0    </td><td>2      </td></tr>\n",
       "</tbody>\n",
       "</table>\n"
      ],
      "text/latex": [
       "\\begin{tabular}{r|lllll}\n",
       " doc\\_A & doc\\_B & num\\_shared\\_sec & SI & k\\\\\n",
       "\\hline\n",
       "\t P225033 & P225086 & 0       & NaN     & 2      \\\\\n",
       "\t P225033 & P228096 & 1       &   0     & 2      \\\\\n",
       "\t P225033 & P228105 & 0       & NaN     & 2      \\\\\n",
       "\t P225033 & P229426 & 0       & NaN     & 2      \\\\\n",
       "\t P225033 & P235262 & 0       & NaN     & 2      \\\\\n",
       "\t P225033 & P247864 & 1       &   0     & 2      \\\\\n",
       "\\end{tabular}\n"
      ],
      "text/markdown": [
       "\n",
       "doc_A | doc_B | num_shared_sec | SI | k | \n",
       "|---|---|---|---|---|---|\n",
       "| P225033 | P225086 | 0       | NaN     | 2       | \n",
       "| P225033 | P228096 | 1       |   0     | 2       | \n",
       "| P225033 | P228105 | 0       | NaN     | 2       | \n",
       "| P225033 | P229426 | 0       | NaN     | 2       | \n",
       "| P225033 | P235262 | 0       | NaN     | 2       | \n",
       "| P225033 | P247864 | 1       |   0     | 2       | \n",
       "\n",
       "\n"
      ],
      "text/plain": [
       "  doc_A   doc_B   num_shared_sec SI  k\n",
       "1 P225033 P225086 0              NaN 2\n",
       "2 P225033 P228096 1                0 2\n",
       "3 P225033 P228105 0              NaN 2\n",
       "4 P225033 P229426 0              NaN 2\n",
       "5 P225033 P235262 0              NaN 2\n",
       "6 P225033 P247864 1                0 2"
      ]
     },
     "metadata": {},
     "output_type": "display_data"
    },
    {
     "data": {
      "text/html": [
       "2756"
      ],
      "text/latex": [
       "2756"
      ],
      "text/markdown": [
       "2756"
      ],
      "text/plain": [
       "[1] 2756"
      ]
     },
     "metadata": {},
     "output_type": "display_data"
    }
   ],
   "source": [
    "head(all_pairs_SI)\n",
    "nrow(all_pairs_SI)"
   ]
  },
  {
   "cell_type": "markdown",
   "metadata": {},
   "source": [
    "Although the actual maximum SI for any given document pair will be lower than the theoretical maximum (due to documents having ends), we can use the theoretical maximum to calculate distance. The theoretical maximum SI is 2k.\n",
    "\n",
    "We now add a distance metric (`2k-SI`) to our dataframe."
   ]
  },
  {
   "cell_type": "code",
   "execution_count": 50,
   "metadata": {
    "collapsed": false
   },
   "outputs": [
    {
     "data": {
      "text/html": [
       "<table>\n",
       "<thead><tr><th scope=col>doc_A</th><th scope=col>doc_B</th><th scope=col>num_shared_sec</th><th scope=col>SI</th><th scope=col>k</th></tr></thead>\n",
       "<tbody>\n",
       "\t<tr><td>P225033</td><td>P225086</td><td>0      </td><td>-4     </td><td>2      </td></tr>\n",
       "\t<tr><td>P225033</td><td>P228096</td><td>1      </td><td> 0     </td><td>2      </td></tr>\n",
       "\t<tr><td>P225033</td><td>P228105</td><td>0      </td><td>-4     </td><td>2      </td></tr>\n",
       "\t<tr><td>P225033</td><td>P229426</td><td>0      </td><td>-4     </td><td>2      </td></tr>\n",
       "\t<tr><td>P225033</td><td>P235262</td><td>0      </td><td>-4     </td><td>2      </td></tr>\n",
       "\t<tr><td>P225033</td><td>P247864</td><td>1      </td><td> 0     </td><td>2      </td></tr>\n",
       "</tbody>\n",
       "</table>\n"
      ],
      "text/latex": [
       "\\begin{tabular}{r|lllll}\n",
       " doc\\_A & doc\\_B & num\\_shared\\_sec & SI & k\\\\\n",
       "\\hline\n",
       "\t P225033 & P225086 & 0       & -4      & 2      \\\\\n",
       "\t P225033 & P228096 & 1       &  0      & 2      \\\\\n",
       "\t P225033 & P228105 & 0       & -4      & 2      \\\\\n",
       "\t P225033 & P229426 & 0       & -4      & 2      \\\\\n",
       "\t P225033 & P235262 & 0       & -4      & 2      \\\\\n",
       "\t P225033 & P247864 & 1       &  0      & 2      \\\\\n",
       "\\end{tabular}\n"
      ],
      "text/markdown": [
       "\n",
       "doc_A | doc_B | num_shared_sec | SI | k | \n",
       "|---|---|---|---|---|---|\n",
       "| P225033 | P225086 | 0       | -4      | 2       | \n",
       "| P225033 | P228096 | 1       |  0      | 2       | \n",
       "| P225033 | P228105 | 0       | -4      | 2       | \n",
       "| P225033 | P229426 | 0       | -4      | 2       | \n",
       "| P225033 | P235262 | 0       | -4      | 2       | \n",
       "| P225033 | P247864 | 1       |  0      | 2       | \n",
       "\n",
       "\n"
      ],
      "text/plain": [
       "  doc_A   doc_B   num_shared_sec SI k\n",
       "1 P225033 P225086 0              -4 2\n",
       "2 P225033 P228096 1               0 2\n",
       "3 P225033 P228105 0              -4 2\n",
       "4 P225033 P229426 0              -4 2\n",
       "5 P225033 P235262 0              -4 2\n",
       "6 P225033 P247864 1               0 2"
      ]
     },
     "metadata": {},
     "output_type": "display_data"
    }
   ],
   "source": [
    "# provisionally replace SI of NaN to 8\n",
    "NA_rows = which(is.na(all_pairs_SI$SI) == TRUE)\n",
    "all_pairs_SI[NA_rows,]$SI = -4\n",
    "head(all_pairs_SI)"
   ]
  },
  {
   "cell_type": "code",
   "execution_count": 52,
   "metadata": {
    "collapsed": false
   },
   "outputs": [
    {
     "data": {
      "text/html": [
       "<table>\n",
       "<thead><tr><th scope=col>doc_A</th><th scope=col>doc_B</th><th scope=col>num_shared_sec</th><th scope=col>SI</th><th scope=col>k</th><th scope=col>dist</th></tr></thead>\n",
       "<tbody>\n",
       "\t<tr><td>P225033</td><td>P225086</td><td>0      </td><td>-4     </td><td>2      </td><td>8      </td></tr>\n",
       "\t<tr><td>P225033</td><td>P228096</td><td>1      </td><td> 0     </td><td>2      </td><td>4      </td></tr>\n",
       "\t<tr><td>P225033</td><td>P228105</td><td>0      </td><td>-4     </td><td>2      </td><td>8      </td></tr>\n",
       "\t<tr><td>P225033</td><td>P229426</td><td>0      </td><td>-4     </td><td>2      </td><td>8      </td></tr>\n",
       "\t<tr><td>P225033</td><td>P235262</td><td>0      </td><td>-4     </td><td>2      </td><td>8      </td></tr>\n",
       "\t<tr><td>P225033</td><td>P247864</td><td>1      </td><td> 0     </td><td>2      </td><td>4      </td></tr>\n",
       "</tbody>\n",
       "</table>\n"
      ],
      "text/latex": [
       "\\begin{tabular}{r|llllll}\n",
       " doc\\_A & doc\\_B & num\\_shared\\_sec & SI & k & dist\\\\\n",
       "\\hline\n",
       "\t P225033 & P225086 & 0       & -4      & 2       & 8      \\\\\n",
       "\t P225033 & P228096 & 1       &  0      & 2       & 4      \\\\\n",
       "\t P225033 & P228105 & 0       & -4      & 2       & 8      \\\\\n",
       "\t P225033 & P229426 & 0       & -4      & 2       & 8      \\\\\n",
       "\t P225033 & P235262 & 0       & -4      & 2       & 8      \\\\\n",
       "\t P225033 & P247864 & 1       &  0      & 2       & 4      \\\\\n",
       "\\end{tabular}\n"
      ],
      "text/markdown": [
       "\n",
       "doc_A | doc_B | num_shared_sec | SI | k | dist | \n",
       "|---|---|---|---|---|---|\n",
       "| P225033 | P225086 | 0       | -4      | 2       | 8       | \n",
       "| P225033 | P228096 | 1       |  0      | 2       | 4       | \n",
       "| P225033 | P228105 | 0       | -4      | 2       | 8       | \n",
       "| P225033 | P229426 | 0       | -4      | 2       | 8       | \n",
       "| P225033 | P235262 | 0       | -4      | 2       | 8       | \n",
       "| P225033 | P247864 | 1       |  0      | 2       | 4       | \n",
       "\n",
       "\n"
      ],
      "text/plain": [
       "  doc_A   doc_B   num_shared_sec SI k dist\n",
       "1 P225033 P225086 0              -4 2 8   \n",
       "2 P225033 P228096 1               0 2 4   \n",
       "3 P225033 P228105 0              -4 2 8   \n",
       "4 P225033 P229426 0              -4 2 8   \n",
       "5 P225033 P235262 0              -4 2 8   \n",
       "6 P225033 P247864 1               0 2 4   "
      ]
     },
     "metadata": {},
     "output_type": "display_data"
    },
    {
     "data": {
      "text/html": [
       "2756"
      ],
      "text/latex": [
       "2756"
      ],
      "text/markdown": [
       "2756"
      ],
      "text/plain": [
       "[1] 2756"
      ]
     },
     "metadata": {},
     "output_type": "display_data"
    }
   ],
   "source": [
    "# Remove rows where SI is NA\n",
    "# all_pairs_SI = all_pairs_SI[!is.na(all_pairs_SI$SI),]\n",
    "\n",
    "# Calculate distance and add to dataframe\n",
    "all_pairs_SI$dist = (2*all_pairs_SI$k)-(all_pairs_SI$SI)\n",
    "head(all_pairs_SI)\n",
    "nrow(all_pairs_SI)"
   ]
  },
  {
   "cell_type": "code",
   "execution_count": 53,
   "metadata": {
    "collapsed": false
   },
   "outputs": [
    {
     "data": {
      "image/png": "[encoded data removed]",
      "text/plain": [
       "Plot with title “Histogram of all_pairs_SI$dist”"
      ]
     },
     "metadata": {},
     "output_type": "display_data"
    }
   ],
   "source": [
    "hist(all_pairs_SI$dist, breaks = 30)"
   ]
  },
  {
   "cell_type": "code",
   "execution_count": 54,
   "metadata": {
    "collapsed": false
   },
   "outputs": [
    {
     "data": {
      "text/html": [
       "<table>\n",
       "<thead><tr><th scope=col>doc_A</th><th scope=col>doc_B</th><th scope=col>dist</th></tr></thead>\n",
       "<tbody>\n",
       "\t<tr><td>P225033</td><td>P225086</td><td>8      </td></tr>\n",
       "\t<tr><td>P225033</td><td>P228096</td><td>4      </td></tr>\n",
       "\t<tr><td>P225033</td><td>P228105</td><td>8      </td></tr>\n",
       "\t<tr><td>P225033</td><td>P229426</td><td>8      </td></tr>\n",
       "\t<tr><td>P225033</td><td>P235262</td><td>8      </td></tr>\n",
       "\t<tr><td>P225033</td><td>P247864</td><td>4      </td></tr>\n",
       "</tbody>\n",
       "</table>\n"
      ],
      "text/latex": [
       "\\begin{tabular}{r|lll}\n",
       " doc\\_A & doc\\_B & dist\\\\\n",
       "\\hline\n",
       "\t P225033 & P225086 & 8      \\\\\n",
       "\t P225033 & P228096 & 4      \\\\\n",
       "\t P225033 & P228105 & 8      \\\\\n",
       "\t P225033 & P229426 & 8      \\\\\n",
       "\t P225033 & P235262 & 8      \\\\\n",
       "\t P225033 & P247864 & 4      \\\\\n",
       "\\end{tabular}\n"
      ],
      "text/markdown": [
       "\n",
       "doc_A | doc_B | dist | \n",
       "|---|---|---|---|---|---|\n",
       "| P225033 | P225086 | 8       | \n",
       "| P225033 | P228096 | 4       | \n",
       "| P225033 | P228105 | 8       | \n",
       "| P225033 | P229426 | 8       | \n",
       "| P225033 | P235262 | 8       | \n",
       "| P225033 | P247864 | 4       | \n",
       "\n",
       "\n"
      ],
      "text/plain": [
       "  doc_A   doc_B   dist\n",
       "1 P225033 P225086 8   \n",
       "2 P225033 P228096 4   \n",
       "3 P225033 P228105 8   \n",
       "4 P225033 P229426 8   \n",
       "5 P225033 P235262 8   \n",
       "6 P225033 P247864 4   "
      ]
     },
     "metadata": {},
     "output_type": "display_data"
    }
   ],
   "source": [
    "all_pairs_SI = all_pairs_SI[,c(\"doc_A\", \"doc_B\", \"dist\")]\n",
    "head(all_pairs_SI)"
   ]
  },
  {
   "cell_type": "code",
   "execution_count": null,
   "metadata": {
    "collapsed": false
   },
   "outputs": [],
   "source": [
    "#install.packages(\"reshape2\")"
   ]
  },
  {
   "cell_type": "code",
   "execution_count": 55,
   "metadata": {
    "collapsed": false
   },
   "outputs": [],
   "source": [
    "library(reshape2, lib.loc = \"/anaconda/lib/R/library\")"
   ]
  },
  {
   "cell_type": "code",
   "execution_count": 56,
   "metadata": {
    "collapsed": false
   },
   "outputs": [
    {
     "data": {
      "text/html": [
       "<table>\n",
       "<thead><tr><th scope=col>doc_A</th><th scope=col>P225086</th><th scope=col>P228096</th><th scope=col>P228105</th><th scope=col>P229426</th><th scope=col>P235262</th><th scope=col>P247864</th><th scope=col>P250361</th><th scope=col>P250362</th><th scope=col>P250363</th><th scope=col>⋯</th><th scope=col>P447996</th><th scope=col>P459216</th><th scope=col>P459217</th><th scope=col>P459218</th><th scope=col>P459225</th><th scope=col>P459226</th><th scope=col>P459227</th><th scope=col>P459784</th><th scope=col>P492330</th><th scope=col>Q000039</th></tr></thead>\n",
       "<tbody>\n",
       "\t<tr><td>P225033 </td><td>  8     </td><td>  4     </td><td>  8     </td><td>  8     </td><td>  8     </td><td>4.000000</td><td>8       </td><td>8       </td><td>8       </td><td>⋯       </td><td>8.0     </td><td>8.000000</td><td>8.0     </td><td>4       </td><td>8       </td><td>8.000000</td><td>8       </td><td>8       </td><td>8       </td><td>4.000000</td></tr>\n",
       "\t<tr><td>P225086 </td><td>NaN     </td><td>  8     </td><td>  8     </td><td>  8     </td><td>  8     </td><td>4.000000</td><td>8       </td><td>8       </td><td>8       </td><td>⋯       </td><td>4.0     </td><td>4.000000</td><td>4.0     </td><td>8       </td><td>8       </td><td>8.000000</td><td>8       </td><td>8       </td><td>8       </td><td>4.000000</td></tr>\n",
       "\t<tr><td>P228096 </td><td>NaN     </td><td>NaN     </td><td>  3     </td><td>  8     </td><td>  8     </td><td>4.000000</td><td>8       </td><td>8       </td><td>8       </td><td>⋯       </td><td>4.0     </td><td>8.000000</td><td>4.0     </td><td>4       </td><td>8       </td><td>8.000000</td><td>8       </td><td>8       </td><td>8       </td><td>4.000000</td></tr>\n",
       "\t<tr><td>P228105 </td><td>NaN     </td><td>NaN     </td><td>NaN     </td><td>  8     </td><td>  8     </td><td>4.000000</td><td>8       </td><td>8       </td><td>8       </td><td>⋯       </td><td>4.0     </td><td>8.000000</td><td>4.0     </td><td>8       </td><td>8       </td><td>8.000000</td><td>8       </td><td>8       </td><td>8       </td><td>4.000000</td></tr>\n",
       "\t<tr><td>P229426 </td><td>NaN     </td><td>NaN     </td><td>NaN     </td><td>NaN     </td><td>  4     </td><td>4.000000</td><td>8       </td><td>8       </td><td>8       </td><td>⋯       </td><td>3.0     </td><td>4.000000</td><td>8.0     </td><td>8       </td><td>8       </td><td>8.000000</td><td>8       </td><td>8       </td><td>8       </td><td>3.000000</td></tr>\n",
       "\t<tr><td>P235262 </td><td>NaN     </td><td>NaN     </td><td>NaN     </td><td>NaN     </td><td>NaN     </td><td>3.076923</td><td>8       </td><td>8       </td><td>4       </td><td>⋯       </td><td>3.6     </td><td>2.615385</td><td>1.5     </td><td>4       </td><td>8       </td><td>3.333333</td><td>2       </td><td>4       </td><td>4       </td><td>2.333333</td></tr>\n",
       "</tbody>\n",
       "</table>\n"
      ],
      "text/latex": [
       "\\begin{tabular}{r|lllllllllllllllllllllllllllllllllllllllllllllllllllll}\n",
       " doc\\_A & P225086 & P228096 & P228105 & P229426 & P235262 & P247864 & P250361 & P250362 & P250363 & ⋯ & P447996 & P459216 & P459217 & P459218 & P459225 & P459226 & P459227 & P459784 & P492330 & Q000039\\\\\n",
       "\\hline\n",
       "\t P225033  &   8      &   4      &   8      &   8      &   8      & 4.000000 & 8        & 8        & 8        & ⋯        & 8.0      & 8.000000 & 8.0      & 4        & 8        & 8.000000 & 8        & 8        & 8        & 4.000000\\\\\n",
       "\t P225086  & NaN      &   8      &   8      &   8      &   8      & 4.000000 & 8        & 8        & 8        & ⋯        & 4.0      & 4.000000 & 4.0      & 8        & 8        & 8.000000 & 8        & 8        & 8        & 4.000000\\\\\n",
       "\t P228096  & NaN      & NaN      &   3      &   8      &   8      & 4.000000 & 8        & 8        & 8        & ⋯        & 4.0      & 8.000000 & 4.0      & 4        & 8        & 8.000000 & 8        & 8        & 8        & 4.000000\\\\\n",
       "\t P228105  & NaN      & NaN      & NaN      &   8      &   8      & 4.000000 & 8        & 8        & 8        & ⋯        & 4.0      & 8.000000 & 4.0      & 8        & 8        & 8.000000 & 8        & 8        & 8        & 4.000000\\\\\n",
       "\t P229426  & NaN      & NaN      & NaN      & NaN      &   4      & 4.000000 & 8        & 8        & 8        & ⋯        & 3.0      & 4.000000 & 8.0      & 8        & 8        & 8.000000 & 8        & 8        & 8        & 3.000000\\\\\n",
       "\t P235262  & NaN      & NaN      & NaN      & NaN      & NaN      & 3.076923 & 8        & 8        & 4        & ⋯        & 3.6      & 2.615385 & 1.5      & 4        & 8        & 3.333333 & 2        & 4        & 4        & 2.333333\\\\\n",
       "\\end{tabular}\n"
      ],
      "text/markdown": [
       "\n",
       "doc_A | P225086 | P228096 | P228105 | P229426 | P235262 | P247864 | P250361 | P250362 | P250363 | ⋯ | P447996 | P459216 | P459217 | P459218 | P459225 | P459226 | P459227 | P459784 | P492330 | Q000039 | \n",
       "|---|---|---|---|---|---|\n",
       "| P225033  |   8      |   4      |   8      |   8      |   8      | 4.000000 | 8        | 8        | 8        | ⋯        | 8.0      | 8.000000 | 8.0      | 4        | 8        | 8.000000 | 8        | 8        | 8        | 4.000000 | \n",
       "| P225086  | NaN      |   8      |   8      |   8      |   8      | 4.000000 | 8        | 8        | 8        | ⋯        | 4.0      | 4.000000 | 4.0      | 8        | 8        | 8.000000 | 8        | 8        | 8        | 4.000000 | \n",
       "| P228096  | NaN      | NaN      |   3      |   8      |   8      | 4.000000 | 8        | 8        | 8        | ⋯        | 4.0      | 8.000000 | 4.0      | 4        | 8        | 8.000000 | 8        | 8        | 8        | 4.000000 | \n",
       "| P228105  | NaN      | NaN      | NaN      |   8      |   8      | 4.000000 | 8        | 8        | 8        | ⋯        | 4.0      | 8.000000 | 4.0      | 8        | 8        | 8.000000 | 8        | 8        | 8        | 4.000000 | \n",
       "| P229426  | NaN      | NaN      | NaN      | NaN      |   4      | 4.000000 | 8        | 8        | 8        | ⋯        | 3.0      | 4.000000 | 8.0      | 8        | 8        | 8.000000 | 8        | 8        | 8        | 3.000000 | \n",
       "| P235262  | NaN      | NaN      | NaN      | NaN      | NaN      | 3.076923 | 8        | 8        | 4        | ⋯        | 3.6      | 2.615385 | 1.5      | 4        | 8        | 3.333333 | 2        | 4        | 4        | 2.333333 | \n",
       "\n",
       "\n"
      ],
      "text/plain": [
       "  doc_A   P225086 P228096 P228105 P229426 P235262 P247864  P250361 P250362\n",
       "1 P225033   8       4       8       8       8     4.000000 8       8      \n",
       "2 P225086 NaN       8       8       8       8     4.000000 8       8      \n",
       "3 P228096 NaN     NaN       3       8       8     4.000000 8       8      \n",
       "4 P228105 NaN     NaN     NaN       8       8     4.000000 8       8      \n",
       "5 P229426 NaN     NaN     NaN     NaN       4     4.000000 8       8      \n",
       "6 P235262 NaN     NaN     NaN     NaN     NaN     3.076923 8       8      \n",
       "  P250363 ⋯ P447996 P459216  P459217 P459218 P459225 P459226  P459227 P459784\n",
       "1 8       ⋯ 8.0     8.000000 8.0     4       8       8.000000 8       8      \n",
       "2 8       ⋯ 4.0     4.000000 4.0     8       8       8.000000 8       8      \n",
       "3 8       ⋯ 4.0     8.000000 4.0     4       8       8.000000 8       8      \n",
       "4 8       ⋯ 4.0     8.000000 4.0     8       8       8.000000 8       8      \n",
       "5 8       ⋯ 3.0     4.000000 8.0     8       8       8.000000 8       8      \n",
       "6 4       ⋯ 3.6     2.615385 1.5     4       8       3.333333 2       4      \n",
       "  P492330 Q000039 \n",
       "1 8       4.000000\n",
       "2 8       4.000000\n",
       "3 8       4.000000\n",
       "4 8       4.000000\n",
       "5 8       3.000000\n",
       "6 4       2.333333"
      ]
     },
     "metadata": {},
     "output_type": "display_data"
    },
    {
     "data": {
      "text/html": [
       "<table>\n",
       "<thead><tr><th></th><th scope=col>doc_A</th><th scope=col>doc_B</th><th scope=col>dist</th></tr></thead>\n",
       "<tbody>\n",
       "\t<tr><th scope=row>5</th><td>P225033</td><td>P235262</td><td>8      </td></tr>\n",
       "\t<tr><th scope=row>56</th><td>P225086</td><td>P235262</td><td>8      </td></tr>\n",
       "\t<tr><th scope=row>106</th><td>P228096</td><td>P235262</td><td>8      </td></tr>\n",
       "\t<tr><th scope=row>155</th><td>P228105</td><td>P235262</td><td>8      </td></tr>\n",
       "\t<tr><th scope=row>203</th><td>P229426</td><td>P235262</td><td>4      </td></tr>\n",
       "\t<tr><th scope=row>1383</th><td>P225033</td><td>P235262</td><td>8      </td></tr>\n",
       "\t<tr><th scope=row>1434</th><td>P225086</td><td>P235262</td><td>8      </td></tr>\n",
       "\t<tr><th scope=row>1484</th><td>P228096</td><td>P235262</td><td>8      </td></tr>\n",
       "\t<tr><th scope=row>1533</th><td>P228105</td><td>P235262</td><td>8      </td></tr>\n",
       "\t<tr><th scope=row>1581</th><td>P229426</td><td>P235262</td><td>4      </td></tr>\n",
       "</tbody>\n",
       "</table>\n"
      ],
      "text/latex": [
       "\\begin{tabular}{r|lll}\n",
       "  & doc\\_A & doc\\_B & dist\\\\\n",
       "\\hline\n",
       "\t5 & P225033 & P235262 & 8      \\\\\n",
       "\t56 & P225086 & P235262 & 8      \\\\\n",
       "\t106 & P228096 & P235262 & 8      \\\\\n",
       "\t155 & P228105 & P235262 & 8      \\\\\n",
       "\t203 & P229426 & P235262 & 4      \\\\\n",
       "\t1383 & P225033 & P235262 & 8      \\\\\n",
       "\t1434 & P225086 & P235262 & 8      \\\\\n",
       "\t1484 & P228096 & P235262 & 8      \\\\\n",
       "\t1533 & P228105 & P235262 & 8      \\\\\n",
       "\t1581 & P229426 & P235262 & 4      \\\\\n",
       "\\end{tabular}\n"
      ],
      "text/markdown": [
       "\n",
       "| <!--/--> | doc_A | doc_B | dist | \n",
       "|---|---|---|---|---|---|---|---|---|---|\n",
       "| 5 | P225033 | P235262 | 8       | \n",
       "| 56 | P225086 | P235262 | 8       | \n",
       "| 106 | P228096 | P235262 | 8       | \n",
       "| 155 | P228105 | P235262 | 8       | \n",
       "| 203 | P229426 | P235262 | 4       | \n",
       "| 1383 | P225033 | P235262 | 8       | \n",
       "| 1434 | P225086 | P235262 | 8       | \n",
       "| 1484 | P228096 | P235262 | 8       | \n",
       "| 1533 | P228105 | P235262 | 8       | \n",
       "| 1581 | P229426 | P235262 | 4       | \n",
       "\n",
       "\n"
      ],
      "text/plain": [
       "     doc_A   doc_B   dist\n",
       "5    P225033 P235262 8   \n",
       "56   P225086 P235262 8   \n",
       "106  P228096 P235262 8   \n",
       "155  P228105 P235262 8   \n",
       "203  P229426 P235262 4   \n",
       "1383 P225033 P235262 8   \n",
       "1434 P225086 P235262 8   \n",
       "1484 P228096 P235262 8   \n",
       "1533 P228105 P235262 8   \n",
       "1581 P229426 P235262 4   "
      ]
     },
     "metadata": {},
     "output_type": "display_data"
    }
   ],
   "source": [
    "all_pairs_SI_wide = dcast(all_pairs_SI, doc_A ~ doc_B, value.var = \"dist\", fun.aggregate = mean)\n",
    "head(all_pairs_SI_wide)\n",
    "all_pairs_SI[which(all_pairs_SI$doc_B == \"P235262\"),]"
   ]
  },
  {
   "cell_type": "code",
   "execution_count": 57,
   "metadata": {
    "collapsed": false
   },
   "outputs": [
    {
     "ename": "ERROR",
     "evalue": "Error in if (is.na(n) || n > 65536L) stop(\"size cannot be NA nor exceed 65536\"): missing value where TRUE/FALSE needed\n",
     "output_type": "error",
     "traceback": [
      "Error in if (is.na(n) || n > 65536L) stop(\"size cannot be NA nor exceed 65536\"): missing value where TRUE/FALSE needed\nTraceback:\n",
      "1. plot(hclust(all_pairs_SI_wide))",
      "2. hclust(all_pairs_SI_wide)"
     ]
    }
   ],
   "source": [
    "plot(hclust(all_pairs_SI_wide))"
   ]
  },
  {
   "cell_type": "code",
   "execution_count": null,
   "metadata": {
    "collapsed": false
   },
   "outputs": [],
   "source": [
    "# Niek's method (consider each instance of a repeated section independently)\n",
    "\n",
    "A = doc_sections[[24]]\n",
    "B = doc_sections[[58]]\n",
    "\n",
    "I = intersect(A, B)\n",
    "\n",
    "l = list()\n",
    "j = 1\n",
    "\n",
    "# create a list storing section matching information\n",
    "for(i in I) {\n",
    "    index_A = grep(paste0(\"^\",i,\"$\"), A)\n",
    "    index_B = grep(paste0(\"^\",i,\"$\"), B)\n",
    "    section_indices = list(section = i, index_A = index_A, index_B = index_B)\n",
    "    l[[j]] = section_indices\n",
    "    j = j + 1\n",
    "    }\n",
    "\n",
    "\n",
    "### Update to use method above\n",
    "counter = 0\n",
    "k = 2\n",
    "\n",
    "for(x in grep(i, A)) {\n",
    "    neighborhood_A = A[(x - k):(x + k)]\n",
    "    n_A = c(n_A, neighborhood_A)\n",
    "}\n",
    "\n",
    "for(x in grep(i, B)) {\n",
    "    neighborhood_B = B[(x - k):(x + k)]\n",
    "    n_B = c(n_B, neighborhood_B)\n",
    "}\n",
    "\n",
    "SI = length(na.omit(intersect(n_A, n_B)))\n",
    "SI\n"
   ]
  },
  {
   "cell_type": "code",
   "execution_count": null,
   "metadata": {
    "collapsed": false
   },
   "outputs": [],
   "source": [
    "test"
   ]
  },
  {
   "cell_type": "code",
   "execution_count": null,
   "metadata": {
    "collapsed": true
   },
   "outputs": [],
   "source": []
  }
 ],
 "metadata": {
  "anaconda-cloud": {},
  "kernelspec": {
   "display_name": "R",
   "language": "R",
   "name": "ir"
  },
  "language_info": {
   "codemirror_mode": "r",
   "file_extension": ".r",
   "mimetype": "text/x-r-source",
   "name": "R",
   "pygments_lexer": "r",
   "version": "3.3.2"
  }
 },
 "nbformat": 4,
 "nbformat_minor": 1
}
