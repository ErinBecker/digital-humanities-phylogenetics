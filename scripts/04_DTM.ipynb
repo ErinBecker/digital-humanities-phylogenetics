{
 "cells": [
  {
   "cell_type": "markdown",
   "metadata": {},
   "source": [
    "# Part 2: Analysis based on presence/absence of entries"
   ]
  },
  {
   "cell_type": "code",
   "execution_count": 1,
   "metadata": {
    "collapsed": true
   },
   "outputs": [],
   "source": [
    "import pandas as pd\n",
    "import numpy as np\n",
    "import re"
   ]
  },
  {
   "cell_type": "markdown",
   "metadata": {},
   "source": [
    "## Load the Data\n",
    "Load the data in the format produced by `02_structure_data.ipynb` and saved in `data/pass`."
   ]
  },
  {
   "cell_type": "code",
   "execution_count": 2,
   "metadata": {
    "collapsed": false
   },
   "outputs": [
    {
     "name": "stdout",
     "output_type": "stream",
     "text": [
      "Filename: Q39_par.csv\n"
     ]
    }
   ],
   "source": [
    "filename = input('Filename: ')"
   ]
  },
  {
   "cell_type": "code",
   "execution_count": 3,
   "metadata": {
    "collapsed": false
   },
   "outputs": [],
   "source": [
    "file = '../data/pass/' + filename\n",
    "df = pd.read_csv(file, dtype={'extent': object}).drop('Unnamed: 0', axis=1)"
   ]
  },
  {
   "cell_type": "markdown",
   "metadata": {},
   "source": [
    "## Group by Document\n",
    "The `groupby()` function is used to group the data by document. The function `apply(' '.join)` concatenates the text in the `entries` column, separating them with a white space. The Pandas `groupby()` function results in a series, which is then tranformed into a new Dataframe."
   ]
  },
  {
   "cell_type": "code",
   "execution_count": 4,
   "metadata": {
    "collapsed": false
   },
   "outputs": [
    {
     "data": {
      "text/html": [
       "<div>\n",
       "<table border=\"1\" class=\"dataframe\">\n",
       "  <thead>\n",
       "    <tr style=\"text-align: right;\">\n",
       "      <th></th>\n",
       "      <th>entry</th>\n",
       "    </tr>\n",
       "    <tr>\n",
       "      <th>id_text</th>\n",
       "      <th></th>\n",
       "    </tr>\n",
       "  </thead>\n",
       "  <tbody>\n",
       "    <tr>\n",
       "      <th>P117395</th>\n",
       "      <td>ŋešed[key]N pakud[~tree]N raba[clamp]N</td>\n",
       "    </tr>\n",
       "    <tr>\n",
       "      <th>P117404</th>\n",
       "      <td>ig[door]N_eren[cedar]N ig[door]N_dib[board]N i...</td>\n",
       "    </tr>\n",
       "    <tr>\n",
       "      <th>P128345</th>\n",
       "      <td>garig[comb]N_siki[hair]N garig[comb]N_siki-sik...</td>\n",
       "    </tr>\n",
       "    <tr>\n",
       "      <th>P224980</th>\n",
       "      <td>gigir[chariot]N e[house]N_gigir[chariot]N e[ho...</td>\n",
       "    </tr>\n",
       "    <tr>\n",
       "      <th>P224986</th>\n",
       "      <td>guza[chair]N_anše[equid]N guza[chair]N_kaskal[...</td>\n",
       "    </tr>\n",
       "  </tbody>\n",
       "</table>\n",
       "</div>"
      ],
      "text/plain": [
       "                                                     entry\n",
       "id_text                                                   \n",
       "P117395             ŋešed[key]N pakud[~tree]N raba[clamp]N\n",
       "P117404  ig[door]N_eren[cedar]N ig[door]N_dib[board]N i...\n",
       "P128345  garig[comb]N_siki[hair]N garig[comb]N_siki-sik...\n",
       "P224980  gigir[chariot]N e[house]N_gigir[chariot]N e[ho...\n",
       "P224986  guza[chair]N_anše[equid]N guza[chair]N_kaskal[..."
      ]
     },
     "execution_count": 4,
     "metadata": {},
     "output_type": "execute_result"
    }
   ],
   "source": [
    "df['entry'] = df['entry'].fillna('')\n",
    "entries_df = df[['id_text', 'line', 'entry']]\n",
    "#entries_df = entries_df.dropna()\n",
    "grouped = entries_df['entry'].groupby(entries_df['id_text']).apply(' '.join).reset_index()\n",
    "by_text_df = pd.DataFrame(grouped)\n",
    "by_text_df = by_text_df.set_index('id_text')\n",
    "by_text_df.head()"
   ]
  },
  {
   "cell_type": "markdown",
   "metadata": {},
   "source": [
    "## Document Term Matrix\n",
    "Transform the DataFrame into a Document Term Matrix (DTM) by using CountVectorizer. This function uses a Regular Expression (token_pattern) to indicate how to find the beginning and end of token. In the current Dataframe entries are separated from each other by a white space. The expression `r.[^ ]+` means: any combination of characters, except the space.\n",
    "\n",
    "The output of the CountVectorizer (`dtm`) is not in a human-readable format. It is transformed into another DataFrame, with `id_text` as index."
   ]
  },
  {
   "cell_type": "code",
   "execution_count": 5,
   "metadata": {
    "collapsed": false
   },
   "outputs": [
    {
     "data": {
      "text/html": [
       "<div>\n",
       "<table border=\"1\" class=\"dataframe\">\n",
       "  <thead>\n",
       "    <tr style=\"text-align: right;\">\n",
       "      <th></th>\n",
       "      <th>1(ban₂)[na]na_1(diš)[na]na_sila[unit]n_11[na]na</th>\n",
       "      <th>1(ban₂)[na]na_2(diš)[na]na_sila[unit]n_12[na]na</th>\n",
       "      <th>1(ban₂)[na]na_3(diš)[na]na_sila[unit]n_13[na]na</th>\n",
       "      <th>1(ban₂)[na]na_4(diš)[na]na_sila[unit]n_14[na]na</th>\n",
       "      <th>1(ban₂)[na]na_5(diš)[na]na_sila[unit]n_15[na]na</th>\n",
       "      <th>1(ban₂)[na]na_še[barley]n_10[na]na</th>\n",
       "      <th>10[na]na_še[barley]n_kugbabbar[silver]n</th>\n",
       "      <th>11[na]na_še[barley]n_kugbabbar[silver]n</th>\n",
       "      <th>12[na]na_še[barley]n_kugbabbar[silver]n</th>\n",
       "      <th>13[na]na_še[barley]n_kugbabbar[silver]n</th>\n",
       "      <th>...</th>\n",
       "      <th>šuʾa[stool]n_ašgab[leatherworker]n</th>\n",
       "      <th>šuʾa[stool]n_burgul[stone-cutter]n</th>\n",
       "      <th>šuʾa[stool]n_dus[bathroom]n</th>\n",
       "      <th>šuʾa[stool]n_kaskal[way]n</th>\n",
       "      <th>šuʾa[stool]n_nagar[carpenter]n</th>\n",
       "      <th>šuʾa[stool]n_niŋgula[greatness]n</th>\n",
       "      <th>šuʾa[stool]n_suhsah[sound]n</th>\n",
       "      <th>šuʾa[stool]n_tibira[sculptor]n</th>\n",
       "      <th>šuʾa[stool]n_x[na]na</th>\n",
       "      <th>šuʾura[goose]n</th>\n",
       "    </tr>\n",
       "  </thead>\n",
       "  <tbody>\n",
       "    <tr>\n",
       "      <th>P117395</th>\n",
       "      <td>0</td>\n",
       "      <td>0</td>\n",
       "      <td>0</td>\n",
       "      <td>0</td>\n",
       "      <td>0</td>\n",
       "      <td>0</td>\n",
       "      <td>0</td>\n",
       "      <td>0</td>\n",
       "      <td>0</td>\n",
       "      <td>0</td>\n",
       "      <td>...</td>\n",
       "      <td>0</td>\n",
       "      <td>0</td>\n",
       "      <td>0</td>\n",
       "      <td>0</td>\n",
       "      <td>0</td>\n",
       "      <td>0</td>\n",
       "      <td>0</td>\n",
       "      <td>0</td>\n",
       "      <td>0</td>\n",
       "      <td>0</td>\n",
       "    </tr>\n",
       "    <tr>\n",
       "      <th>P117404</th>\n",
       "      <td>0</td>\n",
       "      <td>0</td>\n",
       "      <td>0</td>\n",
       "      <td>0</td>\n",
       "      <td>0</td>\n",
       "      <td>0</td>\n",
       "      <td>0</td>\n",
       "      <td>0</td>\n",
       "      <td>0</td>\n",
       "      <td>0</td>\n",
       "      <td>...</td>\n",
       "      <td>0</td>\n",
       "      <td>0</td>\n",
       "      <td>0</td>\n",
       "      <td>0</td>\n",
       "      <td>0</td>\n",
       "      <td>0</td>\n",
       "      <td>0</td>\n",
       "      <td>0</td>\n",
       "      <td>0</td>\n",
       "      <td>0</td>\n",
       "    </tr>\n",
       "    <tr>\n",
       "      <th>P128345</th>\n",
       "      <td>0</td>\n",
       "      <td>0</td>\n",
       "      <td>0</td>\n",
       "      <td>0</td>\n",
       "      <td>0</td>\n",
       "      <td>0</td>\n",
       "      <td>0</td>\n",
       "      <td>0</td>\n",
       "      <td>0</td>\n",
       "      <td>0</td>\n",
       "      <td>...</td>\n",
       "      <td>0</td>\n",
       "      <td>0</td>\n",
       "      <td>0</td>\n",
       "      <td>0</td>\n",
       "      <td>0</td>\n",
       "      <td>0</td>\n",
       "      <td>0</td>\n",
       "      <td>0</td>\n",
       "      <td>0</td>\n",
       "      <td>0</td>\n",
       "    </tr>\n",
       "    <tr>\n",
       "      <th>P224980</th>\n",
       "      <td>0</td>\n",
       "      <td>0</td>\n",
       "      <td>0</td>\n",
       "      <td>0</td>\n",
       "      <td>0</td>\n",
       "      <td>0</td>\n",
       "      <td>0</td>\n",
       "      <td>0</td>\n",
       "      <td>0</td>\n",
       "      <td>0</td>\n",
       "      <td>...</td>\n",
       "      <td>0</td>\n",
       "      <td>0</td>\n",
       "      <td>0</td>\n",
       "      <td>0</td>\n",
       "      <td>0</td>\n",
       "      <td>0</td>\n",
       "      <td>0</td>\n",
       "      <td>0</td>\n",
       "      <td>0</td>\n",
       "      <td>0</td>\n",
       "    </tr>\n",
       "    <tr>\n",
       "      <th>P224986</th>\n",
       "      <td>0</td>\n",
       "      <td>0</td>\n",
       "      <td>0</td>\n",
       "      <td>0</td>\n",
       "      <td>0</td>\n",
       "      <td>0</td>\n",
       "      <td>0</td>\n",
       "      <td>0</td>\n",
       "      <td>0</td>\n",
       "      <td>0</td>\n",
       "      <td>...</td>\n",
       "      <td>0</td>\n",
       "      <td>0</td>\n",
       "      <td>0</td>\n",
       "      <td>0</td>\n",
       "      <td>0</td>\n",
       "      <td>0</td>\n",
       "      <td>0</td>\n",
       "      <td>0</td>\n",
       "      <td>0</td>\n",
       "      <td>0</td>\n",
       "    </tr>\n",
       "  </tbody>\n",
       "</table>\n",
       "<p>5 rows × 2302 columns</p>\n",
       "</div>"
      ],
      "text/plain": [
       "         1(ban₂)[na]na_1(diš)[na]na_sila[unit]n_11[na]na  \\\n",
       "P117395                                                0   \n",
       "P117404                                                0   \n",
       "P128345                                                0   \n",
       "P224980                                                0   \n",
       "P224986                                                0   \n",
       "\n",
       "         1(ban₂)[na]na_2(diš)[na]na_sila[unit]n_12[na]na  \\\n",
       "P117395                                                0   \n",
       "P117404                                                0   \n",
       "P128345                                                0   \n",
       "P224980                                                0   \n",
       "P224986                                                0   \n",
       "\n",
       "         1(ban₂)[na]na_3(diš)[na]na_sila[unit]n_13[na]na  \\\n",
       "P117395                                                0   \n",
       "P117404                                                0   \n",
       "P128345                                                0   \n",
       "P224980                                                0   \n",
       "P224986                                                0   \n",
       "\n",
       "         1(ban₂)[na]na_4(diš)[na]na_sila[unit]n_14[na]na  \\\n",
       "P117395                                                0   \n",
       "P117404                                                0   \n",
       "P128345                                                0   \n",
       "P224980                                                0   \n",
       "P224986                                                0   \n",
       "\n",
       "         1(ban₂)[na]na_5(diš)[na]na_sila[unit]n_15[na]na  \\\n",
       "P117395                                                0   \n",
       "P117404                                                0   \n",
       "P128345                                                0   \n",
       "P224980                                                0   \n",
       "P224986                                                0   \n",
       "\n",
       "         1(ban₂)[na]na_še[barley]n_10[na]na  \\\n",
       "P117395                                   0   \n",
       "P117404                                   0   \n",
       "P128345                                   0   \n",
       "P224980                                   0   \n",
       "P224986                                   0   \n",
       "\n",
       "         10[na]na_še[barley]n_kugbabbar[silver]n  \\\n",
       "P117395                                        0   \n",
       "P117404                                        0   \n",
       "P128345                                        0   \n",
       "P224980                                        0   \n",
       "P224986                                        0   \n",
       "\n",
       "         11[na]na_še[barley]n_kugbabbar[silver]n  \\\n",
       "P117395                                        0   \n",
       "P117404                                        0   \n",
       "P128345                                        0   \n",
       "P224980                                        0   \n",
       "P224986                                        0   \n",
       "\n",
       "         12[na]na_še[barley]n_kugbabbar[silver]n  \\\n",
       "P117395                                        0   \n",
       "P117404                                        0   \n",
       "P128345                                        0   \n",
       "P224980                                        0   \n",
       "P224986                                        0   \n",
       "\n",
       "         13[na]na_še[barley]n_kugbabbar[silver]n       ...        \\\n",
       "P117395                                        0       ...         \n",
       "P117404                                        0       ...         \n",
       "P128345                                        0       ...         \n",
       "P224980                                        0       ...         \n",
       "P224986                                        0       ...         \n",
       "\n",
       "         šuʾa[stool]n_ašgab[leatherworker]n  \\\n",
       "P117395                                   0   \n",
       "P117404                                   0   \n",
       "P128345                                   0   \n",
       "P224980                                   0   \n",
       "P224986                                   0   \n",
       "\n",
       "         šuʾa[stool]n_burgul[stone-cutter]n  šuʾa[stool]n_dus[bathroom]n  \\\n",
       "P117395                                   0                            0   \n",
       "P117404                                   0                            0   \n",
       "P128345                                   0                            0   \n",
       "P224980                                   0                            0   \n",
       "P224986                                   0                            0   \n",
       "\n",
       "         šuʾa[stool]n_kaskal[way]n  šuʾa[stool]n_nagar[carpenter]n  \\\n",
       "P117395                          0                               0   \n",
       "P117404                          0                               0   \n",
       "P128345                          0                               0   \n",
       "P224980                          0                               0   \n",
       "P224986                          0                               0   \n",
       "\n",
       "         šuʾa[stool]n_niŋgula[greatness]n  šuʾa[stool]n_suhsah[sound]n  \\\n",
       "P117395                                 0                            0   \n",
       "P117404                                 0                            0   \n",
       "P128345                                 0                            0   \n",
       "P224980                                 0                            0   \n",
       "P224986                                 0                            0   \n",
       "\n",
       "         šuʾa[stool]n_tibira[sculptor]n  šuʾa[stool]n_x[na]na  šuʾura[goose]n  \n",
       "P117395                               0                     0               0  \n",
       "P117404                               0                     0               0  \n",
       "P128345                               0                     0               0  \n",
       "P224980                               0                     0               0  \n",
       "P224986                               0                     0               0  \n",
       "\n",
       "[5 rows x 2302 columns]"
      ]
     },
     "execution_count": 5,
     "metadata": {},
     "output_type": "execute_result"
    }
   ],
   "source": [
    "from sklearn.feature_extraction.text import CountVectorizer\n",
    "cv = CountVectorizer(analyzer='word', token_pattern=r'[^ ]+')\n",
    "dtm = cv.fit_transform(by_text_df['entry'])\n",
    "dtm_df = pd.DataFrame(dtm.toarray(), columns = cv.get_feature_names(), index = by_text_df.index.values)\n",
    "dtm_df.head()"
   ]
  },
  {
   "cell_type": "markdown",
   "metadata": {},
   "source": [
    "## Analyzing the DTM\n",
    "Each document in the DTM may be understood as a vector, which allows for various kinds of computations, such as distance or cosine-similarity. \n",
    "\n",
    "It is important to recall that the DTM does not preserve information about the order of entries.\n",
    "\n",
    "It is also important to realize that the documents in this analysis of are of very different length (from 1 to 750 entries), with more than half of the documents 3 lines or less. The composite text from Nippur is by far the longest document and will dominate any comparison"
   ]
  },
  {
   "cell_type": "code",
   "execution_count": 6,
   "metadata": {
    "collapsed": false
   },
   "outputs": [
    {
     "data": {
      "text/plain": [
       "count    106.000000\n",
       "mean      48.254717\n",
       "std      131.660679\n",
       "min        2.000000\n",
       "25%        3.000000\n",
       "50%        3.000000\n",
       "75%       17.750000\n",
       "max      778.000000\n",
       "dtype: float64"
      ]
     },
     "execution_count": 6,
     "metadata": {},
     "output_type": "execute_result"
    }
   ],
   "source": [
    "df_length = dtm_df.sum(axis=1)\n",
    "df_length.describe()"
   ]
  },
  {
   "cell_type": "code",
   "execution_count": 7,
   "metadata": {
    "collapsed": false
   },
   "outputs": [],
   "source": [
    "save_file = \"../data/pass/\" + filename[:-4] + '_dtm.csv'\n",
    "dtm_df.to_csv(save_file)"
   ]
  },
  {
   "cell_type": "markdown",
   "metadata": {},
   "source": [
    "# 05 Analyze DTM\n",
    "Further analysis of the DTM is done in the notebook `05_analyze_DTM_R.ipynb`."
   ]
  },
  {
   "cell_type": "code",
   "execution_count": null,
   "metadata": {
    "collapsed": true
   },
   "outputs": [],
   "source": []
  }
 ],
 "metadata": {
  "anaconda-cloud": {},
  "kernelspec": {
   "display_name": "Python 3",
   "language": "python",
   "name": "python3"
  },
  "language_info": {
   "codemirror_mode": {
    "name": "ipython",
    "version": 3
   },
   "file_extension": ".py",
   "mimetype": "text/x-python",
   "name": "python",
   "nbconvert_exporter": "python",
   "pygments_lexer": "ipython3",
   "version": "3.6.0"
  }
 },
 "nbformat": 4,
 "nbformat_minor": 2
}
