{
 "cells": [
  {
   "cell_type": "markdown",
   "metadata": {},
   "source": [
    "# Analyze the Document Term Matrix\n",
    "\n",
    "This notebook continues our analysis of document similarity based on shared entries.\n",
    "\n",
    "Note: This notebook uses the R Kernel. See `03_analyze_sections.ipynb` for further instructions concerning installing the R kernel and loading libraries."
   ]
  },
  {
   "cell_type": "code",
   "execution_count": 1,
   "metadata": {
    "collapsed": false
   },
   "outputs": [
    {
     "data": {
      "text/html": [
       "'/anaconda/lib/R/library'"
      ],
      "text/latex": [
       "'/anaconda/lib/R/library'"
      ],
      "text/markdown": [
       "'/anaconda/lib/R/library'"
      ],
      "text/plain": [
       "[1] \"/anaconda/lib/R/library\""
      ]
     },
     "metadata": {},
     "output_type": "display_data"
    }
   ],
   "source": [
    "# To load libraries in the R kernel in Jupyter Notebooks, you need to know\n",
    "# where your Jupyter Notebook is looking for libraries (the library path).\n",
    "# Often, there will be two locations where R libraries are installedf. \n",
    "# You can find all of these locations by running the following command.\n",
    ".libPaths()"
   ]
  },
  {
   "cell_type": "code",
   "execution_count": 2,
   "metadata": {
    "collapsed": true
   },
   "outputs": [],
   "source": [
    "# set the variable `lib.dir` to one of your library paths\n",
    "lib.dir = '/anaconda/lib/R/library'"
   ]
  },
  {
   "cell_type": "code",
   "execution_count": 3,
   "metadata": {
    "collapsed": false
   },
   "outputs": [],
   "source": [
    "# load libraries for packages used in this notebook\n",
    "library(ggplot2, lib.loc = lib.dir)\n",
    "library(ggdendro, lib.loc = lib.dir)\n",
    "library(reshape, lib.loc = lib.dir)\n",
    "library(scales, lib.loc = lib.dir)\n",
    "\n",
    "#install.packages(\"RColorBrewer\")\n",
    "library(RColorBrewer, lib.loc = lib.dir)\n",
    "\n",
    "# Note, you need to install these packages first. If you haven't already\n",
    "# done that, see `03_analyze_sections.ipynb`. "
   ]
  },
  {
   "cell_type": "code",
   "execution_count": 4,
   "metadata": {
    "collapsed": false
   },
   "outputs": [],
   "source": [
    "# Read in dtm from file output by previous notebook.\n",
    "dtm_df = read.csv('../data/pass/Q39_par_dtm.csv', \n",
    "                  stringsAsFactors = F, row.names = 1) "
   ]
  },
  {
   "cell_type": "markdown",
   "metadata": {},
   "source": [
    "## Check how R parsed the DTM \n",
    "- R doesn't allow variable names to start with a number. Entries starting with a number had \"X\" added to the beggining of the entry name.  \n",
    "- R doesn't allow parentheses or brackets in variable names, so entries like \"1(ban₂)[na]na\" parsed as \"X1.ban...na.na\".   "
   ]
  },
  {
   "cell_type": "markdown",
   "metadata": {},
   "source": [
    "In a later cell, we will sum the columns and rows to get an idea of the\n",
    "density of the matrix. In order to avoid iteratively summing the summary \n",
    "column and summary row, we need to set variables specifying the \n",
    "columns and rows we want to sum. This needs to be a separate cell from\n",
    "the cell in which we actually do the summing."
   ]
  },
  {
   "cell_type": "code",
   "execution_count": 5,
   "metadata": {
    "collapsed": false
   },
   "outputs": [
    {
     "data": {
      "text/html": [
       "<table>\n",
       "<thead><tr><th></th><th scope=col>X1.2.na.na_giŋ.unit.n</th><th scope=col>X5.6.na.na_sila.unit.n</th><th scope=col>a.arm.n_apin.plow.n</th><th scope=col>a.arm.n_diš.na.na</th><th scope=col>a.arm.n_gud.ox.n_apin.plow.n</th><th scope=col>a.arm.n_umbin.wheel.n_margida.cart.n</th><th scope=col>a.arm.n_ŋešrin.scales.n</th><th scope=col>ab.cow.n</th><th scope=col>ab.cow.n_ib.hips.n_gig.sick.v.i</th><th scope=col>ab.cow.n_mah.mature.v.i</th><th scope=col>⋯</th><th scope=col>šuʾa.stool.n_burgul.stone.cutter.n</th><th scope=col>šuʾa.stool.n_dus.bathroom.n</th><th scope=col>šuʾa.stool.n_kaskal.way.n</th><th scope=col>šuʾa.stool.n_nagar.carpenter.n</th><th scope=col>šuʾa.stool.n_niŋgula.greatness.n</th><th scope=col>šuʾa.stool.n_suhsah.sound.n</th><th scope=col>šuʾa.stool.n_tibira.sculptor.n</th><th scope=col>šuʾa.stool.n_x.na.na</th><th scope=col>šuʾa.stool.n_šu.hand.n</th><th scope=col>šuʾa.stool.n_šuʾi.barber.n</th></tr></thead>\n",
       "<tbody>\n",
       "\t<tr><th scope=row>P117395</th><td>0</td><td>0</td><td>0</td><td>0</td><td>0</td><td>0</td><td>0</td><td>0</td><td>0</td><td>0</td><td>⋯</td><td>0</td><td>0</td><td>0</td><td>0</td><td>0</td><td>0</td><td>0</td><td>0</td><td>0</td><td>0</td></tr>\n",
       "\t<tr><th scope=row>P117404</th><td>0</td><td>0</td><td>0</td><td>0</td><td>0</td><td>0</td><td>0</td><td>0</td><td>0</td><td>0</td><td>⋯</td><td>0</td><td>0</td><td>0</td><td>0</td><td>0</td><td>0</td><td>0</td><td>0</td><td>0</td><td>0</td></tr>\n",
       "\t<tr><th scope=row>P128345</th><td>0</td><td>0</td><td>0</td><td>0</td><td>0</td><td>0</td><td>0</td><td>0</td><td>0</td><td>0</td><td>⋯</td><td>0</td><td>0</td><td>0</td><td>0</td><td>0</td><td>0</td><td>0</td><td>0</td><td>0</td><td>0</td></tr>\n",
       "\t<tr><th scope=row>P224980</th><td>0</td><td>0</td><td>0</td><td>0</td><td>0</td><td>0</td><td>0</td><td>0</td><td>0</td><td>0</td><td>⋯</td><td>0</td><td>0</td><td>0</td><td>0</td><td>0</td><td>0</td><td>0</td><td>0</td><td>0</td><td>0</td></tr>\n",
       "\t<tr><th scope=row>P224986</th><td>0</td><td>0</td><td>0</td><td>0</td><td>0</td><td>0</td><td>0</td><td>0</td><td>0</td><td>0</td><td>⋯</td><td>0</td><td>0</td><td>0</td><td>0</td><td>0</td><td>0</td><td>0</td><td>0</td><td>0</td><td>0</td></tr>\n",
       "\t<tr><th scope=row>P224994</th><td>0</td><td>0</td><td>0</td><td>0</td><td>0</td><td>0</td><td>0</td><td>0</td><td>0</td><td>0</td><td>⋯</td><td>0</td><td>0</td><td>0</td><td>0</td><td>0</td><td>0</td><td>0</td><td>0</td><td>0</td><td>0</td></tr>\n",
       "</tbody>\n",
       "</table>\n"
      ],
      "text/latex": [
       "\\begin{tabular}{r|lllllllllllllllllllllllllllllllllllllllllllllllllllllllllllllllllllllllllllllllllllllllllllllllllllllllllllllllllllllllllllllllllllllllllllllllllllllllllllllllllllllllllllllllllllllllllllllllllllllllllllllllllllllllllllllllllllllllllllllllllllllllllllllllllllllllllllllllllllllllllllllllllllllllllllllllllllllllllllllllllllllllllllllllllllllllllllllllllllllllllllllllllllllllllllllllllllllllllllllllllllllllllllllllllllllllllllllllllllllllllllllllllllllllllllllllllllllllllllllllllllllllllllllllllllllllllllllllllllllllllllllllllllllllllllllllllllllllllllllllllllllllllllllllllllllllllllllllllllllllllllllllllllllllllllllllllllllllllllllllllllllllllllllllllllllllllllllllllllllllllllllllllllllllllllllllllllllllllllllllllllllllllllllllllllllllllllllllllllllllllllllllllllllllllllllllllllllllllllllllllllllllllllllllllllllllllllllllllllllllllllllllllllllllllllllllllllllllllllllllllllllllllllllllllllllllllllllllllllllllllllllllllllllllllllllllllllllllllllllllllllllllllllllllllllllllllllllllllllllllllllllllllllllllllllllllllllllllllllllllllllllllllllllllllllllllllllllllllllllllllllllllllllllllllllllllllllllllllllllllllllllllllllllllllllllllllllllllllllllllllllllllllllllllllllllllllllllllllllllllllllllllllllllllllllllllllllllllllllllllllllllllllllllllllllllllllllllllllllllllllllllllllllllllllllllllllllllllllllllllllllllllllllllllllllllllllllllllllllllllllllllllllllllllllllllllllllllllllllllllllllllllllllllllllllllllllllllllllllllllllllllllllllllllllllllllllllllllllllllllllllllllllllllllllllllllllllllllllllllllllllllllllllllllllllllllllllllllllllllllllllllllllllllllllllllllllllllllllllllllllllllllllllllllllllllllllllllllllllllllllllllllllllllllllllllllllllllllllllllllllllllllllllllllllllllllllllllllllllllllllllllllllllllllllllllllllllllllllllllllllllllllllllllllllllllllllllllllllllllllllllllllllllllllllllllllllllllllllllllllllllllllllllllllllllllllllllllllllllllllllllllllllllllllllllllllllllllllllllllllllllllllllllllllllllllllllllllllllllllllllllllllllllllllllllllllllllllllllllllllllllllllllllllllllllllllllllllllllllllllllllllllllllllllllllllllllllllllllllllllllllllllllllllllllllllllllllllllllllllllllllllllllllllllllllllllllllllllllllllllllllllllllllllllllllllllllllllllllllllllllllllllllllllllllllllllllllllllllllllllllllllllllllllllllllllllllllllllllllllllllllllllllllllllllllllllllllllllllllllllllllllllllllllllllllllllllllllllllllllllllllllllllllllllllllllllllllllllllllllllllllllllllllllllllllllllllllllllllllllllllllllllllllllllllllllllllllllllllllllllllllllllllllllllllllllllllllllllllllllllllllllllllllllllllllllllllllllllllllllllllllllllllllllllllllllllllllllllllllllllllllllllllllllllllllllllllllllllllllllllllllllllllllllllllllllllllllllllllllllllllllllllllllllllllllllllllllllllllllllllllllllllllllllllllllllllllllllllllllllllllllllllllllllllllllllllllllllllllllllllllllllllllllllllllllllllllllllllllllllllllllllllllllllllllllllllllllllllllllllllllllllllllllllllllllllllllllllllllllllllllllllllllllllllllllllllllllllllllllllllllllllllllllllllllllllllllllllllllllllllllllllllllllllllllllllllllllllllllllllllllllllllllllllllllllllllllllllllllllllllllllllllllllllllllllllllllllllllllllllllllllllllllllllllllllllllllllllllllllllllllllllllllllllllllllllllllllllllllllllllllllllllllllllllllllllllllllllllllllllllllllllllllllllllllllllllllllllllllllllllllllllllllllllllllllllllllllllllllllllllllllllllllllllllllllllllllllllllllllllllllllllllllllllll}\n",
       "  & X1.2.na.na\\_giŋ.unit.n & X5.6.na.na\\_sila.unit.n & a.arm.n\\_apin.plow.n & a.arm.n\\_diš.na.na & a.arm.n\\_gud.ox.n\\_apin.plow.n & a.arm.n\\_umbin.wheel.n\\_margida.cart.n & a.arm.n\\_ŋešrin.scales.n & ab.cow.n & ab.cow.n\\_ib.hips.n\\_gig.sick.v.i & ab.cow.n\\_mah.mature.v.i & ⋯ & šuʾa.stool.n\\_burgul.stone.cutter.n & šuʾa.stool.n\\_dus.bathroom.n & šuʾa.stool.n\\_kaskal.way.n & šuʾa.stool.n\\_nagar.carpenter.n & šuʾa.stool.n\\_niŋgula.greatness.n & šuʾa.stool.n\\_suhsah.sound.n & šuʾa.stool.n\\_tibira.sculptor.n & šuʾa.stool.n\\_x.na.na & šuʾa.stool.n\\_šu.hand.n & šuʾa.stool.n\\_šuʾi.barber.n\\\\\n",
       "\\hline\n",
       "\tP117395 & 0 & 0 & 0 & 0 & 0 & 0 & 0 & 0 & 0 & 0 & ⋯ & 0 & 0 & 0 & 0 & 0 & 0 & 0 & 0 & 0 & 0\\\\\n",
       "\tP117404 & 0 & 0 & 0 & 0 & 0 & 0 & 0 & 0 & 0 & 0 & ⋯ & 0 & 0 & 0 & 0 & 0 & 0 & 0 & 0 & 0 & 0\\\\\n",
       "\tP128345 & 0 & 0 & 0 & 0 & 0 & 0 & 0 & 0 & 0 & 0 & ⋯ & 0 & 0 & 0 & 0 & 0 & 0 & 0 & 0 & 0 & 0\\\\\n",
       "\tP224980 & 0 & 0 & 0 & 0 & 0 & 0 & 0 & 0 & 0 & 0 & ⋯ & 0 & 0 & 0 & 0 & 0 & 0 & 0 & 0 & 0 & 0\\\\\n",
       "\tP224986 & 0 & 0 & 0 & 0 & 0 & 0 & 0 & 0 & 0 & 0 & ⋯ & 0 & 0 & 0 & 0 & 0 & 0 & 0 & 0 & 0 & 0\\\\\n",
       "\tP224994 & 0 & 0 & 0 & 0 & 0 & 0 & 0 & 0 & 0 & 0 & ⋯ & 0 & 0 & 0 & 0 & 0 & 0 & 0 & 0 & 0 & 0\\\\\n",
       "\\end{tabular}\n"
      ],
      "text/markdown": [
       "\n",
       "| <!--/--> | X1.2.na.na_giŋ.unit.n | X5.6.na.na_sila.unit.n | a.arm.n_apin.plow.n | a.arm.n_diš.na.na | a.arm.n_gud.ox.n_apin.plow.n | a.arm.n_umbin.wheel.n_margida.cart.n | a.arm.n_ŋešrin.scales.n | ab.cow.n | ab.cow.n_ib.hips.n_gig.sick.v.i | ab.cow.n_mah.mature.v.i | ⋯ | šuʾa.stool.n_burgul.stone.cutter.n | šuʾa.stool.n_dus.bathroom.n | šuʾa.stool.n_kaskal.way.n | šuʾa.stool.n_nagar.carpenter.n | šuʾa.stool.n_niŋgula.greatness.n | šuʾa.stool.n_suhsah.sound.n | šuʾa.stool.n_tibira.sculptor.n | šuʾa.stool.n_x.na.na | šuʾa.stool.n_šu.hand.n | šuʾa.stool.n_šuʾi.barber.n | \n",
       "|---|---|---|---|---|---|\n",
       "| P117395 | 0 | 0 | 0 | 0 | 0 | 0 | 0 | 0 | 0 | 0 | ⋯ | 0 | 0 | 0 | 0 | 0 | 0 | 0 | 0 | 0 | 0 | \n",
       "| P117404 | 0 | 0 | 0 | 0 | 0 | 0 | 0 | 0 | 0 | 0 | ⋯ | 0 | 0 | 0 | 0 | 0 | 0 | 0 | 0 | 0 | 0 | \n",
       "| P128345 | 0 | 0 | 0 | 0 | 0 | 0 | 0 | 0 | 0 | 0 | ⋯ | 0 | 0 | 0 | 0 | 0 | 0 | 0 | 0 | 0 | 0 | \n",
       "| P224980 | 0 | 0 | 0 | 0 | 0 | 0 | 0 | 0 | 0 | 0 | ⋯ | 0 | 0 | 0 | 0 | 0 | 0 | 0 | 0 | 0 | 0 | \n",
       "| P224986 | 0 | 0 | 0 | 0 | 0 | 0 | 0 | 0 | 0 | 0 | ⋯ | 0 | 0 | 0 | 0 | 0 | 0 | 0 | 0 | 0 | 0 | \n",
       "| P224994 | 0 | 0 | 0 | 0 | 0 | 0 | 0 | 0 | 0 | 0 | ⋯ | 0 | 0 | 0 | 0 | 0 | 0 | 0 | 0 | 0 | 0 | \n",
       "\n",
       "\n"
      ],
      "text/plain": [
       "        X1.2.na.na_giŋ.unit.n X5.6.na.na_sila.unit.n a.arm.n_apin.plow.n\n",
       "P117395 0                     0                      0                  \n",
       "P117404 0                     0                      0                  \n",
       "P128345 0                     0                      0                  \n",
       "P224980 0                     0                      0                  \n",
       "P224986 0                     0                      0                  \n",
       "P224994 0                     0                      0                  \n",
       "        a.arm.n_diš.na.na a.arm.n_gud.ox.n_apin.plow.n\n",
       "P117395 0                 0                           \n",
       "P117404 0                 0                           \n",
       "P128345 0                 0                           \n",
       "P224980 0                 0                           \n",
       "P224986 0                 0                           \n",
       "P224994 0                 0                           \n",
       "        a.arm.n_umbin.wheel.n_margida.cart.n a.arm.n_ŋešrin.scales.n ab.cow.n\n",
       "P117395 0                                    0                       0       \n",
       "P117404 0                                    0                       0       \n",
       "P128345 0                                    0                       0       \n",
       "P224980 0                                    0                       0       \n",
       "P224986 0                                    0                       0       \n",
       "P224994 0                                    0                       0       \n",
       "        ab.cow.n_ib.hips.n_gig.sick.v.i ab.cow.n_mah.mature.v.i ⋯\n",
       "P117395 0                               0                       ⋯\n",
       "P117404 0                               0                       ⋯\n",
       "P128345 0                               0                       ⋯\n",
       "P224980 0                               0                       ⋯\n",
       "P224986 0                               0                       ⋯\n",
       "P224994 0                               0                       ⋯\n",
       "        šuʾa.stool.n_burgul.stone.cutter.n šuʾa.stool.n_dus.bathroom.n\n",
       "P117395 0                                  0                          \n",
       "P117404 0                                  0                          \n",
       "P128345 0                                  0                          \n",
       "P224980 0                                  0                          \n",
       "P224986 0                                  0                          \n",
       "P224994 0                                  0                          \n",
       "        šuʾa.stool.n_kaskal.way.n šuʾa.stool.n_nagar.carpenter.n\n",
       "P117395 0                         0                             \n",
       "P117404 0                         0                             \n",
       "P128345 0                         0                             \n",
       "P224980 0                         0                             \n",
       "P224986 0                         0                             \n",
       "P224994 0                         0                             \n",
       "        šuʾa.stool.n_niŋgula.greatness.n šuʾa.stool.n_suhsah.sound.n\n",
       "P117395 0                                0                          \n",
       "P117404 0                                0                          \n",
       "P128345 0                                0                          \n",
       "P224980 0                                0                          \n",
       "P224986 0                                0                          \n",
       "P224994 0                                0                          \n",
       "        šuʾa.stool.n_tibira.sculptor.n šuʾa.stool.n_x.na.na\n",
       "P117395 0                              0                   \n",
       "P117404 0                              0                   \n",
       "P128345 0                              0                   \n",
       "P224980 0                              0                   \n",
       "P224986 0                              0                   \n",
       "P224994 0                              0                   \n",
       "        šuʾa.stool.n_šu.hand.n šuʾa.stool.n_šuʾi.barber.n\n",
       "P117395 0                      0                         \n",
       "P117404 0                      0                         \n",
       "P128345 0                      0                         \n",
       "P224980 0                      0                         \n",
       "P224986 0                      0                         \n",
       "P224994 0                      0                         "
      ]
     },
     "metadata": {},
     "output_type": "display_data"
    },
    {
     "data": {
      "text/html": [
       "<ol class=list-inline>\n",
       "\t<li>138</li>\n",
       "\t<li>3375</li>\n",
       "</ol>\n"
      ],
      "text/latex": [
       "\\begin{enumerate*}\n",
       "\\item 138\n",
       "\\item 3375\n",
       "\\end{enumerate*}\n"
      ],
      "text/markdown": [
       "1. 138\n",
       "2. 3375\n",
       "\n",
       "\n"
      ],
      "text/plain": [
       "[1]  138 3375"
      ]
     },
     "metadata": {},
     "output_type": "display_data"
    }
   ],
   "source": [
    "cols_to_sum = ncol(dtm_df)\n",
    "rows_to_sum = nrow(dtm_df)\n",
    "\n",
    "head(dtm_df)\n",
    "dim(dtm_df) \n",
    "# The call to dim should not change if you run this cell multiple times. \n",
    "# If it does, there is a problem."
   ]
  },
  {
   "cell_type": "markdown",
   "metadata": {},
   "source": [
    "## Check density of DTM\n",
    "\n",
    "Two attributes of the DTM which are of interest to us are:\n",
    "\n",
    "1) Distribution of document lengths (number of entries per document).  \n",
    "2) Distribution of entry frequency (number of times each entry appears across the corpus). Note that an entry may appear multiple times in a single document.\n",
    "\n",
    "We will look at these two distributions below."
   ]
  },
  {
   "cell_type": "code",
   "execution_count": 6,
   "metadata": {
    "collapsed": false
   },
   "outputs": [
    {
     "name": "stdout",
     "output_type": "stream",
     "text": [
      "[1] \"ab.cow.n_si.horn.n_ŋal.be.v.i 2\"\n",
      "[1] \"ab.cow.n_utud.bear.v.t 2\"\n",
      "[1] \"ab.cow.n_ŋeš.penis.n_zu.know.v.t 2\"\n",
      "[1] \"al.hoe.n 4\"\n",
      "[1] \"al.hoe.n_saŋ.head.n_ŋal.be.v.i 2\"\n",
      "[1] \"al.hoe.n_zu.tooth.n_diš.one.nu 4\"\n",
      "[1] \"al.hoe.n_zu.tooth.n_eš.three.nu 4\"\n",
      "[1] \"al.hoe.n_zu.tooth.n_limmu.four.nu 2\"\n",
      "[1] \"al.hoe.n_zu.tooth.n_min.two.nu 4\"\n",
      "[1] \"ala.drum.n 2\"\n",
      "[1] \"amam.jar.n 2\"\n",
      "[1] \"amamsab.jar.n 2\"\n",
      "[1] \"apin.plow.n_kešed.bind.v.t 2\"\n",
      "[1] \"apin.plow.n_tugsaga.plow.n 6\"\n",
      "[1] \"apin.plow.n_zir.break.v.t 6\"\n",
      "[1] \"apin.plow.n_šu.hand.n 8\"\n",
      "[1] \"apin.plow.n_šudu.equipped.aj 12\"\n",
      "[1] \"arina.madder.n 2\"\n",
      "[1] \"arina.root.n 2\"\n",
      "[1] \"asal.poplar.n 2\"\n",
      "[1] \"azalulu.multitude.n 2\"\n",
      "[1] \"ašgar.kid.n_ŋeš.penis.n_zu.know.v.t 2\"\n",
      "[1] \"ašita.equipment.n 2\"\n",
      "[1] \"ba.tool.n_pa.x.na.na 2\"\n",
      "[1] \"bandudu.basket.n 2\"\n",
      "[1] \"baneš.container.n 2\"\n",
      "[1] \"banmin.vessel.n 2\"\n",
      "[1] \"banšur.table.n 2\"\n",
      "[1] \"bariga.unit.n 2\"\n",
      "[1] \"bisaŋ.basket.n_x.na.na 4\"\n",
      "[1] \"bulug.needle.n 3\"\n",
      "[1] \"buniŋ.trough.n 2\"\n",
      "[1] \"buniŋ.trough.n_x.na.na 7\"\n",
      "[1] \"da.line.n_apin.plow.n 2\"\n",
      "[1] \"dala.thorn.n 2\"\n",
      "[1] \"dih.weed.n 3\"\n",
      "[1] \"dilim.spoon.n 4\"\n",
      "[1] \"dilim.spoon.n_banšur.table.n 4\"\n",
      "[1] \"dilim.spoon.n_dug.speak.v.t 3\"\n",
      "[1] \"e.house.n_gigir.chariot.n 2\"\n",
      "[1] \"e.house.n_usan.whip.n_la.hang.v.t_gigir.chariot.n 2\"\n",
      "[1] \"ebir.vessel.stand.n 2\"\n",
      "[1] \"eh.insect.n 4\"\n",
      "[1] \"ellag.ball.n 2\"\n",
      "[1] \"eme.donkey.n 2\"\n",
      "[1] \"eme.donkey.n_utud.bear.v.t 2\"\n",
      "[1] \"eme.donkey.n_ŋeš.penis.n_zu.know.v.t 2\"\n",
      "[1] \"emerah.jug.n_tur.small.v.i 2\"\n",
      "[1] \"emerah.jug.n_x.na.na 2\"\n",
      "[1] \"epig.drinking.vessel.n_x.na.na 3\"\n",
      "[1] \"esi.tree.n 2\"\n",
      "[1] \"gag.nail.n 2\"\n",
      "[1] \"gag.nail.n_ma.ship.n 2\"\n",
      "[1] \"gag.nail.n_sala..plow.n_apin.plow.n 2\"\n",
      "[1] \"gag.nail.n_x.x.na.na_apin.plow.n 2\"\n",
      "[1] \"ganum.stand.n_a.water.n 2\"\n",
      "[1] \"ganum.stand.n_gal.big.v.i 2\"\n",
      "[1] \"garig.comb.n_x.na.na 2\"\n",
      "[1] \"gi.reed.n_gal.big.v.i 3\"\n",
      "[1] \"gi.reed.n_tur.small.v.i 3\"\n",
      "[1] \"gi.reed.n_x.x.na.na 3\"\n",
      "[1] \"gi.reed.n_x.na.na 3\"\n",
      "[1] \"gigir.chariot.n_x.na.na 2\"\n",
      "[1] \"gimuš.pole.n 2\"\n",
      "[1] \"girim.flower.n 3\"\n",
      "[1] \"gu.neck.n_zirigum.irrigation.device.n 2\"\n",
      "[1] \"gul..chariot.n_gigir.chariot.n 2\"\n",
      "[1] \"gur.rim.n_bandudu.basket.n 2\"\n",
      "[1] \"guza.chair.n_al.x.na.na 2\"\n",
      "[1] \"guza.chair.n_gar.knob.n_x.na.na 2\"\n",
      "[1] \"guza.chair.n_malah.sailor.n 2\"\n",
      "[1] \"guza.chair.n_munus.woman.n 2\"\n",
      "[1] \"guza.chair.n_x.x.x.na.na 2\"\n",
      "[1] \"guza.chair.n_x.x.na.na 2\"\n",
      "[1] \"guza.chair.n_x.na.na 6\"\n",
      "[1] \"harmušen.snare.n 2\"\n",
      "[1] \"hašhur.apple.n_kur.mountain.n 2\"\n",
      "[1] \"hedu.ornament.n_kan.gate.n 2\"\n",
      "[1] \"ig.door.n_ul.fruit.n 2\"\n",
      "[1] \"ig.door.n_x.na.na 2\"\n",
      "[1] \"igiŋal.sign.n 2\"\n",
      "[1] \"ildag.poplar.n_kur.mountain.n 2\"\n",
      "[1] \"ildag.poplar.n_tur.small.v.i 3\"\n",
      "[1] \"ilianum.tree.n 2\"\n",
      "[1] \"ilila.lever.n 2\"\n",
      "[1] \"kaŋeškarak.table.n_x.na.na 3\"\n",
      "[1] \"kid.da.twig.n 3\"\n",
      "[1] \"kur.wood.n 3\"\n",
      "[1] \"kuŋ.stair.n 2\"\n",
      "[1] \"lam.tree.n 2\"\n",
      "[1] \"lidga.vessel.n 2\"\n",
      "[1] \"ligima.shoot.n 3\"\n",
      "[1] \"lirum.strength.n 3\"\n",
      "[1] \"lubi.ax.n 2\"\n",
      "[1] \"ma.ship.n_dirig.float.v.i 3\"\n",
      "[1] \"ma.ship.n_idlurugu.1.dn 2\"\n",
      "[1] \"ma.ship.n_kud.cut.v.t 2\"\n",
      "[1] \"ma.ship.n_ni.in.x.na.na 2\"\n",
      "[1] \"ma.ship.n_niš.twenty.nu_gur.unit.n 2\"\n",
      "[1] \"ma.ship.n_u.ten.nu_gur.unit.n 2\"\n",
      "[1] \"ma.ship.n_x.na.na 11\"\n",
      "[1] \"ma.ship.n_x.na.na_gur.unit.n 2\"\n",
      "[1] \"madal.pole.n 2\"\n",
      "[1] \"magid.boatman.n 2\"\n",
      "[1] \"manu.wood.n_a.water.n_lu.mix.v.t_ŋeš.tree.n_ak.do.v.t 2\"\n",
      "[1] \"manu.wood.n_kalag.strong.v.i 2\"\n",
      "[1] \"manu.wood.n_x.na.na 2\"\n",
      "[1] \"manu.wood.n_šu.hand.n 2\"\n",
      "[1] \"mar.shovel.n_x.na.na 2\"\n",
      "[1] \"margida.cart.n 2\"\n",
      "[1] \"maršu.spade.n 2\"\n",
      "[1] \"masatum.lance..n 2\"\n",
      "[1] \"matgan.stand.n 2\"\n",
      "[1] \"maš.la.na.na_šudu.equipped.aj 2\"\n",
      "[1] \"maš.plant.n 3\"\n",
      "[1] \"maʾidnirŋal.1.on 2\"\n",
      "[1] \"mes.tree.n 4\"\n",
      "[1] \"mes.tree.n_kiʾengir.sumer.gn 2\"\n",
      "[1] \"mitum.weapon.n 2\"\n",
      "[1] \"murgu.shoulder.n_ma.ship.n 2\"\n",
      "[1] \"namnutare..irrigation.n 2\"\n",
      "[1] \"namulum.wooden.object.n 4\"\n",
      "[1] \"namuzum.a.tool.n 2\"\n",
      "[1] \"ninda.vessel.n 3\"\n",
      "[1] \"nisiki.comb.n 3\"\n",
      "[1] \"niŋgul.hatchet.n 2\"\n",
      "[1] \"nura..loom.n 2\"\n",
      "[1] \"pa.branch.n_ŋešnimbar.palm.n 3\"\n",
      "[1] \"peš.fig.n_uri.akkad.gn 2\"\n",
      "[1] \"pešmur..palm.n_ŋešnimbar.palm.n 2\"\n",
      "[1] \"pešniŋgilima.rodent.n 2\"\n",
      "[1] \"sa.net.n_gal.big.v.i 2\"\n",
      "[1] \"sa.net.n_igi.eye.n_gal.big.v.i 2\"\n",
      "[1] \"sa.net.n_igi.eye.n_tur.small.v.i 2\"\n",
      "[1] \"sa.net.n_x.na.na 3\"\n",
      "[1] \"sal.uš.sheath.n_x.na.na 4\"\n",
      "[1] \"saŋ.head.n_al.hoe.n 4\"\n",
      "[1] \"saŋ.head.n_apin.plow.n 2\"\n",
      "[1] \"saŋkul.bolt.n_gigir.chariot.n 4\"\n",
      "[1] \"saʾad.trap..n 2\"\n",
      "[1] \"silim.vessel.n 3\"\n",
      "[1] \"su.fibers.n_ŋešnimbar.palm.n 2\"\n",
      "[1] \"sud.post.or.stake..n 2\"\n",
      "[1] \"sudin.bat.n_apin.plow.n 2\"\n",
      "[1] \"sudin..chariot.n_margida.cart.n 2\"\n",
      "[1] \"sugin.rot.n 3\"\n",
      "[1] \"suhur.tuft.n 2\"\n",
      "[1] \"sumungi.tool.n 4\"\n",
      "[1] \"sumur.roof.n_banšur.table.n 2\"\n",
      "[1] \"targul.pole.n 2\"\n",
      "[1] \"ti.rib.n_gud.si.aš.ram.n 2\"\n",
      "[1] \"ti.rib.n_ma.ship.n 2\"\n",
      "[1] \"tir.forest.n 2\"\n",
      "[1] \"tiʾarum.tree.n 2\"\n",
      "[1] \"tubala.harness.n_ŋešnimbar.palm.n 2\"\n",
      "[1] \"tukul.weapon.n_saŋ.head.n_gaz.kill.v.t 2\"\n",
      "[1] \"tun.container.n_x.na.na 2\"\n",
      "[1] \"u.ewe.n_utud.bear.v.t 2\"\n",
      "[1] \"u.ewe.n_ŋeš.penis.n_zu.know.v.t 2\"\n",
      "[1] \"ubila.charcoal.n 2\"\n",
      "[1] \"udu.sheep.n_kurušda.fattener.n 2\"\n",
      "[1] \"udu.sheep.n_nim.high.v.i 2\"\n",
      "[1] \"unknown 124\"\n",
      "[1] \"usan.whip.n 2\"\n",
      "[1] \"uzu.flesh.n_nikid..food.n 2\"\n",
      "[1] \"uzu.flesh.n_sa.sinew.n 2\"\n",
      "[1] \"uzu.flesh.n_ti.rib.n 2\"\n",
      "[1] \"uzu.flesh.n_uš.membrane.n 3\"\n",
      "[1] \"uzu.flesh.n_x.na.na 2\"\n",
      "[1] \"uzu.flesh.n_.ka.gar..na.na 3\"\n",
      "[1] \"uzud.goat.n_utud.bear.v.t 2\"\n",
      "[1] \"uzud.goat.n_ŋeš.penis.n_zu.know.v.t 2\"\n",
      "[1] \"x.da.na.na 2\"\n",
      "[1] \"x.kin.na.na 2\"\n",
      "[1] \"x.tu.na.na 2\"\n",
      "[1] \"x.x.na.na 8\"\n",
      "[1] \"x.na.na 34\"\n",
      "[1] \"x.na.na_apin.plow.n 3\"\n",
      "[1] \"x.na.na_balak.spindle.n 2\"\n",
      "[1] \"x.na.na_gigir.chariot.n 6\"\n",
      "[1] \"x.na.na_guza.chair.n 3\"\n",
      "[1] \"x.na.na_kuŋ.stair.n 2\"\n",
      "[1] \"x.na.na_limmu.four.nu 5\"\n",
      "[1] \"x.na.na_ma.ship.n 5\"\n",
      "[1] \"x.na.na_margida.cart.n 12\"\n",
      "[1] \"x.na.na_ŋešnimbar.palm.n 13\"\n",
      "[1] \"zabitum.lyre.n 2\"\n",
      "[1] \"zamin.lyre.n 2\"\n",
      "[1] \"zarsi.plant.n 2\"\n",
      "[1] \"zena.midrib.n_ŋešnimbar.palm.n 2\"\n",
      "[1] \"zirdum.olive.n 2\"\n",
      "[1] \"zirigum.irrigation.device.n 2\"\n",
      "[1] \"zu.tooth.n_al.hoe.n 4\"\n",
      "[1] \"X..lu.uk.ki.iš.lagab.na.na 2\"\n",
      "[1] \"X.dug.x.x.na.na 7\"\n",
      "[1] \"X.x.uri.ki..na.na 3\"\n",
      "[1] \"X.ŋeš..gir..na.na 2\"\n",
      "[1] \"X.ŋeš.al.x.ma.na.na 2\"\n",
      "[1] \"X.ŋeš.bu.na.na 2\"\n",
      "[1] \"X.ŋeš.ezen.na.na 2\"\n",
      "[1] \"X.ŋeš.igi.tur.na.na 2\"\n",
      "[1] \"X.ŋeš.kal.na.na 3\"\n",
      "[1] \"X.ŋeš.kud.na.na 3\"\n",
      "[1] \"X.ŋeš.lagab.x.na.na 2\"\n",
      "[1] \"X.ŋeš.luh.x.na.na 2\"\n",
      "[1] \"X.ŋeš.nam.na.na 2\"\n",
      "[1] \"X.ŋeš.ne.x.na.na 2\"\n",
      "[1] \"X.ŋeš.niŋ..x.na.na 3\"\n",
      "[1] \"X.ŋeš.ra.x.x.na.na 2\"\n",
      "[1] \"X.ŋeš.uri.na.na 3\"\n",
      "[1] \"X.ŋeš.x.la..na.na 2\"\n",
      "[1] \"X.ŋeš.x.na.na.na 2\"\n",
      "[1] \"X.ŋeš.x.x.ni.na.na 2\"\n",
      "[1] \"X.ŋeš.x.x.x.x.na.na 2\"\n",
      "[1] \"X.ŋeš.x.x.x.na.na 10\"\n",
      "[1] \"X.ŋeš.x.x.na.na 14\"\n",
      "[1] \"X.ŋeš.x.x.na.na_gigir.chariot.n 3\"\n",
      "[1] \"X.ŋeš.x.x.na.na_ma.ship.n 2\"\n",
      "[1] \"X.ŋeš.x.x.na.na_margida.cart.n 4\"\n",
      "[1] \"X.ŋeš.x.x.na.na_x.x.na.na 2\"\n",
      "[1] \"X.ŋeš.x.x.na.na_x.na.na 2\"\n",
      "[1] \"X.ŋeš.x.x.na.na_ŋešnimbar.palm.n 5\"\n",
      "[1] \"X.ŋeš.x.na.na 36\"\n",
      "[1] \"X.ŋeš.x.na.na_apin.plow.n 14\"\n",
      "[1] \"X.ŋeš.x.na.na_banšur.table.n 2\"\n",
      "[1] \"X.ŋeš.x.na.na_gigir.chariot.n 3\"\n",
      "[1] \"X.ŋeš.x.na.na_gu.eat.v.t 2\"\n",
      "[1] \"X.ŋeš.x.na.na_ma.ship.n 2\"\n",
      "[1] \"X.ŋeš.x.na.na_madu..boat.n 2\"\n",
      "[1] \"X.ŋeš.x.na.na_margida.cart.n 3\"\n",
      "[1] \"X.ŋeš.x.na.na_x.na.na 5\"\n",
      "[1] \"X.ŋeš.x.na.na_x.na.na_gigir.chariot.n 9\"\n",
      "[1] \"X.ŋeš.x.na.na_ŋešnimbar.palm.n 2\"\n",
      "[1] \"X.ŋeš..ninda..aš..na.na 3\"\n",
      "[1] \"X.ŋeš.še.x.na.na 2\"\n",
      "[1] \"X.ŋeš.šu.x.na.na 3\"\n",
      "[1] \"ŋeš.tree.n_dim.create.v.t 2\"\n",
      "[1] \"ŋeš.tree.n_x.na.na_x.na.na 3\"\n",
      "[1] \"ŋešgana.pestle.n 2\"\n",
      "[1] \"ŋešgana.tree.n_babbar.white.v.i 2\"\n",
      "[1] \"ŋešnimbar.palm.n 2\"\n",
      "[1] \"ŋešnimbar.palm.n_al.x.na.na 5\"\n",
      "[1] \"ŋešnimbar.palm.n_dilmun.1.gn 2\"\n",
      "[1] \"ŋešnimbar.palm.n_meluhha.1.gn 2\"\n",
      "[1] \"ŋešnimbar.palm.n_suhuš.offshoot.n 2\"\n",
      "[1] \"ŋešnimbar.palm.n_tur.small.v.i 2\"\n",
      "[1] \"ŋešnimbar.palm.n_x.x.na.na 4\"\n",
      "[1] \"ŋešnimbar.palm.n_x.na.na 16\"\n",
      "[1] \"ŋešnimbar.palm.n_ŋal.be.v.i 2\"\n",
      "[1] \"ŋešnimbar.palm.n_šeŋ.cook.v.t 2\"\n",
      "[1] \"ŋešnud.bed.n_uri.akkad.gn 2\"\n",
      "[1] \"ŋešnud.bed.n_zig.rise.v.t 2\"\n",
      "[1] \"ŋešpu.rim.n 2\"\n",
      "[1] \"ŋirigub.footstool.n 2\"\n",
      "[1] \"ŋiškim.sign.n 2\"\n",
      "[1] \"ŋušur.beam.n 3\"\n",
      "[1] \"šag.heart.n_ŋešnimbar.palm.n 2\"\n",
      "[1] \"šaršabid.tree.n 2\"\n",
      "[1] \"šennur.plum.n_kur.mountain.n 2\"\n",
      "[1] \"šennur.plum.n_x.na.na 2\"\n",
      "[1] \"šerim..loom.n 2\"\n",
      "[1] \"šinig.tamarisk.n_x.na.na 2\"\n",
      "[1] \"šu.kal.tree.n 2\"\n",
      "[1] \"šunir.emblem.n 2\"\n",
      "[1] \"šuʾa.stool.n_x.na.na 4\"\n"
     ]
    }
   ],
   "source": [
    "# Illustration that entries may appear multiple times in a single document.\n",
    "# Output shows each entry that appears more than once within a document, along with the \n",
    "# maximum number of times that it appears within a document.\n",
    "\n",
    "for(x in colnames(dtm_df)) {\n",
    "\n",
    "    num_appearances = unname(unlist(unique(dtm_df[x])))\n",
    "    if(any(num_appearances > 1)) print(paste(x, max(num_appearances)))\n",
    "    \n",
    "    }"
   ]
  },
  {
   "cell_type": "code",
   "execution_count": 7,
   "metadata": {
    "collapsed": false
   },
   "outputs": [],
   "source": [
    "# Add a column showing the number of entries in each document.\n",
    "dtm_df$num_entries = rowSums(dtm_df[1:cols_to_sum])\n",
    "\n",
    "# Add a row showing the number of occurrences of each entry.\n",
    "dtm_df[\"num_occurrences\",] = colSums(dtm_df[1:rows_to_sum,])\n",
    "\n",
    "# The intersection of these two summaries is meaningless, set to NA.\n",
    "dtm_df[\"num_occurrences\",\"num_entries\"] = NA "
   ]
  },
  {
   "cell_type": "code",
   "execution_count": 8,
   "metadata": {
    "collapsed": false
   },
   "outputs": [
    {
     "name": "stdout",
     "output_type": "stream",
     "text": [
      "[1] \"There are 56 documents with 10 or more entries.\"\n",
      "[1] \"There are 22 documents with 100 or more entries.\"\n"
     ]
    },
    {
     "data": {
      "image/png": "[encoded data removed]",
      "text/plain": [
       "Plot with title “Document length”"
      ]
     },
     "metadata": {},
     "output_type": "display_data"
    }
   ],
   "source": [
    "hist(dtm_df$num_entries, breaks = 30, main = \"Document length\", \n",
    "    ylab = \"# documents\", xlab = \"# entries\")\n",
    "\n",
    "# Print out some summary statements.\n",
    "print(paste(\"There are\", length(which(dtm_df$num_entries >= 10)), \"documents with 10 or more entries.\"))\n",
    "print(paste(\"There are\", length(which(dtm_df$num_entries >= 100)), \"documents with 100 or more entries.\"))"
   ]
  },
  {
   "cell_type": "markdown",
   "metadata": {},
   "source": [
    "We see that the majority of documents are very short. However, there are a decent number of documents with a substantial number of entries (summarized above). \n",
    "\n",
    "# Look at document length\n",
    "Which documents are the longest? (This will be important when looking for issues like long-branch attraction in our dendrograms.)"
   ]
  },
  {
   "cell_type": "code",
   "execution_count": 9,
   "metadata": {
    "collapsed": false
   },
   "outputs": [
    {
     "data": {
      "text/html": [
       "<table>\n",
       "<thead><tr><th></th><th scope=col>num_entries</th></tr></thead>\n",
       "<tbody>\n",
       "\t<tr><th scope=row>Q000039</th><td>778</td></tr>\n",
       "\t<tr><th scope=row>P273880</th><td>698</td></tr>\n",
       "\t<tr><th scope=row>P271911</th><td>592</td></tr>\n",
       "\t<tr><th scope=row>Q000001</th><td>511</td></tr>\n",
       "\t<tr><th scope=row>P271301</th><td>452</td></tr>\n",
       "\t<tr><th scope=row>P247864</th><td>445</td></tr>\n",
       "</tbody>\n",
       "</table>\n"
      ],
      "text/latex": [
       "\\begin{tabular}{r|l}\n",
       "  & num\\_entries\\\\\n",
       "\\hline\n",
       "\tQ000039 & 778\\\\\n",
       "\tP273880 & 698\\\\\n",
       "\tP271911 & 592\\\\\n",
       "\tQ000001 & 511\\\\\n",
       "\tP271301 & 452\\\\\n",
       "\tP247864 & 445\\\\\n",
       "\\end{tabular}\n"
      ],
      "text/markdown": [
       "\n",
       "| <!--/--> | num_entries | \n",
       "|---|---|---|---|---|---|\n",
       "| Q000039 | 778 | \n",
       "| P273880 | 698 | \n",
       "| P271911 | 592 | \n",
       "| Q000001 | 511 | \n",
       "| P271301 | 452 | \n",
       "| P247864 | 445 | \n",
       "\n",
       "\n"
      ],
      "text/plain": [
       "        num_entries\n",
       "Q000039 778        \n",
       "P273880 698        \n",
       "P271911 592        \n",
       "Q000001 511        \n",
       "P271301 452        \n",
       "P247864 445        "
      ]
     },
     "metadata": {},
     "output_type": "display_data"
    }
   ],
   "source": [
    "dtm_df = dtm_df[order(dtm_df$num_entries, decreasing = TRUE),]\n",
    "\n",
    "head(dtm_df[\"num_entries\"])"
   ]
  },
  {
   "cell_type": "markdown",
   "metadata": {},
   "source": [
    "We then look at the distribution of entries across the corpus."
   ]
  },
  {
   "cell_type": "code",
   "execution_count": 10,
   "metadata": {
    "collapsed": false
   },
   "outputs": [
    {
     "data": {
      "image/png": "[encoded data removed]",
      "text/plain": [
       "Plot with title “Entry frequency”"
      ]
     },
     "metadata": {},
     "output_type": "display_data"
    },
    {
     "name": "stdout",
     "output_type": "stream",
     "text": [
      "[1] \"78.4% of entries appear only once or twice across the corpus\"\n",
      "[1] \"83 entries occur 10 or more times within the corpus\"\n",
      "[1] \"Including one that occurs 416 times within the 138 documents\"\n",
      "[1] \"The most common entry is ' unknown '\"\n"
     ]
    },
    {
     "data": {
      "image/png": "[encoded data removed]",
      "text/plain": [
       "Plot with title “Entry frequency (zoomed in)”"
      ]
     },
     "metadata": {},
     "output_type": "display_data"
    }
   ],
   "source": [
    "num_occurrences = unlist(dtm_df[\"num_occurrences\",])\n",
    "hist(num_occurrences, breaks = 30, main = \"Entry frequency\", \n",
    "    ylab = \"# entries\", xlab = \"# occurrences\")\n",
    "hist(num_occurrences, breaks = 30, ylim = c(0, 100), \n",
    "     main = \"Entry frequency (zoomed in)\", \n",
    "    ylab = \"# entries\", xlab = \"# occurrences\")\n",
    "\n",
    "rare = round(length(which(dtm_df[\"num_occurrences\",] <=2))/cols_to_sum*100,2)\n",
    "common_entries = colnames(dtm_df[which(dtm_df[\"num_occurrences\",] >=10)])\n",
    "most_common = max(dtm_df[\"num_occurrences\",], na.rm = TRUE)\n",
    "most_common_entry = colnames(dtm_df[which(dtm_df[\"num_occurrences\",] == most_common)])\n",
    "\n",
    "print(paste0(rare, \"% of entries appear only once or twice across the corpus\"))\n",
    "print(paste(length(common_entries), \"entries occur 10 or more times within the corpus\"))\n",
    "print(paste(\"Including one that occurs\", most_common, \"times within the\", rows_to_sum, \"documents\"))\n",
    "print(paste(\"The most common entry is '\", most_common_entry, \"'\"))"
   ]
  },
  {
   "cell_type": "markdown",
   "metadata": {},
   "source": [
    "Below we inspect the most common entries (those that appear at least ten times across the corpus) to see if they make sense."
   ]
  },
  {
   "cell_type": "code",
   "execution_count": 11,
   "metadata": {
    "collapsed": false
   },
   "outputs": [
    {
     "data": {
      "text/html": [
       "<ol class=list-inline>\n",
       "\t<li>'al.hoe.n'</li>\n",
       "\t<li>'al.hoe.n_zu.tooth.n_eš.three.nu'</li>\n",
       "\t<li>'al.hoe.n_zu.tooth.n_limmu.four.nu'</li>\n",
       "\t<li>'al.hoe.n_zu.tooth.n_min.two.nu'</li>\n",
       "\t<li>'allanum.oak.n'</li>\n",
       "\t<li>'apin.plow.n_tugsaga.plow.n'</li>\n",
       "\t<li>'apin.plow.n_šu.hand.n'</li>\n",
       "\t<li>'apin.plow.n_šudu.equipped.aj'</li>\n",
       "\t<li>'buniŋ.trough.n_x.na.na'</li>\n",
       "\t<li>'dih.weed.n'</li>\n",
       "\t<li>'dilim.spoon.n'</li>\n",
       "\t<li>'e.house.n_gigir.chariot.n'</li>\n",
       "\t<li>'ellag.ball.n'</li>\n",
       "\t<li>'esi.tree.n'</li>\n",
       "\t<li>'gigir.chariot.n'</li>\n",
       "\t<li>'girim.flower.n'</li>\n",
       "\t<li>'guza.chair.n'</li>\n",
       "\t<li>'guza.chair.n_gid.long.v.i'</li>\n",
       "\t<li>'guza.chair.n_x.na.na'</li>\n",
       "\t<li>'halub.tree.n'</li>\n",
       "\t<li>'hašhur.apple.n'</li>\n",
       "\t<li>'hašhur.apple.n_armanu.tree.n'</li>\n",
       "\t<li>'hašhur.apple.n_kur.mountain.n'</li>\n",
       "\t<li>'ildag.poplar.n'</li>\n",
       "\t<li>'ildag.poplar.n_kur.mountain.n'</li>\n",
       "\t<li>'ilianum.tree.n'</li>\n",
       "\t<li>'kid.da.twig.n'</li>\n",
       "\t<li>'kur.wood.n'</li>\n",
       "\t<li>'lamgal.nut.n'</li>\n",
       "\t<li>'lamtur.nut.n'</li>\n",
       "\t<li>'ligima.shoot.n'</li>\n",
       "\t<li>'ma.ship.n_niš.twenty.nu_gur.unit.n'</li>\n",
       "\t<li>'ma.ship.n_u.ten.nu_gur.unit.n'</li>\n",
       "\t<li>'ma.ship.n_x.na.na'</li>\n",
       "\t<li>'madal.pole.n'</li>\n",
       "\t<li>'manu.wood.n'</li>\n",
       "\t<li>'margida.cart.n'</li>\n",
       "\t<li>'maš.plant.n'</li>\n",
       "\t<li>'mes.tree.n'</li>\n",
       "\t<li>'mud.stump.n_ŋešnimbar.palm.n'</li>\n",
       "\t<li>'naŋa.mortar.n'</li>\n",
       "\t<li>'pa.branch.n_ŋešnimbar.palm.n'</li>\n",
       "\t<li>'peš.fig.n'</li>\n",
       "\t<li>'su.fibers.n_ŋešnimbar.palm.n'</li>\n",
       "\t<li>'sugin.rot.n'</li>\n",
       "\t<li>'sumungi.tool.n'</li>\n",
       "\t<li>'taškarin.boxwood.n'</li>\n",
       "\t<li>'tiʾarum.tree.n'</li>\n",
       "\t<li>'tubala.harness.n_ŋešnimbar.palm.n'</li>\n",
       "\t<li>'unknown'</li>\n",
       "\t<li>'urnum.cedar.n'</li>\n",
       "\t<li>'x.x.na.na'</li>\n",
       "\t<li>'x.na.na'</li>\n",
       "\t<li>'x.na.na_margida.cart.n'</li>\n",
       "\t<li>'x.na.na_ŋešnimbar.palm.n'</li>\n",
       "\t<li>'zena.midrib.n_ŋešnimbar.palm.n'</li>\n",
       "\t<li>'zirdum.olive.n'</li>\n",
       "\t<li>'X.ŋeš.kal.na.na'</li>\n",
       "\t<li>'X.ŋeš.x.x.x.na.na'</li>\n",
       "\t<li>'X.ŋeš.x.x.na.na'</li>\n",
       "\t<li>'X.ŋeš.x.na.na'</li>\n",
       "\t<li>'X.ŋeš.x.na.na_apin.plow.n'</li>\n",
       "\t<li>'X.ŋeš.x.na.na_x.na.na'</li>\n",
       "\t<li>'ŋešaʾabak.tree.n'</li>\n",
       "\t<li>'ŋešgana.tree.n'</li>\n",
       "\t<li>'ŋešgana.tree.n_babbar.white.v.i'</li>\n",
       "\t<li>'ŋešgana.tree.n_giggi.black.v.i'</li>\n",
       "\t<li>'ŋešnimbar.palm.n'</li>\n",
       "\t<li>'ŋešnimbar.palm.n_al.x.na.na'</li>\n",
       "\t<li>'ŋešnimbar.palm.n_x.x.na.na'</li>\n",
       "\t<li>'ŋešnimbar.palm.n_x.na.na'</li>\n",
       "\t<li>'ŋešnimbar.palm.n_šeŋ.cook.v.t'</li>\n",
       "\t<li>'ŋeštin.vine.n'</li>\n",
       "\t<li>'ŋeštinguruma..vine.n'</li>\n",
       "\t<li>'ŋeštinkaʾa.grape.n'</li>\n",
       "\t<li>'ŋeštinkira.berry.n'</li>\n",
       "\t<li>'ŋipar.tree.n'</li>\n",
       "\t<li>'ŋirigub.footstool.n'</li>\n",
       "\t<li>'šag.heart.n_ŋešnimbar.palm.n'</li>\n",
       "\t<li>'šagkal.tree.n'</li>\n",
       "\t<li>'šedug.tree.n'</li>\n",
       "\t<li>'šennur.plum.n'</li>\n",
       "\t<li>'šenu.tree.n'</li>\n",
       "</ol>\n"
      ],
      "text/latex": [
       "\\begin{enumerate*}\n",
       "\\item 'al.hoe.n'\n",
       "\\item 'al.hoe.n\\_zu.tooth.n\\_eš.three.nu'\n",
       "\\item 'al.hoe.n\\_zu.tooth.n\\_limmu.four.nu'\n",
       "\\item 'al.hoe.n\\_zu.tooth.n\\_min.two.nu'\n",
       "\\item 'allanum.oak.n'\n",
       "\\item 'apin.plow.n\\_tugsaga.plow.n'\n",
       "\\item 'apin.plow.n\\_šu.hand.n'\n",
       "\\item 'apin.plow.n\\_šudu.equipped.aj'\n",
       "\\item 'buniŋ.trough.n\\_x.na.na'\n",
       "\\item 'dih.weed.n'\n",
       "\\item 'dilim.spoon.n'\n",
       "\\item 'e.house.n\\_gigir.chariot.n'\n",
       "\\item 'ellag.ball.n'\n",
       "\\item 'esi.tree.n'\n",
       "\\item 'gigir.chariot.n'\n",
       "\\item 'girim.flower.n'\n",
       "\\item 'guza.chair.n'\n",
       "\\item 'guza.chair.n\\_gid.long.v.i'\n",
       "\\item 'guza.chair.n\\_x.na.na'\n",
       "\\item 'halub.tree.n'\n",
       "\\item 'hašhur.apple.n'\n",
       "\\item 'hašhur.apple.n\\_armanu.tree.n'\n",
       "\\item 'hašhur.apple.n\\_kur.mountain.n'\n",
       "\\item 'ildag.poplar.n'\n",
       "\\item 'ildag.poplar.n\\_kur.mountain.n'\n",
       "\\item 'ilianum.tree.n'\n",
       "\\item 'kid.da.twig.n'\n",
       "\\item 'kur.wood.n'\n",
       "\\item 'lamgal.nut.n'\n",
       "\\item 'lamtur.nut.n'\n",
       "\\item 'ligima.shoot.n'\n",
       "\\item 'ma.ship.n\\_niš.twenty.nu\\_gur.unit.n'\n",
       "\\item 'ma.ship.n\\_u.ten.nu\\_gur.unit.n'\n",
       "\\item 'ma.ship.n\\_x.na.na'\n",
       "\\item 'madal.pole.n'\n",
       "\\item 'manu.wood.n'\n",
       "\\item 'margida.cart.n'\n",
       "\\item 'maš.plant.n'\n",
       "\\item 'mes.tree.n'\n",
       "\\item 'mud.stump.n\\_ŋešnimbar.palm.n'\n",
       "\\item 'naŋa.mortar.n'\n",
       "\\item 'pa.branch.n\\_ŋešnimbar.palm.n'\n",
       "\\item 'peš.fig.n'\n",
       "\\item 'su.fibers.n\\_ŋešnimbar.palm.n'\n",
       "\\item 'sugin.rot.n'\n",
       "\\item 'sumungi.tool.n'\n",
       "\\item 'taškarin.boxwood.n'\n",
       "\\item 'tiʾarum.tree.n'\n",
       "\\item 'tubala.harness.n\\_ŋešnimbar.palm.n'\n",
       "\\item 'unknown'\n",
       "\\item 'urnum.cedar.n'\n",
       "\\item 'x.x.na.na'\n",
       "\\item 'x.na.na'\n",
       "\\item 'x.na.na\\_margida.cart.n'\n",
       "\\item 'x.na.na\\_ŋešnimbar.palm.n'\n",
       "\\item 'zena.midrib.n\\_ŋešnimbar.palm.n'\n",
       "\\item 'zirdum.olive.n'\n",
       "\\item 'X.ŋeš.kal.na.na'\n",
       "\\item 'X.ŋeš.x.x.x.na.na'\n",
       "\\item 'X.ŋeš.x.x.na.na'\n",
       "\\item 'X.ŋeš.x.na.na'\n",
       "\\item 'X.ŋeš.x.na.na\\_apin.plow.n'\n",
       "\\item 'X.ŋeš.x.na.na\\_x.na.na'\n",
       "\\item 'ŋešaʾabak.tree.n'\n",
       "\\item 'ŋešgana.tree.n'\n",
       "\\item 'ŋešgana.tree.n\\_babbar.white.v.i'\n",
       "\\item 'ŋešgana.tree.n\\_giggi.black.v.i'\n",
       "\\item 'ŋešnimbar.palm.n'\n",
       "\\item 'ŋešnimbar.palm.n\\_al.x.na.na'\n",
       "\\item 'ŋešnimbar.palm.n\\_x.x.na.na'\n",
       "\\item 'ŋešnimbar.palm.n\\_x.na.na'\n",
       "\\item 'ŋešnimbar.palm.n\\_šeŋ.cook.v.t'\n",
       "\\item 'ŋeštin.vine.n'\n",
       "\\item 'ŋeštinguruma..vine.n'\n",
       "\\item 'ŋeštinkaʾa.grape.n'\n",
       "\\item 'ŋeštinkira.berry.n'\n",
       "\\item 'ŋipar.tree.n'\n",
       "\\item 'ŋirigub.footstool.n'\n",
       "\\item 'šag.heart.n\\_ŋešnimbar.palm.n'\n",
       "\\item 'šagkal.tree.n'\n",
       "\\item 'šedug.tree.n'\n",
       "\\item 'šennur.plum.n'\n",
       "\\item 'šenu.tree.n'\n",
       "\\end{enumerate*}\n"
      ],
      "text/markdown": [
       "1. 'al.hoe.n'\n",
       "2. 'al.hoe.n_zu.tooth.n_eš.three.nu'\n",
       "3. 'al.hoe.n_zu.tooth.n_limmu.four.nu'\n",
       "4. 'al.hoe.n_zu.tooth.n_min.two.nu'\n",
       "5. 'allanum.oak.n'\n",
       "6. 'apin.plow.n_tugsaga.plow.n'\n",
       "7. 'apin.plow.n_šu.hand.n'\n",
       "8. 'apin.plow.n_šudu.equipped.aj'\n",
       "9. 'buniŋ.trough.n_x.na.na'\n",
       "10. 'dih.weed.n'\n",
       "11. 'dilim.spoon.n'\n",
       "12. 'e.house.n_gigir.chariot.n'\n",
       "13. 'ellag.ball.n'\n",
       "14. 'esi.tree.n'\n",
       "15. 'gigir.chariot.n'\n",
       "16. 'girim.flower.n'\n",
       "17. 'guza.chair.n'\n",
       "18. 'guza.chair.n_gid.long.v.i'\n",
       "19. 'guza.chair.n_x.na.na'\n",
       "20. 'halub.tree.n'\n",
       "21. 'hašhur.apple.n'\n",
       "22. 'hašhur.apple.n_armanu.tree.n'\n",
       "23. 'hašhur.apple.n_kur.mountain.n'\n",
       "24. 'ildag.poplar.n'\n",
       "25. 'ildag.poplar.n_kur.mountain.n'\n",
       "26. 'ilianum.tree.n'\n",
       "27. 'kid.da.twig.n'\n",
       "28. 'kur.wood.n'\n",
       "29. 'lamgal.nut.n'\n",
       "30. 'lamtur.nut.n'\n",
       "31. 'ligima.shoot.n'\n",
       "32. 'ma.ship.n_niš.twenty.nu_gur.unit.n'\n",
       "33. 'ma.ship.n_u.ten.nu_gur.unit.n'\n",
       "34. 'ma.ship.n_x.na.na'\n",
       "35. 'madal.pole.n'\n",
       "36. 'manu.wood.n'\n",
       "37. 'margida.cart.n'\n",
       "38. 'maš.plant.n'\n",
       "39. 'mes.tree.n'\n",
       "40. 'mud.stump.n_ŋešnimbar.palm.n'\n",
       "41. 'naŋa.mortar.n'\n",
       "42. 'pa.branch.n_ŋešnimbar.palm.n'\n",
       "43. 'peš.fig.n'\n",
       "44. 'su.fibers.n_ŋešnimbar.palm.n'\n",
       "45. 'sugin.rot.n'\n",
       "46. 'sumungi.tool.n'\n",
       "47. 'taškarin.boxwood.n'\n",
       "48. 'tiʾarum.tree.n'\n",
       "49. 'tubala.harness.n_ŋešnimbar.palm.n'\n",
       "50. 'unknown'\n",
       "51. 'urnum.cedar.n'\n",
       "52. 'x.x.na.na'\n",
       "53. 'x.na.na'\n",
       "54. 'x.na.na_margida.cart.n'\n",
       "55. 'x.na.na_ŋešnimbar.palm.n'\n",
       "56. 'zena.midrib.n_ŋešnimbar.palm.n'\n",
       "57. 'zirdum.olive.n'\n",
       "58. 'X.ŋeš.kal.na.na'\n",
       "59. 'X.ŋeš.x.x.x.na.na'\n",
       "60. 'X.ŋeš.x.x.na.na'\n",
       "61. 'X.ŋeš.x.na.na'\n",
       "62. 'X.ŋeš.x.na.na_apin.plow.n'\n",
       "63. 'X.ŋeš.x.na.na_x.na.na'\n",
       "64. 'ŋešaʾabak.tree.n'\n",
       "65. 'ŋešgana.tree.n'\n",
       "66. 'ŋešgana.tree.n_babbar.white.v.i'\n",
       "67. 'ŋešgana.tree.n_giggi.black.v.i'\n",
       "68. 'ŋešnimbar.palm.n'\n",
       "69. 'ŋešnimbar.palm.n_al.x.na.na'\n",
       "70. 'ŋešnimbar.palm.n_x.x.na.na'\n",
       "71. 'ŋešnimbar.palm.n_x.na.na'\n",
       "72. 'ŋešnimbar.palm.n_šeŋ.cook.v.t'\n",
       "73. 'ŋeštin.vine.n'\n",
       "74. 'ŋeštinguruma..vine.n'\n",
       "75. 'ŋeštinkaʾa.grape.n'\n",
       "76. 'ŋeštinkira.berry.n'\n",
       "77. 'ŋipar.tree.n'\n",
       "78. 'ŋirigub.footstool.n'\n",
       "79. 'šag.heart.n_ŋešnimbar.palm.n'\n",
       "80. 'šagkal.tree.n'\n",
       "81. 'šedug.tree.n'\n",
       "82. 'šennur.plum.n'\n",
       "83. 'šenu.tree.n'\n",
       "\n",
       "\n"
      ],
      "text/plain": [
       " [1] \"al.hoe.n\"                           \"al.hoe.n_zu.tooth.n_eš.three.nu\"   \n",
       " [3] \"al.hoe.n_zu.tooth.n_limmu.four.nu\"  \"al.hoe.n_zu.tooth.n_min.two.nu\"    \n",
       " [5] \"allanum.oak.n\"                      \"apin.plow.n_tugsaga.plow.n\"        \n",
       " [7] \"apin.plow.n_šu.hand.n\"              \"apin.plow.n_šudu.equipped.aj\"      \n",
       " [9] \"buniŋ.trough.n_x.na.na\"             \"dih.weed.n\"                        \n",
       "[11] \"dilim.spoon.n\"                      \"e.house.n_gigir.chariot.n\"         \n",
       "[13] \"ellag.ball.n\"                       \"esi.tree.n\"                        \n",
       "[15] \"gigir.chariot.n\"                    \"girim.flower.n\"                    \n",
       "[17] \"guza.chair.n\"                       \"guza.chair.n_gid.long.v.i\"         \n",
       "[19] \"guza.chair.n_x.na.na\"               \"halub.tree.n\"                      \n",
       "[21] \"hašhur.apple.n\"                     \"hašhur.apple.n_armanu.tree.n\"      \n",
       "[23] \"hašhur.apple.n_kur.mountain.n\"      \"ildag.poplar.n\"                    \n",
       "[25] \"ildag.poplar.n_kur.mountain.n\"      \"ilianum.tree.n\"                    \n",
       "[27] \"kid.da.twig.n\"                      \"kur.wood.n\"                        \n",
       "[29] \"lamgal.nut.n\"                       \"lamtur.nut.n\"                      \n",
       "[31] \"ligima.shoot.n\"                     \"ma.ship.n_niš.twenty.nu_gur.unit.n\"\n",
       "[33] \"ma.ship.n_u.ten.nu_gur.unit.n\"      \"ma.ship.n_x.na.na\"                 \n",
       "[35] \"madal.pole.n\"                       \"manu.wood.n\"                       \n",
       "[37] \"margida.cart.n\"                     \"maš.plant.n\"                       \n",
       "[39] \"mes.tree.n\"                         \"mud.stump.n_ŋešnimbar.palm.n\"      \n",
       "[41] \"naŋa.mortar.n\"                      \"pa.branch.n_ŋešnimbar.palm.n\"      \n",
       "[43] \"peš.fig.n\"                          \"su.fibers.n_ŋešnimbar.palm.n\"      \n",
       "[45] \"sugin.rot.n\"                        \"sumungi.tool.n\"                    \n",
       "[47] \"taškarin.boxwood.n\"                 \"tiʾarum.tree.n\"                    \n",
       "[49] \"tubala.harness.n_ŋešnimbar.palm.n\"  \"unknown\"                           \n",
       "[51] \"urnum.cedar.n\"                      \"x.x.na.na\"                         \n",
       "[53] \"x.na.na\"                            \"x.na.na_margida.cart.n\"            \n",
       "[55] \"x.na.na_ŋešnimbar.palm.n\"           \"zena.midrib.n_ŋešnimbar.palm.n\"    \n",
       "[57] \"zirdum.olive.n\"                     \"X.ŋeš.kal.na.na\"                   \n",
       "[59] \"X.ŋeš.x.x.x.na.na\"                  \"X.ŋeš.x.x.na.na\"                   \n",
       "[61] \"X.ŋeš.x.na.na\"                      \"X.ŋeš.x.na.na_apin.plow.n\"         \n",
       "[63] \"X.ŋeš.x.na.na_x.na.na\"              \"ŋešaʾabak.tree.n\"                  \n",
       "[65] \"ŋešgana.tree.n\"                     \"ŋešgana.tree.n_babbar.white.v.i\"   \n",
       "[67] \"ŋešgana.tree.n_giggi.black.v.i\"     \"ŋešnimbar.palm.n\"                  \n",
       "[69] \"ŋešnimbar.palm.n_al.x.na.na\"        \"ŋešnimbar.palm.n_x.x.na.na\"        \n",
       "[71] \"ŋešnimbar.palm.n_x.na.na\"           \"ŋešnimbar.palm.n_šeŋ.cook.v.t\"     \n",
       "[73] \"ŋeštin.vine.n\"                      \"ŋeštinguruma..vine.n\"              \n",
       "[75] \"ŋeštinkaʾa.grape.n\"                 \"ŋeštinkira.berry.n\"                \n",
       "[77] \"ŋipar.tree.n\"                       \"ŋirigub.footstool.n\"               \n",
       "[79] \"šag.heart.n_ŋešnimbar.palm.n\"       \"šagkal.tree.n\"                     \n",
       "[81] \"šedug.tree.n\"                       \"šennur.plum.n\"                     \n",
       "[83] \"šenu.tree.n\"                       "
      ]
     },
     "metadata": {},
     "output_type": "display_data"
    }
   ],
   "source": [
    "# Look at some of the most common entries\n",
    "common_entries"
   ]
  },
  {
   "cell_type": "markdown",
   "metadata": {},
   "source": [
    "As seen from the output above, many of the most common entries include\n",
    "either unlematizable or illegible words (represented as x.na.na or x.x.na.na). \n",
    "These are not particularly informative. We want to remove these entries from the analysis. Also remove the entry \"unknown\"."
   ]
  },
  {
   "cell_type": "code",
   "execution_count": 12,
   "metadata": {
    "collapsed": false
   },
   "outputs": [
    {
     "data": {
      "text/html": [
       "<table>\n",
       "<thead><tr><th></th><th scope=col>a.arm.n_apin.plow.n</th><th scope=col>a.arm.n_gud.ox.n_apin.plow.n</th><th scope=col>a.arm.n_umbin.wheel.n_margida.cart.n</th><th scope=col>a.arm.n_ŋešrin.scales.n</th><th scope=col>ab.cow.n</th><th scope=col>ab.cow.n_ib.hips.n_gig.sick.v.i</th><th scope=col>ab.cow.n_mah.mature.v.i</th><th scope=col>ab.cow.n_peš.thick.v.i</th><th scope=col>ab.cow.n_si.horn.n_ŋal.be.v.i</th><th scope=col>ab.cow.n_suhub..oxen.n</th><th scope=col>⋯</th><th scope=col>šuʾa.stool.n_burgul.stone.cutter.n</th><th scope=col>šuʾa.stool.n_dus.bathroom.n</th><th scope=col>šuʾa.stool.n_kaskal.way.n</th><th scope=col>šuʾa.stool.n_nagar.carpenter.n</th><th scope=col>šuʾa.stool.n_niŋgula.greatness.n</th><th scope=col>šuʾa.stool.n_suhsah.sound.n</th><th scope=col>šuʾa.stool.n_tibira.sculptor.n</th><th scope=col>šuʾa.stool.n_šu.hand.n</th><th scope=col>šuʾa.stool.n_šuʾi.barber.n</th><th scope=col>num_entries</th></tr></thead>\n",
       "<tbody>\n",
       "\t<tr><th scope=row>Q000039</th><td>1  </td><td>1  </td><td>0  </td><td>0  </td><td>0  </td><td>0  </td><td>0  </td><td>0  </td><td>0  </td><td>0  </td><td>⋯  </td><td>1  </td><td>1  </td><td>1  </td><td>1  </td><td>1  </td><td>0  </td><td>1  </td><td>0  </td><td>0  </td><td>778</td></tr>\n",
       "\t<tr><th scope=row>P273880</th><td>1  </td><td>0  </td><td>0  </td><td>0  </td><td>0  </td><td>0  </td><td>0  </td><td>0  </td><td>0  </td><td>0  </td><td>⋯  </td><td>0  </td><td>0  </td><td>0  </td><td>0  </td><td>0  </td><td>0  </td><td>0  </td><td>0  </td><td>0  </td><td>698</td></tr>\n",
       "\t<tr><th scope=row>P271911</th><td>1  </td><td>0  </td><td>0  </td><td>1  </td><td>0  </td><td>0  </td><td>0  </td><td>0  </td><td>0  </td><td>0  </td><td>⋯  </td><td>0  </td><td>0  </td><td>0  </td><td>0  </td><td>0  </td><td>0  </td><td>0  </td><td>0  </td><td>0  </td><td>592</td></tr>\n",
       "\t<tr><th scope=row>Q000001</th><td>0  </td><td>0  </td><td>0  </td><td>0  </td><td>1  </td><td>1  </td><td>1  </td><td>1  </td><td>2  </td><td>1  </td><td>⋯  </td><td>0  </td><td>0  </td><td>0  </td><td>0  </td><td>0  </td><td>0  </td><td>0  </td><td>0  </td><td>0  </td><td>511</td></tr>\n",
       "\t<tr><th scope=row>P271301</th><td>0  </td><td>0  </td><td>0  </td><td>0  </td><td>0  </td><td>0  </td><td>0  </td><td>0  </td><td>0  </td><td>0  </td><td>⋯  </td><td>1  </td><td>1  </td><td>0  </td><td>0  </td><td>1  </td><td>1  </td><td>1  </td><td>0  </td><td>1  </td><td>452</td></tr>\n",
       "\t<tr><th scope=row>P247864</th><td>0  </td><td>0  </td><td>0  </td><td>0  </td><td>0  </td><td>0  </td><td>0  </td><td>0  </td><td>0  </td><td>0  </td><td>⋯  </td><td>0  </td><td>1  </td><td>0  </td><td>0  </td><td>0  </td><td>1  </td><td>1  </td><td>0  </td><td>0  </td><td>445</td></tr>\n",
       "</tbody>\n",
       "</table>\n"
      ],
      "text/latex": [
       "\\begin{tabular}{r|llllllllllllllllllllllllllllllllllllllllllllllllllllllllllllllllllllllllllllllllllllllllllllllllllllllllllllllllllllllllllllllllllllllllllllllllllllllllllllllllllllllllllllllllllllllllllllllllllllllllllllllllllllllllllllllllllllllllllllllllllllllllllllllllllllllllllllllllllllllllllllllllllllllllllllllllllllllllllllllllllllllllllllllllllllllllllllllllllllllllllllllllllllllllllllllllllllllllllllllllllllllllllllllllllllllllllllllllllllllllllllllllllllllllllllllllllllllllllllllllllllllllllllllllllllllllllllllllllllllllllllllllllllllllllllllllllllllllllllllllllllllllllllllllllllllllllllllllllllllllllllllllllllllllllllllllllllllllllllllllllllllllllllllllllllllllllllllllllllllllllllllllllllllllllllllllllllllllllllllllllllllllllllllllllllllllllllllllllllllllllllllllllllllllllllllllllllllllllllllllllllllllllllllllllllllllllllllllllllllllllllllllllllllllllllllllllllllllllllllllllllllllllllllllllllllllllllllllllllllllllllllllllllllllllllllllllllllllllllllllllllllllllllllllllllllllllllllllllllllllllllllllllllllllllllllllllllllllllllllllllllllllllllllllllllllllllllllllllllllllllllllllllllllllllllllllllllllllllllllllllllllllllllllllllllllllllllllllllllllllllllllllllllllllllllllllllllllllllllllllllllllllllllllllllllllllllllllllllllllllllllllllllllllllllllllllllllllllllllllllllllllllllllllllllllllllllllllllllllllllllllllllllllllllllllllllllllllllllllllllllllllllllllllllllllllllllllllllllllllllllllllllllllllllllllllllllllllllllllllllllllllllllllllllllllllllllllllllllllllllllllllllllllllllllllllllllllllllllllllllllllllllllllllllllllllllllllllllllllllllllllllllllllllllllllllllllllllllllllllllllllllllllllllllllllllllllllllllllllllllllllllllllllllllllllllllllllllllllllllllllllllllllllllllllllllllllllllllllllllllllllllllllllllllllllllllllllllllllllllllllllllllllllllllllllllllllllllllllllllllllllllllllllllllllllllllllllllllllllllllllllllllllllllllllllllllllllllllllllllllllllllllllllllllllllllllllllllllllllllllllllllllllllllllllllllllllllllllllllllllllllllllllllllllllllllllllllllllllllllllllllllllllllllllllllllllllllllllllllllllllllllllllllllllllllllllllllllllllllllllllllllllllllllllllllllllllllllllllllllllllllllllllllllllllllllllllllllllllllllllllllllllllllllllllllllllllllllllllllllllllllllllllllllllllllllllllllllllllllllllllllllllllllllllllllllllllllllllllllllllllllllllllllllllllllllllllllllllllllllllllllllllllllllllllllllllllllllllllllllllllllllllllllllllllllllllllllllllllllllllllll}\n",
       "  & a.arm.n\\_apin.plow.n & a.arm.n\\_gud.ox.n\\_apin.plow.n & a.arm.n\\_umbin.wheel.n\\_margida.cart.n & a.arm.n\\_ŋešrin.scales.n & ab.cow.n & ab.cow.n\\_ib.hips.n\\_gig.sick.v.i & ab.cow.n\\_mah.mature.v.i & ab.cow.n\\_peš.thick.v.i & ab.cow.n\\_si.horn.n\\_ŋal.be.v.i & ab.cow.n\\_suhub..oxen.n & ⋯ & šuʾa.stool.n\\_burgul.stone.cutter.n & šuʾa.stool.n\\_dus.bathroom.n & šuʾa.stool.n\\_kaskal.way.n & šuʾa.stool.n\\_nagar.carpenter.n & šuʾa.stool.n\\_niŋgula.greatness.n & šuʾa.stool.n\\_suhsah.sound.n & šuʾa.stool.n\\_tibira.sculptor.n & šuʾa.stool.n\\_šu.hand.n & šuʾa.stool.n\\_šuʾi.barber.n & num\\_entries\\\\\n",
       "\\hline\n",
       "\tQ000039 & 1   & 1   & 0   & 0   & 0   & 0   & 0   & 0   & 0   & 0   & ⋯   & 1   & 1   & 1   & 1   & 1   & 0   & 1   & 0   & 0   & 778\\\\\n",
       "\tP273880 & 1   & 0   & 0   & 0   & 0   & 0   & 0   & 0   & 0   & 0   & ⋯   & 0   & 0   & 0   & 0   & 0   & 0   & 0   & 0   & 0   & 698\\\\\n",
       "\tP271911 & 1   & 0   & 0   & 1   & 0   & 0   & 0   & 0   & 0   & 0   & ⋯   & 0   & 0   & 0   & 0   & 0   & 0   & 0   & 0   & 0   & 592\\\\\n",
       "\tQ000001 & 0   & 0   & 0   & 0   & 1   & 1   & 1   & 1   & 2   & 1   & ⋯   & 0   & 0   & 0   & 0   & 0   & 0   & 0   & 0   & 0   & 511\\\\\n",
       "\tP271301 & 0   & 0   & 0   & 0   & 0   & 0   & 0   & 0   & 0   & 0   & ⋯   & 1   & 1   & 0   & 0   & 1   & 1   & 1   & 0   & 1   & 452\\\\\n",
       "\tP247864 & 0   & 0   & 0   & 0   & 0   & 0   & 0   & 0   & 0   & 0   & ⋯   & 0   & 1   & 0   & 0   & 0   & 1   & 1   & 0   & 0   & 445\\\\\n",
       "\\end{tabular}\n"
      ],
      "text/markdown": [
       "\n",
       "| <!--/--> | a.arm.n_apin.plow.n | a.arm.n_gud.ox.n_apin.plow.n | a.arm.n_umbin.wheel.n_margida.cart.n | a.arm.n_ŋešrin.scales.n | ab.cow.n | ab.cow.n_ib.hips.n_gig.sick.v.i | ab.cow.n_mah.mature.v.i | ab.cow.n_peš.thick.v.i | ab.cow.n_si.horn.n_ŋal.be.v.i | ab.cow.n_suhub..oxen.n | ⋯ | šuʾa.stool.n_burgul.stone.cutter.n | šuʾa.stool.n_dus.bathroom.n | šuʾa.stool.n_kaskal.way.n | šuʾa.stool.n_nagar.carpenter.n | šuʾa.stool.n_niŋgula.greatness.n | šuʾa.stool.n_suhsah.sound.n | šuʾa.stool.n_tibira.sculptor.n | šuʾa.stool.n_šu.hand.n | šuʾa.stool.n_šuʾi.barber.n | num_entries | \n",
       "|---|---|---|---|---|---|\n",
       "| Q000039 | 1   | 1   | 0   | 0   | 0   | 0   | 0   | 0   | 0   | 0   | ⋯   | 1   | 1   | 1   | 1   | 1   | 0   | 1   | 0   | 0   | 778 | \n",
       "| P273880 | 1   | 0   | 0   | 0   | 0   | 0   | 0   | 0   | 0   | 0   | ⋯   | 0   | 0   | 0   | 0   | 0   | 0   | 0   | 0   | 0   | 698 | \n",
       "| P271911 | 1   | 0   | 0   | 1   | 0   | 0   | 0   | 0   | 0   | 0   | ⋯   | 0   | 0   | 0   | 0   | 0   | 0   | 0   | 0   | 0   | 592 | \n",
       "| Q000001 | 0   | 0   | 0   | 0   | 1   | 1   | 1   | 1   | 2   | 1   | ⋯   | 0   | 0   | 0   | 0   | 0   | 0   | 0   | 0   | 0   | 511 | \n",
       "| P271301 | 0   | 0   | 0   | 0   | 0   | 0   | 0   | 0   | 0   | 0   | ⋯   | 1   | 1   | 0   | 0   | 1   | 1   | 1   | 0   | 1   | 452 | \n",
       "| P247864 | 0   | 0   | 0   | 0   | 0   | 0   | 0   | 0   | 0   | 0   | ⋯   | 0   | 1   | 0   | 0   | 0   | 1   | 1   | 0   | 0   | 445 | \n",
       "\n",
       "\n"
      ],
      "text/plain": [
       "        a.arm.n_apin.plow.n a.arm.n_gud.ox.n_apin.plow.n\n",
       "Q000039 1                   1                           \n",
       "P273880 1                   0                           \n",
       "P271911 1                   0                           \n",
       "Q000001 0                   0                           \n",
       "P271301 0                   0                           \n",
       "P247864 0                   0                           \n",
       "        a.arm.n_umbin.wheel.n_margida.cart.n a.arm.n_ŋešrin.scales.n ab.cow.n\n",
       "Q000039 0                                    0                       0       \n",
       "P273880 0                                    0                       0       \n",
       "P271911 0                                    1                       0       \n",
       "Q000001 0                                    0                       1       \n",
       "P271301 0                                    0                       0       \n",
       "P247864 0                                    0                       0       \n",
       "        ab.cow.n_ib.hips.n_gig.sick.v.i ab.cow.n_mah.mature.v.i\n",
       "Q000039 0                               0                      \n",
       "P273880 0                               0                      \n",
       "P271911 0                               0                      \n",
       "Q000001 1                               1                      \n",
       "P271301 0                               0                      \n",
       "P247864 0                               0                      \n",
       "        ab.cow.n_peš.thick.v.i ab.cow.n_si.horn.n_ŋal.be.v.i\n",
       "Q000039 0                      0                            \n",
       "P273880 0                      0                            \n",
       "P271911 0                      0                            \n",
       "Q000001 1                      2                            \n",
       "P271301 0                      0                            \n",
       "P247864 0                      0                            \n",
       "        ab.cow.n_suhub..oxen.n ⋯ šuʾa.stool.n_burgul.stone.cutter.n\n",
       "Q000039 0                      ⋯ 1                                 \n",
       "P273880 0                      ⋯ 0                                 \n",
       "P271911 0                      ⋯ 0                                 \n",
       "Q000001 1                      ⋯ 0                                 \n",
       "P271301 0                      ⋯ 1                                 \n",
       "P247864 0                      ⋯ 0                                 \n",
       "        šuʾa.stool.n_dus.bathroom.n šuʾa.stool.n_kaskal.way.n\n",
       "Q000039 1                           1                        \n",
       "P273880 0                           0                        \n",
       "P271911 0                           0                        \n",
       "Q000001 0                           0                        \n",
       "P271301 1                           0                        \n",
       "P247864 1                           0                        \n",
       "        šuʾa.stool.n_nagar.carpenter.n šuʾa.stool.n_niŋgula.greatness.n\n",
       "Q000039 1                              1                               \n",
       "P273880 0                              0                               \n",
       "P271911 0                              0                               \n",
       "Q000001 0                              0                               \n",
       "P271301 0                              1                               \n",
       "P247864 0                              0                               \n",
       "        šuʾa.stool.n_suhsah.sound.n šuʾa.stool.n_tibira.sculptor.n\n",
       "Q000039 0                           1                             \n",
       "P273880 0                           0                             \n",
       "P271911 0                           0                             \n",
       "Q000001 0                           0                             \n",
       "P271301 1                           1                             \n",
       "P247864 1                           1                             \n",
       "        šuʾa.stool.n_šu.hand.n šuʾa.stool.n_šuʾi.barber.n num_entries\n",
       "Q000039 0                      0                          778        \n",
       "P273880 0                      0                          698        \n",
       "P271911 0                      0                          592        \n",
       "Q000001 0                      0                          511        \n",
       "P271301 0                      1                          452        \n",
       "P247864 0                      0                          445        "
      ]
     },
     "metadata": {},
     "output_type": "display_data"
    }
   ],
   "source": [
    "# remove na.na entries\n",
    "entries_with_na = grep(\"na.na\", colnames(dtm_df))\n",
    "\n",
    "if(length(entries_with_na) > 0) {\n",
    "dtm_df = dtm_df[,-entries_with_na]\n",
    "dtm_df$unknown = NULL\n",
    "    }\n",
    "\n",
    "head(dtm_df)"
   ]
  },
  {
   "cell_type": "markdown",
   "metadata": {},
   "source": [
    "Look again at entry frequency after removing these entries.\n",
    "\n",
    "Note that we must re-create the summary column and row after excluding these entries."
   ]
  },
  {
   "cell_type": "code",
   "execution_count": 13,
   "metadata": {
    "collapsed": false
   },
   "outputs": [],
   "source": [
    "# Remove summary column and row\n",
    "dtm_df$num_entries = NULL\n",
    "dtm_df = dtm_df[-which(rownames(dtm_df) == \"num_occurrences\"),]\n",
    "\n",
    "cols_to_sum = ncol(dtm_df)\n",
    "rows_to_sum = nrow(dtm_df)"
   ]
  },
  {
   "cell_type": "code",
   "execution_count": 14,
   "metadata": {
    "collapsed": true
   },
   "outputs": [],
   "source": [
    "# Add a column showing the number of entries in each document.\n",
    "dtm_df$num_entries = rowSums(dtm_df[1:cols_to_sum])\n",
    "\n",
    "# Add a row showing the number of occurances of each entry.\n",
    "dtm_df[\"num_occurrences\",] = colSums(dtm_df[1:rows_to_sum,])\n",
    "\n",
    "# The intersection of these two summaries is meaningless, set to NA.\n",
    "dtm_df[\"num_occurrences\",\"num_entries\"] = NA "
   ]
  },
  {
   "cell_type": "code",
   "execution_count": 15,
   "metadata": {
    "collapsed": false
   },
   "outputs": [
    {
     "data": {
      "image/png": "[encoded data removed]",
      "text/plain": [
       "Plot with title “Entry frequency”"
      ]
     },
     "metadata": {},
     "output_type": "display_data"
    },
    {
     "name": "stdout",
     "output_type": "stream",
     "text": [
      "[1] \"72.78% of entries appear only once or twice across the corpus\"\n",
      "[1] \"66 entries occur 10 or more times within the corpus\"\n",
      "[1] \"Including one that occurs 23 times within the 138 documents\"\n",
      "[1] \"The most common entry is kid.da.twig.n\"\n"
     ]
    },
    {
     "data": {
      "image/png": "[encoded data removed]",
      "text/plain": [
       "Plot with title “Entry frequency (zoomed in)”"
      ]
     },
     "metadata": {},
     "output_type": "display_data"
    }
   ],
   "source": [
    "num_occurrences = unlist(dtm_df[\"num_occurrences\",])\n",
    "hist(num_occurrences, breaks = 30, main = \"Entry frequency\", \n",
    "    ylab = \"# entries\", xlab = \"# occurrences\")\n",
    "hist(num_occurrences, breaks = 30, ylim = c(0, 100), \n",
    "     main = \"Entry frequency (zoomed in)\", \n",
    "    ylab = \"# entries\", xlab = \"# occurrences\")\n",
    "\n",
    "rare = round(length(which(dtm_df[\"num_occurrences\",] <=2))/cols_to_sum*100,2)\n",
    "common_entries = colnames(dtm_df[which(dtm_df[\"num_occurrences\",] >=10)])\n",
    "most_common = max(dtm_df[\"num_occurrences\",], na.rm = TRUE)\n",
    "most_common_entry = colnames(dtm_df[which(dtm_df[\"num_occurrences\",] == most_common)])\n",
    "\n",
    "print(paste0(rare, \"% of entries appear only once or twice across the corpus\"))\n",
    "print(paste(length(common_entries), \"entries occur 10 or more times within the corpus\"))\n",
    "print(paste(\"Including one that occurs\", most_common, \"times within the\", rows_to_sum, \"documents\"))\n",
    "print(paste(\"The most common entry is\", most_common_entry))"
   ]
  },
  {
   "cell_type": "code",
   "execution_count": 16,
   "metadata": {
    "collapsed": false
   },
   "outputs": [
    {
     "data": {
      "text/html": [
       "<ol class=list-inline>\n",
       "\t<li>'al.hoe.n'</li>\n",
       "\t<li>'al.hoe.n_zu.tooth.n_eš.three.nu'</li>\n",
       "\t<li>'al.hoe.n_zu.tooth.n_limmu.four.nu'</li>\n",
       "\t<li>'al.hoe.n_zu.tooth.n_min.two.nu'</li>\n",
       "\t<li>'allanum.oak.n'</li>\n",
       "\t<li>'apin.plow.n_tugsaga.plow.n'</li>\n",
       "\t<li>'apin.plow.n_šu.hand.n'</li>\n",
       "\t<li>'apin.plow.n_šudu.equipped.aj'</li>\n",
       "\t<li>'dih.weed.n'</li>\n",
       "\t<li>'dilim.spoon.n'</li>\n",
       "\t<li>'e.house.n_gigir.chariot.n'</li>\n",
       "\t<li>'ellag.ball.n'</li>\n",
       "\t<li>'esi.tree.n'</li>\n",
       "\t<li>'gigir.chariot.n'</li>\n",
       "\t<li>'girim.flower.n'</li>\n",
       "\t<li>'guza.chair.n'</li>\n",
       "\t<li>'guza.chair.n_gid.long.v.i'</li>\n",
       "\t<li>'halub.tree.n'</li>\n",
       "\t<li>'hašhur.apple.n'</li>\n",
       "\t<li>'hašhur.apple.n_armanu.tree.n'</li>\n",
       "\t<li>'hašhur.apple.n_kur.mountain.n'</li>\n",
       "\t<li>'ildag.poplar.n'</li>\n",
       "\t<li>'ildag.poplar.n_kur.mountain.n'</li>\n",
       "\t<li>'ilianum.tree.n'</li>\n",
       "\t<li>'kid.da.twig.n'</li>\n",
       "\t<li>'kur.wood.n'</li>\n",
       "\t<li>'lamgal.nut.n'</li>\n",
       "\t<li>'lamtur.nut.n'</li>\n",
       "\t<li>'ligima.shoot.n'</li>\n",
       "\t<li>'ma.ship.n_niš.twenty.nu_gur.unit.n'</li>\n",
       "\t<li>'ma.ship.n_u.ten.nu_gur.unit.n'</li>\n",
       "\t<li>'madal.pole.n'</li>\n",
       "\t<li>'manu.wood.n'</li>\n",
       "\t<li>'margida.cart.n'</li>\n",
       "\t<li>'maš.plant.n'</li>\n",
       "\t<li>'mes.tree.n'</li>\n",
       "\t<li>'mud.stump.n_ŋešnimbar.palm.n'</li>\n",
       "\t<li>'naŋa.mortar.n'</li>\n",
       "\t<li>'pa.branch.n_ŋešnimbar.palm.n'</li>\n",
       "\t<li>'peš.fig.n'</li>\n",
       "\t<li>'su.fibers.n_ŋešnimbar.palm.n'</li>\n",
       "\t<li>'sugin.rot.n'</li>\n",
       "\t<li>'sumungi.tool.n'</li>\n",
       "\t<li>'taškarin.boxwood.n'</li>\n",
       "\t<li>'tiʾarum.tree.n'</li>\n",
       "\t<li>'tubala.harness.n_ŋešnimbar.palm.n'</li>\n",
       "\t<li>'urnum.cedar.n'</li>\n",
       "\t<li>'zena.midrib.n_ŋešnimbar.palm.n'</li>\n",
       "\t<li>'zirdum.olive.n'</li>\n",
       "\t<li>'ŋešaʾabak.tree.n'</li>\n",
       "\t<li>'ŋešgana.tree.n'</li>\n",
       "\t<li>'ŋešgana.tree.n_babbar.white.v.i'</li>\n",
       "\t<li>'ŋešgana.tree.n_giggi.black.v.i'</li>\n",
       "\t<li>'ŋešnimbar.palm.n'</li>\n",
       "\t<li>'ŋešnimbar.palm.n_šeŋ.cook.v.t'</li>\n",
       "\t<li>'ŋeštin.vine.n'</li>\n",
       "\t<li>'ŋeštinguruma..vine.n'</li>\n",
       "\t<li>'ŋeštinkaʾa.grape.n'</li>\n",
       "\t<li>'ŋeštinkira.berry.n'</li>\n",
       "\t<li>'ŋipar.tree.n'</li>\n",
       "\t<li>'ŋirigub.footstool.n'</li>\n",
       "\t<li>'šag.heart.n_ŋešnimbar.palm.n'</li>\n",
       "\t<li>'šagkal.tree.n'</li>\n",
       "\t<li>'šedug.tree.n'</li>\n",
       "\t<li>'šennur.plum.n'</li>\n",
       "\t<li>'šenu.tree.n'</li>\n",
       "</ol>\n"
      ],
      "text/latex": [
       "\\begin{enumerate*}\n",
       "\\item 'al.hoe.n'\n",
       "\\item 'al.hoe.n\\_zu.tooth.n\\_eš.three.nu'\n",
       "\\item 'al.hoe.n\\_zu.tooth.n\\_limmu.four.nu'\n",
       "\\item 'al.hoe.n\\_zu.tooth.n\\_min.two.nu'\n",
       "\\item 'allanum.oak.n'\n",
       "\\item 'apin.plow.n\\_tugsaga.plow.n'\n",
       "\\item 'apin.plow.n\\_šu.hand.n'\n",
       "\\item 'apin.plow.n\\_šudu.equipped.aj'\n",
       "\\item 'dih.weed.n'\n",
       "\\item 'dilim.spoon.n'\n",
       "\\item 'e.house.n\\_gigir.chariot.n'\n",
       "\\item 'ellag.ball.n'\n",
       "\\item 'esi.tree.n'\n",
       "\\item 'gigir.chariot.n'\n",
       "\\item 'girim.flower.n'\n",
       "\\item 'guza.chair.n'\n",
       "\\item 'guza.chair.n\\_gid.long.v.i'\n",
       "\\item 'halub.tree.n'\n",
       "\\item 'hašhur.apple.n'\n",
       "\\item 'hašhur.apple.n\\_armanu.tree.n'\n",
       "\\item 'hašhur.apple.n\\_kur.mountain.n'\n",
       "\\item 'ildag.poplar.n'\n",
       "\\item 'ildag.poplar.n\\_kur.mountain.n'\n",
       "\\item 'ilianum.tree.n'\n",
       "\\item 'kid.da.twig.n'\n",
       "\\item 'kur.wood.n'\n",
       "\\item 'lamgal.nut.n'\n",
       "\\item 'lamtur.nut.n'\n",
       "\\item 'ligima.shoot.n'\n",
       "\\item 'ma.ship.n\\_niš.twenty.nu\\_gur.unit.n'\n",
       "\\item 'ma.ship.n\\_u.ten.nu\\_gur.unit.n'\n",
       "\\item 'madal.pole.n'\n",
       "\\item 'manu.wood.n'\n",
       "\\item 'margida.cart.n'\n",
       "\\item 'maš.plant.n'\n",
       "\\item 'mes.tree.n'\n",
       "\\item 'mud.stump.n\\_ŋešnimbar.palm.n'\n",
       "\\item 'naŋa.mortar.n'\n",
       "\\item 'pa.branch.n\\_ŋešnimbar.palm.n'\n",
       "\\item 'peš.fig.n'\n",
       "\\item 'su.fibers.n\\_ŋešnimbar.palm.n'\n",
       "\\item 'sugin.rot.n'\n",
       "\\item 'sumungi.tool.n'\n",
       "\\item 'taškarin.boxwood.n'\n",
       "\\item 'tiʾarum.tree.n'\n",
       "\\item 'tubala.harness.n\\_ŋešnimbar.palm.n'\n",
       "\\item 'urnum.cedar.n'\n",
       "\\item 'zena.midrib.n\\_ŋešnimbar.palm.n'\n",
       "\\item 'zirdum.olive.n'\n",
       "\\item 'ŋešaʾabak.tree.n'\n",
       "\\item 'ŋešgana.tree.n'\n",
       "\\item 'ŋešgana.tree.n\\_babbar.white.v.i'\n",
       "\\item 'ŋešgana.tree.n\\_giggi.black.v.i'\n",
       "\\item 'ŋešnimbar.palm.n'\n",
       "\\item 'ŋešnimbar.palm.n\\_šeŋ.cook.v.t'\n",
       "\\item 'ŋeštin.vine.n'\n",
       "\\item 'ŋeštinguruma..vine.n'\n",
       "\\item 'ŋeštinkaʾa.grape.n'\n",
       "\\item 'ŋeštinkira.berry.n'\n",
       "\\item 'ŋipar.tree.n'\n",
       "\\item 'ŋirigub.footstool.n'\n",
       "\\item 'šag.heart.n\\_ŋešnimbar.palm.n'\n",
       "\\item 'šagkal.tree.n'\n",
       "\\item 'šedug.tree.n'\n",
       "\\item 'šennur.plum.n'\n",
       "\\item 'šenu.tree.n'\n",
       "\\end{enumerate*}\n"
      ],
      "text/markdown": [
       "1. 'al.hoe.n'\n",
       "2. 'al.hoe.n_zu.tooth.n_eš.three.nu'\n",
       "3. 'al.hoe.n_zu.tooth.n_limmu.four.nu'\n",
       "4. 'al.hoe.n_zu.tooth.n_min.two.nu'\n",
       "5. 'allanum.oak.n'\n",
       "6. 'apin.plow.n_tugsaga.plow.n'\n",
       "7. 'apin.plow.n_šu.hand.n'\n",
       "8. 'apin.plow.n_šudu.equipped.aj'\n",
       "9. 'dih.weed.n'\n",
       "10. 'dilim.spoon.n'\n",
       "11. 'e.house.n_gigir.chariot.n'\n",
       "12. 'ellag.ball.n'\n",
       "13. 'esi.tree.n'\n",
       "14. 'gigir.chariot.n'\n",
       "15. 'girim.flower.n'\n",
       "16. 'guza.chair.n'\n",
       "17. 'guza.chair.n_gid.long.v.i'\n",
       "18. 'halub.tree.n'\n",
       "19. 'hašhur.apple.n'\n",
       "20. 'hašhur.apple.n_armanu.tree.n'\n",
       "21. 'hašhur.apple.n_kur.mountain.n'\n",
       "22. 'ildag.poplar.n'\n",
       "23. 'ildag.poplar.n_kur.mountain.n'\n",
       "24. 'ilianum.tree.n'\n",
       "25. 'kid.da.twig.n'\n",
       "26. 'kur.wood.n'\n",
       "27. 'lamgal.nut.n'\n",
       "28. 'lamtur.nut.n'\n",
       "29. 'ligima.shoot.n'\n",
       "30. 'ma.ship.n_niš.twenty.nu_gur.unit.n'\n",
       "31. 'ma.ship.n_u.ten.nu_gur.unit.n'\n",
       "32. 'madal.pole.n'\n",
       "33. 'manu.wood.n'\n",
       "34. 'margida.cart.n'\n",
       "35. 'maš.plant.n'\n",
       "36. 'mes.tree.n'\n",
       "37. 'mud.stump.n_ŋešnimbar.palm.n'\n",
       "38. 'naŋa.mortar.n'\n",
       "39. 'pa.branch.n_ŋešnimbar.palm.n'\n",
       "40. 'peš.fig.n'\n",
       "41. 'su.fibers.n_ŋešnimbar.palm.n'\n",
       "42. 'sugin.rot.n'\n",
       "43. 'sumungi.tool.n'\n",
       "44. 'taškarin.boxwood.n'\n",
       "45. 'tiʾarum.tree.n'\n",
       "46. 'tubala.harness.n_ŋešnimbar.palm.n'\n",
       "47. 'urnum.cedar.n'\n",
       "48. 'zena.midrib.n_ŋešnimbar.palm.n'\n",
       "49. 'zirdum.olive.n'\n",
       "50. 'ŋešaʾabak.tree.n'\n",
       "51. 'ŋešgana.tree.n'\n",
       "52. 'ŋešgana.tree.n_babbar.white.v.i'\n",
       "53. 'ŋešgana.tree.n_giggi.black.v.i'\n",
       "54. 'ŋešnimbar.palm.n'\n",
       "55. 'ŋešnimbar.palm.n_šeŋ.cook.v.t'\n",
       "56. 'ŋeštin.vine.n'\n",
       "57. 'ŋeštinguruma..vine.n'\n",
       "58. 'ŋeštinkaʾa.grape.n'\n",
       "59. 'ŋeštinkira.berry.n'\n",
       "60. 'ŋipar.tree.n'\n",
       "61. 'ŋirigub.footstool.n'\n",
       "62. 'šag.heart.n_ŋešnimbar.palm.n'\n",
       "63. 'šagkal.tree.n'\n",
       "64. 'šedug.tree.n'\n",
       "65. 'šennur.plum.n'\n",
       "66. 'šenu.tree.n'\n",
       "\n",
       "\n"
      ],
      "text/plain": [
       " [1] \"al.hoe.n\"                           \"al.hoe.n_zu.tooth.n_eš.three.nu\"   \n",
       " [3] \"al.hoe.n_zu.tooth.n_limmu.four.nu\"  \"al.hoe.n_zu.tooth.n_min.two.nu\"    \n",
       " [5] \"allanum.oak.n\"                      \"apin.plow.n_tugsaga.plow.n\"        \n",
       " [7] \"apin.plow.n_šu.hand.n\"              \"apin.plow.n_šudu.equipped.aj\"      \n",
       " [9] \"dih.weed.n\"                         \"dilim.spoon.n\"                     \n",
       "[11] \"e.house.n_gigir.chariot.n\"          \"ellag.ball.n\"                      \n",
       "[13] \"esi.tree.n\"                         \"gigir.chariot.n\"                   \n",
       "[15] \"girim.flower.n\"                     \"guza.chair.n\"                      \n",
       "[17] \"guza.chair.n_gid.long.v.i\"          \"halub.tree.n\"                      \n",
       "[19] \"hašhur.apple.n\"                     \"hašhur.apple.n_armanu.tree.n\"      \n",
       "[21] \"hašhur.apple.n_kur.mountain.n\"      \"ildag.poplar.n\"                    \n",
       "[23] \"ildag.poplar.n_kur.mountain.n\"      \"ilianum.tree.n\"                    \n",
       "[25] \"kid.da.twig.n\"                      \"kur.wood.n\"                        \n",
       "[27] \"lamgal.nut.n\"                       \"lamtur.nut.n\"                      \n",
       "[29] \"ligima.shoot.n\"                     \"ma.ship.n_niš.twenty.nu_gur.unit.n\"\n",
       "[31] \"ma.ship.n_u.ten.nu_gur.unit.n\"      \"madal.pole.n\"                      \n",
       "[33] \"manu.wood.n\"                        \"margida.cart.n\"                    \n",
       "[35] \"maš.plant.n\"                        \"mes.tree.n\"                        \n",
       "[37] \"mud.stump.n_ŋešnimbar.palm.n\"       \"naŋa.mortar.n\"                     \n",
       "[39] \"pa.branch.n_ŋešnimbar.palm.n\"       \"peš.fig.n\"                         \n",
       "[41] \"su.fibers.n_ŋešnimbar.palm.n\"       \"sugin.rot.n\"                       \n",
       "[43] \"sumungi.tool.n\"                     \"taškarin.boxwood.n\"                \n",
       "[45] \"tiʾarum.tree.n\"                     \"tubala.harness.n_ŋešnimbar.palm.n\" \n",
       "[47] \"urnum.cedar.n\"                      \"zena.midrib.n_ŋešnimbar.palm.n\"    \n",
       "[49] \"zirdum.olive.n\"                     \"ŋešaʾabak.tree.n\"                  \n",
       "[51] \"ŋešgana.tree.n\"                     \"ŋešgana.tree.n_babbar.white.v.i\"   \n",
       "[53] \"ŋešgana.tree.n_giggi.black.v.i\"     \"ŋešnimbar.palm.n\"                  \n",
       "[55] \"ŋešnimbar.palm.n_šeŋ.cook.v.t\"      \"ŋeštin.vine.n\"                     \n",
       "[57] \"ŋeštinguruma..vine.n\"               \"ŋeštinkaʾa.grape.n\"                \n",
       "[59] \"ŋeštinkira.berry.n\"                 \"ŋipar.tree.n\"                      \n",
       "[61] \"ŋirigub.footstool.n\"                \"šag.heart.n_ŋešnimbar.palm.n\"      \n",
       "[63] \"šagkal.tree.n\"                      \"šedug.tree.n\"                      \n",
       "[65] \"šennur.plum.n\"                      \"šenu.tree.n\"                       "
      ]
     },
     "metadata": {},
     "output_type": "display_data"
    }
   ],
   "source": [
    "common_entries"
   ]
  },
  {
   "cell_type": "markdown",
   "metadata": {},
   "source": [
    "Next we will reorganize our data to enable pretty and informative plotting of entry distribution across documents and overall frequency.\n",
    "\n",
    "First, we reorder the columns in our dataframe from alphabetical to\n",
    "sorting by frequency so that the most common entries are clustered together for ease of visualization.\n",
    "\n",
    "To do this, we first convert the frequency counts to presence/absence (binary), then reorder the columns by column sums."
   ]
  },
  {
   "cell_type": "code",
   "execution_count": 17,
   "metadata": {
    "collapsed": false
   },
   "outputs": [],
   "source": [
    "# Convert to binary presence/absence information\n",
    "dtm_df = as.matrix((dtm_df > 0) + 0)\n",
    "\n",
    "dtm_df = dtm_df[,order(colSums(dtm_df), decreasing = TRUE)]\n",
    "dtm_df = as.data.frame(dtm_df)"
   ]
  },
  {
   "cell_type": "markdown",
   "metadata": {},
   "source": [
    "We then recalculate number of occurrences\n",
    "and number of entries. These are now binary, so they\n",
    "represent:\n",
    "\n",
    "num_occurrences = number of documents in which an entry appears  \n",
    "num_entries = number of unique entries in a document (excluding \"na.na\" and \"unknown\" entries)"
   ]
  },
  {
   "cell_type": "code",
   "execution_count": 18,
   "metadata": {
    "collapsed": false
   },
   "outputs": [
    {
     "name": "stdout",
     "output_type": "stream",
     "text": [
      "[1] \"1506 entries appear in only one document\"\n",
      "[1] \"The entry that appears in the most documents is peš.fig.n\"    \n",
      "[2] \"The entry that appears in the most documents is šagkal.tree.n\"\n"
     ]
    },
    {
     "data": {
      "text/plain": [
       "num_occurrences\n",
       "   1    2    3    4    5    6    7    8    9   10   11   12   13   14   15 <NA> \n",
       "1506  278  154  132  100   76   50   38   26   12    8    9    9    3    2    1 "
      ]
     },
     "metadata": {},
     "output_type": "display_data"
    }
   ],
   "source": [
    "dtm_df$num_entries = rowSums(dtm_df[1:cols_to_sum])\n",
    "dtm_df[\"num_occurrences\",] = colSums(dtm_df[1:rows_to_sum,])\n",
    "dtm_df[\"num_occurrences\",\"num_entries\"] = NA \n",
    "\n",
    "num_occurrences = unlist(dtm_df[\"num_occurrences\",])\n",
    "most_frequent = max(num_occurrences, na.rm = TRUE)\n",
    "most_frequent_entry = colnames(dtm_df[which(dtm_df[\"num_occurrences\",] == most_frequent)])\n",
    "\n",
    "print(paste(table(num_occurrences)[1], \"entries appear in only one document\"))\n",
    "print(paste(\"The entry that appears in the most documents is\", most_frequent_entry))\n",
    "\n",
    "table(num_occurrences, useNA = \"ifany\")\n"
   ]
  },
  {
   "cell_type": "code",
   "execution_count": 19,
   "metadata": {
    "collapsed": false
   },
   "outputs": [
    {
     "data": {
      "image/png": "[encoded data removed]",
      "text/plain": [
       "Plot with title “Entry frequency”"
      ]
     },
     "metadata": {},
     "output_type": "display_data"
    }
   ],
   "source": [
    "num_occurrences = unlist(dtm_df[\"num_occurrences\",])\n",
    "hist(num_occurrences, breaks = max(num_occurrences, na.rm = TRUE), main = \"Entry frequency\", \n",
    "    ylab = \"# entries\", xlab = \"# occurrences\")"
   ]
  },
  {
   "cell_type": "code",
   "execution_count": 20,
   "metadata": {
    "collapsed": false
   },
   "outputs": [
    {
     "data": {
      "text/html": [
       "<ol class=list-inline>\n",
       "\t<li>'peš.fig.n'</li>\n",
       "\t<li>'šagkal.tree.n'</li>\n",
       "\t<li>'allanum.oak.n'</li>\n",
       "\t<li>'ŋeštin.vine.n'</li>\n",
       "\t<li>'ŋeštinkira.berry.n'</li>\n",
       "\t<li>'al.hoe.n'</li>\n",
       "\t<li>'esi.tree.n'</li>\n",
       "\t<li>'gigir.chariot.n'</li>\n",
       "\t<li>'hašhur.apple.n'</li>\n",
       "\t<li>'hašhur.apple.n_kur.mountain.n'</li>\n",
       "\t<li>'ildag.poplar.n'</li>\n",
       "\t<li>'lamgal.nut.n'</li>\n",
       "\t<li>'ŋeštinguruma..vine.n'</li>\n",
       "\t<li>'šennur.plum.n'</li>\n",
       "\t<li>'e.house.n_gigir.chariot.n'</li>\n",
       "\t<li>'ildag.poplar.n_kur.mountain.n'</li>\n",
       "\t<li>'ilianum.tree.n'</li>\n",
       "\t<li>'lamtur.nut.n'</li>\n",
       "\t<li>'tiʾarum.tree.n'</li>\n",
       "\t<li>'urnum.cedar.n'</li>\n",
       "\t<li>'ŋeštinkaʾa.grape.n'</li>\n",
       "\t<li>'ŋipar.tree.n'</li>\n",
       "\t<li>'šedug.tree.n'</li>\n",
       "\t<li>'dilim.spoon.n'</li>\n",
       "\t<li>'halub.tree.n'</li>\n",
       "\t<li>'manu.wood.n'</li>\n",
       "\t<li>'margida.cart.n'</li>\n",
       "\t<li>'tubala.harness.n_ŋešnimbar.palm.n'</li>\n",
       "\t<li>'ŋešgana.tree.n'</li>\n",
       "\t<li>'ŋešnimbar.palm.n'</li>\n",
       "\t<li>'šenu.tree.n'</li>\n",
       "\t<li>'al.hoe.n_zu.tooth.n_min.two.nu'</li>\n",
       "\t<li>'guza.chair.n'</li>\n",
       "\t<li>'guza.chair.n_gid.long.v.i'</li>\n",
       "\t<li>'hašhur.apple.n_armanu.tree.n'</li>\n",
       "\t<li>'kid.da.twig.n'</li>\n",
       "\t<li>'ma.ship.n_u.ten.nu_gur.unit.n'</li>\n",
       "\t<li>'mud.stump.n_ŋešnimbar.palm.n'</li>\n",
       "\t<li>'naŋa.mortar.n'</li>\n",
       "\t<li>'taškarin.boxwood.n'</li>\n",
       "\t<li>'ŋešaʾabak.tree.n'</li>\n",
       "\t<li>'ŋešgana.tree.n_babbar.white.v.i'</li>\n",
       "\t<li>'ŋešgana.tree.n_giggi.black.v.i'</li>\n",
       "</ol>\n"
      ],
      "text/latex": [
       "\\begin{enumerate*}\n",
       "\\item 'peš.fig.n'\n",
       "\\item 'šagkal.tree.n'\n",
       "\\item 'allanum.oak.n'\n",
       "\\item 'ŋeštin.vine.n'\n",
       "\\item 'ŋeštinkira.berry.n'\n",
       "\\item 'al.hoe.n'\n",
       "\\item 'esi.tree.n'\n",
       "\\item 'gigir.chariot.n'\n",
       "\\item 'hašhur.apple.n'\n",
       "\\item 'hašhur.apple.n\\_kur.mountain.n'\n",
       "\\item 'ildag.poplar.n'\n",
       "\\item 'lamgal.nut.n'\n",
       "\\item 'ŋeštinguruma..vine.n'\n",
       "\\item 'šennur.plum.n'\n",
       "\\item 'e.house.n\\_gigir.chariot.n'\n",
       "\\item 'ildag.poplar.n\\_kur.mountain.n'\n",
       "\\item 'ilianum.tree.n'\n",
       "\\item 'lamtur.nut.n'\n",
       "\\item 'tiʾarum.tree.n'\n",
       "\\item 'urnum.cedar.n'\n",
       "\\item 'ŋeštinkaʾa.grape.n'\n",
       "\\item 'ŋipar.tree.n'\n",
       "\\item 'šedug.tree.n'\n",
       "\\item 'dilim.spoon.n'\n",
       "\\item 'halub.tree.n'\n",
       "\\item 'manu.wood.n'\n",
       "\\item 'margida.cart.n'\n",
       "\\item 'tubala.harness.n\\_ŋešnimbar.palm.n'\n",
       "\\item 'ŋešgana.tree.n'\n",
       "\\item 'ŋešnimbar.palm.n'\n",
       "\\item 'šenu.tree.n'\n",
       "\\item 'al.hoe.n\\_zu.tooth.n\\_min.two.nu'\n",
       "\\item 'guza.chair.n'\n",
       "\\item 'guza.chair.n\\_gid.long.v.i'\n",
       "\\item 'hašhur.apple.n\\_armanu.tree.n'\n",
       "\\item 'kid.da.twig.n'\n",
       "\\item 'ma.ship.n\\_u.ten.nu\\_gur.unit.n'\n",
       "\\item 'mud.stump.n\\_ŋešnimbar.palm.n'\n",
       "\\item 'naŋa.mortar.n'\n",
       "\\item 'taškarin.boxwood.n'\n",
       "\\item 'ŋešaʾabak.tree.n'\n",
       "\\item 'ŋešgana.tree.n\\_babbar.white.v.i'\n",
       "\\item 'ŋešgana.tree.n\\_giggi.black.v.i'\n",
       "\\end{enumerate*}\n"
      ],
      "text/markdown": [
       "1. 'peš.fig.n'\n",
       "2. 'šagkal.tree.n'\n",
       "3. 'allanum.oak.n'\n",
       "4. 'ŋeštin.vine.n'\n",
       "5. 'ŋeštinkira.berry.n'\n",
       "6. 'al.hoe.n'\n",
       "7. 'esi.tree.n'\n",
       "8. 'gigir.chariot.n'\n",
       "9. 'hašhur.apple.n'\n",
       "10. 'hašhur.apple.n_kur.mountain.n'\n",
       "11. 'ildag.poplar.n'\n",
       "12. 'lamgal.nut.n'\n",
       "13. 'ŋeštinguruma..vine.n'\n",
       "14. 'šennur.plum.n'\n",
       "15. 'e.house.n_gigir.chariot.n'\n",
       "16. 'ildag.poplar.n_kur.mountain.n'\n",
       "17. 'ilianum.tree.n'\n",
       "18. 'lamtur.nut.n'\n",
       "19. 'tiʾarum.tree.n'\n",
       "20. 'urnum.cedar.n'\n",
       "21. 'ŋeštinkaʾa.grape.n'\n",
       "22. 'ŋipar.tree.n'\n",
       "23. 'šedug.tree.n'\n",
       "24. 'dilim.spoon.n'\n",
       "25. 'halub.tree.n'\n",
       "26. 'manu.wood.n'\n",
       "27. 'margida.cart.n'\n",
       "28. 'tubala.harness.n_ŋešnimbar.palm.n'\n",
       "29. 'ŋešgana.tree.n'\n",
       "30. 'ŋešnimbar.palm.n'\n",
       "31. 'šenu.tree.n'\n",
       "32. 'al.hoe.n_zu.tooth.n_min.two.nu'\n",
       "33. 'guza.chair.n'\n",
       "34. 'guza.chair.n_gid.long.v.i'\n",
       "35. 'hašhur.apple.n_armanu.tree.n'\n",
       "36. 'kid.da.twig.n'\n",
       "37. 'ma.ship.n_u.ten.nu_gur.unit.n'\n",
       "38. 'mud.stump.n_ŋešnimbar.palm.n'\n",
       "39. 'naŋa.mortar.n'\n",
       "40. 'taškarin.boxwood.n'\n",
       "41. 'ŋešaʾabak.tree.n'\n",
       "42. 'ŋešgana.tree.n_babbar.white.v.i'\n",
       "43. 'ŋešgana.tree.n_giggi.black.v.i'\n",
       "\n",
       "\n"
      ],
      "text/plain": [
       " [1] \"peš.fig.n\"                         \"šagkal.tree.n\"                    \n",
       " [3] \"allanum.oak.n\"                     \"ŋeštin.vine.n\"                    \n",
       " [5] \"ŋeštinkira.berry.n\"                \"al.hoe.n\"                         \n",
       " [7] \"esi.tree.n\"                        \"gigir.chariot.n\"                  \n",
       " [9] \"hašhur.apple.n\"                    \"hašhur.apple.n_kur.mountain.n\"    \n",
       "[11] \"ildag.poplar.n\"                    \"lamgal.nut.n\"                     \n",
       "[13] \"ŋeštinguruma..vine.n\"              \"šennur.plum.n\"                    \n",
       "[15] \"e.house.n_gigir.chariot.n\"         \"ildag.poplar.n_kur.mountain.n\"    \n",
       "[17] \"ilianum.tree.n\"                    \"lamtur.nut.n\"                     \n",
       "[19] \"tiʾarum.tree.n\"                    \"urnum.cedar.n\"                    \n",
       "[21] \"ŋeštinkaʾa.grape.n\"                \"ŋipar.tree.n\"                     \n",
       "[23] \"šedug.tree.n\"                      \"dilim.spoon.n\"                    \n",
       "[25] \"halub.tree.n\"                      \"manu.wood.n\"                      \n",
       "[27] \"margida.cart.n\"                    \"tubala.harness.n_ŋešnimbar.palm.n\"\n",
       "[29] \"ŋešgana.tree.n\"                    \"ŋešnimbar.palm.n\"                 \n",
       "[31] \"šenu.tree.n\"                       \"al.hoe.n_zu.tooth.n_min.two.nu\"   \n",
       "[33] \"guza.chair.n\"                      \"guza.chair.n_gid.long.v.i\"        \n",
       "[35] \"hašhur.apple.n_armanu.tree.n\"      \"kid.da.twig.n\"                    \n",
       "[37] \"ma.ship.n_u.ten.nu_gur.unit.n\"     \"mud.stump.n_ŋešnimbar.palm.n\"     \n",
       "[39] \"naŋa.mortar.n\"                     \"taškarin.boxwood.n\"               \n",
       "[41] \"ŋešaʾabak.tree.n\"                  \"ŋešgana.tree.n_babbar.white.v.i\"  \n",
       "[43] \"ŋešgana.tree.n_giggi.black.v.i\"   "
      ]
     },
     "metadata": {},
     "output_type": "display_data"
    }
   ],
   "source": [
    "# These entries appear in at least 10 different documents.\n",
    "colnames(dtm_df)[which(dtm_df[\"num_occurrences\",] >=10)]"
   ]
  },
  {
   "cell_type": "markdown",
   "metadata": {},
   "source": [
    "Which entries appear in both Q000001 and Q000039?"
   ]
  },
  {
   "cell_type": "code",
   "execution_count": 21,
   "metadata": {
    "collapsed": false
   },
   "outputs": [
    {
     "data": {
      "text/html": [
       "<table>\n",
       "<thead><tr><th></th><th scope=col>az.bear.n</th><th scope=col>nemur.leopard.n</th><th scope=col>piriŋ.lion.n</th></tr></thead>\n",
       "<tbody>\n",
       "\t<tr><th scope=row>Q000001</th><td>1</td><td>1</td><td>1</td></tr>\n",
       "\t<tr><th scope=row>Q000039</th><td>1</td><td>1</td><td>1</td></tr>\n",
       "</tbody>\n",
       "</table>\n"
      ],
      "text/latex": [
       "\\begin{tabular}{r|lll}\n",
       "  & az.bear.n & nemur.leopard.n & piriŋ.lion.n\\\\\n",
       "\\hline\n",
       "\tQ000001 & 1 & 1 & 1\\\\\n",
       "\tQ000039 & 1 & 1 & 1\\\\\n",
       "\\end{tabular}\n"
      ],
      "text/markdown": [
       "\n",
       "| <!--/--> | az.bear.n | nemur.leopard.n | piriŋ.lion.n | \n",
       "|---|---|\n",
       "| Q000001 | 1 | 1 | 1 | \n",
       "| Q000039 | 1 | 1 | 1 | \n",
       "\n",
       "\n"
      ],
      "text/plain": [
       "        az.bear.n nemur.leopard.n piriŋ.lion.n\n",
       "Q000001 1         1               1           \n",
       "Q000039 1         1               1           "
      ]
     },
     "metadata": {},
     "output_type": "display_data"
    }
   ],
   "source": [
    "shared_entries = which(dtm_df[\"Q000001\",] == 1 & dtm_df[\"Q000039\",] == 1)\n",
    "dtm_df[c(\"Q000001\", \"Q000039\"),shared_entries]"
   ]
  },
  {
   "cell_type": "markdown",
   "metadata": {},
   "source": [
    "Do these entries also appear in other documents?"
   ]
  },
  {
   "cell_type": "code",
   "execution_count": 22,
   "metadata": {
    "collapsed": false
   },
   "outputs": [
    {
     "data": {
      "text/html": [
       "<table>\n",
       "<thead><tr><th></th><th scope=col>az.bear.n</th><th scope=col>nemur.leopard.n</th><th scope=col>piriŋ.lion.n</th></tr></thead>\n",
       "<tbody>\n",
       "\t<tr><th scope=row>Q000039</th><td>1</td><td>1</td><td>1</td></tr>\n",
       "\t<tr><th scope=row>P271911</th><td>1</td><td>0</td><td>0</td></tr>\n",
       "\t<tr><th scope=row>Q000001</th><td>1</td><td>1</td><td>1</td></tr>\n",
       "\t<tr><th scope=row>num_occurrences</th><td>3</td><td>2</td><td>2</td></tr>\n",
       "</tbody>\n",
       "</table>\n"
      ],
      "text/latex": [
       "\\begin{tabular}{r|lll}\n",
       "  & az.bear.n & nemur.leopard.n & piriŋ.lion.n\\\\\n",
       "\\hline\n",
       "\tQ000039 & 1 & 1 & 1\\\\\n",
       "\tP271911 & 1 & 0 & 0\\\\\n",
       "\tQ000001 & 1 & 1 & 1\\\\\n",
       "\tnum\\_occurrences & 3 & 2 & 2\\\\\n",
       "\\end{tabular}\n"
      ],
      "text/markdown": [
       "\n",
       "| <!--/--> | az.bear.n | nemur.leopard.n | piriŋ.lion.n | \n",
       "|---|---|---|---|\n",
       "| Q000039 | 1 | 1 | 1 | \n",
       "| P271911 | 1 | 0 | 0 | \n",
       "| Q000001 | 1 | 1 | 1 | \n",
       "| num_occurrences | 3 | 2 | 2 | \n",
       "\n",
       "\n"
      ],
      "text/plain": [
       "                az.bear.n nemur.leopard.n piriŋ.lion.n\n",
       "Q000039         1         1               1           \n",
       "P271911         1         0               0           \n",
       "Q000001         1         1               1           \n",
       "num_occurrences 3         2               2           "
      ]
     },
     "metadata": {},
     "output_type": "display_data"
    }
   ],
   "source": [
    "docs_w_shared_entries = c()\n",
    "\n",
    "for(x in rownames(dtm_df)) {\n",
    "  if(any(dtm_df[x,shared_entries] > 0)) {\n",
    "      docs_w_shared_entries = c(docs_w_shared_entries,x)\n",
    "  }}\n",
    "\n",
    "dtm_df[docs_w_shared_entries,shared_entries]"
   ]
  },
  {
   "cell_type": "markdown",
   "metadata": {},
   "source": [
    "# Remove rare entries\n",
    "\n",
    "A large number of entries appear only in one document in the corpus. We remove these from the remainder of the analysis. However, we want to keep all entries for our outlier texts."
   ]
  },
  {
   "cell_type": "code",
   "execution_count": 23,
   "metadata": {
    "collapsed": false
   },
   "outputs": [
    {
     "data": {
      "text/html": [
       "<ol class=list-inline>\n",
       "\t<li>139</li>\n",
       "\t<li>2403</li>\n",
       "</ol>\n"
      ],
      "text/latex": [
       "\\begin{enumerate*}\n",
       "\\item 139\n",
       "\\item 2403\n",
       "\\end{enumerate*}\n"
      ],
      "text/markdown": [
       "1. 139\n",
       "2. 2403\n",
       "\n",
       "\n"
      ],
      "text/plain": [
       "[1]  139 2403"
      ]
     },
     "metadata": {},
     "output_type": "display_data"
    }
   ],
   "source": [
    "# Keep all entries which appear in one of the outlier docs.\n",
    "outlier_docs = c(\"Q000001\", \"P250736\", \"num_occurrences\")\n",
    "outlier_doc_data = dtm_df[outlier_docs,]\n",
    "keep1 = which(outlier_doc_data[\"num_occurrences\",] == 1)\n",
    "\n",
    "# Also keep entries which appear in more than one document in the corpus.\n",
    "keep2 = which(dtm_df[\"num_occurrences\",] > 1)\n",
    "\n",
    "all_keep = unique(c(keep1, keep2))\n",
    "\n",
    "dtm_df = dtm_df[,all_keep]\n",
    "\n",
    "dim(dtm_df)"
   ]
  },
  {
   "cell_type": "markdown",
   "metadata": {},
   "source": [
    "Our next step is to compare this presence/absence distribution of entries across documents to understand which documents are most similar to one another at the entry level. First we will perform a few clean-up steps to get the data into the correct format to build a distance matrix."
   ]
  },
  {
   "cell_type": "code",
   "execution_count": 24,
   "metadata": {
    "collapsed": false
   },
   "outputs": [
    {
     "data": {
      "text/html": [
       "<table>\n",
       "<thead><tr><th></th><th scope=col>num_entries</th></tr></thead>\n",
       "<tbody>\n",
       "\t<tr><th scope=row>Q000039</th><td>680</td></tr>\n",
       "\t<tr><th scope=row>P273880</th><td>462</td></tr>\n",
       "\t<tr><th scope=row>P271911</th><td>356</td></tr>\n",
       "\t<tr><th scope=row>Q000001</th><td>453</td></tr>\n",
       "\t<tr><th scope=row>P271301</th><td>357</td></tr>\n",
       "\t<tr><th scope=row>P247864</th><td>250</td></tr>\n",
       "</tbody>\n",
       "</table>\n"
      ],
      "text/latex": [
       "\\begin{tabular}{r|l}\n",
       "  & num\\_entries\\\\\n",
       "\\hline\n",
       "\tQ000039 & 680\\\\\n",
       "\tP273880 & 462\\\\\n",
       "\tP271911 & 356\\\\\n",
       "\tQ000001 & 453\\\\\n",
       "\tP271301 & 357\\\\\n",
       "\tP247864 & 250\\\\\n",
       "\\end{tabular}\n"
      ],
      "text/markdown": [
       "\n",
       "| <!--/--> | num_entries | \n",
       "|---|---|---|---|---|---|\n",
       "| Q000039 | 680 | \n",
       "| P273880 | 462 | \n",
       "| P271911 | 356 | \n",
       "| Q000001 | 453 | \n",
       "| P271301 | 357 | \n",
       "| P247864 | 250 | \n",
       "\n",
       "\n"
      ],
      "text/plain": [
       "        num_entries\n",
       "Q000039 680        \n",
       "P273880 462        \n",
       "P271911 356        \n",
       "Q000001 453        \n",
       "P271301 357        \n",
       "P247864 250        "
      ]
     },
     "metadata": {},
     "output_type": "display_data"
    }
   ],
   "source": [
    "# add back in num_entries column\n",
    "dtm_df$num_entries = rowSums(dtm_df[1:cols_to_sum])\n",
    "head(dtm_df[\"num_entries\"])"
   ]
  },
  {
   "cell_type": "code",
   "execution_count": 25,
   "metadata": {
    "collapsed": false
   },
   "outputs": [
    {
     "data": {
      "text/html": [
       "<ol class=list-inline>\n",
       "\t<li>44</li>\n",
       "\t<li>2404</li>\n",
       "</ol>\n"
      ],
      "text/latex": [
       "\\begin{enumerate*}\n",
       "\\item 44\n",
       "\\item 2404\n",
       "\\end{enumerate*}\n"
      ],
      "text/markdown": [
       "1. 44\n",
       "2. 2404\n",
       "\n",
       "\n"
      ],
      "text/plain": [
       "[1]   44 2404"
      ]
     },
     "metadata": {},
     "output_type": "display_data"
    }
   ],
   "source": [
    "# include only texts with at least 10 entries\n",
    "# to see if the patterns make sense before adding shorter texts\n",
    "\n",
    "dtm_df = dtm_df[which(dtm_df$num_entries >= 10),]\n",
    "dim(dtm_df)"
   ]
  },
  {
   "cell_type": "code",
   "execution_count": 26,
   "metadata": {
    "collapsed": false
   },
   "outputs": [],
   "source": [
    "#add document names as row names\n",
    "dtm_df$document = rownames(dtm_df)\n",
    "\n",
    "# remove num_occurances row\n",
    "dtm_df = dtm_df[-which(rownames(dtm_df) == \"num_occurrences\"),]\n",
    "\n",
    "# remove num_entries column\n",
    "dtm_df$num_entries = NULL"
   ]
  },
  {
   "cell_type": "markdown",
   "metadata": {},
   "source": [
    "We next convert the dataframe from wide format to long format. In wide format, each document is a row and each entry is a column. There are as many observed values per row as their are entries. In long format, each document/entry combination is a row and there is only one observed value per row."
   ]
  },
  {
   "cell_type": "code",
   "execution_count": 27,
   "metadata": {
    "collapsed": false
   },
   "outputs": [
    {
     "data": {
      "text/html": [
       "<table>\n",
       "<thead><tr><th></th><th scope=col>a.arm.n_umbin.wheel.n_margida.cart.n</th><th scope=col>a.arm.n_ŋešrin.scales.n</th><th scope=col>ab.cow.n</th><th scope=col>ab.cow.n_ib.hips.n_gig.sick.v.i</th><th scope=col>ab.cow.n_mah.mature.v.i</th><th scope=col>ab.cow.n_peš.thick.v.i</th><th scope=col>ab.cow.n_si.horn.n_ŋal.be.v.i</th><th scope=col>ab.cow.n_suhub..oxen.n</th><th scope=col>ab.cow.n_ubur.breast.n</th><th scope=col>ab.cow.n_utud.bear.v.t</th><th scope=col>⋯</th><th scope=col>ŋirigub.footstool.n_zu.tooth.n_amsi.elephant.n</th><th scope=col>ŋušur.harrow.n_zu.tooth.n_gal.big.v.i</th><th scope=col>šaŋanla.trader.n</th><th scope=col>šennur.plum.n_gal.big.v.i</th><th scope=col>šibir.staff.n_šudu.equipped.aj</th><th scope=col>šim.aromatics.n_li.juniper.n</th><th scope=col>šukur.lance.n</th><th scope=col>šul.youth.v.i_katar.praise.n</th><th scope=col>šuʾa.stool.n_niŋgula.greatness.n</th><th scope=col>document</th></tr></thead>\n",
       "<tbody>\n",
       "\t<tr><th scope=row>Q000039</th><td>0      </td><td>0      </td><td>0      </td><td>0      </td><td>0      </td><td>0      </td><td>0      </td><td>0      </td><td>0      </td><td>0      </td><td>⋯      </td><td>1      </td><td>1      </td><td>1      </td><td>0      </td><td>1      </td><td>0      </td><td>1      </td><td>1      </td><td>1      </td><td>Q000039</td></tr>\n",
       "\t<tr><th scope=row>P273880</th><td>0      </td><td>0      </td><td>0      </td><td>0      </td><td>0      </td><td>0      </td><td>0      </td><td>0      </td><td>0      </td><td>0      </td><td>⋯      </td><td>0      </td><td>0      </td><td>0      </td><td>0      </td><td>0      </td><td>0      </td><td>0      </td><td>0      </td><td>0      </td><td>P273880</td></tr>\n",
       "\t<tr><th scope=row>P271911</th><td>0      </td><td>1      </td><td>0      </td><td>0      </td><td>0      </td><td>0      </td><td>0      </td><td>0      </td><td>0      </td><td>0      </td><td>⋯      </td><td>0      </td><td>1      </td><td>0      </td><td>0      </td><td>0      </td><td>0      </td><td>1      </td><td>0      </td><td>0      </td><td>P271911</td></tr>\n",
       "\t<tr><th scope=row>Q000001</th><td>0      </td><td>0      </td><td>1      </td><td>1      </td><td>1      </td><td>1      </td><td>1      </td><td>1      </td><td>1      </td><td>1      </td><td>⋯      </td><td>0      </td><td>0      </td><td>0      </td><td>0      </td><td>0      </td><td>0      </td><td>0      </td><td>0      </td><td>0      </td><td>Q000001</td></tr>\n",
       "\t<tr><th scope=row>P271301</th><td>0      </td><td>0      </td><td>0      </td><td>0      </td><td>0      </td><td>0      </td><td>0      </td><td>0      </td><td>0      </td><td>0      </td><td>⋯      </td><td>0      </td><td>0      </td><td>0      </td><td>0      </td><td>0      </td><td>0      </td><td>0      </td><td>0      </td><td>1      </td><td>P271301</td></tr>\n",
       "\t<tr><th scope=row>P247864</th><td>0      </td><td>0      </td><td>0      </td><td>0      </td><td>0      </td><td>0      </td><td>0      </td><td>0      </td><td>0      </td><td>0      </td><td>⋯      </td><td>0      </td><td>0      </td><td>0      </td><td>0      </td><td>0      </td><td>0      </td><td>0      </td><td>0      </td><td>0      </td><td>P247864</td></tr>\n",
       "</tbody>\n",
       "</table>\n"
      ],
      "text/latex": [
       "\\begin{tabular}{r|llllllllllllllllllllllllllllllllllllllllllllllllllllllllllllllllllllllllllllllllllllllllllllllllllllllllllllllllllllllllllllllllllllllllllllllllllllllllllllllllllllllllllllllllllllllllllllllllllllllllllllllllllllllllllllllllllllllllllllllllllllllllllllllllllllllllllllllllllllllllllllllllllllllllllllllllllllllllllllllllllllllllllllllllllllllllllllllllllllllllllllllllllllllllllllllllllllllllllllllllllllllllllllllllllllllllllllllllllllllllllllllllllllllllllllllllllllllllllllllllllllllllllllllllllllllllllllllllllllllllllllllllllllllllllllllllllllllllllllllllllllllllllllllllllllllllllllllllllllllllllllllllllllllllllllllllllllllllllllllllllllllllllllllllllllllllllllllllllllllllllllllllllllllllllllllllllllllllllllllllllllllllllllllllllllllllllllllllllllllllllllllllllllllllllllllllllllllllllllllllllllllllllllllllllllllllllllllllllllllllllllllllllllllllllllllllllllllllllllllllllllllllllllllllllllllllllllllllllllllllllllllllllllllllllllllllllllllllllllllllllllllllllllllllllllllllllllllllllllllllllllllllllllllllllllllllllllllllllllllllllllllllllllllllllllllllllllllllllllllllllllllllllllllllllllllllllllllllllllllllllllllllllllllllllllllllllllllllllllllllllllllllllllllllllllllllllllllllllllllllllllllllllllllllllllllllllllllllllllllllllllllllllllllllllllllllllllllllllllllllllllllllllllllllllllllllllllllllllllllllllllllllllllllllllllllllllllllllllllllllllllllllllllllllllllllllllllllllllllllllllllllllllllllllllllllllllllllllllllllllllllllllllllllllllllllllllllllllllllllllllllllllllllllllllllllllllllllllllllllllllllllllllllllllllllllllllllllllllllllllllllllllllllllllllllllllllllllllllllllllllllllllllllllllllllllllllllllllllllllllllllllllllllllllllllllllllllllllllllllllllllllllllllllllllllllllllllllllllllllllllllllllllllllllllllllllllllllllllllllllllllllllllllllllllllllllllllllllllllllllllllllllllllllllllllllllllllllllllllllllllllllllllllllllllllllllllllllllllllllllllllllllllllllllllllllllllllllllllllllllllllllllllllllllllllllllllllllllllllllllllllllllllllllllllllllllllllllllllllllllllllllllllllllllllllllllllllllllllllllllllllllllllllllllllllllllllllllllllllllllllllllllllllllllllllllllllllllllllllllllllllllllllllllllllllllllllllllllllllllllllllllllllllllllllllllllllllllllllllllllllllllllllllllllllllllllllllllllllllllllllllllllllllllllllllllllllllllllllllllllllllllllllllllllllllllllllllllllllllllllllllllllllllllllllllllllllllllllllllllllllllllllllllllllllllllllllllllllllllllllllll}\n",
       "  & a.arm.n\\_umbin.wheel.n\\_margida.cart.n & a.arm.n\\_ŋešrin.scales.n & ab.cow.n & ab.cow.n\\_ib.hips.n\\_gig.sick.v.i & ab.cow.n\\_mah.mature.v.i & ab.cow.n\\_peš.thick.v.i & ab.cow.n\\_si.horn.n\\_ŋal.be.v.i & ab.cow.n\\_suhub..oxen.n & ab.cow.n\\_ubur.breast.n & ab.cow.n\\_utud.bear.v.t & ⋯ & ŋirigub.footstool.n\\_zu.tooth.n\\_amsi.elephant.n & ŋušur.harrow.n\\_zu.tooth.n\\_gal.big.v.i & šaŋanla.trader.n & šennur.plum.n\\_gal.big.v.i & šibir.staff.n\\_šudu.equipped.aj & šim.aromatics.n\\_li.juniper.n & šukur.lance.n & šul.youth.v.i\\_katar.praise.n & šuʾa.stool.n\\_niŋgula.greatness.n & document\\\\\n",
       "\\hline\n",
       "\tQ000039 & 0       & 0       & 0       & 0       & 0       & 0       & 0       & 0       & 0       & 0       & ⋯       & 1       & 1       & 1       & 0       & 1       & 0       & 1       & 1       & 1       & Q000039\\\\\n",
       "\tP273880 & 0       & 0       & 0       & 0       & 0       & 0       & 0       & 0       & 0       & 0       & ⋯       & 0       & 0       & 0       & 0       & 0       & 0       & 0       & 0       & 0       & P273880\\\\\n",
       "\tP271911 & 0       & 1       & 0       & 0       & 0       & 0       & 0       & 0       & 0       & 0       & ⋯       & 0       & 1       & 0       & 0       & 0       & 0       & 1       & 0       & 0       & P271911\\\\\n",
       "\tQ000001 & 0       & 0       & 1       & 1       & 1       & 1       & 1       & 1       & 1       & 1       & ⋯       & 0       & 0       & 0       & 0       & 0       & 0       & 0       & 0       & 0       & Q000001\\\\\n",
       "\tP271301 & 0       & 0       & 0       & 0       & 0       & 0       & 0       & 0       & 0       & 0       & ⋯       & 0       & 0       & 0       & 0       & 0       & 0       & 0       & 0       & 1       & P271301\\\\\n",
       "\tP247864 & 0       & 0       & 0       & 0       & 0       & 0       & 0       & 0       & 0       & 0       & ⋯       & 0       & 0       & 0       & 0       & 0       & 0       & 0       & 0       & 0       & P247864\\\\\n",
       "\\end{tabular}\n"
      ],
      "text/markdown": [
       "\n",
       "| <!--/--> | a.arm.n_umbin.wheel.n_margida.cart.n | a.arm.n_ŋešrin.scales.n | ab.cow.n | ab.cow.n_ib.hips.n_gig.sick.v.i | ab.cow.n_mah.mature.v.i | ab.cow.n_peš.thick.v.i | ab.cow.n_si.horn.n_ŋal.be.v.i | ab.cow.n_suhub..oxen.n | ab.cow.n_ubur.breast.n | ab.cow.n_utud.bear.v.t | ⋯ | ŋirigub.footstool.n_zu.tooth.n_amsi.elephant.n | ŋušur.harrow.n_zu.tooth.n_gal.big.v.i | šaŋanla.trader.n | šennur.plum.n_gal.big.v.i | šibir.staff.n_šudu.equipped.aj | šim.aromatics.n_li.juniper.n | šukur.lance.n | šul.youth.v.i_katar.praise.n | šuʾa.stool.n_niŋgula.greatness.n | document | \n",
       "|---|---|---|---|---|---|\n",
       "| Q000039 | 0       | 0       | 0       | 0       | 0       | 0       | 0       | 0       | 0       | 0       | ⋯       | 1       | 1       | 1       | 0       | 1       | 0       | 1       | 1       | 1       | Q000039 | \n",
       "| P273880 | 0       | 0       | 0       | 0       | 0       | 0       | 0       | 0       | 0       | 0       | ⋯       | 0       | 0       | 0       | 0       | 0       | 0       | 0       | 0       | 0       | P273880 | \n",
       "| P271911 | 0       | 1       | 0       | 0       | 0       | 0       | 0       | 0       | 0       | 0       | ⋯       | 0       | 1       | 0       | 0       | 0       | 0       | 1       | 0       | 0       | P271911 | \n",
       "| Q000001 | 0       | 0       | 1       | 1       | 1       | 1       | 1       | 1       | 1       | 1       | ⋯       | 0       | 0       | 0       | 0       | 0       | 0       | 0       | 0       | 0       | Q000001 | \n",
       "| P271301 | 0       | 0       | 0       | 0       | 0       | 0       | 0       | 0       | 0       | 0       | ⋯       | 0       | 0       | 0       | 0       | 0       | 0       | 0       | 0       | 1       | P271301 | \n",
       "| P247864 | 0       | 0       | 0       | 0       | 0       | 0       | 0       | 0       | 0       | 0       | ⋯       | 0       | 0       | 0       | 0       | 0       | 0       | 0       | 0       | 0       | P247864 | \n",
       "\n",
       "\n"
      ],
      "text/plain": [
       "        a.arm.n_umbin.wheel.n_margida.cart.n a.arm.n_ŋešrin.scales.n ab.cow.n\n",
       "Q000039 0                                    0                       0       \n",
       "P273880 0                                    0                       0       \n",
       "P271911 0                                    1                       0       \n",
       "Q000001 0                                    0                       1       \n",
       "P271301 0                                    0                       0       \n",
       "P247864 0                                    0                       0       \n",
       "        ab.cow.n_ib.hips.n_gig.sick.v.i ab.cow.n_mah.mature.v.i\n",
       "Q000039 0                               0                      \n",
       "P273880 0                               0                      \n",
       "P271911 0                               0                      \n",
       "Q000001 1                               1                      \n",
       "P271301 0                               0                      \n",
       "P247864 0                               0                      \n",
       "        ab.cow.n_peš.thick.v.i ab.cow.n_si.horn.n_ŋal.be.v.i\n",
       "Q000039 0                      0                            \n",
       "P273880 0                      0                            \n",
       "P271911 0                      0                            \n",
       "Q000001 1                      1                            \n",
       "P271301 0                      0                            \n",
       "P247864 0                      0                            \n",
       "        ab.cow.n_suhub..oxen.n ab.cow.n_ubur.breast.n ab.cow.n_utud.bear.v.t ⋯\n",
       "Q000039 0                      0                      0                      ⋯\n",
       "P273880 0                      0                      0                      ⋯\n",
       "P271911 0                      0                      0                      ⋯\n",
       "Q000001 1                      1                      1                      ⋯\n",
       "P271301 0                      0                      0                      ⋯\n",
       "P247864 0                      0                      0                      ⋯\n",
       "        ŋirigub.footstool.n_zu.tooth.n_amsi.elephant.n\n",
       "Q000039 1                                             \n",
       "P273880 0                                             \n",
       "P271911 0                                             \n",
       "Q000001 0                                             \n",
       "P271301 0                                             \n",
       "P247864 0                                             \n",
       "        ŋušur.harrow.n_zu.tooth.n_gal.big.v.i šaŋanla.trader.n\n",
       "Q000039 1                                     1               \n",
       "P273880 0                                     0               \n",
       "P271911 1                                     0               \n",
       "Q000001 0                                     0               \n",
       "P271301 0                                     0               \n",
       "P247864 0                                     0               \n",
       "        šennur.plum.n_gal.big.v.i šibir.staff.n_šudu.equipped.aj\n",
       "Q000039 0                         1                             \n",
       "P273880 0                         0                             \n",
       "P271911 0                         0                             \n",
       "Q000001 0                         0                             \n",
       "P271301 0                         0                             \n",
       "P247864 0                         0                             \n",
       "        šim.aromatics.n_li.juniper.n šukur.lance.n šul.youth.v.i_katar.praise.n\n",
       "Q000039 0                            1             1                           \n",
       "P273880 0                            0             0                           \n",
       "P271911 0                            1             0                           \n",
       "Q000001 0                            0             0                           \n",
       "P271301 0                            0             0                           \n",
       "P247864 0                            0             0                           \n",
       "        šuʾa.stool.n_niŋgula.greatness.n document\n",
       "Q000039 1                                Q000039 \n",
       "P273880 0                                P273880 \n",
       "P271911 0                                P271911 \n",
       "Q000001 0                                Q000001 \n",
       "P271301 1                                P271301 \n",
       "P247864 0                                P247864 "
      ]
     },
     "metadata": {},
     "output_type": "display_data"
    }
   ],
   "source": [
    "head(dtm_df)"
   ]
  },
  {
   "cell_type": "markdown",
   "metadata": {},
   "source": [
    "# Entry overlap across document pairs\n",
    "\n",
    "To help understand the scale and pattern of shared entries across the corpus, we want to build a dataframe to store the absolute number of (unique) shared entries between each document pair. This will not count duplicated entries within one of the two documents."
   ]
  },
  {
   "cell_type": "code",
   "execution_count": 28,
   "metadata": {
    "collapsed": false
   },
   "outputs": [
    {
     "name": "stderr",
     "output_type": "stream",
     "text": [
      "Using document as id variables\n"
     ]
    },
    {
     "data": {
      "text/html": [
       "<table>\n",
       "<thead><tr><th></th><th scope=col>document</th><th scope=col>variable</th><th scope=col>value</th></tr></thead>\n",
       "<tbody>\n",
       "\t<tr><th scope=row>103324</th><td>P273712                         </td><td>šuʾa.stool.n_niŋgula.greatness.n</td><td>0                               </td></tr>\n",
       "\t<tr><th scope=row>103325</th><td>P432448                         </td><td>šuʾa.stool.n_niŋgula.greatness.n</td><td>0                               </td></tr>\n",
       "\t<tr><th scope=row>103326</th><td>P250361                         </td><td>šuʾa.stool.n_niŋgula.greatness.n</td><td>0                               </td></tr>\n",
       "\t<tr><th scope=row>103327</th><td>P389511                         </td><td>šuʾa.stool.n_niŋgula.greatness.n</td><td>0                               </td></tr>\n",
       "\t<tr><th scope=row>103328</th><td>P228096                         </td><td>šuʾa.stool.n_niŋgula.greatness.n</td><td>0                               </td></tr>\n",
       "\t<tr><th scope=row>103329</th><td>P250371                         </td><td>šuʾa.stool.n_niŋgula.greatness.n</td><td>0                               </td></tr>\n",
       "</tbody>\n",
       "</table>\n"
      ],
      "text/latex": [
       "\\begin{tabular}{r|lll}\n",
       "  & document & variable & value\\\\\n",
       "\\hline\n",
       "\t103324 & P273712                            & šuʾa.stool.n\\_niŋgula.greatness.n & 0                                 \\\\\n",
       "\t103325 & P432448                            & šuʾa.stool.n\\_niŋgula.greatness.n & 0                                 \\\\\n",
       "\t103326 & P250361                            & šuʾa.stool.n\\_niŋgula.greatness.n & 0                                 \\\\\n",
       "\t103327 & P389511                            & šuʾa.stool.n\\_niŋgula.greatness.n & 0                                 \\\\\n",
       "\t103328 & P228096                            & šuʾa.stool.n\\_niŋgula.greatness.n & 0                                 \\\\\n",
       "\t103329 & P250371                            & šuʾa.stool.n\\_niŋgula.greatness.n & 0                                 \\\\\n",
       "\\end{tabular}\n"
      ],
      "text/markdown": [
       "\n",
       "| <!--/--> | document | variable | value | \n",
       "|---|---|---|---|---|---|\n",
       "| 103324 | P273712                          | šuʾa.stool.n_niŋgula.greatness.n | 0                                | \n",
       "| 103325 | P432448                          | šuʾa.stool.n_niŋgula.greatness.n | 0                                | \n",
       "| 103326 | P250361                          | šuʾa.stool.n_niŋgula.greatness.n | 0                                | \n",
       "| 103327 | P389511                          | šuʾa.stool.n_niŋgula.greatness.n | 0                                | \n",
       "| 103328 | P228096                          | šuʾa.stool.n_niŋgula.greatness.n | 0                                | \n",
       "| 103329 | P250371                          | šuʾa.stool.n_niŋgula.greatness.n | 0                                | \n",
       "\n",
       "\n"
      ],
      "text/plain": [
       "       document variable                         value\n",
       "103324 P273712  šuʾa.stool.n_niŋgula.greatness.n 0    \n",
       "103325 P432448  šuʾa.stool.n_niŋgula.greatness.n 0    \n",
       "103326 P250361  šuʾa.stool.n_niŋgula.greatness.n 0    \n",
       "103327 P389511  šuʾa.stool.n_niŋgula.greatness.n 0    \n",
       "103328 P228096  šuʾa.stool.n_niŋgula.greatness.n 0    \n",
       "103329 P250371  šuʾa.stool.n_niŋgula.greatness.n 0    "
      ]
     },
     "metadata": {},
     "output_type": "display_data"
    }
   ],
   "source": [
    "melted_dtm_df = melt(dtm_df)\n",
    "tail(melted_dtm_df)"
   ]
  },
  {
   "cell_type": "code",
   "execution_count": 29,
   "metadata": {
    "collapsed": false
   },
   "outputs": [],
   "source": [
    "# function to extract entries of any specified document\n",
    "get_entries = function(df, doc) {\n",
    "    as.character(df[which(df$document == doc &\n",
    "                          df$value == 1),]$variable)\n",
    "}\n",
    "\n",
    "# function to get number of shared entries for any specified document pair\n",
    "get_shared_entries = function(df, doc1, doc2) {\n",
    "    doc1_entries = get_entries(df, doc1)\n",
    "    doc2_entries = get_entries(df, doc2)\n",
    "    length(which(doc1_entries %in% doc2_entries))\n",
    "}"
   ]
  },
  {
   "cell_type": "code",
   "execution_count": 30,
   "metadata": {
    "collapsed": true
   },
   "outputs": [],
   "source": [
    "library(gtools, lib.loc = \"/anaconda/lib/R/library\")"
   ]
  },
  {
   "cell_type": "code",
   "execution_count": 31,
   "metadata": {
    "collapsed": false
   },
   "outputs": [],
   "source": [
    "# do this for all possible document pairs\n",
    "\n",
    "# initialize an empty dataframe\n",
    "docs = unique(melted_dtm_df$document)\n",
    "\n",
    "all_pairs = combinations(length(docs), 2, docs, repeats.allowed = F)\n",
    "all_pairs = as.data.frame(all_pairs, stringsAsFactors = FALSE)\n",
    "all_pairs$doc1 = all_pairs$V1\n",
    "all_pairs$doc2 = all_pairs$V2\n",
    "all_pairs$V1 = NULL\n",
    "all_pairs$V2 = NULL\n",
    "\n",
    "all_pairs$num_shared_entries = NA\n"
   ]
  },
  {
   "cell_type": "code",
   "execution_count": 32,
   "metadata": {
    "collapsed": false
   },
   "outputs": [
    {
     "data": {
      "text/html": [
       "<table>\n",
       "<thead><tr><th scope=col>doc1</th><th scope=col>doc2</th><th scope=col>num_shared_entries</th></tr></thead>\n",
       "<tbody>\n",
       "\t<tr><td>P228096</td><td>P228196</td><td>0      </td></tr>\n",
       "\t<tr><td>P228096</td><td>P229426</td><td>0      </td></tr>\n",
       "\t<tr><td>P228096</td><td>P235262</td><td>0      </td></tr>\n",
       "\t<tr><td>P228096</td><td>P247864</td><td>4      </td></tr>\n",
       "\t<tr><td>P228096</td><td>P250361</td><td>0      </td></tr>\n",
       "\t<tr><td>P228096</td><td>P250363</td><td>0      </td></tr>\n",
       "</tbody>\n",
       "</table>\n"
      ],
      "text/latex": [
       "\\begin{tabular}{r|lll}\n",
       " doc1 & doc2 & num\\_shared\\_entries\\\\\n",
       "\\hline\n",
       "\t P228096 & P228196 & 0      \\\\\n",
       "\t P228096 & P229426 & 0      \\\\\n",
       "\t P228096 & P235262 & 0      \\\\\n",
       "\t P228096 & P247864 & 4      \\\\\n",
       "\t P228096 & P250361 & 0      \\\\\n",
       "\t P228096 & P250363 & 0      \\\\\n",
       "\\end{tabular}\n"
      ],
      "text/markdown": [
       "\n",
       "doc1 | doc2 | num_shared_entries | \n",
       "|---|---|---|---|---|---|\n",
       "| P228096 | P228196 | 0       | \n",
       "| P228096 | P229426 | 0       | \n",
       "| P228096 | P235262 | 0       | \n",
       "| P228096 | P247864 | 4       | \n",
       "| P228096 | P250361 | 0       | \n",
       "| P228096 | P250363 | 0       | \n",
       "\n",
       "\n"
      ],
      "text/plain": [
       "  doc1    doc2    num_shared_entries\n",
       "1 P228096 P228196 0                 \n",
       "2 P228096 P229426 0                 \n",
       "3 P228096 P235262 0                 \n",
       "4 P228096 P247864 4                 \n",
       "5 P228096 P250361 0                 \n",
       "6 P228096 P250363 0                 "
      ]
     },
     "metadata": {},
     "output_type": "display_data"
    }
   ],
   "source": [
    "# compute the number of shared entries for each pair and add to dataframe\n",
    "for(i in 1:nrow(all_pairs)) {\n",
    "    all_pairs[i,]$num_shared_entries = \n",
    "    get_shared_entries(melted_dtm_df, all_pairs[i,]$doc1, all_pairs[i,]$doc2)\n",
    "}\n",
    "\n",
    "head(all_pairs)"
   ]
  },
  {
   "cell_type": "code",
   "execution_count": 33,
   "metadata": {
    "collapsed": false
   },
   "outputs": [
    {
     "data": {
      "text/html": [
       "<table>\n",
       "<thead><tr><th></th><th scope=col>doc1</th><th scope=col>doc2</th><th scope=col>num_shared_entries</th></tr></thead>\n",
       "<tbody>\n",
       "\t<tr><th scope=row>692</th><td>P273880</td><td>Q000039</td><td>256    </td></tr>\n",
       "\t<tr><th scope=row>551</th><td>P271301</td><td>Q000039</td><td>209    </td></tr>\n",
       "\t<tr><th scope=row>811</th><td>P388265</td><td>Q000039</td><td>191    </td></tr>\n",
       "\t<tr><th scope=row>199</th><td>P247864</td><td>Q000039</td><td>147    </td></tr>\n",
       "\t<tr><th scope=row>626</th><td>P271911</td><td>Q000039</td><td>146    </td></tr>\n",
       "\t<tr><th scope=row>533</th><td>P271301</td><td>P332934</td><td>131    </td></tr>\n",
       "</tbody>\n",
       "</table>\n"
      ],
      "text/latex": [
       "\\begin{tabular}{r|lll}\n",
       "  & doc1 & doc2 & num\\_shared\\_entries\\\\\n",
       "\\hline\n",
       "\t692 & P273880 & Q000039 & 256    \\\\\n",
       "\t551 & P271301 & Q000039 & 209    \\\\\n",
       "\t811 & P388265 & Q000039 & 191    \\\\\n",
       "\t199 & P247864 & Q000039 & 147    \\\\\n",
       "\t626 & P271911 & Q000039 & 146    \\\\\n",
       "\t533 & P271301 & P332934 & 131    \\\\\n",
       "\\end{tabular}\n"
      ],
      "text/markdown": [
       "\n",
       "| <!--/--> | doc1 | doc2 | num_shared_entries | \n",
       "|---|---|---|---|---|---|\n",
       "| 692 | P273880 | Q000039 | 256     | \n",
       "| 551 | P271301 | Q000039 | 209     | \n",
       "| 811 | P388265 | Q000039 | 191     | \n",
       "| 199 | P247864 | Q000039 | 147     | \n",
       "| 626 | P271911 | Q000039 | 146     | \n",
       "| 533 | P271301 | P332934 | 131     | \n",
       "\n",
       "\n"
      ],
      "text/plain": [
       "    doc1    doc2    num_shared_entries\n",
       "692 P273880 Q000039 256               \n",
       "551 P271301 Q000039 209               \n",
       "811 P388265 Q000039 191               \n",
       "199 P247864 Q000039 147               \n",
       "626 P271911 Q000039 146               \n",
       "533 P271301 P332934 131               "
      ]
     },
     "metadata": {},
     "output_type": "display_data"
    }
   ],
   "source": [
    "# reorder the new data frame so that the document pairs with \n",
    "# the most shared entries are on topic\n",
    "\n",
    "all_pairs = all_pairs[order(-all_pairs$num_shared_entries),] \n",
    "head(all_pairs,)"
   ]
  },
  {
   "cell_type": "markdown",
   "metadata": {},
   "source": [
    "# Distance metric\n",
    "\n",
    "We would like to use a distance metric that takes into account document length. \n",
    "\n",
    "similarity = (number of shared entries / length of shortest text in pair)\n",
    "\n",
    "distance = 1 - similarity"
   ]
  },
  {
   "cell_type": "code",
   "execution_count": 34,
   "metadata": {
    "collapsed": false
   },
   "outputs": [
    {
     "data": {
      "text/html": [
       "<table>\n",
       "<thead><tr><th></th><th scope=col>num_entries</th></tr></thead>\n",
       "<tbody>\n",
       "\t<tr><th scope=row>Q000039</th><td>680</td></tr>\n",
       "\t<tr><th scope=row>P273880</th><td>462</td></tr>\n",
       "\t<tr><th scope=row>P271911</th><td>356</td></tr>\n",
       "\t<tr><th scope=row>Q000001</th><td>453</td></tr>\n",
       "\t<tr><th scope=row>P271301</th><td>357</td></tr>\n",
       "\t<tr><th scope=row>P247864</th><td>250</td></tr>\n",
       "</tbody>\n",
       "</table>\n"
      ],
      "text/latex": [
       "\\begin{tabular}{r|l}\n",
       "  & num\\_entries\\\\\n",
       "\\hline\n",
       "\tQ000039 & 680\\\\\n",
       "\tP273880 & 462\\\\\n",
       "\tP271911 & 356\\\\\n",
       "\tQ000001 & 453\\\\\n",
       "\tP271301 & 357\\\\\n",
       "\tP247864 & 250\\\\\n",
       "\\end{tabular}\n"
      ],
      "text/markdown": [
       "\n",
       "| <!--/--> | num_entries | \n",
       "|---|---|---|---|---|---|\n",
       "| Q000039 | 680 | \n",
       "| P273880 | 462 | \n",
       "| P271911 | 356 | \n",
       "| Q000001 | 453 | \n",
       "| P271301 | 357 | \n",
       "| P247864 | 250 | \n",
       "\n",
       "\n"
      ],
      "text/plain": [
       "        num_entries\n",
       "Q000039 680        \n",
       "P273880 462        \n",
       "P271911 356        \n",
       "Q000001 453        \n",
       "P271301 357        \n",
       "P247864 250        "
      ]
     },
     "metadata": {},
     "output_type": "display_data"
    }
   ],
   "source": [
    "# add back in num_entries column\n",
    "# note that we had to remove it to build melted dataframe\n",
    "dtm_df$num_entries = rowSums(dtm_df[1:cols_to_sum])\n",
    "head(dtm_df[\"num_entries\"])"
   ]
  },
  {
   "cell_type": "code",
   "execution_count": 35,
   "metadata": {
    "collapsed": false
   },
   "outputs": [
    {
     "data": {
      "text/html": [
       "<table>\n",
       "<thead><tr><th></th><th scope=col>doc1</th><th scope=col>doc2</th><th scope=col>num_shared_entries</th><th scope=col>similarity</th><th scope=col>distance</th></tr></thead>\n",
       "<tbody>\n",
       "\t<tr><th scope=row>893</th><td>P459218</td><td>X100003</td><td>0      </td><td>0      </td><td>1      </td></tr>\n",
       "\t<tr><th scope=row>894</th><td>P459226</td><td>P492330</td><td>0      </td><td>0      </td><td>1      </td></tr>\n",
       "\t<tr><th scope=row>895</th><td>P459226</td><td>Q000001</td><td>0      </td><td>0      </td><td>1      </td></tr>\n",
       "\t<tr><th scope=row>898</th><td>P492330</td><td>Q000001</td><td>0      </td><td>0      </td><td>1      </td></tr>\n",
       "\t<tr><th scope=row>900</th><td>P492330</td><td>X100003</td><td>0      </td><td>0      </td><td>1      </td></tr>\n",
       "\t<tr><th scope=row>902</th><td>Q000001</td><td>X100003</td><td>0      </td><td>0      </td><td>1      </td></tr>\n",
       "</tbody>\n",
       "</table>\n"
      ],
      "text/latex": [
       "\\begin{tabular}{r|lllll}\n",
       "  & doc1 & doc2 & num\\_shared\\_entries & similarity & distance\\\\\n",
       "\\hline\n",
       "\t893 & P459218 & X100003 & 0       & 0       & 1      \\\\\n",
       "\t894 & P459226 & P492330 & 0       & 0       & 1      \\\\\n",
       "\t895 & P459226 & Q000001 & 0       & 0       & 1      \\\\\n",
       "\t898 & P492330 & Q000001 & 0       & 0       & 1      \\\\\n",
       "\t900 & P492330 & X100003 & 0       & 0       & 1      \\\\\n",
       "\t902 & Q000001 & X100003 & 0       & 0       & 1      \\\\\n",
       "\\end{tabular}\n"
      ],
      "text/markdown": [
       "\n",
       "| <!--/--> | doc1 | doc2 | num_shared_entries | similarity | distance | \n",
       "|---|---|---|---|---|---|\n",
       "| 893 | P459218 | X100003 | 0       | 0       | 1       | \n",
       "| 894 | P459226 | P492330 | 0       | 0       | 1       | \n",
       "| 895 | P459226 | Q000001 | 0       | 0       | 1       | \n",
       "| 898 | P492330 | Q000001 | 0       | 0       | 1       | \n",
       "| 900 | P492330 | X100003 | 0       | 0       | 1       | \n",
       "| 902 | Q000001 | X100003 | 0       | 0       | 1       | \n",
       "\n",
       "\n"
      ],
      "text/plain": [
       "    doc1    doc2    num_shared_entries similarity distance\n",
       "893 P459218 X100003 0                  0          1       \n",
       "894 P459226 P492330 0                  0          1       \n",
       "895 P459226 Q000001 0                  0          1       \n",
       "898 P492330 Q000001 0                  0          1       \n",
       "900 P492330 X100003 0                  0          1       \n",
       "902 Q000001 X100003 0                  0          1       "
      ]
     },
     "metadata": {},
     "output_type": "display_data"
    }
   ],
   "source": [
    "# calculate similarity metric and add to dataframe\n",
    "\n",
    "all_pairs$similarity = NA\n",
    "all_pairs$distance = NA\n",
    "\n",
    "get_num_entries = function(df, doc) {\n",
    "    df[which(df$document == doc),]$num_entries \n",
    "    }\n",
    "\n",
    "for(i in 1:nrow(all_pairs)) {\n",
    "    doc1_entries = get_num_entries(dtm_df, all_pairs[i,]$doc1)\n",
    "    doc2_entries = get_num_entries(dtm_df, all_pairs[i,]$doc2)\n",
    "    \n",
    "    all_pairs[i,]$similarity = \n",
    "        all_pairs[i,]$num_shared_entries / min(doc1_entries, doc2_entries)\n",
    "    \n",
    "    all_pairs[i,]$distance = 1 - all_pairs[i,]$similarity\n",
    "}\n",
    "\n",
    "tail(all_pairs)"
   ]
  },
  {
   "cell_type": "code",
   "execution_count": 36,
   "metadata": {
    "collapsed": false
   },
   "outputs": [
    {
     "data": {
      "text/html": [
       "<table>\n",
       "<thead><tr><th></th><th scope=col>doc1</th><th scope=col>doc2</th><th scope=col>num_shared_entries</th><th scope=col>similarity</th><th scope=col>distance</th></tr></thead>\n",
       "<tbody>\n",
       "\t<tr><th scope=row>901</th><td>Q000001    </td><td>Q000039    </td><td>3          </td><td>0.006622517</td><td>0.9933775  </td></tr>\n",
       "</tbody>\n",
       "</table>\n"
      ],
      "text/latex": [
       "\\begin{tabular}{r|lllll}\n",
       "  & doc1 & doc2 & num\\_shared\\_entries & similarity & distance\\\\\n",
       "\\hline\n",
       "\t901 & Q000001     & Q000039     & 3           & 0.006622517 & 0.9933775  \\\\\n",
       "\\end{tabular}\n"
      ],
      "text/markdown": [
       "\n",
       "| <!--/--> | doc1 | doc2 | num_shared_entries | similarity | distance | \n",
       "|---|\n",
       "| 901 | Q000001     | Q000039     | 3           | 0.006622517 | 0.9933775   | \n",
       "\n",
       "\n"
      ],
      "text/plain": [
       "    doc1    doc2    num_shared_entries similarity  distance \n",
       "901 Q000001 Q000039 3                  0.006622517 0.9933775"
      ]
     },
     "metadata": {},
     "output_type": "display_data"
    }
   ],
   "source": [
    "all_pairs[which(all_pairs$doc2 == \"Q000039\" & all_pairs$doc1 == \"Q000001\"),]"
   ]
  },
  {
   "cell_type": "markdown",
   "metadata": {},
   "source": [
    "We can visualize this melted dataframe as a heatmap. Each document is a row and each unique entry is a column in the heatmap below. Red represents an entry being present in a document while blue represents absence."
   ]
  },
  {
   "cell_type": "code",
   "execution_count": 37,
   "metadata": {
    "collapsed": false
   },
   "outputs": [
    {
     "data": {
      "image/png": "[encoded data removed]",
      "text/plain": [
       "plot without title"
      ]
     },
     "metadata": {},
     "output_type": "display_data"
    }
   ],
   "source": [
    "# http://stackoverflow.com/questions/10397183/heat-map-of-binary-data-using-r-or-python\n",
    "\n",
    "q = qplot(data = melted_dtm_df, x=variable, y=document, fill=factor(value),\n",
    "     geom=\"tile\")+scale_fill_manual(values=c(\"0\"=\"lightblue\", \"1\"=\"red\")) +\n",
    "theme(axis.text.x=element_blank(), axis.text.y = element_text(size = 5))\n",
    "\n",
    "suppressWarnings(print(q))"
   ]
  },
  {
   "cell_type": "markdown",
   "metadata": {},
   "source": [
    "Note that Q000001 is included as an outlier. It is a composite document of lists of animals should share very few (if any) entries with the documents included in this corpus. The heatmap above shows good separation between Q000001 and Q000039. That region of the plot is shown separately below."
   ]
  },
  {
   "cell_type": "code",
   "execution_count": 38,
   "metadata": {
    "collapsed": false
   },
   "outputs": [
    {
     "data": {
      "image/png": "[encoded data removed]",
      "text/plain": [
       "plot without title"
      ]
     },
     "metadata": {},
     "output_type": "display_data"
    }
   ],
   "source": [
    "Q_docs = c(\"Q000001\", \"Q000039\")\n",
    "Q_doc_data = melted_dtm_df[melted_dtm_df$document %in% Q_docs,]\n",
    "\n",
    "q2 = qplot(data = Q_doc_data, x=variable, y=document, fill=factor(value),\n",
    "     geom=\"tile\")+scale_fill_manual(values=c(\"0\"=\"lightblue\", \"1\"=\"red\")) +\n",
    "theme(axis.text.x=element_blank(), axis.text.y = element_text(size = 5))\n",
    "\n",
    "suppressWarnings(print(q2))"
   ]
  },
  {
   "cell_type": "markdown",
   "metadata": {
    "collapsed": true
   },
   "source": [
    "## Grouping Documents by Entry Similarity  \n",
    "We can use hierarchical clustering with our presence/absence matrix to uncover groups of similar documents. Ideally, we can benchmark these clusters' accuracy in uncovering geographically or chronologically related documents by looking at metadata, but for this collection the metadata may be too sparse to do that benchmarking.  \n",
    "\n",
    "In either case, we can establish a workflow for doing hierarchical clustering and apply that to other datasets with better provenance information to test for cluster utility.  "
   ]
  },
  {
   "cell_type": "markdown",
   "metadata": {},
   "source": [
    "## Adding provenience by using [ORACC](http://oracc.org) metadata"
   ]
  },
  {
   "cell_type": "code",
   "execution_count": 39,
   "metadata": {
    "collapsed": false
   },
   "outputs": [
    {
     "data": {
      "text/html": [
       "<table>\n",
       "<thead><tr><th scope=col>designation</th><th scope=col>period</th><th scope=col>provenience</th><th scope=col>museum_no</th><th scope=col>document</th></tr></thead>\n",
       "<tbody>\n",
       "\t<tr><td>W 06435,a </td><td>Uruk III  </td><td>Uruk      </td><td>VAT 01533 </td><td>P000001   </td></tr>\n",
       "\t<tr><td>W 06435,b </td><td>Uruk III  </td><td>Uruk      </td><td>VAT 15263 </td><td>P000002   </td></tr>\n",
       "\t<tr><td>W 09123,d </td><td>Uruk IV   </td><td>Uruk      </td><td>VAT 15253 </td><td>P000003   </td></tr>\n",
       "\t<tr><td>W 09169,d </td><td>Uruk IV   </td><td>Uruk      </td><td>VAT 15168 </td><td>P000004   </td></tr>\n",
       "\t<tr><td>W 09206,k </td><td>Uruk IV   </td><td>Uruk      </td><td>VAT 15153 </td><td>P000005   </td></tr>\n",
       "\t<tr><td>W 09656,h1</td><td>Uruk IV   </td><td>Uruk      </td><td>VAT 15003 </td><td>P000006   </td></tr>\n",
       "</tbody>\n",
       "</table>\n"
      ],
      "text/latex": [
       "\\begin{tabular}{r|lllll}\n",
       " designation & period & provenience & museum\\_no & document\\\\\n",
       "\\hline\n",
       "\t W 06435,a  & Uruk III   & Uruk       & VAT 01533  & P000001   \\\\\n",
       "\t W 06435,b  & Uruk III   & Uruk       & VAT 15263  & P000002   \\\\\n",
       "\t W 09123,d  & Uruk IV    & Uruk       & VAT 15253  & P000003   \\\\\n",
       "\t W 09169,d  & Uruk IV    & Uruk       & VAT 15168  & P000004   \\\\\n",
       "\t W 09206,k  & Uruk IV    & Uruk       & VAT 15153  & P000005   \\\\\n",
       "\t W 09656,h1 & Uruk IV    & Uruk       & VAT 15003  & P000006   \\\\\n",
       "\\end{tabular}\n"
      ],
      "text/markdown": [
       "\n",
       "designation | period | provenience | museum_no | document | \n",
       "|---|---|---|---|---|---|\n",
       "| W 06435,a  | Uruk III   | Uruk       | VAT 01533  | P000001    | \n",
       "| W 06435,b  | Uruk III   | Uruk       | VAT 15263  | P000002    | \n",
       "| W 09123,d  | Uruk IV    | Uruk       | VAT 15253  | P000003    | \n",
       "| W 09169,d  | Uruk IV    | Uruk       | VAT 15168  | P000004    | \n",
       "| W 09206,k  | Uruk IV    | Uruk       | VAT 15153  | P000005    | \n",
       "| W 09656,h1 | Uruk IV    | Uruk       | VAT 15003  | P000006    | \n",
       "\n",
       "\n"
      ],
      "text/plain": [
       "  designation period   provenience museum_no document\n",
       "1 W 06435,a   Uruk III Uruk        VAT 01533 P000001 \n",
       "2 W 06435,b   Uruk III Uruk        VAT 15263 P000002 \n",
       "3 W 09123,d   Uruk IV  Uruk        VAT 15253 P000003 \n",
       "4 W 09169,d   Uruk IV  Uruk        VAT 15168 P000004 \n",
       "5 W 09206,k   Uruk IV  Uruk        VAT 15153 P000005 \n",
       "6 W 09656,h1  Uruk IV  Uruk        VAT 15003 P000006 "
      ]
     },
     "metadata": {},
     "output_type": "display_data"
    }
   ],
   "source": [
    "# Bring in metadata\n",
    "metadata = read.csv(\"../data/metadata/dcclt_cat.csv\")\n",
    "\n",
    "# rename metadata \"X\" column to \"document\" for merging with our dataframe\n",
    "metadata$document = metadata$X\n",
    "metadata$X = NULL\n",
    "head(metadata)"
   ]
  },
  {
   "cell_type": "code",
   "execution_count": 40,
   "metadata": {
    "collapsed": false
   },
   "outputs": [
    {
     "data": {
      "text/html": [
       "<table>\n",
       "<thead><tr><th></th><th scope=col>designation</th><th scope=col>period</th><th scope=col>provenience</th><th scope=col>museum_no</th><th scope=col>document</th></tr></thead>\n",
       "<tbody>\n",
       "\t<tr><th scope=row>8782</th><td>OB Nippur Ura 03                 </td><td>Old Babylonian                   </td><td>                                 </td><td>                                 </td><td>Q000001                          </td></tr>\n",
       "\t<tr><th scope=row>8783</th><td>Archaic Lu A                     </td><td>Archaic                          </td><td>                                 </td><td>                                 </td><td>Q000002                          </td></tr>\n",
       "\t<tr><th scope=row>8784</th><td>ED Lu A                          </td><td>Early Dynastic IIIa              </td><td>                                 </td><td>                                 </td><td>Q000003                          </td></tr>\n",
       "\t<tr><th scope=row>8785</th><td>ED Lu E                          </td><td>Early Dynastic                   </td><td>                                 </td><td>                                 </td><td>Q000006                          </td></tr>\n",
       "\t<tr><th scope=row>8786</th><td>Archaic Officials                </td><td>Archaic                          </td><td>                                 </td><td>                                 </td><td>Q000007                          </td></tr>\n",
       "\t<tr><th scope=row>8787</th><td>ED Officials                     </td><td>Early Dynastic IIIa              </td><td>                                 </td><td>                                 </td><td>Q000008                          </td></tr>\n",
       "\t<tr><th scope=row>8788</th><td>ED Personal Names and Professions</td><td>Early Dynastic                   </td><td>                                 </td><td>                                 </td><td>Q000010                          </td></tr>\n",
       "\t<tr><th scope=row>8789</th><td>Archaic Animals A                </td><td>Archaic                          </td><td>                                 </td><td>                                 </td><td>Q000011                          </td></tr>\n",
       "\t<tr><th scope=row>8790</th><td>ED Animals A                     </td><td>Early Dynastic IIIa              </td><td>                                 </td><td>                                 </td><td>Q000012                          </td></tr>\n",
       "\t<tr><th scope=row>8791</th><td>Archaic Fish                     </td><td>Archaic                          </td><td>                                 </td><td>                                 </td><td>Q000013                          </td></tr>\n",
       "\t<tr><th scope=row>8792</th><td>ED Fish                          </td><td>Early Dynastic IIIa              </td><td>                                 </td><td>                                 </td><td>Q000014                          </td></tr>\n",
       "\t<tr><th scope=row>8793</th><td>Archaic Birds                    </td><td>Archaic                          </td><td>                                 </td><td>                                 </td><td>Q000017                          </td></tr>\n",
       "\t<tr><th scope=row>8794</th><td>ED Birds                         </td><td>Early Dynastic IIIa              </td><td>                                 </td><td>                                 </td><td>Q000018                          </td></tr>\n",
       "\t<tr><th scope=row>8795</th><td>Archaic Plants                   </td><td>Archaic                          </td><td>                                 </td><td>                                 </td><td>Q000019                          </td></tr>\n",
       "\t<tr><th scope=row>8796</th><td>ED Plants                        </td><td>Early Dynastic IIIa              </td><td>                                 </td><td>                                 </td><td>Q000020                          </td></tr>\n",
       "\t<tr><th scope=row>8797</th><td>Archaic Wood                     </td><td>Archaic                          </td><td>                                 </td><td>                                 </td><td>Q000022                          </td></tr>\n",
       "\t<tr><th scope=row>8798</th><td>Archaic Vessels and Garments     </td><td>Archaic                          </td><td>                                 </td><td>                                 </td><td>Q000023                          </td></tr>\n",
       "\t<tr><th scope=row>8799</th><td>ED Vessels and Garments          </td><td>Early Dynastic IIIa              </td><td>                                 </td><td>                                 </td><td>Q000024                          </td></tr>\n",
       "\t<tr><th scope=row>8800</th><td>Archaic Metals                   </td><td>Archaic                          </td><td>                                 </td><td>                                 </td><td>Q000026                          </td></tr>\n",
       "\t<tr><th scope=row>8801</th><td>ED Metals                        </td><td>Early Dynastic IIIa              </td><td>                                 </td><td>                                 </td><td>Q000027                          </td></tr>\n",
       "\t<tr><th scope=row>8802</th><td>Archaic Food                     </td><td>Archaic                          </td><td>                                 </td><td>                                 </td><td>Q000028                          </td></tr>\n",
       "\t<tr><th scope=row>8803</th><td>ED Food                          </td><td>Early Dynastic IIIa              </td><td>                                 </td><td>                                 </td><td>Q000029                          </td></tr>\n",
       "\t<tr><th scope=row>8804</th><td>Archaic Word List C              </td><td>Archaic                          </td><td>                                 </td><td>                                 </td><td>Q000030                          </td></tr>\n",
       "\t<tr><th scope=row>8805</th><td>ED Word List C                   </td><td>Early Dynastic IIIa              </td><td>                                 </td><td>                                 </td><td>Q000031                          </td></tr>\n",
       "\t<tr><th scope=row>8806</th><td>Archaic Cities                   </td><td>Archaic                          </td><td>                                 </td><td>                                 </td><td>Q000034                          </td></tr>\n",
       "\t<tr><th scope=row>8807</th><td>ED Cities                        </td><td>Early Dynastic IIIa              </td><td>                                 </td><td>                                 </td><td>Q000035                          </td></tr>\n",
       "\t<tr><th scope=row>8808</th><td>Abu Salabikh God List            </td><td>Early Dynastic                   </td><td>                                 </td><td>                                 </td><td>Q000036                          </td></tr>\n",
       "\t<tr><th scope=row>8809</th><td>Eš₂-bar-kinₓ                </td><td>Early Dynastic                   </td><td>                                 </td><td>                                 </td><td>Q000037                          </td></tr>\n",
       "\t<tr><th scope=row>8810</th><td>Ebla Sign List                   </td><td>Early Dynastic                   </td><td>                                 </td><td>                                 </td><td>Q000038                          </td></tr>\n",
       "\t<tr><th scope=row>8811</th><td>OB Nippur Ura 01                 </td><td>Old Babylonian                   </td><td>                                 </td><td>                                 </td><td>Q000039                          </td></tr>\n",
       "\t<tr><th scope=row>⋮</th><td>⋮</td><td>⋮</td><td>⋮</td><td>⋮</td><td>⋮</td></tr>\n",
       "\t<tr><th scope=row>9069</th><td>Lu Long 02        </td><td>Middle Babylonian </td><td>                  </td><td>                  </td><td>Q002483           </td></tr>\n",
       "\t<tr><th scope=row>9070</th><td>MB Ura 11         </td><td>Middle Babylonian </td><td>                  </td><td>                  </td><td>Q002484           </td></tr>\n",
       "\t<tr><th scope=row>9071</th><td>MB Ura 12         </td><td>Middle Babylonian </td><td>                  </td><td>                  </td><td>Q002485           </td></tr>\n",
       "\t<tr><th scope=row>9072</th><td>MB Ura 13         </td><td>Middle Babylonian </td><td>                  </td><td>                  </td><td>Q002486           </td></tr>\n",
       "\t<tr><th scope=row>9073</th><td>MB Ura 14         </td><td>Middle Babylonian </td><td>                  </td><td>                  </td><td>Q002487           </td></tr>\n",
       "\t<tr><th scope=row>9074</th><td>MB Ura 15         </td><td>Middle Babylonian </td><td>                  </td><td>                  </td><td>Q002488           </td></tr>\n",
       "\t<tr><th scope=row>9075</th><td>MA Ea             </td><td>Middle Assyrian   </td><td>                  </td><td>                  </td><td>Q002489           </td></tr>\n",
       "\t<tr><th scope=row>9076</th><td>An Anum 2         </td><td>Middle Babylonian </td><td>                  </td><td>                  </td><td>Q003221           </td></tr>\n",
       "\t<tr><th scope=row>9077</th><td>An Anum 3         </td><td>Middle Babylonian </td><td>                  </td><td>                  </td><td>Q003222           </td></tr>\n",
       "\t<tr><th scope=row>9078</th><td>An Anum 4         </td><td>Middle Babylonian </td><td>                  </td><td>                  </td><td>Q003223           </td></tr>\n",
       "\t<tr><th scope=row>9079</th><td>An Anum 5         </td><td>Middle Babylonian </td><td>                  </td><td>                  </td><td>Q003224           </td></tr>\n",
       "\t<tr><th scope=row>9080</th><td>An Anum 6         </td><td>Middle Babylonian </td><td>                  </td><td>                  </td><td>Q003225           </td></tr>\n",
       "\t<tr><th scope=row>9081</th><td>An Anum 7         </td><td>Middle Babylonian </td><td>                  </td><td>                  </td><td>Q003226           </td></tr>\n",
       "\t<tr><th scope=row>9082</th><td>An Anum ša Ameli  </td><td>Middle Babylonian </td><td>                  </td><td>                  </td><td>Q003227           </td></tr>\n",
       "\t<tr><th scope=row>9083</th><td>Izi 12            </td><td>Middle Assyrian   </td><td>                  </td><td>                  </td><td>Q003882           </td></tr>\n",
       "\t<tr><th scope=row>9084</th><td>OB Ugumu Varia    </td><td>Old Babylonian    </td><td>                  </td><td>                  </td><td>Q003902           </td></tr>\n",
       "\t<tr><th scope=row>9085</th><td>OB Nigga Varia    </td><td>Old Babylonian    </td><td>                  </td><td>                  </td><td>Q003903           </td></tr>\n",
       "\t<tr><th scope=row>9086</th><td>OB Izi Varia      </td><td>Old Babylonian    </td><td>                  </td><td>                  </td><td>Q003904           </td></tr>\n",
       "\t<tr><th scope=row>9087</th><td>OB Kagal Varia    </td><td>Old Babylonian    </td><td>                  </td><td>                  </td><td>Q003905           </td></tr>\n",
       "\t<tr><th scope=row>9088</th><td>OB Diri varia     </td><td>Old Babylonian    </td><td>                  </td><td>                  </td><td>Q003906           </td></tr>\n",
       "\t<tr><th scope=row>9089</th><td>OB God Lists Varia</td><td>Old Babylonian    </td><td>                  </td><td>                  </td><td>Q003908           </td></tr>\n",
       "\t<tr><th scope=row>9108</th><td>BM 55393          </td><td>                  </td><td>                  </td><td>                  </td><td>X000301           </td></tr>\n",
       "\t<tr><th scope=row>9109</th><td>BM 54749          </td><td>                  </td><td>                  </td><td>                  </td><td>X000302           </td></tr>\n",
       "\t<tr><th scope=row>9110</th><td>BM 38389          </td><td>                  </td><td>                  </td><td>                  </td><td>X000303           </td></tr>\n",
       "\t<tr><th scope=row>9151</th><td>BM 36316          </td><td>                  </td><td>                  </td><td>                  </td><td>X003004           </td></tr>\n",
       "\t<tr><th scope=row>9152</th><td>BM 30013          </td><td>                  </td><td>                  </td><td>                  </td><td>X003005           </td></tr>\n",
       "\t<tr><th scope=row>9153</th><td>BM 047373         </td><td>                  </td><td>                  </td><td>                  </td><td>X003006           </td></tr>\n",
       "\t<tr><th scope=row>9154</th><td>BM 037525         </td><td>                  </td><td>                  </td><td>                  </td><td>X003007           </td></tr>\n",
       "\t<tr><th scope=row>9155</th><td>BM 47522          </td><td>                  </td><td>                  </td><td>                  </td><td>X003008           </td></tr>\n",
       "\t<tr><th scope=row>9156</th><td>BM 068607         </td><td>                  </td><td>                  </td><td>                  </td><td>X003009           </td></tr>\n",
       "</tbody>\n",
       "</table>\n"
      ],
      "text/latex": [
       "\\begin{tabular}{r|lllll}\n",
       "  & designation & period & provenience & museum\\_no & document\\\\\n",
       "\\hline\n",
       "\t8782 & OB Nippur Ura 03                  & Old Babylonian                    &                                   &                                   & Q000001                          \\\\\n",
       "\t8783 & Archaic Lu A                      & Archaic                           &                                   &                                   & Q000002                          \\\\\n",
       "\t8784 & ED Lu A                           & Early Dynastic IIIa               &                                   &                                   & Q000003                          \\\\\n",
       "\t8785 & ED Lu E                           & Early Dynastic                    &                                   &                                   & Q000006                          \\\\\n",
       "\t8786 & Archaic Officials                 & Archaic                           &                                   &                                   & Q000007                          \\\\\n",
       "\t8787 & ED Officials                      & Early Dynastic IIIa               &                                   &                                   & Q000008                          \\\\\n",
       "\t8788 & ED Personal Names and Professions & Early Dynastic                    &                                   &                                   & Q000010                          \\\\\n",
       "\t8789 & Archaic Animals A                 & Archaic                           &                                   &                                   & Q000011                          \\\\\n",
       "\t8790 & ED Animals A                      & Early Dynastic IIIa               &                                   &                                   & Q000012                          \\\\\n",
       "\t8791 & Archaic Fish                      & Archaic                           &                                   &                                   & Q000013                          \\\\\n",
       "\t8792 & ED Fish                           & Early Dynastic IIIa               &                                   &                                   & Q000014                          \\\\\n",
       "\t8793 & Archaic Birds                     & Archaic                           &                                   &                                   & Q000017                          \\\\\n",
       "\t8794 & ED Birds                          & Early Dynastic IIIa               &                                   &                                   & Q000018                          \\\\\n",
       "\t8795 & Archaic Plants                    & Archaic                           &                                   &                                   & Q000019                          \\\\\n",
       "\t8796 & ED Plants                         & Early Dynastic IIIa               &                                   &                                   & Q000020                          \\\\\n",
       "\t8797 & Archaic Wood                      & Archaic                           &                                   &                                   & Q000022                          \\\\\n",
       "\t8798 & Archaic Vessels and Garments      & Archaic                           &                                   &                                   & Q000023                          \\\\\n",
       "\t8799 & ED Vessels and Garments           & Early Dynastic IIIa               &                                   &                                   & Q000024                          \\\\\n",
       "\t8800 & Archaic Metals                    & Archaic                           &                                   &                                   & Q000026                          \\\\\n",
       "\t8801 & ED Metals                         & Early Dynastic IIIa               &                                   &                                   & Q000027                          \\\\\n",
       "\t8802 & Archaic Food                      & Archaic                           &                                   &                                   & Q000028                          \\\\\n",
       "\t8803 & ED Food                           & Early Dynastic IIIa               &                                   &                                   & Q000029                          \\\\\n",
       "\t8804 & Archaic Word List C               & Archaic                           &                                   &                                   & Q000030                          \\\\\n",
       "\t8805 & ED Word List C                    & Early Dynastic IIIa               &                                   &                                   & Q000031                          \\\\\n",
       "\t8806 & Archaic Cities                    & Archaic                           &                                   &                                   & Q000034                          \\\\\n",
       "\t8807 & ED Cities                         & Early Dynastic IIIa               &                                   &                                   & Q000035                          \\\\\n",
       "\t8808 & Abu Salabikh God List             & Early Dynastic                    &                                   &                                   & Q000036                          \\\\\n",
       "\t8809 & Eš₂-bar-kinₓ                 & Early Dynastic                    &                                   &                                   & Q000037                          \\\\\n",
       "\t8810 & Ebla Sign List                    & Early Dynastic                    &                                   &                                   & Q000038                          \\\\\n",
       "\t8811 & OB Nippur Ura 01                  & Old Babylonian                    &                                   &                                   & Q000039                          \\\\\n",
       "\t⋮ & ⋮ & ⋮ & ⋮ & ⋮ & ⋮\\\\\n",
       "\t9069 & Lu Long 02         & Middle Babylonian  &                    &                    & Q002483           \\\\\n",
       "\t9070 & MB Ura 11          & Middle Babylonian  &                    &                    & Q002484           \\\\\n",
       "\t9071 & MB Ura 12          & Middle Babylonian  &                    &                    & Q002485           \\\\\n",
       "\t9072 & MB Ura 13          & Middle Babylonian  &                    &                    & Q002486           \\\\\n",
       "\t9073 & MB Ura 14          & Middle Babylonian  &                    &                    & Q002487           \\\\\n",
       "\t9074 & MB Ura 15          & Middle Babylonian  &                    &                    & Q002488           \\\\\n",
       "\t9075 & MA Ea              & Middle Assyrian    &                    &                    & Q002489           \\\\\n",
       "\t9076 & An Anum 2          & Middle Babylonian  &                    &                    & Q003221           \\\\\n",
       "\t9077 & An Anum 3          & Middle Babylonian  &                    &                    & Q003222           \\\\\n",
       "\t9078 & An Anum 4          & Middle Babylonian  &                    &                    & Q003223           \\\\\n",
       "\t9079 & An Anum 5          & Middle Babylonian  &                    &                    & Q003224           \\\\\n",
       "\t9080 & An Anum 6          & Middle Babylonian  &                    &                    & Q003225           \\\\\n",
       "\t9081 & An Anum 7          & Middle Babylonian  &                    &                    & Q003226           \\\\\n",
       "\t9082 & An Anum ša Ameli   & Middle Babylonian  &                    &                    & Q003227           \\\\\n",
       "\t9083 & Izi 12             & Middle Assyrian    &                    &                    & Q003882           \\\\\n",
       "\t9084 & OB Ugumu Varia     & Old Babylonian     &                    &                    & Q003902           \\\\\n",
       "\t9085 & OB Nigga Varia     & Old Babylonian     &                    &                    & Q003903           \\\\\n",
       "\t9086 & OB Izi Varia       & Old Babylonian     &                    &                    & Q003904           \\\\\n",
       "\t9087 & OB Kagal Varia     & Old Babylonian     &                    &                    & Q003905           \\\\\n",
       "\t9088 & OB Diri varia      & Old Babylonian     &                    &                    & Q003906           \\\\\n",
       "\t9089 & OB God Lists Varia & Old Babylonian     &                    &                    & Q003908           \\\\\n",
       "\t9108 & BM 55393           &                    &                    &                    & X000301           \\\\\n",
       "\t9109 & BM 54749           &                    &                    &                    & X000302           \\\\\n",
       "\t9110 & BM 38389           &                    &                    &                    & X000303           \\\\\n",
       "\t9151 & BM 36316           &                    &                    &                    & X003004           \\\\\n",
       "\t9152 & BM 30013           &                    &                    &                    & X003005           \\\\\n",
       "\t9153 & BM 047373          &                    &                    &                    & X003006           \\\\\n",
       "\t9154 & BM 037525          &                    &                    &                    & X003007           \\\\\n",
       "\t9155 & BM 47522           &                    &                    &                    & X003008           \\\\\n",
       "\t9156 & BM 068607          &                    &                    &                    & X003009           \\\\\n",
       "\\end{tabular}\n"
      ],
      "text/markdown": [
       "\n",
       "| <!--/--> | designation | period | provenience | museum_no | document | \n",
       "|---|---|---|---|---|---|---|---|---|---|---|---|---|---|---|---|---|---|---|---|---|---|---|---|---|---|---|---|---|---|---|---|---|---|---|---|---|---|---|---|---|---|---|---|---|---|---|---|---|---|---|---|---|---|---|---|---|---|---|---|---|\n",
       "| 8782 | OB Nippur Ura 03                  | Old Babylonian                    |                                   |                                   | Q000001                           | \n",
       "| 8783 | Archaic Lu A                      | Archaic                           |                                   |                                   | Q000002                           | \n",
       "| 8784 | ED Lu A                           | Early Dynastic IIIa               |                                   |                                   | Q000003                           | \n",
       "| 8785 | ED Lu E                           | Early Dynastic                    |                                   |                                   | Q000006                           | \n",
       "| 8786 | Archaic Officials                 | Archaic                           |                                   |                                   | Q000007                           | \n",
       "| 8787 | ED Officials                      | Early Dynastic IIIa               |                                   |                                   | Q000008                           | \n",
       "| 8788 | ED Personal Names and Professions | Early Dynastic                    |                                   |                                   | Q000010                           | \n",
       "| 8789 | Archaic Animals A                 | Archaic                           |                                   |                                   | Q000011                           | \n",
       "| 8790 | ED Animals A                      | Early Dynastic IIIa               |                                   |                                   | Q000012                           | \n",
       "| 8791 | Archaic Fish                      | Archaic                           |                                   |                                   | Q000013                           | \n",
       "| 8792 | ED Fish                           | Early Dynastic IIIa               |                                   |                                   | Q000014                           | \n",
       "| 8793 | Archaic Birds                     | Archaic                           |                                   |                                   | Q000017                           | \n",
       "| 8794 | ED Birds                          | Early Dynastic IIIa               |                                   |                                   | Q000018                           | \n",
       "| 8795 | Archaic Plants                    | Archaic                           |                                   |                                   | Q000019                           | \n",
       "| 8796 | ED Plants                         | Early Dynastic IIIa               |                                   |                                   | Q000020                           | \n",
       "| 8797 | Archaic Wood                      | Archaic                           |                                   |                                   | Q000022                           | \n",
       "| 8798 | Archaic Vessels and Garments      | Archaic                           |                                   |                                   | Q000023                           | \n",
       "| 8799 | ED Vessels and Garments           | Early Dynastic IIIa               |                                   |                                   | Q000024                           | \n",
       "| 8800 | Archaic Metals                    | Archaic                           |                                   |                                   | Q000026                           | \n",
       "| 8801 | ED Metals                         | Early Dynastic IIIa               |                                   |                                   | Q000027                           | \n",
       "| 8802 | Archaic Food                      | Archaic                           |                                   |                                   | Q000028                           | \n",
       "| 8803 | ED Food                           | Early Dynastic IIIa               |                                   |                                   | Q000029                           | \n",
       "| 8804 | Archaic Word List C               | Archaic                           |                                   |                                   | Q000030                           | \n",
       "| 8805 | ED Word List C                    | Early Dynastic IIIa               |                                   |                                   | Q000031                           | \n",
       "| 8806 | Archaic Cities                    | Archaic                           |                                   |                                   | Q000034                           | \n",
       "| 8807 | ED Cities                         | Early Dynastic IIIa               |                                   |                                   | Q000035                           | \n",
       "| 8808 | Abu Salabikh God List             | Early Dynastic                    |                                   |                                   | Q000036                           | \n",
       "| 8809 | Eš₂-bar-kinₓ                 | Early Dynastic                    |                                   |                                   | Q000037                           | \n",
       "| 8810 | Ebla Sign List                    | Early Dynastic                    |                                   |                                   | Q000038                           | \n",
       "| 8811 | OB Nippur Ura 01                  | Old Babylonian                    |                                   |                                   | Q000039                           | \n",
       "| ⋮ | ⋮ | ⋮ | ⋮ | ⋮ | ⋮ | \n",
       "| 9069 | Lu Long 02         | Middle Babylonian  |                    |                    | Q002483            | \n",
       "| 9070 | MB Ura 11          | Middle Babylonian  |                    |                    | Q002484            | \n",
       "| 9071 | MB Ura 12          | Middle Babylonian  |                    |                    | Q002485            | \n",
       "| 9072 | MB Ura 13          | Middle Babylonian  |                    |                    | Q002486            | \n",
       "| 9073 | MB Ura 14          | Middle Babylonian  |                    |                    | Q002487            | \n",
       "| 9074 | MB Ura 15          | Middle Babylonian  |                    |                    | Q002488            | \n",
       "| 9075 | MA Ea              | Middle Assyrian    |                    |                    | Q002489            | \n",
       "| 9076 | An Anum 2          | Middle Babylonian  |                    |                    | Q003221            | \n",
       "| 9077 | An Anum 3          | Middle Babylonian  |                    |                    | Q003222            | \n",
       "| 9078 | An Anum 4          | Middle Babylonian  |                    |                    | Q003223            | \n",
       "| 9079 | An Anum 5          | Middle Babylonian  |                    |                    | Q003224            | \n",
       "| 9080 | An Anum 6          | Middle Babylonian  |                    |                    | Q003225            | \n",
       "| 9081 | An Anum 7          | Middle Babylonian  |                    |                    | Q003226            | \n",
       "| 9082 | An Anum ša Ameli   | Middle Babylonian  |                    |                    | Q003227            | \n",
       "| 9083 | Izi 12             | Middle Assyrian    |                    |                    | Q003882            | \n",
       "| 9084 | OB Ugumu Varia     | Old Babylonian     |                    |                    | Q003902            | \n",
       "| 9085 | OB Nigga Varia     | Old Babylonian     |                    |                    | Q003903            | \n",
       "| 9086 | OB Izi Varia       | Old Babylonian     |                    |                    | Q003904            | \n",
       "| 9087 | OB Kagal Varia     | Old Babylonian     |                    |                    | Q003905            | \n",
       "| 9088 | OB Diri varia      | Old Babylonian     |                    |                    | Q003906            | \n",
       "| 9089 | OB God Lists Varia | Old Babylonian     |                    |                    | Q003908            | \n",
       "| 9108 | BM 55393           |                    |                    |                    | X000301            | \n",
       "| 9109 | BM 54749           |                    |                    |                    | X000302            | \n",
       "| 9110 | BM 38389           |                    |                    |                    | X000303            | \n",
       "| 9151 | BM 36316           |                    |                    |                    | X003004            | \n",
       "| 9152 | BM 30013           |                    |                    |                    | X003005            | \n",
       "| 9153 | BM 047373          |                    |                    |                    | X003006            | \n",
       "| 9154 | BM 037525          |                    |                    |                    | X003007            | \n",
       "| 9155 | BM 47522           |                    |                    |                    | X003008            | \n",
       "| 9156 | BM 068607          |                    |                    |                    | X003009            | \n",
       "\n",
       "\n"
      ],
      "text/plain": [
       "     designation                       period              provenience\n",
       "8782 OB Nippur Ura 03                  Old Babylonian                 \n",
       "8783 Archaic Lu A                      Archaic                        \n",
       "8784 ED Lu A                           Early Dynastic IIIa            \n",
       "8785 ED Lu E                           Early Dynastic                 \n",
       "8786 Archaic Officials                 Archaic                        \n",
       "8787 ED Officials                      Early Dynastic IIIa            \n",
       "8788 ED Personal Names and Professions Early Dynastic                 \n",
       "8789 Archaic Animals A                 Archaic                        \n",
       "8790 ED Animals A                      Early Dynastic IIIa            \n",
       "8791 Archaic Fish                      Archaic                        \n",
       "8792 ED Fish                           Early Dynastic IIIa            \n",
       "8793 Archaic Birds                     Archaic                        \n",
       "8794 ED Birds                          Early Dynastic IIIa            \n",
       "8795 Archaic Plants                    Archaic                        \n",
       "8796 ED Plants                         Early Dynastic IIIa            \n",
       "8797 Archaic Wood                      Archaic                        \n",
       "8798 Archaic Vessels and Garments      Archaic                        \n",
       "8799 ED Vessels and Garments           Early Dynastic IIIa            \n",
       "8800 Archaic Metals                    Archaic                        \n",
       "8801 ED Metals                         Early Dynastic IIIa            \n",
       "8802 Archaic Food                      Archaic                        \n",
       "8803 ED Food                           Early Dynastic IIIa            \n",
       "8804 Archaic Word List C               Archaic                        \n",
       "8805 ED Word List C                    Early Dynastic IIIa            \n",
       "8806 Archaic Cities                    Archaic                        \n",
       "8807 ED Cities                         Early Dynastic IIIa            \n",
       "8808 Abu Salabikh God List             Early Dynastic                 \n",
       "8809 Eš₂-bar-kin\\u2093                 Early Dynastic                 \n",
       "8810 Ebla Sign List                    Early Dynastic                 \n",
       "8811 OB Nippur Ura 01                  Old Babylonian                 \n",
       "⋮    ⋮                                 ⋮                   ⋮          \n",
       "9069 Lu Long 02                        Middle Babylonian              \n",
       "9070 MB Ura 11                         Middle Babylonian              \n",
       "9071 MB Ura 12                         Middle Babylonian              \n",
       "9072 MB Ura 13                         Middle Babylonian              \n",
       "9073 MB Ura 14                         Middle Babylonian              \n",
       "9074 MB Ura 15                         Middle Babylonian              \n",
       "9075 MA Ea                             Middle Assyrian                \n",
       "9076 An Anum 2                         Middle Babylonian              \n",
       "9077 An Anum 3                         Middle Babylonian              \n",
       "9078 An Anum 4                         Middle Babylonian              \n",
       "9079 An Anum 5                         Middle Babylonian              \n",
       "9080 An Anum 6                         Middle Babylonian              \n",
       "9081 An Anum 7                         Middle Babylonian              \n",
       "9082 An Anum ša Ameli                  Middle Babylonian              \n",
       "9083 Izi 12                            Middle Assyrian                \n",
       "9084 OB Ugumu Varia                    Old Babylonian                 \n",
       "9085 OB Nigga Varia                    Old Babylonian                 \n",
       "9086 OB Izi Varia                      Old Babylonian                 \n",
       "9087 OB Kagal Varia                    Old Babylonian                 \n",
       "9088 OB Diri varia                     Old Babylonian                 \n",
       "9089 OB God Lists Varia                Old Babylonian                 \n",
       "9108 BM 55393                                                         \n",
       "9109 BM 54749                                                         \n",
       "9110 BM 38389                                                         \n",
       "9151 BM 36316                                                         \n",
       "9152 BM 30013                                                         \n",
       "9153 BM 047373                                                        \n",
       "9154 BM 037525                                                        \n",
       "9155 BM 47522                                                         \n",
       "9156 BM 068607                                                        \n",
       "     museum_no document\n",
       "8782           Q000001 \n",
       "8783           Q000002 \n",
       "8784           Q000003 \n",
       "8785           Q000006 \n",
       "8786           Q000007 \n",
       "8787           Q000008 \n",
       "8788           Q000010 \n",
       "8789           Q000011 \n",
       "8790           Q000012 \n",
       "8791           Q000013 \n",
       "8792           Q000014 \n",
       "8793           Q000017 \n",
       "8794           Q000018 \n",
       "8795           Q000019 \n",
       "8796           Q000020 \n",
       "8797           Q000022 \n",
       "8798           Q000023 \n",
       "8799           Q000024 \n",
       "8800           Q000026 \n",
       "8801           Q000027 \n",
       "8802           Q000028 \n",
       "8803           Q000029 \n",
       "8804           Q000030 \n",
       "8805           Q000031 \n",
       "8806           Q000034 \n",
       "8807           Q000035 \n",
       "8808           Q000036 \n",
       "8809           Q000037 \n",
       "8810           Q000038 \n",
       "8811           Q000039 \n",
       "⋮    ⋮         ⋮       \n",
       "9069           Q002483 \n",
       "9070           Q002484 \n",
       "9071           Q002485 \n",
       "9072           Q002486 \n",
       "9073           Q002487 \n",
       "9074           Q002488 \n",
       "9075           Q002489 \n",
       "9076           Q003221 \n",
       "9077           Q003222 \n",
       "9078           Q003223 \n",
       "9079           Q003224 \n",
       "9080           Q003225 \n",
       "9081           Q003226 \n",
       "9082           Q003227 \n",
       "9083           Q003882 \n",
       "9084           Q003902 \n",
       "9085           Q003903 \n",
       "9086           Q003904 \n",
       "9087           Q003905 \n",
       "9088           Q003906 \n",
       "9089           Q003908 \n",
       "9108           X000301 \n",
       "9109           X000302 \n",
       "9110           X000303 \n",
       "9151           X003004 \n",
       "9152           X003005 \n",
       "9153           X003006 \n",
       "9154           X003007 \n",
       "9155           X003008 \n",
       "9156           X003009 "
      ]
     },
     "metadata": {},
     "output_type": "display_data"
    }
   ],
   "source": [
    "metadata[which(metadata$provenience == \"\"),]"
   ]
  },
  {
   "cell_type": "code",
   "execution_count": 41,
   "metadata": {
    "collapsed": false
   },
   "outputs": [
    {
     "data": {
      "text/html": [
       "43"
      ],
      "text/latex": [
       "43"
      ],
      "text/markdown": [
       "43"
      ],
      "text/plain": [
       "[1] 43"
      ]
     },
     "metadata": {},
     "output_type": "display_data"
    }
   ],
   "source": [
    "# Drop metadata for documents not in this dataset\n",
    "docs = unique(rownames(dtm_df))\n",
    "metadata = metadata[which(metadata$document %in% docs),]\n",
    "nrow(metadata)"
   ]
  },
  {
   "cell_type": "code",
   "execution_count": 42,
   "metadata": {
    "collapsed": false
   },
   "outputs": [
    {
     "data": {
      "text/html": [
       "<table>\n",
       "<thead><tr><th></th><th scope=col>doc1</th><th scope=col>doc2</th><th scope=col>distance</th></tr></thead>\n",
       "<tbody>\n",
       "\t<tr><th scope=row>692</th><td>P273880  </td><td>Q000039  </td><td>0.4458874</td></tr>\n",
       "\t<tr><th scope=row>551</th><td>P271301  </td><td>Q000039  </td><td>0.4145658</td></tr>\n",
       "\t<tr><th scope=row>811</th><td>P388265  </td><td>Q000039  </td><td>0.3717105</td></tr>\n",
       "\t<tr><th scope=row>199</th><td>P247864  </td><td>Q000039  </td><td>0.4120000</td></tr>\n",
       "\t<tr><th scope=row>626</th><td>P271911  </td><td>Q000039  </td><td>0.5898876</td></tr>\n",
       "\t<tr><th scope=row>533</th><td>P271301  </td><td>P332934  </td><td>0.4822134</td></tr>\n",
       "</tbody>\n",
       "</table>\n"
      ],
      "text/latex": [
       "\\begin{tabular}{r|lll}\n",
       "  & doc1 & doc2 & distance\\\\\n",
       "\\hline\n",
       "\t692 & P273880   & Q000039   & 0.4458874\\\\\n",
       "\t551 & P271301   & Q000039   & 0.4145658\\\\\n",
       "\t811 & P388265   & Q000039   & 0.3717105\\\\\n",
       "\t199 & P247864   & Q000039   & 0.4120000\\\\\n",
       "\t626 & P271911   & Q000039   & 0.5898876\\\\\n",
       "\t533 & P271301   & P332934   & 0.4822134\\\\\n",
       "\\end{tabular}\n"
      ],
      "text/markdown": [
       "\n",
       "| <!--/--> | doc1 | doc2 | distance | \n",
       "|---|---|---|---|---|---|\n",
       "| 692 | P273880   | Q000039   | 0.4458874 | \n",
       "| 551 | P271301   | Q000039   | 0.4145658 | \n",
       "| 811 | P388265   | Q000039   | 0.3717105 | \n",
       "| 199 | P247864   | Q000039   | 0.4120000 | \n",
       "| 626 | P271911   | Q000039   | 0.5898876 | \n",
       "| 533 | P271301   | P332934   | 0.4822134 | \n",
       "\n",
       "\n"
      ],
      "text/plain": [
       "    doc1    doc2    distance \n",
       "692 P273880 Q000039 0.4458874\n",
       "551 P271301 Q000039 0.4145658\n",
       "811 P388265 Q000039 0.3717105\n",
       "199 P247864 Q000039 0.4120000\n",
       "626 P271911 Q000039 0.5898876\n",
       "533 P271301 P332934 0.4822134"
      ]
     },
     "metadata": {},
     "output_type": "display_data"
    }
   ],
   "source": [
    "all_pairs = all_pairs[,c(\"doc1\", \"doc2\", \"distance\")]\n",
    "head(all_pairs)"
   ]
  },
  {
   "cell_type": "code",
   "execution_count": 43,
   "metadata": {
    "collapsed": false
   },
   "outputs": [
    {
     "name": "stderr",
     "output_type": "stream",
     "text": [
      "\n",
      "Attaching package: ‘reshape2’\n",
      "\n",
      "The following objects are masked from ‘package:reshape’:\n",
      "\n",
      "    colsplit, melt, recast\n",
      "\n"
     ]
    },
    {
     "data": {
      "text/html": [
       "<table>\n",
       "<thead><tr><th></th><th scope=col>P228196</th><th scope=col>P229426</th><th scope=col>P235262</th><th scope=col>P247864</th><th scope=col>P250361</th><th scope=col>P250363</th><th scope=col>P250364</th><th scope=col>P250371</th><th scope=col>P250736</th><th scope=col>P253228</th><th scope=col>⋯</th><th scope=col>P437074</th><th scope=col>P447996</th><th scope=col>P459216</th><th scope=col>P459217</th><th scope=col>P459218</th><th scope=col>P459226</th><th scope=col>P492330</th><th scope=col>Q000001</th><th scope=col>Q000039</th><th scope=col>X100003</th></tr></thead>\n",
       "<tbody>\n",
       "\t<tr><th scope=row>P228096</th><td>1        </td><td>1        </td><td>1.0000000</td><td>0.6923077</td><td>1.0000000</td><td>1.0      </td><td>0.9230769</td><td>1.0      </td><td>1.0000000</td><td>1.0000000</td><td>⋯        </td><td>1.0000000</td><td>1.0000000</td><td>1.0000000</td><td>0.9230769</td><td>0.7692308</td><td>1.0000000</td><td>1        </td><td>1        </td><td>0.5384615</td><td>1.0000000</td></tr>\n",
       "\t<tr><th scope=row>P228196</th><td>0        </td><td>1        </td><td>1.0000000</td><td>0.7500000</td><td>1.0000000</td><td>1.0      </td><td>1.0000000</td><td>1.0      </td><td>1.0000000</td><td>1.0000000</td><td>⋯        </td><td>1.0000000</td><td>0.8750000</td><td>1.0000000</td><td>1.0000000</td><td>1.0000000</td><td>1.0000000</td><td>1        </td><td>1        </td><td>0.3750000</td><td>1.0000000</td></tr>\n",
       "\t<tr><th scope=row>P229426</th><td>0        </td><td>0        </td><td>0.7857143</td><td>0.9285714</td><td>1.0000000</td><td>1.0      </td><td>1.0000000</td><td>1.0      </td><td>1.0000000</td><td>1.0000000</td><td>⋯        </td><td>1.0000000</td><td>0.9285714</td><td>0.8571429</td><td>1.0000000</td><td>1.0000000</td><td>1.0000000</td><td>1        </td><td>1        </td><td>0.5000000</td><td>1.0000000</td></tr>\n",
       "\t<tr><th scope=row>P235262</th><td>0        </td><td>0        </td><td>0.0000000</td><td>0.6712329</td><td>1.0000000</td><td>1.0      </td><td>0.9027778</td><td>0.8      </td><td>1.0000000</td><td>0.8157895</td><td>⋯        </td><td>0.9305556</td><td>0.8356164</td><td>0.4931507</td><td>0.8493151</td><td>0.9863014</td><td>0.7777778</td><td>1        </td><td>1        </td><td>0.3835616</td><td>0.8666667</td></tr>\n",
       "\t<tr><th scope=row>P247864</th><td>0        </td><td>0        </td><td>0.0000000</td><td>0.0000000</td><td>0.5333333</td><td>0.5      </td><td>0.8055556</td><td>0.7      </td><td>0.9867841</td><td>0.5526316</td><td>⋯        </td><td>0.7500000</td><td>0.8051948</td><td>0.6581197</td><td>0.6699029</td><td>0.7160494</td><td>0.5000000</td><td>1        </td><td>1        </td><td>0.4120000</td><td>0.7666667</td></tr>\n",
       "\t<tr><th scope=row>P250361</th><td>0        </td><td>0        </td><td>0.0000000</td><td>0.0000000</td><td>0.0000000</td><td>1.0      </td><td>1.0000000</td><td>1.0      </td><td>1.0000000</td><td>1.0000000</td><td>⋯        </td><td>0.7333333</td><td>1.0000000</td><td>1.0000000</td><td>1.0000000</td><td>0.8000000</td><td>1.0000000</td><td>1        </td><td>1        </td><td>0.2666667</td><td>1.0000000</td></tr>\n",
       "</tbody>\n",
       "</table>\n"
      ],
      "text/latex": [
       "\\begin{tabular}{r|llllllllllllllllllllllllllllllllllllllllll}\n",
       "  & P228196 & P229426 & P235262 & P247864 & P250361 & P250363 & P250364 & P250371 & P250736 & P253228 & ⋯ & P437074 & P447996 & P459216 & P459217 & P459218 & P459226 & P492330 & Q000001 & Q000039 & X100003\\\\\n",
       "\\hline\n",
       "\tP228096 & 1         & 1         & 1.0000000 & 0.6923077 & 1.0000000 & 1.0       & 0.9230769 & 1.0       & 1.0000000 & 1.0000000 & ⋯         & 1.0000000 & 1.0000000 & 1.0000000 & 0.9230769 & 0.7692308 & 1.0000000 & 1         & 1         & 0.5384615 & 1.0000000\\\\\n",
       "\tP228196 & 0         & 1         & 1.0000000 & 0.7500000 & 1.0000000 & 1.0       & 1.0000000 & 1.0       & 1.0000000 & 1.0000000 & ⋯         & 1.0000000 & 0.8750000 & 1.0000000 & 1.0000000 & 1.0000000 & 1.0000000 & 1         & 1         & 0.3750000 & 1.0000000\\\\\n",
       "\tP229426 & 0         & 0         & 0.7857143 & 0.9285714 & 1.0000000 & 1.0       & 1.0000000 & 1.0       & 1.0000000 & 1.0000000 & ⋯         & 1.0000000 & 0.9285714 & 0.8571429 & 1.0000000 & 1.0000000 & 1.0000000 & 1         & 1         & 0.5000000 & 1.0000000\\\\\n",
       "\tP235262 & 0         & 0         & 0.0000000 & 0.6712329 & 1.0000000 & 1.0       & 0.9027778 & 0.8       & 1.0000000 & 0.8157895 & ⋯         & 0.9305556 & 0.8356164 & 0.4931507 & 0.8493151 & 0.9863014 & 0.7777778 & 1         & 1         & 0.3835616 & 0.8666667\\\\\n",
       "\tP247864 & 0         & 0         & 0.0000000 & 0.0000000 & 0.5333333 & 0.5       & 0.8055556 & 0.7       & 0.9867841 & 0.5526316 & ⋯         & 0.7500000 & 0.8051948 & 0.6581197 & 0.6699029 & 0.7160494 & 0.5000000 & 1         & 1         & 0.4120000 & 0.7666667\\\\\n",
       "\tP250361 & 0         & 0         & 0.0000000 & 0.0000000 & 0.0000000 & 1.0       & 1.0000000 & 1.0       & 1.0000000 & 1.0000000 & ⋯         & 0.7333333 & 1.0000000 & 1.0000000 & 1.0000000 & 0.8000000 & 1.0000000 & 1         & 1         & 0.2666667 & 1.0000000\\\\\n",
       "\\end{tabular}\n"
      ],
      "text/markdown": [
       "\n",
       "| <!--/--> | P228196 | P229426 | P235262 | P247864 | P250361 | P250363 | P250364 | P250371 | P250736 | P253228 | ⋯ | P437074 | P447996 | P459216 | P459217 | P459218 | P459226 | P492330 | Q000001 | Q000039 | X100003 | \n",
       "|---|---|---|---|---|---|\n",
       "| P228096 | 1         | 1         | 1.0000000 | 0.6923077 | 1.0000000 | 1.0       | 0.9230769 | 1.0       | 1.0000000 | 1.0000000 | ⋯         | 1.0000000 | 1.0000000 | 1.0000000 | 0.9230769 | 0.7692308 | 1.0000000 | 1         | 1         | 0.5384615 | 1.0000000 | \n",
       "| P228196 | 0         | 1         | 1.0000000 | 0.7500000 | 1.0000000 | 1.0       | 1.0000000 | 1.0       | 1.0000000 | 1.0000000 | ⋯         | 1.0000000 | 0.8750000 | 1.0000000 | 1.0000000 | 1.0000000 | 1.0000000 | 1         | 1         | 0.3750000 | 1.0000000 | \n",
       "| P229426 | 0         | 0         | 0.7857143 | 0.9285714 | 1.0000000 | 1.0       | 1.0000000 | 1.0       | 1.0000000 | 1.0000000 | ⋯         | 1.0000000 | 0.9285714 | 0.8571429 | 1.0000000 | 1.0000000 | 1.0000000 | 1         | 1         | 0.5000000 | 1.0000000 | \n",
       "| P235262 | 0         | 0         | 0.0000000 | 0.6712329 | 1.0000000 | 1.0       | 0.9027778 | 0.8       | 1.0000000 | 0.8157895 | ⋯         | 0.9305556 | 0.8356164 | 0.4931507 | 0.8493151 | 0.9863014 | 0.7777778 | 1         | 1         | 0.3835616 | 0.8666667 | \n",
       "| P247864 | 0         | 0         | 0.0000000 | 0.0000000 | 0.5333333 | 0.5       | 0.8055556 | 0.7       | 0.9867841 | 0.5526316 | ⋯         | 0.7500000 | 0.8051948 | 0.6581197 | 0.6699029 | 0.7160494 | 0.5000000 | 1         | 1         | 0.4120000 | 0.7666667 | \n",
       "| P250361 | 0         | 0         | 0.0000000 | 0.0000000 | 0.0000000 | 1.0       | 1.0000000 | 1.0       | 1.0000000 | 1.0000000 | ⋯         | 0.7333333 | 1.0000000 | 1.0000000 | 1.0000000 | 0.8000000 | 1.0000000 | 1         | 1         | 0.2666667 | 1.0000000 | \n",
       "\n",
       "\n"
      ],
      "text/plain": [
       "        P228196 P229426 P235262   P247864   P250361   P250363 P250364   P250371\n",
       "P228096 1       1       1.0000000 0.6923077 1.0000000 1.0     0.9230769 1.0    \n",
       "P228196 0       1       1.0000000 0.7500000 1.0000000 1.0     1.0000000 1.0    \n",
       "P229426 0       0       0.7857143 0.9285714 1.0000000 1.0     1.0000000 1.0    \n",
       "P235262 0       0       0.0000000 0.6712329 1.0000000 1.0     0.9027778 0.8    \n",
       "P247864 0       0       0.0000000 0.0000000 0.5333333 0.5     0.8055556 0.7    \n",
       "P250361 0       0       0.0000000 0.0000000 0.0000000 1.0     1.0000000 1.0    \n",
       "        P250736   P253228   ⋯ P437074   P447996   P459216   P459217   P459218  \n",
       "P228096 1.0000000 1.0000000 ⋯ 1.0000000 1.0000000 1.0000000 0.9230769 0.7692308\n",
       "P228196 1.0000000 1.0000000 ⋯ 1.0000000 0.8750000 1.0000000 1.0000000 1.0000000\n",
       "P229426 1.0000000 1.0000000 ⋯ 1.0000000 0.9285714 0.8571429 1.0000000 1.0000000\n",
       "P235262 1.0000000 0.8157895 ⋯ 0.9305556 0.8356164 0.4931507 0.8493151 0.9863014\n",
       "P247864 0.9867841 0.5526316 ⋯ 0.7500000 0.8051948 0.6581197 0.6699029 0.7160494\n",
       "P250361 1.0000000 1.0000000 ⋯ 0.7333333 1.0000000 1.0000000 1.0000000 0.8000000\n",
       "        P459226   P492330 Q000001 Q000039   X100003  \n",
       "P228096 1.0000000 1       1       0.5384615 1.0000000\n",
       "P228196 1.0000000 1       1       0.3750000 1.0000000\n",
       "P229426 1.0000000 1       1       0.5000000 1.0000000\n",
       "P235262 0.7777778 1       1       0.3835616 0.8666667\n",
       "P247864 0.5000000 1       1       0.4120000 0.7666667\n",
       "P250361 1.0000000 1       1       0.2666667 1.0000000"
      ]
     },
     "metadata": {},
     "output_type": "display_data"
    }
   ],
   "source": [
    "# create distance matrix object\n",
    "library(reshape2, lib.loc = lib.dir)\n",
    "all_pairs_matrix = acast(all_pairs, doc1 ~ doc2, value.var='distance', fun.aggregate = sum, margins=FALSE)\n",
    "\n",
    "head(all_pairs_matrix)"
   ]
  },
  {
   "cell_type": "code",
   "execution_count": 44,
   "metadata": {
    "collapsed": false
   },
   "outputs": [
    {
     "data": {
      "text/html": [
       "0.993377483443709"
      ],
      "text/latex": [
       "0.993377483443709"
      ],
      "text/markdown": [
       "0.993377483443709"
      ],
      "text/plain": [
       "[1] 0.9933775"
      ]
     },
     "metadata": {},
     "output_type": "display_data"
    }
   ],
   "source": [
    "all_pairs_matrix[\"Q000001\",\"Q000039\"]"
   ]
  },
  {
   "cell_type": "code",
   "execution_count": 82,
   "metadata": {
    "collapsed": false
   },
   "outputs": [],
   "source": [
    "##remove document column from our dataframe (this information is also saved in the rownames)\n",
    "#dtm_df$document = NULL\n",
    "\n",
    "# create clusters\n",
    "# first transform the df to a matrix and then remove names \n",
    "# if the names aren't removed, you get a matrix full of zeros (???)\n",
    "all_pairs_matrix2 = data.matrix(all_pairs_matrix)\n",
    "clusters = hclust(dist(unname(all_pairs_matrix2)))\n",
    "\n",
    "# clusters <- hclust(dist(dtm_df))"
   ]
  },
  {
   "cell_type": "code",
   "execution_count": 90,
   "metadata": {
    "collapsed": false
   },
   "outputs": [
    {
     "name": "stdout",
     "output_type": "stream",
     "text": [
      "Class 'dist'  atomic [1:861] 1.16 1.61 2.08 2.5 2.26 ...\n",
      "  ..- attr(*, \"Size\")= int 42\n",
      "  ..- attr(*, \"Diag\")= logi FALSE\n",
      "  ..- attr(*, \"Upper\")= logi FALSE\n",
      "  ..- attr(*, \"method\")= chr \"euclidean\"\n",
      "  ..- attr(*, \"call\")= language dist(x = unname(all_pairs_matrix2))\n"
     ]
    }
   ],
   "source": [
    "str(dist(unname(all_pairs_matrix2)))"
   ]
  },
  {
   "cell_type": "code",
   "execution_count": 84,
   "metadata": {
    "collapsed": false
   },
   "outputs": [
    {
     "data": {},
     "metadata": {},
     "output_type": "display_data"
    },
    {
     "data": {
      "image/png": "[encoded data removed]",
      "text/plain": [
       "plot without title"
      ]
     },
     "metadata": {},
     "output_type": "display_data"
    }
   ],
   "source": [
    "ggdendrogram(clusters, rotate = TRUE)"
   ]
  },
  {
   "cell_type": "code",
   "execution_count": null,
   "metadata": {
    "collapsed": false
   },
   "outputs": [],
   "source": [
    "# Export plot to pdf\n",
    "pdf(\"../plots/dtm_dendrogram_binary_rm_rare_keep_outliers.pdf\")\n",
    "ggdendrogram(clusters, rotate = TRUE) + theme(axis.text.y = element_text(size = 4))\n",
    "dev.off()"
   ]
  },
  {
   "cell_type": "markdown",
   "metadata": {},
   "source": [
    "# Notes \n",
    "\n",
    "Dendrograms have some elements of stoichasticisity in them, so the plot may not be identical when run multiple times. This is why we do bootstraping to find the level of confidence we have in each node (split in the tree). \n",
    "\n",
    "I want to re-build the tree after removing entries that appear only once in the corpus and see if it makes sense. Is there a reason why we would or would not remove very rare entries?"
   ]
  },
  {
   "cell_type": "markdown",
   "metadata": {},
   "source": [
    "# Niek's Commentary\n",
    "The two texts that do not belong are [Q000001](http://oracc.org/dcclt/Q000001) and [P250736](http://oracc.org/dcclt/P250736). Both end up - together with [Q000039](http://oracc.org/dcclt/Q000039)! - in the bottom of the graph.\n",
    "\n",
    "# Erin's Note: \n",
    "When I built the tree, [P250736](http://oracc.org/dcclt/P250736) groups with [P271911](http://oracc.org/dcclt/P271911), then to [Q000039](http://oracc.org/dcclt/Q000039) and then to [Q000001](http://oracc.org/dcclt/Q000001). I'm worried that we have a problem with [long-branch attraction](https://en.wikipedia.org/wiki/Long_branch_attraction): all of the closely related documents at the bottom of the tree are the longest documents in the corpus. Long-branch attraction is a systematic problem in phylogenetics when two or more groups that are not closely related to anything else in the dataset (including each other) cluster together. In our case, this could be due to absolute length of the documents, or to the presence of many entries in long documents that don't occur in any of the other documents. \n",
    "\n",
    "Apparently we can test for long-branch attraction using the \"SAW\" method, discussed [here](https://en.wikipedia.org/wiki/Long_branch_attraction#Results).\n",
    "\n",
    "_________\n",
    "\n",
    "I ran the notebook again after removing rare entries (entries that only appear in one document). In both versions (with and without rare entries), [P235262](http://oracc.org/dcclt/P235262) and [P370399](http://oracc.org/dcclt/P370399) are sisters.\n",
    "\n",
    "Q000001 should be excluded from the step where we remove rare entries, as otherwise it has only 3 entries left and will not appear as an outlier, as it should.\n",
    "\n",
    "I'd like to also make a table of the number of entries shared between each document to give us an idea of the scale of variation we're seeing.\n",
    "\n",
    "\n",
    "\n",
    "__________\n",
    "\n",
    "# Niek's Commentary\n",
    "\n",
    "Two clusters of texts (9 documents) in the top of the graph seem to have little relation to each other:\n",
    "\n",
    "| text | period | provenience |\n",
    "|------|--------|-------------|\n",
    "|[P459218](http://oracc.org/dcclt/P459218)| OB | Isin |\n",
    "|[P250364](http://oracc.org/dcclt/P250364)| OB | unknown (Ur?) |\n",
    "|[P437074](http://oracc.org/dcclt/P437074)| MB | Hattuša |\n",
    "|[P253866](http://oracc.org/dcclt/P253866)| OB | unknown |\n",
    "|-------------------------------|----|---------|\n",
    "|[X100003](http://oracc.org/dcclt/X100003)| MB | Ibn Hani (Ugarit)|\n",
    "|[P432448](http://oracc.org/dcclt/P432448)| OB | unknown |\n",
    "|[P332939](http://oracc.org/dcclt/P332939)| MB | Ugarit|\n",
    "|[P253233](http://oracc.org/dcclt/P253233)| OB | unknown|\n",
    "|[P253228](http://oracc.org/dcclt/P253228)| OB | unknown|\n",
    "\n",
    "There are four texts that have the rare item *ne-gi-pu-um* also spelled *ne-ki-pu-um*, namely\n",
    "* [P247864](http://oracc.org/dcclt/P247864) from Šaduppum\n",
    "* [P273880](http://oracc.org/dcclt/P273880) unknown provenance\n",
    "* [P388265](http://oracc.org/dcclt/P388265) unknown provenance\n",
    "* [P347814](http://oracc.org/dcclt/P347814) unknown provenance\n",
    "\n",
    "In all these cases the word is preceded by an (equally rare) synonym *ka-ta-pu-um*. Both words are unknown in later lexical tradition.\n",
    "\n",
    "The four texts are more or less grouped towards the bottom of the graph - they are linked at a fairly high level (can we highlight them?)\n",
    "\n",
    "The category \"Isin\" is more or less meaningless. This includes some very short (3-line) texts that do not have much in common with each other (and overlap of max. three lines with the longer texts). The three longer texts include\n",
    "* [P459218](http://oracc.org/dcclt/P459218) second half of the list\n",
    "* [P459217](http://oracc.org/dcclt/P459217) first half of the list\n",
    "* [P459216](http://oracc.org/dcclt/P459216) first half of the list\n",
    "\n",
    "The first, predictably, does not correlate with the other two, but the last two do link. They are reasonably close to [P235262](http://oracc.org/dcclt/P235262)(KM 89542; unprovenanced), which seems to be closely related to the Isin tradition. In between the Isin texts. In between KM 89542 and the Isin texts are [P370399](http://oracc.org/dcclt/P370399) (unprovenanced) and [P271771](http://oracc.org/dcclt/P271771) (Emar). The Emar text is MB (all the others listed are OB), but belongs to the so-called \"Syrian\" tradition in Emar that is much closer to the OB tradition than other Emar texts. All these texts are of substantial length - it is possible that we have a real connection here.\n",
    "\n",
    "[P346714](http://oracc.org/dcclt/P346714) (from Ur) and [P250364](http://oracc.org/dcclt/P250364) (unprovenanced, tradition looks like Ur) end up at different ends of the graph.\n",
    "\n",
    "Texts from Ugarit and Ibn Hani and some from Emar are supposed to be closely related. Can we pull them out?\n",
    "\n",
    "Conclusions: very short texts do not yield interpretable results and can only be used if they have a rare item or rare spelling.\n",
    "The \"Isin\" group needs more research. Display heatmaps of smaller groups of texts?\n"
   ]
  },
  {
   "cell_type": "code",
   "execution_count": null,
   "metadata": {
    "collapsed": false
   },
   "outputs": [],
   "source": [
    "# Add colors to dendrogram by provenance\n",
    "numColors = length(levels(factor(metadata$provenience)))\n",
    "numColors\n",
    "\n",
    "getPalette = colorRampPalette(brewer.pal(10, \"Dark2\"))\n",
    "\n",
    "myPalette = getPalette(numColors)\n",
    "\n",
    "names(myPalette) = levels(factor(metadata$provenience))\n",
    "print(names(myPalette))\n",
    "show_col(myPalette)"
   ]
  },
  {
   "cell_type": "code",
   "execution_count": null,
   "metadata": {
    "collapsed": false
   },
   "outputs": [],
   "source": [
    "dtm_df$document = rownames(dtm_df)\n",
    "dtm_df = merge(dtm_df, metadata, by = \"document\")"
   ]
  },
  {
   "cell_type": "code",
   "execution_count": null,
   "metadata": {
    "collapsed": false
   },
   "outputs": [],
   "source": [
    "labelCol = function(x) {\n",
    "  if (is.leaf(x)) {\n",
    "    # fetch label\n",
    "    label = attr(x, \"label\")\n",
    "    # print(label)\n",
    "    group = metadata[which(metadata$document == label),\"provenience\"]\n",
    "    group_col = unname(myPalette[as.character(group)])\n",
    "#    attr(x, \"nodePar\") = list(lab.col = ifelse(label %in% c(\"A\", \"B\"), \"red\", \"blue\"))\n",
    "    attr(x, \"nodePar\") = list(lab.col = group_col)\n",
    "  }\n",
    "  return(x)\n",
    "}\n",
    "\n",
    "## apply labelCol on all nodes of the dendrogram\n",
    "par(cex=0.5)\n",
    "plot(dendrapply(as.dendrogram(clusters), labelCol))"
   ]
  },
  {
   "cell_type": "code",
   "execution_count": null,
   "metadata": {
    "collapsed": false
   },
   "outputs": [],
   "source": [
    "pdf(\"../plots/dendrogram_w_provenience.pdf\")\n",
    "par(cex=0.3)\n",
    "plot(dendrapply(as.dendrogram(clusters), labelCol))\n",
    "dev.off()"
   ]
  },
  {
   "cell_type": "code",
   "execution_count": null,
   "metadata": {
    "collapsed": false
   },
   "outputs": [],
   "source": [
    "# Add colors to dendrogram by period\n",
    "numColors = length(levels(factor(metadata$period)))\n",
    "numColors\n",
    "myPalette = brewer_pal(palette = \"Paired\")(numColors)\n",
    "names(myPalette) = levels(factor(metadata$period))\n",
    "print(names(myPalette))\n",
    "show_col(myPalette)"
   ]
  },
  {
   "cell_type": "code",
   "execution_count": null,
   "metadata": {
    "collapsed": false
   },
   "outputs": [],
   "source": [
    "labelCol = function(x) {\n",
    "  if (is.leaf(x)) {\n",
    "    # fetch label\n",
    "    label = attr(x, \"label\")\n",
    "    # print(label)\n",
    "    group = metadata[which(metadata$document == label),\"period\"]\n",
    "    group_col = unname(myPalette[as.character(group)])\n",
    "    attr(x, \"nodePar\") = list(lab.col = group_col)\n",
    "  }\n",
    "  return(x)\n",
    "}\n",
    "\n",
    "## apply labelCol on all nodes of the dendrogram\n",
    "par(cex=0.5)\n",
    "plot(dendrapply(as.dendrogram(clusters), labelCol))"
   ]
  },
  {
   "cell_type": "code",
   "execution_count": null,
   "metadata": {
    "collapsed": false
   },
   "outputs": [],
   "source": [
    "pdf(\"../plots/dendrogram_w_period.pdf\")\n",
    "par(cex=0.3)\n",
    "plot(dendrapply(as.dendrogram(clusters), labelCol))\n",
    "dev.off()"
   ]
  },
  {
   "cell_type": "code",
   "execution_count": null,
   "metadata": {
    "collapsed": true
   },
   "outputs": [],
   "source": []
  }
 ],
 "metadata": {
  "anaconda-cloud": {},
  "kernelspec": {
   "display_name": "R",
   "language": "R",
   "name": "ir"
  },
  "language_info": {
   "codemirror_mode": "r",
   "file_extension": ".r",
   "mimetype": "text/x-r-source",
   "name": "R",
   "pygments_lexer": "r",
   "version": "3.3.2"
  }
 },
 "nbformat": 4,
 "nbformat_minor": 2
}
