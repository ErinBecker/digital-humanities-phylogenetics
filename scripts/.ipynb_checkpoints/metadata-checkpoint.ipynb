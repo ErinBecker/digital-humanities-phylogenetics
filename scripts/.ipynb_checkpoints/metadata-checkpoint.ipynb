{
 "cells": [
  {
   "cell_type": "code",
   "execution_count": null,
   "metadata": {
    "collapsed": false
   },
   "outputs": [],
   "source": [
    "import pandas as pd\n",
    "import json\n",
    "import urllib.request"
   ]
  },
  {
   "cell_type": "markdown",
   "metadata": {},
   "source": [
    "# ORACC Metadata\n",
    "Metadata of an [ORACC](http://oracc.org) project may be retrieved in JSON format at the address `http://oracc.museum.upenn.edu/PROJECT/metadata.json` (replace `PROJECT` by the appropriate project abbraviation, for instance `dcclt`).\n",
    "\n",
    "The code below loads the data from a local (downloaded) file. Alternatively, one may download and read the latest version of the metadata directly from the site by using the code that is now commented out. Note that the one method needs the function `json.load()` (for files), the other `json.loads()` (for strings). The argument `strict=False` takes care of a control character that may be found in [ORACC](http://oracc.org) catalogs.\n",
    "\n",
    "The library `urllib.request` requires Python 3. The equivalent in Python 2 is `urllib2`."
   ]
  },
  {
   "cell_type": "code",
   "execution_count": null,
   "metadata": {
    "collapsed": false
   },
   "outputs": [],
   "source": [
    "#url = 'http://oracc.museum.upenn.edu/dcclt/metadata.json'\n",
    "#d = urllib.request.urlopen(url).read().decode('utf8')\n",
    "#data = json.loads(d, strict=False)\n",
    "filename = \"../data/metadata/metadata.json\"\n",
    "with open(filename, 'r') as f:\n",
    "    data=json.load(f, strict=False)"
   ]
  },
  {
   "cell_type": "markdown",
   "metadata": {},
   "source": [
    "# Pandas DataFrame\n",
    "The JSON file is imported into a Pandas DataFrame. The field `catalogue` contains all the catalog data - other fields include elements of the `config.xml` file that are not relevant here. `Catalogue` is a Python dictionary (or rather a list of dictionaries) - the keys are transformed here into rows of a DataFrame. The function `.T` transposes the DataFrame so that each key becomes a column. The line\n",
    "\n",
    "> `list(df.columns.values)`\n",
    "\n",
    "produces a list of the available fields. Most of these fields are [CDLI](http://cdli.ucla.edu) fields, but the catalog may also include project specific ones."
   ]
  },
  {
   "cell_type": "code",
   "execution_count": null,
   "metadata": {
    "collapsed": false
   },
   "outputs": [],
   "source": [
    "df=pd.DataFrame(data['catalogue']).T\n",
    "list(df.columns.values)"
   ]
  },
  {
   "cell_type": "markdown",
   "metadata": {},
   "source": [
    "# Select Relevant Fields\n",
    "The current code selects the fields `designation`, `period`, and `provenience` - adjust the code to select any other combination of fields.\n",
    "\n",
    "Not all fields are available for each record. `Pandas` will note a missing value with `NaN` (Not a Number). The function `fillna()` changes this into the string `not entered`."
   ]
  },
  {
   "cell_type": "code",
   "execution_count": null,
   "metadata": {
    "collapsed": false
   },
   "outputs": [],
   "source": [
    "relevant_fields = ['designation', 'period', 'provenience'] \n",
    "df = df[relevant_fields]\n",
    "df = df.fillna(value='not entered')\n",
    "df"
   ]
  },
  {
   "cell_type": "code",
   "execution_count": null,
   "metadata": {
    "collapsed": true
   },
   "outputs": [],
   "source": []
  }
 ],
 "metadata": {
  "anaconda-cloud": {},
  "kernelspec": {
   "display_name": "Python [default]",
   "language": "python",
   "name": "python3"
  },
  "language_info": {
   "codemirror_mode": {
    "name": "ipython",
    "version": 3
   },
   "file_extension": ".py",
   "mimetype": "text/x-python",
   "name": "python",
   "nbconvert_exporter": "python",
   "pygments_lexer": "ipython3",
   "version": "3.5.2"
  }
 },
 "nbformat": 4,
 "nbformat_minor": 2
}
