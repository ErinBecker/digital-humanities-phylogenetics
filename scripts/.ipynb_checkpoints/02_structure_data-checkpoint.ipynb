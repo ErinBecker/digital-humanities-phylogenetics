{
 "cells": [
  {
   "cell_type": "markdown",
   "metadata": {},
   "source": [
    "# Introduction to dataset and data structure\n",
    "\n",
    "This notebook uses data from the Digital Corpus of Cuneiform Lexical Texts ([DCCLT](http://oracc.org/dcclt)) derived from parsed JSON files. For the JSON output from the Open Richly Annotated Cuneiform Corpus ([ORACC](http://oracc.org)) see the [ORACC Open Data documentation](http://oracc.museum.upenn.edu/doc/opendata/index.html).  \n",
    "\n",
    "The JSON files are parsed with the notebook [01_grab_json.ipynb](https://github.com/ErinBecker/digital-humanities-phylogenetics/blob/master/scripts/01_grab_json.ipynb). Output from that notebook is saved in the `../data/raw` directory.\n",
    "\n",
    "This notebook takes an input file from the `../data/raw` directory. The input file for our analyses is [Q39_par.csv](https://github.com/ErinBecker/digital-humanities-phylogenetics/blob/master/data/raw/Q39_par.csv), but we provide other texts in `../data/raw` to use for comparative analyses.\n",
    "\n",
    "The input file lists Text IDs of Old Babylonian and Middle Babylonian lists of trees and wooden objects currently in [DCCLT](http://oracc.org/dcclt), as well as the composite text of the [Nippur version](http://oracc.org/Q000039). Text IDs consist of a P plus a six-digit number (commonly referred to as P-number) that is recognized by [ORACC](http://oracc.org) and by the Cuneiform Digital Library Initiative ([CDLI](http://cdli.ucla.edu)) and that has become the de-facto standard in Assyriology. [CDLI](http://cdli.ucla.edu) provides metadata (provenience, period, publication, museum number, etc) for each text. Composite text IDs consist of a Q plus a six-digit number (for instance Q000039). Texts that have not (yet) been cataloged in [CDLI](http://cdli.ucla.edu) receive a (temporary) six-digit X number.\n",
    "\n",
    "The output from this notebook is placed in the directory [data/pass](https://github.com/ErinBecker/digital-humanities-phylogenetics/tree/master/data/pass). The output is a comma-separated file with the following fields: \n",
    "\n",
    "| field         | description                     |\n",
    "|-----------\t|------------------------------------------------------------------------------------------------------------------------------------------------------\t|\n",
    "| id_line   \t| consists of a text ID (P, Q, or X number) plus a reference number \t|\n",
    "| label \t| line number: obverse/reverse, column number, line number (e.g. o ii 16')                                                          \t|\n",
    "| lemma      \t| Sumerian words in lemmatized form (e.g. lugal[king]N); for unlemmatized words the raw transliteration is taken                                                                                  \t|\n",
    "| base      \t| Sumerian words in original spelling, but without morphological prefixes or suffixes   |\n",
    "| extent | (for missing data): how many lines or columns (restricted vocabulary) are missing|\n",
    "| scope | (for missing data): what is missing - line, column, face, or surface (restricted vocabulary) |\n",
    "\n",
    "There are various types of missing data, represented in different ways. A word that is present, but not lemmatized is represented in its transliterated form, followed by [NA]NA (that is: Guideword and part of speech (POS) are both NA). Words that are partly or entirely illegible on the original document are by definition unlemmatized and are handled the same way.\n",
    "\n",
    "Lines or multiple lines that are missing are indicated in the fields `extent` and `scope`. `Extent` gives the number of missing lines (or missing columns, etc). The restricted vocabulary includes numbers and the words 'n' (unknown), 'beginning', and 'rest'. `Scope` indicates the scope of the missing text: line, column, obverse, etc.\n",
    "\n",
    "| type         | how represented                     |\n",
    "|-----------\t|------------------------------------------------------------------------------------------------------------------------------------------------------\t|\n",
    "| words with unknown lemmatization| siki-siki[NA]NA |\n",
    "| illegible words | x[NA]NA |\n",
    "| known number of missing lines \t|extent: '5' scope: 'line' |\n",
    "| unknown number of missing lines\t|extent: 'n' scope: 'line |\n",
    "| two missing columns  | extent: '2' scope: 'column'|\n",
    "  \n"
   ]
  },
  {
   "cell_type": "code",
   "execution_count": 1,
   "metadata": {
    "collapsed": true
   },
   "outputs": [],
   "source": [
    "import pandas as pd\n",
    "import numpy as np"
   ]
  },
  {
   "cell_type": "markdown",
   "metadata": {},
   "source": [
    "# Reading in and structuring the data\n",
    "\n",
    "Choose a file (from the `csv` files in `data/raw`) and create a Dataframe in Pandas. Note that the field `extent` has to be read as string (not float); this is dealt with with the argument `dtype={'extent': object}`. See [stackoverflow](http://stackoverflow.com/questions/13293810/import-pandas-dataframe-column-as-string-not-int)."
   ]
  },
  {
   "cell_type": "code",
   "execution_count": 2,
   "metadata": {
    "collapsed": false
   },
   "outputs": [
    {
     "name": "stdout",
     "output_type": "stream",
     "text": [
      "Filename: Q39_par.csv\n"
     ]
    }
   ],
   "source": [
    "filename = input('Filename: ')"
   ]
  },
  {
   "cell_type": "code",
   "execution_count": 3,
   "metadata": {
    "collapsed": false
   },
   "outputs": [],
   "source": [
    "file = '../data/raw/' + filename\n",
    "df = pd.read_csv(file, dtype={'extent': object})"
   ]
  },
  {
   "cell_type": "code",
   "execution_count": 4,
   "metadata": {
    "collapsed": false
   },
   "outputs": [
    {
     "data": {
      "text/html": [
       "<div>\n",
       "<table border=\"1\" class=\"dataframe\">\n",
       "  <thead>\n",
       "    <tr style=\"text-align: right;\">\n",
       "      <th></th>\n",
       "      <th>id_text</th>\n",
       "      <th>id_line</th>\n",
       "      <th>label</th>\n",
       "      <th>lemma</th>\n",
       "      <th>base</th>\n",
       "      <th>extent</th>\n",
       "      <th>scope</th>\n",
       "    </tr>\n",
       "  </thead>\n",
       "  <tbody>\n",
       "    <tr>\n",
       "      <th>0</th>\n",
       "      <td>P224980</td>\n",
       "      <td>4</td>\n",
       "      <td>o i 1</td>\n",
       "      <td>gigir[chariot]N</td>\n",
       "      <td>{ŋeš}gigir</td>\n",
       "      <td>NaN</td>\n",
       "      <td>NaN</td>\n",
       "    </tr>\n",
       "    <tr>\n",
       "      <th>1</th>\n",
       "      <td>P224980</td>\n",
       "      <td>5</td>\n",
       "      <td>o i 2</td>\n",
       "      <td>e[house]N gigir[chariot]N</td>\n",
       "      <td>{ŋeš}e₂ gigir</td>\n",
       "      <td>NaN</td>\n",
       "      <td>NaN</td>\n",
       "    </tr>\n",
       "    <tr>\n",
       "      <th>2</th>\n",
       "      <td>P224980</td>\n",
       "      <td>6</td>\n",
       "      <td>o i 3</td>\n",
       "      <td>e[house]N usan[whip]N gigir[chariot]N</td>\n",
       "      <td>{ŋeš}e₂ usan₃ gigir</td>\n",
       "      <td>NaN</td>\n",
       "      <td>NaN</td>\n",
       "    </tr>\n",
       "    <tr>\n",
       "      <th>3</th>\n",
       "      <td>P224986</td>\n",
       "      <td>4</td>\n",
       "      <td>o i 1</td>\n",
       "      <td>guza[chair]N anše[equid]N</td>\n",
       "      <td>{ŋeš}gu-za anše</td>\n",
       "      <td>NaN</td>\n",
       "      <td>NaN</td>\n",
       "    </tr>\n",
       "    <tr>\n",
       "      <th>4</th>\n",
       "      <td>P224986</td>\n",
       "      <td>5</td>\n",
       "      <td>o i 2</td>\n",
       "      <td>guza[chair]N kaskal[way]N</td>\n",
       "      <td>{ŋeš}gu-za kaskal</td>\n",
       "      <td>NaN</td>\n",
       "      <td>NaN</td>\n",
       "    </tr>\n",
       "  </tbody>\n",
       "</table>\n",
       "</div>"
      ],
      "text/plain": [
       "   id_text  id_line  label                                  lemma  \\\n",
       "0  P224980        4  o i 1                        gigir[chariot]N   \n",
       "1  P224980        5  o i 2              e[house]N gigir[chariot]N   \n",
       "2  P224980        6  o i 3  e[house]N usan[whip]N gigir[chariot]N   \n",
       "3  P224986        4  o i 1              guza[chair]N anše[equid]N   \n",
       "4  P224986        5  o i 2              guza[chair]N kaskal[way]N   \n",
       "\n",
       "                  base extent scope  \n",
       "0           {ŋeš}gigir    NaN   NaN  \n",
       "1        {ŋeš}e₂ gigir    NaN   NaN  \n",
       "2  {ŋeš}e₂ usan₃ gigir    NaN   NaN  \n",
       "3      {ŋeš}gu-za anše    NaN   NaN  \n",
       "4    {ŋeš}gu-za kaskal    NaN   NaN  "
      ]
     },
     "execution_count": 4,
     "metadata": {},
     "output_type": "execute_result"
    }
   ],
   "source": [
    "df.head()"
   ]
  },
  {
   "cell_type": "markdown",
   "metadata": {},
   "source": [
    "## The `skip` variable\n",
    "\n",
    "The variable `skip` is used to compute the distance between two lines in the data set. If a line has data (in `label`, `lemma`, and `base`) `skip` = 0. If, however, the original text has 5 missing lines, there will be a separate row, where `skip` is 5. If there is a gap in the text of unknown length, `skip` will be NaN.\n",
    "\n",
    "The `skip` variable works as follows (simplified data representation):\n",
    "\n",
    "|`label` | `lemma` | `skip` | `line`\n",
    "|--------|----------|--------|------|\n",
    "| o ii 4 | gigir[chariot]N    | 0| 43 |\n",
    "| o ii 5 | sahargi[dustguard]N gigir[chariot]N | 0| 44 |\n",
    "| NaN     | NAN     | 5 | 45 |\n",
    "| o ii 11 | margida[wagon]N | 0| 46 |\n",
    "\n",
    "\n",
    "The distance between the `margida[wagon]N` line and the `gigir[chariot]N` line is 7 (`line`₂ - `line`₁ + `skip`₁:₂ -1).\n",
    "\n",
    "The variable `skip` is computed from the [ORACC](http://oracc.org) variables `extent` and `scope`, which are part of the so-called \\$-line conventions. These conventions are explained in more detail [here](http://oracc.org/doc/help/editinginatf/primer/structuretutorial). A 'strict' \\$-line uses a limited vocabulary to describe the preservation or state of the object on which the text is written. Examples of strict \\$-lines are:,\n",
    "* \\$ beginning of column missing\n",
    "* \\$ 7 lines traces\n",
    "\n",
    "In these examples '7' and 'beginning' are the `extent`; 'column' and 'line' are `scope` ('missing' and 'traces' are `state`. The variable 'state' is ignored here - treating 'missing', 'broken', 'traces', etc. all as absence of data).\n",
    "\n",
    "If lines are missing the `extent` variable will indicate the number of missing lines or columns. A line with data has `extent` NaN.\n",
    "\n",
    "The variable `skip` is computed as follows:\n",
    "\n",
    "* if the line has data (in `label`, `lemma`, and `base`) `skip` = 0\n",
    "* if `scope` == 'column', or anything other than 'line', `skip` = NaN\n",
    "* if `extent` is a digit, `skip` is the integer version of that digit\n",
    "* if `extent` is 'n' or 'beginning' (or anything other than a digit), `skip` = NaN\n",
    "\n",
    "Because NaN cannot be used in a column of integers, `skip` will become a float."
   ]
  },
  {
   "cell_type": "code",
   "execution_count": 5,
   "metadata": {
    "collapsed": false
   },
   "outputs": [],
   "source": [
    "df.extent = df.extent.fillna('0')\n",
    "df['skip'] = [int(n) if n.isdigit() else np.NaN for n in df.extent]"
   ]
  },
  {
   "cell_type": "markdown",
   "metadata": {},
   "source": [
    "The variable `scope` may include 'line', 'column', 'obverse', etc. Only if scope is `line` the variable 'extent' is meaningful (if, say, 2 columns are missing, 'extent' is '2' but should be NaN because we do not know how many lines those 2 columns represent). If `scope` is NaN `extent` is '0' and should remain so. After this operation the column 'scope' can be dropped."
   ]
  },
  {
   "cell_type": "code",
   "execution_count": 6,
   "metadata": {
    "collapsed": false
   },
   "outputs": [
    {
     "data": {
      "text/html": [
       "<div>\n",
       "<table border=\"1\" class=\"dataframe\">\n",
       "  <thead>\n",
       "    <tr style=\"text-align: right;\">\n",
       "      <th></th>\n",
       "      <th>id_text</th>\n",
       "      <th>id_line</th>\n",
       "      <th>label</th>\n",
       "      <th>lemma</th>\n",
       "      <th>base</th>\n",
       "      <th>skip</th>\n",
       "    </tr>\n",
       "  </thead>\n",
       "  <tbody>\n",
       "    <tr>\n",
       "      <th>0</th>\n",
       "      <td>P224980</td>\n",
       "      <td>4</td>\n",
       "      <td>o i 1</td>\n",
       "      <td>gigir[chariot]N</td>\n",
       "      <td>{ŋeš}gigir</td>\n",
       "      <td>0.0</td>\n",
       "    </tr>\n",
       "    <tr>\n",
       "      <th>1</th>\n",
       "      <td>P224980</td>\n",
       "      <td>5</td>\n",
       "      <td>o i 2</td>\n",
       "      <td>e[house]N gigir[chariot]N</td>\n",
       "      <td>{ŋeš}e₂ gigir</td>\n",
       "      <td>0.0</td>\n",
       "    </tr>\n",
       "    <tr>\n",
       "      <th>2</th>\n",
       "      <td>P224980</td>\n",
       "      <td>6</td>\n",
       "      <td>o i 3</td>\n",
       "      <td>e[house]N usan[whip]N gigir[chariot]N</td>\n",
       "      <td>{ŋeš}e₂ usan₃ gigir</td>\n",
       "      <td>0.0</td>\n",
       "    </tr>\n",
       "    <tr>\n",
       "      <th>3</th>\n",
       "      <td>P224986</td>\n",
       "      <td>4</td>\n",
       "      <td>o i 1</td>\n",
       "      <td>guza[chair]N anše[equid]N</td>\n",
       "      <td>{ŋeš}gu-za anše</td>\n",
       "      <td>0.0</td>\n",
       "    </tr>\n",
       "    <tr>\n",
       "      <th>4</th>\n",
       "      <td>P224986</td>\n",
       "      <td>5</td>\n",
       "      <td>o i 2</td>\n",
       "      <td>guza[chair]N kaskal[way]N</td>\n",
       "      <td>{ŋeš}gu-za kaskal</td>\n",
       "      <td>0.0</td>\n",
       "    </tr>\n",
       "  </tbody>\n",
       "</table>\n",
       "</div>"
      ],
      "text/plain": [
       "   id_text  id_line  label                                  lemma  \\\n",
       "0  P224980        4  o i 1                        gigir[chariot]N   \n",
       "1  P224980        5  o i 2              e[house]N gigir[chariot]N   \n",
       "2  P224980        6  o i 3  e[house]N usan[whip]N gigir[chariot]N   \n",
       "3  P224986        4  o i 1              guza[chair]N anše[equid]N   \n",
       "4  P224986        5  o i 2              guza[chair]N kaskal[way]N   \n",
       "\n",
       "                  base  skip  \n",
       "0           {ŋeš}gigir   0.0  \n",
       "1        {ŋeš}e₂ gigir   0.0  \n",
       "2  {ŋeš}e₂ usan₃ gigir   0.0  \n",
       "3      {ŋeš}gu-za anše   0.0  \n",
       "4    {ŋeš}gu-za kaskal   0.0  "
      ]
     },
     "execution_count": 6,
     "metadata": {},
     "output_type": "execute_result"
    }
   ],
   "source": [
    "df.skip = [df.skip[i] if df.scope[i] in ['line', np.NaN] else np.NaN for i in range(len(df))] \n",
    "df = df.drop(['scope', 'extent'], axis=1)\n",
    "df.head()"
   ]
  },
  {
   "cell_type": "markdown",
   "metadata": {},
   "source": [
    "## Create Expressions\n",
    "A line in a lexical text may contain more than one word. Usually a list is divided into sections by keyword, for instance:\n",
    "\n",
    "| text                \t| translation                      \t|\n",
    "|---------------------\t|----------------------------------\t|\n",
    "| {ŋeš}gigir          \t| chariot                          \t|\n",
    "| {ŋeš}e₂ gigir       \t| chariot cabin                    \t|\n",
    "| {ŋeš}e₂ usan₃ gigir \t| storage box for the chariot whip \t|\n",
    "| {ŋeš}gaba gigir     \t| breastwork of a chariot          \t|\n",
    "\n",
    "In the comparison between different versions of the list the individual words are less interesting than the *entries*, that is: the sequence of words in a single line. In order to look at entries (rather than words), words in an entry are connected by underscores (_)."
   ]
  },
  {
   "cell_type": "code",
   "execution_count": 7,
   "metadata": {
    "collapsed": false
   },
   "outputs": [
    {
     "data": {
      "text/html": [
       "<div>\n",
       "<table border=\"1\" class=\"dataframe\">\n",
       "  <thead>\n",
       "    <tr style=\"text-align: right;\">\n",
       "      <th></th>\n",
       "      <th>id_text</th>\n",
       "      <th>id_line</th>\n",
       "      <th>label</th>\n",
       "      <th>lemma</th>\n",
       "      <th>base</th>\n",
       "      <th>skip</th>\n",
       "      <th>entry</th>\n",
       "    </tr>\n",
       "  </thead>\n",
       "  <tbody>\n",
       "    <tr>\n",
       "      <th>0</th>\n",
       "      <td>P224980</td>\n",
       "      <td>4</td>\n",
       "      <td>o i 1</td>\n",
       "      <td>gigir[chariot]N</td>\n",
       "      <td>{ŋeš}gigir</td>\n",
       "      <td>0.0</td>\n",
       "      <td>gigir[chariot]N</td>\n",
       "    </tr>\n",
       "    <tr>\n",
       "      <th>1</th>\n",
       "      <td>P224980</td>\n",
       "      <td>5</td>\n",
       "      <td>o i 2</td>\n",
       "      <td>e[house]N gigir[chariot]N</td>\n",
       "      <td>{ŋeš}e₂ gigir</td>\n",
       "      <td>0.0</td>\n",
       "      <td>e[house]N_gigir[chariot]N</td>\n",
       "    </tr>\n",
       "    <tr>\n",
       "      <th>2</th>\n",
       "      <td>P224980</td>\n",
       "      <td>6</td>\n",
       "      <td>o i 3</td>\n",
       "      <td>e[house]N usan[whip]N gigir[chariot]N</td>\n",
       "      <td>{ŋeš}e₂ usan₃ gigir</td>\n",
       "      <td>0.0</td>\n",
       "      <td>e[house]N_usan[whip]N_gigir[chariot]N</td>\n",
       "    </tr>\n",
       "    <tr>\n",
       "      <th>3</th>\n",
       "      <td>P224986</td>\n",
       "      <td>4</td>\n",
       "      <td>o i 1</td>\n",
       "      <td>guza[chair]N anše[equid]N</td>\n",
       "      <td>{ŋeš}gu-za anše</td>\n",
       "      <td>0.0</td>\n",
       "      <td>guza[chair]N_anše[equid]N</td>\n",
       "    </tr>\n",
       "    <tr>\n",
       "      <th>4</th>\n",
       "      <td>P224986</td>\n",
       "      <td>5</td>\n",
       "      <td>o i 2</td>\n",
       "      <td>guza[chair]N kaskal[way]N</td>\n",
       "      <td>{ŋeš}gu-za kaskal</td>\n",
       "      <td>0.0</td>\n",
       "      <td>guza[chair]N_kaskal[way]N</td>\n",
       "    </tr>\n",
       "  </tbody>\n",
       "</table>\n",
       "</div>"
      ],
      "text/plain": [
       "   id_text  id_line  label                                  lemma  \\\n",
       "0  P224980        4  o i 1                        gigir[chariot]N   \n",
       "1  P224980        5  o i 2              e[house]N gigir[chariot]N   \n",
       "2  P224980        6  o i 3  e[house]N usan[whip]N gigir[chariot]N   \n",
       "3  P224986        4  o i 1              guza[chair]N anše[equid]N   \n",
       "4  P224986        5  o i 2              guza[chair]N kaskal[way]N   \n",
       "\n",
       "                  base  skip                                  entry  \n",
       "0           {ŋeš}gigir   0.0                        gigir[chariot]N  \n",
       "1        {ŋeš}e₂ gigir   0.0              e[house]N_gigir[chariot]N  \n",
       "2  {ŋeš}e₂ usan₃ gigir   0.0  e[house]N_usan[whip]N_gigir[chariot]N  \n",
       "3      {ŋeš}gu-za anše   0.0              guza[chair]N_anše[equid]N  \n",
       "4    {ŋeš}gu-za kaskal   0.0              guza[chair]N_kaskal[way]N  "
      ]
     },
     "execution_count": 7,
     "metadata": {},
     "output_type": "execute_result"
    }
   ],
   "source": [
    "df['entry'] = df['lemma'].str.replace(' ', '_')\n",
    "df.head()"
   ]
  },
  {
   "cell_type": "markdown",
   "metadata": {},
   "source": [
    "### Passing data to R\n",
    "\n",
    "The first step in passing our data from Python to R is converting the Python null value (`NaN`) to the R null value (`NA`). We do this by converting all `NaN` values in character/string columns to the intermediate value `unknown` and all `NaN` values in our numeric `skip` column to the intermediate value `999`.\n",
    "\n",
    "We will then convert both of these values to `NA` after passing the data to R.\n",
    "\n",
    "The directory `data/pass` is used for passing data from Python to R and vv."
   ]
  },
  {
   "cell_type": "code",
   "execution_count": 8,
   "metadata": {
    "collapsed": false
   },
   "outputs": [],
   "source": [
    "df.skip = df.skip.fillna(999)\n",
    "df = df.fillna('unknown')\n",
    "df.to_csv(\"../data/pass/\" + filename, index=False)"
   ]
  },
  {
   "cell_type": "code",
   "execution_count": null,
   "metadata": {
    "collapsed": true
   },
   "outputs": [],
   "source": []
  }
 ],
 "metadata": {
  "anaconda-cloud": {},
  "kernelspec": {
   "display_name": "Python 3",
   "language": "python",
   "name": "python3"
  },
  "language_info": {
   "codemirror_mode": {
    "name": "ipython",
    "version": 3
   },
   "file_extension": ".py",
   "mimetype": "text/x-python",
   "name": "python",
   "nbconvert_exporter": "python",
   "pygments_lexer": "ipython3",
   "version": "3.6.0"
  }
 },
 "nbformat": 4,
 "nbformat_minor": 2
}
