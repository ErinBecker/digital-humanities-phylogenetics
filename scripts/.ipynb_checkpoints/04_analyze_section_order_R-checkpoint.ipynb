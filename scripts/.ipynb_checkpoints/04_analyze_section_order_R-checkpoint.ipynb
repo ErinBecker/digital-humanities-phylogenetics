{
 "cells": [
  {
   "cell_type": "markdown",
   "metadata": {},
   "source": [
    "### To Do:\n",
    "- Incorporate \"top\" and \"bottom\" of documents where known.\n",
    "- Implement Niek's method for comparing sections that appear multiple times within a document. \n",
    "- Add outlier texts. \n",
    "- Exclude sections that are \"garbage\" sections (X.1, X.2). (But check that these are garbage first.)\n",
    "- Incorporate items from Q text that were not assigned to sections - add these to the section preceding the item.\n",
    "- Incorporate provenience and period in output. \n",
    "- Fix issue that very short documents (eg 2 sections) have low self-self SI."
   ]
  },
  {
   "cell_type": "markdown",
   "metadata": {
    "collapsed": false
   },
   "source": [
    "# Section order\n",
    "\n",
    "Here we analyze document similarity/difference from one another based on the degree of shared order of sections within a document. Sections are defined in 03_define_sections_R. \n",
    "\n",
    "Our approach is based on the idea of *synteny* from the field of genomics. Two (or more) genes are said to have a synteny if those genes are found in proximity across a set of genomes. The degree of synteny is proportional to the frequency with which genes are colocalized and the evolutionary distance of organisms in which that colocalization occurs.  \n",
    "\n",
    "A genome wide *synteny index* between a pair of genomes can be defined by calculating the *synteny* for all gene shared between that genome pair.\n",
    "\n",
    "Reference: ~/resources/biology/gene-order-phylogenetics/Ordered-orthology-as-a-tool-in-prokaryotic-evolutionary-inference.pdf\n",
    "\n",
    "For this analysis, **genes** are equivalent to **sections** (not **entries**) and **genomes** are equivalent to **documents**.  \n",
    "\n",
    "### Limitations/Issues: \n",
    "- SI is only defined for sections shared between two documents. If there is no overlap in sections, the genome-wide SI is 0. Short documents will tend to have extremes of SI, either 1 (all sections shared) or 0 (no sections shared). \n",
    "    - That's ok and makes sense.\n",
    "- Need to set a reasonable value for `k` by trial and error. This may also depend on the distribution of document lengths across our corpus. \n",
    "    - Try 2,3,5 or 7 and see what makes sense.\n",
    "- This method was developed for microbial genomes, which are usually circular. For our purposes, we will need to decide how to treat sections that occur within `k` of the beginning or end of a document.\n",
    "    - Idea: add a section called \"top\" and one called \"bottom\" when known to a document. Treat these as sections in the SI calculations.\n",
    "- Is the document wide SI the average of all shared sections SIs or are non-shared sections counted? \n",
    "    - Answer: Don't count non-shared sections.\n",
    "    - All of our documents are broken. Usually don't know whether a section was originally present in the non-broken document. (Difference because something missing because of sample and something truly missing.) \n",
    "- When a section appears multiple times in a document, how to deal with this? (Analogy in genomics is repeated genes.)\n",
    "    - How common is this? \n",
    "- When two sections are flipped in order, this method wouldn't notice (unless the documents are relatively long compared to k). Do we want it to?\n",
    "- Throw in a handful of outliers (documents from other list types).\n",
    "\n",
    "### Steps: \n",
    "- Determine order of sections within each document in corpus.  \n",
    "- Provisionally set `k` to some low number (2?).\n",
    "- For each document pair:\n",
    "    - Define the intersection of sections present in that pair.\n",
    "    - For each section in the intersection, count the number of shared sections in the k-neighborhood between the two documents.\n",
    "- Calculate document wide SI = average SI for all sections present in both documents (don't include unshared sections in calculation).\n",
    "- Distance = 1 - document wide SI for any document pair\n",
    "- Calculate a tree from the distance matrix\n",
    "\n"
   ]
  },
  {
   "cell_type": "markdown",
   "metadata": {},
   "source": [
    "## Read in section definitions\n",
    "Sections were defined in (previous notebook link) and are read in from file here."
   ]
  },
  {
   "cell_type": "code",
   "execution_count": 1,
   "metadata": {
    "collapsed": false
   },
   "outputs": [],
   "source": [
    "setwd(\"../data/sections/\")\n",
    "\n",
    "Q1_sections = read.csv(\"Q01_sections.csv\", stringsAsFactors = FALSE)\n",
    "Q39_sections = read.csv(\"Q39_sections.csv\", stringsAsFactors = FALSE)\n",
    "Q40_sections = read.csv(\"Q40_sections.csv\", stringsAsFactors = FALSE)\n",
    "Q41_sections = read.csv(\"Q41_sections.csv\", stringsAsFactors = FALSE)\n",
    "Q42_sections = read.csv(\"Q42_sections.csv\", stringsAsFactors = FALSE)"
   ]
  },
  {
   "cell_type": "code",
   "execution_count": 111,
   "metadata": {
    "collapsed": false
   },
   "outputs": [
    {
     "data": {
      "text/html": [
       "<table>\n",
       "<thead><tr><th scope=col>X.1</th><th scope=col>X.2</th><th scope=col>X.3</th><th scope=col>X1</th><th scope=col>X1.1</th><th scope=col>X.4</th><th scope=col>X.5</th><th scope=col>X.6</th></tr></thead>\n",
       "<tbody>\n",
       "\t<tr><td>{ŋeš}x-gu₂[na]na                </td><td>{ŋeš}u₅[na]na                   </td><td>{ŋeš}hub₂[na]na                 </td><td>maʾana[1]on                     </td><td>magurnubzu[1]on                 </td><td>{ŋeš}nig₂-kinkin[na]na          </td><td>{ŋeš}kal[na]na                  </td><td>{ŋeš}x[na]na                    </td></tr>\n",
       "\t<tr><td>{ŋeš}|lagab×a|-da[na]na         </td><td>ŋešgana[pestle]n                </td><td>ŋešnaruak[~stele]n              </td><td>maʾašte[1]on                    </td><td>ma[ship]n_dilmun[1]gn           </td><td>{ŋeš}an[na]na_x[na]na_ŋal₂[na]na</td><td>{ŋeš}uri[na]na                  </td><td>NA                              </td></tr>\n",
       "\t<tr><td>NA                              </td><td>{ŋeš}kal-la-bi[na]na            </td><td>NA                              </td><td>magur[barge]n_ninlil[1]dn       </td><td>u[planking]n_ma[ship]n          </td><td>NA                              </td><td>NA                              </td><td>NA                              </td></tr>\n",
       "\t<tr><td>NA                              </td><td>{ŋeš}x-bi[na]na                 </td><td>NA                              </td><td>magur[barge]n_damu[1]dn         </td><td>NA                              </td><td>NA                              </td><td>NA                              </td><td>NA                              </td></tr>\n",
       "\t<tr><td>NA                              </td><td>{ŋeš}gu₇[na]na                  </td><td>NA                              </td><td>makarnuntaʾea[1]on              </td><td>NA                              </td><td>NA                              </td><td>NA                              </td><td>NA                              </td></tr>\n",
       "\t<tr><td>NA                              </td><td>{ŋeš}{d}ha-ia₃[na]na            </td><td>NA                              </td><td>madurahabzu[1]on                </td><td>NA                              </td><td>NA                              </td><td>NA                              </td><td>NA                              </td></tr>\n",
       "\t<tr><td>NA                              </td><td>ŋešdubdim[tool]n                </td><td>NA                              </td><td>manuri[1]on                     </td><td>NA                              </td><td>NA                              </td><td>NA                              </td><td>NA                              </td></tr>\n",
       "\t<tr><td>NA                              </td><td>sumungi[tool]n                  </td><td>NA                              </td><td>manuri[1]on_banda[junior]v/i    </td><td>NA                              </td><td>NA                              </td><td>NA                              </td><td>NA                              </td></tr>\n",
       "\t<tr><td>NA                              </td><td>NA                              </td><td>NA                              </td><td>ma[ship]n_ud[na]na_nurum[light]n</td><td>NA                              </td><td>NA                              </td><td>NA                              </td><td>NA                              </td></tr>\n",
       "\t<tr><td>NA                              </td><td>NA                              </td><td>NA                              </td><td>NA                              </td><td>NA                              </td><td>NA                              </td><td>NA                              </td><td>NA                              </td></tr>\n",
       "\t<tr><td>NA                              </td><td>NA                              </td><td>NA                              </td><td>NA                              </td><td>NA                              </td><td>NA                              </td><td>NA                              </td><td>NA                              </td></tr>\n",
       "\t<tr><td>NA                              </td><td>NA                              </td><td>NA                              </td><td>NA                              </td><td>NA                              </td><td>NA                              </td><td>NA                              </td><td>NA                              </td></tr>\n",
       "\t<tr><td>NA                              </td><td>NA                              </td><td>NA                              </td><td>NA                              </td><td>NA                              </td><td>NA                              </td><td>NA                              </td><td>NA                              </td></tr>\n",
       "\t<tr><td>NA                              </td><td>NA                              </td><td>NA                              </td><td>NA                              </td><td>NA                              </td><td>NA                              </td><td>NA                              </td><td>NA                              </td></tr>\n",
       "\t<tr><td>NA                              </td><td>NA                              </td><td>NA                              </td><td>NA                              </td><td>NA                              </td><td>NA                              </td><td>NA                              </td><td>NA                              </td></tr>\n",
       "\t<tr><td>NA                              </td><td>NA                              </td><td>NA                              </td><td>NA                              </td><td>NA                              </td><td>NA                              </td><td>NA                              </td><td>NA                              </td></tr>\n",
       "\t<tr><td>NA                              </td><td>NA                              </td><td>NA                              </td><td>NA                              </td><td>NA                              </td><td>NA                              </td><td>NA                              </td><td>NA                              </td></tr>\n",
       "\t<tr><td>NA                              </td><td>NA                              </td><td>NA                              </td><td>NA                              </td><td>NA                              </td><td>NA                              </td><td>NA                              </td><td>NA                              </td></tr>\n",
       "\t<tr><td>NA                              </td><td>NA                              </td><td>NA                              </td><td>NA                              </td><td>NA                              </td><td>NA                              </td><td>NA                              </td><td>NA                              </td></tr>\n",
       "\t<tr><td>NA                              </td><td>NA                              </td><td>NA                              </td><td>NA                              </td><td>NA                              </td><td>NA                              </td><td>NA                              </td><td>NA                              </td></tr>\n",
       "\t<tr><td>NA                              </td><td>NA                              </td><td>NA                              </td><td>NA                              </td><td>NA                              </td><td>NA                              </td><td>NA                              </td><td>NA                              </td></tr>\n",
       "\t<tr><td>NA                              </td><td>NA                              </td><td>NA                              </td><td>NA                              </td><td>NA                              </td><td>NA                              </td><td>NA                              </td><td>NA                              </td></tr>\n",
       "\t<tr><td>NA                              </td><td>NA                              </td><td>NA                              </td><td>NA                              </td><td>NA                              </td><td>NA                              </td><td>NA                              </td><td>NA                              </td></tr>\n",
       "\t<tr><td>NA                              </td><td>NA                              </td><td>NA                              </td><td>NA                              </td><td>NA                              </td><td>NA                              </td><td>NA                              </td><td>NA                              </td></tr>\n",
       "\t<tr><td>NA                              </td><td>NA                              </td><td>NA                              </td><td>NA                              </td><td>NA                              </td><td>NA                              </td><td>NA                              </td><td>NA                              </td></tr>\n",
       "\t<tr><td>NA                              </td><td>NA                              </td><td>NA                              </td><td>NA                              </td><td>NA                              </td><td>NA                              </td><td>NA                              </td><td>NA                              </td></tr>\n",
       "\t<tr><td>NA                              </td><td>NA                              </td><td>NA                              </td><td>NA                              </td><td>NA                              </td><td>NA                              </td><td>NA                              </td><td>NA                              </td></tr>\n",
       "\t<tr><td>NA                              </td><td>NA                              </td><td>NA                              </td><td>NA                              </td><td>NA                              </td><td>NA                              </td><td>NA                              </td><td>NA                              </td></tr>\n",
       "\t<tr><td>NA                              </td><td>NA                              </td><td>NA                              </td><td>NA                              </td><td>NA                              </td><td>NA                              </td><td>NA                              </td><td>NA                              </td></tr>\n",
       "\t<tr><td>NA                              </td><td>NA                              </td><td>NA                              </td><td>NA                              </td><td>NA                              </td><td>NA                              </td><td>NA                              </td><td>NA                              </td></tr>\n",
       "\t<tr><td>NA                              </td><td>NA                              </td><td>NA                              </td><td>NA                              </td><td>NA                              </td><td>NA                              </td><td>NA                              </td><td>NA                              </td></tr>\n",
       "\t<tr><td>NA                              </td><td>NA                              </td><td>NA                              </td><td>NA                              </td><td>NA                              </td><td>NA                              </td><td>NA                              </td><td>NA                              </td></tr>\n",
       "\t<tr><td>NA                              </td><td>NA                              </td><td>NA                              </td><td>NA                              </td><td>NA                              </td><td>NA                              </td><td>NA                              </td><td>NA                              </td></tr>\n",
       "\t<tr><td>NA                              </td><td>NA                              </td><td>NA                              </td><td>NA                              </td><td>NA                              </td><td>NA                              </td><td>NA                              </td><td>NA                              </td></tr>\n",
       "\t<tr><td>NA                              </td><td>NA                              </td><td>NA                              </td><td>NA                              </td><td>NA                              </td><td>NA                              </td><td>NA                              </td><td>NA                              </td></tr>\n",
       "\t<tr><td>NA                              </td><td>NA                              </td><td>NA                              </td><td>NA                              </td><td>NA                              </td><td>NA                              </td><td>NA                              </td><td>NA                              </td></tr>\n",
       "\t<tr><td>NA                              </td><td>NA                              </td><td>NA                              </td><td>NA                              </td><td>NA                              </td><td>NA                              </td><td>NA                              </td><td>NA                              </td></tr>\n",
       "\t<tr><td>NA                              </td><td>NA                              </td><td>NA                              </td><td>NA                              </td><td>NA                              </td><td>NA                              </td><td>NA                              </td><td>NA                              </td></tr>\n",
       "\t<tr><td>NA                              </td><td>NA                              </td><td>NA                              </td><td>NA                              </td><td>NA                              </td><td>NA                              </td><td>NA                              </td><td>NA                              </td></tr>\n",
       "\t<tr><td>NA                              </td><td>NA                              </td><td>NA                              </td><td>NA                              </td><td>NA                              </td><td>NA                              </td><td>NA                              </td><td>NA                              </td></tr>\n",
       "\t<tr><td>NA                              </td><td>NA                              </td><td>NA                              </td><td>NA                              </td><td>NA                              </td><td>NA                              </td><td>NA                              </td><td>NA                              </td></tr>\n",
       "\t<tr><td>NA                              </td><td>NA                              </td><td>NA                              </td><td>NA                              </td><td>NA                              </td><td>NA                              </td><td>NA                              </td><td>NA                              </td></tr>\n",
       "\t<tr><td>NA                              </td><td>NA                              </td><td>NA                              </td><td>NA                              </td><td>NA                              </td><td>NA                              </td><td>NA                              </td><td>NA                              </td></tr>\n",
       "\t<tr><td>NA                              </td><td>NA                              </td><td>NA                              </td><td>NA                              </td><td>NA                              </td><td>NA                              </td><td>NA                              </td><td>NA                              </td></tr>\n",
       "\t<tr><td>NA                              </td><td>NA                              </td><td>NA                              </td><td>NA                              </td><td>NA                              </td><td>NA                              </td><td>NA                              </td><td>NA                              </td></tr>\n",
       "\t<tr><td>NA                              </td><td>NA                              </td><td>NA                              </td><td>NA                              </td><td>NA                              </td><td>NA                              </td><td>NA                              </td><td>NA                              </td></tr>\n",
       "\t<tr><td>NA                              </td><td>NA                              </td><td>NA                              </td><td>NA                              </td><td>NA                              </td><td>NA                              </td><td>NA                              </td><td>NA                              </td></tr>\n",
       "</tbody>\n",
       "</table>\n"
      ],
      "text/latex": [
       "\\begin{tabular}{r|llllllll}\n",
       " X.1 & X.2 & X.3 & X1 & X1.1 & X.4 & X.5 & X.6\\\\\n",
       "\\hline\n",
       "\t \\{ŋeš\\}x-gu₂{[}na{]}na                 & \\{ŋeš\\}u₅{[}na{]}na                    & \\{ŋeš\\}hub₂{[}na{]}na                  & maʾana{[}1{]}on                          & magurnubzu{[}1{]}on                      & \\{ŋeš\\}nig₂-kinkin{[}na{]}na           & \\{ŋeš\\}kal{[}na{]}na                   & \\{ŋeš\\}x{[}na{]}na                    \\\\\n",
       "\t \\{ŋeš\\}\\textbar{}lagab×a\\textbar{}-da{[}na{]}na  & ŋešgana{[}pestle{]}n                                 & ŋešnaruak{[}\\textasciitilde{}stele{]}n              & maʾašte{[}1{]}on                                     & ma{[}ship{]}n\\_dilmun{[}1{]}gn                      & \\{ŋeš\\}an{[}na{]}na\\_x{[}na{]}na\\_ŋal₂{[}na{]}na & \\{ŋeš\\}uri{[}na{]}na                               & NA                                                  \\\\\n",
       "\t NA                                         & \\{ŋeš\\}kal-la-bi{[}na{]}na               & NA                                         & magur{[}barge{]}n\\_ninlil{[}1{]}dn        & u{[}planking{]}n\\_ma{[}ship{]}n           & NA                                         & NA                                         & NA                                        \\\\\n",
       "\t NA                                         & \\{ŋeš\\}x-bi{[}na{]}na                    & NA                                         & magur{[}barge{]}n\\_damu{[}1{]}dn          & NA                                         & NA                                         & NA                                         & NA                                        \\\\\n",
       "\t NA                                   & \\{ŋeš\\}gu₇{[}na{]}na               & NA                                   & makarnuntaʾea{[}1{]}on               & NA                                   & NA                                   & NA                                   & NA                                  \\\\\n",
       "\t NA                                   & \\{ŋeš\\}\\{d\\}ha-ia₃{[}na{]}na     & NA                                   & madurahabzu{[}1{]}on                 & NA                                   & NA                                   & NA                                   & NA                                  \\\\\n",
       "\t NA                                   & ŋešdubdim{[}tool{]}n                 & NA                                   & manuri{[}1{]}on                      & NA                                   & NA                                   & NA                                   & NA                                  \\\\\n",
       "\t NA                                         & sumungi{[}tool{]}n                         & NA                                         & manuri{[}1{]}on\\_banda{[}junior{]}v/i     & NA                                         & NA                                         & NA                                         & NA                                        \\\\\n",
       "\t NA                                               & NA                                               & NA                                               & ma{[}ship{]}n\\_ud{[}na{]}na\\_nurum{[}light{]}n & NA                                               & NA                                               & NA                                               & NA                                              \\\\\n",
       "\t NA                               & NA                               & NA                               & NA                               & NA                               & NA                               & NA                               & NA                              \\\\\n",
       "\t NA                               & NA                               & NA                               & NA                               & NA                               & NA                               & NA                               & NA                              \\\\\n",
       "\t NA                               & NA                               & NA                               & NA                               & NA                               & NA                               & NA                               & NA                              \\\\\n",
       "\t NA                               & NA                               & NA                               & NA                               & NA                               & NA                               & NA                               & NA                              \\\\\n",
       "\t NA                               & NA                               & NA                               & NA                               & NA                               & NA                               & NA                               & NA                              \\\\\n",
       "\t NA                               & NA                               & NA                               & NA                               & NA                               & NA                               & NA                               & NA                              \\\\\n",
       "\t NA                               & NA                               & NA                               & NA                               & NA                               & NA                               & NA                               & NA                              \\\\\n",
       "\t NA                               & NA                               & NA                               & NA                               & NA                               & NA                               & NA                               & NA                              \\\\\n",
       "\t NA                               & NA                               & NA                               & NA                               & NA                               & NA                               & NA                               & NA                              \\\\\n",
       "\t NA                               & NA                               & NA                               & NA                               & NA                               & NA                               & NA                               & NA                              \\\\\n",
       "\t NA                               & NA                               & NA                               & NA                               & NA                               & NA                               & NA                               & NA                              \\\\\n",
       "\t NA                               & NA                               & NA                               & NA                               & NA                               & NA                               & NA                               & NA                              \\\\\n",
       "\t NA                               & NA                               & NA                               & NA                               & NA                               & NA                               & NA                               & NA                              \\\\\n",
       "\t NA                               & NA                               & NA                               & NA                               & NA                               & NA                               & NA                               & NA                              \\\\\n",
       "\t NA                               & NA                               & NA                               & NA                               & NA                               & NA                               & NA                               & NA                              \\\\\n",
       "\t NA                               & NA                               & NA                               & NA                               & NA                               & NA                               & NA                               & NA                              \\\\\n",
       "\t NA                               & NA                               & NA                               & NA                               & NA                               & NA                               & NA                               & NA                              \\\\\n",
       "\t NA                               & NA                               & NA                               & NA                               & NA                               & NA                               & NA                               & NA                              \\\\\n",
       "\t NA                               & NA                               & NA                               & NA                               & NA                               & NA                               & NA                               & NA                              \\\\\n",
       "\t NA                               & NA                               & NA                               & NA                               & NA                               & NA                               & NA                               & NA                              \\\\\n",
       "\t NA                               & NA                               & NA                               & NA                               & NA                               & NA                               & NA                               & NA                              \\\\\n",
       "\t NA                               & NA                               & NA                               & NA                               & NA                               & NA                               & NA                               & NA                              \\\\\n",
       "\t NA                               & NA                               & NA                               & NA                               & NA                               & NA                               & NA                               & NA                              \\\\\n",
       "\t NA                               & NA                               & NA                               & NA                               & NA                               & NA                               & NA                               & NA                              \\\\\n",
       "\t NA                               & NA                               & NA                               & NA                               & NA                               & NA                               & NA                               & NA                              \\\\\n",
       "\t NA                               & NA                               & NA                               & NA                               & NA                               & NA                               & NA                               & NA                              \\\\\n",
       "\t NA                               & NA                               & NA                               & NA                               & NA                               & NA                               & NA                               & NA                              \\\\\n",
       "\t NA                               & NA                               & NA                               & NA                               & NA                               & NA                               & NA                               & NA                              \\\\\n",
       "\t NA                               & NA                               & NA                               & NA                               & NA                               & NA                               & NA                               & NA                              \\\\\n",
       "\t NA                               & NA                               & NA                               & NA                               & NA                               & NA                               & NA                               & NA                              \\\\\n",
       "\t NA                               & NA                               & NA                               & NA                               & NA                               & NA                               & NA                               & NA                              \\\\\n",
       "\t NA                               & NA                               & NA                               & NA                               & NA                               & NA                               & NA                               & NA                              \\\\\n",
       "\t NA                               & NA                               & NA                               & NA                               & NA                               & NA                               & NA                               & NA                              \\\\\n",
       "\t NA                               & NA                               & NA                               & NA                               & NA                               & NA                               & NA                               & NA                              \\\\\n",
       "\t NA                               & NA                               & NA                               & NA                               & NA                               & NA                               & NA                               & NA                              \\\\\n",
       "\t NA                               & NA                               & NA                               & NA                               & NA                               & NA                               & NA                               & NA                              \\\\\n",
       "\t NA                               & NA                               & NA                               & NA                               & NA                               & NA                               & NA                               & NA                              \\\\\n",
       "\t NA                               & NA                               & NA                               & NA                               & NA                               & NA                               & NA                               & NA                              \\\\\n",
       "\\end{tabular}\n"
      ],
      "text/markdown": [
       "\n",
       "X.1 | X.2 | X.3 | X1 | X1.1 | X.4 | X.5 | X.6 | \n",
       "|---|---|---|---|---|---|---|---|---|---|---|---|---|---|---|---|---|---|---|---|---|---|---|---|---|---|---|---|---|---|---|---|---|---|---|---|---|---|---|---|---|---|---|---|---|---|---|\n",
       "| {ŋeš}x-gu₂[na]na                 | {ŋeš}u₅[na]na                    | {ŋeš}hub₂[na]na                  | maʾana[1]on                      | magurnubzu[1]on                  | {ŋeš}nig₂-kinkin[na]na           | {ŋeš}kal[na]na                   | {ŋeš}x[na]na                     | \n",
       "| {ŋeš}|lagab×a|-da[na]na          | ŋešgana[pestle]n                 | ŋešnaruak[~stele]n               | maʾašte[1]on                     | ma[ship]n_dilmun[1]gn            | {ŋeš}an[na]na_x[na]na_ŋal₂[na]na | {ŋeš}uri[na]na                   | NA                               | \n",
       "| NA                               | {ŋeš}kal-la-bi[na]na             | NA                               | magur[barge]n_ninlil[1]dn        | u[planking]n_ma[ship]n           | NA                               | NA                               | NA                               | \n",
       "| NA                               | {ŋeš}x-bi[na]na                  | NA                               | magur[barge]n_damu[1]dn          | NA                               | NA                               | NA                               | NA                               | \n",
       "| NA                               | {ŋeš}gu₇[na]na                   | NA                               | makarnuntaʾea[1]on               | NA                               | NA                               | NA                               | NA                               | \n",
       "| NA                               | {ŋeš}{d}ha-ia₃[na]na             | NA                               | madurahabzu[1]on                 | NA                               | NA                               | NA                               | NA                               | \n",
       "| NA                               | ŋešdubdim[tool]n                 | NA                               | manuri[1]on                      | NA                               | NA                               | NA                               | NA                               | \n",
       "| NA                               | sumungi[tool]n                   | NA                               | manuri[1]on_banda[junior]v/i     | NA                               | NA                               | NA                               | NA                               | \n",
       "| NA                               | NA                               | NA                               | ma[ship]n_ud[na]na_nurum[light]n | NA                               | NA                               | NA                               | NA                               | \n",
       "| NA                               | NA                               | NA                               | NA                               | NA                               | NA                               | NA                               | NA                               | \n",
       "| NA                               | NA                               | NA                               | NA                               | NA                               | NA                               | NA                               | NA                               | \n",
       "| NA                               | NA                               | NA                               | NA                               | NA                               | NA                               | NA                               | NA                               | \n",
       "| NA                               | NA                               | NA                               | NA                               | NA                               | NA                               | NA                               | NA                               | \n",
       "| NA                               | NA                               | NA                               | NA                               | NA                               | NA                               | NA                               | NA                               | \n",
       "| NA                               | NA                               | NA                               | NA                               | NA                               | NA                               | NA                               | NA                               | \n",
       "| NA                               | NA                               | NA                               | NA                               | NA                               | NA                               | NA                               | NA                               | \n",
       "| NA                               | NA                               | NA                               | NA                               | NA                               | NA                               | NA                               | NA                               | \n",
       "| NA                               | NA                               | NA                               | NA                               | NA                               | NA                               | NA                               | NA                               | \n",
       "| NA                               | NA                               | NA                               | NA                               | NA                               | NA                               | NA                               | NA                               | \n",
       "| NA                               | NA                               | NA                               | NA                               | NA                               | NA                               | NA                               | NA                               | \n",
       "| NA                               | NA                               | NA                               | NA                               | NA                               | NA                               | NA                               | NA                               | \n",
       "| NA                               | NA                               | NA                               | NA                               | NA                               | NA                               | NA                               | NA                               | \n",
       "| NA                               | NA                               | NA                               | NA                               | NA                               | NA                               | NA                               | NA                               | \n",
       "| NA                               | NA                               | NA                               | NA                               | NA                               | NA                               | NA                               | NA                               | \n",
       "| NA                               | NA                               | NA                               | NA                               | NA                               | NA                               | NA                               | NA                               | \n",
       "| NA                               | NA                               | NA                               | NA                               | NA                               | NA                               | NA                               | NA                               | \n",
       "| NA                               | NA                               | NA                               | NA                               | NA                               | NA                               | NA                               | NA                               | \n",
       "| NA                               | NA                               | NA                               | NA                               | NA                               | NA                               | NA                               | NA                               | \n",
       "| NA                               | NA                               | NA                               | NA                               | NA                               | NA                               | NA                               | NA                               | \n",
       "| NA                               | NA                               | NA                               | NA                               | NA                               | NA                               | NA                               | NA                               | \n",
       "| NA                               | NA                               | NA                               | NA                               | NA                               | NA                               | NA                               | NA                               | \n",
       "| NA                               | NA                               | NA                               | NA                               | NA                               | NA                               | NA                               | NA                               | \n",
       "| NA                               | NA                               | NA                               | NA                               | NA                               | NA                               | NA                               | NA                               | \n",
       "| NA                               | NA                               | NA                               | NA                               | NA                               | NA                               | NA                               | NA                               | \n",
       "| NA                               | NA                               | NA                               | NA                               | NA                               | NA                               | NA                               | NA                               | \n",
       "| NA                               | NA                               | NA                               | NA                               | NA                               | NA                               | NA                               | NA                               | \n",
       "| NA                               | NA                               | NA                               | NA                               | NA                               | NA                               | NA                               | NA                               | \n",
       "| NA                               | NA                               | NA                               | NA                               | NA                               | NA                               | NA                               | NA                               | \n",
       "| NA                               | NA                               | NA                               | NA                               | NA                               | NA                               | NA                               | NA                               | \n",
       "| NA                               | NA                               | NA                               | NA                               | NA                               | NA                               | NA                               | NA                               | \n",
       "| NA                               | NA                               | NA                               | NA                               | NA                               | NA                               | NA                               | NA                               | \n",
       "| NA                               | NA                               | NA                               | NA                               | NA                               | NA                               | NA                               | NA                               | \n",
       "| NA                               | NA                               | NA                               | NA                               | NA                               | NA                               | NA                               | NA                               | \n",
       "| NA                               | NA                               | NA                               | NA                               | NA                               | NA                               | NA                               | NA                               | \n",
       "| NA                               | NA                               | NA                               | NA                               | NA                               | NA                               | NA                               | NA                               | \n",
       "| NA                               | NA                               | NA                               | NA                               | NA                               | NA                               | NA                               | NA                               | \n",
       "| NA                               | NA                               | NA                               | NA                               | NA                               | NA                               | NA                               | NA                               | \n",
       "\n",
       "\n"
      ],
      "text/plain": [
       "   X.1                     X.2                  X.3               \n",
       "1  {ŋeš}x-gu₂[na]na        {ŋeš}u₅[na]na        {ŋeš}hub₂[na]na   \n",
       "2  {ŋeš}|lagab×a|-da[na]na ŋešgana[pestle]n     ŋešnaruak[~stele]n\n",
       "3  NA                      {ŋeš}kal-la-bi[na]na NA                \n",
       "4  NA                      {ŋeš}x-bi[na]na      NA                \n",
       "5  NA                      {ŋeš}gu₇[na]na       NA                \n",
       "6  NA                      {ŋeš}{d}ha-ia₃[na]na NA                \n",
       "7  NA                      ŋešdubdim[tool]n     NA                \n",
       "8  NA                      sumungi[tool]n       NA                \n",
       "9  NA                      NA                   NA                \n",
       "10 NA                      NA                   NA                \n",
       "11 NA                      NA                   NA                \n",
       "12 NA                      NA                   NA                \n",
       "13 NA                      NA                   NA                \n",
       "14 NA                      NA                   NA                \n",
       "15 NA                      NA                   NA                \n",
       "16 NA                      NA                   NA                \n",
       "17 NA                      NA                   NA                \n",
       "18 NA                      NA                   NA                \n",
       "19 NA                      NA                   NA                \n",
       "20 NA                      NA                   NA                \n",
       "21 NA                      NA                   NA                \n",
       "22 NA                      NA                   NA                \n",
       "23 NA                      NA                   NA                \n",
       "24 NA                      NA                   NA                \n",
       "25 NA                      NA                   NA                \n",
       "26 NA                      NA                   NA                \n",
       "27 NA                      NA                   NA                \n",
       "28 NA                      NA                   NA                \n",
       "29 NA                      NA                   NA                \n",
       "30 NA                      NA                   NA                \n",
       "31 NA                      NA                   NA                \n",
       "32 NA                      NA                   NA                \n",
       "33 NA                      NA                   NA                \n",
       "34 NA                      NA                   NA                \n",
       "35 NA                      NA                   NA                \n",
       "36 NA                      NA                   NA                \n",
       "37 NA                      NA                   NA                \n",
       "38 NA                      NA                   NA                \n",
       "39 NA                      NA                   NA                \n",
       "40 NA                      NA                   NA                \n",
       "41 NA                      NA                   NA                \n",
       "42 NA                      NA                   NA                \n",
       "43 NA                      NA                   NA                \n",
       "44 NA                      NA                   NA                \n",
       "45 NA                      NA                   NA                \n",
       "46 NA                      NA                   NA                \n",
       "47 NA                      NA                   NA                \n",
       "   X1                               X1.1                  \n",
       "1  maʾana[1]on                      magurnubzu[1]on       \n",
       "2  maʾašte[1]on                     ma[ship]n_dilmun[1]gn \n",
       "3  magur[barge]n_ninlil[1]dn        u[planking]n_ma[ship]n\n",
       "4  magur[barge]n_damu[1]dn          NA                    \n",
       "5  makarnuntaʾea[1]on               NA                    \n",
       "6  madurahabzu[1]on                 NA                    \n",
       "7  manuri[1]on                      NA                    \n",
       "8  manuri[1]on_banda[junior]v/i     NA                    \n",
       "9  ma[ship]n_ud[na]na_nurum[light]n NA                    \n",
       "10 NA                               NA                    \n",
       "11 NA                               NA                    \n",
       "12 NA                               NA                    \n",
       "13 NA                               NA                    \n",
       "14 NA                               NA                    \n",
       "15 NA                               NA                    \n",
       "16 NA                               NA                    \n",
       "17 NA                               NA                    \n",
       "18 NA                               NA                    \n",
       "19 NA                               NA                    \n",
       "20 NA                               NA                    \n",
       "21 NA                               NA                    \n",
       "22 NA                               NA                    \n",
       "23 NA                               NA                    \n",
       "24 NA                               NA                    \n",
       "25 NA                               NA                    \n",
       "26 NA                               NA                    \n",
       "27 NA                               NA                    \n",
       "28 NA                               NA                    \n",
       "29 NA                               NA                    \n",
       "30 NA                               NA                    \n",
       "31 NA                               NA                    \n",
       "32 NA                               NA                    \n",
       "33 NA                               NA                    \n",
       "34 NA                               NA                    \n",
       "35 NA                               NA                    \n",
       "36 NA                               NA                    \n",
       "37 NA                               NA                    \n",
       "38 NA                               NA                    \n",
       "39 NA                               NA                    \n",
       "40 NA                               NA                    \n",
       "41 NA                               NA                    \n",
       "42 NA                               NA                    \n",
       "43 NA                               NA                    \n",
       "44 NA                               NA                    \n",
       "45 NA                               NA                    \n",
       "46 NA                               NA                    \n",
       "47 NA                               NA                    \n",
       "   X.4                              X.5            X.6         \n",
       "1  {ŋeš}nig₂-kinkin[na]na           {ŋeš}kal[na]na {ŋeš}x[na]na\n",
       "2  {ŋeš}an[na]na_x[na]na_ŋal₂[na]na {ŋeš}uri[na]na NA          \n",
       "3  NA                               NA             NA          \n",
       "4  NA                               NA             NA          \n",
       "5  NA                               NA             NA          \n",
       "6  NA                               NA             NA          \n",
       "7  NA                               NA             NA          \n",
       "8  NA                               NA             NA          \n",
       "9  NA                               NA             NA          \n",
       "10 NA                               NA             NA          \n",
       "11 NA                               NA             NA          \n",
       "12 NA                               NA             NA          \n",
       "13 NA                               NA             NA          \n",
       "14 NA                               NA             NA          \n",
       "15 NA                               NA             NA          \n",
       "16 NA                               NA             NA          \n",
       "17 NA                               NA             NA          \n",
       "18 NA                               NA             NA          \n",
       "19 NA                               NA             NA          \n",
       "20 NA                               NA             NA          \n",
       "21 NA                               NA             NA          \n",
       "22 NA                               NA             NA          \n",
       "23 NA                               NA             NA          \n",
       "24 NA                               NA             NA          \n",
       "25 NA                               NA             NA          \n",
       "26 NA                               NA             NA          \n",
       "27 NA                               NA             NA          \n",
       "28 NA                               NA             NA          \n",
       "29 NA                               NA             NA          \n",
       "30 NA                               NA             NA          \n",
       "31 NA                               NA             NA          \n",
       "32 NA                               NA             NA          \n",
       "33 NA                               NA             NA          \n",
       "34 NA                               NA             NA          \n",
       "35 NA                               NA             NA          \n",
       "36 NA                               NA             NA          \n",
       "37 NA                               NA             NA          \n",
       "38 NA                               NA             NA          \n",
       "39 NA                               NA             NA          \n",
       "40 NA                               NA             NA          \n",
       "41 NA                               NA             NA          \n",
       "42 NA                               NA             NA          \n",
       "43 NA                               NA             NA          \n",
       "44 NA                               NA             NA          \n",
       "45 NA                               NA             NA          \n",
       "46 NA                               NA             NA          \n",
       "47 NA                               NA             NA          "
      ]
     },
     "metadata": {},
     "output_type": "display_data"
    }
   ],
   "source": [
    "# preview X sections\n",
    "head(Q39_sections[,grep(\"X.\", colnames(Q39_sections))])"
   ]
  },
  {
   "cell_type": "markdown",
   "metadata": {},
   "source": [
    "## Read in a corpus to analyze"
   ]
  },
  {
   "cell_type": "code",
   "execution_count": 2,
   "metadata": {
    "collapsed": false
   },
   "outputs": [
    {
     "data": {
      "text/html": [
       "<table>\n",
       "<thead><tr><th></th><th scope=col>id_text</th><th scope=col>id_line</th><th scope=col>label</th><th scope=col>lemma</th><th scope=col>base</th><th scope=col>skip</th><th scope=col>entry</th></tr></thead>\n",
       "<tbody>\n",
       "\t<tr><th scope=row>6427</th><td>X100003                 </td><td>28                      </td><td>r 12                    </td><td>peš[fig]N Subir[1]GN    </td><td>{ŋeš}peš₃ su-bir{ki}    </td><td>0                       </td><td>peš[fig]N_Subir[1]GN    </td></tr>\n",
       "\t<tr><th scope=row>6428</th><td>X100003                 </td><td>29                      </td><td>r 13                    </td><td>peš[fig]N Elam[1]GN     </td><td>{ŋeš}peš₃ elam-ma{ki}   </td><td>0                       </td><td>peš[fig]N_Elam[1]GN     </td></tr>\n",
       "\t<tr><th scope=row>6429</th><td>X100003                 </td><td>30                      </td><td>r 14                    </td><td>peš[fig]N Martu[1]GN    </td><td>{ŋeš}peš₃ mar-tu{ki}    </td><td>0                       </td><td>peš[fig]N_Martu[1]GN    </td></tr>\n",
       "\t<tr><th scope=row>6430</th><td>X100003                 </td><td>31                      </td><td>r 15                    </td><td>peš[fig]N šergu[string]N</td><td>{ŋeš}peš₃ še-er-kum     </td><td>0                       </td><td>peš[fig]N_šergu[string]N</td></tr>\n",
       "\t<tr><th scope=row>6431</th><td>X100003                 </td><td>32                      </td><td>r 16                    </td><td>ama[mother]N peš[fig]N  </td><td>{ŋeš}ama {ŋeš}peš₃      </td><td>0                       </td><td>ama[mother]N_peš[fig]N  </td></tr>\n",
       "\t<tr><th scope=row>6432</th><td>X100003                 </td><td>33                      </td><td>r 17                    </td><td>pa[branch]N peš[fig]N   </td><td>{ŋeš}pa {ŋeš}peš₃       </td><td>0                       </td><td>pa[branch]N_peš[fig]N   </td></tr>\n",
       "</tbody>\n",
       "</table>\n"
      ],
      "text/latex": [
       "\\begin{tabular}{r|lllllll}\n",
       "  & id\\_text & id\\_line & label & lemma & base & skip & entry\\\\\n",
       "\\hline\n",
       "\t6427 & X100003                            & 28                                 & r 12                               & peš{[}fig{]}N Subir{[}1{]}GN       & \\{ŋeš\\}peš₃ su-bir\\{ki\\}       & 0                                  & peš{[}fig{]}N\\_Subir{[}1{]}GN    \\\\\n",
       "\t6428 & X100003                            & 29                                 & r 13                               & peš{[}fig{]}N Elam{[}1{]}GN        & \\{ŋeš\\}peš₃ elam-ma\\{ki\\}      & 0                                  & peš{[}fig{]}N\\_Elam{[}1{]}GN     \\\\\n",
       "\t6429 & X100003                            & 30                                 & r 14                               & peš{[}fig{]}N Martu{[}1{]}GN       & \\{ŋeš\\}peš₃ mar-tu\\{ki\\}       & 0                                  & peš{[}fig{]}N\\_Martu{[}1{]}GN    \\\\\n",
       "\t6430 & X100003                            & 31                                 & r 15                               & peš{[}fig{]}N šergu{[}string{]}N   & \\{ŋeš\\}peš₃ še-er-kum            & 0                                  & peš{[}fig{]}N\\_šergu{[}string{]}N\\\\\n",
       "\t6431 & X100003                            & 32                                 & r 16                               & ama{[}mother{]}N peš{[}fig{]}N     & \\{ŋeš\\}ama \\{ŋeš\\}peš₃         & 0                                  & ama{[}mother{]}N\\_peš{[}fig{]}N  \\\\\n",
       "\t6432 & X100003                            & 33                                 & r 17                               & pa{[}branch{]}N peš{[}fig{]}N      & \\{ŋeš\\}pa \\{ŋeš\\}peš₃          & 0                                  & pa{[}branch{]}N\\_peš{[}fig{]}N   \\\\\n",
       "\\end{tabular}\n"
      ],
      "text/markdown": [
       "\n",
       "| <!--/--> | id_text | id_line | label | lemma | base | skip | entry | \n",
       "|---|---|---|---|---|---|\n",
       "| 6427 | X100003                  | 28                       | r 12                     | peš[fig]N Subir[1]GN     | {ŋeš}peš₃ su-bir{ki}     | 0                        | peš[fig]N_Subir[1]GN     | \n",
       "| 6428 | X100003                  | 29                       | r 13                     | peš[fig]N Elam[1]GN      | {ŋeš}peš₃ elam-ma{ki}    | 0                        | peš[fig]N_Elam[1]GN      | \n",
       "| 6429 | X100003                  | 30                       | r 14                     | peš[fig]N Martu[1]GN     | {ŋeš}peš₃ mar-tu{ki}     | 0                        | peš[fig]N_Martu[1]GN     | \n",
       "| 6430 | X100003                  | 31                       | r 15                     | peš[fig]N šergu[string]N | {ŋeš}peš₃ še-er-kum      | 0                        | peš[fig]N_šergu[string]N | \n",
       "| 6431 | X100003                  | 32                       | r 16                     | ama[mother]N peš[fig]N   | {ŋeš}ama {ŋeš}peš₃       | 0                        | ama[mother]N_peš[fig]N   | \n",
       "| 6432 | X100003                  | 33                       | r 17                     | pa[branch]N peš[fig]N    | {ŋeš}pa {ŋeš}peš₃        | 0                        | pa[branch]N_peš[fig]N    | \n",
       "\n",
       "\n"
      ],
      "text/plain": [
       "     id_text id_line label lemma                    base                  skip\n",
       "6427 X100003 28      r 12  peš[fig]N Subir[1]GN     {ŋeš}peš₃ su-bir{ki}  0   \n",
       "6428 X100003 29      r 13  peš[fig]N Elam[1]GN      {ŋeš}peš₃ elam-ma{ki} 0   \n",
       "6429 X100003 30      r 14  peš[fig]N Martu[1]GN     {ŋeš}peš₃ mar-tu{ki}  0   \n",
       "6430 X100003 31      r 15  peš[fig]N šergu[string]N {ŋeš}peš₃ še-er-kum   0   \n",
       "6431 X100003 32      r 16  ama[mother]N peš[fig]N   {ŋeš}ama {ŋeš}peš₃    0   \n",
       "6432 X100003 33      r 17  pa[branch]N peš[fig]N    {ŋeš}pa {ŋeš}peš₃     0   \n",
       "     entry                   \n",
       "6427 peš[fig]N_Subir[1]GN    \n",
       "6428 peš[fig]N_Elam[1]GN     \n",
       "6429 peš[fig]N_Martu[1]GN    \n",
       "6430 peš[fig]N_šergu[string]N\n",
       "6431 ama[mother]N_peš[fig]N  \n",
       "6432 pa[branch]N_peš[fig]N   "
      ]
     },
     "metadata": {},
     "output_type": "display_data"
    },
    {
     "data": {
      "text/html": [
       "71"
      ],
      "text/latex": [
       "71"
      ],
      "text/markdown": [
       "71"
      ],
      "text/plain": [
       "[1] 71"
      ]
     },
     "metadata": {},
     "output_type": "display_data"
    }
   ],
   "source": [
    "df = read.csv(\"../pass/Q39_par.csv\", stringsAsFactors = FALSE)\n",
    "tail(df)\n",
    "length(unique(df$id_text))"
   ]
  },
  {
   "cell_type": "markdown",
   "metadata": {},
   "source": [
    "### Step 1: Determine order of sections for each document in corpus\n",
    "For each entry in each document in the corpus, identify which section it belongs to. Add this section identification to a new column in the dataframe. If an entry is found in more than one section, section names are separated by \":\"."
   ]
  },
  {
   "cell_type": "code",
   "execution_count": 3,
   "metadata": {
    "collapsed": false
   },
   "outputs": [
    {
     "data": {
      "text/html": [
       "<table>\n",
       "<thead><tr><th scope=col>id_text</th><th scope=col>id_line</th><th scope=col>label</th><th scope=col>lemma</th><th scope=col>base</th><th scope=col>skip</th><th scope=col>entry</th><th scope=col>section</th></tr></thead>\n",
       "<tbody>\n",
       "\t<tr><td>P224980                              </td><td>4                                    </td><td>o i 1                                </td><td>gigir[chariot]N                      </td><td>{ŋeš}gigir                           </td><td>0                                    </td><td>gigir[chariot]N                      </td><td>chariot                              </td></tr>\n",
       "\t<tr><td>P224980                              </td><td>5                                    </td><td>o i 2                                </td><td>e[house]N gigir[chariot]N            </td><td>{ŋeš}e₂ gigir                        </td><td>0                                    </td><td>e[house]N_gigir[chariot]N            </td><td>chariot                              </td></tr>\n",
       "\t<tr><td>P224980                              </td><td>6                                    </td><td>o i 3                                </td><td>e[house]N usan[whip]N gigir[chariot]N</td><td>{ŋeš}e₂ usan₃ gigir                  </td><td>0                                    </td><td>e[house]N_usan[whip]N_gigir[chariot]N</td><td>chariot                              </td></tr>\n",
       "\t<tr><td>P224986                              </td><td>4                                    </td><td>o i 1                                </td><td>guza[chair]N anše[equid]N            </td><td>{ŋeš}gu-za anše                      </td><td>0                                    </td><td>guza[chair]N_anše[equid]N            </td><td>chair                                </td></tr>\n",
       "\t<tr><td>P224986                              </td><td>5                                    </td><td>o i 2                                </td><td>guza[chair]N kaskal[way]N            </td><td>{ŋeš}gu-za kaskal                    </td><td>0                                    </td><td>guza[chair]N_kaskal[way]N            </td><td>chair                                </td></tr>\n",
       "\t<tr><td>P224986                              </td><td>6                                    </td><td>o i 3                                </td><td>guza[chair]N zir[break]V/t           </td><td>{ŋeš}gu-za zi                        </td><td>0                                    </td><td>guza[chair]N_zir[break]V/t           </td><td>NA                                   </td></tr>\n",
       "\t<tr><td>P224994                              </td><td>4                                    </td><td>o i 1                                </td><td>{ŋeš}x-x[NA]NA                       </td><td>{ŋeš}x-x                             </td><td>0                                    </td><td>{ŋeš}x-x[NA]NA                       </td><td>NA                                   </td></tr>\n",
       "\t<tr><td>P224994                              </td><td>5                                    </td><td>o i 2                                </td><td>{ŋeš}SI-x[NA]NA                      </td><td>{ŋeš}SI-x                            </td><td>0                                    </td><td>{ŋeš}SI-x[NA]NA                      </td><td>NA                                   </td></tr>\n",
       "\t<tr><td>P224994                              </td><td>6                                    </td><td>o i 3                                </td><td>{ŋeš}šu-x[NA]NA                      </td><td>{ŋeš}šu-x                            </td><td>0                                    </td><td>{ŋeš}šu-x[NA]NA                      </td><td>NA                                   </td></tr>\n",
       "\t<tr><td>P224996                              </td><td>4                                    </td><td>o i 1                                </td><td>guza[chair]N                         </td><td>{ŋeš}gu-za                           </td><td>0                                    </td><td>guza[chair]N                         </td><td>chair                                </td></tr>\n",
       "\t<tr><td>P224996                              </td><td>5                                    </td><td>o i 2                                </td><td>guza[chair]N gid[long]V/i            </td><td>{ŋeš}gu-za gid₂                      </td><td>0                                    </td><td>guza[chair]N_gid[long]V/i            </td><td>chair                                </td></tr>\n",
       "\t<tr><td>P224996                              </td><td>6                                    </td><td>o i 3                                </td><td>guza[chair]N sirda[cnne]N            </td><td>{ŋeš}gu-za sir₂-da                   </td><td>0                                    </td><td>guza[chair]N_sirda[cnne]N            </td><td>chair                                </td></tr>\n",
       "\t<tr><td>P225006                              </td><td>4                                    </td><td>o i 1                                </td><td>ig[door]N                            </td><td>{ŋeš}ig                              </td><td>0                                    </td><td>ig[door]N                            </td><td>door                                 </td></tr>\n",
       "\t<tr><td>P225006                              </td><td>5                                    </td><td>o i 2                                </td><td>suku[pole]N ig[door]N                </td><td>{ŋeš}suku₅ ig                        </td><td>0                                    </td><td>suku[pole]N_ig[door]N                </td><td>door                                 </td></tr>\n",
       "\t<tr><td>P225006                              </td><td>6                                    </td><td>o i 3                                </td><td>zara[pivot]N ig[door]N               </td><td>{ŋeš}za-ra ig                        </td><td>0                                    </td><td>zara[pivot]N_ig[door]N               </td><td>NA                                   </td></tr>\n",
       "\t<tr><td>P225023                              </td><td>4                                    </td><td>o i 1                                </td><td>{ŋeš}x[NA]NA                         </td><td>{ŋeš}x                               </td><td>0                                    </td><td>{ŋeš}x[NA]NA                         </td><td>X.6                                  </td></tr>\n",
       "\t<tr><td>P225023                              </td><td>5                                    </td><td>o i 2                                </td><td>emerah[jug]N x[NA]NA                 </td><td>{ŋeš}emerah x                        </td><td>0                                    </td><td>emerah[jug]N_x[NA]NA                 </td><td>NA                                   </td></tr>\n",
       "\t<tr><td>P225023                              </td><td>6                                    </td><td>o i 3                                </td><td>emerah[jug]N x[NA]NA                 </td><td>{ŋeš}emerah x                        </td><td>0                                    </td><td>emerah[jug]N_x[NA]NA                 </td><td>NA                                   </td></tr>\n",
       "\t<tr><td>P225033                              </td><td>4                                    </td><td>o i 1                                </td><td>targul[pole]N                        </td><td>{ŋeš}dar-gul                         </td><td>0                                    </td><td>targul[pole]N                        </td><td>pole                                 </td></tr>\n",
       "\t<tr><td>P225033                              </td><td>5                                    </td><td>o i 2                                </td><td>targul[pole]N                        </td><td>{ŋeš}dar-gul-la₂                     </td><td>0                                    </td><td>targul[pole]N                        </td><td>pole                                 </td></tr>\n",
       "\t<tr><td>P225033                              </td><td>6                                    </td><td>o i 3                                </td><td>garig[comb]N                         </td><td>{ŋeš}ga-rig₂                         </td><td>0                                    </td><td>garig[comb]N                         </td><td>comb                                 </td></tr>\n",
       "\t<tr><td>P225059                              </td><td>4                                    </td><td>o i 1                                </td><td>emerah[jug]N                         </td><td>{ŋeš}emerah                          </td><td>0                                    </td><td>emerah[jug]N                         </td><td>jug                                  </td></tr>\n",
       "\t<tr><td>P225059                              </td><td>5                                    </td><td>o i 2                                </td><td>emerah[jug]N x[NA]NA                 </td><td>{ŋeš}emerah x                        </td><td>0                                    </td><td>emerah[jug]N_x[NA]NA                 </td><td>NA                                   </td></tr>\n",
       "\t<tr><td>P225059                              </td><td>6                                    </td><td>o i 3                                </td><td>emerah[jug]N x[NA]NA                 </td><td>{ŋeš}emerah x                        </td><td>0                                    </td><td>emerah[jug]N_x[NA]NA                 </td><td>NA                                   </td></tr>\n",
       "\t<tr><td>P225062                              </td><td>4                                    </td><td>o i 1                                </td><td>allanum[oak]N                        </td><td>{ŋeš}al-la-nu-um                     </td><td>0                                    </td><td>allanum[oak]N                        </td><td>NA                                   </td></tr>\n",
       "\t<tr><td>P225062                              </td><td>5                                    </td><td>o i 2                                </td><td>zumdianum[tree]N                     </td><td>{ŋeš}zum-di-a-num₂                   </td><td>0                                    </td><td>zumdianum[tree]N                     </td><td>NA                                   </td></tr>\n",
       "\t<tr><td>P225062                              </td><td>6                                    </td><td>o i 3                                </td><td>tiʾarum[tree]N                       </td><td>{ŋeš}ti-ia-lum                       </td><td>0                                    </td><td>tiʾarum[tree]N                       </td><td>tree.5                               </td></tr>\n",
       "\t<tr><td>P225065                              </td><td>4                                    </td><td>unknown                              </td><td>unknown                              </td><td>unknown                              </td><td>1                                    </td><td>unknown                              </td><td>NA                                   </td></tr>\n",
       "\t<tr><td>P225065                              </td><td>5                                    </td><td>o i 2                                </td><td>ig[door]N x[NA]NA                    </td><td>{ŋeš}ig x                            </td><td>0                                    </td><td>ig[door]N_x[NA]NA                    </td><td>NA                                   </td></tr>\n",
       "\t<tr><td>P225065                              </td><td>6                                    </td><td>o i 3                                </td><td>ig[door]N x[NA]NA                    </td><td>{ŋeš}ig x                            </td><td>0                                    </td><td>ig[door]N_x[NA]NA                    </td><td>NA                                   </td></tr>\n",
       "\t<tr><td>⋮</td><td>⋮</td><td>⋮</td><td>⋮</td><td>⋮</td><td>⋮</td><td>⋮</td><td>⋮</td></tr>\n",
       "\t<tr><td>X100003                             </td><td> 3                                  </td><td>o 2                                 </td><td>esi[tree]N                          </td><td>{ŋeš}esi                            </td><td>0                                   </td><td>esi[tree]N                          </td><td>tree                                </td></tr>\n",
       "\t<tr><td>X100003                             </td><td> 4                                  </td><td>o 3                                 </td><td>ŋešnu[tree]N                        </td><td>ŋeš-BUR₂                            </td><td>0                                   </td><td>ŋešnu[tree]N                        </td><td>tree                                </td></tr>\n",
       "\t<tr><td>X100003                             </td><td> 5                                  </td><td>o 4                                 </td><td>halub[tree]N                        </td><td>{ŋeš}ha-lu-ub₂                      </td><td>0                                   </td><td>halub[tree]N                        </td><td>tree                                </td></tr>\n",
       "\t<tr><td>X100003                             </td><td> 6                                  </td><td>o 5                                 </td><td>šagkal[tree]N                       </td><td>{ŋeš}šag₄-ul₄                       </td><td>0                                   </td><td>šagkal[tree]N                       </td><td>tree                                </td></tr>\n",
       "\t<tr><td>X100003                             </td><td> 7                                  </td><td>o 6                                 </td><td>ŋešgana[tree]N                      </td><td>ŋeš-kin₂                            </td><td>0                                   </td><td>ŋešgana[tree]N                      </td><td>tree                                </td></tr>\n",
       "\t<tr><td>X100003                             </td><td> 8                                  </td><td>o 7                                 </td><td>ŋešgana[tree]N babbar[white]V/i     </td><td>ŋeš-kin₂ babbar                     </td><td>0                                   </td><td>ŋešgana[tree]N_babbar[white]V/i     </td><td>tree                                </td></tr>\n",
       "\t<tr><td>X100003                             </td><td> 9                                  </td><td>o 8                                 </td><td>ŋešgana[tree]N giggi[black]V/i      </td><td>ŋeš-kin₂ giggi                      </td><td>0                                   </td><td>ŋešgana[tree]N_giggi[black]V/i      </td><td>tree                                </td></tr>\n",
       "\t<tr><td>X100003                             </td><td>10                                  </td><td>o 9                                 </td><td>ŋešgana[tree]N si[fill]V/t          </td><td>ŋeš-kin₂ sa₅                        </td><td>0                                   </td><td>ŋešgana[tree]N_si[fill]V/t          </td><td>NA                                  </td></tr>\n",
       "\t<tr><td>X100003                             </td><td>11                                  </td><td>o 10                                </td><td>{ŋeš}bar-ŋeš[NA]NA gunu[speckled]V/i</td><td>{ŋeš}bar-ŋeš gun₃                   </td><td>0                                   </td><td>{ŋeš}bar-ŋeš[NA]NA_gunu[speckled]V/i</td><td>NA                                  </td></tr>\n",
       "\t<tr><td>X100003                             </td><td>12                                  </td><td>o 11                                </td><td>ŋeš[tree]N babbar[white]V/i         </td><td>ŋeš babbar                          </td><td>0                                   </td><td>ŋeš[tree]N_babbar[white]V/i         </td><td>NA                                  </td></tr>\n",
       "\t<tr><td>X100003                             </td><td>13                                  </td><td>o 12                                </td><td>ŋeš[tree]N giggi[black]V/i          </td><td>ŋeš giggi                           </td><td>0                                   </td><td>ŋeš[tree]N_giggi[black]V/i          </td><td>tree                                </td></tr>\n",
       "\t<tr><td>X100003                             </td><td>14                                  </td><td>o 13                                </td><td>ŋeštin[vine]N                       </td><td>{ŋeš}ŋeštin                         </td><td>0                                   </td><td>ŋeštin[vine]N                       </td><td>tree                                </td></tr>\n",
       "\t<tr><td>X100003                             </td><td>15                                  </td><td>o 14                                </td><td>ŋeštinkira[berry]N                  </td><td>{ŋeš}ŋeštin-ŋir₂                    </td><td>0                                   </td><td>ŋeštinkira[berry]N                  </td><td>tree                                </td></tr>\n",
       "\t<tr><td>X100003                             </td><td>17                                  </td><td>r 1                                 </td><td>ŋeštinzug[grape]N                   </td><td>{ŋeš}ŋeštin-zug₂                    </td><td>0                                   </td><td>ŋeštinzug[grape]N                   </td><td>NA                                  </td></tr>\n",
       "\t<tr><td>X100003                             </td><td>18                                  </td><td>r 2                                 </td><td>ŋeštinkaʾa[grape]N                  </td><td>{ŋeš}ŋeštin-ka₅-a                   </td><td>0                                   </td><td>ŋeštinkaʾa[grape]N                  </td><td>tree                                </td></tr>\n",
       "\t<tr><td>X100003                             </td><td>19                                  </td><td>r 3                                 </td><td>ŋeštin[vine]N garan[bunch]N         </td><td>{ŋeš}ŋeštin ga-ra-na                </td><td>0                                   </td><td>ŋeštin[vine]N_garan[bunch]N         </td><td>NA                                  </td></tr>\n",
       "\t<tr><td>X100003                             </td><td>20                                  </td><td>r 4                                 </td><td>ŋeštinguruma[~vine]N                </td><td>{ŋeš}ŋeštin-gurum-ma                </td><td>0                                   </td><td>ŋeštinguruma[~vine]N                </td><td>tree                                </td></tr>\n",
       "\t<tr><td>X100003                             </td><td>21                                  </td><td>r 5                                 </td><td>ŋeštin[vine]N sur[press]V/t         </td><td>{ŋeš}ŋeštin sur                     </td><td>0                                   </td><td>ŋeštin[vine]N_sur[press]V/t         </td><td>NA                                  </td></tr>\n",
       "\t<tr><td>X100003                             </td><td>22                                  </td><td>r 6                                 </td><td>ŋeštin[vine]N igi[eye]N gud[ox]N    </td><td>{ŋeš}ŋeštin igi gud                 </td><td>0                                   </td><td>ŋeštin[vine]N_igi[eye]N_gud[ox]N    </td><td>NA                                  </td></tr>\n",
       "\t<tr><td>X100003                             </td><td>23                                  </td><td>r 7                                 </td><td>tila[grapevine]N ŋeštin[vine]N      </td><td>{ŋeš}illat {ŋeš}ŋeštin              </td><td>0                                   </td><td>tila[grapevine]N_ŋeštin[vine]N      </td><td>NA                                  </td></tr>\n",
       "\t<tr><td>X100003                             </td><td>24                                  </td><td>r 8                                 </td><td>gurum[bend]V/t ŋeštin[vine]N        </td><td>{ŋeš}gurum {ŋeš}ŋeštin              </td><td>0                                   </td><td>gurum[bend]V/t_ŋeštin[vine]N        </td><td>NA                                  </td></tr>\n",
       "\t<tr><td>X100003                             </td><td>25                                  </td><td>r 9                                 </td><td>garan[bunch]N ŋeštin[vine]N         </td><td>{ŋeš}ga-ra-na {ŋeš}ŋeštin           </td><td>0                                   </td><td>garan[bunch]N_ŋeštin[vine]N         </td><td>NA                                  </td></tr>\n",
       "\t<tr><td>X100003                             </td><td>26                                  </td><td>r 10                                </td><td>peš[fig]N                           </td><td>{ŋeš}peš₃                           </td><td>0                                   </td><td>peš[fig]N                           </td><td>NA                                  </td></tr>\n",
       "\t<tr><td>X100003                             </td><td>27                                  </td><td>r 11                                </td><td>peš[fig]N Mari[1]SN                 </td><td>{ŋeš}peš₃ ma₂-ri₂{ki}               </td><td>0                                   </td><td>peš[fig]N_Mari[1]SN                 </td><td>NA                                  </td></tr>\n",
       "\t<tr><td>X100003                             </td><td>28                                  </td><td>r 12                                </td><td>peš[fig]N Subir[1]GN                </td><td>{ŋeš}peš₃ su-bir{ki}                </td><td>0                                   </td><td>peš[fig]N_Subir[1]GN                </td><td>NA                                  </td></tr>\n",
       "\t<tr><td>X100003                             </td><td>29                                  </td><td>r 13                                </td><td>peš[fig]N Elam[1]GN                 </td><td>{ŋeš}peš₃ elam-ma{ki}               </td><td>0                                   </td><td>peš[fig]N_Elam[1]GN                 </td><td>NA                                  </td></tr>\n",
       "\t<tr><td>X100003                             </td><td>30                                  </td><td>r 14                                </td><td>peš[fig]N Martu[1]GN                </td><td>{ŋeš}peš₃ mar-tu{ki}                </td><td>0                                   </td><td>peš[fig]N_Martu[1]GN                </td><td>NA                                  </td></tr>\n",
       "\t<tr><td>X100003                             </td><td>31                                  </td><td>r 15                                </td><td>peš[fig]N šergu[string]N            </td><td>{ŋeš}peš₃ še-er-kum                 </td><td>0                                   </td><td>peš[fig]N_šergu[string]N            </td><td>NA                                  </td></tr>\n",
       "\t<tr><td>X100003                             </td><td>32                                  </td><td>r 16                                </td><td>ama[mother]N peš[fig]N              </td><td>{ŋeš}ama {ŋeš}peš₃                  </td><td>0                                   </td><td>ama[mother]N_peš[fig]N              </td><td>NA                                  </td></tr>\n",
       "\t<tr><td>X100003                             </td><td>33                                  </td><td>r 17                                </td><td>pa[branch]N peš[fig]N               </td><td>{ŋeš}pa {ŋeš}peš₃                   </td><td>0                                   </td><td>pa[branch]N_peš[fig]N               </td><td>NA                                  </td></tr>\n",
       "</tbody>\n",
       "</table>\n"
      ],
      "text/latex": [
       "\\begin{tabular}{r|llllllll}\n",
       " id\\_text & id\\_line & label & lemma & base & skip & entry & section\\\\\n",
       "\\hline\n",
       "\t P224980                                   & 4                                         & o i 1                                     & gigir{[}chariot{]}N                       & \\{ŋeš\\}gigir                            & 0                                         & gigir{[}chariot{]}N                       & chariot                                  \\\\\n",
       "\t P224980                                         & 5                                               & o i 2                                           & e{[}house{]}N gigir{[}chariot{]}N               & \\{ŋeš\\}e₂ gigir                               & 0                                               & e{[}house{]}N\\_gigir{[}chariot{]}N             & chariot                                        \\\\\n",
       "\t P224980                                               & 6                                                     & o i 3                                                 & e{[}house{]}N usan{[}whip{]}N gigir{[}chariot{]}N     & \\{ŋeš\\}e₂ usan₃ gigir                               & 0                                                     & e{[}house{]}N\\_usan{[}whip{]}N\\_gigir{[}chariot{]}N & chariot                                              \\\\\n",
       "\t P224986                                         & 4                                               & o i 1                                           & guza{[}chair{]}N anše{[}equid{]}N               & \\{ŋeš\\}gu-za anše                             & 0                                               & guza{[}chair{]}N\\_anše{[}equid{]}N             & chair                                          \\\\\n",
       "\t P224986                                         & 5                                               & o i 2                                           & guza{[}chair{]}N kaskal{[}way{]}N               & \\{ŋeš\\}gu-za kaskal                           & 0                                               & guza{[}chair{]}N\\_kaskal{[}way{]}N             & chair                                          \\\\\n",
       "\t P224986                                         & 6                                               & o i 3                                           & guza{[}chair{]}N zir{[}break{]}V/t              & \\{ŋeš\\}gu-za zi                               & 0                                               & guza{[}chair{]}N\\_zir{[}break{]}V/t            & NA                                             \\\\\n",
       "\t P224994                                       & 4                                             & o i 1                                         & \\{ŋeš\\}x-x{[}NA{]}NA                        & \\{ŋeš\\}x-x                                  & 0                                             & \\{ŋeš\\}x-x{[}NA{]}NA                        & NA                                           \\\\\n",
       "\t P224994                                       & 5                                             & o i 2                                         & \\{ŋeš\\}SI-x{[}NA{]}NA                       & \\{ŋeš\\}SI-x                                 & 0                                             & \\{ŋeš\\}SI-x{[}NA{]}NA                       & NA                                           \\\\\n",
       "\t P224994                                       & 6                                             & o i 3                                         & \\{ŋeš\\}šu-x{[}NA{]}NA                       & \\{ŋeš\\}šu-x                                 & 0                                             & \\{ŋeš\\}šu-x{[}NA{]}NA                       & NA                                           \\\\\n",
       "\t P224996                                   & 4                                         & o i 1                                     & guza{[}chair{]}N                          & \\{ŋeš\\}gu-za                            & 0                                         & guza{[}chair{]}N                          & chair                                    \\\\\n",
       "\t P224996                                         & 5                                               & o i 2                                           & guza{[}chair{]}N gid{[}long{]}V/i               & \\{ŋeš\\}gu-za gid₂                             & 0                                               & guza{[}chair{]}N\\_gid{[}long{]}V/i             & chair                                          \\\\\n",
       "\t P224996                                         & 6                                               & o i 3                                           & guza{[}chair{]}N sirda{[}cnne{]}N               & \\{ŋeš\\}gu-za sir₂-da                          & 0                                               & guza{[}chair{]}N\\_sirda{[}cnne{]}N             & chair                                          \\\\\n",
       "\t P225006                                   & 4                                         & o i 1                                     & ig{[}door{]}N                             & \\{ŋeš\\}ig                               & 0                                         & ig{[}door{]}N                             & door                                     \\\\\n",
       "\t P225006                                         & 5                                               & o i 2                                           & suku{[}pole{]}N ig{[}door{]}N                   & \\{ŋeš\\}suku₅ ig                               & 0                                               & suku{[}pole{]}N\\_ig{[}door{]}N                 & door                                           \\\\\n",
       "\t P225006                                         & 6                                               & o i 3                                           & zara{[}pivot{]}N ig{[}door{]}N                  & \\{ŋeš\\}za-ra ig                               & 0                                               & zara{[}pivot{]}N\\_ig{[}door{]}N                & NA                                             \\\\\n",
       "\t P225023                                       & 4                                             & o i 1                                         & \\{ŋeš\\}x{[}NA{]}NA                          & \\{ŋeš\\}x                                    & 0                                             & \\{ŋeš\\}x{[}NA{]}NA                          & X.6                                          \\\\\n",
       "\t P225023                                         & 5                                               & o i 2                                           & emerah{[}jug{]}N x{[}NA{]}NA                    & \\{ŋeš\\}emerah x                               & 0                                               & emerah{[}jug{]}N\\_x{[}NA{]}NA                  & NA                                             \\\\\n",
       "\t P225023                                         & 6                                               & o i 3                                           & emerah{[}jug{]}N x{[}NA{]}NA                    & \\{ŋeš\\}emerah x                               & 0                                               & emerah{[}jug{]}N\\_x{[}NA{]}NA                  & NA                                             \\\\\n",
       "\t P225033                                   & 4                                         & o i 1                                     & targul{[}pole{]}N                         & \\{ŋeš\\}dar-gul                          & 0                                         & targul{[}pole{]}N                         & pole                                     \\\\\n",
       "\t P225033                                   & 5                                         & o i 2                                     & targul{[}pole{]}N                         & \\{ŋeš\\}dar-gul-la₂                      & 0                                         & targul{[}pole{]}N                         & pole                                     \\\\\n",
       "\t P225033                                   & 6                                         & o i 3                                     & garig{[}comb{]}N                          & \\{ŋeš\\}ga-rig₂                          & 0                                         & garig{[}comb{]}N                          & comb                                     \\\\\n",
       "\t P225059                                   & 4                                         & o i 1                                     & emerah{[}jug{]}N                          & \\{ŋeš\\}emerah                           & 0                                         & emerah{[}jug{]}N                          & jug                                      \\\\\n",
       "\t P225059                                         & 5                                               & o i 2                                           & emerah{[}jug{]}N x{[}NA{]}NA                    & \\{ŋeš\\}emerah x                               & 0                                               & emerah{[}jug{]}N\\_x{[}NA{]}NA                  & NA                                             \\\\\n",
       "\t P225059                                         & 6                                               & o i 3                                           & emerah{[}jug{]}N x{[}NA{]}NA                    & \\{ŋeš\\}emerah x                               & 0                                               & emerah{[}jug{]}N\\_x{[}NA{]}NA                  & NA                                             \\\\\n",
       "\t P225062                                   & 4                                         & o i 1                                     & allanum{[}oak{]}N                         & \\{ŋeš\\}al-la-nu-um                      & 0                                         & allanum{[}oak{]}N                         & NA                                       \\\\\n",
       "\t P225062                                   & 5                                         & o i 2                                     & zumdianum{[}tree{]}N                      & \\{ŋeš\\}zum-di-a-num₂                    & 0                                         & zumdianum{[}tree{]}N                      & NA                                       \\\\\n",
       "\t P225062                                   & 6                                         & o i 3                                     & tiʾarum{[}tree{]}N                        & \\{ŋeš\\}ti-ia-lum                        & 0                                         & tiʾarum{[}tree{]}N                        & tree.5                                   \\\\\n",
       "\t P225065                               & 4                                     & unknown                               & unknown                               & unknown                               & 1                                     & unknown                               & NA                                   \\\\\n",
       "\t P225065                                         & 5                                               & o i 2                                           & ig{[}door{]}N x{[}NA{]}NA                       & \\{ŋeš\\}ig x                                   & 0                                               & ig{[}door{]}N\\_x{[}NA{]}NA                     & NA                                             \\\\\n",
       "\t P225065                                         & 6                                               & o i 3                                           & ig{[}door{]}N x{[}NA{]}NA                       & \\{ŋeš\\}ig x                                   & 0                                               & ig{[}door{]}N\\_x{[}NA{]}NA                     & NA                                             \\\\\n",
       "\t ⋮ & ⋮ & ⋮ & ⋮ & ⋮ & ⋮ & ⋮ & ⋮\\\\\n",
       "\t X100003                                  &  3                                       & o 2                                      & esi{[}tree{]}N                           & \\{ŋeš\\}esi                             & 0                                        & esi{[}tree{]}N                           & tree                                    \\\\\n",
       "\t X100003                                  &  4                                       & o 3                                      & ŋešnu{[}tree{]}N                         & ŋeš-BUR₂                                 & 0                                        & ŋešnu{[}tree{]}N                         & tree                                    \\\\\n",
       "\t X100003                                  &  5                                       & o 4                                      & halub{[}tree{]}N                         & \\{ŋeš\\}ha-lu-ub₂                       & 0                                        & halub{[}tree{]}N                         & tree                                    \\\\\n",
       "\t X100003                                  &  6                                       & o 5                                      & šagkal{[}tree{]}N                        & \\{ŋeš\\}šag₄-ul₄                        & 0                                        & šagkal{[}tree{]}N                        & tree                                    \\\\\n",
       "\t X100003                                  &  7                                       & o 6                                      & ŋešgana{[}tree{]}N                       & ŋeš-kin₂                                 & 0                                        & ŋešgana{[}tree{]}N                       & tree                                    \\\\\n",
       "\t X100003                                        &  8                                             & o 7                                            & ŋešgana{[}tree{]}N babbar{[}white{]}V/i        & ŋeš-kin₂ babbar                                & 0                                              & ŋešgana{[}tree{]}N\\_babbar{[}white{]}V/i      & tree                                          \\\\\n",
       "\t X100003                                        &  9                                             & o 8                                            & ŋešgana{[}tree{]}N giggi{[}black{]}V/i         & ŋeš-kin₂ giggi                                 & 0                                              & ŋešgana{[}tree{]}N\\_giggi{[}black{]}V/i       & tree                                          \\\\\n",
       "\t X100003                                        & 10                                             & o 9                                            & ŋešgana{[}tree{]}N si{[}fill{]}V/t             & ŋeš-kin₂ sa₅                                   & 0                                              & ŋešgana{[}tree{]}N\\_si{[}fill{]}V/t           & NA                                            \\\\\n",
       "\t X100003                                            & 11                                                 & o 10                                               & \\{ŋeš\\}bar-ŋeš{[}NA{]}NA gunu{[}speckled{]}V/i   & \\{ŋeš\\}bar-ŋeš gun₃                              & 0                                                  & \\{ŋeš\\}bar-ŋeš{[}NA{]}NA\\_gunu{[}speckled{]}V/i & NA                                                \\\\\n",
       "\t X100003                                        & 12                                             & o 11                                           & ŋeš{[}tree{]}N babbar{[}white{]}V/i            & ŋeš babbar                                     & 0                                              & ŋeš{[}tree{]}N\\_babbar{[}white{]}V/i          & NA                                            \\\\\n",
       "\t X100003                                        & 13                                             & o 12                                           & ŋeš{[}tree{]}N giggi{[}black{]}V/i             & ŋeš giggi                                      & 0                                              & ŋeš{[}tree{]}N\\_giggi{[}black{]}V/i           & tree                                          \\\\\n",
       "\t X100003                                  & 14                                       & o 13                                     & ŋeštin{[}vine{]}N                        & \\{ŋeš\\}ŋeštin                          & 0                                        & ŋeštin{[}vine{]}N                        & tree                                    \\\\\n",
       "\t X100003                                  & 15                                       & o 14                                     & ŋeštinkira{[}berry{]}N                   & \\{ŋeš\\}ŋeštin-ŋir₂                     & 0                                        & ŋeštinkira{[}berry{]}N                   & tree                                    \\\\\n",
       "\t X100003                                  & 17                                       & r 1                                      & ŋeštinzug{[}grape{]}N                    & \\{ŋeš\\}ŋeštin-zug₂                     & 0                                        & ŋeštinzug{[}grape{]}N                    & NA                                      \\\\\n",
       "\t X100003                                  & 18                                       & r 2                                      & ŋeštinkaʾa{[}grape{]}N                   & \\{ŋeš\\}ŋeštin-ka₅-a                    & 0                                        & ŋeštinkaʾa{[}grape{]}N                   & tree                                    \\\\\n",
       "\t X100003                                        & 19                                             & r 3                                            & ŋeštin{[}vine{]}N garan{[}bunch{]}N            & \\{ŋeš\\}ŋeštin ga-ra-na                       & 0                                              & ŋeštin{[}vine{]}N\\_garan{[}bunch{]}N          & NA                                            \\\\\n",
       "\t X100003                                                   & 20                                                        & r 4                                                       & ŋeštinguruma{[}\\textasciitilde{}vine{]}N                 & \\{ŋeš\\}ŋeštin-gurum-ma                                  & 0                                                         & ŋeštinguruma{[}\\textasciitilde{}vine{]}N                 & tree                                                     \\\\\n",
       "\t X100003                                        & 21                                             & r 5                                            & ŋeštin{[}vine{]}N sur{[}press{]}V/t            & \\{ŋeš\\}ŋeštin sur                            & 0                                              & ŋeštin{[}vine{]}N\\_sur{[}press{]}V/t          & NA                                            \\\\\n",
       "\t X100003                                              & 22                                                   & r 6                                                  & ŋeštin{[}vine{]}N igi{[}eye{]}N gud{[}ox{]}N         & \\{ŋeš\\}ŋeštin igi gud                              & 0                                                    & ŋeštin{[}vine{]}N\\_igi{[}eye{]}N\\_gud{[}ox{]}N     & NA                                                  \\\\\n",
       "\t X100003                                        & 23                                             & r 7                                            & tila{[}grapevine{]}N ŋeštin{[}vine{]}N         & \\{ŋeš\\}illat \\{ŋeš\\}ŋeštin                 & 0                                              & tila{[}grapevine{]}N\\_ŋeštin{[}vine{]}N       & NA                                            \\\\\n",
       "\t X100003                                        & 24                                             & r 8                                            & gurum{[}bend{]}V/t ŋeštin{[}vine{]}N           & \\{ŋeš\\}gurum \\{ŋeš\\}ŋeštin                 & 0                                              & gurum{[}bend{]}V/t\\_ŋeštin{[}vine{]}N         & NA                                            \\\\\n",
       "\t X100003                                        & 25                                             & r 9                                            & garan{[}bunch{]}N ŋeštin{[}vine{]}N            & \\{ŋeš\\}ga-ra-na \\{ŋeš\\}ŋeštin              & 0                                              & garan{[}bunch{]}N\\_ŋeštin{[}vine{]}N          & NA                                            \\\\\n",
       "\t X100003                                  & 26                                       & r 10                                     & peš{[}fig{]}N                            & \\{ŋeš\\}peš₃                            & 0                                        & peš{[}fig{]}N                            & NA                                      \\\\\n",
       "\t X100003                                        & 27                                             & r 11                                           & peš{[}fig{]}N Mari{[}1{]}SN                    & \\{ŋeš\\}peš₃ ma₂-ri₂\\{ki\\}                  & 0                                              & peš{[}fig{]}N\\_Mari{[}1{]}SN                  & NA                                            \\\\\n",
       "\t X100003                                        & 28                                             & r 12                                           & peš{[}fig{]}N Subir{[}1{]}GN                   & \\{ŋeš\\}peš₃ su-bir\\{ki\\}                   & 0                                              & peš{[}fig{]}N\\_Subir{[}1{]}GN                 & NA                                            \\\\\n",
       "\t X100003                                        & 29                                             & r 13                                           & peš{[}fig{]}N Elam{[}1{]}GN                    & \\{ŋeš\\}peš₃ elam-ma\\{ki\\}                  & 0                                              & peš{[}fig{]}N\\_Elam{[}1{]}GN                  & NA                                            \\\\\n",
       "\t X100003                                        & 30                                             & r 14                                           & peš{[}fig{]}N Martu{[}1{]}GN                   & \\{ŋeš\\}peš₃ mar-tu\\{ki\\}                   & 0                                              & peš{[}fig{]}N\\_Martu{[}1{]}GN                 & NA                                            \\\\\n",
       "\t X100003                                        & 31                                             & r 15                                           & peš{[}fig{]}N šergu{[}string{]}N               & \\{ŋeš\\}peš₃ še-er-kum                        & 0                                              & peš{[}fig{]}N\\_šergu{[}string{]}N             & NA                                            \\\\\n",
       "\t X100003                                        & 32                                             & r 16                                           & ama{[}mother{]}N peš{[}fig{]}N                 & \\{ŋeš\\}ama \\{ŋeš\\}peš₃                     & 0                                              & ama{[}mother{]}N\\_peš{[}fig{]}N               & NA                                            \\\\\n",
       "\t X100003                                        & 33                                             & r 17                                           & pa{[}branch{]}N peš{[}fig{]}N                  & \\{ŋeš\\}pa \\{ŋeš\\}peš₃                      & 0                                              & pa{[}branch{]}N\\_peš{[}fig{]}N                & NA                                            \\\\\n",
       "\\end{tabular}\n"
      ],
      "text/markdown": [
       "\n",
       "id_text | id_line | label | lemma | base | skip | entry | section | \n",
       "|---|---|---|---|---|---|---|---|---|---|---|---|---|---|---|---|---|---|---|---|---|---|---|---|---|---|---|---|---|---|---|---|---|---|---|---|---|---|---|---|---|---|---|---|---|---|---|---|---|---|---|---|---|---|---|---|---|---|---|---|---|\n",
       "| P224980                               | 4                                     | o i 1                                 | gigir[chariot]N                       | {ŋeš}gigir                            | 0                                     | gigir[chariot]N                       | chariot                               | \n",
       "| P224980                               | 5                                     | o i 2                                 | e[house]N gigir[chariot]N             | {ŋeš}e₂ gigir                         | 0                                     | e[house]N_gigir[chariot]N             | chariot                               | \n",
       "| P224980                               | 6                                     | o i 3                                 | e[house]N usan[whip]N gigir[chariot]N | {ŋeš}e₂ usan₃ gigir                   | 0                                     | e[house]N_usan[whip]N_gigir[chariot]N | chariot                               | \n",
       "| P224986                               | 4                                     | o i 1                                 | guza[chair]N anše[equid]N             | {ŋeš}gu-za anše                       | 0                                     | guza[chair]N_anše[equid]N             | chair                                 | \n",
       "| P224986                               | 5                                     | o i 2                                 | guza[chair]N kaskal[way]N             | {ŋeš}gu-za kaskal                     | 0                                     | guza[chair]N_kaskal[way]N             | chair                                 | \n",
       "| P224986                               | 6                                     | o i 3                                 | guza[chair]N zir[break]V/t            | {ŋeš}gu-za zi                         | 0                                     | guza[chair]N_zir[break]V/t            | NA                                    | \n",
       "| P224994                               | 4                                     | o i 1                                 | {ŋeš}x-x[NA]NA                        | {ŋeš}x-x                              | 0                                     | {ŋeš}x-x[NA]NA                        | NA                                    | \n",
       "| P224994                               | 5                                     | o i 2                                 | {ŋeš}SI-x[NA]NA                       | {ŋeš}SI-x                             | 0                                     | {ŋeš}SI-x[NA]NA                       | NA                                    | \n",
       "| P224994                               | 6                                     | o i 3                                 | {ŋeš}šu-x[NA]NA                       | {ŋeš}šu-x                             | 0                                     | {ŋeš}šu-x[NA]NA                       | NA                                    | \n",
       "| P224996                               | 4                                     | o i 1                                 | guza[chair]N                          | {ŋeš}gu-za                            | 0                                     | guza[chair]N                          | chair                                 | \n",
       "| P224996                               | 5                                     | o i 2                                 | guza[chair]N gid[long]V/i             | {ŋeš}gu-za gid₂                       | 0                                     | guza[chair]N_gid[long]V/i             | chair                                 | \n",
       "| P224996                               | 6                                     | o i 3                                 | guza[chair]N sirda[cnne]N             | {ŋeš}gu-za sir₂-da                    | 0                                     | guza[chair]N_sirda[cnne]N             | chair                                 | \n",
       "| P225006                               | 4                                     | o i 1                                 | ig[door]N                             | {ŋeš}ig                               | 0                                     | ig[door]N                             | door                                  | \n",
       "| P225006                               | 5                                     | o i 2                                 | suku[pole]N ig[door]N                 | {ŋeš}suku₅ ig                         | 0                                     | suku[pole]N_ig[door]N                 | door                                  | \n",
       "| P225006                               | 6                                     | o i 3                                 | zara[pivot]N ig[door]N                | {ŋeš}za-ra ig                         | 0                                     | zara[pivot]N_ig[door]N                | NA                                    | \n",
       "| P225023                               | 4                                     | o i 1                                 | {ŋeš}x[NA]NA                          | {ŋeš}x                                | 0                                     | {ŋeš}x[NA]NA                          | X.6                                   | \n",
       "| P225023                               | 5                                     | o i 2                                 | emerah[jug]N x[NA]NA                  | {ŋeš}emerah x                         | 0                                     | emerah[jug]N_x[NA]NA                  | NA                                    | \n",
       "| P225023                               | 6                                     | o i 3                                 | emerah[jug]N x[NA]NA                  | {ŋeš}emerah x                         | 0                                     | emerah[jug]N_x[NA]NA                  | NA                                    | \n",
       "| P225033                               | 4                                     | o i 1                                 | targul[pole]N                         | {ŋeš}dar-gul                          | 0                                     | targul[pole]N                         | pole                                  | \n",
       "| P225033                               | 5                                     | o i 2                                 | targul[pole]N                         | {ŋeš}dar-gul-la₂                      | 0                                     | targul[pole]N                         | pole                                  | \n",
       "| P225033                               | 6                                     | o i 3                                 | garig[comb]N                          | {ŋeš}ga-rig₂                          | 0                                     | garig[comb]N                          | comb                                  | \n",
       "| P225059                               | 4                                     | o i 1                                 | emerah[jug]N                          | {ŋeš}emerah                           | 0                                     | emerah[jug]N                          | jug                                   | \n",
       "| P225059                               | 5                                     | o i 2                                 | emerah[jug]N x[NA]NA                  | {ŋeš}emerah x                         | 0                                     | emerah[jug]N_x[NA]NA                  | NA                                    | \n",
       "| P225059                               | 6                                     | o i 3                                 | emerah[jug]N x[NA]NA                  | {ŋeš}emerah x                         | 0                                     | emerah[jug]N_x[NA]NA                  | NA                                    | \n",
       "| P225062                               | 4                                     | o i 1                                 | allanum[oak]N                         | {ŋeš}al-la-nu-um                      | 0                                     | allanum[oak]N                         | NA                                    | \n",
       "| P225062                               | 5                                     | o i 2                                 | zumdianum[tree]N                      | {ŋeš}zum-di-a-num₂                    | 0                                     | zumdianum[tree]N                      | NA                                    | \n",
       "| P225062                               | 6                                     | o i 3                                 | tiʾarum[tree]N                        | {ŋeš}ti-ia-lum                        | 0                                     | tiʾarum[tree]N                        | tree.5                                | \n",
       "| P225065                               | 4                                     | unknown                               | unknown                               | unknown                               | 1                                     | unknown                               | NA                                    | \n",
       "| P225065                               | 5                                     | o i 2                                 | ig[door]N x[NA]NA                     | {ŋeš}ig x                             | 0                                     | ig[door]N_x[NA]NA                     | NA                                    | \n",
       "| P225065                               | 6                                     | o i 3                                 | ig[door]N x[NA]NA                     | {ŋeš}ig x                             | 0                                     | ig[door]N_x[NA]NA                     | NA                                    | \n",
       "| ⋮ | ⋮ | ⋮ | ⋮ | ⋮ | ⋮ | ⋮ | ⋮ | \n",
       "| X100003                              |  3                                   | o 2                                  | esi[tree]N                           | {ŋeš}esi                             | 0                                    | esi[tree]N                           | tree                                 | \n",
       "| X100003                              |  4                                   | o 3                                  | ŋešnu[tree]N                         | ŋeš-BUR₂                             | 0                                    | ŋešnu[tree]N                         | tree                                 | \n",
       "| X100003                              |  5                                   | o 4                                  | halub[tree]N                         | {ŋeš}ha-lu-ub₂                       | 0                                    | halub[tree]N                         | tree                                 | \n",
       "| X100003                              |  6                                   | o 5                                  | šagkal[tree]N                        | {ŋeš}šag₄-ul₄                        | 0                                    | šagkal[tree]N                        | tree                                 | \n",
       "| X100003                              |  7                                   | o 6                                  | ŋešgana[tree]N                       | ŋeš-kin₂                             | 0                                    | ŋešgana[tree]N                       | tree                                 | \n",
       "| X100003                              |  8                                   | o 7                                  | ŋešgana[tree]N babbar[white]V/i      | ŋeš-kin₂ babbar                      | 0                                    | ŋešgana[tree]N_babbar[white]V/i      | tree                                 | \n",
       "| X100003                              |  9                                   | o 8                                  | ŋešgana[tree]N giggi[black]V/i       | ŋeš-kin₂ giggi                       | 0                                    | ŋešgana[tree]N_giggi[black]V/i       | tree                                 | \n",
       "| X100003                              | 10                                   | o 9                                  | ŋešgana[tree]N si[fill]V/t           | ŋeš-kin₂ sa₅                         | 0                                    | ŋešgana[tree]N_si[fill]V/t           | NA                                   | \n",
       "| X100003                              | 11                                   | o 10                                 | {ŋeš}bar-ŋeš[NA]NA gunu[speckled]V/i | {ŋeš}bar-ŋeš gun₃                    | 0                                    | {ŋeš}bar-ŋeš[NA]NA_gunu[speckled]V/i | NA                                   | \n",
       "| X100003                              | 12                                   | o 11                                 | ŋeš[tree]N babbar[white]V/i          | ŋeš babbar                           | 0                                    | ŋeš[tree]N_babbar[white]V/i          | NA                                   | \n",
       "| X100003                              | 13                                   | o 12                                 | ŋeš[tree]N giggi[black]V/i           | ŋeš giggi                            | 0                                    | ŋeš[tree]N_giggi[black]V/i           | tree                                 | \n",
       "| X100003                              | 14                                   | o 13                                 | ŋeštin[vine]N                        | {ŋeš}ŋeštin                          | 0                                    | ŋeštin[vine]N                        | tree                                 | \n",
       "| X100003                              | 15                                   | o 14                                 | ŋeštinkira[berry]N                   | {ŋeš}ŋeštin-ŋir₂                     | 0                                    | ŋeštinkira[berry]N                   | tree                                 | \n",
       "| X100003                              | 17                                   | r 1                                  | ŋeštinzug[grape]N                    | {ŋeš}ŋeštin-zug₂                     | 0                                    | ŋeštinzug[grape]N                    | NA                                   | \n",
       "| X100003                              | 18                                   | r 2                                  | ŋeštinkaʾa[grape]N                   | {ŋeš}ŋeštin-ka₅-a                    | 0                                    | ŋeštinkaʾa[grape]N                   | tree                                 | \n",
       "| X100003                              | 19                                   | r 3                                  | ŋeštin[vine]N garan[bunch]N          | {ŋeš}ŋeštin ga-ra-na                 | 0                                    | ŋeštin[vine]N_garan[bunch]N          | NA                                   | \n",
       "| X100003                              | 20                                   | r 4                                  | ŋeštinguruma[~vine]N                 | {ŋeš}ŋeštin-gurum-ma                 | 0                                    | ŋeštinguruma[~vine]N                 | tree                                 | \n",
       "| X100003                              | 21                                   | r 5                                  | ŋeštin[vine]N sur[press]V/t          | {ŋeš}ŋeštin sur                      | 0                                    | ŋeštin[vine]N_sur[press]V/t          | NA                                   | \n",
       "| X100003                              | 22                                   | r 6                                  | ŋeštin[vine]N igi[eye]N gud[ox]N     | {ŋeš}ŋeštin igi gud                  | 0                                    | ŋeštin[vine]N_igi[eye]N_gud[ox]N     | NA                                   | \n",
       "| X100003                              | 23                                   | r 7                                  | tila[grapevine]N ŋeštin[vine]N       | {ŋeš}illat {ŋeš}ŋeštin               | 0                                    | tila[grapevine]N_ŋeštin[vine]N       | NA                                   | \n",
       "| X100003                              | 24                                   | r 8                                  | gurum[bend]V/t ŋeštin[vine]N         | {ŋeš}gurum {ŋeš}ŋeštin               | 0                                    | gurum[bend]V/t_ŋeštin[vine]N         | NA                                   | \n",
       "| X100003                              | 25                                   | r 9                                  | garan[bunch]N ŋeštin[vine]N          | {ŋeš}ga-ra-na {ŋeš}ŋeštin            | 0                                    | garan[bunch]N_ŋeštin[vine]N          | NA                                   | \n",
       "| X100003                              | 26                                   | r 10                                 | peš[fig]N                            | {ŋeš}peš₃                            | 0                                    | peš[fig]N                            | NA                                   | \n",
       "| X100003                              | 27                                   | r 11                                 | peš[fig]N Mari[1]SN                  | {ŋeš}peš₃ ma₂-ri₂{ki}                | 0                                    | peš[fig]N_Mari[1]SN                  | NA                                   | \n",
       "| X100003                              | 28                                   | r 12                                 | peš[fig]N Subir[1]GN                 | {ŋeš}peš₃ su-bir{ki}                 | 0                                    | peš[fig]N_Subir[1]GN                 | NA                                   | \n",
       "| X100003                              | 29                                   | r 13                                 | peš[fig]N Elam[1]GN                  | {ŋeš}peš₃ elam-ma{ki}                | 0                                    | peš[fig]N_Elam[1]GN                  | NA                                   | \n",
       "| X100003                              | 30                                   | r 14                                 | peš[fig]N Martu[1]GN                 | {ŋeš}peš₃ mar-tu{ki}                 | 0                                    | peš[fig]N_Martu[1]GN                 | NA                                   | \n",
       "| X100003                              | 31                                   | r 15                                 | peš[fig]N šergu[string]N             | {ŋeš}peš₃ še-er-kum                  | 0                                    | peš[fig]N_šergu[string]N             | NA                                   | \n",
       "| X100003                              | 32                                   | r 16                                 | ama[mother]N peš[fig]N               | {ŋeš}ama {ŋeš}peš₃                   | 0                                    | ama[mother]N_peš[fig]N               | NA                                   | \n",
       "| X100003                              | 33                                   | r 17                                 | pa[branch]N peš[fig]N                | {ŋeš}pa {ŋeš}peš₃                    | 0                                    | pa[branch]N_peš[fig]N                | NA                                   | \n",
       "\n",
       "\n"
      ],
      "text/plain": [
       "     id_text id_line label   lemma                                \n",
       "1    P224980 4       o i 1   gigir[chariot]N                      \n",
       "2    P224980 5       o i 2   e[house]N gigir[chariot]N            \n",
       "3    P224980 6       o i 3   e[house]N usan[whip]N gigir[chariot]N\n",
       "4    P224986 4       o i 1   guza[chair]N anše[equid]N            \n",
       "5    P224986 5       o i 2   guza[chair]N kaskal[way]N            \n",
       "6    P224986 6       o i 3   guza[chair]N zir[break]V/t           \n",
       "7    P224994 4       o i 1   {ŋeš}x-x[NA]NA                       \n",
       "8    P224994 5       o i 2   {ŋeš}SI-x[NA]NA                      \n",
       "9    P224994 6       o i 3   {ŋeš}šu-x[NA]NA                      \n",
       "10   P224996 4       o i 1   guza[chair]N                         \n",
       "11   P224996 5       o i 2   guza[chair]N gid[long]V/i            \n",
       "12   P224996 6       o i 3   guza[chair]N sirda[cnne]N            \n",
       "13   P225006 4       o i 1   ig[door]N                            \n",
       "14   P225006 5       o i 2   suku[pole]N ig[door]N                \n",
       "15   P225006 6       o i 3   zara[pivot]N ig[door]N               \n",
       "16   P225023 4       o i 1   {ŋeš}x[NA]NA                         \n",
       "17   P225023 5       o i 2   emerah[jug]N x[NA]NA                 \n",
       "18   P225023 6       o i 3   emerah[jug]N x[NA]NA                 \n",
       "19   P225033 4       o i 1   targul[pole]N                        \n",
       "20   P225033 5       o i 2   targul[pole]N                        \n",
       "21   P225033 6       o i 3   garig[comb]N                         \n",
       "22   P225059 4       o i 1   emerah[jug]N                         \n",
       "23   P225059 5       o i 2   emerah[jug]N x[NA]NA                 \n",
       "24   P225059 6       o i 3   emerah[jug]N x[NA]NA                 \n",
       "25   P225062 4       o i 1   allanum[oak]N                        \n",
       "26   P225062 5       o i 2   zumdianum[tree]N                     \n",
       "27   P225062 6       o i 3   tiʾarum[tree]N                       \n",
       "28   P225065 4       unknown unknown                              \n",
       "29   P225065 5       o i 2   ig[door]N x[NA]NA                    \n",
       "30   P225065 6       o i 3   ig[door]N x[NA]NA                    \n",
       "⋮    ⋮       ⋮       ⋮       ⋮                                    \n",
       "6403 X100003  3      o 2     esi[tree]N                           \n",
       "6404 X100003  4      o 3     ŋešnu[tree]N                         \n",
       "6405 X100003  5      o 4     halub[tree]N                         \n",
       "6406 X100003  6      o 5     šagkal[tree]N                        \n",
       "6407 X100003  7      o 6     ŋešgana[tree]N                       \n",
       "6408 X100003  8      o 7     ŋešgana[tree]N babbar[white]V/i      \n",
       "6409 X100003  9      o 8     ŋešgana[tree]N giggi[black]V/i       \n",
       "6410 X100003 10      o 9     ŋešgana[tree]N si[fill]V/t           \n",
       "6411 X100003 11      o 10    {ŋeš}bar-ŋeš[NA]NA gunu[speckled]V/i \n",
       "6412 X100003 12      o 11    ŋeš[tree]N babbar[white]V/i          \n",
       "6413 X100003 13      o 12    ŋeš[tree]N giggi[black]V/i           \n",
       "6414 X100003 14      o 13    ŋeštin[vine]N                        \n",
       "6415 X100003 15      o 14    ŋeštinkira[berry]N                   \n",
       "6416 X100003 17      r 1     ŋeštinzug[grape]N                    \n",
       "6417 X100003 18      r 2     ŋeštinkaʾa[grape]N                   \n",
       "6418 X100003 19      r 3     ŋeštin[vine]N garan[bunch]N          \n",
       "6419 X100003 20      r 4     ŋeštinguruma[~vine]N                 \n",
       "6420 X100003 21      r 5     ŋeštin[vine]N sur[press]V/t          \n",
       "6421 X100003 22      r 6     ŋeštin[vine]N igi[eye]N gud[ox]N     \n",
       "6422 X100003 23      r 7     tila[grapevine]N ŋeštin[vine]N       \n",
       "6423 X100003 24      r 8     gurum[bend]V/t ŋeštin[vine]N         \n",
       "6424 X100003 25      r 9     garan[bunch]N ŋeštin[vine]N          \n",
       "6425 X100003 26      r 10    peš[fig]N                            \n",
       "6426 X100003 27      r 11    peš[fig]N Mari[1]SN                  \n",
       "6427 X100003 28      r 12    peš[fig]N Subir[1]GN                 \n",
       "6428 X100003 29      r 13    peš[fig]N Elam[1]GN                  \n",
       "6429 X100003 30      r 14    peš[fig]N Martu[1]GN                 \n",
       "6430 X100003 31      r 15    peš[fig]N šergu[string]N             \n",
       "6431 X100003 32      r 16    ama[mother]N peš[fig]N               \n",
       "6432 X100003 33      r 17    pa[branch]N peš[fig]N                \n",
       "     base                      skip entry                                \n",
       "1    {ŋeš}gigir                0    gigir[chariot]N                      \n",
       "2    {ŋeš}e₂ gigir             0    e[house]N_gigir[chariot]N            \n",
       "3    {ŋeš}e₂ usan₃ gigir       0    e[house]N_usan[whip]N_gigir[chariot]N\n",
       "4    {ŋeš}gu-za anše           0    guza[chair]N_anše[equid]N            \n",
       "5    {ŋeš}gu-za kaskal         0    guza[chair]N_kaskal[way]N            \n",
       "6    {ŋeš}gu-za zi             0    guza[chair]N_zir[break]V/t           \n",
       "7    {ŋeš}x-x                  0    {ŋeš}x-x[NA]NA                       \n",
       "8    {ŋeš}SI-x                 0    {ŋeš}SI-x[NA]NA                      \n",
       "9    {ŋeš}šu-x                 0    {ŋeš}šu-x[NA]NA                      \n",
       "10   {ŋeš}gu-za                0    guza[chair]N                         \n",
       "11   {ŋeš}gu-za gid₂           0    guza[chair]N_gid[long]V/i            \n",
       "12   {ŋeš}gu-za sir₂-da        0    guza[chair]N_sirda[cnne]N            \n",
       "13   {ŋeš}ig                   0    ig[door]N                            \n",
       "14   {ŋeš}suku₅ ig             0    suku[pole]N_ig[door]N                \n",
       "15   {ŋeš}za-ra ig             0    zara[pivot]N_ig[door]N               \n",
       "16   {ŋeš}x                    0    {ŋeš}x[NA]NA                         \n",
       "17   {ŋeš}emerah x             0    emerah[jug]N_x[NA]NA                 \n",
       "18   {ŋeš}emerah x             0    emerah[jug]N_x[NA]NA                 \n",
       "19   {ŋeš}dar-gul              0    targul[pole]N                        \n",
       "20   {ŋeš}dar-gul-la₂          0    targul[pole]N                        \n",
       "21   {ŋeš}ga-rig₂              0    garig[comb]N                         \n",
       "22   {ŋeš}emerah               0    emerah[jug]N                         \n",
       "23   {ŋeš}emerah x             0    emerah[jug]N_x[NA]NA                 \n",
       "24   {ŋeš}emerah x             0    emerah[jug]N_x[NA]NA                 \n",
       "25   {ŋeš}al-la-nu-um          0    allanum[oak]N                        \n",
       "26   {ŋeš}zum-di-a-num₂        0    zumdianum[tree]N                     \n",
       "27   {ŋeš}ti-ia-lum            0    tiʾarum[tree]N                       \n",
       "28   unknown                   1    unknown                              \n",
       "29   {ŋeš}ig x                 0    ig[door]N_x[NA]NA                    \n",
       "30   {ŋeš}ig x                 0    ig[door]N_x[NA]NA                    \n",
       "⋮    ⋮                         ⋮    ⋮                                    \n",
       "6403 {ŋeš}esi                  0    esi[tree]N                           \n",
       "6404 ŋeš-BUR₂                  0    ŋešnu[tree]N                         \n",
       "6405 {ŋeš}ha-lu-ub₂            0    halub[tree]N                         \n",
       "6406 {ŋeš}šag₄-ul₄             0    šagkal[tree]N                        \n",
       "6407 ŋeš-kin₂                  0    ŋešgana[tree]N                       \n",
       "6408 ŋeš-kin₂ babbar           0    ŋešgana[tree]N_babbar[white]V/i      \n",
       "6409 ŋeš-kin₂ giggi            0    ŋešgana[tree]N_giggi[black]V/i       \n",
       "6410 ŋeš-kin₂ sa₅              0    ŋešgana[tree]N_si[fill]V/t           \n",
       "6411 {ŋeš}bar-ŋeš gun₃         0    {ŋeš}bar-ŋeš[NA]NA_gunu[speckled]V/i \n",
       "6412 ŋeš babbar                0    ŋeš[tree]N_babbar[white]V/i          \n",
       "6413 ŋeš giggi                 0    ŋeš[tree]N_giggi[black]V/i           \n",
       "6414 {ŋeš}ŋeštin               0    ŋeštin[vine]N                        \n",
       "6415 {ŋeš}ŋeštin-ŋir₂          0    ŋeštinkira[berry]N                   \n",
       "6416 {ŋeš}ŋeštin-zug₂          0    ŋeštinzug[grape]N                    \n",
       "6417 {ŋeš}ŋeštin-ka₅-a         0    ŋeštinkaʾa[grape]N                   \n",
       "6418 {ŋeš}ŋeštin ga-ra-na      0    ŋeštin[vine]N_garan[bunch]N          \n",
       "6419 {ŋeš}ŋeštin-gurum-ma      0    ŋeštinguruma[~vine]N                 \n",
       "6420 {ŋeš}ŋeštin sur           0    ŋeštin[vine]N_sur[press]V/t          \n",
       "6421 {ŋeš}ŋeštin igi gud       0    ŋeštin[vine]N_igi[eye]N_gud[ox]N     \n",
       "6422 {ŋeš}illat {ŋeš}ŋeštin    0    tila[grapevine]N_ŋeštin[vine]N       \n",
       "6423 {ŋeš}gurum {ŋeš}ŋeštin    0    gurum[bend]V/t_ŋeštin[vine]N         \n",
       "6424 {ŋeš}ga-ra-na {ŋeš}ŋeštin 0    garan[bunch]N_ŋeštin[vine]N          \n",
       "6425 {ŋeš}peš₃                 0    peš[fig]N                            \n",
       "6426 {ŋeš}peš₃ ma₂-ri₂{ki}     0    peš[fig]N_Mari[1]SN                  \n",
       "6427 {ŋeš}peš₃ su-bir{ki}      0    peš[fig]N_Subir[1]GN                 \n",
       "6428 {ŋeš}peš₃ elam-ma{ki}     0    peš[fig]N_Elam[1]GN                  \n",
       "6429 {ŋeš}peš₃ mar-tu{ki}      0    peš[fig]N_Martu[1]GN                 \n",
       "6430 {ŋeš}peš₃ še-er-kum       0    peš[fig]N_šergu[string]N             \n",
       "6431 {ŋeš}ama {ŋeš}peš₃        0    ama[mother]N_peš[fig]N               \n",
       "6432 {ŋeš}pa {ŋeš}peš₃         0    pa[branch]N_peš[fig]N                \n",
       "     section\n",
       "1    chariot\n",
       "2    chariot\n",
       "3    chariot\n",
       "4    chair  \n",
       "5    chair  \n",
       "6    NA     \n",
       "7    NA     \n",
       "8    NA     \n",
       "9    NA     \n",
       "10   chair  \n",
       "11   chair  \n",
       "12   chair  \n",
       "13   door   \n",
       "14   door   \n",
       "15   NA     \n",
       "16   X.6    \n",
       "17   NA     \n",
       "18   NA     \n",
       "19   pole   \n",
       "20   pole   \n",
       "21   comb   \n",
       "22   jug    \n",
       "23   NA     \n",
       "24   NA     \n",
       "25   NA     \n",
       "26   NA     \n",
       "27   tree.5 \n",
       "28   NA     \n",
       "29   NA     \n",
       "30   NA     \n",
       "⋮    ⋮      \n",
       "6403 tree   \n",
       "6404 tree   \n",
       "6405 tree   \n",
       "6406 tree   \n",
       "6407 tree   \n",
       "6408 tree   \n",
       "6409 tree   \n",
       "6410 NA     \n",
       "6411 NA     \n",
       "6412 NA     \n",
       "6413 tree   \n",
       "6414 tree   \n",
       "6415 tree   \n",
       "6416 NA     \n",
       "6417 tree   \n",
       "6418 NA     \n",
       "6419 tree   \n",
       "6420 NA     \n",
       "6421 NA     \n",
       "6422 NA     \n",
       "6423 NA     \n",
       "6424 NA     \n",
       "6425 NA     \n",
       "6426 NA     \n",
       "6427 NA     \n",
       "6428 NA     \n",
       "6429 NA     \n",
       "6430 NA     \n",
       "6431 NA     \n",
       "6432 NA     "
      ]
     },
     "metadata": {},
     "output_type": "display_data"
    }
   ],
   "source": [
    "section_defs = Q39_sections\n",
    "for (i in 1:nrow(df)) {\n",
    "    entry = tolower(df$entry[i])\n",
    "    sections = names(which(sapply(section_defs, function(x) any(x == entry)) == TRUE))\n",
    "    if (length(sections) == 0) df$section[i] = NA\n",
    "    else df$section[i] = paste(sections, collapse = \":\")\n",
    "}\n",
    "df"
   ]
  },
  {
   "cell_type": "markdown",
   "metadata": {},
   "source": [
    "Many entries will not be assigned to a section because they either do not appear verbatium in the Q text that was used to define sections or they do appear in the Q text, but were not part of a section (i.e. they were not adjacent to another entry that shared enough similarity to be considered part of the same section).\n",
    "\n",
    "Note to Erin: Try going back to the section definition notebook and adding entries in the Q text that don't join a section to the previous section."
   ]
  },
  {
   "cell_type": "markdown",
   "metadata": {},
   "source": [
    "Very few entries were assigned to more than one section. Only the entry \"ŋešgana[pestle]N\" appears in two sections in the Q39 corpus. This entry appears in several documents."
   ]
  },
  {
   "cell_type": "code",
   "execution_count": 4,
   "metadata": {
    "collapsed": false
   },
   "outputs": [
    {
     "data": {
      "text/html": [
       "'ŋešgana[pestle]N'"
      ],
      "text/latex": [
       "'ŋešgana{[}pestle{]}N'"
      ],
      "text/markdown": [
       "'ŋešgana[pestle]N'"
      ],
      "text/plain": [
       "[1] \"ŋešgana[pestle]N\""
      ]
     },
     "metadata": {},
     "output_type": "display_data"
    }
   ],
   "source": [
    "unique(df[grep(\":\", df$section),]$entry)"
   ]
  },
  {
   "cell_type": "markdown",
   "metadata": {},
   "source": [
    "Now that we know which section(s) each entry belongs to, we can define the order of sections for each document. \n",
    "\n",
    "First, we split our dataframe by id_text so that each document is in its own dataframe. We then have a list of dataframes.\n",
    "\n",
    "We then extract the \"section\" column from each of those dataframes. This gives us a list of character vectors."
   ]
  },
  {
   "cell_type": "code",
   "execution_count": 5,
   "metadata": {
    "collapsed": false
   },
   "outputs": [
    {
     "data": {
      "text/html": [
       "<dl>\n",
       "\t<dt>$P224980</dt>\n",
       "\t\t<dd><ol class=list-inline>\n",
       "\t<li>'chariot'</li>\n",
       "\t<li>'chariot'</li>\n",
       "\t<li>'chariot'</li>\n",
       "</ol>\n",
       "</dd>\n",
       "\t<dt>$P224986</dt>\n",
       "\t\t<dd><ol class=list-inline>\n",
       "\t<li>'chair'</li>\n",
       "\t<li>'chair'</li>\n",
       "\t<li>NA</li>\n",
       "</ol>\n",
       "</dd>\n",
       "\t<dt>$P224994</dt>\n",
       "\t\t<dd><ol class=list-inline>\n",
       "\t<li>NA</li>\n",
       "\t<li>NA</li>\n",
       "\t<li>NA</li>\n",
       "</ol>\n",
       "</dd>\n",
       "\t<dt>$P224996</dt>\n",
       "\t\t<dd><ol class=list-inline>\n",
       "\t<li>'chair'</li>\n",
       "\t<li>'chair'</li>\n",
       "\t<li>'chair'</li>\n",
       "</ol>\n",
       "</dd>\n",
       "\t<dt>$P225006</dt>\n",
       "\t\t<dd><ol class=list-inline>\n",
       "\t<li>'door'</li>\n",
       "\t<li>'door'</li>\n",
       "\t<li>NA</li>\n",
       "</ol>\n",
       "</dd>\n",
       "\t<dt>$P225023</dt>\n",
       "\t\t<dd><ol class=list-inline>\n",
       "\t<li>'X.6'</li>\n",
       "\t<li>NA</li>\n",
       "\t<li>NA</li>\n",
       "</ol>\n",
       "</dd>\n",
       "</dl>\n"
      ],
      "text/latex": [
       "\\begin{description}\n",
       "\\item[\\$P224980] \\begin{enumerate*}\n",
       "\\item 'chariot'\n",
       "\\item 'chariot'\n",
       "\\item 'chariot'\n",
       "\\end{enumerate*}\n",
       "\n",
       "\\item[\\$P224986] \\begin{enumerate*}\n",
       "\\item 'chair'\n",
       "\\item 'chair'\n",
       "\\item NA\n",
       "\\end{enumerate*}\n",
       "\n",
       "\\item[\\$P224994] \\begin{enumerate*}\n",
       "\\item NA\n",
       "\\item NA\n",
       "\\item NA\n",
       "\\end{enumerate*}\n",
       "\n",
       "\\item[\\$P224996] \\begin{enumerate*}\n",
       "\\item 'chair'\n",
       "\\item 'chair'\n",
       "\\item 'chair'\n",
       "\\end{enumerate*}\n",
       "\n",
       "\\item[\\$P225006] \\begin{enumerate*}\n",
       "\\item 'door'\n",
       "\\item 'door'\n",
       "\\item NA\n",
       "\\end{enumerate*}\n",
       "\n",
       "\\item[\\$P225023] \\begin{enumerate*}\n",
       "\\item 'X.6'\n",
       "\\item NA\n",
       "\\item NA\n",
       "\\end{enumerate*}\n",
       "\n",
       "\\end{description}\n"
      ],
      "text/markdown": [
       "$P224980\n",
       ":   1. 'chariot'\n",
       "2. 'chariot'\n",
       "3. 'chariot'\n",
       "\n",
       "\n",
       "\n",
       "$P224986\n",
       ":   1. 'chair'\n",
       "2. 'chair'\n",
       "3. NA\n",
       "\n",
       "\n",
       "\n",
       "$P224994\n",
       ":   1. NA\n",
       "2. NA\n",
       "3. NA\n",
       "\n",
       "\n",
       "\n",
       "$P224996\n",
       ":   1. 'chair'\n",
       "2. 'chair'\n",
       "3. 'chair'\n",
       "\n",
       "\n",
       "\n",
       "$P225006\n",
       ":   1. 'door'\n",
       "2. 'door'\n",
       "3. NA\n",
       "\n",
       "\n",
       "\n",
       "$P225023\n",
       ":   1. 'X.6'\n",
       "2. NA\n",
       "3. NA\n",
       "\n",
       "\n",
       "\n",
       "\n",
       "\n"
      ],
      "text/plain": [
       "$P224980\n",
       "[1] \"chariot\" \"chariot\" \"chariot\"\n",
       "\n",
       "$P224986\n",
       "[1] \"chair\" \"chair\" NA     \n",
       "\n",
       "$P224994\n",
       "[1] NA NA NA\n",
       "\n",
       "$P224996\n",
       "[1] \"chair\" \"chair\" \"chair\"\n",
       "\n",
       "$P225006\n",
       "[1] \"door\" \"door\" NA    \n",
       "\n",
       "$P225023\n",
       "[1] \"X.6\" NA    NA   \n"
      ]
     },
     "metadata": {},
     "output_type": "display_data"
    }
   ],
   "source": [
    "df$id_text = as.factor(df$id_text)\n",
    "docs = split(df, df$id_text)\n",
    "docs = sapply(docs, function(x) x$section)\n",
    "head(docs)"
   ]
  },
  {
   "cell_type": "markdown",
   "metadata": {},
   "source": [
    "We need to get rid of `NA`s. These represent entries that were not assigned to a section. Then we retain only documents that are not of length zero (i.e. documents that had at least one entry assigned to a section)."
   ]
  },
  {
   "cell_type": "code",
   "execution_count": 6,
   "metadata": {
    "collapsed": false
   },
   "outputs": [
    {
     "data": {
      "text/html": [
       "<dl>\n",
       "\t<dt>$P224980</dt>\n",
       "\t\t<dd><ol class=list-inline>\n",
       "\t<li>'chariot'</li>\n",
       "\t<li>'chariot'</li>\n",
       "\t<li>'chariot'</li>\n",
       "</ol>\n",
       "</dd>\n",
       "\t<dt>$P224986</dt>\n",
       "\t\t<dd><ol class=list-inline>\n",
       "\t<li>'chair'</li>\n",
       "\t<li>'chair'</li>\n",
       "</ol>\n",
       "</dd>\n",
       "\t<dt>$P224996</dt>\n",
       "\t\t<dd><ol class=list-inline>\n",
       "\t<li>'chair'</li>\n",
       "\t<li>'chair'</li>\n",
       "\t<li>'chair'</li>\n",
       "</ol>\n",
       "</dd>\n",
       "\t<dt>$P225006</dt>\n",
       "\t\t<dd><ol class=list-inline>\n",
       "\t<li>'door'</li>\n",
       "\t<li>'door'</li>\n",
       "</ol>\n",
       "</dd>\n",
       "\t<dt>$P225023</dt>\n",
       "\t\t<dd>'X.6'</dd>\n",
       "\t<dt>$P225033</dt>\n",
       "\t\t<dd><ol class=list-inline>\n",
       "\t<li>'pole'</li>\n",
       "\t<li>'pole'</li>\n",
       "\t<li>'comb'</li>\n",
       "</ol>\n",
       "</dd>\n",
       "</dl>\n"
      ],
      "text/latex": [
       "\\begin{description}\n",
       "\\item[\\$P224980] \\begin{enumerate*}\n",
       "\\item 'chariot'\n",
       "\\item 'chariot'\n",
       "\\item 'chariot'\n",
       "\\end{enumerate*}\n",
       "\n",
       "\\item[\\$P224986] \\begin{enumerate*}\n",
       "\\item 'chair'\n",
       "\\item 'chair'\n",
       "\\end{enumerate*}\n",
       "\n",
       "\\item[\\$P224996] \\begin{enumerate*}\n",
       "\\item 'chair'\n",
       "\\item 'chair'\n",
       "\\item 'chair'\n",
       "\\end{enumerate*}\n",
       "\n",
       "\\item[\\$P225006] \\begin{enumerate*}\n",
       "\\item 'door'\n",
       "\\item 'door'\n",
       "\\end{enumerate*}\n",
       "\n",
       "\\item[\\$P225023] 'X.6'\n",
       "\\item[\\$P225033] \\begin{enumerate*}\n",
       "\\item 'pole'\n",
       "\\item 'pole'\n",
       "\\item 'comb'\n",
       "\\end{enumerate*}\n",
       "\n",
       "\\end{description}\n"
      ],
      "text/markdown": [
       "$P224980\n",
       ":   1. 'chariot'\n",
       "2. 'chariot'\n",
       "3. 'chariot'\n",
       "\n",
       "\n",
       "\n",
       "$P224986\n",
       ":   1. 'chair'\n",
       "2. 'chair'\n",
       "\n",
       "\n",
       "\n",
       "$P224996\n",
       ":   1. 'chair'\n",
       "2. 'chair'\n",
       "3. 'chair'\n",
       "\n",
       "\n",
       "\n",
       "$P225006\n",
       ":   1. 'door'\n",
       "2. 'door'\n",
       "\n",
       "\n",
       "\n",
       "$P225023\n",
       ":   'X.6'\n",
       "$P225033\n",
       ":   1. 'pole'\n",
       "2. 'pole'\n",
       "3. 'comb'\n",
       "\n",
       "\n",
       "\n",
       "\n",
       "\n"
      ],
      "text/plain": [
       "$P224980\n",
       "[1] \"chariot\" \"chariot\" \"chariot\"\n",
       "\n",
       "$P224986\n",
       "[1] \"chair\" \"chair\"\n",
       "\n",
       "$P224996\n",
       "[1] \"chair\" \"chair\" \"chair\"\n",
       "\n",
       "$P225006\n",
       "[1] \"door\" \"door\"\n",
       "\n",
       "$P225023\n",
       "[1] \"X.6\"\n",
       "\n",
       "$P225033\n",
       "[1] \"pole\" \"pole\" \"comb\"\n"
      ]
     },
     "metadata": {},
     "output_type": "display_data"
    }
   ],
   "source": [
    "docs_no_nas = sapply(docs, function(x) x[!is.na(x)])\n",
    "\n",
    "non_empty_docs = sapply(docs_no_nas, function(x) length(x) > 0)\n",
    "\n",
    "docs_no_nas = docs_no_nas[non_empty_docs]\n",
    "head(docs_no_nas)"
   ]
  },
  {
   "cell_type": "code",
   "execution_count": 7,
   "metadata": {
    "collapsed": false
   },
   "outputs": [
    {
     "name": "stdout",
     "output_type": "stream",
     "text": [
      "[1] \"This leaves us with 63 documents.\"\n"
     ]
    }
   ],
   "source": [
    "print(paste(\"This leaves us with\", length(docs_no_nas), \"documents.\"))"
   ]
  },
  {
   "cell_type": "markdown",
   "metadata": {},
   "source": [
    "We can then use the `rle()` function (\"run length encoding\") to get a character vector of the sections in each document, in order. This function calculates the lengths and values of runs in a sequence. We're not interested in the lengths of the runs (for this analysis), but can extract the values (names of sections).\n",
    "\n",
    "We end up with a list of character vectors."
   ]
  },
  {
   "cell_type": "code",
   "execution_count": 8,
   "metadata": {
    "collapsed": false
   },
   "outputs": [],
   "source": [
    "doc_sections = lapply(docs_no_nas, \n",
    "                      function(x) unname(rle(unlist(x))$values))"
   ]
  },
  {
   "cell_type": "code",
   "execution_count": 9,
   "metadata": {
    "collapsed": false
   },
   "outputs": [
    {
     "data": {
      "text/html": [
       "<dl>\n",
       "\t<dt>$P224980</dt>\n",
       "\t\t<dd>'chariot'</dd>\n",
       "\t<dt>$P224986</dt>\n",
       "\t\t<dd>'chair'</dd>\n",
       "\t<dt>$P224996</dt>\n",
       "\t\t<dd>'chair'</dd>\n",
       "\t<dt>$P225006</dt>\n",
       "\t\t<dd>'door'</dd>\n",
       "\t<dt>$P225023</dt>\n",
       "\t\t<dd>'X.6'</dd>\n",
       "\t<dt>$P225033</dt>\n",
       "\t\t<dd><ol class=list-inline>\n",
       "\t<li>'pole'</li>\n",
       "\t<li>'comb'</li>\n",
       "</ol>\n",
       "</dd>\n",
       "</dl>\n"
      ],
      "text/latex": [
       "\\begin{description}\n",
       "\\item[\\$P224980] 'chariot'\n",
       "\\item[\\$P224986] 'chair'\n",
       "\\item[\\$P224996] 'chair'\n",
       "\\item[\\$P225006] 'door'\n",
       "\\item[\\$P225023] 'X.6'\n",
       "\\item[\\$P225033] \\begin{enumerate*}\n",
       "\\item 'pole'\n",
       "\\item 'comb'\n",
       "\\end{enumerate*}\n",
       "\n",
       "\\end{description}\n"
      ],
      "text/markdown": [
       "$P224980\n",
       ":   'chariot'\n",
       "$P224986\n",
       ":   'chair'\n",
       "$P224996\n",
       ":   'chair'\n",
       "$P225006\n",
       ":   'door'\n",
       "$P225023\n",
       ":   'X.6'\n",
       "$P225033\n",
       ":   1. 'pole'\n",
       "2. 'comb'\n",
       "\n",
       "\n",
       "\n",
       "\n",
       "\n"
      ],
      "text/plain": [
       "$P224980\n",
       "[1] \"chariot\"\n",
       "\n",
       "$P224986\n",
       "[1] \"chair\"\n",
       "\n",
       "$P224996\n",
       "[1] \"chair\"\n",
       "\n",
       "$P225006\n",
       "[1] \"door\"\n",
       "\n",
       "$P225023\n",
       "[1] \"X.6\"\n",
       "\n",
       "$P225033\n",
       "[1] \"pole\" \"comb\"\n"
      ]
     },
     "metadata": {},
     "output_type": "display_data"
    },
    {
     "data": {
      "text/html": [
       "<dl>\n",
       "\t<dt>$P459224</dt>\n",
       "\t\t<dd>'bed'</dd>\n",
       "\t<dt>$P459225</dt>\n",
       "\t\t<dd><ol class=list-inline>\n",
       "\t<li>'bow'</li>\n",
       "\t<li>'shovel'</li>\n",
       "\t<li>'rudder.1'</li>\n",
       "</ol>\n",
       "</dd>\n",
       "\t<dt>$P459226</dt>\n",
       "\t\t<dd><ol class=list-inline>\n",
       "\t<li>'X.6'</li>\n",
       "\t<li>'tree'</li>\n",
       "\t<li>'apple'</li>\n",
       "\t<li>'X.6'</li>\n",
       "\t<li>'wood'</li>\n",
       "\t<li>'X.6'</li>\n",
       "</ol>\n",
       "</dd>\n",
       "\t<dt>$P459784</dt>\n",
       "\t\t<dd><ol class=list-inline>\n",
       "\t<li>'X.6'</li>\n",
       "\t<li>'tree.1'</li>\n",
       "</ol>\n",
       "</dd>\n",
       "\t<dt>$Q000039</dt>\n",
       "\t\t<dd><ol class=list-inline>\n",
       "\t<li>'tree'</li>\n",
       "\t<li>'apple'</li>\n",
       "\t<li>'tree.1'</li>\n",
       "\t<li>'tamarisk'</li>\n",
       "\t<li>'tree.2'</li>\n",
       "\t<li>'plum'</li>\n",
       "\t<li>'nut'</li>\n",
       "\t<li>'poplar'</li>\n",
       "\t<li>'wood.1'</li>\n",
       "\t<li>'tree.3'</li>\n",
       "\t<li>'wood'</li>\n",
       "\t<li>'twig'</li>\n",
       "\t<li>'tree.4'</li>\n",
       "\t<li>'cedar'</li>\n",
       "\t<li>'poplar.1'</li>\n",
       "\t<li>'flower'</li>\n",
       "\t<li>'tree.5'</li>\n",
       "\t<li>'sprout'</li>\n",
       "\t<li>'poplar.1'</li>\n",
       "\t<li>'acacia'</li>\n",
       "\t<li>'tree.6'</li>\n",
       "\t<li>'X'</li>\n",
       "\t<li>'foliage_sky'</li>\n",
       "\t<li>'branch'</li>\n",
       "\t<li>'trough'</li>\n",
       "\t<li>'X.1'</li>\n",
       "\t<li>'X.2'</li>\n",
       "\t<li>'X.2:mortar'</li>\n",
       "\t<li>'X.2'</li>\n",
       "\t<li>'tool'</li>\n",
       "\t<li>'X.3'</li>\n",
       "\t<li>'chair'</li>\n",
       "\t<li>'stool'</li>\n",
       "\t<li>'bed'</li>\n",
       "\t<li>'dish'</li>\n",
       "\t<li>'table'</li>\n",
       "\t<li>'jug'</li>\n",
       "\t<li>'stair'</li>\n",
       "\t<li>'planking_stair'</li>\n",
       "\t<li>'trough'</li>\n",
       "\t<li>'mortar'</li>\n",
       "\t<li>'X.2:mortar'</li>\n",
       "\t<li>'plank'</li>\n",
       "\t<li>'ship'</li>\n",
       "\t<li>'ship_fisherman'</li>\n",
       "\t<li>'X1'</li>\n",
       "\t<li>'X1.1'</li>\n",
       "\t<li>'horn_ship'</li>\n",
       "\t<li>'boat'</li>\n",
       "\t<li>'pole'</li>\n",
       "\t<li>'rudder'</li>\n",
       "\t<li>'rope'</li>\n",
       "\t<li>'staff'</li>\n",
       "\t<li>'chariot'</li>\n",
       "\t<li>'whip'</li>\n",
       "\t<li>'harness'</li>\n",
       "\t<li>'vehicle_place'</li>\n",
       "\t<li>'door'</li>\n",
       "\t<li>'door.1'</li>\n",
       "\t<li>'bolt'</li>\n",
       "\t<li>'tube'</li>\n",
       "\t<li>'loom'</li>\n",
       "\t<li>'loom.1'</li>\n",
       "\t<li>'comb'</li>\n",
       "\t<li>'spindle'</li>\n",
       "\t<li>'pole.1'</li>\n",
       "\t<li>'rim'</li>\n",
       "\t<li>'scales'</li>\n",
       "\t<li>'plow'</li>\n",
       "\t<li>'harrow'</li>\n",
       "\t<li>'tool.1'</li>\n",
       "\t<li>'hoe'</li>\n",
       "\t<li>'brick.mold'</li>\n",
       "\t<li>'nail_mound_dig'</li>\n",
       "\t<li>'weapon'</li>\n",
       "\t<li>'board'</li>\n",
       "\t<li>'unit'</li>\n",
       "\t<li>'net'</li>\n",
       "\t<li>'snare'</li>\n",
       "\t<li>'trap'</li>\n",
       "\t<li>'youth_praise'</li>\n",
       "\t<li>'sign'</li>\n",
       "\t<li>'thorn'</li>\n",
       "\t<li>'lance'</li>\n",
       "\t<li>'weapon.1'</li>\n",
       "\t<li>'bow'</li>\n",
       "\t<li>'trap.1'</li>\n",
       "\t<li>'weapon.2'</li>\n",
       "\t<li>'ax'</li>\n",
       "\t<li>'ax.1'</li>\n",
       "\t<li>'fork'</li>\n",
       "\t<li>'moon'</li>\n",
       "\t<li>'shovel'</li>\n",
       "\t<li>'rot'</li>\n",
       "\t<li>'hook'</li>\n",
       "\t<li>'instrument'</li>\n",
       "\t<li>'X.4'</li>\n",
       "\t<li>'post_bed'</li>\n",
       "\t<li>'lyre'</li>\n",
       "\t<li>'instrument.1'</li>\n",
       "\t<li>'handle'</li>\n",
       "\t<li>'bench'</li>\n",
       "\t<li>'ram'</li>\n",
       "\t<li>'weapon.3'</li>\n",
       "\t<li>'beam'</li>\n",
       "\t<li>'rudder.1'</li>\n",
       "\t<li>'crook'</li>\n",
       "\t<li>'forest_die'</li>\n",
       "\t<li>'seed.funnel'</li>\n",
       "\t<li>'wood.1'</li>\n",
       "\t<li>'tree'</li>\n",
       "\t<li>'X.5'</li>\n",
       "\t<li>'weed'</li>\n",
       "\t<li>'staff.1'</li>\n",
       "\t<li>'X.6'</li>\n",
       "\t<li>'board.1'</li>\n",
       "\t<li>'sign_eat'</li>\n",
       "\t<li>'doll'</li>\n",
       "</ol>\n",
       "</dd>\n",
       "\t<dt>$X100003</dt>\n",
       "\t\t<dd>'tree'</dd>\n",
       "</dl>\n"
      ],
      "text/latex": [
       "\\begin{description}\n",
       "\\item[\\$P459224] 'bed'\n",
       "\\item[\\$P459225] \\begin{enumerate*}\n",
       "\\item 'bow'\n",
       "\\item 'shovel'\n",
       "\\item 'rudder.1'\n",
       "\\end{enumerate*}\n",
       "\n",
       "\\item[\\$P459226] \\begin{enumerate*}\n",
       "\\item 'X.6'\n",
       "\\item 'tree'\n",
       "\\item 'apple'\n",
       "\\item 'X.6'\n",
       "\\item 'wood'\n",
       "\\item 'X.6'\n",
       "\\end{enumerate*}\n",
       "\n",
       "\\item[\\$P459784] \\begin{enumerate*}\n",
       "\\item 'X.6'\n",
       "\\item 'tree.1'\n",
       "\\end{enumerate*}\n",
       "\n",
       "\\item[\\$Q000039] \\begin{enumerate*}\n",
       "\\item 'tree'\n",
       "\\item 'apple'\n",
       "\\item 'tree.1'\n",
       "\\item 'tamarisk'\n",
       "\\item 'tree.2'\n",
       "\\item 'plum'\n",
       "\\item 'nut'\n",
       "\\item 'poplar'\n",
       "\\item 'wood.1'\n",
       "\\item 'tree.3'\n",
       "\\item 'wood'\n",
       "\\item 'twig'\n",
       "\\item 'tree.4'\n",
       "\\item 'cedar'\n",
       "\\item 'poplar.1'\n",
       "\\item 'flower'\n",
       "\\item 'tree.5'\n",
       "\\item 'sprout'\n",
       "\\item 'poplar.1'\n",
       "\\item 'acacia'\n",
       "\\item 'tree.6'\n",
       "\\item 'X'\n",
       "\\item 'foliage\\_sky'\n",
       "\\item 'branch'\n",
       "\\item 'trough'\n",
       "\\item 'X.1'\n",
       "\\item 'X.2'\n",
       "\\item 'X.2:mortar'\n",
       "\\item 'X.2'\n",
       "\\item 'tool'\n",
       "\\item 'X.3'\n",
       "\\item 'chair'\n",
       "\\item 'stool'\n",
       "\\item 'bed'\n",
       "\\item 'dish'\n",
       "\\item 'table'\n",
       "\\item 'jug'\n",
       "\\item 'stair'\n",
       "\\item 'planking\\_stair'\n",
       "\\item 'trough'\n",
       "\\item 'mortar'\n",
       "\\item 'X.2:mortar'\n",
       "\\item 'plank'\n",
       "\\item 'ship'\n",
       "\\item 'ship\\_fisherman'\n",
       "\\item 'X1'\n",
       "\\item 'X1.1'\n",
       "\\item 'horn\\_ship'\n",
       "\\item 'boat'\n",
       "\\item 'pole'\n",
       "\\item 'rudder'\n",
       "\\item 'rope'\n",
       "\\item 'staff'\n",
       "\\item 'chariot'\n",
       "\\item 'whip'\n",
       "\\item 'harness'\n",
       "\\item 'vehicle\\_place'\n",
       "\\item 'door'\n",
       "\\item 'door.1'\n",
       "\\item 'bolt'\n",
       "\\item 'tube'\n",
       "\\item 'loom'\n",
       "\\item 'loom.1'\n",
       "\\item 'comb'\n",
       "\\item 'spindle'\n",
       "\\item 'pole.1'\n",
       "\\item 'rim'\n",
       "\\item 'scales'\n",
       "\\item 'plow'\n",
       "\\item 'harrow'\n",
       "\\item 'tool.1'\n",
       "\\item 'hoe'\n",
       "\\item 'brick.mold'\n",
       "\\item 'nail\\_mound\\_dig'\n",
       "\\item 'weapon'\n",
       "\\item 'board'\n",
       "\\item 'unit'\n",
       "\\item 'net'\n",
       "\\item 'snare'\n",
       "\\item 'trap'\n",
       "\\item 'youth\\_praise'\n",
       "\\item 'sign'\n",
       "\\item 'thorn'\n",
       "\\item 'lance'\n",
       "\\item 'weapon.1'\n",
       "\\item 'bow'\n",
       "\\item 'trap.1'\n",
       "\\item 'weapon.2'\n",
       "\\item 'ax'\n",
       "\\item 'ax.1'\n",
       "\\item 'fork'\n",
       "\\item 'moon'\n",
       "\\item 'shovel'\n",
       "\\item 'rot'\n",
       "\\item 'hook'\n",
       "\\item 'instrument'\n",
       "\\item 'X.4'\n",
       "\\item 'post\\_bed'\n",
       "\\item 'lyre'\n",
       "\\item 'instrument.1'\n",
       "\\item 'handle'\n",
       "\\item 'bench'\n",
       "\\item 'ram'\n",
       "\\item 'weapon.3'\n",
       "\\item 'beam'\n",
       "\\item 'rudder.1'\n",
       "\\item 'crook'\n",
       "\\item 'forest\\_die'\n",
       "\\item 'seed.funnel'\n",
       "\\item 'wood.1'\n",
       "\\item 'tree'\n",
       "\\item 'X.5'\n",
       "\\item 'weed'\n",
       "\\item 'staff.1'\n",
       "\\item 'X.6'\n",
       "\\item 'board.1'\n",
       "\\item 'sign\\_eat'\n",
       "\\item 'doll'\n",
       "\\end{enumerate*}\n",
       "\n",
       "\\item[\\$X100003] 'tree'\n",
       "\\end{description}\n"
      ],
      "text/markdown": [
       "$P459224\n",
       ":   'bed'\n",
       "$P459225\n",
       ":   1. 'bow'\n",
       "2. 'shovel'\n",
       "3. 'rudder.1'\n",
       "\n",
       "\n",
       "\n",
       "$P459226\n",
       ":   1. 'X.6'\n",
       "2. 'tree'\n",
       "3. 'apple'\n",
       "4. 'X.6'\n",
       "5. 'wood'\n",
       "6. 'X.6'\n",
       "\n",
       "\n",
       "\n",
       "$P459784\n",
       ":   1. 'X.6'\n",
       "2. 'tree.1'\n",
       "\n",
       "\n",
       "\n",
       "$Q000039\n",
       ":   1. 'tree'\n",
       "2. 'apple'\n",
       "3. 'tree.1'\n",
       "4. 'tamarisk'\n",
       "5. 'tree.2'\n",
       "6. 'plum'\n",
       "7. 'nut'\n",
       "8. 'poplar'\n",
       "9. 'wood.1'\n",
       "10. 'tree.3'\n",
       "11. 'wood'\n",
       "12. 'twig'\n",
       "13. 'tree.4'\n",
       "14. 'cedar'\n",
       "15. 'poplar.1'\n",
       "16. 'flower'\n",
       "17. 'tree.5'\n",
       "18. 'sprout'\n",
       "19. 'poplar.1'\n",
       "20. 'acacia'\n",
       "21. 'tree.6'\n",
       "22. 'X'\n",
       "23. 'foliage_sky'\n",
       "24. 'branch'\n",
       "25. 'trough'\n",
       "26. 'X.1'\n",
       "27. 'X.2'\n",
       "28. 'X.2:mortar'\n",
       "29. 'X.2'\n",
       "30. 'tool'\n",
       "31. 'X.3'\n",
       "32. 'chair'\n",
       "33. 'stool'\n",
       "34. 'bed'\n",
       "35. 'dish'\n",
       "36. 'table'\n",
       "37. 'jug'\n",
       "38. 'stair'\n",
       "39. 'planking_stair'\n",
       "40. 'trough'\n",
       "41. 'mortar'\n",
       "42. 'X.2:mortar'\n",
       "43. 'plank'\n",
       "44. 'ship'\n",
       "45. 'ship_fisherman'\n",
       "46. 'X1'\n",
       "47. 'X1.1'\n",
       "48. 'horn_ship'\n",
       "49. 'boat'\n",
       "50. 'pole'\n",
       "51. 'rudder'\n",
       "52. 'rope'\n",
       "53. 'staff'\n",
       "54. 'chariot'\n",
       "55. 'whip'\n",
       "56. 'harness'\n",
       "57. 'vehicle_place'\n",
       "58. 'door'\n",
       "59. 'door.1'\n",
       "60. 'bolt'\n",
       "61. 'tube'\n",
       "62. 'loom'\n",
       "63. 'loom.1'\n",
       "64. 'comb'\n",
       "65. 'spindle'\n",
       "66. 'pole.1'\n",
       "67. 'rim'\n",
       "68. 'scales'\n",
       "69. 'plow'\n",
       "70. 'harrow'\n",
       "71. 'tool.1'\n",
       "72. 'hoe'\n",
       "73. 'brick.mold'\n",
       "74. 'nail_mound_dig'\n",
       "75. 'weapon'\n",
       "76. 'board'\n",
       "77. 'unit'\n",
       "78. 'net'\n",
       "79. 'snare'\n",
       "80. 'trap'\n",
       "81. 'youth_praise'\n",
       "82. 'sign'\n",
       "83. 'thorn'\n",
       "84. 'lance'\n",
       "85. 'weapon.1'\n",
       "86. 'bow'\n",
       "87. 'trap.1'\n",
       "88. 'weapon.2'\n",
       "89. 'ax'\n",
       "90. 'ax.1'\n",
       "91. 'fork'\n",
       "92. 'moon'\n",
       "93. 'shovel'\n",
       "94. 'rot'\n",
       "95. 'hook'\n",
       "96. 'instrument'\n",
       "97. 'X.4'\n",
       "98. 'post_bed'\n",
       "99. 'lyre'\n",
       "100. 'instrument.1'\n",
       "101. 'handle'\n",
       "102. 'bench'\n",
       "103. 'ram'\n",
       "104. 'weapon.3'\n",
       "105. 'beam'\n",
       "106. 'rudder.1'\n",
       "107. 'crook'\n",
       "108. 'forest_die'\n",
       "109. 'seed.funnel'\n",
       "110. 'wood.1'\n",
       "111. 'tree'\n",
       "112. 'X.5'\n",
       "113. 'weed'\n",
       "114. 'staff.1'\n",
       "115. 'X.6'\n",
       "116. 'board.1'\n",
       "117. 'sign_eat'\n",
       "118. 'doll'\n",
       "\n",
       "\n",
       "\n",
       "$X100003\n",
       ":   'tree'\n",
       "\n",
       "\n"
      ],
      "text/plain": [
       "$P459224\n",
       "[1] \"bed\"\n",
       "\n",
       "$P459225\n",
       "[1] \"bow\"      \"shovel\"   \"rudder.1\"\n",
       "\n",
       "$P459226\n",
       "[1] \"X.6\"   \"tree\"  \"apple\" \"X.6\"   \"wood\"  \"X.6\"  \n",
       "\n",
       "$P459784\n",
       "[1] \"X.6\"    \"tree.1\"\n",
       "\n",
       "$Q000039\n",
       "  [1] \"tree\"           \"apple\"          \"tree.1\"         \"tamarisk\"      \n",
       "  [5] \"tree.2\"         \"plum\"           \"nut\"            \"poplar\"        \n",
       "  [9] \"wood.1\"         \"tree.3\"         \"wood\"           \"twig\"          \n",
       " [13] \"tree.4\"         \"cedar\"          \"poplar.1\"       \"flower\"        \n",
       " [17] \"tree.5\"         \"sprout\"         \"poplar.1\"       \"acacia\"        \n",
       " [21] \"tree.6\"         \"X\"              \"foliage_sky\"    \"branch\"        \n",
       " [25] \"trough\"         \"X.1\"            \"X.2\"            \"X.2:mortar\"    \n",
       " [29] \"X.2\"            \"tool\"           \"X.3\"            \"chair\"         \n",
       " [33] \"stool\"          \"bed\"            \"dish\"           \"table\"         \n",
       " [37] \"jug\"            \"stair\"          \"planking_stair\" \"trough\"        \n",
       " [41] \"mortar\"         \"X.2:mortar\"     \"plank\"          \"ship\"          \n",
       " [45] \"ship_fisherman\" \"X1\"             \"X1.1\"           \"horn_ship\"     \n",
       " [49] \"boat\"           \"pole\"           \"rudder\"         \"rope\"          \n",
       " [53] \"staff\"          \"chariot\"        \"whip\"           \"harness\"       \n",
       " [57] \"vehicle_place\"  \"door\"           \"door.1\"         \"bolt\"          \n",
       " [61] \"tube\"           \"loom\"           \"loom.1\"         \"comb\"          \n",
       " [65] \"spindle\"        \"pole.1\"         \"rim\"            \"scales\"        \n",
       " [69] \"plow\"           \"harrow\"         \"tool.1\"         \"hoe\"           \n",
       " [73] \"brick.mold\"     \"nail_mound_dig\" \"weapon\"         \"board\"         \n",
       " [77] \"unit\"           \"net\"            \"snare\"          \"trap\"          \n",
       " [81] \"youth_praise\"   \"sign\"           \"thorn\"          \"lance\"         \n",
       " [85] \"weapon.1\"       \"bow\"            \"trap.1\"         \"weapon.2\"      \n",
       " [89] \"ax\"             \"ax.1\"           \"fork\"           \"moon\"          \n",
       " [93] \"shovel\"         \"rot\"            \"hook\"           \"instrument\"    \n",
       " [97] \"X.4\"            \"post_bed\"       \"lyre\"           \"instrument.1\"  \n",
       "[101] \"handle\"         \"bench\"          \"ram\"            \"weapon.3\"      \n",
       "[105] \"beam\"           \"rudder.1\"       \"crook\"          \"forest_die\"    \n",
       "[109] \"seed.funnel\"    \"wood.1\"         \"tree\"           \"X.5\"           \n",
       "[113] \"weed\"           \"staff.1\"        \"X.6\"            \"board.1\"       \n",
       "[117] \"sign_eat\"       \"doll\"          \n",
       "\n",
       "$X100003\n",
       "[1] \"tree\"\n"
      ]
     },
     "metadata": {},
     "output_type": "display_data"
    }
   ],
   "source": [
    "head(doc_sections)\n",
    "tail(doc_sections)"
   ]
  },
  {
   "cell_type": "markdown",
   "metadata": {},
   "source": [
    "We now want to get rid of all documents with only one section, as this will not be informative when comparing section order."
   ]
  },
  {
   "cell_type": "code",
   "execution_count": 10,
   "metadata": {
    "collapsed": false
   },
   "outputs": [
    {
     "data": {
      "text/html": [
       "<dl>\n",
       "\t<dt>$P225033</dt>\n",
       "\t\t<dd><ol class=list-inline>\n",
       "\t<li>'pole'</li>\n",
       "\t<li>'comb'</li>\n",
       "</ol>\n",
       "</dd>\n",
       "\t<dt>$P225086</dt>\n",
       "\t\t<dd><ol class=list-inline>\n",
       "\t<li>'tree.2'</li>\n",
       "\t<li>'acacia'</li>\n",
       "</ol>\n",
       "</dd>\n",
       "\t<dt>$P235262</dt>\n",
       "\t\t<dd><ol class=list-inline>\n",
       "\t<li>'tree'</li>\n",
       "\t<li>'apple'</li>\n",
       "\t<li>'tree.1'</li>\n",
       "\t<li>'tamarisk'</li>\n",
       "\t<li>'dish'</li>\n",
       "\t<li>'table'</li>\n",
       "\t<li>'stair'</li>\n",
       "\t<li>'trough'</li>\n",
       "\t<li>'mortar'</li>\n",
       "\t<li>'horn_ship'</li>\n",
       "\t<li>'boat'</li>\n",
       "\t<li>'ship_fisherman'</li>\n",
       "\t<li>'rope'</li>\n",
       "\t<li>'staff'</li>\n",
       "\t<li>'chariot'</li>\n",
       "\t<li>'harness'</li>\n",
       "\t<li>'vehicle_place'</li>\n",
       "\t<li>'X.6'</li>\n",
       "</ol>\n",
       "</dd>\n",
       "\t<dt>$P247864</dt>\n",
       "\t\t<dd><ol class=list-inline>\n",
       "\t<li>'cedar'</li>\n",
       "\t<li>'X.6'</li>\n",
       "\t<li>'tree.3'</li>\n",
       "\t<li>'tree'</li>\n",
       "\t<li>'tree.2'</li>\n",
       "\t<li>'tree'</li>\n",
       "\t<li>'tree.4'</li>\n",
       "\t<li>'tree.5'</li>\n",
       "\t<li>'tree.4'</li>\n",
       "\t<li>'X.6'</li>\n",
       "\t<li>'tree.3'</li>\n",
       "\t<li>'weed'</li>\n",
       "\t<li>'twig'</li>\n",
       "\t<li>'wood'</li>\n",
       "\t<li>'tree.2'</li>\n",
       "\t<li>'apple'</li>\n",
       "\t<li>'tree.1'</li>\n",
       "\t<li>'poplar.1'</li>\n",
       "\t<li>'plum'</li>\n",
       "\t<li>'sprout'</li>\n",
       "\t<li>'X.6'</li>\n",
       "\t<li>'sprout'</li>\n",
       "\t<li>'acacia'</li>\n",
       "\t<li>'tamarisk'</li>\n",
       "\t<li>'poplar'</li>\n",
       "\t<li>'tree.1'</li>\n",
       "\t<li>'tool'</li>\n",
       "\t<li>'plow'</li>\n",
       "\t<li>'vehicle_place'</li>\n",
       "\t<li>'harrow'</li>\n",
       "\t<li>'chariot'</li>\n",
       "\t<li>'X.6'</li>\n",
       "\t<li>'brick.mold'</li>\n",
       "\t<li>'loom.1'</li>\n",
       "\t<li>'X.6'</li>\n",
       "\t<li>'comb'</li>\n",
       "\t<li>'spindle'</li>\n",
       "\t<li>'door'</li>\n",
       "\t<li>'handle'</li>\n",
       "\t<li>'plank'</li>\n",
       "\t<li>'X.5'</li>\n",
       "\t<li>'weapon.1'</li>\n",
       "\t<li>'X.2'</li>\n",
       "\t<li>'unit'</li>\n",
       "\t<li>'handle'</li>\n",
       "\t<li>'X.2'</li>\n",
       "\t<li>'X.6'</li>\n",
       "\t<li>'mortar'</li>\n",
       "\t<li>'X.2:mortar'</li>\n",
       "\t<li>'trough'</li>\n",
       "\t<li>'horn_ship'</li>\n",
       "\t<li>'ship_fisherman'</li>\n",
       "\t<li>'weapon'</li>\n",
       "\t<li>'X.6'</li>\n",
       "\t<li>'bow'</li>\n",
       "\t<li>'table'</li>\n",
       "\t<li>'shovel'</li>\n",
       "\t<li>'hoe'</li>\n",
       "\t<li>'dish'</li>\n",
       "\t<li>'snare'</li>\n",
       "\t<li>'X.6'</li>\n",
       "\t<li>'stool'</li>\n",
       "\t<li>'X.6'</li>\n",
       "\t<li>'chair'</li>\n",
       "\t<li>'bed'</li>\n",
       "</ol>\n",
       "</dd>\n",
       "\t<dt>$P250364</dt>\n",
       "\t\t<dd><ol class=list-inline>\n",
       "\t<li>'chariot'</li>\n",
       "\t<li>'chair'</li>\n",
       "\t<li>'chariot'</li>\n",
       "\t<li>'X.6'</li>\n",
       "\t<li>'vehicle_place'</li>\n",
       "\t<li>'plow'</li>\n",
       "\t<li>'X.6'</li>\n",
       "\t<li>'scales'</li>\n",
       "\t<li>'hoe'</li>\n",
       "\t<li>'X.6'</li>\n",
       "\t<li>'net'</li>\n",
       "\t<li>'snare'</li>\n",
       "\t<li>'X.6'</li>\n",
       "\t<li>'instrument'</li>\n",
       "\t<li>'X.6'</li>\n",
       "\t<li>'X.5'</li>\n",
       "\t<li>'bench'</li>\n",
       "\t<li>'staff.1'</li>\n",
       "\t<li>'X.6'</li>\n",
       "\t<li>'weed'</li>\n",
       "\t<li>'staff.1'</li>\n",
       "\t<li>'wood.1'</li>\n",
       "\t<li>'X.6'</li>\n",
       "</ol>\n",
       "</dd>\n",
       "\t<dt>$P250736</dt>\n",
       "\t\t<dd><ol class=list-inline>\n",
       "\t<li>'stool'</li>\n",
       "\t<li>'unit'</li>\n",
       "</ol>\n",
       "</dd>\n",
       "</dl>\n"
      ],
      "text/latex": [
       "\\begin{description}\n",
       "\\item[\\$P225033] \\begin{enumerate*}\n",
       "\\item 'pole'\n",
       "\\item 'comb'\n",
       "\\end{enumerate*}\n",
       "\n",
       "\\item[\\$P225086] \\begin{enumerate*}\n",
       "\\item 'tree.2'\n",
       "\\item 'acacia'\n",
       "\\end{enumerate*}\n",
       "\n",
       "\\item[\\$P235262] \\begin{enumerate*}\n",
       "\\item 'tree'\n",
       "\\item 'apple'\n",
       "\\item 'tree.1'\n",
       "\\item 'tamarisk'\n",
       "\\item 'dish'\n",
       "\\item 'table'\n",
       "\\item 'stair'\n",
       "\\item 'trough'\n",
       "\\item 'mortar'\n",
       "\\item 'horn\\_ship'\n",
       "\\item 'boat'\n",
       "\\item 'ship\\_fisherman'\n",
       "\\item 'rope'\n",
       "\\item 'staff'\n",
       "\\item 'chariot'\n",
       "\\item 'harness'\n",
       "\\item 'vehicle\\_place'\n",
       "\\item 'X.6'\n",
       "\\end{enumerate*}\n",
       "\n",
       "\\item[\\$P247864] \\begin{enumerate*}\n",
       "\\item 'cedar'\n",
       "\\item 'X.6'\n",
       "\\item 'tree.3'\n",
       "\\item 'tree'\n",
       "\\item 'tree.2'\n",
       "\\item 'tree'\n",
       "\\item 'tree.4'\n",
       "\\item 'tree.5'\n",
       "\\item 'tree.4'\n",
       "\\item 'X.6'\n",
       "\\item 'tree.3'\n",
       "\\item 'weed'\n",
       "\\item 'twig'\n",
       "\\item 'wood'\n",
       "\\item 'tree.2'\n",
       "\\item 'apple'\n",
       "\\item 'tree.1'\n",
       "\\item 'poplar.1'\n",
       "\\item 'plum'\n",
       "\\item 'sprout'\n",
       "\\item 'X.6'\n",
       "\\item 'sprout'\n",
       "\\item 'acacia'\n",
       "\\item 'tamarisk'\n",
       "\\item 'poplar'\n",
       "\\item 'tree.1'\n",
       "\\item 'tool'\n",
       "\\item 'plow'\n",
       "\\item 'vehicle\\_place'\n",
       "\\item 'harrow'\n",
       "\\item 'chariot'\n",
       "\\item 'X.6'\n",
       "\\item 'brick.mold'\n",
       "\\item 'loom.1'\n",
       "\\item 'X.6'\n",
       "\\item 'comb'\n",
       "\\item 'spindle'\n",
       "\\item 'door'\n",
       "\\item 'handle'\n",
       "\\item 'plank'\n",
       "\\item 'X.5'\n",
       "\\item 'weapon.1'\n",
       "\\item 'X.2'\n",
       "\\item 'unit'\n",
       "\\item 'handle'\n",
       "\\item 'X.2'\n",
       "\\item 'X.6'\n",
       "\\item 'mortar'\n",
       "\\item 'X.2:mortar'\n",
       "\\item 'trough'\n",
       "\\item 'horn\\_ship'\n",
       "\\item 'ship\\_fisherman'\n",
       "\\item 'weapon'\n",
       "\\item 'X.6'\n",
       "\\item 'bow'\n",
       "\\item 'table'\n",
       "\\item 'shovel'\n",
       "\\item 'hoe'\n",
       "\\item 'dish'\n",
       "\\item 'snare'\n",
       "\\item 'X.6'\n",
       "\\item 'stool'\n",
       "\\item 'X.6'\n",
       "\\item 'chair'\n",
       "\\item 'bed'\n",
       "\\end{enumerate*}\n",
       "\n",
       "\\item[\\$P250364] \\begin{enumerate*}\n",
       "\\item 'chariot'\n",
       "\\item 'chair'\n",
       "\\item 'chariot'\n",
       "\\item 'X.6'\n",
       "\\item 'vehicle\\_place'\n",
       "\\item 'plow'\n",
       "\\item 'X.6'\n",
       "\\item 'scales'\n",
       "\\item 'hoe'\n",
       "\\item 'X.6'\n",
       "\\item 'net'\n",
       "\\item 'snare'\n",
       "\\item 'X.6'\n",
       "\\item 'instrument'\n",
       "\\item 'X.6'\n",
       "\\item 'X.5'\n",
       "\\item 'bench'\n",
       "\\item 'staff.1'\n",
       "\\item 'X.6'\n",
       "\\item 'weed'\n",
       "\\item 'staff.1'\n",
       "\\item 'wood.1'\n",
       "\\item 'X.6'\n",
       "\\end{enumerate*}\n",
       "\n",
       "\\item[\\$P250736] \\begin{enumerate*}\n",
       "\\item 'stool'\n",
       "\\item 'unit'\n",
       "\\end{enumerate*}\n",
       "\n",
       "\\end{description}\n"
      ],
      "text/markdown": [
       "$P225033\n",
       ":   1. 'pole'\n",
       "2. 'comb'\n",
       "\n",
       "\n",
       "\n",
       "$P225086\n",
       ":   1. 'tree.2'\n",
       "2. 'acacia'\n",
       "\n",
       "\n",
       "\n",
       "$P235262\n",
       ":   1. 'tree'\n",
       "2. 'apple'\n",
       "3. 'tree.1'\n",
       "4. 'tamarisk'\n",
       "5. 'dish'\n",
       "6. 'table'\n",
       "7. 'stair'\n",
       "8. 'trough'\n",
       "9. 'mortar'\n",
       "10. 'horn_ship'\n",
       "11. 'boat'\n",
       "12. 'ship_fisherman'\n",
       "13. 'rope'\n",
       "14. 'staff'\n",
       "15. 'chariot'\n",
       "16. 'harness'\n",
       "17. 'vehicle_place'\n",
       "18. 'X.6'\n",
       "\n",
       "\n",
       "\n",
       "$P247864\n",
       ":   1. 'cedar'\n",
       "2. 'X.6'\n",
       "3. 'tree.3'\n",
       "4. 'tree'\n",
       "5. 'tree.2'\n",
       "6. 'tree'\n",
       "7. 'tree.4'\n",
       "8. 'tree.5'\n",
       "9. 'tree.4'\n",
       "10. 'X.6'\n",
       "11. 'tree.3'\n",
       "12. 'weed'\n",
       "13. 'twig'\n",
       "14. 'wood'\n",
       "15. 'tree.2'\n",
       "16. 'apple'\n",
       "17. 'tree.1'\n",
       "18. 'poplar.1'\n",
       "19. 'plum'\n",
       "20. 'sprout'\n",
       "21. 'X.6'\n",
       "22. 'sprout'\n",
       "23. 'acacia'\n",
       "24. 'tamarisk'\n",
       "25. 'poplar'\n",
       "26. 'tree.1'\n",
       "27. 'tool'\n",
       "28. 'plow'\n",
       "29. 'vehicle_place'\n",
       "30. 'harrow'\n",
       "31. 'chariot'\n",
       "32. 'X.6'\n",
       "33. 'brick.mold'\n",
       "34. 'loom.1'\n",
       "35. 'X.6'\n",
       "36. 'comb'\n",
       "37. 'spindle'\n",
       "38. 'door'\n",
       "39. 'handle'\n",
       "40. 'plank'\n",
       "41. 'X.5'\n",
       "42. 'weapon.1'\n",
       "43. 'X.2'\n",
       "44. 'unit'\n",
       "45. 'handle'\n",
       "46. 'X.2'\n",
       "47. 'X.6'\n",
       "48. 'mortar'\n",
       "49. 'X.2:mortar'\n",
       "50. 'trough'\n",
       "51. 'horn_ship'\n",
       "52. 'ship_fisherman'\n",
       "53. 'weapon'\n",
       "54. 'X.6'\n",
       "55. 'bow'\n",
       "56. 'table'\n",
       "57. 'shovel'\n",
       "58. 'hoe'\n",
       "59. 'dish'\n",
       "60. 'snare'\n",
       "61. 'X.6'\n",
       "62. 'stool'\n",
       "63. 'X.6'\n",
       "64. 'chair'\n",
       "65. 'bed'\n",
       "\n",
       "\n",
       "\n",
       "$P250364\n",
       ":   1. 'chariot'\n",
       "2. 'chair'\n",
       "3. 'chariot'\n",
       "4. 'X.6'\n",
       "5. 'vehicle_place'\n",
       "6. 'plow'\n",
       "7. 'X.6'\n",
       "8. 'scales'\n",
       "9. 'hoe'\n",
       "10. 'X.6'\n",
       "11. 'net'\n",
       "12. 'snare'\n",
       "13. 'X.6'\n",
       "14. 'instrument'\n",
       "15. 'X.6'\n",
       "16. 'X.5'\n",
       "17. 'bench'\n",
       "18. 'staff.1'\n",
       "19. 'X.6'\n",
       "20. 'weed'\n",
       "21. 'staff.1'\n",
       "22. 'wood.1'\n",
       "23. 'X.6'\n",
       "\n",
       "\n",
       "\n",
       "$P250736\n",
       ":   1. 'stool'\n",
       "2. 'unit'\n",
       "\n",
       "\n",
       "\n",
       "\n",
       "\n"
      ],
      "text/plain": [
       "$P225033\n",
       "[1] \"pole\" \"comb\"\n",
       "\n",
       "$P225086\n",
       "[1] \"tree.2\" \"acacia\"\n",
       "\n",
       "$P235262\n",
       " [1] \"tree\"           \"apple\"          \"tree.1\"         \"tamarisk\"      \n",
       " [5] \"dish\"           \"table\"          \"stair\"          \"trough\"        \n",
       " [9] \"mortar\"         \"horn_ship\"      \"boat\"           \"ship_fisherman\"\n",
       "[13] \"rope\"           \"staff\"          \"chariot\"        \"harness\"       \n",
       "[17] \"vehicle_place\"  \"X.6\"           \n",
       "\n",
       "$P247864\n",
       " [1] \"cedar\"          \"X.6\"            \"tree.3\"         \"tree\"          \n",
       " [5] \"tree.2\"         \"tree\"           \"tree.4\"         \"tree.5\"        \n",
       " [9] \"tree.4\"         \"X.6\"            \"tree.3\"         \"weed\"          \n",
       "[13] \"twig\"           \"wood\"           \"tree.2\"         \"apple\"         \n",
       "[17] \"tree.1\"         \"poplar.1\"       \"plum\"           \"sprout\"        \n",
       "[21] \"X.6\"            \"sprout\"         \"acacia\"         \"tamarisk\"      \n",
       "[25] \"poplar\"         \"tree.1\"         \"tool\"           \"plow\"          \n",
       "[29] \"vehicle_place\"  \"harrow\"         \"chariot\"        \"X.6\"           \n",
       "[33] \"brick.mold\"     \"loom.1\"         \"X.6\"            \"comb\"          \n",
       "[37] \"spindle\"        \"door\"           \"handle\"         \"plank\"         \n",
       "[41] \"X.5\"            \"weapon.1\"       \"X.2\"            \"unit\"          \n",
       "[45] \"handle\"         \"X.2\"            \"X.6\"            \"mortar\"        \n",
       "[49] \"X.2:mortar\"     \"trough\"         \"horn_ship\"      \"ship_fisherman\"\n",
       "[53] \"weapon\"         \"X.6\"            \"bow\"            \"table\"         \n",
       "[57] \"shovel\"         \"hoe\"            \"dish\"           \"snare\"         \n",
       "[61] \"X.6\"            \"stool\"          \"X.6\"            \"chair\"         \n",
       "[65] \"bed\"           \n",
       "\n",
       "$P250364\n",
       " [1] \"chariot\"       \"chair\"         \"chariot\"       \"X.6\"          \n",
       " [5] \"vehicle_place\" \"plow\"          \"X.6\"           \"scales\"       \n",
       " [9] \"hoe\"           \"X.6\"           \"net\"           \"snare\"        \n",
       "[13] \"X.6\"           \"instrument\"    \"X.6\"           \"X.5\"          \n",
       "[17] \"bench\"         \"staff.1\"       \"X.6\"           \"weed\"         \n",
       "[21] \"staff.1\"       \"wood.1\"        \"X.6\"          \n",
       "\n",
       "$P250736\n",
       "[1] \"stool\" \"unit\" \n"
      ]
     },
     "metadata": {},
     "output_type": "display_data"
    }
   ],
   "source": [
    "num_sections = sapply(doc_sections, length)\n",
    "doc_sections_keep = doc_sections[-which(num_sections == 1)]\n",
    "head(doc_sections_keep)"
   ]
  },
  {
   "cell_type": "code",
   "execution_count": 11,
   "metadata": {
    "collapsed": false
   },
   "outputs": [
    {
     "name": "stdout",
     "output_type": "stream",
     "text": [
      "[1] \"This leaves us with 30 documents.\"\n"
     ]
    }
   ],
   "source": [
    "print(paste(\"This leaves us with\", length(doc_sections_keep), \"documents.\"))"
   ]
  },
  {
   "cell_type": "code",
   "execution_count": 12,
   "metadata": {
    "collapsed": false
   },
   "outputs": [
    {
     "name": "stdout",
     "output_type": "stream",
     "text": [
      "[1] \"14 documents have 20 sections or more. 18 documents have 10 sections or more. Those sections are:\"\n",
      " [1] \"P235262\" \"P247864\" \"P250364\" \"P253228\" \"P253233\" \"P253866\" \"P271301\"\n",
      " [8] \"P271771\" \"P271911\" \"P273880\" \"P332934\" \"P370399\" \"P429503\" \"P437074\"\n",
      "[15] \"P459216\" \"P459217\" \"P459218\" \"Q000039\"\n"
     ]
    }
   ],
   "source": [
    "print(paste(length(which(num_sections >= 20)), \"documents have 20 sections or more.\",\n",
    "            length(which(num_sections >= 10)), \"documents have 10 sections or more.\", \n",
    "            \"Those sections are:\"))\n",
    "print(names(which(num_sections >= 10)))"
   ]
  },
  {
   "cell_type": "code",
   "execution_count": 13,
   "metadata": {
    "collapsed": false
   },
   "outputs": [
    {
     "data": {
      "image/png": "[encoded data removed]",
      "text/plain": [
       "Plot with title “Histogram of num_sections”"
      ]
     },
     "metadata": {},
     "output_type": "display_data"
    }
   ],
   "source": [
    "\n",
    "hist(num_sections, breaks = 20)"
   ]
  },
  {
   "cell_type": "markdown",
   "metadata": {},
   "source": [
    "### Method 1: Repeated sections combined\n",
    "\n",
    "This method considers repeated sections in a document as a single section and combines their k-neighborhoods."
   ]
  },
  {
   "cell_type": "markdown",
   "metadata": {},
   "source": [
    "First, we need a function to get the section neighborhood for any given section in any given document. The function below accomplishes this. Note that it is agnostic to the number of times a section appears in a document, combining the neighborhoods for all times that section appears. Individual neighborhoods are \"neighborhood\", combined neighborhoods are \"n\". \n",
    "\n",
    "Note also that the complicated indexing within the for loop is required to avoid going out of bounds. This is important for first few and last few sections in a document. Going out of bounds into negative numbers will throw a `Traceback error`, however, going out of bounds into numbers larger than the length of the vector you're indexing will add `NA`s to your resulting vector. This is worse because the `NA`s are counted in the intersection!\n",
    "\n",
    "Another thing to notice is that the grep statement only finds whole word matches. This is accomplished by using the \"beginning of string\" `^` and \"end of string\" `$` metacharacters within the regular expression search."
   ]
  },
  {
   "cell_type": "code",
   "execution_count": 14,
   "metadata": {
    "collapsed": false
   },
   "outputs": [],
   "source": [
    "get_neighborhood = function(doc, i, k) {\n",
    "    \n",
    "    # create vector to store combined neighborhoods\n",
    "    n = c()\n",
    "    \n",
    "    # search for a section within a document and extract neighborhood\n",
    "    for(x in grep(paste0(\"^\",i,\"$\"), doc)) {\n",
    "    \n",
    "        if(x >= k+1 & x <= length(doc) - k) sequence = (x - k):(x + k)\n",
    "        else if(x < k+1) sequence = 1:(x + k)\n",
    "        else if(x > length(doc) - k) sequence = (x - k):length(doc)\n",
    "    \n",
    "        neighborhood = doc[sequence]\n",
    "    \n",
    "        # add neighborhood to combined neighborhoods for repeated sections\n",
    "        n = c(n, neighborhood)\n",
    "        #print(paste(\"The combined neighborhood is:\", n))\n",
    "}\n",
    "        # return combined neighborhood    \n",
    "        n \n",
    "    }"
   ]
  },
  {
   "cell_type": "markdown",
   "metadata": {},
   "source": [
    "Our next step is to create a function to calculate a document-wide synteny index (SI) for any given document pair. "
   ]
  },
  {
   "cell_type": "code",
   "execution_count": 112,
   "metadata": {
    "collapsed": false
   },
   "outputs": [],
   "source": [
    "#A = doc_sections[[\"P370399\"]]\n",
    "#B = doc_sections[[\"P370399\"]]\n",
    "\n",
    "#print(A)\n",
    "#print(B)\n",
    "\n",
    "calc_SI = function(A, B, k) {\n",
    "\n",
    "    I = intersect(A, B)\n",
    "    #print(I)\n",
    "    counter = 0\n",
    "\n",
    "    for(i in I) {\n",
    "        #print(paste(\"Next section:\", i))\n",
    "        n_A = get_neighborhood(A, i, k)\n",
    "        n_B = get_neighborhood(B, i, k)\n",
    "        SI = length(na.omit(intersect(n_A, n_B))) - 1 # subtract the shared section iteself\n",
    "        #print(paste(\"The SI for\", i, \"is\", SI))\n",
    "        counter = counter + SI\n",
    "        }\n",
    "\n",
    "return(c(SI = counter/length(I), num_shared = length(I), k = k))\n",
    "#counter/length(I)\n",
    "    }\n",
    "\n",
    "#test = calc_SI(A, B, k = 2)\n",
    "#test"
   ]
  },
  {
   "cell_type": "markdown",
   "metadata": {},
   "source": [
    "Now we will create a dataframe to store our results. It will have column `doc_A` = text_id for first document in compared pair, column `doc_B` = text_id for second document in compared pair, `num_shared_sec` = length(I) or number of shared sections between the two documents, and `SI` = document wide SI. \n",
    "\n",
    "The function `combn` allows us to get all possible combinations of documents. `t` transposes the resulting data.frame."
   ]
  },
  {
   "cell_type": "markdown",
   "metadata": {},
   "source": [
    "The theoretical maximum SI for a document pair depends on k, but is always less than 2k, because sections at the end and beginning of documents can never have a SI of 2k, even if they match perfectly with the comparison document. \n",
    "\n",
    "For k = 2, the maximum SI for a document pair is 3.66666666666667."
   ]
  },
  {
   "cell_type": "code",
   "execution_count": 16,
   "metadata": {
    "collapsed": false
   },
   "outputs": [],
   "source": [
    "#install.packages('gtools')"
   ]
  },
  {
   "cell_type": "code",
   "execution_count": 17,
   "metadata": {
    "collapsed": true
   },
   "outputs": [],
   "source": [
    "library(gtools, lib.loc = \"/anaconda/lib/R/library\")"
   ]
  },
  {
   "cell_type": "code",
   "execution_count": 18,
   "metadata": {
    "collapsed": false
   },
   "outputs": [
    {
     "name": "stdout",
     "output_type": "stream",
     "text": [
      "'data.frame':\t900 obs. of  5 variables:\n",
      " $ doc_A         : chr  \"P225033\" \"P225033\" \"P225033\" \"P225033\" ...\n",
      " $ doc_B         : chr  \"P225033\" \"P225086\" \"P235262\" \"P247864\" ...\n",
      " $ num_shared_sec: num  0 0 0 0 0 0 0 0 0 0 ...\n",
      " $ SI            : num  0 0 0 0 0 0 0 0 0 0 ...\n",
      " $ k             : num  0 0 0 0 0 0 0 0 0 0 ...\n"
     ]
    }
   ],
   "source": [
    "docs = names(doc_sections_keep)\n",
    "#all_pairs = t(as.data.frame(combn(docs, 2)))\n",
    "all_pairs = permutations(length(docs), 2, docs, repeats.allowed = T)\n",
    "all_pairs = as.data.frame(all_pairs, stringsAsFactors = FALSE)\n",
    "\n",
    "all_pairs_SI = data.frame(\"doc_A\" = all_pairs[,1], \"doc_B\" = all_pairs[,2], \n",
    "                        \"num_shared_sec\" = numeric(length(all_pairs)), \n",
    "                       \"SI\" = numeric(length(all_pairs)), \n",
    "                          \"k\" = numeric(length(all_pairs)))\n",
    "all_pairs_SI$doc_A = as.character(all_pairs_SI$doc_A)\n",
    "all_pairs_SI$doc_B = as.character(all_pairs_SI$doc_B)\n",
    "\n",
    "str(all_pairs_SI)"
   ]
  },
  {
   "cell_type": "code",
   "execution_count": 19,
   "metadata": {
    "collapsed": false
   },
   "outputs": [
    {
     "data": {
      "text/html": [
       "30"
      ],
      "text/latex": [
       "30"
      ],
      "text/markdown": [
       "30"
      ],
      "text/plain": [
       "[1] 30"
      ]
     },
     "metadata": {},
     "output_type": "display_data"
    },
    {
     "data": {
      "text/html": [
       "<table>\n",
       "<thead><tr><th></th><th scope=col>V1</th><th scope=col>V2</th></tr></thead>\n",
       "<tbody>\n",
       "\t<tr><th scope=row>2</th><td>P225033</td><td>P225086</td></tr>\n",
       "</tbody>\n",
       "</table>\n"
      ],
      "text/latex": [
       "\\begin{tabular}{r|ll}\n",
       "  & V1 & V2\\\\\n",
       "\\hline\n",
       "\t2 & P225033 & P225086\\\\\n",
       "\\end{tabular}\n"
      ],
      "text/markdown": [
       "\n",
       "| <!--/--> | V1 | V2 | \n",
       "|---|\n",
       "| 2 | P225033 | P225086 | \n",
       "\n",
       "\n"
      ],
      "text/plain": [
       "  V1      V2     \n",
       "2 P225033 P225086"
      ]
     },
     "metadata": {},
     "output_type": "display_data"
    },
    {
     "data": {
      "text/html": [
       "<table>\n",
       "<thead><tr><th></th><th scope=col>V1</th><th scope=col>V2</th></tr></thead>\n",
       "<tbody>\n",
       "\t<tr><th scope=row>31</th><td>P225086</td><td>P225033</td></tr>\n",
       "</tbody>\n",
       "</table>\n"
      ],
      "text/latex": [
       "\\begin{tabular}{r|ll}\n",
       "  & V1 & V2\\\\\n",
       "\\hline\n",
       "\t31 & P225086 & P225033\\\\\n",
       "\\end{tabular}\n"
      ],
      "text/markdown": [
       "\n",
       "| <!--/--> | V1 | V2 | \n",
       "|---|\n",
       "| 31 | P225086 | P225033 | \n",
       "\n",
       "\n"
      ],
      "text/plain": [
       "   V1      V2     \n",
       "31 P225086 P225033"
      ]
     },
     "metadata": {},
     "output_type": "display_data"
    }
   ],
   "source": [
    "# check for self-self pairs\n",
    "length(which(all_pairs$V1 == all_pairs$V2))\n",
    "# check for duplicate pairs (A-B and B-A)\n",
    "all_pairs[which(all_pairs$V1 == \"P225033\" & all_pairs$V2 == \"P225086\"),]\n",
    "all_pairs[which(all_pairs$V1 == \"P225086\" & all_pairs$V2 == \"P225033\"),]"
   ]
  },
  {
   "cell_type": "markdown",
   "metadata": {},
   "source": [
    "The `all_pairs` object includes self-self pairs (A=B) and duplicate pairs with reversed order (A-B and B-A). "
   ]
  },
  {
   "cell_type": "markdown",
   "metadata": {},
   "source": [
    "Now we use the `calc_SI` function to iterate through each of the document pairs and store the results in our data.frame `all_pairs_SI`."
   ]
  },
  {
   "cell_type": "code",
   "execution_count": 20,
   "metadata": {
    "collapsed": false
   },
   "outputs": [],
   "source": [
    "for(i in 1:nrow(all_pairs_SI)) {\n",
    "    A = all_pairs_SI[i,]$doc_A\n",
    "    B = all_pairs_SI[i,]$doc_B\n",
    "    result = calc_SI(doc_sections_keep[[A]], doc_sections_keep[[B]], k = 2)\n",
    "    all_pairs_SI[i,]$SI = result[\"SI\"]\n",
    "    all_pairs_SI[i,]$num_shared_sec = result[\"num_shared\"]\n",
    "    all_pairs_SI[i,]$k = result[\"k\"] \n",
    "}"
   ]
  },
  {
   "cell_type": "code",
   "execution_count": 21,
   "metadata": {
    "collapsed": false
   },
   "outputs": [
    {
     "data": {
      "text/plain": [
       "   Min. 1st Qu.  Median    Mean 3rd Qu.    Max.    NA's \n",
       "  0.000   0.000   0.500   0.775   1.200   4.667     238 "
      ]
     },
     "metadata": {},
     "output_type": "display_data"
    },
    {
     "data": {
      "text/html": [
       "900"
      ],
      "text/latex": [
       "900"
      ],
      "text/markdown": [
       "900"
      ],
      "text/plain": [
       "[1] 900"
      ]
     },
     "metadata": {},
     "output_type": "display_data"
    },
    {
     "data": {
      "text/html": [
       "<table>\n",
       "<thead><tr><th scope=col>doc_A</th><th scope=col>doc_B</th><th scope=col>num_shared_sec</th><th scope=col>SI</th><th scope=col>k</th></tr></thead>\n",
       "<tbody>\n",
       "\t<tr><td>P225033</td><td>P225033</td><td>2      </td><td>  1    </td><td>2      </td></tr>\n",
       "\t<tr><td>P225033</td><td>P225086</td><td>0      </td><td>NaN    </td><td>2      </td></tr>\n",
       "\t<tr><td>P225033</td><td>P235262</td><td>0      </td><td>NaN    </td><td>2      </td></tr>\n",
       "\t<tr><td>P225033</td><td>P247864</td><td>1      </td><td>  0    </td><td>2      </td></tr>\n",
       "\t<tr><td>P225033</td><td>P250364</td><td>0      </td><td>NaN    </td><td>2      </td></tr>\n",
       "\t<tr><td>P225033</td><td>P250736</td><td>0      </td><td>NaN    </td><td>2      </td></tr>\n",
       "</tbody>\n",
       "</table>\n"
      ],
      "text/latex": [
       "\\begin{tabular}{r|lllll}\n",
       " doc\\_A & doc\\_B & num\\_shared\\_sec & SI & k\\\\\n",
       "\\hline\n",
       "\t P225033 & P225033 & 2       &   1     & 2      \\\\\n",
       "\t P225033 & P225086 & 0       & NaN     & 2      \\\\\n",
       "\t P225033 & P235262 & 0       & NaN     & 2      \\\\\n",
       "\t P225033 & P247864 & 1       &   0     & 2      \\\\\n",
       "\t P225033 & P250364 & 0       & NaN     & 2      \\\\\n",
       "\t P225033 & P250736 & 0       & NaN     & 2      \\\\\n",
       "\\end{tabular}\n"
      ],
      "text/markdown": [
       "\n",
       "doc_A | doc_B | num_shared_sec | SI | k | \n",
       "|---|---|---|---|---|---|\n",
       "| P225033 | P225033 | 2       |   1     | 2       | \n",
       "| P225033 | P225086 | 0       | NaN     | 2       | \n",
       "| P225033 | P235262 | 0       | NaN     | 2       | \n",
       "| P225033 | P247864 | 1       |   0     | 2       | \n",
       "| P225033 | P250364 | 0       | NaN     | 2       | \n",
       "| P225033 | P250736 | 0       | NaN     | 2       | \n",
       "\n",
       "\n"
      ],
      "text/plain": [
       "  doc_A   doc_B   num_shared_sec SI  k\n",
       "1 P225033 P225033 2                1 2\n",
       "2 P225033 P225086 0              NaN 2\n",
       "3 P225033 P235262 0              NaN 2\n",
       "4 P225033 P247864 1                0 2\n",
       "5 P225033 P250364 0              NaN 2\n",
       "6 P225033 P250736 0              NaN 2"
      ]
     },
     "metadata": {},
     "output_type": "display_data"
    }
   ],
   "source": [
    "summary(all_pairs_SI$SI)\n",
    "nrow(all_pairs_SI)\n",
    "head(all_pairs_SI)"
   ]
  },
  {
   "cell_type": "markdown",
   "metadata": {},
   "source": [
    "The maximum possible SI for a pair of document should be 2*k. However, there are a few complications. \n",
    "\n",
    "1) Our documents are not circular. Therefore, the first k and last k sections in a document can not have 2*k neighbors. This reduces the maximum possible SI for a given document pair and makes the actual maximum SI possible dependent on document length. \n",
    "\n",
    "2) Because some sections are repeated more than once in a document (particularly \"garbage\" sections like X.6), and this method pools the neighborhoods for all times a section appears in a document, the maximum calculated SI can be greater than 2*k. In fact, the maximum calculated SI can be arbitraribly large, if many sections are repeated within a document."
   ]
  },
  {
   "cell_type": "markdown",
   "metadata": {},
   "source": [
    "For this dataset, all instances where SI is > 2k are for self-self pairs. However, that may not be the case for all datasets, so we should add a check here. For our dataset, however, we can set a \"ceiling\" SI to 4. "
   ]
  },
  {
   "cell_type": "code",
   "execution_count": 22,
   "metadata": {
    "collapsed": false
   },
   "outputs": [
    {
     "data": {
      "text/html": [
       "<table>\n",
       "<thead><tr><th></th><th scope=col>doc_A</th><th scope=col>doc_B</th><th scope=col>num_shared_sec</th><th scope=col>SI</th><th scope=col>k</th></tr></thead>\n",
       "<tbody>\n",
       "\t<tr><th scope=row>94</th><td>P247864 </td><td>P247864 </td><td> 49     </td><td>4.653061</td><td>2       </td></tr>\n",
       "\t<tr><th scope=row>187</th><td>P253228 </td><td>P253228 </td><td> 15     </td><td>4.133333</td><td>2       </td></tr>\n",
       "\t<tr><th scope=row>342</th><td>P271301 </td><td>P271301 </td><td> 45     </td><td>4.088889</td><td>2       </td></tr>\n",
       "\t<tr><th scope=row>435</th><td>P271911 </td><td>P271911 </td><td> 43     </td><td>4.325581</td><td>2       </td></tr>\n",
       "\t<tr><th scope=row>466</th><td>P273880 </td><td>P273880 </td><td> 75     </td><td>4.666667</td><td>2       </td></tr>\n",
       "\t<tr><th scope=row>528</th><td>P332934 </td><td>P332934 </td><td> 30     </td><td>4.200000</td><td>2       </td></tr>\n",
       "\t<tr><th scope=row>900</th><td>Q000039 </td><td>Q000039 </td><td>112     </td><td>4.107143</td><td>2       </td></tr>\n",
       "</tbody>\n",
       "</table>\n"
      ],
      "text/latex": [
       "\\begin{tabular}{r|lllll}\n",
       "  & doc\\_A & doc\\_B & num\\_shared\\_sec & SI & k\\\\\n",
       "\\hline\n",
       "\t94 & P247864  & P247864  &  49      & 4.653061 & 2       \\\\\n",
       "\t187 & P253228  & P253228  &  15      & 4.133333 & 2       \\\\\n",
       "\t342 & P271301  & P271301  &  45      & 4.088889 & 2       \\\\\n",
       "\t435 & P271911  & P271911  &  43      & 4.325581 & 2       \\\\\n",
       "\t466 & P273880  & P273880  &  75      & 4.666667 & 2       \\\\\n",
       "\t528 & P332934  & P332934  &  30      & 4.200000 & 2       \\\\\n",
       "\t900 & Q000039  & Q000039  & 112      & 4.107143 & 2       \\\\\n",
       "\\end{tabular}\n"
      ],
      "text/markdown": [
       "\n",
       "| <!--/--> | doc_A | doc_B | num_shared_sec | SI | k | \n",
       "|---|---|---|---|---|---|---|\n",
       "| 94 | P247864  | P247864  |  49      | 4.653061 | 2        | \n",
       "| 187 | P253228  | P253228  |  15      | 4.133333 | 2        | \n",
       "| 342 | P271301  | P271301  |  45      | 4.088889 | 2        | \n",
       "| 435 | P271911  | P271911  |  43      | 4.325581 | 2        | \n",
       "| 466 | P273880  | P273880  |  75      | 4.666667 | 2        | \n",
       "| 528 | P332934  | P332934  |  30      | 4.200000 | 2        | \n",
       "| 900 | Q000039  | Q000039  | 112      | 4.107143 | 2        | \n",
       "\n",
       "\n"
      ],
      "text/plain": [
       "    doc_A   doc_B   num_shared_sec SI       k\n",
       "94  P247864 P247864  49            4.653061 2\n",
       "187 P253228 P253228  15            4.133333 2\n",
       "342 P271301 P271301  45            4.088889 2\n",
       "435 P271911 P271911  43            4.325581 2\n",
       "466 P273880 P273880  75            4.666667 2\n",
       "528 P332934 P332934  30            4.200000 2\n",
       "900 Q000039 Q000039 112            4.107143 2"
      ]
     },
     "metadata": {},
     "output_type": "display_data"
    }
   ],
   "source": [
    "# Visually inspect that all cases of SI > 2k are identical docs.\n",
    "k = unique(all_pairs_SI$k)\n",
    "all_pairs_SI[which(all_pairs_SI$SI > 2*k),]"
   ]
  },
  {
   "cell_type": "code",
   "execution_count": 23,
   "metadata": {
    "collapsed": false
   },
   "outputs": [],
   "source": [
    "# change all SI > 2k to 2k\n",
    "all_pairs_SI[which(all_pairs_SI$SI > 2*k),]$SI = 2*k"
   ]
  },
  {
   "cell_type": "markdown",
   "metadata": {},
   "source": [
    "We also have many document pairs with an SI of NaN. These appear to be cases where two documents have no shared sections (and therefore SI was calculated as 0/0). The following checks that this is the case for all instances of SI = NaN and sets the SI for these document pairs to be -2k. "
   ]
  },
  {
   "cell_type": "code",
   "execution_count": 24,
   "metadata": {
    "collapsed": false
   },
   "outputs": [
    {
     "data": {
      "text/html": [
       "0"
      ],
      "text/latex": [
       "0"
      ],
      "text/markdown": [
       "0"
      ],
      "text/plain": [
       "[1] 0"
      ]
     },
     "metadata": {},
     "output_type": "display_data"
    }
   ],
   "source": [
    "# check that all doc pairs with SI of NaN have zero shared sections\n",
    "unique(all_pairs_SI[which(is.na(all_pairs_SI$SI)),]$num_shared_sec)"
   ]
  },
  {
   "cell_type": "code",
   "execution_count": 25,
   "metadata": {
    "collapsed": false
   },
   "outputs": [
    {
     "data": {
      "text/html": [
       "<table>\n",
       "<thead><tr><th scope=col>doc_A</th><th scope=col>doc_B</th><th scope=col>num_shared_sec</th><th scope=col>SI</th><th scope=col>k</th></tr></thead>\n",
       "<tbody>\n",
       "\t<tr><td>P225033</td><td>P225033</td><td>2      </td><td> 1     </td><td>2      </td></tr>\n",
       "\t<tr><td>P225033</td><td>P225086</td><td>0      </td><td>-4     </td><td>2      </td></tr>\n",
       "\t<tr><td>P225033</td><td>P235262</td><td>0      </td><td>-4     </td><td>2      </td></tr>\n",
       "\t<tr><td>P225033</td><td>P247864</td><td>1      </td><td> 0     </td><td>2      </td></tr>\n",
       "\t<tr><td>P225033</td><td>P250364</td><td>0      </td><td>-4     </td><td>2      </td></tr>\n",
       "\t<tr><td>P225033</td><td>P250736</td><td>0      </td><td>-4     </td><td>2      </td></tr>\n",
       "</tbody>\n",
       "</table>\n"
      ],
      "text/latex": [
       "\\begin{tabular}{r|lllll}\n",
       " doc\\_A & doc\\_B & num\\_shared\\_sec & SI & k\\\\\n",
       "\\hline\n",
       "\t P225033 & P225033 & 2       &  1      & 2      \\\\\n",
       "\t P225033 & P225086 & 0       & -4      & 2      \\\\\n",
       "\t P225033 & P235262 & 0       & -4      & 2      \\\\\n",
       "\t P225033 & P247864 & 1       &  0      & 2      \\\\\n",
       "\t P225033 & P250364 & 0       & -4      & 2      \\\\\n",
       "\t P225033 & P250736 & 0       & -4      & 2      \\\\\n",
       "\\end{tabular}\n"
      ],
      "text/markdown": [
       "\n",
       "doc_A | doc_B | num_shared_sec | SI | k | \n",
       "|---|---|---|---|---|---|\n",
       "| P225033 | P225033 | 2       |  1      | 2       | \n",
       "| P225033 | P225086 | 0       | -4      | 2       | \n",
       "| P225033 | P235262 | 0       | -4      | 2       | \n",
       "| P225033 | P247864 | 1       |  0      | 2       | \n",
       "| P225033 | P250364 | 0       | -4      | 2       | \n",
       "| P225033 | P250736 | 0       | -4      | 2       | \n",
       "\n",
       "\n"
      ],
      "text/plain": [
       "  doc_A   doc_B   num_shared_sec SI k\n",
       "1 P225033 P225033 2               1 2\n",
       "2 P225033 P225086 0              -4 2\n",
       "3 P225033 P235262 0              -4 2\n",
       "4 P225033 P247864 1               0 2\n",
       "5 P225033 P250364 0              -4 2\n",
       "6 P225033 P250736 0              -4 2"
      ]
     },
     "metadata": {},
     "output_type": "display_data"
    }
   ],
   "source": [
    "# if this condition is true provisionally replace SI of NaN to -2k\n",
    "# so that distance will be greatest for these doc pairs\n",
    "NA_rows = which(is.na(all_pairs_SI$SI) == TRUE)\n",
    "all_pairs_SI[NA_rows,]$SI = -2*k\n",
    "head(all_pairs_SI)"
   ]
  },
  {
   "cell_type": "code",
   "execution_count": 26,
   "metadata": {
    "collapsed": false
   },
   "outputs": [
    {
     "data": {
      "text/html": [
       "<table>\n",
       "<thead><tr><th scope=col>doc_A</th><th scope=col>doc_B</th><th scope=col>num_shared_sec</th><th scope=col>SI</th><th scope=col>k</th><th scope=col>dist</th></tr></thead>\n",
       "<tbody>\n",
       "\t<tr><td>P225033</td><td>P225033</td><td>2      </td><td> 1     </td><td>2      </td><td>3      </td></tr>\n",
       "\t<tr><td>P225033</td><td>P225086</td><td>0      </td><td>-4     </td><td>2      </td><td>8      </td></tr>\n",
       "\t<tr><td>P225033</td><td>P235262</td><td>0      </td><td>-4     </td><td>2      </td><td>8      </td></tr>\n",
       "\t<tr><td>P225033</td><td>P247864</td><td>1      </td><td> 0     </td><td>2      </td><td>4      </td></tr>\n",
       "\t<tr><td>P225033</td><td>P250364</td><td>0      </td><td>-4     </td><td>2      </td><td>8      </td></tr>\n",
       "\t<tr><td>P225033</td><td>P250736</td><td>0      </td><td>-4     </td><td>2      </td><td>8      </td></tr>\n",
       "</tbody>\n",
       "</table>\n"
      ],
      "text/latex": [
       "\\begin{tabular}{r|llllll}\n",
       " doc\\_A & doc\\_B & num\\_shared\\_sec & SI & k & dist\\\\\n",
       "\\hline\n",
       "\t P225033 & P225033 & 2       &  1      & 2       & 3      \\\\\n",
       "\t P225033 & P225086 & 0       & -4      & 2       & 8      \\\\\n",
       "\t P225033 & P235262 & 0       & -4      & 2       & 8      \\\\\n",
       "\t P225033 & P247864 & 1       &  0      & 2       & 4      \\\\\n",
       "\t P225033 & P250364 & 0       & -4      & 2       & 8      \\\\\n",
       "\t P225033 & P250736 & 0       & -4      & 2       & 8      \\\\\n",
       "\\end{tabular}\n"
      ],
      "text/markdown": [
       "\n",
       "doc_A | doc_B | num_shared_sec | SI | k | dist | \n",
       "|---|---|---|---|---|---|\n",
       "| P225033 | P225033 | 2       |  1      | 2       | 3       | \n",
       "| P225033 | P225086 | 0       | -4      | 2       | 8       | \n",
       "| P225033 | P235262 | 0       | -4      | 2       | 8       | \n",
       "| P225033 | P247864 | 1       |  0      | 2       | 4       | \n",
       "| P225033 | P250364 | 0       | -4      | 2       | 8       | \n",
       "| P225033 | P250736 | 0       | -4      | 2       | 8       | \n",
       "\n",
       "\n"
      ],
      "text/plain": [
       "  doc_A   doc_B   num_shared_sec SI k dist\n",
       "1 P225033 P225033 2               1 2 3   \n",
       "2 P225033 P225086 0              -4 2 8   \n",
       "3 P225033 P235262 0              -4 2 8   \n",
       "4 P225033 P247864 1               0 2 4   \n",
       "5 P225033 P250364 0              -4 2 8   \n",
       "6 P225033 P250736 0              -4 2 8   "
      ]
     },
     "metadata": {},
     "output_type": "display_data"
    }
   ],
   "source": [
    "# Calculate distance and add to dataframe\n",
    "all_pairs_SI$dist = (2*all_pairs_SI$k)-(all_pairs_SI$SI)\n",
    "head(all_pairs_SI)"
   ]
  },
  {
   "cell_type": "code",
   "execution_count": 27,
   "metadata": {
    "collapsed": false
   },
   "outputs": [
    {
     "data": {
      "image/png": "[encoded data removed]",
      "text/plain": [
       "Plot with title “Histogram of all_pairs_SI$dist”"
      ]
     },
     "metadata": {},
     "output_type": "display_data"
    }
   ],
   "source": [
    "hist(all_pairs_SI$dist, breaks = 30)"
   ]
  },
  {
   "cell_type": "code",
   "execution_count": 28,
   "metadata": {
    "collapsed": false
   },
   "outputs": [
    {
     "data": {
      "text/html": [
       "<table>\n",
       "<thead><tr><th scope=col>doc_A</th><th scope=col>doc_B</th><th scope=col>dist</th></tr></thead>\n",
       "<tbody>\n",
       "\t<tr><td>P225033</td><td>P225033</td><td>3      </td></tr>\n",
       "\t<tr><td>P225033</td><td>P225086</td><td>8      </td></tr>\n",
       "\t<tr><td>P225033</td><td>P235262</td><td>8      </td></tr>\n",
       "\t<tr><td>P225033</td><td>P247864</td><td>4      </td></tr>\n",
       "\t<tr><td>P225033</td><td>P250364</td><td>8      </td></tr>\n",
       "\t<tr><td>P225033</td><td>P250736</td><td>8      </td></tr>\n",
       "</tbody>\n",
       "</table>\n"
      ],
      "text/latex": [
       "\\begin{tabular}{r|lll}\n",
       " doc\\_A & doc\\_B & dist\\\\\n",
       "\\hline\n",
       "\t P225033 & P225033 & 3      \\\\\n",
       "\t P225033 & P225086 & 8      \\\\\n",
       "\t P225033 & P235262 & 8      \\\\\n",
       "\t P225033 & P247864 & 4      \\\\\n",
       "\t P225033 & P250364 & 8      \\\\\n",
       "\t P225033 & P250736 & 8      \\\\\n",
       "\\end{tabular}\n"
      ],
      "text/markdown": [
       "\n",
       "doc_A | doc_B | dist | \n",
       "|---|---|---|---|---|---|\n",
       "| P225033 | P225033 | 3       | \n",
       "| P225033 | P225086 | 8       | \n",
       "| P225033 | P235262 | 8       | \n",
       "| P225033 | P247864 | 4       | \n",
       "| P225033 | P250364 | 8       | \n",
       "| P225033 | P250736 | 8       | \n",
       "\n",
       "\n"
      ],
      "text/plain": [
       "  doc_A   doc_B   dist\n",
       "1 P225033 P225033 3   \n",
       "2 P225033 P225086 8   \n",
       "3 P225033 P235262 8   \n",
       "4 P225033 P247864 4   \n",
       "5 P225033 P250364 8   \n",
       "6 P225033 P250736 8   "
      ]
     },
     "metadata": {},
     "output_type": "display_data"
    }
   ],
   "source": [
    "# Extract the columns of the data frame we need to build a dendrogram\n",
    "all_pairs_SI = all_pairs_SI[,c(\"doc_A\", \"doc_B\", \"dist\")]\n",
    "head(all_pairs_SI)"
   ]
  },
  {
   "cell_type": "code",
   "execution_count": 29,
   "metadata": {
    "collapsed": false
   },
   "outputs": [],
   "source": [
    "# round the distances\n",
    "all_pairs_SI$dist = round(all_pairs_SI$dist, 2)"
   ]
  },
  {
   "cell_type": "code",
   "execution_count": 45,
   "metadata": {
    "collapsed": false
   },
   "outputs": [],
   "source": [
    "#install.packages(\"reshape2\")\n",
    "library(reshape2, lib.loc = \"/anaconda/lib/R/library\")\n",
    "\n",
    "#install.packages(\"ggdendro\")\n",
    "library(ggdendro, lib.loc = \"/anaconda/lib/R/library\")\n",
    "\n",
    "#install.packages(\"scales\")\n",
    "library(scales, lib.loc = \"/anaconda/lib/R/library\")\n",
    "\n",
    "#install.packages(\"ggplot2\")\n",
    "library(ggplot2, lib.loc = \"/anaconda/lib/R/library\")\n"
   ]
  },
  {
   "cell_type": "code",
   "execution_count": 31,
   "metadata": {
    "collapsed": false
   },
   "outputs": [],
   "source": [
    "# reshape the data to wide format\n",
    "all_pairs_SI_wide = dcast(all_pairs_SI, doc_A ~ doc_B, \n",
    "                          value.var = \"dist\", fun.aggregate = mean)\n",
    "all_pairs_SI_wide$document = all_pairs_SI_wide$doc_A\n",
    "all_pairs_SI_wide$doc_A = NULL"
   ]
  },
  {
   "cell_type": "code",
   "execution_count": 33,
   "metadata": {
    "collapsed": false
   },
   "outputs": [],
   "source": [
    "# convert document column to rownames\n",
    "rownames(all_pairs_SI_wide) = all_pairs_SI_wide$document\n",
    "\n",
    "all_pairs_SI_wide_metadata = all_pairs_SI_wide"
   ]
  },
  {
   "cell_type": "code",
   "execution_count": 34,
   "metadata": {
    "collapsed": false
   },
   "outputs": [],
   "source": [
    "# remove document column to make matrix square (same number of cols and rows)\n",
    "all_pairs_SI_wide$document = NULL"
   ]
  },
  {
   "cell_type": "code",
   "execution_count": 35,
   "metadata": {
    "collapsed": false
   },
   "outputs": [],
   "source": [
    "clusters = hclust(as.dist(all_pairs_SI_wide))"
   ]
  },
  {
   "cell_type": "code",
   "execution_count": 36,
   "metadata": {
    "collapsed": false
   },
   "outputs": [
    {
     "data": {
      "image/png": "[encoded data removed]",
      "text/plain": [
       "Plot with title “Distance between documents by section order”"
      ]
     },
     "metadata": {},
     "output_type": "display_data"
    }
   ],
   "source": [
    "plot(clusters, main = \"Distance between documents by section order\", \n",
    "    ylab = \"Distance\", xlab = \"\")"
   ]
  },
  {
   "cell_type": "code",
   "execution_count": 37,
   "metadata": {
    "collapsed": false
   },
   "outputs": [
    {
     "name": "stderr",
     "output_type": "stream",
     "text": [
      "Warning message in ggproto(NULL, ScalesList):\n",
      "“bytecode version mismatch; using eval”"
     ]
    },
    {
     "data": {},
     "metadata": {},
     "output_type": "display_data"
    },
    {
     "data": {
      "image/png": "[encoded data removed]",
      "text/plain": [
       "plot without title"
      ]
     },
     "metadata": {},
     "output_type": "display_data"
    }
   ],
   "source": [
    "# An alternative visualization (should be mathematically equivalent)\n",
    "ggdendrogram(clusters, rotate = TRUE)"
   ]
  },
  {
   "cell_type": "code",
   "execution_count": 38,
   "metadata": {
    "collapsed": false
   },
   "outputs": [
    {
     "data": {
      "text/html": [
       "<table>\n",
       "<thead><tr><th scope=col>designation</th><th scope=col>period</th><th scope=col>provenience</th><th scope=col>museum_no</th><th scope=col>document</th></tr></thead>\n",
       "<tbody>\n",
       "\t<tr><td>W 06435,a </td><td>Uruk III  </td><td>Uruk      </td><td>VAT 01533 </td><td>P000001   </td></tr>\n",
       "\t<tr><td>W 06435,b </td><td>Uruk III  </td><td>Uruk      </td><td>VAT 15263 </td><td>P000002   </td></tr>\n",
       "\t<tr><td>W 09123,d </td><td>Uruk IV   </td><td>Uruk      </td><td>VAT 15253 </td><td>P000003   </td></tr>\n",
       "\t<tr><td>W 09169,d </td><td>Uruk IV   </td><td>Uruk      </td><td>VAT 15168 </td><td>P000004   </td></tr>\n",
       "\t<tr><td>W 09206,k </td><td>Uruk IV   </td><td>Uruk      </td><td>VAT 15153 </td><td>P000005   </td></tr>\n",
       "\t<tr><td>W 09656,h1</td><td>Uruk IV   </td><td>Uruk      </td><td>VAT 15003 </td><td>P000006   </td></tr>\n",
       "</tbody>\n",
       "</table>\n"
      ],
      "text/latex": [
       "\\begin{tabular}{r|lllll}\n",
       " designation & period & provenience & museum\\_no & document\\\\\n",
       "\\hline\n",
       "\t W 06435,a  & Uruk III   & Uruk       & VAT 01533  & P000001   \\\\\n",
       "\t W 06435,b  & Uruk III   & Uruk       & VAT 15263  & P000002   \\\\\n",
       "\t W 09123,d  & Uruk IV    & Uruk       & VAT 15253  & P000003   \\\\\n",
       "\t W 09169,d  & Uruk IV    & Uruk       & VAT 15168  & P000004   \\\\\n",
       "\t W 09206,k  & Uruk IV    & Uruk       & VAT 15153  & P000005   \\\\\n",
       "\t W 09656,h1 & Uruk IV    & Uruk       & VAT 15003  & P000006   \\\\\n",
       "\\end{tabular}\n"
      ],
      "text/markdown": [
       "\n",
       "designation | period | provenience | museum_no | document | \n",
       "|---|---|---|---|---|---|\n",
       "| W 06435,a  | Uruk III   | Uruk       | VAT 01533  | P000001    | \n",
       "| W 06435,b  | Uruk III   | Uruk       | VAT 15263  | P000002    | \n",
       "| W 09123,d  | Uruk IV    | Uruk       | VAT 15253  | P000003    | \n",
       "| W 09169,d  | Uruk IV    | Uruk       | VAT 15168  | P000004    | \n",
       "| W 09206,k  | Uruk IV    | Uruk       | VAT 15153  | P000005    | \n",
       "| W 09656,h1 | Uruk IV    | Uruk       | VAT 15003  | P000006    | \n",
       "\n",
       "\n"
      ],
      "text/plain": [
       "  designation period   provenience museum_no document\n",
       "1 W 06435,a   Uruk III Uruk        VAT 01533 P000001 \n",
       "2 W 06435,b   Uruk III Uruk        VAT 15263 P000002 \n",
       "3 W 09123,d   Uruk IV  Uruk        VAT 15253 P000003 \n",
       "4 W 09169,d   Uruk IV  Uruk        VAT 15168 P000004 \n",
       "5 W 09206,k   Uruk IV  Uruk        VAT 15153 P000005 \n",
       "6 W 09656,h1  Uruk IV  Uruk        VAT 15003 P000006 "
      ]
     },
     "metadata": {},
     "output_type": "display_data"
    }
   ],
   "source": [
    "# Bring in metadata\n",
    "metadata = read.csv(\"../metadata/dcclt_cat.csv\")\n",
    "metadata$document = metadata$X\n",
    "metadata$X = NULL\n",
    "head(metadata)"
   ]
  },
  {
   "cell_type": "code",
   "execution_count": 39,
   "metadata": {
    "collapsed": false
   },
   "outputs": [
    {
     "data": {
      "text/html": [
       "30"
      ],
      "text/latex": [
       "30"
      ],
      "text/markdown": [
       "30"
      ],
      "text/plain": [
       "[1] 30"
      ]
     },
     "metadata": {},
     "output_type": "display_data"
    }
   ],
   "source": [
    "# Drop metadata for documents not in this dataset\n",
    "docs = unique(rownames(all_pairs_SI_wide))\n",
    "metadata = metadata[which(metadata$document %in% docs),]\n",
    "nrow(metadata)"
   ]
  },
  {
   "cell_type": "code",
   "execution_count": 115,
   "metadata": {
    "collapsed": false
   },
   "outputs": [
    {
     "data": {
      "text/html": [
       "2"
      ],
      "text/latex": [
       "2"
      ],
      "text/markdown": [
       "2"
      ],
      "text/plain": [
       "[1] 2"
      ]
     },
     "metadata": {},
     "output_type": "display_data"
    },
    {
     "name": "stdout",
     "output_type": "stream",
     "text": [
      "[1] \"Middle Babylonian\" \"Old Babylonian\"   \n"
     ]
    },
    {
     "data": {
      "image/png": "[encoded data removed]",
      "text/plain": [
       "plot without title"
      ]
     },
     "metadata": {},
     "output_type": "display_data"
    }
   ],
   "source": [
    "# Add colors to dendrogram by provenance\n",
    "numColors = length(levels(factor(metadata$period)))\n",
    "numColors\n",
    "myPalette = brewer_pal(palette = \"Paired\")(numColors)\n",
    "names(myPalette) = levels(factor(metadata$period))\n",
    "print(names(myPalette))\n",
    "show_col(myPalette)"
   ]
  },
  {
   "cell_type": "code",
   "execution_count": 67,
   "metadata": {
    "collapsed": false
   },
   "outputs": [],
   "source": [
    "all_pairs_SI_wide$document = rownames(all_pairs_SI_wide)\n",
    "all_pairs_SI_wide = merge(all_pairs_SI_wide, metadata, by = \"document\")"
   ]
  },
  {
   "cell_type": "code",
   "execution_count": 116,
   "metadata": {
    "collapsed": false
   },
   "outputs": [
    {
     "name": "stdout",
     "output_type": "stream",
     "text": [
      "[1] Old Babylonian\n",
      "23 Levels:  Achaemenid Archaic Early Dynastic Early Dynastic IIIa ... Uruk IV\n"
     ]
    },
    {
     "data": {
      "text/html": [
       "'#1F78B4'"
      ],
      "text/latex": [
       "'\\#1F78B4'"
      ],
      "text/markdown": [
       "'#1F78B4'"
      ],
      "text/plain": [
       "[1] \"#1F78B4\""
      ]
     },
     "metadata": {},
     "output_type": "display_data"
    }
   ],
   "source": [
    "label = \"P459225\"\n",
    "group = metadata[which(metadata$document == label),\"period\"]\n",
    "print(group)\n",
    "unname(myPalette[as.character(group)])"
   ]
  },
  {
   "cell_type": "code",
   "execution_count": 117,
   "metadata": {
    "collapsed": false
   },
   "outputs": [
    {
     "data": {
      "image/png": "[encoded data removed]",
      "text/plain": [
       "plot without title"
      ]
     },
     "metadata": {},
     "output_type": "display_data"
    }
   ],
   "source": [
    "labelCol = function(x) {\n",
    "  if (is.leaf(x)) {\n",
    "    # fetch label\n",
    "    label = attr(x, \"label\")\n",
    "    # print(label)\n",
    "    group = metadata[which(metadata$document == label),\"period\"]\n",
    "    group_col = unname(myPalette[as.character(group)])\n",
    "    attr(x, \"nodePar\") = list(lab.col = group_col)\n",
    "  }\n",
    "  return(x)\n",
    "}\n",
    "\n",
    "## apply labelCol on all nodes of the dendrogram\n",
    "plot(dendrapply(as.dendrogram(clusters), labelCol))"
   ]
  },
  {
   "cell_type": "markdown",
   "metadata": {
    "collapsed": false
   },
   "source": [
    "# Niek's method (consider each instance of a repeated section independently)\n",
    "\n",
    "A = doc_sections[[24]]\n",
    "B = doc_sections[[58]]\n",
    "\n",
    "I = intersect(A, B)\n",
    "\n",
    "l = list()\n",
    "j = 1\n",
    "\n",
    "# create a list storing section matching information\n",
    "for(i in I) {\n",
    "    index_A = grep(paste0(\"^\",i,\"$\"), A)\n",
    "    index_B = grep(paste0(\"^\",i,\"$\"), B)\n",
    "    section_indices = list(section = i, index_A = index_A, index_B = index_B)\n",
    "    l[[j]] = section_indices\n",
    "    j = j + 1\n",
    "    }\n",
    "\n",
    "\n",
    "### Update to use method above\n",
    "counter = 0\n",
    "k = 2\n",
    "\n",
    "for(x in grep(i, A)) {\n",
    "    neighborhood_A = A[(x - k):(x + k)]\n",
    "    n_A = c(n_A, neighborhood_A)\n",
    "}\n",
    "\n",
    "for(x in grep(i, B)) {\n",
    "    neighborhood_B = B[(x - k):(x + k)]\n",
    "    n_B = c(n_B, neighborhood_B)\n",
    "}\n",
    "\n",
    "SI = length(na.omit(intersect(n_A, n_B)))\n",
    "SI\n"
   ]
  }
 ],
 "metadata": {
  "anaconda-cloud": {},
  "kernelspec": {
   "display_name": "R",
   "language": "R",
   "name": "ir"
  },
  "language_info": {
   "codemirror_mode": "r",
   "file_extension": ".r",
   "mimetype": "text/x-r-source",
   "name": "R",
   "pygments_lexer": "r",
   "version": "3.3.2"
  }
 },
 "nbformat": 4,
 "nbformat_minor": 1
}
