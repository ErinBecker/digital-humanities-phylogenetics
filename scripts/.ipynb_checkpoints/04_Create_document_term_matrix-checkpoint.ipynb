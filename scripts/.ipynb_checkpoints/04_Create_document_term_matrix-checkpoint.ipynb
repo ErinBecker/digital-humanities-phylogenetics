{
 "cells": [
  {
   "cell_type": "markdown",
   "metadata": {},
   "source": [
    "# Part 2: Analysis based on presence/absence of entries"
   ]
  },
  {
   "cell_type": "markdown",
   "metadata": {},
   "source": [
    "One metric by which we can explore similarity of texts is by patterns of shared words (or in our case, entries). This notebook implements an analysis of shared entries among documents."
   ]
  },
  {
   "cell_type": "code",
   "execution_count": 1,
   "metadata": {
    "collapsed": true
   },
   "outputs": [],
   "source": [
    "import pandas as pd\n",
    "import numpy as np\n",
    "import re"
   ]
  },
  {
   "cell_type": "markdown",
   "metadata": {},
   "source": [
    "## Load the Data\n",
    "\n",
    "We structured the data in a previous notebook (`02_structure_data.ipynb`) and exported the results in the directory `data/pass`. Here we load that structured data in for further analysis."
   ]
  },
  {
   "cell_type": "code",
   "execution_count": 2,
   "metadata": {
    "collapsed": false
   },
   "outputs": [
    {
     "name": "stdout",
     "output_type": "stream",
     "text": [
      "Filename: Q39_par.csv\n"
     ]
    }
   ],
   "source": [
    "# Provide a filename. \n",
    "filename = input('Filename: ')"
   ]
  },
  {
   "cell_type": "code",
   "execution_count": 3,
   "metadata": {
    "collapsed": false
   },
   "outputs": [],
   "source": [
    "# Read in the data in that file. \n",
    "file = '../data/pass/' + filename\n",
    "#df = pd.read_csv(file, dtype={'extent': object}).drop('Unnamed: 0', axis=1)\n",
    "df = pd.read_csv(file)"
   ]
  },
  {
   "cell_type": "markdown",
   "metadata": {},
   "source": [
    "Note to Niek: The \"drop Unnamed\" and \"dtype extent\" arguments appear to be outdated. Are these needed? "
   ]
  },
  {
   "cell_type": "code",
   "execution_count": 4,
   "metadata": {
    "collapsed": false
   },
   "outputs": [
    {
     "data": {
      "text/html": [
       "<div>\n",
       "<table border=\"1\" class=\"dataframe\">\n",
       "  <thead>\n",
       "    <tr style=\"text-align: right;\">\n",
       "      <th></th>\n",
       "      <th>id_text</th>\n",
       "      <th>id_line</th>\n",
       "      <th>label</th>\n",
       "      <th>lemma</th>\n",
       "      <th>base</th>\n",
       "      <th>skip</th>\n",
       "      <th>entry</th>\n",
       "    </tr>\n",
       "  </thead>\n",
       "  <tbody>\n",
       "    <tr>\n",
       "      <th>0</th>\n",
       "      <td>P224980</td>\n",
       "      <td>4</td>\n",
       "      <td>o i 1</td>\n",
       "      <td>gigir[chariot]N</td>\n",
       "      <td>{ŋeš}gigir</td>\n",
       "      <td>0.0</td>\n",
       "      <td>gigir[chariot]N</td>\n",
       "    </tr>\n",
       "    <tr>\n",
       "      <th>1</th>\n",
       "      <td>P224980</td>\n",
       "      <td>5</td>\n",
       "      <td>o i 2</td>\n",
       "      <td>e[house]N gigir[chariot]N</td>\n",
       "      <td>{ŋeš}e₂ gigir</td>\n",
       "      <td>0.0</td>\n",
       "      <td>e[house]N_gigir[chariot]N</td>\n",
       "    </tr>\n",
       "    <tr>\n",
       "      <th>2</th>\n",
       "      <td>P224980</td>\n",
       "      <td>6</td>\n",
       "      <td>o i 3</td>\n",
       "      <td>e[house]N usan[whip]N gigir[chariot]N</td>\n",
       "      <td>{ŋeš}e₂ usan₃ gigir</td>\n",
       "      <td>0.0</td>\n",
       "      <td>e[house]N_usan[whip]N_gigir[chariot]N</td>\n",
       "    </tr>\n",
       "    <tr>\n",
       "      <th>3</th>\n",
       "      <td>P224986</td>\n",
       "      <td>4</td>\n",
       "      <td>o i 1</td>\n",
       "      <td>guza[chair]N anše[equid]N</td>\n",
       "      <td>{ŋeš}gu-za anše</td>\n",
       "      <td>0.0</td>\n",
       "      <td>guza[chair]N_anše[equid]N</td>\n",
       "    </tr>\n",
       "    <tr>\n",
       "      <th>4</th>\n",
       "      <td>P224986</td>\n",
       "      <td>5</td>\n",
       "      <td>o i 2</td>\n",
       "      <td>guza[chair]N kaskal[way]N</td>\n",
       "      <td>{ŋeš}gu-za kaskal</td>\n",
       "      <td>0.0</td>\n",
       "      <td>guza[chair]N_kaskal[way]N</td>\n",
       "    </tr>\n",
       "  </tbody>\n",
       "</table>\n",
       "</div>"
      ],
      "text/plain": [
       "   id_text  id_line  label                                  lemma  \\\n",
       "0  P224980        4  o i 1                        gigir[chariot]N   \n",
       "1  P224980        5  o i 2              e[house]N gigir[chariot]N   \n",
       "2  P224980        6  o i 3  e[house]N usan[whip]N gigir[chariot]N   \n",
       "3  P224986        4  o i 1              guza[chair]N anše[equid]N   \n",
       "4  P224986        5  o i 2              guza[chair]N kaskal[way]N   \n",
       "\n",
       "                  base  skip                                  entry  \n",
       "0           {ŋeš}gigir   0.0                        gigir[chariot]N  \n",
       "1        {ŋeš}e₂ gigir   0.0              e[house]N_gigir[chariot]N  \n",
       "2  {ŋeš}e₂ usan₃ gigir   0.0  e[house]N_usan[whip]N_gigir[chariot]N  \n",
       "3      {ŋeš}gu-za anše   0.0              guza[chair]N_anše[equid]N  \n",
       "4    {ŋeš}gu-za kaskal   0.0              guza[chair]N_kaskal[way]N  "
      ]
     },
     "execution_count": 4,
     "metadata": {},
     "output_type": "execute_result"
    }
   ],
   "source": [
    "# Preview data\n",
    "df.head()"
   ]
  },
  {
   "cell_type": "markdown",
   "metadata": {},
   "source": [
    "The columns contain the following information:\n",
    "\n",
    "- id_text: The ID for the text in [ORRAC](http://oracc.museum.upenn.edu/dcclt/pager).  \n",
    "- id_line: The line number of the specified text. \n",
    "- label:  \n",
    "- lemma: The lematicized text.  \n",
    "- base: The transliterated text.  \n",
    "- skip: Number of lines skipped/missing. \n",
    "- entry: The complete entry on the specified line, with words separated by underscores."
   ]
  },
  {
   "cell_type": "markdown",
   "metadata": {},
   "source": [
    "## Group Entries by Document\n",
    "The `groupby()` function is used to group the data by document. The function `apply(' '.join)` concatenates the text in the `entries` column, separating them with a white space. The Pandas `groupby()` function results in a series, which is then tranformed into a new Dataframe.  \n",
    "\n",
    "This transforms the data into a dataframe with each line containing all of the entries in a single document. "
   ]
  },
  {
   "cell_type": "code",
   "execution_count": 6,
   "metadata": {
    "collapsed": false
   },
   "outputs": [
    {
     "data": {
      "text/html": [
       "<div>\n",
       "<table border=\"1\" class=\"dataframe\">\n",
       "  <thead>\n",
       "    <tr style=\"text-align: right;\">\n",
       "      <th></th>\n",
       "      <th>entry</th>\n",
       "    </tr>\n",
       "    <tr>\n",
       "      <th>id_text</th>\n",
       "      <th></th>\n",
       "    </tr>\n",
       "  </thead>\n",
       "  <tbody>\n",
       "    <tr>\n",
       "      <th>P224980</th>\n",
       "      <td>gigir[chariot]N e[house]N_gigir[chariot]N e[ho...</td>\n",
       "    </tr>\n",
       "    <tr>\n",
       "      <th>P224986</th>\n",
       "      <td>guza[chair]N_anše[equid]N guza[chair]N_kaskal[...</td>\n",
       "    </tr>\n",
       "    <tr>\n",
       "      <th>P224994</th>\n",
       "      <td>{ŋeš}x-x[NA]NA {ŋeš}SI-x[NA]NA {ŋeš}šu-x[NA]NA</td>\n",
       "    </tr>\n",
       "    <tr>\n",
       "      <th>P224996</th>\n",
       "      <td>guza[chair]N guza[chair]N_gid[long]V/i guza[ch...</td>\n",
       "    </tr>\n",
       "    <tr>\n",
       "      <th>P225006</th>\n",
       "      <td>ig[door]N suku[pole]N_ig[door]N zara[pivot]N_i...</td>\n",
       "    </tr>\n",
       "  </tbody>\n",
       "</table>\n",
       "</div>"
      ],
      "text/plain": [
       "                                                     entry\n",
       "id_text                                                   \n",
       "P224980  gigir[chariot]N e[house]N_gigir[chariot]N e[ho...\n",
       "P224986  guza[chair]N_anše[equid]N guza[chair]N_kaskal[...\n",
       "P224994     {ŋeš}x-x[NA]NA {ŋeš}SI-x[NA]NA {ŋeš}šu-x[NA]NA\n",
       "P224996  guza[chair]N guza[chair]N_gid[long]V/i guza[ch...\n",
       "P225006  ig[door]N suku[pole]N_ig[door]N zara[pivot]N_i..."
      ]
     },
     "execution_count": 6,
     "metadata": {},
     "output_type": "execute_result"
    }
   ],
   "source": [
    "df['entry'] = df['entry'].fillna('')\n",
    "entries_df = df[['id_text', 'id_line', 'entry']]\n",
    "#entries_df = entries_df.dropna()\n",
    "grouped = entries_df['entry'].groupby(entries_df['id_text']).apply(' '.join).reset_index()\n",
    "by_text_df = pd.DataFrame(grouped)\n",
    "by_text_df = by_text_df.set_index('id_text')\n",
    "by_text_df.head()"
   ]
  },
  {
   "cell_type": "markdown",
   "metadata": {},
   "source": [
    "## Create a Document Term Matrix\n",
    "\n",
    "A [document term matrix](https://en.wikipedia.org/wiki/Document-term_matrix) (DTM) is \"a mathematical matrix that describes the frequency of terms that occur in a collection of documents.\"\n",
    "\n",
    "Here we transform the dataframe into a DTM by using the function CountVectorizer. This function uses a regular expression (token_pattern) to indicate how to find the beginning and end of each token. In the current dataframe, entries are separated from each other by a white space. The expression `r.[^ ]+` means: any combination of characters, except the space.\n",
    "\n",
    "The output of the CountVectorizer (`dtm`) is not in a human-readable format. It is transformed into another dataframe, with `id_text` as index.\n",
    "\n",
    "This returns a dataframe where each line is a single document, with one column per entry. There is one column for each entry in the entire collection of documents. The number in each cell represents the number of times that a specific entry appears in that document. Most cells will be zero - as most entries do not appear in many documents."
   ]
  },
  {
   "cell_type": "code",
   "execution_count": 7,
   "metadata": {
    "collapsed": false
   },
   "outputs": [
    {
     "data": {
      "text/html": [
       "<div>\n",
       "<table border=\"1\" class=\"dataframe\">\n",
       "  <thead>\n",
       "    <tr style=\"text-align: right;\">\n",
       "      <th></th>\n",
       "      <th>1/2[na]na_giŋ[unit]n</th>\n",
       "      <th>5/6[na]na_sila[unit]n</th>\n",
       "      <th>a[arm]n_apin[plow]n</th>\n",
       "      <th>a[arm]n_diš[na]na</th>\n",
       "      <th>a[arm]n_gud[ox]n_apin[plow]n</th>\n",
       "      <th>a[arm]n_umbin[wheel]n_margida[cart]n</th>\n",
       "      <th>a[arm]n_ŋešrin[scales]n</th>\n",
       "      <th>ab[cow]n</th>\n",
       "      <th>ab[cow]n_ib[hips]n_gig[sick]v/i</th>\n",
       "      <th>ab[cow]n_mah[mature]v/i</th>\n",
       "      <th>...</th>\n",
       "      <th>šuʾa[stool]n_burgul[stone-cutter]n</th>\n",
       "      <th>šuʾa[stool]n_dus[bathroom]n</th>\n",
       "      <th>šuʾa[stool]n_kaskal[way]n</th>\n",
       "      <th>šuʾa[stool]n_nagar[carpenter]n</th>\n",
       "      <th>šuʾa[stool]n_niŋgula[greatness]n</th>\n",
       "      <th>šuʾa[stool]n_suhsah[sound]n</th>\n",
       "      <th>šuʾa[stool]n_tibira[sculptor]n</th>\n",
       "      <th>šuʾa[stool]n_x[na]na</th>\n",
       "      <th>šuʾa[stool]n_šu[hand]n</th>\n",
       "      <th>šuʾa[stool]n_šuʾi[barber]n</th>\n",
       "    </tr>\n",
       "  </thead>\n",
       "  <tbody>\n",
       "    <tr>\n",
       "      <th>P224980</th>\n",
       "      <td>0</td>\n",
       "      <td>0</td>\n",
       "      <td>0</td>\n",
       "      <td>0</td>\n",
       "      <td>0</td>\n",
       "      <td>0</td>\n",
       "      <td>0</td>\n",
       "      <td>0</td>\n",
       "      <td>0</td>\n",
       "      <td>0</td>\n",
       "      <td>...</td>\n",
       "      <td>0</td>\n",
       "      <td>0</td>\n",
       "      <td>0</td>\n",
       "      <td>0</td>\n",
       "      <td>0</td>\n",
       "      <td>0</td>\n",
       "      <td>0</td>\n",
       "      <td>0</td>\n",
       "      <td>0</td>\n",
       "      <td>0</td>\n",
       "    </tr>\n",
       "    <tr>\n",
       "      <th>P224986</th>\n",
       "      <td>0</td>\n",
       "      <td>0</td>\n",
       "      <td>0</td>\n",
       "      <td>0</td>\n",
       "      <td>0</td>\n",
       "      <td>0</td>\n",
       "      <td>0</td>\n",
       "      <td>0</td>\n",
       "      <td>0</td>\n",
       "      <td>0</td>\n",
       "      <td>...</td>\n",
       "      <td>0</td>\n",
       "      <td>0</td>\n",
       "      <td>0</td>\n",
       "      <td>0</td>\n",
       "      <td>0</td>\n",
       "      <td>0</td>\n",
       "      <td>0</td>\n",
       "      <td>0</td>\n",
       "      <td>0</td>\n",
       "      <td>0</td>\n",
       "    </tr>\n",
       "    <tr>\n",
       "      <th>P224994</th>\n",
       "      <td>0</td>\n",
       "      <td>0</td>\n",
       "      <td>0</td>\n",
       "      <td>0</td>\n",
       "      <td>0</td>\n",
       "      <td>0</td>\n",
       "      <td>0</td>\n",
       "      <td>0</td>\n",
       "      <td>0</td>\n",
       "      <td>0</td>\n",
       "      <td>...</td>\n",
       "      <td>0</td>\n",
       "      <td>0</td>\n",
       "      <td>0</td>\n",
       "      <td>0</td>\n",
       "      <td>0</td>\n",
       "      <td>0</td>\n",
       "      <td>0</td>\n",
       "      <td>0</td>\n",
       "      <td>0</td>\n",
       "      <td>0</td>\n",
       "    </tr>\n",
       "    <tr>\n",
       "      <th>P224996</th>\n",
       "      <td>0</td>\n",
       "      <td>0</td>\n",
       "      <td>0</td>\n",
       "      <td>0</td>\n",
       "      <td>0</td>\n",
       "      <td>0</td>\n",
       "      <td>0</td>\n",
       "      <td>0</td>\n",
       "      <td>0</td>\n",
       "      <td>0</td>\n",
       "      <td>...</td>\n",
       "      <td>0</td>\n",
       "      <td>0</td>\n",
       "      <td>0</td>\n",
       "      <td>0</td>\n",
       "      <td>0</td>\n",
       "      <td>0</td>\n",
       "      <td>0</td>\n",
       "      <td>0</td>\n",
       "      <td>0</td>\n",
       "      <td>0</td>\n",
       "    </tr>\n",
       "    <tr>\n",
       "      <th>P225006</th>\n",
       "      <td>0</td>\n",
       "      <td>0</td>\n",
       "      <td>0</td>\n",
       "      <td>0</td>\n",
       "      <td>0</td>\n",
       "      <td>0</td>\n",
       "      <td>0</td>\n",
       "      <td>0</td>\n",
       "      <td>0</td>\n",
       "      <td>0</td>\n",
       "      <td>...</td>\n",
       "      <td>0</td>\n",
       "      <td>0</td>\n",
       "      <td>0</td>\n",
       "      <td>0</td>\n",
       "      <td>0</td>\n",
       "      <td>0</td>\n",
       "      <td>0</td>\n",
       "      <td>0</td>\n",
       "      <td>0</td>\n",
       "      <td>0</td>\n",
       "    </tr>\n",
       "  </tbody>\n",
       "</table>\n",
       "<p>5 rows × 2976 columns</p>\n",
       "</div>"
      ],
      "text/plain": [
       "         1/2[na]na_giŋ[unit]n  5/6[na]na_sila[unit]n  a[arm]n_apin[plow]n  \\\n",
       "P224980                     0                      0                    0   \n",
       "P224986                     0                      0                    0   \n",
       "P224994                     0                      0                    0   \n",
       "P224996                     0                      0                    0   \n",
       "P225006                     0                      0                    0   \n",
       "\n",
       "         a[arm]n_diš[na]na  a[arm]n_gud[ox]n_apin[plow]n  \\\n",
       "P224980                  0                             0   \n",
       "P224986                  0                             0   \n",
       "P224994                  0                             0   \n",
       "P224996                  0                             0   \n",
       "P225006                  0                             0   \n",
       "\n",
       "         a[arm]n_umbin[wheel]n_margida[cart]n  a[arm]n_ŋešrin[scales]n  \\\n",
       "P224980                                     0                        0   \n",
       "P224986                                     0                        0   \n",
       "P224994                                     0                        0   \n",
       "P224996                                     0                        0   \n",
       "P225006                                     0                        0   \n",
       "\n",
       "         ab[cow]n  ab[cow]n_ib[hips]n_gig[sick]v/i  ab[cow]n_mah[mature]v/i  \\\n",
       "P224980         0                                0                        0   \n",
       "P224986         0                                0                        0   \n",
       "P224994         0                                0                        0   \n",
       "P224996         0                                0                        0   \n",
       "P225006         0                                0                        0   \n",
       "\n",
       "                    ...              šuʾa[stool]n_burgul[stone-cutter]n  \\\n",
       "P224980             ...                                               0   \n",
       "P224986             ...                                               0   \n",
       "P224994             ...                                               0   \n",
       "P224996             ...                                               0   \n",
       "P225006             ...                                               0   \n",
       "\n",
       "         šuʾa[stool]n_dus[bathroom]n  šuʾa[stool]n_kaskal[way]n  \\\n",
       "P224980                            0                          0   \n",
       "P224986                            0                          0   \n",
       "P224994                            0                          0   \n",
       "P224996                            0                          0   \n",
       "P225006                            0                          0   \n",
       "\n",
       "         šuʾa[stool]n_nagar[carpenter]n  šuʾa[stool]n_niŋgula[greatness]n  \\\n",
       "P224980                               0                                 0   \n",
       "P224986                               0                                 0   \n",
       "P224994                               0                                 0   \n",
       "P224996                               0                                 0   \n",
       "P225006                               0                                 0   \n",
       "\n",
       "         šuʾa[stool]n_suhsah[sound]n  šuʾa[stool]n_tibira[sculptor]n  \\\n",
       "P224980                            0                               0   \n",
       "P224986                            0                               0   \n",
       "P224994                            0                               0   \n",
       "P224996                            0                               0   \n",
       "P225006                            0                               0   \n",
       "\n",
       "         šuʾa[stool]n_x[na]na  šuʾa[stool]n_šu[hand]n  \\\n",
       "P224980                     0                       0   \n",
       "P224986                     0                       0   \n",
       "P224994                     0                       0   \n",
       "P224996                     0                       0   \n",
       "P225006                     0                       0   \n",
       "\n",
       "         šuʾa[stool]n_šuʾi[barber]n  \n",
       "P224980                           0  \n",
       "P224986                           0  \n",
       "P224994                           0  \n",
       "P224996                           0  \n",
       "P225006                           0  \n",
       "\n",
       "[5 rows x 2976 columns]"
      ]
     },
     "execution_count": 7,
     "metadata": {},
     "output_type": "execute_result"
    }
   ],
   "source": [
    "from sklearn.feature_extraction.text import CountVectorizer\n",
    "cv = CountVectorizer(analyzer='word', token_pattern=r'[^ ]+')\n",
    "dtm = cv.fit_transform(by_text_df['entry'])\n",
    "dtm_df = pd.DataFrame(dtm.toarray(), columns = cv.get_feature_names(), index = by_text_df.index.values)\n",
    "dtm_df.head()"
   ]
  },
  {
   "cell_type": "markdown",
   "metadata": {},
   "source": [
    "## Analyzing the DTM\n",
    "Each document in the DTM may be understood as a vector, which allows for various kinds of computations, such as distance or cosine-similarity. \n",
    "\n",
    "It is important to recall that the DTM does not preserve information about the order of entries.\n",
    "\n",
    "It is also important to realize that the documents in this analysis of are of very different length (from 1 to 750 entries), with more than half of the documents 3 lines or less. The composite text from Nippur is by far the longest document and will dominate any comparison"
   ]
  },
  {
   "cell_type": "code",
   "execution_count": 9,
   "metadata": {
    "collapsed": false
   },
   "outputs": [
    {
     "data": {
      "text/plain": [
       "count     71.000000\n",
       "mean      90.591549\n",
       "std      170.194475\n",
       "min        2.000000\n",
       "25%        3.000000\n",
       "50%       10.000000\n",
       "75%       99.000000\n",
       "max      778.000000\n",
       "dtype: float64"
      ]
     },
     "execution_count": 9,
     "metadata": {},
     "output_type": "execute_result"
    }
   ],
   "source": [
    "# Sum columns and provide summary\n",
    "\n",
    "df_length = dtm_df.sum(axis=1)\n",
    "df_length.describe()"
   ]
  },
  {
   "cell_type": "markdown",
   "metadata": {},
   "source": [
    "The above output summarizes the frequency of entries across our document collection (ie corpus). For example, the `max` represents the maximum number of times that a single entry appears in the corpus. \n",
    "\n",
    "Further analysis of the DTM is carried out in `R` in a separate notebook. "
   ]
  },
  {
   "cell_type": "code",
   "execution_count": 10,
   "metadata": {
    "collapsed": false
   },
   "outputs": [],
   "source": [
    "# Write the data out to csv\n",
    "save_file = \"../data/pass/\" + filename[:-4] + '_dtm.csv'\n",
    "dtm_df.to_csv(save_file)"
   ]
  }
 ],
 "metadata": {
  "anaconda-cloud": {},
  "kernelspec": {
   "display_name": "Python [default]",
   "language": "python",
   "name": "python3"
  },
  "language_info": {
   "codemirror_mode": {
    "name": "ipython",
    "version": 3
   },
   "file_extension": ".py",
   "mimetype": "text/x-python",
   "name": "python",
   "nbconvert_exporter": "python",
   "pygments_lexer": "ipython3",
   "version": "3.5.2"
  }
 },
 "nbformat": 4,
 "nbformat_minor": 2
}
