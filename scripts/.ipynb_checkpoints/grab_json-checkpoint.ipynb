{
 "cells": [
  {
   "cell_type": "markdown",
   "metadata": {},
   "source": [
    "# Importing ORACC Data from corpus.json\n",
    "by Niek Veldhuis\n",
    "UC Berkeley\n",
    "\n",
    "March 2017\n",
    "\n",
    "# TODO\n",
    "* check that COFs are treated properly\n",
    "* check that lines that continue into the next line (as in bilinguals) are captured completely. Such lines are indicated in the json by the the addition of 'l' (lower case L) to the reference (.ref).\n",
    "\n",
    "\n",
    "# Introduction\n",
    "\n",
    "Purpose of the code is to download [ORACC](http://oracc.org) JSON files that contain textual data and produce a `.csv` file with the relevant data for use in phylogenetics project. The JSON files contain all the transliteration and lemmatization data of an ORACC project (metadata are made available in a separate `.json` file). For an introduction to the various ORACC JSON files see the [ORACC Open Data](http://oracc.org/doc/opendata) page.\n",
    "\n",
    "The resulting data file includes various elements of the ORACC data structure. The current code will output a file with the following fields: \n",
    "\n",
    "* id_line\n",
    "* label\n",
    "* lemma\n",
    "* base\n",
    "* extent\n",
    "* scope\n",
    "\n",
    "The fields `extent` and `scope` capture the number of missing lines or columns.\n",
    "\n",
    "The selection of fields may be adjusted with standard `Pandas` functions.\n",
    "\n",
    "## Notes\n",
    "The current version of the script works with the `ijson` library. Documentation for [ijson](https://www.dataquest.io/blog/python-json-tutorial/), unfortunately, is extremely brief. Downloading the `.json` files from the ORACC server will take some time. The rest of the script is reasonably fast.\n",
    "\n",
    "This notebook is written for **Python 3.5** with **Pandas 0.19** and **ijson 2.3**.\n",
    "\n",
    "The notebook was written for the [Phylogenetics](https://github.com/ErinBecker/digital-humanities-phylogenetics) project with Erin Becker of [Data Carpentry](http://www.datacarpentry.org). The particular data selection and data manipulation performed in this notebook are inspired by the needs of that project (for instance, non-Sumerian words are filtered out). It should be fairly easy to adapt the notebook to the purposes of any other project that wishes to use [ORACC](http://oracc.org) data.\n",
    "\n",
    "## Licensing\n",
    "This notebook may be downloaded, used and adapted without any restrictions."
   ]
  },
  {
   "cell_type": "code",
   "execution_count": 1,
   "metadata": {
    "collapsed": false
   },
   "outputs": [],
   "source": [
    "import pandas as pd   \n",
    "import ijson\n",
    "import urllib.request\n",
    "import re\n",
    "import tqdm"
   ]
  },
  {
   "cell_type": "markdown",
   "metadata": {},
   "source": [
    "# Input List of Text IDs\n",
    "Identify a list of text IDs (P, Q, and X numbers) in the directory `input`. The IDs are six-digit P, Q, or X numbers preceded by a project abbreviation in the format 'PROJECT/P######' or 'PROJECT/SUBPROJECT/Q######'. For example:\n",
    "* dcclt/P117395\n",
    "* etcsri/Q001203\n",
    "* rinap/rinap1/Q003421\n",
    "\n",
    "The list should be created with a flat text editor such as Textedit or Emacs, and the filename should end in `.txt`."
   ]
  },
  {
   "cell_type": "code",
   "execution_count": 22,
   "metadata": {
    "collapsed": false
   },
   "outputs": [
    {
     "name": "stdout",
     "output_type": "stream",
     "text": [
      "Filename: saa_all.txt\n"
     ]
    }
   ],
   "source": [
    "filename = input('Filename: ')"
   ]
  },
  {
   "cell_type": "code",
   "execution_count": 23,
   "metadata": {
    "collapsed": false
   },
   "outputs": [
    {
     "data": {
      "text/plain": [
       "(['P224485', 'P313915', 'P313876', 'P314243', 'P334194'],\n",
       " ['saao/saa01/corpusjson/P224485',\n",
       "  'saao/saa01/corpusjson/P313915',\n",
       "  'saao/saa01/corpusjson/P313876',\n",
       "  'saao/saa01/corpusjson/P314243',\n",
       "  'saao/saa01/corpusjson/P334194'])"
      ]
     },
     "execution_count": 23,
     "metadata": {},
     "output_type": "execute_result"
    }
   ],
   "source": [
    "textids = '../data/text_ids/' + filename\n",
    "with open(textids, 'r') as f:\n",
    "    pqxnos = f.readlines()\n",
    "pqxnos = [x.strip() for x in pqxnos]\n",
    "prefix = [x[:-7] + 'corpusjson/' + x[-7:] for x in pqxnos]\n",
    "pqxnos = [x[-7:] for x in pqxnos]\n",
    "pqxnos[:5], prefix[:5]\n"
   ]
  },
  {
   "cell_type": "markdown",
   "metadata": {},
   "source": [
    "# Parse\n",
    "The function `oraccjasonparser()` takes one argument (the **url** of the `.json` file). It looks for the prefix `textid` to retrieve the six-digit P, Q, or X number of the text artifact. Parsing the file sequentially the code looks for the places where a line starts (`'.type' = 'line-start'`) and where a word starts (`'.node' = 'l'`, where `l` is for \"lemma\"). At each level the code will retrieve the relevant data and create a list where each entry is a dictionary that represents a single word. \n",
    "\n",
    "Words not only include lemmatized words, but also unlemmatized and unlemmatizable words (such as breaks).\n",
    "\n",
    "The dictionary includes the keys `id_line` and `id_word` that allow the user to reassemble words and lines in order."
   ]
  },
  {
   "cell_type": "code",
   "execution_count": 24,
   "metadata": {
    "collapsed": false
   },
   "outputs": [],
   "source": [
    "def oraccjasonparser(url):\n",
    "    d = urllib.request.urlopen(url)\n",
    "    parser = ijson.parse(d)\n",
    "    word_l = []\n",
    "    word_d = {}\n",
    "    line_start = False\n",
    "    word_start = False\n",
    "    nonx = False\n",
    "    for prefix, event, value in parser:\n",
    "        if prefix == 'textid':\n",
    "            id_text = value\n",
    "#            print(\"parsing \" + value)\n",
    "        if prefix.endswith('.type'):\n",
    "            if value == 'line-start':\n",
    "                line_start = True\n",
    "            else:\n",
    "                line_start = False\n",
    "        if line_start:\n",
    "            if prefix.endswith('.ref') and not word_start:\n",
    "                id_line = value # id_line is a reference number for a line\n",
    "                                # that includes the id_text (e.g. P123456.49)\n",
    "            if prefix.endswith('.label'):\n",
    "                label = value   # label is a human-readable line number of the format\n",
    "                                # o ii 24' (obverse column 2 line 24')\n",
    "        if prefix.endswith('node'):\n",
    "            if value == 'l':\n",
    "                word_start = True\n",
    "                if not word_d == {}:\n",
    "                    word_l.append(word_d) # append the previous word to the list\n",
    "                word_d = {}               # and start a new dictionary\n",
    "                word_d['id_text'] = id_text # provide each word with appropriate \n",
    "                word_d['id_line'] = id_line # text and line-ID\n",
    "                word_d['label'] = label     # and the line label.\n",
    "            else:\n",
    "                word_start = False\n",
    "        if word_start:\n",
    "            if prefix.endswith('.ref'):\n",
    "                word_d['id_word'] = value\n",
    "            if prefix.endswith('.sig'):\n",
    "                word_d['signature'] = value\n",
    "            if '.f.' in prefix:\n",
    "                category = re.sub('.*\\.', '', prefix) # get element after the last dot of the prefix\n",
    "                word_d[category] = value # copy each element into the dictionary\n",
    "        if prefix.endswith('.type'):\n",
    "            if value == 'nonx':\n",
    "                nonx = True\n",
    "            else:\n",
    "                nonx = False\n",
    "        if nonx:                         # this captures so-called $-lines with information\n",
    "            if prefix.endswith('.ref'):  # about number of broken lines/columns.\n",
    "                id_line = value          # $-lines have their own id_line.\n",
    "            if prefix.endswith('.strict'):\n",
    "                if value == '1':           # select only 'strict' $ lines\n",
    "                    if not word_d == {}:\n",
    "                        word_l.append(word_d)\n",
    "                    word_d = {}\n",
    "                    word_d['id_line'] = id_line\n",
    "                    word_d['id_text'] = id_text\n",
    "                else:\n",
    "                    nonx = False\n",
    "            if prefix.endswith('.extent'): # capture the three elements of strict $ lines\n",
    "                word_d['extent'] = value   # namely extent, scope, and state.\n",
    "            if prefix.endswith('.scope'):\n",
    "                word_d['scope'] = value\n",
    "            if prefix.endswith('.state'):\n",
    "                word_d['state'] = value\n",
    "\n",
    "    word_l.append(word_d)  # make sure that the last word is captured, too.\n",
    "    return(word_l) # return a list of dictionaries, where each entry (dictionary) in\n",
    "                   # the list represents a word."
   ]
  },
  {
   "cell_type": "markdown",
   "metadata": {},
   "source": [
    "# Call the Parser Function for Each Textid"
   ]
  },
  {
   "cell_type": "code",
   "execution_count": 25,
   "metadata": {
    "collapsed": false
   },
   "outputs": [
    {
     "name": "stderr",
     "output_type": "stream",
     "text": [
      " 19%|█▉        | 614/3253 [03:39<12:09,  3.62it/s]"
     ]
    },
    {
     "name": "stdout",
     "output_type": "stream",
     "text": [
      "http://oracc.museum.upenn.edu/saao/saa06/corpusjson/P335202.json not available\n"
     ]
    },
    {
     "name": "stderr",
     "output_type": "stream",
     "text": [
      " 20%|██        | 665/3253 [03:56<12:23,  3.48it/s]"
     ]
    },
    {
     "name": "stdout",
     "output_type": "stream",
     "text": [
      "http://oracc.museum.upenn.edu/saao/saa06/corpusjson/P335176.json not available\n"
     ]
    },
    {
     "name": "stderr",
     "output_type": "stream",
     "text": [
      " 24%|██▎       | 770/3253 [04:29<09:53,  4.18it/s]"
     ]
    },
    {
     "name": "stdout",
     "output_type": "stream",
     "text": [
      "http://oracc.museum.upenn.edu/saao/saa06/corpusjson/P335322.json not available\n"
     ]
    },
    {
     "name": "stderr",
     "output_type": "stream",
     "text": [
      " 27%|██▋       | 869/3253 [05:05<15:07,  2.63it/s]"
     ]
    },
    {
     "name": "stdout",
     "output_type": "stream",
     "text": [
      "http://oracc.museum.upenn.edu/saao/saa06/corpusjson/P335012.json not available\n"
     ]
    },
    {
     "name": "stderr",
     "output_type": "stream",
     "text": [
      " 27%|██▋       | 875/3253 [05:07<12:05,  3.28it/s]"
     ]
    },
    {
     "name": "stdout",
     "output_type": "stream",
     "text": [
      "http://oracc.museum.upenn.edu/saao/saa06/corpusjson/P335066.json not available\n"
     ]
    },
    {
     "name": "stderr",
     "output_type": "stream",
     "text": [
      " 27%|██▋       | 877/3253 [05:07<11:59,  3.30it/s]"
     ]
    },
    {
     "name": "stdout",
     "output_type": "stream",
     "text": [
      "http://oracc.museum.upenn.edu/saao/saa06/corpusjson/P335409.json not available\n"
     ]
    },
    {
     "name": "stderr",
     "output_type": "stream",
     "text": [
      " 27%|██▋       | 886/3253 [05:11<12:39,  3.12it/s]"
     ]
    },
    {
     "name": "stdout",
     "output_type": "stream",
     "text": [
      "http://oracc.museum.upenn.edu/saao/saa06/corpusjson/P335372.json not available\n"
     ]
    },
    {
     "name": "stderr",
     "output_type": "stream",
     "text": [
      " 27%|██▋       | 891/3253 [05:13<11:06,  3.54it/s]"
     ]
    },
    {
     "name": "stdout",
     "output_type": "stream",
     "text": [
      "http://oracc.museum.upenn.edu/saao/saa06/corpusjson/P335969.json not available\n",
      "http://oracc.museum.upenn.edu/saao/saa06/corpusjson/P335351.json not available\n"
     ]
    },
    {
     "name": "stderr",
     "output_type": "stream",
     "text": [
      " 47%|████▋     | 1517/3253 [09:15<09:09,  3.16it/s]"
     ]
    },
    {
     "name": "stdout",
     "output_type": "stream",
     "text": [
      "http://oracc.museum.upenn.edu/saao/saa14/corpusjson/P335197.json not available\n"
     ]
    },
    {
     "name": "stderr",
     "output_type": "stream",
     "text": [
      " 47%|████▋     | 1520/3253 [09:16<08:03,  3.59it/s]"
     ]
    },
    {
     "name": "stdout",
     "output_type": "stream",
     "text": [
      "http://oracc.museum.upenn.edu/saao/saa14/corpusjson/P335196.json not available\n"
     ]
    },
    {
     "name": "stderr",
     "output_type": "stream",
     "text": [
      " 47%|████▋     | 1526/3253 [09:18<07:20,  3.92it/s]"
     ]
    },
    {
     "name": "stdout",
     "output_type": "stream",
     "text": [
      "http://oracc.museum.upenn.edu/saao/saa14/corpusjson/P335180.json not available\n"
     ]
    },
    {
     "name": "stderr",
     "output_type": "stream",
     "text": [
      " 47%|████▋     | 1531/3253 [09:19<06:17,  4.56it/s]"
     ]
    },
    {
     "name": "stdout",
     "output_type": "stream",
     "text": [
      "http://oracc.museum.upenn.edu/saao/saa14/corpusjson/P335154.json not available\n"
     ]
    },
    {
     "name": "stderr",
     "output_type": "stream",
     "text": [
      " 47%|████▋     | 1540/3253 [09:22<08:24,  3.39it/s]"
     ]
    },
    {
     "name": "stdout",
     "output_type": "stream",
     "text": [
      "http://oracc.museum.upenn.edu/saao/saa14/corpusjson/P335587.json not available\n",
      "http://oracc.museum.upenn.edu/saao/saa14/corpusjson/P335263.json not available\n"
     ]
    },
    {
     "name": "stderr",
     "output_type": "stream",
     "text": [
      " 47%|████▋     | 1542/3253 [09:23<09:26,  3.02it/s]"
     ]
    },
    {
     "name": "stdout",
     "output_type": "stream",
     "text": [
      "http://oracc.museum.upenn.edu/saao/saa14/corpusjson/P335539.json not available\n"
     ]
    },
    {
     "name": "stderr",
     "output_type": "stream",
     "text": [
      " 48%|████▊     | 1547/3253 [09:25<09:11,  3.09it/s]"
     ]
    },
    {
     "name": "stdout",
     "output_type": "stream",
     "text": [
      "http://oracc.museum.upenn.edu/saao/saa14/corpusjson/P335537.json not available\n",
      "http://oracc.museum.upenn.edu/saao/saa14/corpusjson/P335305.json not available\n"
     ]
    },
    {
     "name": "stderr",
     "output_type": "stream",
     "text": [
      " 48%|████▊     | 1552/3253 [09:27<08:49,  3.21it/s]"
     ]
    },
    {
     "name": "stdout",
     "output_type": "stream",
     "text": [
      "http://oracc.museum.upenn.edu/saao/saa14/corpusjson/P335257.json not available\n"
     ]
    },
    {
     "name": "stderr",
     "output_type": "stream",
     "text": [
      " 48%|████▊     | 1573/3253 [09:36<14:30,  1.93it/s]"
     ]
    },
    {
     "name": "stdout",
     "output_type": "stream",
     "text": [
      "http://oracc.museum.upenn.edu/saao/saa14/corpusjson/P335079.json not available\n"
     ]
    },
    {
     "name": "stderr",
     "output_type": "stream",
     "text": [
      " 49%|████▉     | 1587/3253 [09:40<07:46,  3.57it/s]"
     ]
    },
    {
     "name": "stdout",
     "output_type": "stream",
     "text": [
      "http://oracc.museum.upenn.edu/saao/saa14/corpusjson/P335038.json not available\n"
     ]
    },
    {
     "name": "stderr",
     "output_type": "stream",
     "text": [
      " 49%|████▉     | 1596/3253 [09:43<06:52,  4.01it/s]"
     ]
    },
    {
     "name": "stdout",
     "output_type": "stream",
     "text": [
      "http://oracc.museum.upenn.edu/saao/saa14/corpusjson/P334977.json not available\n"
     ]
    },
    {
     "name": "stderr",
     "output_type": "stream",
     "text": [
      "\r",
      " 49%|████▉     | 1597/3253 [09:43<06:16,  4.40it/s]"
     ]
    },
    {
     "name": "stdout",
     "output_type": "stream",
     "text": [
      "http://oracc.museum.upenn.edu/saao/saa14/corpusjson/P335415.json not available\n"
     ]
    },
    {
     "name": "stderr",
     "output_type": "stream",
     "text": [
      " 49%|████▉     | 1600/3253 [09:44<05:48,  4.75it/s]"
     ]
    },
    {
     "name": "stdout",
     "output_type": "stream",
     "text": [
      "http://oracc.museum.upenn.edu/saao/saa14/corpusjson/P335080.json not available\n",
      "http://oracc.museum.upenn.edu/saao/saa14/corpusjson/P335081.json not available\n"
     ]
    },
    {
     "name": "stderr",
     "output_type": "stream",
     "text": [
      " 50%|████▉     | 1617/3253 [09:50<08:04,  3.37it/s]"
     ]
    },
    {
     "name": "stdout",
     "output_type": "stream",
     "text": [
      "http://oracc.museum.upenn.edu/saao/saa14/corpusjson/P335489.json not available\n"
     ]
    },
    {
     "name": "stderr",
     "output_type": "stream",
     "text": [
      " 50%|████▉     | 1620/3253 [09:51<10:18,  2.64it/s]"
     ]
    },
    {
     "name": "stdout",
     "output_type": "stream",
     "text": [
      "http://oracc.museum.upenn.edu/saao/saa14/corpusjson/P334991.json not available\n"
     ]
    },
    {
     "name": "stderr",
     "output_type": "stream",
     "text": [
      " 50%|█████     | 1627/3253 [09:53<07:42,  3.52it/s]"
     ]
    },
    {
     "name": "stdout",
     "output_type": "stream",
     "text": [
      "http://oracc.museum.upenn.edu/saao/saa14/corpusjson/P336194.json not available\n"
     ]
    },
    {
     "name": "stderr",
     "output_type": "stream",
     "text": [
      " 51%|█████▏    | 1673/3253 [10:12<08:02,  3.27it/s]"
     ]
    },
    {
     "name": "stdout",
     "output_type": "stream",
     "text": [
      "http://oracc.museum.upenn.edu/saao/saa14/corpusjson/P335943.json not available\n"
     ]
    },
    {
     "name": "stderr",
     "output_type": "stream",
     "text": [
      " 53%|█████▎    | 1720/3253 [10:28<07:02,  3.63it/s]"
     ]
    },
    {
     "name": "stdout",
     "output_type": "stream",
     "text": [
      "http://oracc.museum.upenn.edu/saao/saa14/corpusjson/P335530.json not available\n"
     ]
    },
    {
     "name": "stderr",
     "output_type": "stream",
     "text": [
      " 53%|█████▎    | 1728/3253 [10:30<05:53,  4.32it/s]"
     ]
    },
    {
     "name": "stdout",
     "output_type": "stream",
     "text": [
      "http://oracc.museum.upenn.edu/saao/saa14/corpusjson/P335459.json not available\n"
     ]
    },
    {
     "name": "stderr",
     "output_type": "stream",
     "text": [
      " 53%|█████▎    | 1738/3253 [10:33<06:15,  4.03it/s]"
     ]
    },
    {
     "name": "stdout",
     "output_type": "stream",
     "text": [
      "http://oracc.museum.upenn.edu/saao/saa14/corpusjson/P335107.json not available\n"
     ]
    },
    {
     "name": "stderr",
     "output_type": "stream",
     "text": [
      " 56%|█████▌    | 1819/3253 [10:58<05:25,  4.41it/s]"
     ]
    },
    {
     "name": "stdout",
     "output_type": "stream",
     "text": [
      "http://oracc.museum.upenn.edu/saao/saa14/corpusjson/P335525.json not available\n"
     ]
    },
    {
     "name": "stderr",
     "output_type": "stream",
     "text": [
      " 56%|█████▌    | 1825/3253 [11:00<07:00,  3.39it/s]"
     ]
    },
    {
     "name": "stdout",
     "output_type": "stream",
     "text": [
      "http://oracc.museum.upenn.edu/saao/saa14/corpusjson/P335574.json not available\n"
     ]
    },
    {
     "name": "stderr",
     "output_type": "stream",
     "text": [
      " 58%|█████▊    | 1888/3253 [11:16<04:16,  5.32it/s]"
     ]
    },
    {
     "name": "stdout",
     "output_type": "stream",
     "text": [
      "http://oracc.museum.upenn.edu/saao/saa14/corpusjson/P336029.json not available\n"
     ]
    },
    {
     "name": "stderr",
     "output_type": "stream",
     "text": [
      " 58%|█████▊    | 1899/3253 [11:18<05:53,  3.83it/s]"
     ]
    },
    {
     "name": "stdout",
     "output_type": "stream",
     "text": [
      "http://oracc.museum.upenn.edu/saao/saa14/corpusjson/P336196.json not available\n"
     ]
    },
    {
     "name": "stderr",
     "output_type": "stream",
     "text": [
      " 59%|█████▉    | 1930/3253 [11:29<08:55,  2.47it/s]"
     ]
    },
    {
     "name": "stdout",
     "output_type": "stream",
     "text": [
      "http://oracc.museum.upenn.edu/saao/saa14/corpusjson/P224949.json not available\n"
     ]
    },
    {
     "name": "stderr",
     "output_type": "stream",
     "text": [
      " 98%|█████████▊| 3176/3253 [19:40<00:33,  2.27it/s]"
     ]
    },
    {
     "name": "stdout",
     "output_type": "stream",
     "text": [
      "http://oracc.museum.upenn.edu/saao/saa19/corpusjson/P224485.json not available\n"
     ]
    },
    {
     "name": "stderr",
     "output_type": "stream",
     "text": [
      "100%|██████████| 3253/3253 [20:16<00:00,  3.40it/s]\n"
     ]
    }
   ],
   "source": [
    "url_prefix = \"http://oracc.museum.upenn.edu/\"\n",
    "word_l = []\n",
    "for id_text in tqdm.tqdm(prefix):   # tqdm creates a progress bar\n",
    "    try:\n",
    "        url = url_prefix + id_text + '.json'\n",
    "        word_l.extend(oraccjasonparser(url))\n",
    "    except:\n",
    "        print(url + ' not available') "
   ]
  },
  {
   "cell_type": "markdown",
   "metadata": {},
   "source": [
    "# Transform the Data into a DataFrame"
   ]
  },
  {
   "cell_type": "code",
   "execution_count": 26,
   "metadata": {
    "collapsed": false,
    "scrolled": false
   },
   "outputs": [
    {
     "data": {
      "text/html": [
       "<div>\n",
       "<table border=\"1\" class=\"dataframe\">\n",
       "  <thead>\n",
       "    <tr style=\"text-align: right;\">\n",
       "      <th></th>\n",
       "      <th>cf</th>\n",
       "      <th>epos</th>\n",
       "      <th>extent</th>\n",
       "      <th>form</th>\n",
       "      <th>gw</th>\n",
       "      <th>id_line</th>\n",
       "      <th>id_text</th>\n",
       "      <th>id_word</th>\n",
       "      <th>label</th>\n",
       "      <th>lang</th>\n",
       "      <th>norm</th>\n",
       "      <th>pos</th>\n",
       "      <th>scope</th>\n",
       "      <th>sense</th>\n",
       "      <th>signature</th>\n",
       "      <th>state</th>\n",
       "    </tr>\n",
       "  </thead>\n",
       "  <tbody>\n",
       "    <tr>\n",
       "      <th>0</th>\n",
       "      <td>awātu</td>\n",
       "      <td>N</td>\n",
       "      <td>NaN</td>\n",
       "      <td>a-bat</td>\n",
       "      <td>word</td>\n",
       "      <td>P224485.2</td>\n",
       "      <td>P224485</td>\n",
       "      <td>P224485.2.1</td>\n",
       "      <td>o 1</td>\n",
       "      <td>akk-x-neoass</td>\n",
       "      <td>abat</td>\n",
       "      <td>N</td>\n",
       "      <td>NaN</td>\n",
       "      <td>word</td>\n",
       "      <td>@saao/saa01%akk-x-neoass:a-bat=awātu[word//wor...</td>\n",
       "      <td>NaN</td>\n",
       "    </tr>\n",
       "    <tr>\n",
       "      <th>1</th>\n",
       "      <td>šarru</td>\n",
       "      <td>N</td>\n",
       "      <td>NaN</td>\n",
       "      <td>LUGAL</td>\n",
       "      <td>king</td>\n",
       "      <td>P224485.2</td>\n",
       "      <td>P224485</td>\n",
       "      <td>P224485.2.2</td>\n",
       "      <td>o 1</td>\n",
       "      <td>akk-x-neoass</td>\n",
       "      <td>šarri</td>\n",
       "      <td>N</td>\n",
       "      <td>NaN</td>\n",
       "      <td>king</td>\n",
       "      <td>@saao/saa01%akk-x-neoass:LUGAL=šarru[king//kin...</td>\n",
       "      <td>NaN</td>\n",
       "    </tr>\n",
       "    <tr>\n",
       "      <th>2</th>\n",
       "      <td>ana</td>\n",
       "      <td>PRP</td>\n",
       "      <td>NaN</td>\n",
       "      <td>a-na</td>\n",
       "      <td>to</td>\n",
       "      <td>P224485.2</td>\n",
       "      <td>P224485</td>\n",
       "      <td>P224485.2.3</td>\n",
       "      <td>o 1</td>\n",
       "      <td>akk-x-neoass</td>\n",
       "      <td>ana</td>\n",
       "      <td>PRP</td>\n",
       "      <td>NaN</td>\n",
       "      <td>to</td>\n",
       "      <td>@saao/saa01%akk-x-neoass:a-na=ana[to//to]PRP'P...</td>\n",
       "      <td>NaN</td>\n",
       "    </tr>\n",
       "    <tr>\n",
       "      <th>3</th>\n",
       "      <td>Aššur-šarru-uṣur</td>\n",
       "      <td>PN</td>\n",
       "      <td>NaN</td>\n",
       "      <td>{1}aš-šur-MAN-PAB</td>\n",
       "      <td>1</td>\n",
       "      <td>P224485.2</td>\n",
       "      <td>P224485</td>\n",
       "      <td>P224485.2.4</td>\n",
       "      <td>o 1</td>\n",
       "      <td>akk-x-neoass</td>\n",
       "      <td>Aššur-šarru-uṣur</td>\n",
       "      <td>PN</td>\n",
       "      <td>NaN</td>\n",
       "      <td>1</td>\n",
       "      <td>@saao/saa01%akk-x-neoass:{1}aš-šur-MAN-PAB=Ašš...</td>\n",
       "      <td>NaN</td>\n",
       "    </tr>\n",
       "    <tr>\n",
       "      <th>4</th>\n",
       "      <td>šulmu</td>\n",
       "      <td>N</td>\n",
       "      <td>NaN</td>\n",
       "      <td>šul-mu</td>\n",
       "      <td>completeness</td>\n",
       "      <td>P224485.2</td>\n",
       "      <td>P224485</td>\n",
       "      <td>P224485.2.5</td>\n",
       "      <td>o 1</td>\n",
       "      <td>akk-x-neoass</td>\n",
       "      <td>šulmu</td>\n",
       "      <td>N</td>\n",
       "      <td>NaN</td>\n",
       "      <td>health</td>\n",
       "      <td>@saao/saa01%akk-x-neoass:šul-mu=šulmu[complete...</td>\n",
       "      <td>NaN</td>\n",
       "    </tr>\n",
       "  </tbody>\n",
       "</table>\n",
       "</div>"
      ],
      "text/plain": [
       "                 cf epos extent               form            gw    id_line  \\\n",
       "0             awātu    N    NaN              a-bat          word  P224485.2   \n",
       "1             šarru    N    NaN              LUGAL          king  P224485.2   \n",
       "2               ana  PRP    NaN               a-na            to  P224485.2   \n",
       "3  Aššur-šarru-uṣur   PN    NaN  {1}aš-šur-MAN-PAB             1  P224485.2   \n",
       "4             šulmu    N    NaN             šul-mu  completeness  P224485.2   \n",
       "\n",
       "   id_text      id_word label          lang              norm  pos scope  \\\n",
       "0  P224485  P224485.2.1   o 1  akk-x-neoass              abat    N   NaN   \n",
       "1  P224485  P224485.2.2   o 1  akk-x-neoass             šarri    N   NaN   \n",
       "2  P224485  P224485.2.3   o 1  akk-x-neoass               ana  PRP   NaN   \n",
       "3  P224485  P224485.2.4   o 1  akk-x-neoass  Aššur-šarru-uṣur   PN   NaN   \n",
       "4  P224485  P224485.2.5   o 1  akk-x-neoass             šulmu    N   NaN   \n",
       "\n",
       "    sense                                          signature state  \n",
       "0    word  @saao/saa01%akk-x-neoass:a-bat=awātu[word//wor...   NaN  \n",
       "1    king  @saao/saa01%akk-x-neoass:LUGAL=šarru[king//kin...   NaN  \n",
       "2      to  @saao/saa01%akk-x-neoass:a-na=ana[to//to]PRP'P...   NaN  \n",
       "3       1  @saao/saa01%akk-x-neoass:{1}aš-šur-MAN-PAB=Ašš...   NaN  \n",
       "4  health  @saao/saa01%akk-x-neoass:šul-mu=šulmu[complete...   NaN  "
      ]
     },
     "execution_count": 26,
     "metadata": {},
     "output_type": "execute_result"
    }
   ],
   "source": [
    "words = pd.DataFrame(word_l)\n",
    "words.head()"
   ]
  },
  {
   "cell_type": "markdown",
   "metadata": {},
   "source": [
    "# Remove Spaces and Commas from Guide Word and Sence\n",
    "Spaces in Guide Word and Sense may cause trouble in computational methods in tokenization, or when saved in Comma Separated Values format. All spaces and commas are replaced by hyphens or nothing, respectively."
   ]
  },
  {
   "cell_type": "code",
   "execution_count": 27,
   "metadata": {
    "collapsed": false
   },
   "outputs": [],
   "source": [
    "words = words.fillna('') # first replace Missing Values by empty string\n",
    "words['sense'] = [x.replace(' ', '-') for x in words['sense']]\n",
    "words['sense'] = [x.replace(',', '') for x in words['sense']]\n",
    "words['gw'] = [x.replace(' ', '-') for x in words['gw']]\n",
    "words['gw'] = [x.replace(',', '') for x in words['gw']]"
   ]
  },
  {
   "cell_type": "markdown",
   "metadata": {},
   "source": [
    "The columns in the resulting DataFrame correspond to the elements of a full [ORACC](http://oracc.org) signature, plus information about text, line, and word ids:\n",
    "* base (Sumerian only)\n",
    "* cf (Citation Form)\n",
    "* cont (continuation of the base; Sumerian only)\n",
    "* epos (Effective Part of Speech)\n",
    "* form (transliteration, omitting all flags such as indication of breakage)\n",
    "* gw (Guide Word: main or first translation in standard dictionary)\n",
    "* id_line (a line ID that begins with the six-digit P, Q, or X number of the text)\n",
    "* id_text (six-digit P, Q, or X number)\n",
    "* id_word (word ID that begins with the ID number of the line)\n",
    "* label (traditional line number in the form o ii 2' (obverse column 2 line 2'), etc.)\n",
    "* lang (language code, including sux, sux-x-emegir, sux-x-emesal, akk, akk-x-stdbab, etc)\n",
    "* morph (Morphology; Sumerian only)\n",
    "* norm (Normalization: Akkadian)\n",
    "* norm0 (Normalization: Sumerian)\n",
    "* pos (Part of Speech)\n",
    "* sense (contextual meaning)\n",
    "* signature (full ORACC signature)\n",
    "\n",
    "Not all data elements (columns) are available for all words. Sumerian words never have a `norm`, Akkadian words do not have `norm0`, `base`, `cont`, or `morph`. Most data elements are only present when the word is lemmatized; only `lang`, `form`, `pos`, `id_word`, `id_line`, and `id_text` should always be there. An unlemmatized word has `pos` 'X' (for unknown). Broken words have `pos` 'u' (for 'unlemmatizable)."
   ]
  },
  {
   "cell_type": "code",
   "execution_count": 28,
   "metadata": {
    "collapsed": false
   },
   "outputs": [],
   "source": [
    "#words[words['label'] == '']"
   ]
  },
  {
   "cell_type": "markdown",
   "metadata": {},
   "source": [
    "# Manipulate\n",
    "The columns may be manipulated with standard Pandas methods to create the desired output. By way of example, the following code will create a column `lemma` with the format **cf[gw]pos** (for instance **lugal[king]N**). For words that have no lemmatization `lemma` equals `form`. Only Sumerian words are allowed (and thus `lang` can be omitted) and in addition to the column `lemma` the column `base` is preserved; words that have no lemmatization take `form` as their base. Words and bases are concatenated to lines."
   ]
  },
  {
   "cell_type": "markdown",
   "metadata": {},
   "source": [
    "## Remove  non-Sumerian words"
   ]
  },
  {
   "cell_type": "code",
   "execution_count": 29,
   "metadata": {
    "collapsed": false
   },
   "outputs": [],
   "source": [
    "lang = ['sux', ''] # note that 'lang' is empty in entries that indicate damage\n",
    "words = words.loc[words['lang'].str[:3].isin(lang)].reset_index()"
   ]
  },
  {
   "cell_type": "markdown",
   "metadata": {},
   "source": [
    "## Create Lemma Column and Adjust Base"
   ]
  },
  {
   "cell_type": "code",
   "execution_count": 30,
   "metadata": {
    "collapsed": false
   },
   "outputs": [
    {
     "data": {
      "text/html": [
       "<div>\n",
       "<table border=\"1\" class=\"dataframe\">\n",
       "  <thead>\n",
       "    <tr style=\"text-align: right;\">\n",
       "      <th></th>\n",
       "      <th>lemma</th>\n",
       "      <th>id_text</th>\n",
       "      <th>id_line</th>\n",
       "      <th>id_word</th>\n",
       "      <th>label</th>\n",
       "    </tr>\n",
       "  </thead>\n",
       "  <tbody>\n",
       "    <tr>\n",
       "      <th>0</th>\n",
       "      <td>awātu[word]N</td>\n",
       "      <td>P224485</td>\n",
       "      <td>P224485.2</td>\n",
       "      <td>P224485.2.1</td>\n",
       "      <td>o 1</td>\n",
       "    </tr>\n",
       "    <tr>\n",
       "      <th>1</th>\n",
       "      <td>šarru[king]N</td>\n",
       "      <td>P224485</td>\n",
       "      <td>P224485.2</td>\n",
       "      <td>P224485.2.2</td>\n",
       "      <td>o 1</td>\n",
       "    </tr>\n",
       "    <tr>\n",
       "      <th>2</th>\n",
       "      <td>ana[to]PRP</td>\n",
       "      <td>P224485</td>\n",
       "      <td>P224485.2</td>\n",
       "      <td>P224485.2.3</td>\n",
       "      <td>o 1</td>\n",
       "    </tr>\n",
       "    <tr>\n",
       "      <th>3</th>\n",
       "      <td>Aššur-šarru-uṣur[1]PN</td>\n",
       "      <td>P224485</td>\n",
       "      <td>P224485.2</td>\n",
       "      <td>P224485.2.4</td>\n",
       "      <td>o 1</td>\n",
       "    </tr>\n",
       "    <tr>\n",
       "      <th>4</th>\n",
       "      <td>šulmu[completeness]N</td>\n",
       "      <td>P224485</td>\n",
       "      <td>P224485.2</td>\n",
       "      <td>P224485.2.5</td>\n",
       "      <td>o 1</td>\n",
       "    </tr>\n",
       "  </tbody>\n",
       "</table>\n",
       "</div>"
      ],
      "text/plain": [
       "                   lemma  id_text    id_line      id_word label\n",
       "0           awātu[word]N  P224485  P224485.2  P224485.2.1   o 1\n",
       "1           šarru[king]N  P224485  P224485.2  P224485.2.2   o 1\n",
       "2             ana[to]PRP  P224485  P224485.2  P224485.2.3   o 1\n",
       "3  Aššur-šarru-uṣur[1]PN  P224485  P224485.2  P224485.2.4   o 1\n",
       "4   šulmu[completeness]N  P224485  P224485.2  P224485.2.5   o 1"
      ]
     },
     "execution_count": 30,
     "metadata": {},
     "output_type": "execute_result"
    }
   ],
   "source": [
    "words['lemma'] = words['cf'] # first element of lemma is the citation form\n",
    "words['lemma'] = words['lang'][i] + ':' + [words['lemma'][i] + '[' + words['gw'][i] + ']' + words['pos'][i] \n",
    "                  if not words['lemma'][i] == '' \n",
    "                  else words['form'][i] +'[NA]NA' for i in range(len(words))]\n",
    "words['lemma'] = [lemma if not lemma == '[NA]NA' else '' for lemma in words['lemma'] ]\n",
    "words['base'] = [words['base'][i] if not words['base'][i] == '' \n",
    "                 or words['label'][i] == '' else words['form'][i] \n",
    "                 for i in range(len(words))]\n",
    "#lemmas = words[['lemma', 'id_text', 'id_line', 'id_word', 'label']]#, 'extent', 'scope']]\n",
    "lemmas = words[['lemma', 'base', 'id_text', 'id_line', 'id_word', 'label', 'extent', 'scope']]\n",
    "lemmas.head()"
   ]
  },
  {
   "cell_type": "markdown",
   "metadata": {},
   "source": [
    "## Group by Line"
   ]
  },
  {
   "cell_type": "code",
   "execution_count": 31,
   "metadata": {
    "collapsed": false
   },
   "outputs": [],
   "source": [
    "lines = words.groupby([words['id_line'], words['label']]).agg({\n",
    "        'lemma': ' '.join,\n",
    "        'base': ' '.join,\n",
    "        'extent': ''.join, \n",
    "        'scope': ''.join\n",
    "    }).reset_index()\n",
    "        "
   ]
  },
  {
   "cell_type": "code",
   "execution_count": 32,
   "metadata": {
    "collapsed": false
   },
   "outputs": [
    {
     "data": {
      "text/html": [
       "<div>\n",
       "<table border=\"1\" class=\"dataframe\">\n",
       "  <thead>\n",
       "    <tr style=\"text-align: right;\">\n",
       "      <th></th>\n",
       "      <th>id_line</th>\n",
       "      <th>label</th>\n",
       "      <th>lemma</th>\n",
       "    </tr>\n",
       "  </thead>\n",
       "  <tbody>\n",
       "    <tr>\n",
       "      <th>0</th>\n",
       "      <td></td>\n",
       "      <td>o 10</td>\n",
       "      <td>qutru[smoke]N šattu[year]N</td>\n",
       "    </tr>\n",
       "    <tr>\n",
       "      <th>1</th>\n",
       "      <td></td>\n",
       "      <td>o 10'</td>\n",
       "      <td>x[NA]NA x[NA]NA parsu[cut-off]AJ</td>\n",
       "    </tr>\n",
       "    <tr>\n",
       "      <th>2</th>\n",
       "      <td></td>\n",
       "      <td>o 13</td>\n",
       "      <td>kurummatu[ration]N</td>\n",
       "    </tr>\n",
       "    <tr>\n",
       "      <th>3</th>\n",
       "      <td></td>\n",
       "      <td>o 15</td>\n",
       "      <td>šikaru[beer]N imittu[right-side]N</td>\n",
       "    </tr>\n",
       "    <tr>\n",
       "      <th>4</th>\n",
       "      <td></td>\n",
       "      <td>o 2'</td>\n",
       "      <td>Lisi[Antares]CN</td>\n",
       "    </tr>\n",
       "    <tr>\n",
       "      <th>5</th>\n",
       "      <td></td>\n",
       "      <td>o 21</td>\n",
       "      <td>ittu[sign]N</td>\n",
       "    </tr>\n",
       "    <tr>\n",
       "      <th>6</th>\n",
       "      <td></td>\n",
       "      <td>o 5'</td>\n",
       "      <td>šāt-urri[(the-watch)-of-dawn]N</td>\n",
       "    </tr>\n",
       "    <tr>\n",
       "      <th>7</th>\n",
       "      <td></td>\n",
       "      <td>o 9</td>\n",
       "      <td>parṣu[office]N zīmu[face]N</td>\n",
       "    </tr>\n",
       "    <tr>\n",
       "      <th>8</th>\n",
       "      <td></td>\n",
       "      <td>r 1</td>\n",
       "      <td>ittu[sign]N</td>\n",
       "    </tr>\n",
       "    <tr>\n",
       "      <th>9</th>\n",
       "      <td></td>\n",
       "      <td>r 12</td>\n",
       "      <td>māru[son]N māru[son]N</td>\n",
       "    </tr>\n",
       "    <tr>\n",
       "      <th>10</th>\n",
       "      <td></td>\n",
       "      <td>r 15</td>\n",
       "      <td>hūlu[way]N</td>\n",
       "    </tr>\n",
       "    <tr>\n",
       "      <th>11</th>\n",
       "      <td></td>\n",
       "      <td>r 17</td>\n",
       "      <td>ištēn[one]NU</td>\n",
       "    </tr>\n",
       "    <tr>\n",
       "      <th>12</th>\n",
       "      <td></td>\n",
       "      <td>r 2</td>\n",
       "      <td>ṣalmu[black]AJ o[NA]NA</td>\n",
       "    </tr>\n",
       "    <tr>\n",
       "      <th>13</th>\n",
       "      <td></td>\n",
       "      <td>r 2'</td>\n",
       "      <td>arhu[month]N</td>\n",
       "    </tr>\n",
       "    <tr>\n",
       "      <th>14</th>\n",
       "      <td></td>\n",
       "      <td>r 3</td>\n",
       "      <td>asakku[(an-evil-demon)]N rabbu[fourth]NU arhu[...</td>\n",
       "    </tr>\n",
       "    <tr>\n",
       "      <th>15</th>\n",
       "      <td></td>\n",
       "      <td>r 4</td>\n",
       "      <td>o[NA]NA adānu[fixed-date]N</td>\n",
       "    </tr>\n",
       "    <tr>\n",
       "      <th>16</th>\n",
       "      <td></td>\n",
       "      <td>r 7</td>\n",
       "      <td>Subartu[1]GN</td>\n",
       "    </tr>\n",
       "    <tr>\n",
       "      <th>17</th>\n",
       "      <td></td>\n",
       "      <td>r 9</td>\n",
       "      <td>kakkabu[star]N</td>\n",
       "    </tr>\n",
       "    <tr>\n",
       "      <th>18</th>\n",
       "      <td>P224378.10</td>\n",
       "      <td>o 9</td>\n",
       "      <td>x[NA]NA x[NA]NA šarrūtu[kingship]N našû[lift]V...</td>\n",
       "    </tr>\n",
       "    <tr>\n",
       "      <th>19</th>\n",
       "      <td>P224378.11</td>\n",
       "      <td>o 10</td>\n",
       "      <td>ummiānu[scholar]N šarru[king]N qabû[say]V umma...</td>\n",
       "    </tr>\n",
       "    <tr>\n",
       "      <th>20</th>\n",
       "      <td>P224378.12</td>\n",
       "      <td>o 11</td>\n",
       "      <td>šarrūtu[kingship]N epēšu[do]V šarru[king]N šap...</td>\n",
       "    </tr>\n",
       "    <tr>\n",
       "      <th>21</th>\n",
       "      <td>P224378.13</td>\n",
       "      <td>o 12</td>\n",
       "      <td>x[NA]NA x[NA]NA x[NA]NA x[NA]NA x[NA]NA x[NA]N...</td>\n",
       "    </tr>\n",
       "    <tr>\n",
       "      <th>22</th>\n",
       "      <td>P224378.17</td>\n",
       "      <td>r 2'</td>\n",
       "      <td>x[NA]NA x[NA]NA x+x[NA]NA šarru[king]N šapāru[...</td>\n",
       "    </tr>\n",
       "    <tr>\n",
       "      <th>23</th>\n",
       "      <td>P224378.18</td>\n",
       "      <td>r 3'</td>\n",
       "      <td>x[NA]NA x-ma-nu[NA]NA ša[that]REL ištu[from]PR...</td>\n",
       "    </tr>\n",
       "    <tr>\n",
       "      <th>24</th>\n",
       "      <td>P224378.19</td>\n",
       "      <td>r 4'</td>\n",
       "      <td>x[NA]NA x[NA]NA x+x-da-as-su-x[NA]NA x[NA]NA x...</td>\n",
       "    </tr>\n",
       "    <tr>\n",
       "      <th>25</th>\n",
       "      <td>P224378.2</td>\n",
       "      <td>o 1</td>\n",
       "      <td>ardu[slave]N {1}x[NA]NA x[NA]NA x[NA]NA x[NA]N...</td>\n",
       "    </tr>\n",
       "    <tr>\n",
       "      <th>26</th>\n",
       "      <td>P224378.20</td>\n",
       "      <td>r 5'</td>\n",
       "      <td>x[NA]NA x[NA]NA x+x-ti[NA]NA enna[now]AV x+x[N...</td>\n",
       "    </tr>\n",
       "    <tr>\n",
       "      <th>27</th>\n",
       "      <td>P224378.21</td>\n",
       "      <td>r 6'</td>\n",
       "      <td>x[NA]NA x[NA]NA x[NA]NA sūnu[loin]N x[NA]NA x[...</td>\n",
       "    </tr>\n",
       "    <tr>\n",
       "      <th>28</th>\n",
       "      <td>P224378.22</td>\n",
       "      <td>r 7'</td>\n",
       "      <td>x[NA]NA x[NA]NA x+x-šu₂[NA]NA ina[in]PRP ālu[c...</td>\n",
       "    </tr>\n",
       "    <tr>\n",
       "      <th>29</th>\n",
       "      <td>P224378.23</td>\n",
       "      <td>r 8'</td>\n",
       "      <td>x[NA]NA x[NA]NA x[NA]NA x[NA]NA x[NA]NA e[NA]N...</td>\n",
       "    </tr>\n",
       "    <tr>\n",
       "      <th>...</th>\n",
       "      <td>...</td>\n",
       "      <td>...</td>\n",
       "      <td>...</td>\n",
       "    </tr>\n",
       "    <tr>\n",
       "      <th>64570</th>\n",
       "      <td>P415762.46</td>\n",
       "      <td>r 13</td>\n",
       "      <td>x[NA]NA x[NA]NA x+x[NA]NA šubtu[dwelling]N x[N...</td>\n",
       "    </tr>\n",
       "    <tr>\n",
       "      <th>64571</th>\n",
       "      <td>P415762.47</td>\n",
       "      <td>r 14</td>\n",
       "      <td>x[NA]NA x[NA]NA x[NA]NA x+x[NA]NA mā[saying]PR...</td>\n",
       "    </tr>\n",
       "    <tr>\n",
       "      <th>64572</th>\n",
       "      <td>P415762.48</td>\n",
       "      <td>r 15</td>\n",
       "      <td>x[NA]NA x[NA]NA x[NA]NA naṣāru[guard]V x+x[NA]...</td>\n",
       "    </tr>\n",
       "    <tr>\n",
       "      <th>64573</th>\n",
       "      <td>P415762.49</td>\n",
       "      <td>r 16</td>\n",
       "      <td>x[NA]NA x[NA]NA x+x[NA]NA ina[in]PRP muhhu[sku...</td>\n",
       "    </tr>\n",
       "    <tr>\n",
       "      <th>64574</th>\n",
       "      <td>P415762.5</td>\n",
       "      <td>o 3'</td>\n",
       "      <td>x[NA]NA x[NA]NA x[NA]NA x[NA]NA x[NA]NA x[NA]N...</td>\n",
       "    </tr>\n",
       "    <tr>\n",
       "      <th>64575</th>\n",
       "      <td>P415762.50</td>\n",
       "      <td>r 17</td>\n",
       "      <td>x[NA]NA x[NA]NA x[NA]NA x[NA]NA x[NA]NA x+x[NA...</td>\n",
       "    </tr>\n",
       "    <tr>\n",
       "      <th>64576</th>\n",
       "      <td>P415762.51</td>\n",
       "      <td>r 18</td>\n",
       "      <td>x[NA]NA x[NA]NA x[NA]NA x[NA]NA x[NA]NA x[NA]N...</td>\n",
       "    </tr>\n",
       "    <tr>\n",
       "      <th>64577</th>\n",
       "      <td>P415762.52</td>\n",
       "      <td>r 19</td>\n",
       "      <td>x[NA]NA x[NA]NA x[NA]NA x[NA]NA x[NA]NA x[NA]N...</td>\n",
       "    </tr>\n",
       "    <tr>\n",
       "      <th>64578</th>\n",
       "      <td>P415762.53</td>\n",
       "      <td>r 20</td>\n",
       "      <td>x[NA]NA x[NA]NA x[NA]NA x[NA]NA x[NA]NA x+x[NA...</td>\n",
       "    </tr>\n",
       "    <tr>\n",
       "      <th>64579</th>\n",
       "      <td>P415762.6</td>\n",
       "      <td>o 4'</td>\n",
       "      <td>x[NA]NA x[NA]NA x[NA]NA x[NA]NA x[NA]NA x[NA]N...</td>\n",
       "    </tr>\n",
       "    <tr>\n",
       "      <th>64580</th>\n",
       "      <td>P415762.7</td>\n",
       "      <td>o 5'</td>\n",
       "      <td>x[NA]NA x[NA]NA x[NA]NA x[NA]NA x[NA]NA x+x[NA...</td>\n",
       "    </tr>\n",
       "    <tr>\n",
       "      <th>64581</th>\n",
       "      <td>P415762.8</td>\n",
       "      <td>o 6'</td>\n",
       "      <td>x[NA]NA x[NA]NA x[NA]NA x[NA]NA x[NA]NA x+x[NA...</td>\n",
       "    </tr>\n",
       "    <tr>\n",
       "      <th>64582</th>\n",
       "      <td>P415762.9</td>\n",
       "      <td>o 7'</td>\n",
       "      <td>x[NA]NA x[NA]NA x[NA]NA x[NA]NA x[NA]NA x+x[NA...</td>\n",
       "    </tr>\n",
       "    <tr>\n",
       "      <th>64583</th>\n",
       "      <td>P418948.10</td>\n",
       "      <td>o 8'</td>\n",
       "      <td>pīhātu[responsibility]N x[NA]NA x[NA]NA x[NA]N...</td>\n",
       "    </tr>\n",
       "    <tr>\n",
       "      <th>64584</th>\n",
       "      <td>P418948.14</td>\n",
       "      <td>r 1'</td>\n",
       "      <td>lū[may]MOD x[NA]NA x[NA]NA x[NA]NA x[NA]NA x[N...</td>\n",
       "    </tr>\n",
       "    <tr>\n",
       "      <th>64585</th>\n",
       "      <td>P418948.15</td>\n",
       "      <td>r 2'</td>\n",
       "      <td>išti[with]PRP māru[son]N x[NA]NA x[NA]NA x[NA]...</td>\n",
       "    </tr>\n",
       "    <tr>\n",
       "      <th>64586</th>\n",
       "      <td>P418948.16</td>\n",
       "      <td>r 3'</td>\n",
       "      <td>buʾʾû[look-for]V 10[NA]NA x[NA]NA x[NA]NA x[NA...</td>\n",
       "    </tr>\n",
       "    <tr>\n",
       "      <th>64587</th>\n",
       "      <td>P418948.17</td>\n",
       "      <td>r 4'</td>\n",
       "      <td>ana[to]PRP Adad[1]DN āšibu[sitting]AJ {URU}x[N...</td>\n",
       "    </tr>\n",
       "    <tr>\n",
       "      <th>64588</th>\n",
       "      <td>P418948.18</td>\n",
       "      <td>r 5'</td>\n",
       "      <td>kaspu[silver]N ana[to]PRP ešriātu[tenfold]AV a...</td>\n",
       "    </tr>\n",
       "    <tr>\n",
       "      <th>64589</th>\n",
       "      <td>P418948.19</td>\n",
       "      <td>r 6'</td>\n",
       "      <td>ina[in]PRP dīnu[legal-decision]N dabābu[speak]...</td>\n",
       "    </tr>\n",
       "    <tr>\n",
       "      <th>64590</th>\n",
       "      <td>P418948.20</td>\n",
       "      <td></td>\n",
       "      <td></td>\n",
       "    </tr>\n",
       "    <tr>\n",
       "      <th>64591</th>\n",
       "      <td>P418948.23</td>\n",
       "      <td>e. 1</td>\n",
       "      <td>Ayaru[Iyyar]MN ūmu[day]N 16-KAM₂[NA]NA līmu[ep...</td>\n",
       "    </tr>\n",
       "    <tr>\n",
       "      <th>64592</th>\n",
       "      <td>P418948.24</td>\n",
       "      <td>e. 2</td>\n",
       "      <td>pīhātu[responsibility]N ša[of]DET bītu[house]N...</td>\n",
       "    </tr>\n",
       "    <tr>\n",
       "      <th>64593</th>\n",
       "      <td>P418948.3</td>\n",
       "      <td>o 1'</td>\n",
       "      <td>bītu[house]N ištu[from]PRP pānu[front]N {1}x+x...</td>\n",
       "    </tr>\n",
       "    <tr>\n",
       "      <th>64594</th>\n",
       "      <td>P418948.4</td>\n",
       "      <td>o 2'</td>\n",
       "      <td>bītu[house]N abūsu[storehouse]N qannu[fringe]N...</td>\n",
       "    </tr>\n",
       "    <tr>\n",
       "      <th>64595</th>\n",
       "      <td>P418948.5</td>\n",
       "      <td>o 3'</td>\n",
       "      <td>adi[until]PRP gimirtu[totality]N x[NA]NA x[NA]...</td>\n",
       "    </tr>\n",
       "    <tr>\n",
       "      <th>64596</th>\n",
       "      <td>P418948.6</td>\n",
       "      <td>o 4'</td>\n",
       "      <td>ṭāhu[adjacent-to]PRP {1}{d}U.GUR-PAB-x[NA]NA x...</td>\n",
       "    </tr>\n",
       "    <tr>\n",
       "      <th>64597</th>\n",
       "      <td>P418948.7</td>\n",
       "      <td>o 5'</td>\n",
       "      <td>ṭāhu[adjacent-to]PRP sūqu[street]N x[NA]NA x[N...</td>\n",
       "    </tr>\n",
       "    <tr>\n",
       "      <th>64598</th>\n",
       "      <td>P418948.8</td>\n",
       "      <td>o 6'</td>\n",
       "      <td>gabdi[adjoining-to]PRP kirû[garden]N x[NA]NA x...</td>\n",
       "    </tr>\n",
       "    <tr>\n",
       "      <th>64599</th>\n",
       "      <td>P418948.9</td>\n",
       "      <td>o 7'</td>\n",
       "      <td>epēšu[do]V {1}x[NA]NA x[NA]NA x[NA]NA x[NA]NA ...</td>\n",
       "    </tr>\n",
       "  </tbody>\n",
       "</table>\n",
       "<p>64600 rows × 3 columns</p>\n",
       "</div>"
      ],
      "text/plain": [
       "          id_line  label                                              lemma\n",
       "0                   o 10                         qutru[smoke]N šattu[year]N\n",
       "1                  o 10'                   x[NA]NA x[NA]NA parsu[cut-off]AJ\n",
       "2                   o 13                                 kurummatu[ration]N\n",
       "3                   o 15                  šikaru[beer]N imittu[right-side]N\n",
       "4                   o 2'                                    Lisi[Antares]CN\n",
       "5                   o 21                                        ittu[sign]N\n",
       "6                   o 5'                     šāt-urri[(the-watch)-of-dawn]N\n",
       "7                    o 9                         parṣu[office]N zīmu[face]N\n",
       "8                    r 1                                        ittu[sign]N\n",
       "9                   r 12                              māru[son]N māru[son]N\n",
       "10                  r 15                                         hūlu[way]N\n",
       "11                  r 17                                       ištēn[one]NU\n",
       "12                   r 2                             ṣalmu[black]AJ o[NA]NA\n",
       "13                  r 2'                                       arhu[month]N\n",
       "14                   r 3  asakku[(an-evil-demon)]N rabbu[fourth]NU arhu[...\n",
       "15                   r 4                         o[NA]NA adānu[fixed-date]N\n",
       "16                   r 7                                       Subartu[1]GN\n",
       "17                   r 9                                     kakkabu[star]N\n",
       "18     P224378.10    o 9  x[NA]NA x[NA]NA šarrūtu[kingship]N našû[lift]V...\n",
       "19     P224378.11   o 10  ummiānu[scholar]N šarru[king]N qabû[say]V umma...\n",
       "20     P224378.12   o 11  šarrūtu[kingship]N epēšu[do]V šarru[king]N šap...\n",
       "21     P224378.13   o 12  x[NA]NA x[NA]NA x[NA]NA x[NA]NA x[NA]NA x[NA]N...\n",
       "22     P224378.17   r 2'  x[NA]NA x[NA]NA x+x[NA]NA šarru[king]N šapāru[...\n",
       "23     P224378.18   r 3'  x[NA]NA x-ma-nu[NA]NA ša[that]REL ištu[from]PR...\n",
       "24     P224378.19   r 4'  x[NA]NA x[NA]NA x+x-da-as-su-x[NA]NA x[NA]NA x...\n",
       "25      P224378.2    o 1  ardu[slave]N {1}x[NA]NA x[NA]NA x[NA]NA x[NA]N...\n",
       "26     P224378.20   r 5'  x[NA]NA x[NA]NA x+x-ti[NA]NA enna[now]AV x+x[N...\n",
       "27     P224378.21   r 6'  x[NA]NA x[NA]NA x[NA]NA sūnu[loin]N x[NA]NA x[...\n",
       "28     P224378.22   r 7'  x[NA]NA x[NA]NA x+x-šu₂[NA]NA ina[in]PRP ālu[c...\n",
       "29     P224378.23   r 8'  x[NA]NA x[NA]NA x[NA]NA x[NA]NA x[NA]NA e[NA]N...\n",
       "...           ...    ...                                                ...\n",
       "64570  P415762.46   r 13  x[NA]NA x[NA]NA x+x[NA]NA šubtu[dwelling]N x[N...\n",
       "64571  P415762.47   r 14  x[NA]NA x[NA]NA x[NA]NA x+x[NA]NA mā[saying]PR...\n",
       "64572  P415762.48   r 15  x[NA]NA x[NA]NA x[NA]NA naṣāru[guard]V x+x[NA]...\n",
       "64573  P415762.49   r 16  x[NA]NA x[NA]NA x+x[NA]NA ina[in]PRP muhhu[sku...\n",
       "64574   P415762.5   o 3'  x[NA]NA x[NA]NA x[NA]NA x[NA]NA x[NA]NA x[NA]N...\n",
       "64575  P415762.50   r 17  x[NA]NA x[NA]NA x[NA]NA x[NA]NA x[NA]NA x+x[NA...\n",
       "64576  P415762.51   r 18  x[NA]NA x[NA]NA x[NA]NA x[NA]NA x[NA]NA x[NA]N...\n",
       "64577  P415762.52   r 19  x[NA]NA x[NA]NA x[NA]NA x[NA]NA x[NA]NA x[NA]N...\n",
       "64578  P415762.53   r 20  x[NA]NA x[NA]NA x[NA]NA x[NA]NA x[NA]NA x+x[NA...\n",
       "64579   P415762.6   o 4'  x[NA]NA x[NA]NA x[NA]NA x[NA]NA x[NA]NA x[NA]N...\n",
       "64580   P415762.7   o 5'  x[NA]NA x[NA]NA x[NA]NA x[NA]NA x[NA]NA x+x[NA...\n",
       "64581   P415762.8   o 6'  x[NA]NA x[NA]NA x[NA]NA x[NA]NA x[NA]NA x+x[NA...\n",
       "64582   P415762.9   o 7'  x[NA]NA x[NA]NA x[NA]NA x[NA]NA x[NA]NA x+x[NA...\n",
       "64583  P418948.10   o 8'  pīhātu[responsibility]N x[NA]NA x[NA]NA x[NA]N...\n",
       "64584  P418948.14   r 1'  lū[may]MOD x[NA]NA x[NA]NA x[NA]NA x[NA]NA x[N...\n",
       "64585  P418948.15   r 2'  išti[with]PRP māru[son]N x[NA]NA x[NA]NA x[NA]...\n",
       "64586  P418948.16   r 3'  buʾʾû[look-for]V 10[NA]NA x[NA]NA x[NA]NA x[NA...\n",
       "64587  P418948.17   r 4'  ana[to]PRP Adad[1]DN āšibu[sitting]AJ {URU}x[N...\n",
       "64588  P418948.18   r 5'  kaspu[silver]N ana[to]PRP ešriātu[tenfold]AV a...\n",
       "64589  P418948.19   r 6'  ina[in]PRP dīnu[legal-decision]N dabābu[speak]...\n",
       "64590  P418948.20                                                          \n",
       "64591  P418948.23   e. 1  Ayaru[Iyyar]MN ūmu[day]N 16-KAM₂[NA]NA līmu[ep...\n",
       "64592  P418948.24   e. 2  pīhātu[responsibility]N ša[of]DET bītu[house]N...\n",
       "64593   P418948.3   o 1'  bītu[house]N ištu[from]PRP pānu[front]N {1}x+x...\n",
       "64594   P418948.4   o 2'  bītu[house]N abūsu[storehouse]N qannu[fringe]N...\n",
       "64595   P418948.5   o 3'  adi[until]PRP gimirtu[totality]N x[NA]NA x[NA]...\n",
       "64596   P418948.6   o 4'  ṭāhu[adjacent-to]PRP {1}{d}U.GUR-PAB-x[NA]NA x...\n",
       "64597   P418948.7   o 5'  ṭāhu[adjacent-to]PRP sūqu[street]N x[NA]NA x[N...\n",
       "64598   P418948.8   o 6'  gabdi[adjoining-to]PRP kirû[garden]N x[NA]NA x...\n",
       "64599   P418948.9   o 7'  epēšu[do]V {1}x[NA]NA x[NA]NA x[NA]NA x[NA]NA ...\n",
       "\n",
       "[64600 rows x 3 columns]"
      ]
     },
     "execution_count": 32,
     "metadata": {},
     "output_type": "execute_result"
    }
   ],
   "source": [
    "lines = lines[['id_line', 'label', 'lemma', 'base', 'extent', 'scope']]\n",
    "lines"
   ]
  },
  {
   "cell_type": "markdown",
   "metadata": {},
   "source": [
    "## Save in CSV Format"
   ]
  },
  {
   "cell_type": "code",
   "execution_count": 33,
   "metadata": {
    "collapsed": false
   },
   "outputs": [],
   "source": [
    "filename = filename[:-4]\n",
    "with open('../data/' + filename + '.csv', 'w') as w:\n",
    "    lines.to_csv(w, encoding='utf8')"
   ]
  },
  {
   "cell_type": "code",
   "execution_count": null,
   "metadata": {
    "collapsed": true
   },
   "outputs": [],
   "source": []
  }
 ],
 "metadata": {
  "anaconda-cloud": {},
  "kernelspec": {
   "display_name": "Python [default]",
   "language": "python",
   "name": "python3"
  },
  "language_info": {
   "codemirror_mode": {
    "name": "ipython",
    "version": 3
   },
   "file_extension": ".py",
   "mimetype": "text/x-python",
   "name": "python",
   "nbconvert_exporter": "python",
   "pygments_lexer": "ipython3",
   "version": "3.5.2"
  }
 },
 "nbformat": 4,
 "nbformat_minor": 2
}
