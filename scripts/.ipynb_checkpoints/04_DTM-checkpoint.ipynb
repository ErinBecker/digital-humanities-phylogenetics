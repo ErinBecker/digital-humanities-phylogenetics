{
 "cells": [
  {
   "cell_type": "markdown",
   "metadata": {},
   "source": [
    "# Part 2: Analysis based on presence/absence of entries"
   ]
  },
  {
   "cell_type": "code",
   "execution_count": 2,
   "metadata": {
    "collapsed": true
   },
   "outputs": [],
   "source": [
    "import pandas as pd\n",
    "import numpy as np\n",
    "import re"
   ]
  },
  {
   "cell_type": "markdown",
   "metadata": {},
   "source": [
    "## Load the Data\n",
    "Load the data in the format produced by `02_structure_data.ipynb` and saved in `data/pass`."
   ]
  },
  {
   "cell_type": "code",
   "execution_count": 3,
   "metadata": {
    "collapsed": false
   },
   "outputs": [
    {
     "name": "stdout",
     "output_type": "stream",
     "text": [
      "Filename: Q01_par.csv\n"
     ]
    }
   ],
   "source": [
    "filename = input('Filename: ')"
   ]
  },
  {
   "cell_type": "code",
   "execution_count": 4,
   "metadata": {
    "collapsed": false
   },
   "outputs": [],
   "source": [
    "file = '../data/pass/' + filename\n",
    "df = pd.read_csv(file, dtype={'extent': object}).drop('Unnamed: 0', axis=1)"
   ]
  },
  {
   "cell_type": "markdown",
   "metadata": {},
   "source": [
    "## Group by Document\n",
    "The `groupby()` function is used to group the data by document. The function `apply(' '.join)` concatenates the text in the `entries` column, separating them with a white space. The Pandas `groupby()` function results in a series, which is then tranformed into a new Dataframe."
   ]
  },
  {
   "cell_type": "code",
   "execution_count": 5,
   "metadata": {
    "collapsed": false
   },
   "outputs": [
    {
     "data": {
      "text/html": [
       "<div>\n",
       "<table border=\"1\" class=\"dataframe\">\n",
       "  <thead>\n",
       "    <tr style=\"text-align: right;\">\n",
       "      <th></th>\n",
       "      <th>entry</th>\n",
       "    </tr>\n",
       "    <tr>\n",
       "      <th>id_text</th>\n",
       "      <th></th>\n",
       "    </tr>\n",
       "  </thead>\n",
       "  <tbody>\n",
       "    <tr>\n",
       "      <th>P225009</th>\n",
       "      <td>udu[sheep]N_urmah[lion]N_gu[eat]V/t udu[sheep]...</td>\n",
       "    </tr>\n",
       "    <tr>\n",
       "      <th>P235800</th>\n",
       "      <td>muš[snake]N muš[snake]N_huš[reddish]V/i muš[sn...</td>\n",
       "    </tr>\n",
       "    <tr>\n",
       "      <th>P247526</th>\n",
       "      <td>unknown udu[sheep]N_kudkudra[disabled]N udu[sh...</td>\n",
       "    </tr>\n",
       "    <tr>\n",
       "      <th>P247533</th>\n",
       "      <td>unknown maš[goat]N_babbar[white]V/i maš[goat]N...</td>\n",
       "    </tr>\n",
       "    <tr>\n",
       "      <th>P247541</th>\n",
       "      <td>amar[young]N_babbar[white]V/i amar[young]N_gig...</td>\n",
       "    </tr>\n",
       "  </tbody>\n",
       "</table>\n",
       "</div>"
      ],
      "text/plain": [
       "                                                     entry\n",
       "id_text                                                   \n",
       "P225009  udu[sheep]N_urmah[lion]N_gu[eat]V/t udu[sheep]...\n",
       "P235800  muš[snake]N muš[snake]N_huš[reddish]V/i muš[sn...\n",
       "P247526  unknown udu[sheep]N_kudkudra[disabled]N udu[sh...\n",
       "P247533  unknown maš[goat]N_babbar[white]V/i maš[goat]N...\n",
       "P247541  amar[young]N_babbar[white]V/i amar[young]N_gig..."
      ]
     },
     "execution_count": 5,
     "metadata": {},
     "output_type": "execute_result"
    }
   ],
   "source": [
    "df['entry'] = df['entry'].fillna('')\n",
    "entries_df = df[['id_text', 'line', 'entry']]\n",
    "#entries_df = entries_df.dropna()\n",
    "grouped = entries_df['entry'].groupby(entries_df['id_text']).apply(' '.join).reset_index()\n",
    "by_text_df = pd.DataFrame(grouped)\n",
    "by_text_df = by_text_df.set_index('id_text')\n",
    "by_text_df.head()"
   ]
  },
  {
   "cell_type": "markdown",
   "metadata": {},
   "source": [
    "## Document Term Matrix\n",
    "Transform the DataFrame into a Document Term Matrix (DTM) by using CountVectorizer. This function uses a Regular Expression (token_pattern) to indicate how to find the beginning and end of token. In the current Dataframe entries are separated from each other by a white space. The expression `r.[^ ]+` means: any combination of characters, except the space.\n",
    "\n",
    "The output of the CountVectorizer (`dtm`) is not in a human-readable format. It is transformed into another DataFrame, with `id_text` as index."
   ]
  },
  {
   "cell_type": "code",
   "execution_count": 6,
   "metadata": {
    "collapsed": false
   },
   "outputs": [
    {
     "data": {
      "text/html": [
       "<div>\n",
       "<table border=\"1\" class=\"dataframe\">\n",
       "  <thead>\n",
       "    <tr style=\"text-align: right;\">\n",
       "      <th></th>\n",
       "      <th>a[arm]n_dalu[object]n</th>\n",
       "      <th>ab[cow]n</th>\n",
       "      <th>ab[cow]n_babbar[white]v/i</th>\n",
       "      <th>ab[cow]n_giggi[black]v/i</th>\n",
       "      <th>ab[cow]n_gud[ox]n</th>\n",
       "      <th>ab[cow]n_gunu[speckled]v/i</th>\n",
       "      <th>ab[cow]n_ib[hips]n_gig[sick]v/i</th>\n",
       "      <th>ab[cow]n_mah[mature]v/i</th>\n",
       "      <th>ab[cow]n_namra[booty]n</th>\n",
       "      <th>ab[cow]n_peš[thick]v/i</th>\n",
       "      <th>...</th>\n",
       "      <th>šah[pig]n_gi[thicket]n</th>\n",
       "      <th>šah[pig]n_ma₂-gan[na]na</th>\n",
       "      <th>šah[pig]n_namerim[oath]n</th>\n",
       "      <th>šah[pig]n_namuruna[~herd]n</th>\n",
       "      <th>šah[pig]n_niga[fattened]v/i</th>\n",
       "      <th>šah[pig]n_udšuš[daily]aj</th>\n",
       "      <th>šaran[pestle-bottom]n</th>\n",
       "      <th>šeg[animal]n</th>\n",
       "      <th>šeŋbar[animal]n</th>\n",
       "      <th>šurun[cricket]n</th>\n",
       "    </tr>\n",
       "  </thead>\n",
       "  <tbody>\n",
       "    <tr>\n",
       "      <th>P225009</th>\n",
       "      <td>0</td>\n",
       "      <td>0</td>\n",
       "      <td>0</td>\n",
       "      <td>0</td>\n",
       "      <td>0</td>\n",
       "      <td>0</td>\n",
       "      <td>0</td>\n",
       "      <td>0</td>\n",
       "      <td>0</td>\n",
       "      <td>0</td>\n",
       "      <td>...</td>\n",
       "      <td>0</td>\n",
       "      <td>0</td>\n",
       "      <td>0</td>\n",
       "      <td>0</td>\n",
       "      <td>0</td>\n",
       "      <td>0</td>\n",
       "      <td>0</td>\n",
       "      <td>0</td>\n",
       "      <td>0</td>\n",
       "      <td>0</td>\n",
       "    </tr>\n",
       "    <tr>\n",
       "      <th>P235800</th>\n",
       "      <td>0</td>\n",
       "      <td>0</td>\n",
       "      <td>0</td>\n",
       "      <td>0</td>\n",
       "      <td>0</td>\n",
       "      <td>0</td>\n",
       "      <td>0</td>\n",
       "      <td>0</td>\n",
       "      <td>0</td>\n",
       "      <td>0</td>\n",
       "      <td>...</td>\n",
       "      <td>0</td>\n",
       "      <td>0</td>\n",
       "      <td>0</td>\n",
       "      <td>0</td>\n",
       "      <td>0</td>\n",
       "      <td>0</td>\n",
       "      <td>0</td>\n",
       "      <td>0</td>\n",
       "      <td>0</td>\n",
       "      <td>0</td>\n",
       "    </tr>\n",
       "    <tr>\n",
       "      <th>P247526</th>\n",
       "      <td>1</td>\n",
       "      <td>0</td>\n",
       "      <td>1</td>\n",
       "      <td>1</td>\n",
       "      <td>1</td>\n",
       "      <td>1</td>\n",
       "      <td>0</td>\n",
       "      <td>0</td>\n",
       "      <td>1</td>\n",
       "      <td>0</td>\n",
       "      <td>...</td>\n",
       "      <td>0</td>\n",
       "      <td>0</td>\n",
       "      <td>0</td>\n",
       "      <td>0</td>\n",
       "      <td>0</td>\n",
       "      <td>0</td>\n",
       "      <td>0</td>\n",
       "      <td>0</td>\n",
       "      <td>0</td>\n",
       "      <td>0</td>\n",
       "    </tr>\n",
       "    <tr>\n",
       "      <th>P247533</th>\n",
       "      <td>0</td>\n",
       "      <td>1</td>\n",
       "      <td>0</td>\n",
       "      <td>0</td>\n",
       "      <td>0</td>\n",
       "      <td>0</td>\n",
       "      <td>0</td>\n",
       "      <td>0</td>\n",
       "      <td>0</td>\n",
       "      <td>0</td>\n",
       "      <td>...</td>\n",
       "      <td>0</td>\n",
       "      <td>0</td>\n",
       "      <td>0</td>\n",
       "      <td>0</td>\n",
       "      <td>0</td>\n",
       "      <td>0</td>\n",
       "      <td>0</td>\n",
       "      <td>0</td>\n",
       "      <td>0</td>\n",
       "      <td>0</td>\n",
       "    </tr>\n",
       "    <tr>\n",
       "      <th>P247541</th>\n",
       "      <td>0</td>\n",
       "      <td>0</td>\n",
       "      <td>0</td>\n",
       "      <td>0</td>\n",
       "      <td>0</td>\n",
       "      <td>0</td>\n",
       "      <td>0</td>\n",
       "      <td>0</td>\n",
       "      <td>0</td>\n",
       "      <td>0</td>\n",
       "      <td>...</td>\n",
       "      <td>0</td>\n",
       "      <td>0</td>\n",
       "      <td>0</td>\n",
       "      <td>0</td>\n",
       "      <td>0</td>\n",
       "      <td>0</td>\n",
       "      <td>0</td>\n",
       "      <td>0</td>\n",
       "      <td>0</td>\n",
       "      <td>0</td>\n",
       "    </tr>\n",
       "  </tbody>\n",
       "</table>\n",
       "<p>5 rows × 629 columns</p>\n",
       "</div>"
      ],
      "text/plain": [
       "         a[arm]n_dalu[object]n  ab[cow]n  ab[cow]n_babbar[white]v/i  \\\n",
       "P225009                      0         0                          0   \n",
       "P235800                      0         0                          0   \n",
       "P247526                      1         0                          1   \n",
       "P247533                      0         1                          0   \n",
       "P247541                      0         0                          0   \n",
       "\n",
       "         ab[cow]n_giggi[black]v/i  ab[cow]n_gud[ox]n  \\\n",
       "P225009                         0                  0   \n",
       "P235800                         0                  0   \n",
       "P247526                         1                  1   \n",
       "P247533                         0                  0   \n",
       "P247541                         0                  0   \n",
       "\n",
       "         ab[cow]n_gunu[speckled]v/i  ab[cow]n_ib[hips]n_gig[sick]v/i  \\\n",
       "P225009                           0                                0   \n",
       "P235800                           0                                0   \n",
       "P247526                           1                                0   \n",
       "P247533                           0                                0   \n",
       "P247541                           0                                0   \n",
       "\n",
       "         ab[cow]n_mah[mature]v/i  ab[cow]n_namra[booty]n  \\\n",
       "P225009                        0                       0   \n",
       "P235800                        0                       0   \n",
       "P247526                        0                       1   \n",
       "P247533                        0                       0   \n",
       "P247541                        0                       0   \n",
       "\n",
       "         ab[cow]n_peš[thick]v/i       ...         šah[pig]n_gi[thicket]n  \\\n",
       "P225009                       0       ...                              0   \n",
       "P235800                       0       ...                              0   \n",
       "P247526                       0       ...                              0   \n",
       "P247533                       0       ...                              0   \n",
       "P247541                       0       ...                              0   \n",
       "\n",
       "         šah[pig]n_ma₂-gan[na]na  šah[pig]n_namerim[oath]n  \\\n",
       "P225009                        0                         0   \n",
       "P235800                        0                         0   \n",
       "P247526                        0                         0   \n",
       "P247533                        0                         0   \n",
       "P247541                        0                         0   \n",
       "\n",
       "         šah[pig]n_namuruna[~herd]n  šah[pig]n_niga[fattened]v/i  \\\n",
       "P225009                           0                            0   \n",
       "P235800                           0                            0   \n",
       "P247526                           0                            0   \n",
       "P247533                           0                            0   \n",
       "P247541                           0                            0   \n",
       "\n",
       "         šah[pig]n_udšuš[daily]aj  šaran[pestle-bottom]n  šeg[animal]n  \\\n",
       "P225009                         0                      0             0   \n",
       "P235800                         0                      0             0   \n",
       "P247526                         0                      0             0   \n",
       "P247533                         0                      0             0   \n",
       "P247541                         0                      0             0   \n",
       "\n",
       "         šeŋbar[animal]n  šurun[cricket]n  \n",
       "P225009                0                0  \n",
       "P235800                0                0  \n",
       "P247526                0                0  \n",
       "P247533                0                0  \n",
       "P247541                0                0  \n",
       "\n",
       "[5 rows x 629 columns]"
      ]
     },
     "execution_count": 6,
     "metadata": {},
     "output_type": "execute_result"
    }
   ],
   "source": [
    "from sklearn.feature_extraction.text import CountVectorizer\n",
    "cv = CountVectorizer(analyzer='word', token_pattern=r'[^ ]+')\n",
    "dtm = cv.fit_transform(by_text_df['entry'])\n",
    "dtm_df = pd.DataFrame(dtm.toarray(), columns = cv.get_feature_names(), index = by_text_df.index.values)\n",
    "dtm_df.head()"
   ]
  },
  {
   "cell_type": "markdown",
   "metadata": {},
   "source": [
    "## Analyzing the DTM\n",
    "Each document in the DTM may be understood as a vector, which allows for various kinds of computations, such as distance or cosine-similarity. \n",
    "\n",
    "It is important to recall that the DTM does not preserve information about the order of entries.\n",
    "\n",
    "It is also important to realize that the documents in this analysis of are of very different length (from 1 to 750 entries), with more than half of the documents 3 lines or less. The composite text from Nippur is by far the longest document and will dominate any comparison"
   ]
  },
  {
   "cell_type": "code",
   "execution_count": 7,
   "metadata": {
    "collapsed": false
   },
   "outputs": [
    {
     "data": {
      "text/plain": [
       "count     15.000000\n",
       "mean      53.000000\n",
       "std      133.165847\n",
       "min        3.000000\n",
       "25%        3.000000\n",
       "50%        3.000000\n",
       "75%       15.500000\n",
       "max      511.000000\n",
       "dtype: float64"
      ]
     },
     "execution_count": 7,
     "metadata": {},
     "output_type": "execute_result"
    }
   ],
   "source": [
    "df_length = dtm_df.sum(axis=1)\n",
    "df_length.describe()"
   ]
  },
  {
   "cell_type": "code",
   "execution_count": 10,
   "metadata": {
    "collapsed": false
   },
   "outputs": [],
   "source": [
    "save_file = \"../data/pass/\" + filename[:-4] + '_dtm.csv'\n",
    "dtm_df.to_csv(save_file)"
   ]
  },
  {
   "cell_type": "markdown",
   "metadata": {},
   "source": [
    "# 05 Analyze DTM\n",
    "Further analysis of the DTM is done in the notebook `05_analyze_DTM_R.ipynb`."
   ]
  },
  {
   "cell_type": "code",
   "execution_count": null,
   "metadata": {
    "collapsed": true
   },
   "outputs": [],
   "source": []
  }
 ],
 "metadata": {
  "anaconda-cloud": {},
  "kernelspec": {
   "display_name": "Python [conda root]",
   "language": "python",
   "name": "conda-root-py"
  },
  "language_info": {
   "codemirror_mode": {
    "name": "ipython",
    "version": 3
   },
   "file_extension": ".py",
   "mimetype": "text/x-python",
   "name": "python",
   "nbconvert_exporter": "python",
   "pygments_lexer": "ipython3",
   "version": "3.5.2"
  }
 },
 "nbformat": 4,
 "nbformat_minor": 2
}
