{
 "cells": [
  {
   "cell_type": "markdown",
   "metadata": {},
   "source": [
    "# Map sections to documents\n",
    "\n",
    "For each document in a corpus, determine whether each section represented in the reference text is present in that document. For each section, determine how many times an entry from that section is present in each document."
   ]
  },
  {
   "cell_type": "code",
   "execution_count": 2,
   "metadata": {
    "collapsed": false
   },
   "outputs": [],
   "source": [
    "####### Read in section definitions from file #######\n",
    "\n",
    "setwd(\"../data/sections/\")\n",
    "\n",
    "Q1_sections = read.csv(\"Q01_sections.csv\", stringsAsFactors = FALSE)\n",
    "Q39_sections = read.csv(\"Q39_sections.csv\", stringsAsFactors = FALSE)\n",
    "Q40_sections = read.csv(\"Q40_sections.csv\", stringsAsFactors = FALSE)\n",
    "Q41_sections = read.csv(\"Q41_sections.csv\", stringsAsFactors = FALSE)\n",
    "Q42_sections = read.csv(\"Q42_sections.csv\", stringsAsFactors = FALSE)"
   ]
  },
  {
   "cell_type": "code",
   "execution_count": 5,
   "metadata": {
    "collapsed": true
   },
   "outputs": [],
   "source": [
    "map_sections = function(corpus_file, section_defs) {\n",
    "# Read in a csv listing all documents in corpus with text IDs\n",
    "    corpus = read.csv(corpus_file)\n",
    "# make df to store results\n",
    "    doc_list = unique(corpus$id_text)\n",
    "    section_names = colnames(section_defs)\n",
    "    section_df = data.frame(sapply(doc_list, function(x) \n",
    "        x = numeric(length(section_names))), row.names = section_names)\n",
    "    colnames(section_df) = doc_list\n",
    "    doc_list = as.character(doc_list)\n",
    "        \n",
    "# iterate through sections and documents to populate df counts\n",
    "    for (j in unique(doc_list)) {\n",
    "        entries = as.character(corpus[which(corpus$id_text == j),]$entry)\n",
    "        for (i in 1:ncol(section_defs)) {\n",
    "            presence = sum(section_defs[,i] %in% tolower(entries))\n",
    "            # if (presence > 0) presence = 1\n",
    "            section_df[i, j] = presence \n",
    "            }\n",
    "      section_df\n",
    "    }\n",
    "section_df\n",
    "}\n"
   ]
  },
  {
   "cell_type": "code",
   "execution_count": 6,
   "metadata": {
    "collapsed": false
   },
   "outputs": [
    {
     "data": {
      "text/html": [
       "<table>\n",
       "<thead><tr><th></th><th scope=col>P117395</th><th scope=col>P117404</th><th scope=col>P128345</th><th scope=col>P224980</th><th scope=col>P224986</th><th scope=col>P224994</th><th scope=col>P224996</th><th scope=col>P225006</th><th scope=col>P225023</th><th scope=col>P225033</th><th scope=col>⋯</th><th scope=col>P459224</th><th scope=col>P459225</th><th scope=col>P459226</th><th scope=col>P459227</th><th scope=col>P459228</th><th scope=col>P459230</th><th scope=col>P459231</th><th scope=col>P459784</th><th scope=col>P492330</th><th scope=col>Q000039</th></tr></thead>\n",
       "<tbody>\n",
       "\t<tr><th scope=row>door_cedar</th><td>0</td><td>3</td><td>0</td><td>0</td><td>0</td><td>0</td><td>0</td><td>0</td><td>0</td><td>0</td><td>⋯</td><td>0</td><td>0</td><td>0</td><td>0</td><td>0</td><td>0</td><td>0</td><td>0</td><td>0</td><td>2</td></tr>\n",
       "\t<tr><th scope=row>comb_hair</th><td>0</td><td>0</td><td>3</td><td>3</td><td>3</td><td>0</td><td>0</td><td>0</td><td>0</td><td>0</td><td>⋯</td><td>0</td><td>0</td><td>0</td><td>2</td><td>0</td><td>0</td><td>0</td><td>0</td><td>0</td><td>7</td></tr>\n",
       "\t<tr><th scope=row>X</th><td>0</td><td>0</td><td>0</td><td>0</td><td>0</td><td>3</td><td>0</td><td>0</td><td>0</td><td>0</td><td>⋯</td><td>0</td><td>0</td><td>0</td><td>0</td><td>0</td><td>0</td><td>0</td><td>0</td><td>0</td><td>0</td></tr>\n",
       "\t<tr><th scope=row>chair</th><td>0</td><td>0</td><td>0</td><td>0</td><td>0</td><td>0</td><td>3</td><td>0</td><td>0</td><td>0</td><td>⋯</td><td>0</td><td>0</td><td>0</td><td>0</td><td>0</td><td>0</td><td>0</td><td>0</td><td>0</td><td>3</td></tr>\n",
       "\t<tr><th scope=row>door</th><td>0</td><td>0</td><td>0</td><td>0</td><td>0</td><td>0</td><td>0</td><td>3</td><td>0</td><td>0</td><td>⋯</td><td>0</td><td>0</td><td>0</td><td>0</td><td>0</td><td>0</td><td>0</td><td>0</td><td>0</td><td>2</td></tr>\n",
       "\t<tr><th scope=row>X.1</th><td>0</td><td>0</td><td>0</td><td>0</td><td>0</td><td>0</td><td>0</td><td>0</td><td>2</td><td>0</td><td>⋯</td><td>0</td><td>0</td><td>1</td><td>0</td><td>0</td><td>0</td><td>0</td><td>1</td><td>1</td><td>1</td></tr>\n",
       "</tbody>\n",
       "</table>\n"
      ],
      "text/latex": [
       "\\begin{tabular}{r|llllllllllllllllllllllllllllllllllllllllllllllllllllllllllllllllllllllllllllllllllllllllllllllllllllllllll}\n",
       "  & P117395 & P117404 & P128345 & P224980 & P224986 & P224994 & P224996 & P225006 & P225023 & P225033 & ⋯ & P459224 & P459225 & P459226 & P459227 & P459228 & P459230 & P459231 & P459784 & P492330 & Q000039\\\\\n",
       "\\hline\n",
       "\tdoor\\_cedar & 0 & 3 & 0 & 0 & 0 & 0 & 0 & 0 & 0 & 0 & ⋯ & 0 & 0 & 0 & 0 & 0 & 0 & 0 & 0 & 0 & 2\\\\\n",
       "\tcomb\\_hair & 0 & 0 & 3 & 3 & 3 & 0 & 0 & 0 & 0 & 0 & ⋯ & 0 & 0 & 0 & 2 & 0 & 0 & 0 & 0 & 0 & 7\\\\\n",
       "\tX & 0 & 0 & 0 & 0 & 0 & 3 & 0 & 0 & 0 & 0 & ⋯ & 0 & 0 & 0 & 0 & 0 & 0 & 0 & 0 & 0 & 0\\\\\n",
       "\tchair & 0 & 0 & 0 & 0 & 0 & 0 & 3 & 0 & 0 & 0 & ⋯ & 0 & 0 & 0 & 0 & 0 & 0 & 0 & 0 & 0 & 3\\\\\n",
       "\tdoor & 0 & 0 & 0 & 0 & 0 & 0 & 0 & 3 & 0 & 0 & ⋯ & 0 & 0 & 0 & 0 & 0 & 0 & 0 & 0 & 0 & 2\\\\\n",
       "\tX.1 & 0 & 0 & 0 & 0 & 0 & 0 & 0 & 0 & 2 & 0 & ⋯ & 0 & 0 & 1 & 0 & 0 & 0 & 0 & 1 & 1 & 1\\\\\n",
       "\\end{tabular}\n"
      ],
      "text/markdown": [
       "\n",
       "| <!--/--> | P117395 | P117404 | P128345 | P224980 | P224986 | P224994 | P224996 | P225006 | P225023 | P225033 | ⋯ | P459224 | P459225 | P459226 | P459227 | P459228 | P459230 | P459231 | P459784 | P492330 | Q000039 | \n",
       "|---|---|---|---|---|---|\n",
       "| door_cedar | 0 | 3 | 0 | 0 | 0 | 0 | 0 | 0 | 0 | 0 | ⋯ | 0 | 0 | 0 | 0 | 0 | 0 | 0 | 0 | 0 | 2 | \n",
       "| comb_hair | 0 | 0 | 3 | 3 | 3 | 0 | 0 | 0 | 0 | 0 | ⋯ | 0 | 0 | 0 | 2 | 0 | 0 | 0 | 0 | 0 | 7 | \n",
       "| X | 0 | 0 | 0 | 0 | 0 | 3 | 0 | 0 | 0 | 0 | ⋯ | 0 | 0 | 0 | 0 | 0 | 0 | 0 | 0 | 0 | 0 | \n",
       "| chair | 0 | 0 | 0 | 0 | 0 | 0 | 3 | 0 | 0 | 0 | ⋯ | 0 | 0 | 0 | 0 | 0 | 0 | 0 | 0 | 0 | 3 | \n",
       "| door | 0 | 0 | 0 | 0 | 0 | 0 | 0 | 3 | 0 | 0 | ⋯ | 0 | 0 | 0 | 0 | 0 | 0 | 0 | 0 | 0 | 2 | \n",
       "| X.1 | 0 | 0 | 0 | 0 | 0 | 0 | 0 | 0 | 2 | 0 | ⋯ | 0 | 0 | 1 | 0 | 0 | 0 | 0 | 1 | 1 | 1 | \n",
       "\n",
       "\n"
      ],
      "text/plain": [
       "           P117395 P117404 P128345 P224980 P224986 P224994 P224996 P225006\n",
       "door_cedar 0       3       0       0       0       0       0       0      \n",
       "comb_hair  0       0       3       3       3       0       0       0      \n",
       "X          0       0       0       0       0       3       0       0      \n",
       "chair      0       0       0       0       0       0       3       0      \n",
       "door       0       0       0       0       0       0       0       3      \n",
       "X.1        0       0       0       0       0       0       0       0      \n",
       "           P225023 P225033 ⋯ P459224 P459225 P459226 P459227 P459228 P459230\n",
       "door_cedar 0       0       ⋯ 0       0       0       0       0       0      \n",
       "comb_hair  0       0       ⋯ 0       0       0       2       0       0      \n",
       "X          0       0       ⋯ 0       0       0       0       0       0      \n",
       "chair      0       0       ⋯ 0       0       0       0       0       0      \n",
       "door       0       0       ⋯ 0       0       0       0       0       0      \n",
       "X.1        2       0       ⋯ 0       0       1       0       0       0      \n",
       "           P459231 P459784 P492330 Q000039\n",
       "door_cedar 0       0       0       2      \n",
       "comb_hair  0       0       0       7      \n",
       "X          0       0       0       0      \n",
       "chair      0       0       0       3      \n",
       "door       0       0       0       2      \n",
       "X.1        0       1       1       1      "
      ]
     },
     "metadata": {},
     "output_type": "display_data"
    }
   ],
   "source": [
    "test = map_sections(\"../pass/Q39_par.csv\", Q39_sections)\n",
    "head(test)"
   ]
  },
  {
   "cell_type": "code",
   "execution_count": 7,
   "metadata": {
    "collapsed": false
   },
   "outputs": [
    {
     "data": {
      "text/html": [
       "<dl class=dl-horizontal>\n",
       "\t<dt>P225009</dt>\n",
       "\t\t<dd>8</dd>\n",
       "\t<dt>P235800</dt>\n",
       "\t\t<dd>7</dd>\n",
       "\t<dt>P247526</dt>\n",
       "\t\t<dd>158</dd>\n",
       "\t<dt>P247533</dt>\n",
       "\t\t<dd>67</dd>\n",
       "\t<dt>P247541</dt>\n",
       "\t\t<dd>6</dd>\n",
       "\t<dt>P247545</dt>\n",
       "\t\t<dd>3</dd>\n",
       "\t<dt>P249377</dt>\n",
       "\t\t<dd>7</dd>\n",
       "\t<dt>P249381</dt>\n",
       "\t\t<dd>5</dd>\n",
       "\t<dt>P253246</dt>\n",
       "\t\t<dd>41</dd>\n",
       "\t<dt>P253879</dt>\n",
       "\t\t<dd>6</dd>\n",
       "\t<dt>P253902</dt>\n",
       "\t\t<dd>4</dd>\n",
       "\t<dt>P254359</dt>\n",
       "\t\t<dd>4</dd>\n",
       "\t<dt>P272557</dt>\n",
       "\t\t<dd>4</dd>\n",
       "\t<dt>P388082</dt>\n",
       "\t\t<dd>4</dd>\n",
       "\t<dt>Q000001</dt>\n",
       "\t\t<dd>517</dd>\n",
       "</dl>\n"
      ],
      "text/latex": [
       "\\begin{description*}\n",
       "\\item[P225009] 8\n",
       "\\item[P235800] 7\n",
       "\\item[P247526] 158\n",
       "\\item[P247533] 67\n",
       "\\item[P247541] 6\n",
       "\\item[P247545] 3\n",
       "\\item[P249377] 7\n",
       "\\item[P249381] 5\n",
       "\\item[P253246] 41\n",
       "\\item[P253879] 6\n",
       "\\item[P253902] 4\n",
       "\\item[P254359] 4\n",
       "\\item[P272557] 4\n",
       "\\item[P388082] 4\n",
       "\\item[Q000001] 517\n",
       "\\end{description*}\n"
      ],
      "text/markdown": [
       "P225009\n",
       ":   8P235800\n",
       ":   7P247526\n",
       ":   158P247533\n",
       ":   67P247541\n",
       ":   6P247545\n",
       ":   3P249377\n",
       ":   7P249381\n",
       ":   5P253246\n",
       ":   41P253879\n",
       ":   6P253902\n",
       ":   4P254359\n",
       ":   4P272557\n",
       ":   4P388082\n",
       ":   4Q000001\n",
       ":   517\n",
       "\n"
      ],
      "text/plain": [
       "P225009 P235800 P247526 P247533 P247541 P247545 P249377 P249381 P253246 P253879 \n",
       "      8       7     158      67       6       3       7       5      41       6 \n",
       "P253902 P254359 P272557 P388082 Q000001 \n",
       "      4       4       4       4     517 "
      ]
     },
     "metadata": {},
     "output_type": "display_data"
    }
   ],
   "source": [
    "test2 = map_sections(\"../pass/Q01_par.csv\", Q1_sections)\n",
    "test2$section_name = row.names(test2)\n",
    "test2$section_name = NULL\n",
    "colSums(test2)"
   ]
  },
  {
   "cell_type": "code",
   "execution_count": 8,
   "metadata": {
    "collapsed": false
   },
   "outputs": [
    {
     "ename": "ERROR",
     "evalue": "Error in eval(expr, envir, enclos): could not find function \"melt\"\n",
     "output_type": "error",
     "traceback": [
      "Error in eval(expr, envir, enclos): could not find function \"melt\"\nTraceback:\n"
     ]
    }
   ],
   "source": [
    "melted_df = melt(test)\n",
    "head(melted_df)"
   ]
  },
  {
   "cell_type": "code",
   "execution_count": null,
   "metadata": {
    "collapsed": true
   },
   "outputs": [],
   "source": [
    "melted_df_binary = melted_df\n",
    "for (i in 1:nrow(melted_df_binary)) {\n",
    "  if (melted_df_binary$value[i] > 0) melted_df_binary$value[i] = 1\n",
    "}\n",
    "\n",
    "head(melted_df_binary)"
   ]
  },
  {
   "cell_type": "code",
   "execution_count": null,
   "metadata": {
    "collapsed": true
   },
   "outputs": [],
   "source": [
    "#Make heatmaps\n",
    "ggplot(data = melted_df, aes(y = variable, x = section_name)) +\n",
    "  geom_tile(aes(fill = value)) +\n",
    "  theme(axis.text.x = element_text(angle = 90, hjust = 1, size = 3), axis.text.y = element_text(size = 3))\n",
    "\n",
    "qplot(data = melted_df_binary, x = section_name, y = variable, fill = factor(value),\n",
    "   geom = \"tile\") + scale_fill_manual(values = c(\"0\"=\"lightblue\", \"1\" = \"red\")) +\n",
    " theme(axis.text.x = element_text(angle = 90, hjust = 1, size = 3), axis.text.y = element_text(size = 3))"
   ]
  }
 ],
 "metadata": {
  "anaconda-cloud": {},
  "kernelspec": {
   "display_name": "R",
   "language": "R",
   "name": "ir"
  },
  "language_info": {
   "codemirror_mode": "r",
   "file_extension": ".r",
   "mimetype": "text/x-r-source",
   "name": "R",
   "pygments_lexer": "r",
   "version": "3.3.2"
  }
 },
 "nbformat": 4,
 "nbformat_minor": 1
}
