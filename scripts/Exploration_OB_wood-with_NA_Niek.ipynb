{
 "cells": [
  {
   "cell_type": "markdown",
   "metadata": {},
   "source": [
    "# Old Babylonian Lists of Trees and Wooden Objects\n",
    "\n",
    "## Introductory text needs updating\n",
    "This notebook will use data scraped from [DCCLT](http://oracc.org/dcclt) with the notebooks [Save ORACC HTML files](https://github.com/niekveldhuis/Digital-Assyriology/blob/master/Scrape-Oracc/Save%20Oracc%20HTML%20files.ipynb) and [Scrape Oracc](https://github.com/niekveldhuis/Digital-Assyriology/blob/master/Scrape-Oracc/Scrape%20Oracc.ipynb), using the input file [ob_lists_wood.txt](https://github.com/ErinBecker/digital-humanities-phylogenetics/blob/master/data/text_ids/ob_lists_wood.txt). The input file lists all the Text IDs of Old Babylonian lists of trees and wooden objects currently in DCCLT, as well as the composite text of the Nippur version. Text IDs consist of a P plus a six-digit number (commonly referred to as P-number) that is recognized by [ORACC](http://oracc.org) and by [CDLI](http://cdli.ucla.edu) and that has become the de-facto standard in Assyriology. [CDLI](http://cdli.ucla.edu) provides metadata (provenience, period, publication, museum number, etc) for each text.  Composite text IDs consist of a Q plus a six-digit number.\n",
    "\n",
    "The raw data are placed in the directory [data/raw](https://github.com/ErinBecker/digital-humanities-phylogenetics/tree/master/data/raw). Each text has a separate file named dcclt_P######.txt (or dcclt_Q######.txt). These are comma-separated files with the fields id_text, text_name, l_no, text. \n",
    "\n",
    "| field         | description                     |\n",
    "|-----------\t|------------------------------------------------------------------------------------------------------------------------------------------------------\t|\n",
    "| id_line   \t| allows creation of a link to the online edition in [DCCLT](http://oracc.org/dcclt) and/or to the images and metadata in [CDLI](http://cdli.ucla.edu) \t|\n",
    "| label \t| line number: obverse/reverse, column number, line number (e.g. o ii 16')                                                          \t|\n",
    "| lemma      \t| Sumerian words in lemmatized form (e.g. lugal[king]N)                                                                                  \t|\n",
    "| base      \t| Sumerian words in original spelling, but without morphological prefixes or suffixes   |\n",
    "| extent | (for missing data): how many lines or columns (restricted vocabulary) |\n",
    "| scope | (for missing data): line, column, face, or surface |\n",
    "\n",
    "This data presents a couple of discrete problems with respect to handling missing information. There were several types of missing information, which are handled in different ways.  \n",
    "\n",
    "| type         | how represented                     |\n",
    "|-----------\t|------------------------------------------------------------------------------------------------------------------------------------------------------\t|\n",
    "| words with unknown translation| eg. siki-siki[NA]NA |\n",
    "| illegible words | x[NA]NA |\n",
    "| known number of missing lines \t| |\n",
    "| unknown number of missing lines\t| \n",
    "  \n"
   ]
  },
  {
   "cell_type": "code",
   "execution_count": 1,
   "metadata": {
    "collapsed": true
   },
   "outputs": [],
   "source": [
    "import pandas as pd\n",
    "import numpy as np\n",
    "import re"
   ]
  },
  {
   "cell_type": "markdown",
   "metadata": {},
   "source": [
    "# Open File\n",
    "Open file `obwood.csv` and create a Dataframe in Pandas. "
   ]
  },
  {
   "cell_type": "code",
   "execution_count": 2,
   "metadata": {
    "collapsed": false
   },
   "outputs": [],
   "source": [
    "file = '../data/ob_lists_wood.csv'\n",
    "df = pd.read_csv(file).drop('Unnamed: 0', axis=1)"
   ]
  },
  {
   "cell_type": "code",
   "execution_count": 3,
   "metadata": {
    "collapsed": false
   },
   "outputs": [
    {
     "data": {
      "text/html": [
       "<div>\n",
       "<table border=\"1\" class=\"dataframe\">\n",
       "  <thead>\n",
       "    <tr style=\"text-align: right;\">\n",
       "      <th></th>\n",
       "      <th>id_line</th>\n",
       "      <th>label</th>\n",
       "      <th>lemma</th>\n",
       "      <th>base</th>\n",
       "      <th>extent</th>\n",
       "      <th>scope</th>\n",
       "    </tr>\n",
       "  </thead>\n",
       "  <tbody>\n",
       "    <tr>\n",
       "      <th>0</th>\n",
       "      <td>P117395.2</td>\n",
       "      <td>o 1</td>\n",
       "      <td>ŋešed[key]N</td>\n",
       "      <td>{ŋeš}e₃-a</td>\n",
       "      <td>NaN</td>\n",
       "      <td>NaN</td>\n",
       "    </tr>\n",
       "    <tr>\n",
       "      <th>1</th>\n",
       "      <td>P117395.3</td>\n",
       "      <td>o 2</td>\n",
       "      <td>pakud[~tree]N</td>\n",
       "      <td>{ŋeš}pa-kud</td>\n",
       "      <td>NaN</td>\n",
       "      <td>NaN</td>\n",
       "    </tr>\n",
       "    <tr>\n",
       "      <th>2</th>\n",
       "      <td>P117395.4</td>\n",
       "      <td>o 3</td>\n",
       "      <td>raba[clamp]N</td>\n",
       "      <td>{ŋeš}raba</td>\n",
       "      <td>NaN</td>\n",
       "      <td>NaN</td>\n",
       "    </tr>\n",
       "    <tr>\n",
       "      <th>3</th>\n",
       "      <td>P117404.2</td>\n",
       "      <td>o 1</td>\n",
       "      <td>ig[door]N eren[cedar]N</td>\n",
       "      <td>{ŋeš}ig {ŋeš}eren</td>\n",
       "      <td>NaN</td>\n",
       "      <td>NaN</td>\n",
       "    </tr>\n",
       "    <tr>\n",
       "      <th>4</th>\n",
       "      <td>P117404.3</td>\n",
       "      <td>o 2</td>\n",
       "      <td>ig[door]N dib[board]N</td>\n",
       "      <td>{ŋeš}ig dib</td>\n",
       "      <td>NaN</td>\n",
       "      <td>NaN</td>\n",
       "    </tr>\n",
       "    <tr>\n",
       "      <th>5</th>\n",
       "      <td>P117404.4</td>\n",
       "      <td>o 3</td>\n",
       "      <td>ig[door]N i[oil]N</td>\n",
       "      <td>{ŋeš}ig i₃</td>\n",
       "      <td>NaN</td>\n",
       "      <td>NaN</td>\n",
       "    </tr>\n",
       "    <tr>\n",
       "      <th>6</th>\n",
       "      <td>P128345.2</td>\n",
       "      <td>o 1</td>\n",
       "      <td>garig[comb]N siki[hair]N</td>\n",
       "      <td>{ŋeš}ga-rig₂ siki</td>\n",
       "      <td>NaN</td>\n",
       "      <td>NaN</td>\n",
       "    </tr>\n",
       "    <tr>\n",
       "      <th>7</th>\n",
       "      <td>P128345.3</td>\n",
       "      <td>o 2</td>\n",
       "      <td>garig[comb]N siki-siki[NA]NA</td>\n",
       "      <td>{ŋeš}ga-rig₂ siki-siki</td>\n",
       "      <td>NaN</td>\n",
       "      <td>NaN</td>\n",
       "    </tr>\n",
       "    <tr>\n",
       "      <th>8</th>\n",
       "      <td>P128345.4</td>\n",
       "      <td>o 3</td>\n",
       "      <td>garig[comb]N saŋdu[head]N</td>\n",
       "      <td>{ŋeš}ga-rig₂ saŋ-du</td>\n",
       "      <td>NaN</td>\n",
       "      <td>NaN</td>\n",
       "    </tr>\n",
       "    <tr>\n",
       "      <th>9</th>\n",
       "      <td>P224980.4</td>\n",
       "      <td>o i 1</td>\n",
       "      <td>gigir[chariot]N</td>\n",
       "      <td>{ŋeš}gigir</td>\n",
       "      <td>NaN</td>\n",
       "      <td>NaN</td>\n",
       "    </tr>\n",
       "    <tr>\n",
       "      <th>10</th>\n",
       "      <td>P224980.5</td>\n",
       "      <td>o i 2</td>\n",
       "      <td>e[house]N gigir[chariot]N</td>\n",
       "      <td>{ŋeš}e₂ gigir</td>\n",
       "      <td>NaN</td>\n",
       "      <td>NaN</td>\n",
       "    </tr>\n",
       "    <tr>\n",
       "      <th>11</th>\n",
       "      <td>P224980.6</td>\n",
       "      <td>o i 3</td>\n",
       "      <td>e[house]N usan[whip]N gigir[chariot]N</td>\n",
       "      <td>{ŋeš}e₂ usan₃ gigir</td>\n",
       "      <td>NaN</td>\n",
       "      <td>NaN</td>\n",
       "    </tr>\n",
       "    <tr>\n",
       "      <th>12</th>\n",
       "      <td>P224986.4</td>\n",
       "      <td>o i 1</td>\n",
       "      <td>guza[chair]N anše[equid]N</td>\n",
       "      <td>{ŋeš}gu-za anše</td>\n",
       "      <td>NaN</td>\n",
       "      <td>NaN</td>\n",
       "    </tr>\n",
       "    <tr>\n",
       "      <th>13</th>\n",
       "      <td>P224986.5</td>\n",
       "      <td>o i 2</td>\n",
       "      <td>guza[chair]N kaskal[way]N</td>\n",
       "      <td>{ŋeš}gu-za kaskal</td>\n",
       "      <td>NaN</td>\n",
       "      <td>NaN</td>\n",
       "    </tr>\n",
       "    <tr>\n",
       "      <th>14</th>\n",
       "      <td>P224986.6</td>\n",
       "      <td>o i 3</td>\n",
       "      <td>guza[chair]N zir[break]V/t</td>\n",
       "      <td>{ŋeš}gu-za zi</td>\n",
       "      <td>NaN</td>\n",
       "      <td>NaN</td>\n",
       "    </tr>\n",
       "    <tr>\n",
       "      <th>15</th>\n",
       "      <td>P224994.4</td>\n",
       "      <td>o i 1</td>\n",
       "      <td>{ŋeš}x-x[NA]NA</td>\n",
       "      <td>{ŋeš}x-x</td>\n",
       "      <td>NaN</td>\n",
       "      <td>NaN</td>\n",
       "    </tr>\n",
       "    <tr>\n",
       "      <th>16</th>\n",
       "      <td>P224994.5</td>\n",
       "      <td>o i 2</td>\n",
       "      <td>{ŋeš}SI-x[NA]NA</td>\n",
       "      <td>{ŋeš}SI-x</td>\n",
       "      <td>NaN</td>\n",
       "      <td>NaN</td>\n",
       "    </tr>\n",
       "    <tr>\n",
       "      <th>17</th>\n",
       "      <td>P224994.6</td>\n",
       "      <td>o i 3</td>\n",
       "      <td>{ŋeš}šu-x[NA]NA</td>\n",
       "      <td>{ŋeš}šu-x</td>\n",
       "      <td>NaN</td>\n",
       "      <td>NaN</td>\n",
       "    </tr>\n",
       "    <tr>\n",
       "      <th>18</th>\n",
       "      <td>P224996.4</td>\n",
       "      <td>o i 1</td>\n",
       "      <td>guza[chair]N</td>\n",
       "      <td>{ŋeš}gu-za</td>\n",
       "      <td>NaN</td>\n",
       "      <td>NaN</td>\n",
       "    </tr>\n",
       "    <tr>\n",
       "      <th>19</th>\n",
       "      <td>P224996.5</td>\n",
       "      <td>o i 2</td>\n",
       "      <td>guza[chair]N gid[long]V/i</td>\n",
       "      <td>{ŋeš}gu-za gid₂</td>\n",
       "      <td>NaN</td>\n",
       "      <td>NaN</td>\n",
       "    </tr>\n",
       "  </tbody>\n",
       "</table>\n",
       "</div>"
      ],
      "text/plain": [
       "      id_line  label                                  lemma  \\\n",
       "0   P117395.2    o 1                            ŋešed[key]N   \n",
       "1   P117395.3    o 2                          pakud[~tree]N   \n",
       "2   P117395.4    o 3                           raba[clamp]N   \n",
       "3   P117404.2    o 1                 ig[door]N eren[cedar]N   \n",
       "4   P117404.3    o 2                  ig[door]N dib[board]N   \n",
       "5   P117404.4    o 3                      ig[door]N i[oil]N   \n",
       "6   P128345.2    o 1               garig[comb]N siki[hair]N   \n",
       "7   P128345.3    o 2           garig[comb]N siki-siki[NA]NA   \n",
       "8   P128345.4    o 3              garig[comb]N saŋdu[head]N   \n",
       "9   P224980.4  o i 1                        gigir[chariot]N   \n",
       "10  P224980.5  o i 2              e[house]N gigir[chariot]N   \n",
       "11  P224980.6  o i 3  e[house]N usan[whip]N gigir[chariot]N   \n",
       "12  P224986.4  o i 1              guza[chair]N anše[equid]N   \n",
       "13  P224986.5  o i 2              guza[chair]N kaskal[way]N   \n",
       "14  P224986.6  o i 3             guza[chair]N zir[break]V/t   \n",
       "15  P224994.4  o i 1                         {ŋeš}x-x[NA]NA   \n",
       "16  P224994.5  o i 2                        {ŋeš}SI-x[NA]NA   \n",
       "17  P224994.6  o i 3                        {ŋeš}šu-x[NA]NA   \n",
       "18  P224996.4  o i 1                           guza[chair]N   \n",
       "19  P224996.5  o i 2              guza[chair]N gid[long]V/i   \n",
       "\n",
       "                      base extent scope  \n",
       "0                {ŋeš}e₃-a    NaN   NaN  \n",
       "1              {ŋeš}pa-kud    NaN   NaN  \n",
       "2                {ŋeš}raba    NaN   NaN  \n",
       "3        {ŋeš}ig {ŋeš}eren    NaN   NaN  \n",
       "4              {ŋeš}ig dib    NaN   NaN  \n",
       "5               {ŋeš}ig i₃    NaN   NaN  \n",
       "6        {ŋeš}ga-rig₂ siki    NaN   NaN  \n",
       "7   {ŋeš}ga-rig₂ siki-siki    NaN   NaN  \n",
       "8      {ŋeš}ga-rig₂ saŋ-du    NaN   NaN  \n",
       "9               {ŋeš}gigir    NaN   NaN  \n",
       "10           {ŋeš}e₂ gigir    NaN   NaN  \n",
       "11     {ŋeš}e₂ usan₃ gigir    NaN   NaN  \n",
       "12         {ŋeš}gu-za anše    NaN   NaN  \n",
       "13       {ŋeš}gu-za kaskal    NaN   NaN  \n",
       "14           {ŋeš}gu-za zi    NaN   NaN  \n",
       "15                {ŋeš}x-x    NaN   NaN  \n",
       "16               {ŋeš}SI-x    NaN   NaN  \n",
       "17               {ŋeš}šu-x    NaN   NaN  \n",
       "18              {ŋeš}gu-za    NaN   NaN  \n",
       "19         {ŋeš}gu-za gid₂    NaN   NaN  "
      ]
     },
     "execution_count": 3,
     "metadata": {},
     "output_type": "execute_result"
    }
   ],
   "source": [
    "df.head(20)"
   ]
  },
  {
   "cell_type": "markdown",
   "metadata": {},
   "source": [
    "# Create Expressions\n",
    "A line in a lexical text may contain more than one word. Usually a list is divided into sections by keyword, for instance:\n",
    "\n",
    "| text                \t| translation                      \t|\n",
    "|---------------------\t|----------------------------------\t|\n",
    "| {ŋeš}gigir          \t| chariot                          \t|\n",
    "| {ŋeš}e₂ gigir       \t| chariot cabin                    \t|\n",
    "| {ŋeš}e₂ usan₃ gigir \t| storage box for the chariot whip \t|\n",
    "| {ŋeš}gaba gigir     \t| breastwork of a chariot          \t|\n",
    "\n",
    "In the comparison between different versions of the list the individual words are less interesting than the *entries*, that is: the sequence of words in a single line. In order to look at entries (rather than words), words in an entry are connected by underscores (_). Since in this case all words are in Sumerian, the language designation (sux:) is removed from the field `entry`."
   ]
  },
  {
   "cell_type": "code",
   "execution_count": 4,
   "metadata": {
    "collapsed": false
   },
   "outputs": [
    {
     "data": {
      "text/html": [
       "<div>\n",
       "<table border=\"1\" class=\"dataframe\">\n",
       "  <thead>\n",
       "    <tr style=\"text-align: right;\">\n",
       "      <th></th>\n",
       "      <th>id_line</th>\n",
       "      <th>label</th>\n",
       "      <th>lemma</th>\n",
       "      <th>base</th>\n",
       "      <th>extent</th>\n",
       "      <th>scope</th>\n",
       "      <th>entry</th>\n",
       "      <th>id_text</th>\n",
       "      <th>line</th>\n",
       "    </tr>\n",
       "  </thead>\n",
       "  <tbody>\n",
       "    <tr>\n",
       "      <th>0</th>\n",
       "      <td>P117395.2</td>\n",
       "      <td>o 1</td>\n",
       "      <td>ŋešed[key]N</td>\n",
       "      <td>{ŋeš}e₃-a</td>\n",
       "      <td>NaN</td>\n",
       "      <td>NaN</td>\n",
       "      <td>ŋešed[key]N</td>\n",
       "      <td>P117395</td>\n",
       "      <td>2</td>\n",
       "    </tr>\n",
       "    <tr>\n",
       "      <th>1</th>\n",
       "      <td>P117395.3</td>\n",
       "      <td>o 2</td>\n",
       "      <td>pakud[~tree]N</td>\n",
       "      <td>{ŋeš}pa-kud</td>\n",
       "      <td>NaN</td>\n",
       "      <td>NaN</td>\n",
       "      <td>pakud[~tree]N</td>\n",
       "      <td>P117395</td>\n",
       "      <td>3</td>\n",
       "    </tr>\n",
       "    <tr>\n",
       "      <th>2</th>\n",
       "      <td>P117395.4</td>\n",
       "      <td>o 3</td>\n",
       "      <td>raba[clamp]N</td>\n",
       "      <td>{ŋeš}raba</td>\n",
       "      <td>NaN</td>\n",
       "      <td>NaN</td>\n",
       "      <td>raba[clamp]N</td>\n",
       "      <td>P117395</td>\n",
       "      <td>4</td>\n",
       "    </tr>\n",
       "    <tr>\n",
       "      <th>3</th>\n",
       "      <td>P117404.2</td>\n",
       "      <td>o 1</td>\n",
       "      <td>ig[door]N eren[cedar]N</td>\n",
       "      <td>{ŋeš}ig {ŋeš}eren</td>\n",
       "      <td>NaN</td>\n",
       "      <td>NaN</td>\n",
       "      <td>ig[door]N_eren[cedar]N</td>\n",
       "      <td>P117404</td>\n",
       "      <td>2</td>\n",
       "    </tr>\n",
       "    <tr>\n",
       "      <th>4</th>\n",
       "      <td>P117404.3</td>\n",
       "      <td>o 2</td>\n",
       "      <td>ig[door]N dib[board]N</td>\n",
       "      <td>{ŋeš}ig dib</td>\n",
       "      <td>NaN</td>\n",
       "      <td>NaN</td>\n",
       "      <td>ig[door]N_dib[board]N</td>\n",
       "      <td>P117404</td>\n",
       "      <td>3</td>\n",
       "    </tr>\n",
       "    <tr>\n",
       "      <th>5</th>\n",
       "      <td>P117404.4</td>\n",
       "      <td>o 3</td>\n",
       "      <td>ig[door]N i[oil]N</td>\n",
       "      <td>{ŋeš}ig i₃</td>\n",
       "      <td>NaN</td>\n",
       "      <td>NaN</td>\n",
       "      <td>ig[door]N_i[oil]N</td>\n",
       "      <td>P117404</td>\n",
       "      <td>4</td>\n",
       "    </tr>\n",
       "    <tr>\n",
       "      <th>6</th>\n",
       "      <td>P128345.2</td>\n",
       "      <td>o 1</td>\n",
       "      <td>garig[comb]N siki[hair]N</td>\n",
       "      <td>{ŋeš}ga-rig₂ siki</td>\n",
       "      <td>NaN</td>\n",
       "      <td>NaN</td>\n",
       "      <td>garig[comb]N_siki[hair]N</td>\n",
       "      <td>P128345</td>\n",
       "      <td>2</td>\n",
       "    </tr>\n",
       "    <tr>\n",
       "      <th>7</th>\n",
       "      <td>P128345.3</td>\n",
       "      <td>o 2</td>\n",
       "      <td>garig[comb]N siki-siki[NA]NA</td>\n",
       "      <td>{ŋeš}ga-rig₂ siki-siki</td>\n",
       "      <td>NaN</td>\n",
       "      <td>NaN</td>\n",
       "      <td>garig[comb]N_siki-siki[NA]NA</td>\n",
       "      <td>P128345</td>\n",
       "      <td>3</td>\n",
       "    </tr>\n",
       "    <tr>\n",
       "      <th>8</th>\n",
       "      <td>P128345.4</td>\n",
       "      <td>o 3</td>\n",
       "      <td>garig[comb]N saŋdu[head]N</td>\n",
       "      <td>{ŋeš}ga-rig₂ saŋ-du</td>\n",
       "      <td>NaN</td>\n",
       "      <td>NaN</td>\n",
       "      <td>garig[comb]N_saŋdu[head]N</td>\n",
       "      <td>P128345</td>\n",
       "      <td>4</td>\n",
       "    </tr>\n",
       "    <tr>\n",
       "      <th>9</th>\n",
       "      <td>P224980.4</td>\n",
       "      <td>o i 1</td>\n",
       "      <td>gigir[chariot]N</td>\n",
       "      <td>{ŋeš}gigir</td>\n",
       "      <td>NaN</td>\n",
       "      <td>NaN</td>\n",
       "      <td>gigir[chariot]N</td>\n",
       "      <td>P224980</td>\n",
       "      <td>4</td>\n",
       "    </tr>\n",
       "    <tr>\n",
       "      <th>10</th>\n",
       "      <td>P224980.5</td>\n",
       "      <td>o i 2</td>\n",
       "      <td>e[house]N gigir[chariot]N</td>\n",
       "      <td>{ŋeš}e₂ gigir</td>\n",
       "      <td>NaN</td>\n",
       "      <td>NaN</td>\n",
       "      <td>e[house]N_gigir[chariot]N</td>\n",
       "      <td>P224980</td>\n",
       "      <td>5</td>\n",
       "    </tr>\n",
       "    <tr>\n",
       "      <th>11</th>\n",
       "      <td>P224980.6</td>\n",
       "      <td>o i 3</td>\n",
       "      <td>e[house]N usan[whip]N gigir[chariot]N</td>\n",
       "      <td>{ŋeš}e₂ usan₃ gigir</td>\n",
       "      <td>NaN</td>\n",
       "      <td>NaN</td>\n",
       "      <td>e[house]N_usan[whip]N_gigir[chariot]N</td>\n",
       "      <td>P224980</td>\n",
       "      <td>6</td>\n",
       "    </tr>\n",
       "    <tr>\n",
       "      <th>12</th>\n",
       "      <td>P224986.4</td>\n",
       "      <td>o i 1</td>\n",
       "      <td>guza[chair]N anše[equid]N</td>\n",
       "      <td>{ŋeš}gu-za anše</td>\n",
       "      <td>NaN</td>\n",
       "      <td>NaN</td>\n",
       "      <td>guza[chair]N_anše[equid]N</td>\n",
       "      <td>P224986</td>\n",
       "      <td>4</td>\n",
       "    </tr>\n",
       "    <tr>\n",
       "      <th>13</th>\n",
       "      <td>P224986.5</td>\n",
       "      <td>o i 2</td>\n",
       "      <td>guza[chair]N kaskal[way]N</td>\n",
       "      <td>{ŋeš}gu-za kaskal</td>\n",
       "      <td>NaN</td>\n",
       "      <td>NaN</td>\n",
       "      <td>guza[chair]N_kaskal[way]N</td>\n",
       "      <td>P224986</td>\n",
       "      <td>5</td>\n",
       "    </tr>\n",
       "    <tr>\n",
       "      <th>14</th>\n",
       "      <td>P224986.6</td>\n",
       "      <td>o i 3</td>\n",
       "      <td>guza[chair]N zir[break]V/t</td>\n",
       "      <td>{ŋeš}gu-za zi</td>\n",
       "      <td>NaN</td>\n",
       "      <td>NaN</td>\n",
       "      <td>guza[chair]N_zir[break]V/t</td>\n",
       "      <td>P224986</td>\n",
       "      <td>6</td>\n",
       "    </tr>\n",
       "    <tr>\n",
       "      <th>15</th>\n",
       "      <td>P224994.4</td>\n",
       "      <td>o i 1</td>\n",
       "      <td>{ŋeš}x-x[NA]NA</td>\n",
       "      <td>{ŋeš}x-x</td>\n",
       "      <td>NaN</td>\n",
       "      <td>NaN</td>\n",
       "      <td>{ŋeš}x-x[NA]NA</td>\n",
       "      <td>P224994</td>\n",
       "      <td>4</td>\n",
       "    </tr>\n",
       "    <tr>\n",
       "      <th>16</th>\n",
       "      <td>P224994.5</td>\n",
       "      <td>o i 2</td>\n",
       "      <td>{ŋeš}SI-x[NA]NA</td>\n",
       "      <td>{ŋeš}SI-x</td>\n",
       "      <td>NaN</td>\n",
       "      <td>NaN</td>\n",
       "      <td>{ŋeš}SI-x[NA]NA</td>\n",
       "      <td>P224994</td>\n",
       "      <td>5</td>\n",
       "    </tr>\n",
       "    <tr>\n",
       "      <th>17</th>\n",
       "      <td>P224994.6</td>\n",
       "      <td>o i 3</td>\n",
       "      <td>{ŋeš}šu-x[NA]NA</td>\n",
       "      <td>{ŋeš}šu-x</td>\n",
       "      <td>NaN</td>\n",
       "      <td>NaN</td>\n",
       "      <td>{ŋeš}šu-x[NA]NA</td>\n",
       "      <td>P224994</td>\n",
       "      <td>6</td>\n",
       "    </tr>\n",
       "    <tr>\n",
       "      <th>18</th>\n",
       "      <td>P224996.4</td>\n",
       "      <td>o i 1</td>\n",
       "      <td>guza[chair]N</td>\n",
       "      <td>{ŋeš}gu-za</td>\n",
       "      <td>NaN</td>\n",
       "      <td>NaN</td>\n",
       "      <td>guza[chair]N</td>\n",
       "      <td>P224996</td>\n",
       "      <td>4</td>\n",
       "    </tr>\n",
       "    <tr>\n",
       "      <th>19</th>\n",
       "      <td>P224996.5</td>\n",
       "      <td>o i 2</td>\n",
       "      <td>guza[chair]N gid[long]V/i</td>\n",
       "      <td>{ŋeš}gu-za gid₂</td>\n",
       "      <td>NaN</td>\n",
       "      <td>NaN</td>\n",
       "      <td>guza[chair]N_gid[long]V/i</td>\n",
       "      <td>P224996</td>\n",
       "      <td>5</td>\n",
       "    </tr>\n",
       "  </tbody>\n",
       "</table>\n",
       "</div>"
      ],
      "text/plain": [
       "      id_line  label                                  lemma  \\\n",
       "0   P117395.2    o 1                            ŋešed[key]N   \n",
       "1   P117395.3    o 2                          pakud[~tree]N   \n",
       "2   P117395.4    o 3                           raba[clamp]N   \n",
       "3   P117404.2    o 1                 ig[door]N eren[cedar]N   \n",
       "4   P117404.3    o 2                  ig[door]N dib[board]N   \n",
       "5   P117404.4    o 3                      ig[door]N i[oil]N   \n",
       "6   P128345.2    o 1               garig[comb]N siki[hair]N   \n",
       "7   P128345.3    o 2           garig[comb]N siki-siki[NA]NA   \n",
       "8   P128345.4    o 3              garig[comb]N saŋdu[head]N   \n",
       "9   P224980.4  o i 1                        gigir[chariot]N   \n",
       "10  P224980.5  o i 2              e[house]N gigir[chariot]N   \n",
       "11  P224980.6  o i 3  e[house]N usan[whip]N gigir[chariot]N   \n",
       "12  P224986.4  o i 1              guza[chair]N anše[equid]N   \n",
       "13  P224986.5  o i 2              guza[chair]N kaskal[way]N   \n",
       "14  P224986.6  o i 3             guza[chair]N zir[break]V/t   \n",
       "15  P224994.4  o i 1                         {ŋeš}x-x[NA]NA   \n",
       "16  P224994.5  o i 2                        {ŋeš}SI-x[NA]NA   \n",
       "17  P224994.6  o i 3                        {ŋeš}šu-x[NA]NA   \n",
       "18  P224996.4  o i 1                           guza[chair]N   \n",
       "19  P224996.5  o i 2              guza[chair]N gid[long]V/i   \n",
       "\n",
       "                      base extent scope  \\\n",
       "0                {ŋeš}e₃-a    NaN   NaN   \n",
       "1              {ŋeš}pa-kud    NaN   NaN   \n",
       "2                {ŋeš}raba    NaN   NaN   \n",
       "3        {ŋeš}ig {ŋeš}eren    NaN   NaN   \n",
       "4              {ŋeš}ig dib    NaN   NaN   \n",
       "5               {ŋeš}ig i₃    NaN   NaN   \n",
       "6        {ŋeš}ga-rig₂ siki    NaN   NaN   \n",
       "7   {ŋeš}ga-rig₂ siki-siki    NaN   NaN   \n",
       "8      {ŋeš}ga-rig₂ saŋ-du    NaN   NaN   \n",
       "9               {ŋeš}gigir    NaN   NaN   \n",
       "10           {ŋeš}e₂ gigir    NaN   NaN   \n",
       "11     {ŋeš}e₂ usan₃ gigir    NaN   NaN   \n",
       "12         {ŋeš}gu-za anše    NaN   NaN   \n",
       "13       {ŋeš}gu-za kaskal    NaN   NaN   \n",
       "14           {ŋeš}gu-za zi    NaN   NaN   \n",
       "15                {ŋeš}x-x    NaN   NaN   \n",
       "16               {ŋeš}SI-x    NaN   NaN   \n",
       "17               {ŋeš}šu-x    NaN   NaN   \n",
       "18              {ŋeš}gu-za    NaN   NaN   \n",
       "19         {ŋeš}gu-za gid₂    NaN   NaN   \n",
       "\n",
       "                                    entry  id_text  line  \n",
       "0                             ŋešed[key]N  P117395     2  \n",
       "1                           pakud[~tree]N  P117395     3  \n",
       "2                            raba[clamp]N  P117395     4  \n",
       "3                  ig[door]N_eren[cedar]N  P117404     2  \n",
       "4                   ig[door]N_dib[board]N  P117404     3  \n",
       "5                       ig[door]N_i[oil]N  P117404     4  \n",
       "6                garig[comb]N_siki[hair]N  P128345     2  \n",
       "7            garig[comb]N_siki-siki[NA]NA  P128345     3  \n",
       "8               garig[comb]N_saŋdu[head]N  P128345     4  \n",
       "9                         gigir[chariot]N  P224980     4  \n",
       "10              e[house]N_gigir[chariot]N  P224980     5  \n",
       "11  e[house]N_usan[whip]N_gigir[chariot]N  P224980     6  \n",
       "12              guza[chair]N_anše[equid]N  P224986     4  \n",
       "13              guza[chair]N_kaskal[way]N  P224986     5  \n",
       "14             guza[chair]N_zir[break]V/t  P224986     6  \n",
       "15                         {ŋeš}x-x[NA]NA  P224994     4  \n",
       "16                        {ŋeš}SI-x[NA]NA  P224994     5  \n",
       "17                        {ŋeš}šu-x[NA]NA  P224994     6  \n",
       "18                           guza[chair]N  P224996     4  \n",
       "19              guza[chair]N_gid[long]V/i  P224996     5  "
      ]
     },
     "execution_count": 4,
     "metadata": {},
     "output_type": "execute_result"
    }
   ],
   "source": [
    "df['entry'] = df['lemma']\n",
    "df['entry'] = df['entry'].str.replace(' ', '_')\n",
    "df['id_text'] = df['id_line'].str[:7]\n",
    "df['line'] = [int(re.sub('.+\\.', '', line)) for line in df['id_line']] #create a line number for indexing\n",
    "df.head(20)"
   ]
  },
  {
   "cell_type": "markdown",
   "metadata": {},
   "source": [
    "# Group by Document\n",
    "The `groupby()` function is used to group the data by document. The function `apply(' '.join)` concatenates the text in the `entries` column, separating them with a white space. The Pandas `groupby()` function results in a series, which is then tranformed into a new Dataframe."
   ]
  },
  {
   "cell_type": "code",
   "execution_count": 5,
   "metadata": {
    "collapsed": false
   },
   "outputs": [
    {
     "data": {
      "text/html": [
       "<div>\n",
       "<table border=\"1\" class=\"dataframe\">\n",
       "  <thead>\n",
       "    <tr style=\"text-align: right;\">\n",
       "      <th></th>\n",
       "      <th>entry</th>\n",
       "    </tr>\n",
       "    <tr>\n",
       "      <th>id_text</th>\n",
       "      <th></th>\n",
       "    </tr>\n",
       "  </thead>\n",
       "  <tbody>\n",
       "    <tr>\n",
       "      <th>P117395</th>\n",
       "      <td>ŋešed[key]N pakud[~tree]N raba[clamp]N</td>\n",
       "    </tr>\n",
       "    <tr>\n",
       "      <th>P117404</th>\n",
       "      <td>ig[door]N_eren[cedar]N ig[door]N_dib[board]N i...</td>\n",
       "    </tr>\n",
       "    <tr>\n",
       "      <th>P128345</th>\n",
       "      <td>garig[comb]N_siki[hair]N garig[comb]N_siki-sik...</td>\n",
       "    </tr>\n",
       "    <tr>\n",
       "      <th>P224980</th>\n",
       "      <td>gigir[chariot]N e[house]N_gigir[chariot]N e[ho...</td>\n",
       "    </tr>\n",
       "    <tr>\n",
       "      <th>P224986</th>\n",
       "      <td>guza[chair]N_anše[equid]N guza[chair]N_kaskal[...</td>\n",
       "    </tr>\n",
       "  </tbody>\n",
       "</table>\n",
       "</div>"
      ],
      "text/plain": [
       "                                                     entry\n",
       "id_text                                                   \n",
       "P117395             ŋešed[key]N pakud[~tree]N raba[clamp]N\n",
       "P117404  ig[door]N_eren[cedar]N ig[door]N_dib[board]N i...\n",
       "P128345  garig[comb]N_siki[hair]N garig[comb]N_siki-sik...\n",
       "P224980  gigir[chariot]N e[house]N_gigir[chariot]N e[ho...\n",
       "P224986  guza[chair]N_anše[equid]N guza[chair]N_kaskal[..."
      ]
     },
     "execution_count": 5,
     "metadata": {},
     "output_type": "execute_result"
    }
   ],
   "source": [
    "df['entry'] = df['entry'].fillna('')\n",
    "entries_df = df[['id_text', 'line', 'entry']]\n",
    "#entries_df = entries_df.dropna()\n",
    "grouped = entries_df['entry'].groupby(entries_df['id_text']).apply(' '.join).reset_index()\n",
    "by_text_df = pd.DataFrame(grouped)\n",
    "by_text_df = by_text_df.set_index('id_text')\n",
    "by_text_df.head()"
   ]
  },
  {
   "cell_type": "markdown",
   "metadata": {},
   "source": [
    "# Questions for Niek\n",
    "1) What does the symbol \"~\" mean in the lemmatization? For example in row number one of the df above \"~tree\". \n",
    "\n",
    "NV: This means: \"pertains to\" and is used for words of vague or unclear semantics.\n",
    "\n",
    "2) Can you explain what's going on with the \"line\" column? It appears to start at an arbitrary number for each document.  \n",
    "\n",
    "NV: The field `line` is derived directly from the field `id_line`, minus the `id_text` (P-number) element. `Id_line` is a string but `line` is an integer, used to keep the lines in the right order.  \n",
    "\n",
    "3) Why do the first several entries in the DTM start with a number? It looks like these are all words that are unlematized. What do the numbers refer to? Is \"10[na]_na\" different from \"11[na]_na\"?\n",
    "\n",
    "NV: Some of these entries come from P251686 - and they indicate a problem we hadn't seen before. This is a tablet that combines a list of wooden objects with a metrological table. The metrological table shouldn't be here - there are, I believe, a few other such instances."
   ]
  },
  {
   "cell_type": "markdown",
   "metadata": {},
   "source": [
    "# Document Term Matrix\n",
    "Transform the DataFrame into a Document Term Matrix (DTM) by using CountVectorizer. This function uses a Regular Expression (token_pattern) to indicate how to find the beginning and end of token. In the current Dataframe entries are separated from each other by a white space. The expression `r.[^ ]+` means: any combination of characters, except the space.\n",
    "\n",
    "The output of the CountVectorizer (`dtm`) is not in a human-readable format. It is transformed into another DataFrame, with `id_text` as index."
   ]
  },
  {
   "cell_type": "code",
   "execution_count": 6,
   "metadata": {
    "collapsed": false
   },
   "outputs": [
    {
     "data": {
      "text/html": [
       "<div>\n",
       "<table border=\"1\" class=\"dataframe\">\n",
       "  <thead>\n",
       "    <tr style=\"text-align: right;\">\n",
       "      <th></th>\n",
       "      <th>1(ban₂)[na]na_1(diš)[na]na_sila[unit]n_11[na]na</th>\n",
       "      <th>1(ban₂)[na]na_2(diš)[na]na_sila[unit]n_12[na]na</th>\n",
       "      <th>1(ban₂)[na]na_3(diš)[na]na_sila[unit]n_13[na]na</th>\n",
       "      <th>1(ban₂)[na]na_4(diš)[na]na_sila[unit]n_14[na]na</th>\n",
       "      <th>1(ban₂)[na]na_5(diš)[na]na_sila[unit]n_15[na]na</th>\n",
       "      <th>1(ban₂)[na]na_še[barley]n_10[na]na</th>\n",
       "      <th>10[na]na_še[barley]n_kugbabbar[silver]n</th>\n",
       "      <th>11[na]na_še[barley]n_kugbabbar[silver]n</th>\n",
       "      <th>12[na]na_še[barley]n_kugbabbar[silver]n</th>\n",
       "      <th>13[na]na_še[barley]n_kugbabbar[silver]n</th>\n",
       "      <th>...</th>\n",
       "      <th>šuʾa[stool]n_ašgab[leatherworker]n</th>\n",
       "      <th>šuʾa[stool]n_burgul[stone-cutter]n</th>\n",
       "      <th>šuʾa[stool]n_dus[bathroom]n</th>\n",
       "      <th>šuʾa[stool]n_kaskal[way]n</th>\n",
       "      <th>šuʾa[stool]n_nagar[carpenter]n</th>\n",
       "      <th>šuʾa[stool]n_niŋgula[greatness]n</th>\n",
       "      <th>šuʾa[stool]n_suhsah[sound]n</th>\n",
       "      <th>šuʾa[stool]n_tibira[sculptor]n</th>\n",
       "      <th>šuʾa[stool]n_x[na]na</th>\n",
       "      <th>šuʾura[goose]n</th>\n",
       "    </tr>\n",
       "  </thead>\n",
       "  <tbody>\n",
       "    <tr>\n",
       "      <th>P117395</th>\n",
       "      <td>0</td>\n",
       "      <td>0</td>\n",
       "      <td>0</td>\n",
       "      <td>0</td>\n",
       "      <td>0</td>\n",
       "      <td>0</td>\n",
       "      <td>0</td>\n",
       "      <td>0</td>\n",
       "      <td>0</td>\n",
       "      <td>0</td>\n",
       "      <td>...</td>\n",
       "      <td>0</td>\n",
       "      <td>0</td>\n",
       "      <td>0</td>\n",
       "      <td>0</td>\n",
       "      <td>0</td>\n",
       "      <td>0</td>\n",
       "      <td>0</td>\n",
       "      <td>0</td>\n",
       "      <td>0</td>\n",
       "      <td>0</td>\n",
       "    </tr>\n",
       "    <tr>\n",
       "      <th>P117404</th>\n",
       "      <td>0</td>\n",
       "      <td>0</td>\n",
       "      <td>0</td>\n",
       "      <td>0</td>\n",
       "      <td>0</td>\n",
       "      <td>0</td>\n",
       "      <td>0</td>\n",
       "      <td>0</td>\n",
       "      <td>0</td>\n",
       "      <td>0</td>\n",
       "      <td>...</td>\n",
       "      <td>0</td>\n",
       "      <td>0</td>\n",
       "      <td>0</td>\n",
       "      <td>0</td>\n",
       "      <td>0</td>\n",
       "      <td>0</td>\n",
       "      <td>0</td>\n",
       "      <td>0</td>\n",
       "      <td>0</td>\n",
       "      <td>0</td>\n",
       "    </tr>\n",
       "    <tr>\n",
       "      <th>P128345</th>\n",
       "      <td>0</td>\n",
       "      <td>0</td>\n",
       "      <td>0</td>\n",
       "      <td>0</td>\n",
       "      <td>0</td>\n",
       "      <td>0</td>\n",
       "      <td>0</td>\n",
       "      <td>0</td>\n",
       "      <td>0</td>\n",
       "      <td>0</td>\n",
       "      <td>...</td>\n",
       "      <td>0</td>\n",
       "      <td>0</td>\n",
       "      <td>0</td>\n",
       "      <td>0</td>\n",
       "      <td>0</td>\n",
       "      <td>0</td>\n",
       "      <td>0</td>\n",
       "      <td>0</td>\n",
       "      <td>0</td>\n",
       "      <td>0</td>\n",
       "    </tr>\n",
       "    <tr>\n",
       "      <th>P224980</th>\n",
       "      <td>0</td>\n",
       "      <td>0</td>\n",
       "      <td>0</td>\n",
       "      <td>0</td>\n",
       "      <td>0</td>\n",
       "      <td>0</td>\n",
       "      <td>0</td>\n",
       "      <td>0</td>\n",
       "      <td>0</td>\n",
       "      <td>0</td>\n",
       "      <td>...</td>\n",
       "      <td>0</td>\n",
       "      <td>0</td>\n",
       "      <td>0</td>\n",
       "      <td>0</td>\n",
       "      <td>0</td>\n",
       "      <td>0</td>\n",
       "      <td>0</td>\n",
       "      <td>0</td>\n",
       "      <td>0</td>\n",
       "      <td>0</td>\n",
       "    </tr>\n",
       "    <tr>\n",
       "      <th>P224986</th>\n",
       "      <td>0</td>\n",
       "      <td>0</td>\n",
       "      <td>0</td>\n",
       "      <td>0</td>\n",
       "      <td>0</td>\n",
       "      <td>0</td>\n",
       "      <td>0</td>\n",
       "      <td>0</td>\n",
       "      <td>0</td>\n",
       "      <td>0</td>\n",
       "      <td>...</td>\n",
       "      <td>0</td>\n",
       "      <td>0</td>\n",
       "      <td>0</td>\n",
       "      <td>0</td>\n",
       "      <td>0</td>\n",
       "      <td>0</td>\n",
       "      <td>0</td>\n",
       "      <td>0</td>\n",
       "      <td>0</td>\n",
       "      <td>0</td>\n",
       "    </tr>\n",
       "  </tbody>\n",
       "</table>\n",
       "<p>5 rows × 2301 columns</p>\n",
       "</div>"
      ],
      "text/plain": [
       "         1(ban₂)[na]na_1(diš)[na]na_sila[unit]n_11[na]na  \\\n",
       "P117395                                                0   \n",
       "P117404                                                0   \n",
       "P128345                                                0   \n",
       "P224980                                                0   \n",
       "P224986                                                0   \n",
       "\n",
       "         1(ban₂)[na]na_2(diš)[na]na_sila[unit]n_12[na]na  \\\n",
       "P117395                                                0   \n",
       "P117404                                                0   \n",
       "P128345                                                0   \n",
       "P224980                                                0   \n",
       "P224986                                                0   \n",
       "\n",
       "         1(ban₂)[na]na_3(diš)[na]na_sila[unit]n_13[na]na  \\\n",
       "P117395                                                0   \n",
       "P117404                                                0   \n",
       "P128345                                                0   \n",
       "P224980                                                0   \n",
       "P224986                                                0   \n",
       "\n",
       "         1(ban₂)[na]na_4(diš)[na]na_sila[unit]n_14[na]na  \\\n",
       "P117395                                                0   \n",
       "P117404                                                0   \n",
       "P128345                                                0   \n",
       "P224980                                                0   \n",
       "P224986                                                0   \n",
       "\n",
       "         1(ban₂)[na]na_5(diš)[na]na_sila[unit]n_15[na]na  \\\n",
       "P117395                                                0   \n",
       "P117404                                                0   \n",
       "P128345                                                0   \n",
       "P224980                                                0   \n",
       "P224986                                                0   \n",
       "\n",
       "         1(ban₂)[na]na_še[barley]n_10[na]na  \\\n",
       "P117395                                   0   \n",
       "P117404                                   0   \n",
       "P128345                                   0   \n",
       "P224980                                   0   \n",
       "P224986                                   0   \n",
       "\n",
       "         10[na]na_še[barley]n_kugbabbar[silver]n  \\\n",
       "P117395                                        0   \n",
       "P117404                                        0   \n",
       "P128345                                        0   \n",
       "P224980                                        0   \n",
       "P224986                                        0   \n",
       "\n",
       "         11[na]na_še[barley]n_kugbabbar[silver]n  \\\n",
       "P117395                                        0   \n",
       "P117404                                        0   \n",
       "P128345                                        0   \n",
       "P224980                                        0   \n",
       "P224986                                        0   \n",
       "\n",
       "         12[na]na_še[barley]n_kugbabbar[silver]n  \\\n",
       "P117395                                        0   \n",
       "P117404                                        0   \n",
       "P128345                                        0   \n",
       "P224980                                        0   \n",
       "P224986                                        0   \n",
       "\n",
       "         13[na]na_še[barley]n_kugbabbar[silver]n       ...        \\\n",
       "P117395                                        0       ...         \n",
       "P117404                                        0       ...         \n",
       "P128345                                        0       ...         \n",
       "P224980                                        0       ...         \n",
       "P224986                                        0       ...         \n",
       "\n",
       "         šuʾa[stool]n_ašgab[leatherworker]n  \\\n",
       "P117395                                   0   \n",
       "P117404                                   0   \n",
       "P128345                                   0   \n",
       "P224980                                   0   \n",
       "P224986                                   0   \n",
       "\n",
       "         šuʾa[stool]n_burgul[stone-cutter]n  šuʾa[stool]n_dus[bathroom]n  \\\n",
       "P117395                                   0                            0   \n",
       "P117404                                   0                            0   \n",
       "P128345                                   0                            0   \n",
       "P224980                                   0                            0   \n",
       "P224986                                   0                            0   \n",
       "\n",
       "         šuʾa[stool]n_kaskal[way]n  šuʾa[stool]n_nagar[carpenter]n  \\\n",
       "P117395                          0                               0   \n",
       "P117404                          0                               0   \n",
       "P128345                          0                               0   \n",
       "P224980                          0                               0   \n",
       "P224986                          0                               0   \n",
       "\n",
       "         šuʾa[stool]n_niŋgula[greatness]n  šuʾa[stool]n_suhsah[sound]n  \\\n",
       "P117395                                 0                            0   \n",
       "P117404                                 0                            0   \n",
       "P128345                                 0                            0   \n",
       "P224980                                 0                            0   \n",
       "P224986                                 0                            0   \n",
       "\n",
       "         šuʾa[stool]n_tibira[sculptor]n  šuʾa[stool]n_x[na]na  šuʾura[goose]n  \n",
       "P117395                               0                     0               0  \n",
       "P117404                               0                     0               0  \n",
       "P128345                               0                     0               0  \n",
       "P224980                               0                     0               0  \n",
       "P224986                               0                     0               0  \n",
       "\n",
       "[5 rows x 2301 columns]"
      ]
     },
     "execution_count": 6,
     "metadata": {},
     "output_type": "execute_result"
    }
   ],
   "source": [
    "from sklearn.feature_extraction.text import CountVectorizer\n",
    "cv = CountVectorizer(analyzer='word', token_pattern=r'[^ ]+')\n",
    "dtm = cv.fit_transform(by_text_df['entry'])\n",
    "dtm_df = pd.DataFrame(dtm.toarray(), columns = cv.get_feature_names(), index = by_text_df.index.values)\n",
    "dtm_df.head()"
   ]
  },
  {
   "cell_type": "markdown",
   "metadata": {},
   "source": [
    "# Analyzing the DTM\n",
    "There are various ways in which a DTM may be analyzed. Each document may be understood as a vector, which allows for various kinds of computations, such as distance or cosine-similarity. \n",
    "\n",
    "It is important to recall that the DTM does not preserve information about the order of entries. In comparing versions of a lexical text we may think of four types of features: \n",
    "\n",
    "* presence or absence of entries\n",
    "* order of entries in a section\n",
    "* order of sections in the document\n",
    "* spelling of words\n",
    "\n",
    "The present DTM can only address the first feature.\n",
    "\n",
    "It is also important to realize that the documents in this analysis of are of very different length (from 1 to 750 entries), with more than half of the documents 3 lines or less. The composite text from Nippur is by far the longest document and will dominate any comparison"
   ]
  },
  {
   "cell_type": "code",
   "execution_count": 7,
   "metadata": {
    "collapsed": false
   },
   "outputs": [
    {
     "data": {
      "text/plain": [
       "count    106.000000\n",
       "mean      46.254717\n",
       "std      128.342923\n",
       "min        1.000000\n",
       "25%        3.000000\n",
       "50%        3.000000\n",
       "75%       16.250000\n",
       "max      776.000000\n",
       "dtype: float64"
      ]
     },
     "execution_count": 7,
     "metadata": {},
     "output_type": "execute_result"
    }
   ],
   "source": [
    "df_length = dtm_df.sum(axis=1)\n",
    "df_length.describe()"
   ]
  },
  {
   "cell_type": "markdown",
   "metadata": {},
   "source": [
    "Note that I'll be doing some analysis in R, whereas Niek will be doing some in Python. We can use both languages in different cells of the same notebook and even pass variables between languages. See tip #21 [here](https://www.dataquest.io/blog/jupyter-notebook-tips-tricks-shortcuts/).\n",
    "\n",
    "FYI - if you have difficulty running R cells in a Python notebook using rpy2, try installing\n",
    "rpy2 through conda instead of through pip.  \n",
    "\n",
    "`conda install -c r rpy2`"
   ]
  },
  {
   "cell_type": "code",
   "execution_count": 8,
   "metadata": {
    "collapsed": false
   },
   "outputs": [],
   "source": [
    "import rpy2.ipython\n",
    "%load_ext rpy2.ipython"
   ]
  },
  {
   "cell_type": "markdown",
   "metadata": {},
   "source": [
    "# Make sure the R correctly parsed the DTM  \n",
    "- It looks like R doesn't allow variable names to start with a number, thus all entries starting with a number had \"X\" added to the beggining of the entry name.  \n",
    "- R doesn't allow parentheses in variable names, so entries like \"1(ban₂)[na]na\" parsed as \"X1.ban...na.na\".   \n",
    "- \n",
    "\n"
   ]
  },
  {
   "cell_type": "code",
   "execution_count": 9,
   "metadata": {
    "collapsed": false
   },
   "outputs": [],
   "source": [
    "%%R -i dtm_df\n",
    "#Import dtm_df from Python\n",
    "\n",
    "# Set cols and rows to sum to not include summary column and row added later\n",
    "# This needs to be in separate cell from addition of summary col and row!\n",
    "cols_to_sum = ncol(dtm_df)\n",
    "rows_to_sum = nrow(dtm_df)\n",
    "\n",
    "#head(dtm_df[,1:10])\n",
    "#str(dtm_df)"
   ]
  },
  {
   "cell_type": "markdown",
   "metadata": {},
   "source": [
    "# Check density of DTM\n",
    "\n",
    "Look at distribution of document lengths (number of entries per document).  \n",
    "Look at distribution of entry freqency (number of documents each entry appears in)."
   ]
  },
  {
   "cell_type": "code",
   "execution_count": 10,
   "metadata": {
    "collapsed": false
   },
   "outputs": [
    {
     "data": {
      "text/plain": [
       "[1] \"There are 34 documents with 10 or more entries.\"\n",
       "[1] \"There are 14 documents with 100 or more entries.\"\n"
      ]
     },
     "metadata": {},
     "output_type": "display_data"
    },
    {
     "data": {
      "image/png": "[encoded data removed]"
     },
     "metadata": {},
     "output_type": "display_data"
    }
   ],
   "source": [
    "%%R\n",
    "\n",
    "dtm_df$num_entries = rowSums(dtm_df[1:cols_to_sum])\n",
    "dtm_df[\"num_occurances\",] = colSums(dtm_df[1:rows_to_sum,])\n",
    "dtm_df[\"num_occurances\",\"num_entries\"] = NA \n",
    "\n",
    "plot(density(dtm_df$num_entries, na.rm = TRUE))\n",
    "table(dtm_df$num_entries, useNA = \"ifany\") #number of documents with each number of entries\n",
    "\n",
    "print(paste(\"There are\", length(which(dtm_df$num_entries >= 10)), \"documents with 10 or more entries.\"))\n",
    "print(paste(\"There are\", length(which(dtm_df$num_entries >= 100)), \"documents with 100 or more entries.\"))"
   ]
  },
  {
   "cell_type": "code",
   "execution_count": 11,
   "metadata": {
    "collapsed": false
   },
   "outputs": [
    {
     "data": {
      "text/plain": [
       "[1] \"76.88% of entries appear only once or twice across the corpus\"\n",
       "[1] \"25 entries occur in 10 or more documents\"\n",
       "[1] \"including one that occurs 189 times across the 106 documents\"\n",
       "[1] \"The most common entry is X.ŋeš.x.na.na\"\n"
      ]
     },
     "metadata": {},
     "output_type": "display_data"
    },
    {
     "data": {
      "image/png": "[encoded data removed]"
     },
     "metadata": {},
     "output_type": "display_data"
    }
   ],
   "source": [
    "%%R \n",
    "\n",
    "num_occurances = unlist(dtm_df[\"num_occurances\",])\n",
    "plot(density(num_occurances, na.rm = TRUE))\n",
    "table(num_occurances, useNA = \"ifany\")\n",
    "\n",
    "rare = round(length(which(dtm_df[\"num_occurances\",] <=2))/cols_to_sum*100,2)\n",
    "common = length(which(dtm_df[\"num_occurances\",] >=10))\n",
    "most_common = max(dtm_df[\"num_occurances\",], na.rm = TRUE)\n",
    "most_common_entry = colnames(dtm_df[which(dtm_df[\"num_occurances\",] == most_common)])\n",
    "\n",
    "print(paste0(rare, \"% of entries appear only once or twice across the corpus\"))\n",
    "print(paste(common, \"entries occur in 10 or more documents\"))\n",
    "print(paste(\"including one that occurs\", most_common, \"times across the\", rows_to_sum, \"documents\"))\n",
    "print(paste(\"The most common entry is\", most_common_entry))"
   ]
  },
  {
   "cell_type": "code",
   "execution_count": 12,
   "metadata": {
    "collapsed": false
   },
   "outputs": [
    {
     "data": {
      "text/plain": [
       " [1] \"al.hoe.n\"                      \"allanum.oak.n\"                \n",
       " [3] \"dilim.spoon.n\"                 \"e.house.n_gigir.chariot.n\"    \n",
       " [5] \"ellag.ball.n\"                  \"gigir.chariot.n\"              \n",
       " [7] \"guza.chair.n_x.na.na\"          \"hašhur.apple.n\"               \n",
       " [9] \"hašhur.apple.n_kur.mountain.n\" \"kid.da.twig.n\"                \n",
       "[11] \"kur.wood.n\"                    \"madal.pole.n\"                 \n",
       "[13] \"peš.fig.n\"                     \"sugin.rot.n\"                  \n",
       "[15] \"x.x.na.na\"                     \"x.na.na\"                      \n",
       "[17] \"x.na.na_ŋešnimbar.palm.n\"      \"X.ŋeš.kal.na.na\"              \n",
       "[19] \"X.ŋeš.x.x.x.na.na\"             \"X.ŋeš.x.x.na.na\"              \n",
       "[21] \"X.ŋeš.x.na.na\"                 \"X.ŋeš.x.na.na_apin.plow.n\"    \n",
       "[23] \"šagkal.tree.n\"                 \"šedug.tree.n\"                 \n",
       "[25] \"šenu.tree.n\"                  \n"
      ]
     },
     "metadata": {},
     "output_type": "display_data"
    }
   ],
   "source": [
    "%%R \n",
    "# Look at some of the most common entries\n",
    "colnames(dtm_df)[which(dtm_df[\"num_occurances\",] >= 10)]"
   ]
  },
  {
   "cell_type": "code",
   "execution_count": 13,
   "metadata": {
    "collapsed": false
   },
   "outputs": [],
   "source": [
    "%%R \n",
    "\n",
    "# currently \"variables\" (entries) are sorted alphabetically, would like sorted by frequency\n",
    "dtm_df = as.matrix((dtm_df > 0) + 0) # Converts to binary presence/absence information\n",
    "dtm_df = dtm_df[,order(colSums(dtm_df), decreasing = TRUE)]\n",
    "dtm_df = as.data.frame(dtm_df)"
   ]
  },
  {
   "cell_type": "code",
   "execution_count": 14,
   "metadata": {
    "collapsed": false
   },
   "outputs": [
    {
     "data": {
      "text/plain": [
       "[1] \"1547 entries appear in only one document\"\n",
       "[1] \"The entry that appears in the most documents is X.ŋeš.x.na.na\"\n",
       "num_occurances\n",
       "   1    2    3    4    5    6    7    8    9   10   11   12   21 <NA> \n",
       "1547  270  169  118   69   56   26   25    8    7    4    1    1    1 \n"
      ]
     },
     "metadata": {},
     "output_type": "display_data"
    }
   ],
   "source": [
    "%%R \n",
    "\n",
    "# Need to recaculate number of occurances, as was converted to binary. \n",
    "dtm_df$num_entries = rowSums(dtm_df[1:cols_to_sum])\n",
    "dtm_df[\"num_occurances\",] = colSums(dtm_df[1:rows_to_sum,])\n",
    "dtm_df[\"num_occurances\",\"num_entries\"] = NA \n",
    "\n",
    "num_occurances = unlist(dtm_df[\"num_occurances\",])\n",
    "most_frequent = max(num_occurances, na.rm = TRUE)\n",
    "most_frequent_entry = colnames(dtm_df[which(dtm_df[\"num_occurances\",] == most_frequent)])\n",
    "\n",
    "print(paste(table(num_occurances)[1], \"entries appear in only one document\"))\n",
    "print(paste(\"The entry that appears in the most documents is\", most_frequent_entry))\n",
    "\n",
    "table(num_occurances, useNA = \"ifany\")\n"
   ]
  },
  {
   "cell_type": "code",
   "execution_count": 15,
   "metadata": {
    "collapsed": false
   },
   "outputs": [
    {
     "data": {
      "text/plain": [
       " [1] \"X.ŋeš.x.na.na\"                 \"al.hoe.n\"                     \n",
       " [3] \"hašhur.apple.n\"                \"hašhur.apple.n_kur.mountain.n\"\n",
       " [5] \"peš.fig.n\"                     \"šedug.tree.n\"                 \n",
       " [7] \"allanum.oak.n\"                 \"dilim.spoon.n\"                \n",
       " [9] \"e.house.n_gigir.chariot.n\"     \"gigir.chariot.n\"              \n",
       "[11] \"X.ŋeš.x.x.na.na\"               \"šagkal.tree.n\"                \n",
       "[13] \"šenu.tree.n\"                  \n"
      ]
     },
     "metadata": {},
     "output_type": "display_data"
    }
   ],
   "source": [
    "%%R\n",
    "# These entries appear in at least 10 different documents.\n",
    "colnames(dtm_df)[which(dtm_df[\"num_occurances\",] >=10)]"
   ]
  },
  {
   "cell_type": "code",
   "execution_count": 16,
   "metadata": {
    "collapsed": false
   },
   "outputs": [],
   "source": [
    "%%R\n",
    "dtm_df$document = row.names(dtm_df) #add document names as row names\n",
    "dtm_df = dtm_df[-which(row.names(dtm_df) == \"num_occurances\"),] # remove num_occurances row"
   ]
  },
  {
   "cell_type": "code",
   "execution_count": 17,
   "metadata": {
    "collapsed": false
   },
   "outputs": [
    {
     "name": "stderr",
     "output_type": "stream",
     "text": [
      "//anaconda/lib/python3.5/site-packages/rpy2/rinterface/__init__.py:186: RRuntimeWarning: Using document as id variables\n",
      "\n",
      "  warnings.warn(x, RRuntimeWarning)\n"
     ]
    },
    {
     "data": {
      "text/plain": [
       "  document      variable value\n",
       "1  P117395 X.ŋeš.x.na.na     0\n",
       "2  P117404 X.ŋeš.x.na.na     0\n",
       "3  P128345 X.ŋeš.x.na.na     0\n",
       "4  P224980 X.ŋeš.x.na.na     0\n",
       "5  P224986 X.ŋeš.x.na.na     0\n",
       "6  P224994 X.ŋeš.x.na.na     0\n"
      ]
     },
     "metadata": {},
     "output_type": "display_data"
    }
   ],
   "source": [
    "%%R\n",
    "\n",
    "#install.packages(\"reshape\")\n",
    "library(reshape)\n",
    "\n",
    "melted_dtm_df = melt(dtm_df)\n",
    "head(melted_dtm_df)"
   ]
  },
  {
   "cell_type": "code",
   "execution_count": 18,
   "metadata": {
    "collapsed": false
   },
   "outputs": [],
   "source": [
    "%%R \n",
    "# http://stackoverflow.com/questions/10397183/heat-map-of-binary-data-using-r-or-python\n",
    "#install.packages(\"ggplot2\")\n",
    "library(ggplot2)\n",
    "# ggplot(data = melted_dtm_df[150000:160474,], aes(y=document, x=variable, fill=value)) + \n",
    "#   geom_tile() +\n",
    "#   theme(axis.text.x = element_text(angle = 90, hjust = 1, size = 5))\n",
    "\n",
    "#qplot(data=melted_dtm_df, x=variable,y=document, fill=factor(value),\n",
    "#    geom=\"tile\")+scale_fill_manual(values=c(\"0\"=\"lightblue\", \"1\"=\"red\")) +\n",
    "#  theme(axis.text.x = element_text(angle = 90, hjust = 1, size = 1), axis.text.y = element_text(size = 3))\n",
    "\n",
    "# Look at a subset\n",
    "# qplot(data = melted_dtm_df[1:10000,], x=variable, y=document, fill=factor(value),\n",
    "#     geom=\"tile\")+scale_fill_manual(values=c(\"0\"=\"lightblue\", \"1\"=\"red\")) +\n",
    "# theme(axis.text.x = element_text(angle = 90, hjust = 1, size = 8), axis.text.y = element_text(size = 5))\n"
   ]
  },
  {
   "cell_type": "markdown",
   "metadata": {
    "collapsed": true
   },
   "source": [
    "# Grouping Documents by Entry Similarity  \n",
    "We can use hierarchical clustering with our presence/absence matrix to uncover groups of similar documents. Ideally, we can benchmark these clusters' accuracy in uncovering geographically or chronologically related documents by looking at metadata, but for this collection the metadata may be too sparse to do that benchmarking.  \n",
    "\n",
    "In either case, we can establish a workflow for doing hierarchical clustering and apply that to other datasets with better provenance information to test for cluster utility.  "
   ]
  },
  {
   "cell_type": "markdown",
   "metadata": {},
   "source": [
    "Troubleshooting note:  \n",
    "When running R as a magic within Jupyter notebook, running install.packages() leads to the notebook prompting you for a selection. It turns out that this is due to the fact that anaconda actually installs a second R installation and stores installed packages separately from the users \"main\" R installation.  \n",
    "\n",
    "To avoid this issue, run '.libPaths()' within R in your console to find the path where anaconda stores your packages. You can then download binaries from CRAN and put them in that directory. "
   ]
  },
  {
   "cell_type": "code",
   "execution_count": 19,
   "metadata": {
    "collapsed": false
   },
   "outputs": [],
   "source": [
    "# %%R \n",
    "# See Troubleshooting note above\n",
    "\n",
    "#install.packages(\"ggdendro\")\n",
    "# install.packages(\"ggdendro\", \"/anaconda/lib/R/library\")"
   ]
  },
  {
   "cell_type": "code",
   "execution_count": 20,
   "metadata": {
    "collapsed": false
   },
   "outputs": [],
   "source": [
    "%%R\n",
    "library(ggdendro)\n",
    "clusters <- hclust(dist(dtm_df))"
   ]
  },
  {
   "cell_type": "code",
   "execution_count": 21,
   "metadata": {
    "collapsed": false
   },
   "outputs": [
    {
     "data": {
      "image/png": "[encoded data removed]"
     },
     "metadata": {},
     "output_type": "display_data"
    }
   ],
   "source": [
    "%%R\n",
    "ggdendrogram(clusters, rotate = TRUE) + theme(axis.text.y = element_text(size = 8))"
   ]
  },
  {
   "cell_type": "markdown",
   "metadata": {},
   "source": [
    "# Note By Niek on metadata\n",
    "For the metadata it is better to use `data/metadata/dcclt-eta.csv` and select the relevant records by `id_text`. This is because the notebook `metadata.ipynb` can recreate that file when corrections have been made and because in the future we may be working with a larger selection of texts."
   ]
  },
  {
   "cell_type": "code",
   "execution_count": 22,
   "metadata": {
    "collapsed": false
   },
   "outputs": [
    {
     "data": {
      "text/plain": [
       "  designation   period provenience document\n",
       "1   W 06435,a Uruk III        Uruk  P000001\n",
       "2   W 06435,b Uruk III        Uruk  P000002\n",
       "3   W 09123,d  Uruk IV        Uruk  P000003\n",
       "4   W 09169,d  Uruk IV        Uruk  P000004\n",
       "5   W 09206,k  Uruk IV        Uruk  P000005\n",
       "6  W 09656,h1  Uruk IV        Uruk  P000006\n"
      ]
     },
     "metadata": {},
     "output_type": "display_data"
    }
   ],
   "source": [
    "%%R \n",
    "# Bring in metadata\n",
    "ids = read.csv(\"../data/metadata/dcclt_meta.csv\")\n",
    "ids$document = ids$X\n",
    "ids$X = NULL\n",
    "head(ids)"
   ]
  },
  {
   "cell_type": "code",
   "execution_count": 89,
   "metadata": {
    "collapsed": false
   },
   "outputs": [
    {
     "data": {
      "text/plain": [
       "\n",
       "       Isin        Kish    Nerebtum      Nippur not entered   Shaduppum \n",
       "         10           1           1           2          27           1 \n",
       "  uncertain     unclear          Ur        Uruk \n",
       "         38          16           8           2 \n"
      ]
     },
     "metadata": {},
     "output_type": "display_data"
    }
   ],
   "source": [
    "%%R\n",
    "# Add provenance information to dtm_df\n",
    "dtm_df = merge(dtm_df, ids, by = \"document\")\n",
    "dtm_df$provenience = droplevels(dtm_df)$provenience\n",
    "table(dtm_df$provenience)"
   ]
  },
  {
   "cell_type": "code",
   "execution_count": 114,
   "metadata": {
    "collapsed": false
   },
   "outputs": [
    {
     "data": {
      "text/plain": [
       " [1] \"Isin\"        \"Kish\"        \"Nerebtum\"    \"Nippur\"      \"not entered\"\n",
       " [6] \"Shaduppum\"   \"uncertain\"   \"unclear\"     \"Ur\"          \"Uruk\"       \n"
      ]
     },
     "metadata": {},
     "output_type": "display_data"
    },
    {
     "data": {
      "image/png": "[encoded data removed]"
     },
     "metadata": {},
     "output_type": "display_data"
    },
    {
     "data": {
      "image/png": "[encoded data removed]"
     },
     "metadata": {},
     "output_type": "display_data"
    }
   ],
   "source": [
    "%%R\n",
    "\n",
    "# Add colors to dendrogram by provenance\n",
    "library(scales)\n",
    "numColors = length(levels(factor(dtm_df$provenience)))\n",
    "numColors\n",
    "myPalette = brewer_pal(palette = \"Set3\")(numColors)\n",
    "names(myPalette) = levels(dtm_df$provenience)\n",
    "print(names(myPalette))\n",
    "show_col(myPalette)\n",
    "ggdendrogram(clusters, rotate = TRUE) + theme(axis.text.y = element_text(size = 8, color = myPalette[dtm_df$provenience]))\n"
   ]
  },
  {
   "cell_type": "code",
   "execution_count": null,
   "metadata": {
    "collapsed": true
   },
   "outputs": [],
   "source": []
  }
 ],
 "metadata": {
  "anaconda-cloud": {},
  "kernelspec": {
   "display_name": "Python [conda root]",
   "language": "python",
   "name": "conda-root-py"
  },
  "language_info": {
   "codemirror_mode": {
    "name": "ipython",
    "version": 3
   },
   "file_extension": ".py",
   "mimetype": "text/x-python",
   "name": "python",
   "nbconvert_exporter": "python",
   "pygments_lexer": "ipython3",
   "version": "3.5.2"
  }
 },
 "nbformat": 4,
 "nbformat_minor": 2
}
