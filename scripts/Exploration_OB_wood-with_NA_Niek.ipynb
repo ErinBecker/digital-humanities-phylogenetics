{
 "cells": [
  {
   "cell_type": "markdown",
   "metadata": {},
   "source": [
    "# Old Babylonian Lists of Trees and Wooden Objects"
   ]
  },
  {
   "cell_type": "markdown",
   "metadata": {},
   "source": [
    "## Introduction to research questions and analysis plan\n",
    "\n",
    "We are interested in understanding relationships among extant versions of lexical texts. Patterns in similarity of these texts may provide important information about text provenance and/or routes of influence from one geographical area onto another. \n",
    "\n",
    "We are also interested in understanding the patterns by which lexical texts evolved and changed. \n",
    "\n",
    "In comparing versions of a lexical text we may think of four types of features: \n",
    "\n",
    "1) presence or absence of entries  \n",
    "2) order of entries within a section  \n",
    "3) order of sections in a document  \n",
    "4) spelling of words  \n",
    "\n",
    "The following sections will explore these four features independently and in combination to uncover patterns of similarity among documents."
   ]
  },
  {
   "cell_type": "markdown",
   "metadata": {},
   "source": [
    "## Introduction to dataset and data structure\n",
    "\n",
    "This notebook uses data from [DCCLT](http://oracc.org/dcclt) derived from parsed JSON files. For the [ORACC](http://oracc.org) JSON output see the [ORACC Open Data documentation](http://oracc.museum.upenn.edu/doc/opendata/index.html). The JSON files are parsed with the notebook `json_corpus.iynb` in https://github.com/niekveldhuis/JSON-test. This notebook takes an input file, identifying the text IDs of the documents to be parsed. The input file is [ob_lists_wood.txt](https://github.com/ErinBecker/digital-humanities-phylogenetics/blob/master/data/text_ids/ob_lists_wood.txt). \n",
    "\n",
    "The input file lists all the Text IDs of Old Babylonian lists of trees and wooden objects currently in [DCCLT](http://oracc.org/dcclt), as well as the composite text of the [Nippur version](http://oracc.org/Q000039). Text IDs consist of a P plus a six-digit number (commonly referred to as P-number) that is recognized by [ORACC](http://oracc.org) and by [CDLI](http://cdli.ucla.edu) and that has become the de-facto standard in Assyriology. [CDLI](http://cdli.ucla.edu) provides metadata (provenience, period, publication, museum number, etc) for each text. Composite text IDs consist of a Q plus a six-digit number (for instance Q000039). Texts that have not (yet) been cataloged in [CDLI](http://cdli.ucla.edu) receive a (temporary) six-digit X number.\n",
    "\n",
    "The raw data are placed in the directory [data/raw](https://github.com/ErinBecker/digital-humanities-phylogenetics/tree/master/data/raw). Each document has a separate file named dcclt_P######.txt (or dcclt_Q######.txt). These are comma-separated files with the following fields: \n",
    "\n",
    "| field         | description                     |\n",
    "|-----------\t|------------------------------------------------------------------------------------------------------------------------------------------------------\t|\n",
    "| id_line   \t| consists of a text ID (P, Q, or X numebr) plus a reference number \t|\n",
    "| label \t| line number: obverse/reverse, column number, line number (e.g. o ii 16')                                                          \t|\n",
    "| lemma      \t| Sumerian words in lemmatized form (e.g. lugal[king]N); for unlemmatized words the raw transliteration is taken                                                                                  \t|\n",
    "| base      \t| Sumerian words in original spelling, but without morphological prefixes or suffixes   |\n",
    "| extent | (for missing data): how many lines or columns (restricted vocabulary) are missing|\n",
    "| scope | (for missing data): what is missing - line, column, face, or surface (restricted vocabulary) |\n",
    "\n",
    "There are various types of missing data, represented in different ways. A word that is present, but not lemmatized is represented in its transliterated form, followed by [NA]NA (that is: Guideword and POS are both NA). Words that are partly or entirely illegible on the original document are by definition unlemmatized and are handled the same way.\n",
    "\n",
    "Lines or multiple lines that are missing are indicated in the fields `extent` and `scope`. `Extent` gives the number of missing lines (or missing columns, etc). The restricted vocabulary includes numbers and the words 'n' (unknown), 'beginning', and 'rest'. `Scope` indicates the scope of the missing text: line, column, obverse, etc.\n",
    "\n",
    "| type         | how represented                     |\n",
    "|-----------\t|------------------------------------------------------------------------------------------------------------------------------------------------------\t|\n",
    "| words with unknown lemmatization| siki-siki[NA]NA |\n",
    "| illegible words | x[NA]NA |\n",
    "| known number of missing lines \t|extent: '5' scope: 'line' |\n",
    "| unknown number of missing lines\t|extent: 'n' scope: 'line |\n",
    "| two missing columns  | extent: '2' scope: 'column'|\n",
    "  \n"
   ]
  },
  {
   "cell_type": "code",
   "execution_count": 1,
   "metadata": {
    "collapsed": true
   },
   "outputs": [],
   "source": [
    "import pandas as pd\n",
    "import numpy as np\n",
    "import re"
   ]
  },
  {
   "cell_type": "code",
   "execution_count": 2,
   "metadata": {
    "collapsed": false
   },
   "outputs": [],
   "source": [
    "import rpy2.ipython\n",
    "%load_ext rpy2.ipython"
   ]
  },
  {
   "cell_type": "markdown",
   "metadata": {},
   "source": [
    "# Reading in and structuring the data\n",
    "Open file `obwood.csv` and create a Dataframe in Pandas. "
   ]
  },
  {
   "cell_type": "code",
   "execution_count": 3,
   "metadata": {
    "collapsed": false
   },
   "outputs": [],
   "source": [
    "file = '../data/composites.csv'\n",
    "#file = '../data/ob_lists_wood.csv'\n",
    "df = pd.read_csv(file).drop('Unnamed: 0', axis=1)"
   ]
  },
  {
   "cell_type": "code",
   "execution_count": 4,
   "metadata": {
    "collapsed": false
   },
   "outputs": [
    {
     "data": {
      "text/html": [
       "<div>\n",
       "<table border=\"1\" class=\"dataframe\">\n",
       "  <thead>\n",
       "    <tr style=\"text-align: right;\">\n",
       "      <th></th>\n",
       "      <th>id_line</th>\n",
       "      <th>label</th>\n",
       "      <th>lemma</th>\n",
       "      <th>base</th>\n",
       "      <th>extent</th>\n",
       "      <th>scope</th>\n",
       "    </tr>\n",
       "  </thead>\n",
       "  <tbody>\n",
       "    <tr>\n",
       "      <th>0</th>\n",
       "      <td>Q000001.1</td>\n",
       "      <td>1</td>\n",
       "      <td>udu[sheep]N niga[fattened]V/i</td>\n",
       "      <td>udu niga</td>\n",
       "      <td>NaN</td>\n",
       "      <td>NaN</td>\n",
       "    </tr>\n",
       "    <tr>\n",
       "      <th>1</th>\n",
       "      <td>Q000001.10</td>\n",
       "      <td>10</td>\n",
       "      <td>udu[sheep]N aslum[sheep]N niga[fattened]V/i sa...</td>\n",
       "      <td>udu aslumₓ(|A.LUM|) niga sag₁₀</td>\n",
       "      <td>NaN</td>\n",
       "      <td>NaN</td>\n",
       "    </tr>\n",
       "    <tr>\n",
       "      <th>2</th>\n",
       "      <td>Q000001.100</td>\n",
       "      <td>100</td>\n",
       "      <td>udu[sheep]N mašanše[animals]N</td>\n",
       "      <td>udu maš₂-anše</td>\n",
       "      <td>NaN</td>\n",
       "      <td>NaN</td>\n",
       "    </tr>\n",
       "    <tr>\n",
       "      <th>3</th>\n",
       "      <td>Q000001.101</td>\n",
       "      <td>101</td>\n",
       "      <td>udu[sheep]N babbar[white]V/i</td>\n",
       "      <td>udu babbar</td>\n",
       "      <td>NaN</td>\n",
       "      <td>NaN</td>\n",
       "    </tr>\n",
       "    <tr>\n",
       "      <th>4</th>\n",
       "      <td>Q000001.102</td>\n",
       "      <td>102</td>\n",
       "      <td>udu[sheep]N giggi[black]V/i</td>\n",
       "      <td>udu giggi</td>\n",
       "      <td>NaN</td>\n",
       "      <td>NaN</td>\n",
       "    </tr>\n",
       "  </tbody>\n",
       "</table>\n",
       "</div>"
      ],
      "text/plain": [
       "       id_line label                                              lemma  \\\n",
       "0    Q000001.1     1                      udu[sheep]N niga[fattened]V/i   \n",
       "1   Q000001.10    10  udu[sheep]N aslum[sheep]N niga[fattened]V/i sa...   \n",
       "2  Q000001.100   100                      udu[sheep]N mašanše[animals]N   \n",
       "3  Q000001.101   101                       udu[sheep]N babbar[white]V/i   \n",
       "4  Q000001.102   102                        udu[sheep]N giggi[black]V/i   \n",
       "\n",
       "                             base extent scope  \n",
       "0                        udu niga    NaN   NaN  \n",
       "1  udu aslumₓ(|A.LUM|) niga sag₁₀    NaN   NaN  \n",
       "2                   udu maš₂-anše    NaN   NaN  \n",
       "3                      udu babbar    NaN   NaN  \n",
       "4                       udu giggi    NaN   NaN  "
      ]
     },
     "execution_count": 4,
     "metadata": {},
     "output_type": "execute_result"
    }
   ],
   "source": [
    "df.head()"
   ]
  },
  {
   "cell_type": "markdown",
   "metadata": {},
   "source": [
    "## id_text and line\n",
    "The variable `id_line` contains the text ID plus a reference. The reference may be to a column, a line, or a set of broken lines. The text ID is put in the variable `id_text` and the reference is turned into an integer and put in the variable `line`. The variables `id_text` and `line` are then used to sort the dataframe."
   ]
  },
  {
   "cell_type": "code",
   "execution_count": 5,
   "metadata": {
    "collapsed": false
   },
   "outputs": [
    {
     "data": {
      "text/html": [
       "<div>\n",
       "<table border=\"1\" class=\"dataframe\">\n",
       "  <thead>\n",
       "    <tr style=\"text-align: right;\">\n",
       "      <th></th>\n",
       "      <th>id_line</th>\n",
       "      <th>label</th>\n",
       "      <th>lemma</th>\n",
       "      <th>base</th>\n",
       "      <th>extent</th>\n",
       "      <th>scope</th>\n",
       "      <th>id_text</th>\n",
       "      <th>line</th>\n",
       "    </tr>\n",
       "  </thead>\n",
       "  <tbody>\n",
       "    <tr>\n",
       "      <th>0</th>\n",
       "      <td>Q000001.1</td>\n",
       "      <td>1</td>\n",
       "      <td>udu[sheep]N niga[fattened]V/i</td>\n",
       "      <td>udu niga</td>\n",
       "      <td>NaN</td>\n",
       "      <td>NaN</td>\n",
       "      <td>Q000001</td>\n",
       "      <td>1</td>\n",
       "    </tr>\n",
       "    <tr>\n",
       "      <th>1</th>\n",
       "      <td>Q000001.2</td>\n",
       "      <td>2</td>\n",
       "      <td>udu[sheep]N niga[fattened]V/i sag[rare]V/i</td>\n",
       "      <td>udu niga sag₁₀</td>\n",
       "      <td>NaN</td>\n",
       "      <td>NaN</td>\n",
       "      <td>Q000001</td>\n",
       "      <td>2</td>\n",
       "    </tr>\n",
       "    <tr>\n",
       "      <th>2</th>\n",
       "      <td>Q000001.3</td>\n",
       "      <td>3</td>\n",
       "      <td>udu[sheep]N niga[fattened]V/i ŋirgul[~wool]N</td>\n",
       "      <td>udu niga ŋir₂-gu-la</td>\n",
       "      <td>NaN</td>\n",
       "      <td>NaN</td>\n",
       "      <td>Q000001</td>\n",
       "      <td>3</td>\n",
       "    </tr>\n",
       "    <tr>\n",
       "      <th>3</th>\n",
       "      <td>Q000001.4</td>\n",
       "      <td>4</td>\n",
       "      <td>udu[sheep]N nita[male]N</td>\n",
       "      <td>udu nita₂</td>\n",
       "      <td>NaN</td>\n",
       "      <td>NaN</td>\n",
       "      <td>Q000001</td>\n",
       "      <td>4</td>\n",
       "    </tr>\n",
       "    <tr>\n",
       "      <th>4</th>\n",
       "      <td>Q000001.5</td>\n",
       "      <td>5</td>\n",
       "      <td>udu[sheep]N nita[male]N ŋešdu[breeder]N</td>\n",
       "      <td>udu nita₂ ŋeš-du₃-a</td>\n",
       "      <td>NaN</td>\n",
       "      <td>NaN</td>\n",
       "      <td>Q000001</td>\n",
       "      <td>5</td>\n",
       "    </tr>\n",
       "  </tbody>\n",
       "</table>\n",
       "</div>"
      ],
      "text/plain": [
       "     id_line label                                         lemma  \\\n",
       "0  Q000001.1     1                 udu[sheep]N niga[fattened]V/i   \n",
       "1  Q000001.2     2    udu[sheep]N niga[fattened]V/i sag[rare]V/i   \n",
       "2  Q000001.3     3  udu[sheep]N niga[fattened]V/i ŋirgul[~wool]N   \n",
       "3  Q000001.4     4                       udu[sheep]N nita[male]N   \n",
       "4  Q000001.5     5       udu[sheep]N nita[male]N ŋešdu[breeder]N   \n",
       "\n",
       "                  base extent scope  id_text  line  \n",
       "0             udu niga    NaN   NaN  Q000001     1  \n",
       "1       udu niga sag₁₀    NaN   NaN  Q000001     2  \n",
       "2  udu niga ŋir₂-gu-la    NaN   NaN  Q000001     3  \n",
       "3            udu nita₂    NaN   NaN  Q000001     4  \n",
       "4  udu nita₂ ŋeš-du₃-a    NaN   NaN  Q000001     5  "
      ]
     },
     "execution_count": 5,
     "metadata": {},
     "output_type": "execute_result"
    }
   ],
   "source": [
    "df['id_text'] = df['id_line'].str[:7]\n",
    "df['line'] = [int(re.sub('.+\\.', '', line)) for line in df['id_line']] #create a line number for sorting\n",
    "df = df.sort_values(['id_text', 'line']).reset_index(drop=True)\n",
    "df.head()"
   ]
  },
  {
   "cell_type": "markdown",
   "metadata": {},
   "source": [
    "## The `skip` variable\n",
    "\n",
    "The variable `skip` is used to compute the distance between two lines in the data set. If a line has data (in `label`, `lemma`, and `base`) `skip` = 0. If, however, the original text has 5 missing lines, there will be a separate row, where `skip` is 5. If there is a gap in the text of unknown length, `skip` will be NaN.\n",
    "\n",
    "The `skip` variable works as follows (simplified data representation):\n",
    "\n",
    "|`label` | `lemma` | `skip` | `line`\n",
    "|--------|----------|--------|------|\n",
    "| o ii 4 | gigir[chariot]N    | 0| 43 |\n",
    "| o ii 5 | sahargi[dustguard]N gigir[chariot]N | 0| 44 |\n",
    "| NaN     | NAN     | 5 | 45 |\n",
    "| o ii 11 | margida[wagon]N | 0| 46 |\n",
    "\n",
    "\n",
    "The distance between the `margida[wagon]N` line and the `gigir[chariot]N` line is 7 (`line`₂ - `line`₁ + `skip`₁:₂ -1).\n",
    "\n",
    "The variable `skip` is computed from the [ORACC](http://oracc.org) variables `extent` and `scope`, which are part of the so-called \\$-line conventions. These conventions are explained in more detail [here](http://oracc.org/doc/help/editinginatf/primer/structuretutorial). A 'strict' \\$-line uses a limited vocabulary to describe the preservation or state of the object on which the text is written. Examples of strict \\$-lines are:,\n",
    "* \\$ beginning of column missing\n",
    "* \\$ 7 lines traces\n",
    "\n",
    "In these examples '7' and 'beginning' are the `extent`; 'column' and 'line' are `scope` ('missing' and 'traces' are `state`. The variable 'state' is ignored here - treating 'missing', 'broken', 'traces', etc. all as absence of data).\n",
    "\n",
    "If lines are missing the `extent` variable will indicate the number of missing lines or columns. A line with data has `extent` NaN.\n",
    "\n",
    "The variable `skip` is computed as follows:\n",
    "\n",
    "* if the line has data (in `label`, `lemma`, and `base`) `skip` = 0\n",
    "* if `scope` == 'column', or anything other than 'line', `skip` = NaN\n",
    "* if `extent` is a digit, `skip` is the integer version of that digit\n",
    "* if `extent` is 'n' or 'beginning' (or anything other than a digit), `skip` = NaN\n",
    "\n",
    "Because NaN cannot be used in a column of integers, `skip` will become a float.\n",
    "\n",
    "## Note to Erin\n",
    "\n",
    "I am proposing here to introduce a new variable `skip` (rather than adjust the variable `extent`). I think that is clearer to outsiders (and to our future selves). I hope the explanation of how it is done is also clearer. I haven't actually done what I describe here - because it would mess with your datastructure. Essentially, everything remains exactly the same, but what was called `extent` will now be called `skip`. Note that the formula for line distance needs more thought. The number of rows that have some `skip` value needs to be subtracted - there should be some smart way of doing that.\n",
    "\n",
    "We could, of course, use `999` instead of `NaN` for `skip` - but I prefer to use `NaN` here and to present the change to `999` as a feature of handing the data off to R."
   ]
  },
  {
   "cell_type": "code",
   "execution_count": 6,
   "metadata": {
    "collapsed": false
   },
   "outputs": [],
   "source": [
    "df.extent = df.extent.fillna('0')\n",
    "df['skip'] = [int(n) if n.isdigit() else np.NaN for n in df.extent] # this line to be activated to introduce `skip`\n",
    "#df.extent = [int(n) if n.isdigit() else np.NaN for n in df.extent] # this line to be deleted when we introduce `skip`."
   ]
  },
  {
   "cell_type": "markdown",
   "metadata": {},
   "source": [
    "The variable `scope` may include 'line', 'column', 'obverse', etc. Only if scope is `line` the variable 'extent' is meaningful (if, say, 2 columns are missing, 'extent' is '2' but should be NaN because we do not know how many lines those 2 columns represent). If `scope` is NaN `extent` is '0' and should remain so. After this operation the column 'scope' can be dropped."
   ]
  },
  {
   "cell_type": "code",
   "execution_count": 7,
   "metadata": {
    "collapsed": false
   },
   "outputs": [
    {
     "data": {
      "text/html": [
       "<div>\n",
       "<table border=\"1\" class=\"dataframe\">\n",
       "  <thead>\n",
       "    <tr style=\"text-align: right;\">\n",
       "      <th></th>\n",
       "      <th>id_line</th>\n",
       "      <th>label</th>\n",
       "      <th>lemma</th>\n",
       "      <th>base</th>\n",
       "      <th>id_text</th>\n",
       "      <th>line</th>\n",
       "      <th>skip</th>\n",
       "    </tr>\n",
       "  </thead>\n",
       "  <tbody>\n",
       "    <tr>\n",
       "      <th>0</th>\n",
       "      <td>Q000001.1</td>\n",
       "      <td>1</td>\n",
       "      <td>udu[sheep]N niga[fattened]V/i</td>\n",
       "      <td>udu niga</td>\n",
       "      <td>Q000001</td>\n",
       "      <td>1</td>\n",
       "      <td>0.0</td>\n",
       "    </tr>\n",
       "    <tr>\n",
       "      <th>1</th>\n",
       "      <td>Q000001.2</td>\n",
       "      <td>2</td>\n",
       "      <td>udu[sheep]N niga[fattened]V/i sag[rare]V/i</td>\n",
       "      <td>udu niga sag₁₀</td>\n",
       "      <td>Q000001</td>\n",
       "      <td>2</td>\n",
       "      <td>0.0</td>\n",
       "    </tr>\n",
       "    <tr>\n",
       "      <th>2</th>\n",
       "      <td>Q000001.3</td>\n",
       "      <td>3</td>\n",
       "      <td>udu[sheep]N niga[fattened]V/i ŋirgul[~wool]N</td>\n",
       "      <td>udu niga ŋir₂-gu-la</td>\n",
       "      <td>Q000001</td>\n",
       "      <td>3</td>\n",
       "      <td>0.0</td>\n",
       "    </tr>\n",
       "    <tr>\n",
       "      <th>3</th>\n",
       "      <td>Q000001.4</td>\n",
       "      <td>4</td>\n",
       "      <td>udu[sheep]N nita[male]N</td>\n",
       "      <td>udu nita₂</td>\n",
       "      <td>Q000001</td>\n",
       "      <td>4</td>\n",
       "      <td>0.0</td>\n",
       "    </tr>\n",
       "    <tr>\n",
       "      <th>4</th>\n",
       "      <td>Q000001.5</td>\n",
       "      <td>5</td>\n",
       "      <td>udu[sheep]N nita[male]N ŋešdu[breeder]N</td>\n",
       "      <td>udu nita₂ ŋeš-du₃-a</td>\n",
       "      <td>Q000001</td>\n",
       "      <td>5</td>\n",
       "      <td>0.0</td>\n",
       "    </tr>\n",
       "  </tbody>\n",
       "</table>\n",
       "</div>"
      ],
      "text/plain": [
       "     id_line label                                         lemma  \\\n",
       "0  Q000001.1     1                 udu[sheep]N niga[fattened]V/i   \n",
       "1  Q000001.2     2    udu[sheep]N niga[fattened]V/i sag[rare]V/i   \n",
       "2  Q000001.3     3  udu[sheep]N niga[fattened]V/i ŋirgul[~wool]N   \n",
       "3  Q000001.4     4                       udu[sheep]N nita[male]N   \n",
       "4  Q000001.5     5       udu[sheep]N nita[male]N ŋešdu[breeder]N   \n",
       "\n",
       "                  base  id_text  line  skip  \n",
       "0             udu niga  Q000001     1   0.0  \n",
       "1       udu niga sag₁₀  Q000001     2   0.0  \n",
       "2  udu niga ŋir₂-gu-la  Q000001     3   0.0  \n",
       "3            udu nita₂  Q000001     4   0.0  \n",
       "4  udu nita₂ ŋeš-du₃-a  Q000001     5   0.0  "
      ]
     },
     "execution_count": 7,
     "metadata": {},
     "output_type": "execute_result"
    }
   ],
   "source": [
    "df.skip = [df.skip[i] if df.scope[i] in ['line', np.NaN] else np.NaN for i in range(len(df))] # line to be activated when introducing `skip`\n",
    "#df.extent = [df.extent[i] if df.scope[i] in ['line', np.NaN] else np.NaN for i in range(len(df))] # line to be deleted when introducing `skip`\n",
    "df = df.drop(['scope', 'extent'], axis=1)\n",
    "df.head()"
   ]
  },
  {
   "cell_type": "code",
   "execution_count": 8,
   "metadata": {
    "collapsed": false
   },
   "outputs": [
    {
     "data": {
      "text/html": [
       "<div>\n",
       "<table border=\"1\" class=\"dataframe\">\n",
       "  <thead>\n",
       "    <tr style=\"text-align: right;\">\n",
       "      <th></th>\n",
       "      <th>id_line</th>\n",
       "      <th>label</th>\n",
       "      <th>lemma</th>\n",
       "      <th>base</th>\n",
       "      <th>id_text</th>\n",
       "      <th>line</th>\n",
       "      <th>skip</th>\n",
       "    </tr>\n",
       "  </thead>\n",
       "  <tbody>\n",
       "    <tr>\n",
       "      <th>80</th>\n",
       "      <td>Q000001.81</td>\n",
       "      <td>81</td>\n",
       "      <td>udu[sheep]N šuduʾa[guarantee]N</td>\n",
       "      <td>udu šu-du₈-a</td>\n",
       "      <td>Q000001</td>\n",
       "      <td>81</td>\n",
       "      <td>0.0</td>\n",
       "    </tr>\n",
       "    <tr>\n",
       "      <th>81</th>\n",
       "      <td>Q000001.82</td>\n",
       "      <td>82</td>\n",
       "      <td>udu[sheep]N šu[hand]N saŋ[head]N dug[speak]V/t</td>\n",
       "      <td>udu šu saŋ dug₄</td>\n",
       "      <td>Q000001</td>\n",
       "      <td>82</td>\n",
       "      <td>0.0</td>\n",
       "    </tr>\n",
       "    <tr>\n",
       "      <th>82</th>\n",
       "      <td>Q000001.83</td>\n",
       "      <td>83</td>\n",
       "      <td>udu[sheep]N zilkum[~animal]N</td>\n",
       "      <td>udu zi-il-kum</td>\n",
       "      <td>Q000001</td>\n",
       "      <td>83</td>\n",
       "      <td>0.0</td>\n",
       "    </tr>\n",
       "    <tr>\n",
       "      <th>83</th>\n",
       "      <td>Q000001.84</td>\n",
       "      <td>84</td>\n",
       "      <td>udu[sheep]N terzum[presentation]N</td>\n",
       "      <td>udu te-er-zum</td>\n",
       "      <td>Q000001</td>\n",
       "      <td>84</td>\n",
       "      <td>0.0</td>\n",
       "    </tr>\n",
       "    <tr>\n",
       "      <th>84</th>\n",
       "      <td>Q000001.85</td>\n",
       "      <td>85</td>\n",
       "      <td>udu[sheep]N dimma[~sheep]N</td>\n",
       "      <td>udu dimₓ(BALAŊ)-ma</td>\n",
       "      <td>Q000001</td>\n",
       "      <td>85</td>\n",
       "      <td>0.0</td>\n",
       "    </tr>\n",
       "    <tr>\n",
       "      <th>85</th>\n",
       "      <td>Q000001.86</td>\n",
       "      <td>86</td>\n",
       "      <td>udu[sheep]N sam[price]N</td>\n",
       "      <td>udu sam₂</td>\n",
       "      <td>Q000001</td>\n",
       "      <td>86</td>\n",
       "      <td>0.0</td>\n",
       "    </tr>\n",
       "    <tr>\n",
       "      <th>86</th>\n",
       "      <td>Q000001.87</td>\n",
       "      <td>87</td>\n",
       "      <td>udu[sheep]N šakanka[market]N</td>\n",
       "      <td>udu šakanka(|KI.LAM|)</td>\n",
       "      <td>Q000001</td>\n",
       "      <td>87</td>\n",
       "      <td>0.0</td>\n",
       "    </tr>\n",
       "    <tr>\n",
       "      <th>87</th>\n",
       "      <td>Q000001.88</td>\n",
       "      <td>88</td>\n",
       "      <td>udu[sheep]N siškur[prayer]N</td>\n",
       "      <td>udu siškur₂</td>\n",
       "      <td>Q000001</td>\n",
       "      <td>88</td>\n",
       "      <td>0.0</td>\n",
       "    </tr>\n",
       "    <tr>\n",
       "      <th>88</th>\n",
       "      <td>Q000001.89</td>\n",
       "      <td>89</td>\n",
       "      <td>udu[sheep]N šud[prayer]N</td>\n",
       "      <td>udu šud₃</td>\n",
       "      <td>Q000001</td>\n",
       "      <td>89</td>\n",
       "      <td>0.0</td>\n",
       "    </tr>\n",
       "    <tr>\n",
       "      <th>89</th>\n",
       "      <td>Q000001.90</td>\n",
       "      <td>90</td>\n",
       "      <td>udu[sheep]N ešeš[festival]N</td>\n",
       "      <td>udu eš₃-eš₃</td>\n",
       "      <td>Q000001</td>\n",
       "      <td>90</td>\n",
       "      <td>0.0</td>\n",
       "    </tr>\n",
       "  </tbody>\n",
       "</table>\n",
       "</div>"
      ],
      "text/plain": [
       "       id_line label                                           lemma  \\\n",
       "80  Q000001.81    81                  udu[sheep]N šuduʾa[guarantee]N   \n",
       "81  Q000001.82    82  udu[sheep]N šu[hand]N saŋ[head]N dug[speak]V/t   \n",
       "82  Q000001.83    83                    udu[sheep]N zilkum[~animal]N   \n",
       "83  Q000001.84    84               udu[sheep]N terzum[presentation]N   \n",
       "84  Q000001.85    85                      udu[sheep]N dimma[~sheep]N   \n",
       "85  Q000001.86    86                         udu[sheep]N sam[price]N   \n",
       "86  Q000001.87    87                    udu[sheep]N šakanka[market]N   \n",
       "87  Q000001.88    88                     udu[sheep]N siškur[prayer]N   \n",
       "88  Q000001.89    89                        udu[sheep]N šud[prayer]N   \n",
       "89  Q000001.90    90                     udu[sheep]N ešeš[festival]N   \n",
       "\n",
       "                     base  id_text  line  skip  \n",
       "80           udu šu-du₈-a  Q000001    81   0.0  \n",
       "81        udu šu saŋ dug₄  Q000001    82   0.0  \n",
       "82          udu zi-il-kum  Q000001    83   0.0  \n",
       "83          udu te-er-zum  Q000001    84   0.0  \n",
       "84     udu dimₓ(BALAŊ)-ma  Q000001    85   0.0  \n",
       "85               udu sam₂  Q000001    86   0.0  \n",
       "86  udu šakanka(|KI.LAM|)  Q000001    87   0.0  \n",
       "87            udu siškur₂  Q000001    88   0.0  \n",
       "88               udu šud₃  Q000001    89   0.0  \n",
       "89            udu eš₃-eš₃  Q000001    90   0.0  "
      ]
     },
     "execution_count": 8,
     "metadata": {},
     "output_type": "execute_result"
    }
   ],
   "source": [
    "#df.loc[df.skip > 0].head() #sanity check\n",
    "#df.loc[df.skip > 0].head()\n",
    "df.iloc[80:90]"
   ]
  },
  {
   "cell_type": "markdown",
   "metadata": {},
   "source": [
    "## Create Expressions\n",
    "A line in a lexical text may contain more than one word. Usually a list is divided into sections by keyword, for instance:\n",
    "\n",
    "| text                \t| translation                      \t|\n",
    "|---------------------\t|----------------------------------\t|\n",
    "| {ŋeš}gigir          \t| chariot                          \t|\n",
    "| {ŋeš}e₂ gigir       \t| chariot cabin                    \t|\n",
    "| {ŋeš}e₂ usan₃ gigir \t| storage box for the chariot whip \t|\n",
    "| {ŋeš}gaba gigir     \t| breastwork of a chariot          \t|\n",
    "\n",
    "In the comparison between different versions of the list the individual words are less interesting than the *entries*, that is: the sequence of words in a single line. In order to look at entries (rather than words), words in an entry are connected by underscores (_). Since in this case all words are in Sumerian, the language designation (sux:) is removed from the field `entry`."
   ]
  },
  {
   "cell_type": "code",
   "execution_count": 9,
   "metadata": {
    "collapsed": false
   },
   "outputs": [
    {
     "data": {
      "text/html": [
       "<div>\n",
       "<table border=\"1\" class=\"dataframe\">\n",
       "  <thead>\n",
       "    <tr style=\"text-align: right;\">\n",
       "      <th></th>\n",
       "      <th>id_line</th>\n",
       "      <th>label</th>\n",
       "      <th>lemma</th>\n",
       "      <th>base</th>\n",
       "      <th>id_text</th>\n",
       "      <th>line</th>\n",
       "      <th>skip</th>\n",
       "      <th>entry</th>\n",
       "    </tr>\n",
       "  </thead>\n",
       "  <tbody>\n",
       "    <tr>\n",
       "      <th>0</th>\n",
       "      <td>Q000001.1</td>\n",
       "      <td>1</td>\n",
       "      <td>udu[sheep]N niga[fattened]V/i</td>\n",
       "      <td>udu niga</td>\n",
       "      <td>Q000001</td>\n",
       "      <td>1</td>\n",
       "      <td>0.0</td>\n",
       "      <td>udu[sheep]N_niga[fattened]V/i</td>\n",
       "    </tr>\n",
       "    <tr>\n",
       "      <th>1</th>\n",
       "      <td>Q000001.2</td>\n",
       "      <td>2</td>\n",
       "      <td>udu[sheep]N niga[fattened]V/i sag[rare]V/i</td>\n",
       "      <td>udu niga sag₁₀</td>\n",
       "      <td>Q000001</td>\n",
       "      <td>2</td>\n",
       "      <td>0.0</td>\n",
       "      <td>udu[sheep]N_niga[fattened]V/i_sag[rare]V/i</td>\n",
       "    </tr>\n",
       "    <tr>\n",
       "      <th>2</th>\n",
       "      <td>Q000001.3</td>\n",
       "      <td>3</td>\n",
       "      <td>udu[sheep]N niga[fattened]V/i ŋirgul[~wool]N</td>\n",
       "      <td>udu niga ŋir₂-gu-la</td>\n",
       "      <td>Q000001</td>\n",
       "      <td>3</td>\n",
       "      <td>0.0</td>\n",
       "      <td>udu[sheep]N_niga[fattened]V/i_ŋirgul[~wool]N</td>\n",
       "    </tr>\n",
       "    <tr>\n",
       "      <th>3</th>\n",
       "      <td>Q000001.4</td>\n",
       "      <td>4</td>\n",
       "      <td>udu[sheep]N nita[male]N</td>\n",
       "      <td>udu nita₂</td>\n",
       "      <td>Q000001</td>\n",
       "      <td>4</td>\n",
       "      <td>0.0</td>\n",
       "      <td>udu[sheep]N_nita[male]N</td>\n",
       "    </tr>\n",
       "    <tr>\n",
       "      <th>4</th>\n",
       "      <td>Q000001.5</td>\n",
       "      <td>5</td>\n",
       "      <td>udu[sheep]N nita[male]N ŋešdu[breeder]N</td>\n",
       "      <td>udu nita₂ ŋeš-du₃-a</td>\n",
       "      <td>Q000001</td>\n",
       "      <td>5</td>\n",
       "      <td>0.0</td>\n",
       "      <td>udu[sheep]N_nita[male]N_ŋešdu[breeder]N</td>\n",
       "    </tr>\n",
       "  </tbody>\n",
       "</table>\n",
       "</div>"
      ],
      "text/plain": [
       "     id_line label                                         lemma  \\\n",
       "0  Q000001.1     1                 udu[sheep]N niga[fattened]V/i   \n",
       "1  Q000001.2     2    udu[sheep]N niga[fattened]V/i sag[rare]V/i   \n",
       "2  Q000001.3     3  udu[sheep]N niga[fattened]V/i ŋirgul[~wool]N   \n",
       "3  Q000001.4     4                       udu[sheep]N nita[male]N   \n",
       "4  Q000001.5     5       udu[sheep]N nita[male]N ŋešdu[breeder]N   \n",
       "\n",
       "                  base  id_text  line  skip  \\\n",
       "0             udu niga  Q000001     1   0.0   \n",
       "1       udu niga sag₁₀  Q000001     2   0.0   \n",
       "2  udu niga ŋir₂-gu-la  Q000001     3   0.0   \n",
       "3            udu nita₂  Q000001     4   0.0   \n",
       "4  udu nita₂ ŋeš-du₃-a  Q000001     5   0.0   \n",
       "\n",
       "                                          entry  \n",
       "0                 udu[sheep]N_niga[fattened]V/i  \n",
       "1    udu[sheep]N_niga[fattened]V/i_sag[rare]V/i  \n",
       "2  udu[sheep]N_niga[fattened]V/i_ŋirgul[~wool]N  \n",
       "3                       udu[sheep]N_nita[male]N  \n",
       "4       udu[sheep]N_nita[male]N_ŋešdu[breeder]N  "
      ]
     },
     "execution_count": 9,
     "metadata": {},
     "output_type": "execute_result"
    }
   ],
   "source": [
    "df['entry'] = df['lemma']\n",
    "df['entry'] = df['entry'].str.replace(' ', '_')\n",
    "df.head()"
   ]
  },
  {
   "cell_type": "markdown",
   "metadata": {},
   "source": [
    "## Group by Document\n",
    "The `groupby()` function is used to group the data by document. The function `apply(' '.join)` concatenates the text in the `entries` column, separating them with a white space. The Pandas `groupby()` function results in a series, which is then tranformed into a new Dataframe."
   ]
  },
  {
   "cell_type": "code",
   "execution_count": 10,
   "metadata": {
    "collapsed": false
   },
   "outputs": [
    {
     "data": {
      "text/html": [
       "<div>\n",
       "<table border=\"1\" class=\"dataframe\">\n",
       "  <thead>\n",
       "    <tr style=\"text-align: right;\">\n",
       "      <th></th>\n",
       "      <th>entry</th>\n",
       "    </tr>\n",
       "    <tr>\n",
       "      <th>id_text</th>\n",
       "      <th></th>\n",
       "    </tr>\n",
       "  </thead>\n",
       "  <tbody>\n",
       "    <tr>\n",
       "      <th>Q000001</th>\n",
       "      <td>udu[sheep]N_niga[fattened]V/i udu[sheep]N_niga...</td>\n",
       "    </tr>\n",
       "    <tr>\n",
       "      <th>Q000040</th>\n",
       "      <td>gašam[reed]N gišulhi[reed]N gizi[reed]N GI.NE[...</td>\n",
       "    </tr>\n",
       "    <tr>\n",
       "      <th>Q000041</th>\n",
       "      <td>kagina[stone]N kišib[seal]N_kagina[stone]N lag...</td>\n",
       "    </tr>\n",
       "    <tr>\n",
       "      <th>Q000042</th>\n",
       "      <td>ašag[field]N_duh[loosen]V/t ašag[field]N_Nisab...</td>\n",
       "    </tr>\n",
       "  </tbody>\n",
       "</table>\n",
       "</div>"
      ],
      "text/plain": [
       "                                                     entry\n",
       "id_text                                                   \n",
       "Q000001  udu[sheep]N_niga[fattened]V/i udu[sheep]N_niga...\n",
       "Q000040  gašam[reed]N gišulhi[reed]N gizi[reed]N GI.NE[...\n",
       "Q000041  kagina[stone]N kišib[seal]N_kagina[stone]N lag...\n",
       "Q000042  ašag[field]N_duh[loosen]V/t ašag[field]N_Nisab..."
      ]
     },
     "execution_count": 10,
     "metadata": {},
     "output_type": "execute_result"
    }
   ],
   "source": [
    "df['entry'] = df['entry'].fillna('')\n",
    "entries_df = df[['id_text', 'line', 'entry']]\n",
    "#entries_df = entries_df.dropna()\n",
    "grouped = entries_df['entry'].groupby(entries_df['id_text']).apply(' '.join).reset_index()\n",
    "by_text_df = pd.DataFrame(grouped)\n",
    "by_text_df = by_text_df.set_index('id_text')\n",
    "by_text_df.head()"
   ]
  },
  {
   "cell_type": "markdown",
   "metadata": {},
   "source": [
    "## Questions for Niek\n",
    "1) What does the symbol \"~\" mean in the lemmatization? For example in row number one of the df above \"~tree\". \n",
    "\n",
    "NV: This means: \"pertains to\" and is used for words of vague or unclear semantics.\n",
    "\n",
    "2) Can you explain what's going on with the \"line\" column? It appears to start at an arbitrary number for each document.  \n",
    "\n",
    "NV: The field `line` is derived directly from the field `id_line`, minus the `id_text` (P-number) element. `Id_line` is a string but `line` is an integer, used to keep the lines in the right order.  \n",
    "\n",
    "3) Why do the first several entries in the DTM start with a number? It looks like these are all words that are unlematized. What do the numbers refer to? Is \"10[na]_na\" different from \"11[na]_na\"?\n",
    "\n",
    "NV: Some of these entries come from P251686 - and they indicate a problem we hadn't seen before. This is a tablet that combines a list of wooden objects with a metrological table. The metrological table shouldn't be here - there are, I believe, a few other such instances."
   ]
  },
  {
   "cell_type": "markdown",
   "metadata": {},
   "source": [
    "# Part 1: Analysis based on order of entries within a section"
   ]
  },
  {
   "cell_type": "markdown",
   "metadata": {},
   "source": [
    "## Defining sections\n",
    "\n",
    "The first step in analyzing order of entries within a section must be defining what constitutes a section. We've discussed three methods for defining sections. \n",
    "\n",
    "**1) Expert definition.**  \n",
    "**2) Automated based on composite text (eg. Q000039).**  \n",
    "**3) Automated based on entry proximity.** \n",
    "\n",
    "These methods are described more below:\n",
    "\n",
    "\n",
    "**1) Expert definition.**  \n",
    "Expert manually determines section boundaries based on knowledge of text type. This approach is the most sound, but does not scale. We would not be able to use our workflow with other collections of lexical lists unless without a time-intensive manual step. This method will be set aside for now. We may, however, want to leave users (assuming there ever are any) the option to read in and use their own section definitions for downstream analyses.  \n",
    "\n",
    "**2) Automated based on composite text.**  \n",
    "A composite text is read in and breakpoints in the text are determined based on fuzzy matching of similar words (either in base or lemma). Entries between those breakpoints are assumed to belong to the same section. This method would need to be tested and perhaps supervised to ensure that nonsense sections (a collection of words that don't really belong to any section) aren't grouped together. It may also miss sections that are based not on similarity of words (e.g. \"palm\") but similarity of object type or use (e.g. \"bowl\", \"spoon\", \"cup\"), unless that section is between two sections that are picked up by this method.  \n",
    "\n",
    "Based on the following (artificial) Q text, this method should lead to three sections. Lines 1-4 (related to palm), lines 5-8 (related to polar), and lines 9-14 (related to tree). \n",
    "\n",
    "*1) ŋešnimbar[palm]N*  \n",
    "*2) ŋešnimbar[palm]N sux:suhuš[offshoot]N*  \n",
    "*3) deg[collect]V/t sux:ŋešnimbar[palm]N*  \n",
    "*4) niŋkiluh[broom]N sux:ŋešnimbar[palm]N*  \n",
    "*5) asal[poplar]N*  \n",
    "*6) asal[poplar]N sux:kur[mountain]N*  \n",
    "*7) asal[poplar]N sux:dug[good]V/i*  \n",
    "*8) numun[seed]N sux:asal[poplar]N*  \n",
    "*9) ilur[tree]N*  \n",
    "*10) ad[bush]N*  \n",
    "*11) kišig[acacia]N*  \n",
    "*12) kišighar[tree]N*  \n",
    "*13) samazum[tree]N*  \n",
    "*14) peškal[tree]N*  \n",
    "\n",
    "**3) Automated based on entry proximity**  \n",
    "Lines that always apear within a certain (small) distance from each other could be considered to be part of the same section. Sections are defined based on entire corpus, not just a composite text. (eg. moving window, ~6-8 lines, middle in target)"
   ]
  },
  {
   "cell_type": "markdown",
   "metadata": {},
   "source": [
    "## Method 2) Automated based on composite text."
   ]
  },
  {
   "cell_type": "code",
   "execution_count": 11,
   "metadata": {
    "collapsed": false
   },
   "outputs": [
    {
     "data": {
      "text/plain": [
       "array([   0.,    5.,    2.,    1.,  999.])"
      ]
     },
     "execution_count": 11,
     "metadata": {},
     "output_type": "execute_result"
    }
   ],
   "source": [
    "# In order to pass unknown values (NaN) from Python to R, need to convert\n",
    "# NaNs in character/string columns become 'unknown'\n",
    "# NaNs in numeric columns become 999\n",
    "# Convert both to NA after passing to R\n",
    "\n",
    "df.skip = df.skip.fillna(999)\n",
    "df = df.fillna('unknown')\n",
    "\n",
    "#df.count()\n",
    "df.skip.unique()"
   ]
  },
  {
   "cell_type": "code",
   "execution_count": 12,
   "metadata": {
    "collapsed": false
   },
   "outputs": [
    {
     "data": {
      "text/plain": [
       "'data.frame':\t2311 obs. of  8 variables:\n",
       " $ id_line: Factor w/ 2311 levels \"Q000001.1\",\"Q000001.10\",..: 1 112 223 334 445 468 479 490 501 2 ...\n",
       " $ label  : Factor w/ 760 levels \"1\",\"10\",\"100\",..: 1 130 252 391 514 647 724 736 749 2 ...\n",
       " $ lemma  : chr  \"udu[sheep]N niga[fattened]V/i\" \"udu[sheep]N niga[fattened]V/i sag[rare]V/i\" \"udu[sheep]N niga[fattened]V/i ŋirgul[~wool]N\" \"udu[sheep]N nita[male]N\" ...\n",
       " $ base   : chr  \"udu niga\" \"udu niga sag₁₀\" \"udu niga ŋir₂-gu-la\" \"udu nita₂\" ...\n",
       " $ id_text: Factor w/ 4 levels \"Q000001\",\"Q000040\",..: 1 1 1 1 1 1 1 1 1 1 ...\n",
       " $ line   : int  1 2 3 4 5 6 7 8 9 10 ...\n",
       " $ skip   : num  0 0 0 0 0 0 0 0 0 0 ...\n",
       " $ entry  : chr  \"udu[sheep]N_niga[fattened]V/i\" \"udu[sheep]N_niga[fattened]V/i_sag[rare]V/i\" \"udu[sheep]N_niga[fattened]V/i_ŋirgul[~wool]N\" \"udu[sheep]N_nita[male]N\" ...\n"
      ]
     },
     "metadata": {},
     "output_type": "display_data"
    }
   ],
   "source": [
    "%%R -i df\n",
    "# bring df into R\n",
    "\n",
    "# convert lemma, base and entry columns to strings\n",
    "df$lemma = as.character(df$lemma)\n",
    "df$base = as.character(df$base)\n",
    "df$entry = as.character(df$entry)\n",
    "str(df)"
   ]
  },
  {
   "cell_type": "code",
   "execution_count": 13,
   "metadata": {
    "collapsed": false
   },
   "outputs": [
    {
     "data": {
      "text/plain": [
       "'data.frame':\t0 obs. of  8 variables:\n",
       " $ id_line: Factor w/ 2311 levels \"Q000001.1\",\"Q000001.10\",..: \n",
       " $ label  : Factor w/ 760 levels \"1\",\"10\",\"100\",..: \n",
       " $ lemma  : chr \n",
       " $ base   : chr \n",
       " $ id_text: Factor w/ 0 levels: \n",
       " $ line   : int \n",
       " $ skip   : num \n",
       " $ entry  : chr \n"
      ]
     },
     "metadata": {},
     "output_type": "display_data"
    }
   ],
   "source": [
    "%%R\n",
    "# Extract only lines from composite document (in our case Q000039). \n",
    "\n",
    "df_composite = df[which(df$id_text == \"Q000039\"),]\n",
    "df_composite$id_text = droplevels(df_composite)$id_text\n",
    "nrow(df_composite)\n",
    "str(df_composite)"
   ]
  },
  {
   "cell_type": "code",
   "execution_count": 14,
   "metadata": {
    "collapsed": false
   },
   "outputs": [
    {
     "data": {
      "text/plain": [
       "[1] 0\n"
      ]
     },
     "metadata": {},
     "output_type": "display_data"
    }
   ],
   "source": [
    "%%R\n",
    "length(which(is.na(df_composite$entry) == FALSE))"
   ]
  },
  {
   "cell_type": "code",
   "execution_count": null,
   "metadata": {
    "collapsed": false
   },
   "outputs": [],
   "source": [
    "%%R\n",
    "# https://irkernel.github.io/installation/\n",
    "# source(\"http://bioconductor.org/biocLite.R\")\n",
    "# biocLite(\"Rlibstree\")\n",
    "\n",
    "write.csv(df_composite, file = \"../data/composite_df.csv\", quote = FALSE, \n",
    "         row.names = FALSE)"
   ]
  },
  {
   "cell_type": "code",
   "execution_count": 15,
   "metadata": {
    "collapsed": false
   },
   "outputs": [
    {
     "name": "stdout",
     "output_type": "stream",
     "text": [
      "\n",
      "Error in library(Rlibstree) : there is no package called ‘Rlibstree’\n"
     ]
    },
    {
     "name": "stderr",
     "output_type": "stream",
     "text": [
      "//anaconda/lib/python3.5/site-packages/rpy2/rinterface/__init__.py:186: RRuntimeWarning: Error in library(Rlibstree) : there is no package called ‘Rlibstree’\n",
      "\n",
      "  warnings.warn(x, RRuntimeWarning)\n"
     ]
    }
   ],
   "source": [
    "%%R\n",
    "# For each line in composite document\n",
    "# Compare that line to following line and find longest common substring\n",
    "# Compute length of that substring\n",
    "# Add this info to df with structure\n",
    "# line_a, line_b, kmer, k\n",
    "\n",
    "library(Rlibstree)\n",
    "\n",
    "df_kmers = data.frame(line_a = character(nrow(df_composite)), \n",
    "                      line_b = character(nrow(df_composite)),\n",
    "                     kmer = character(nrow(df_composite)), \n",
    "                      k = numeric(nrow(df_composite)),\n",
    "                     stringsAsFactors=FALSE)\n",
    "\n",
    "for(i in 1:nrow(df_composite)) {\n",
    "    line_a = df_composite$entry[i]\n",
    "    line_b = df_composite$entry[i +1]\n",
    "#    kmer = \n",
    "#    k = \n",
    "    df_kmers$line_a[i] = line_a\n",
    "    df_kmers$line_b[i] = line_b\n",
    "#    df_kmers$kmer[i] = kmer\n",
    "#    df_kmers$k[i] = k\n",
    "#    df_kmers\n",
    "}\n",
    "\n",
    "head(df_kmers)\n",
    "str(df_kmers)\n"
   ]
  },
  {
   "cell_type": "code",
   "execution_count": null,
   "metadata": {
    "collapsed": false
   },
   "outputs": [],
   "source": [
    "%%R \n",
    "# Test finding longest common substring\n",
    "library(Rlibstree)\n",
    "\n",
    "line_a = df_composite$entry[1]\n",
    "line_b = df_composite$entry[2]\n",
    "\n",
    "print(line_a)\n"
   ]
  },
  {
   "cell_type": "code",
   "execution_count": 16,
   "metadata": {
    "collapsed": false
   },
   "outputs": [
    {
     "data": {
      "text/plain": [
       "NULL\n"
      ]
     },
     "metadata": {},
     "output_type": "display_data"
    }
   ],
   "source": [
    "%%R \n",
    "# find changepoints in k\n"
   ]
  },
  {
   "cell_type": "markdown",
   "metadata": {},
   "source": [
    "# Sanity check - how many lines in Q000039?\n",
    "Note - since R integration still doesn't work for me, this section reloads the Q000039.csv. These lines are temporary."
   ]
  },
  {
   "cell_type": "code",
   "execution_count": 17,
   "metadata": {
    "collapsed": false
   },
   "outputs": [],
   "source": [
    "#file = 'Qtext.csv'\n",
    "#import pandas as pd\n",
    "#with open(file, 'r') as f:\n",
    "#    df = pd.read_csv(f)\n",
    "#no_a_lines = df[df.label.str.isdigit()]\n",
    "#a_lines = df[~df.label.str.isdigit()]\n",
    "#len(df), len(no_a_lines), len(a_lines)"
   ]
  },
  {
   "cell_type": "code",
   "execution_count": 18,
   "metadata": {
    "collapsed": true
   },
   "outputs": [],
   "source": [
    "#if(document1 == document2) {\n",
    "#dist = pos2 - pos1 + sum(missing1:missing2)}\n",
    "#else(invalid query)"
   ]
  },
  {
   "cell_type": "markdown",
   "metadata": {},
   "source": [
    "# Part 2: Analysis based on presence/absence of entries"
   ]
  },
  {
   "cell_type": "markdown",
   "metadata": {},
   "source": [
    "## Document Term Matrix\n",
    "Transform the DataFrame into a Document Term Matrix (DTM) by using CountVectorizer. This function uses a Regular Expression (token_pattern) to indicate how to find the beginning and end of token. In the current Dataframe entries are separated from each other by a white space. The expression `r.[^ ]+` means: any combination of characters, except the space.\n",
    "\n",
    "The output of the CountVectorizer (`dtm`) is not in a human-readable format. It is transformed into another DataFrame, with `id_text` as index."
   ]
  },
  {
   "cell_type": "code",
   "execution_count": 19,
   "metadata": {
    "collapsed": false
   },
   "outputs": [
    {
     "data": {
      "text/html": [
       "<div>\n",
       "<table border=\"1\" class=\"dataframe\">\n",
       "  <thead>\n",
       "    <tr style=\"text-align: right;\">\n",
       "      <th></th>\n",
       "      <th>ab[cow]n</th>\n",
       "      <th>ab[cow]n_ib[hips]n_gig[sick]v/i</th>\n",
       "      <th>ab[cow]n_mah[mature]v/i</th>\n",
       "      <th>ab[cow]n_peš[thick]v/i</th>\n",
       "      <th>ab[cow]n_si[horn]n_ŋal[be]v/i</th>\n",
       "      <th>ab[cow]n_suhub[~oxen]n</th>\n",
       "      <th>ab[cow]n_ubur[breast]n</th>\n",
       "      <th>ab[cow]n_utud[bear]v/t</th>\n",
       "      <th>ab[cow]n_ŋeš[penis]n_zu[know]v/t</th>\n",
       "      <th>ab[cow]n_šag[heart]n_sur[press]v/t</th>\n",
       "      <th>...</th>\n",
       "      <th>šurin[oven]n</th>\n",
       "      <th>šurina-numunkušene[oven-of-the-widows]cn</th>\n",
       "      <th>šurun[cricket]n</th>\n",
       "      <th>šuruppak[1]sn</th>\n",
       "      <th>šutug[reed-hut]n_šub[fall]v/t</th>\n",
       "      <th>šutur[garment]n</th>\n",
       "      <th>šušŋar[vessel]n</th>\n",
       "      <th>šuʾa[stool]n</th>\n",
       "      <th>šuʾabdu[1]wn</th>\n",
       "      <th>šuʾu[stone]n</th>\n",
       "    </tr>\n",
       "  </thead>\n",
       "  <tbody>\n",
       "    <tr>\n",
       "      <th>Q000001</th>\n",
       "      <td>1</td>\n",
       "      <td>1</td>\n",
       "      <td>1</td>\n",
       "      <td>1</td>\n",
       "      <td>2</td>\n",
       "      <td>1</td>\n",
       "      <td>1</td>\n",
       "      <td>2</td>\n",
       "      <td>2</td>\n",
       "      <td>1</td>\n",
       "      <td>...</td>\n",
       "      <td>0</td>\n",
       "      <td>0</td>\n",
       "      <td>1</td>\n",
       "      <td>0</td>\n",
       "      <td>0</td>\n",
       "      <td>0</td>\n",
       "      <td>0</td>\n",
       "      <td>0</td>\n",
       "      <td>0</td>\n",
       "      <td>0</td>\n",
       "    </tr>\n",
       "    <tr>\n",
       "      <th>Q000040</th>\n",
       "      <td>0</td>\n",
       "      <td>0</td>\n",
       "      <td>0</td>\n",
       "      <td>0</td>\n",
       "      <td>0</td>\n",
       "      <td>0</td>\n",
       "      <td>0</td>\n",
       "      <td>0</td>\n",
       "      <td>0</td>\n",
       "      <td>0</td>\n",
       "      <td>...</td>\n",
       "      <td>1</td>\n",
       "      <td>0</td>\n",
       "      <td>0</td>\n",
       "      <td>0</td>\n",
       "      <td>1</td>\n",
       "      <td>0</td>\n",
       "      <td>1</td>\n",
       "      <td>1</td>\n",
       "      <td>0</td>\n",
       "      <td>0</td>\n",
       "    </tr>\n",
       "    <tr>\n",
       "      <th>Q000041</th>\n",
       "      <td>0</td>\n",
       "      <td>0</td>\n",
       "      <td>0</td>\n",
       "      <td>0</td>\n",
       "      <td>0</td>\n",
       "      <td>0</td>\n",
       "      <td>0</td>\n",
       "      <td>0</td>\n",
       "      <td>0</td>\n",
       "      <td>0</td>\n",
       "      <td>...</td>\n",
       "      <td>0</td>\n",
       "      <td>0</td>\n",
       "      <td>0</td>\n",
       "      <td>0</td>\n",
       "      <td>0</td>\n",
       "      <td>1</td>\n",
       "      <td>0</td>\n",
       "      <td>0</td>\n",
       "      <td>0</td>\n",
       "      <td>1</td>\n",
       "    </tr>\n",
       "    <tr>\n",
       "      <th>Q000042</th>\n",
       "      <td>0</td>\n",
       "      <td>0</td>\n",
       "      <td>0</td>\n",
       "      <td>0</td>\n",
       "      <td>0</td>\n",
       "      <td>0</td>\n",
       "      <td>0</td>\n",
       "      <td>0</td>\n",
       "      <td>0</td>\n",
       "      <td>0</td>\n",
       "      <td>...</td>\n",
       "      <td>0</td>\n",
       "      <td>1</td>\n",
       "      <td>0</td>\n",
       "      <td>1</td>\n",
       "      <td>0</td>\n",
       "      <td>0</td>\n",
       "      <td>0</td>\n",
       "      <td>0</td>\n",
       "      <td>1</td>\n",
       "      <td>0</td>\n",
       "    </tr>\n",
       "  </tbody>\n",
       "</table>\n",
       "<p>4 rows × 2201 columns</p>\n",
       "</div>"
      ],
      "text/plain": [
       "         ab[cow]n  ab[cow]n_ib[hips]n_gig[sick]v/i  ab[cow]n_mah[mature]v/i  \\\n",
       "Q000001         1                                1                        1   \n",
       "Q000040         0                                0                        0   \n",
       "Q000041         0                                0                        0   \n",
       "Q000042         0                                0                        0   \n",
       "\n",
       "         ab[cow]n_peš[thick]v/i  ab[cow]n_si[horn]n_ŋal[be]v/i  \\\n",
       "Q000001                       1                              2   \n",
       "Q000040                       0                              0   \n",
       "Q000041                       0                              0   \n",
       "Q000042                       0                              0   \n",
       "\n",
       "         ab[cow]n_suhub[~oxen]n  ab[cow]n_ubur[breast]n  \\\n",
       "Q000001                       1                       1   \n",
       "Q000040                       0                       0   \n",
       "Q000041                       0                       0   \n",
       "Q000042                       0                       0   \n",
       "\n",
       "         ab[cow]n_utud[bear]v/t  ab[cow]n_ŋeš[penis]n_zu[know]v/t  \\\n",
       "Q000001                       2                                 2   \n",
       "Q000040                       0                                 0   \n",
       "Q000041                       0                                 0   \n",
       "Q000042                       0                                 0   \n",
       "\n",
       "         ab[cow]n_šag[heart]n_sur[press]v/t      ...       šurin[oven]n  \\\n",
       "Q000001                                   1      ...                  0   \n",
       "Q000040                                   0      ...                  1   \n",
       "Q000041                                   0      ...                  0   \n",
       "Q000042                                   0      ...                  0   \n",
       "\n",
       "         šurina-numunkušene[oven-of-the-widows]cn  šurun[cricket]n  \\\n",
       "Q000001                                         0                1   \n",
       "Q000040                                         0                0   \n",
       "Q000041                                         0                0   \n",
       "Q000042                                         1                0   \n",
       "\n",
       "         šuruppak[1]sn  šutug[reed-hut]n_šub[fall]v/t  šutur[garment]n  \\\n",
       "Q000001              0                              0                0   \n",
       "Q000040              0                              1                0   \n",
       "Q000041              0                              0                1   \n",
       "Q000042              1                              0                0   \n",
       "\n",
       "         šušŋar[vessel]n  šuʾa[stool]n  šuʾabdu[1]wn  šuʾu[stone]n  \n",
       "Q000001                0             0             0             0  \n",
       "Q000040                1             1             0             0  \n",
       "Q000041                0             0             0             1  \n",
       "Q000042                0             0             1             0  \n",
       "\n",
       "[4 rows x 2201 columns]"
      ]
     },
     "execution_count": 19,
     "metadata": {},
     "output_type": "execute_result"
    }
   ],
   "source": [
    "from sklearn.feature_extraction.text import CountVectorizer\n",
    "cv = CountVectorizer(analyzer='word', token_pattern=r'[^ ]+')\n",
    "dtm = cv.fit_transform(by_text_df['entry'])\n",
    "dtm_df = pd.DataFrame(dtm.toarray(), columns = cv.get_feature_names(), index = by_text_df.index.values)\n",
    "dtm_df.head()"
   ]
  },
  {
   "cell_type": "markdown",
   "metadata": {},
   "source": [
    "## Analyzing the DTM\n",
    "Each document in the DTM may be understood as a vector, which allows for various kinds of computations, such as distance or cosine-similarity. \n",
    "\n",
    "It is important to recall that the DTM does not preserve information about the order of entries.\n",
    "\n",
    "It is also important to realize that the documents in this analysis of are of very different length (from 1 to 750 entries), with more than half of the documents 3 lines or less. The composite text from Nippur is by far the longest document and will dominate any comparison"
   ]
  },
  {
   "cell_type": "code",
   "execution_count": 20,
   "metadata": {
    "collapsed": false
   },
   "outputs": [
    {
     "data": {
      "text/plain": [
       "count      4.000000\n",
       "mean     574.000000\n",
       "std      117.637862\n",
       "min      443.000000\n",
       "25%      494.000000\n",
       "50%      577.000000\n",
       "75%      657.000000\n",
       "max      699.000000\n",
       "dtype: float64"
      ]
     },
     "execution_count": 20,
     "metadata": {},
     "output_type": "execute_result"
    }
   ],
   "source": [
    "df_length = dtm_df.sum(axis=1)\n",
    "df_length.describe()"
   ]
  },
  {
   "cell_type": "markdown",
   "metadata": {},
   "source": [
    "Note that I'll be doing some analysis in R, whereas Niek will be doing some in Python. We can use both languages in different cells of the same notebook and even pass variables between languages. See tip #21 [here](https://www.dataquest.io/blog/jupyter-notebook-tips-tricks-shortcuts/).\n",
    "\n",
    "FYI - if you have difficulty running R cells in a Python notebook using rpy2, try installing\n",
    "rpy2 through conda instead of through pip.  \n",
    "\n",
    "`conda install -c r rpy2`"
   ]
  },
  {
   "cell_type": "markdown",
   "metadata": {},
   "source": [
    "## Make sure the R correctly parsed the DTM  \n",
    "- It looks like R doesn't allow variable names to start with a number, thus all entries starting with a number had \"X\" added to the beggining of the entry name.  \n",
    "- R doesn't allow parentheses in variable names, so entries like \"1(ban₂)[na]na\" parsed as \"X1.ban...na.na\".   \n",
    "- \n",
    "\n"
   ]
  },
  {
   "cell_type": "code",
   "execution_count": 21,
   "metadata": {
    "collapsed": false
   },
   "outputs": [],
   "source": [
    "%%R -i dtm_df\n",
    "#Import dtm_df from Python\n",
    "\n",
    "# Set cols and rows to sum to not include summary column and row added later\n",
    "# This needs to be in separate cell from addition of summary col and row!\n",
    "cols_to_sum = ncol(dtm_df)\n",
    "rows_to_sum = nrow(dtm_df)\n",
    "\n",
    "#head(dtm_df[,1:10])\n",
    "#str(dtm_df)"
   ]
  },
  {
   "cell_type": "markdown",
   "metadata": {},
   "source": [
    "## Check density of DTM\n",
    "\n",
    "Look at distribution of document lengths (number of entries per document).  \n",
    "Look at distribution of entry freqency (number of documents each entry appears in)."
   ]
  },
  {
   "cell_type": "code",
   "execution_count": 22,
   "metadata": {
    "collapsed": false
   },
   "outputs": [
    {
     "data": {
      "text/plain": [
       "[1] \"There are 4 documents with 10 or more entries.\"\n",
       "[1] \"There are 4 documents with 100 or more entries.\"\n"
      ]
     },
     "metadata": {},
     "output_type": "display_data"
    },
    {
     "data": {
      "image/png": "[encoded data removed]"
     },
     "metadata": {},
     "output_type": "display_data"
    }
   ],
   "source": [
    "%%R\n",
    "\n",
    "dtm_df$num_entries = rowSums(dtm_df[1:cols_to_sum])\n",
    "dtm_df[\"num_occurances\",] = colSums(dtm_df[1:rows_to_sum,])\n",
    "dtm_df[\"num_occurances\",\"num_entries\"] = NA \n",
    "\n",
    "plot(density(dtm_df$num_entries, na.rm = TRUE))\n",
    "table(dtm_df$num_entries, useNA = \"ifany\") #number of documents with each number of entries\n",
    "\n",
    "print(paste(\"There are\", length(which(dtm_df$num_entries >= 10)), \"documents with 10 or more entries.\"))\n",
    "print(paste(\"There are\", length(which(dtm_df$num_entries >= 100)), \"documents with 100 or more entries.\"))"
   ]
  },
  {
   "cell_type": "code",
   "execution_count": 23,
   "metadata": {
    "collapsed": false
   },
   "outputs": [
    {
     "data": {
      "text/plain": [
       "[1] \"99.64% of entries appear only once or twice across the corpus\"\n",
       "[1] \"0 entries occur in 10 or more documents\"\n",
       "[1] \"including one that occurs 4 times across the 4 documents\"\n",
       "[1] \"The most common entry is eh.insect.n\"   \n",
       "[2] \"The most common entry is kur.mountain.n\"\n"
      ]
     },
     "metadata": {},
     "output_type": "display_data"
    },
    {
     "data": {
      "image/png": "[encoded data removed]"
     },
     "metadata": {},
     "output_type": "display_data"
    }
   ],
   "source": [
    "%%R \n",
    "\n",
    "num_occurances = unlist(dtm_df[\"num_occurances\",])\n",
    "plot(density(num_occurances, na.rm = TRUE))\n",
    "table(num_occurances, useNA = \"ifany\")\n",
    "\n",
    "rare = round(length(which(dtm_df[\"num_occurances\",] <=2))/cols_to_sum*100,2)\n",
    "common = length(which(dtm_df[\"num_occurances\",] >=10))\n",
    "most_common = max(dtm_df[\"num_occurances\",], na.rm = TRUE)\n",
    "most_common_entry = colnames(dtm_df[which(dtm_df[\"num_occurances\",] == most_common)])\n",
    "\n",
    "print(paste0(rare, \"% of entries appear only once or twice across the corpus\"))\n",
    "print(paste(common, \"entries occur in 10 or more documents\"))\n",
    "print(paste(\"including one that occurs\", most_common, \"times across the\", rows_to_sum, \"documents\"))\n",
    "print(paste(\"The most common entry is\", most_common_entry))"
   ]
  },
  {
   "cell_type": "code",
   "execution_count": 24,
   "metadata": {
    "collapsed": false
   },
   "outputs": [
    {
     "data": {
      "text/plain": [
       "character(0)\n"
      ]
     },
     "metadata": {},
     "output_type": "display_data"
    }
   ],
   "source": [
    "%%R \n",
    "# Look at some of the most common entries\n",
    "colnames(dtm_df)[which(dtm_df[\"num_occurances\",] >= 10)]"
   ]
  },
  {
   "cell_type": "code",
   "execution_count": 25,
   "metadata": {
    "collapsed": false
   },
   "outputs": [],
   "source": [
    "%%R \n",
    "\n",
    "# currently \"variables\" (entries) are sorted alphabetically, would like sorted by frequency\n",
    "dtm_df = as.matrix((dtm_df > 0) + 0) # Converts to binary presence/absence information\n",
    "dtm_df = dtm_df[,order(colSums(dtm_df), decreasing = TRUE)]\n",
    "dtm_df = as.data.frame(dtm_df)"
   ]
  },
  {
   "cell_type": "code",
   "execution_count": 26,
   "metadata": {
    "collapsed": false
   },
   "outputs": [
    {
     "data": {
      "text/plain": [
       "[1] \"2193 entries appear in only one document\"\n",
       "[1] \"The entry that appears in the most documents is bir.locust.n\"                 \n",
       "[2] \"The entry that appears in the most documents is gug.grass.n\"                  \n",
       "[3] \"The entry that appears in the most documents is nisaba.1.dn_zamin.lyre.n\"     \n",
       "[4] \"The entry that appears in the most documents is nunuz.egg.n\"                  \n",
       "[5] \"The entry that appears in the most documents is saŋkešed.strap.n\"             \n",
       "[6] \"The entry that appears in the most documents is sim.swallow.n\"                \n",
       "[7] \"The entry that appears in the most documents is udutil.sheep.n\"               \n",
       "[8] \"The entry that appears in the most documents is X.d.nisaba.na.na_zamin.lyre.n\"\n",
       "num_occurances\n",
       "   1    2 <NA> \n",
       "2193    8    1 \n"
      ]
     },
     "metadata": {},
     "output_type": "display_data"
    }
   ],
   "source": [
    "%%R \n",
    "\n",
    "# Need to recaculate number of occurances, as was converted to binary. \n",
    "dtm_df$num_entries = rowSums(dtm_df[1:cols_to_sum])\n",
    "dtm_df[\"num_occurances\",] = colSums(dtm_df[1:rows_to_sum,])\n",
    "dtm_df[\"num_occurances\",\"num_entries\"] = NA \n",
    "\n",
    "num_occurances = unlist(dtm_df[\"num_occurances\",])\n",
    "most_frequent = max(num_occurances, na.rm = TRUE)\n",
    "most_frequent_entry = colnames(dtm_df[which(dtm_df[\"num_occurances\",] == most_frequent)])\n",
    "\n",
    "print(paste(table(num_occurances)[1], \"entries appear in only one document\"))\n",
    "print(paste(\"The entry that appears in the most documents is\", most_frequent_entry))\n",
    "\n",
    "table(num_occurances, useNA = \"ifany\")\n"
   ]
  },
  {
   "cell_type": "code",
   "execution_count": 27,
   "metadata": {
    "collapsed": false
   },
   "outputs": [
    {
     "data": {
      "text/plain": [
       "character(0)\n"
      ]
     },
     "metadata": {},
     "output_type": "display_data"
    }
   ],
   "source": [
    "%%R\n",
    "# These entries appear in at least 10 different documents.\n",
    "colnames(dtm_df)[which(dtm_df[\"num_occurances\",] >=10)]"
   ]
  },
  {
   "cell_type": "code",
   "execution_count": 28,
   "metadata": {
    "collapsed": false
   },
   "outputs": [],
   "source": [
    "%%R\n",
    "dtm_df$document = row.names(dtm_df) #add document names as row names\n",
    "dtm_df = dtm_df[-which(row.names(dtm_df) == \"num_occurances\"),] # remove num_occurances row"
   ]
  },
  {
   "cell_type": "code",
   "execution_count": 29,
   "metadata": {
    "collapsed": false
   },
   "outputs": [
    {
     "name": "stderr",
     "output_type": "stream",
     "text": [
      "//anaconda/lib/python3.5/site-packages/rpy2/rinterface/__init__.py:186: RRuntimeWarning: Using document as id variables\n",
      "\n",
      "  warnings.warn(x, RRuntimeWarning)\n"
     ]
    },
    {
     "data": {
      "text/plain": [
       "  document     variable value\n",
       "1  Q000001 bir.locust.n     1\n",
       "2  Q000040 bir.locust.n     0\n",
       "3  Q000041 bir.locust.n     1\n",
       "4  Q000042 bir.locust.n     0\n",
       "5  Q000001  gug.grass.n     0\n",
       "6  Q000040  gug.grass.n     1\n"
      ]
     },
     "metadata": {},
     "output_type": "display_data"
    }
   ],
   "source": [
    "%%R\n",
    "\n",
    "#install.packages(\"reshape\")\n",
    "library(reshape)\n",
    "\n",
    "melted_dtm_df = melt(dtm_df)\n",
    "head(melted_dtm_df)"
   ]
  },
  {
   "cell_type": "code",
   "execution_count": 30,
   "metadata": {
    "collapsed": false
   },
   "outputs": [
    {
     "name": "stderr",
     "output_type": "stream",
     "text": [
      "//anaconda/lib/python3.5/site-packages/rpy2/rinterface/__init__.py:186: RRuntimeWarning: trying URL 'https://cran.cnr.berkeley.edu/bin/macosx/mavericks/contrib/3.2/ggplot2_2.2.1.tgz'\n",
      "\n",
      "  warnings.warn(x, RRuntimeWarning)\n",
      "//anaconda/lib/python3.5/site-packages/rpy2/rinterface/__init__.py:186: RRuntimeWarning: Content type 'application/x-gzip'\n",
      "  warnings.warn(x, RRuntimeWarning)\n",
      "//anaconda/lib/python3.5/site-packages/rpy2/rinterface/__init__.py:186: RRuntimeWarning:  length 2759285 bytes (2.6 MB)\n",
      "\n",
      "  warnings.warn(x, RRuntimeWarning)\n",
      "//anaconda/lib/python3.5/site-packages/rpy2/rinterface/__init__.py:186: RRuntimeWarning: =\n",
      "  warnings.warn(x, RRuntimeWarning)\n",
      "//anaconda/lib/python3.5/site-packages/rpy2/rinterface/__init__.py:186: RRuntimeWarning: \n",
      "\n",
      "  warnings.warn(x, RRuntimeWarning)\n",
      "//anaconda/lib/python3.5/site-packages/rpy2/rinterface/__init__.py:186: RRuntimeWarning: downloaded 2.6 MB\n",
      "\n",
      "\n",
      "  warnings.warn(x, RRuntimeWarning)\n"
     ]
    },
    {
     "name": "stdout",
     "output_type": "stream",
     "text": [
      "--- Please select a CRAN mirror for use in this session ---\n",
      "\n",
      "The downloaded binary packages are in\n",
      "\t/var/folders/13/n9ynb9310_b_0m12ws23d70r4fn7tn/T//RtmpHPiGlv/downloaded_packages\n",
      "Error: package or namespace load failed for ‘ggplot2’\n"
     ]
    },
    {
     "name": "stderr",
     "output_type": "stream",
     "text": [
      "//anaconda/lib/python3.5/site-packages/rpy2/rinterface/__init__.py:186: RRuntimeWarning: Error : object ‘f_eval’ is not exported by 'namespace:lazyeval'\n",
      "\n",
      "  warnings.warn(x, RRuntimeWarning)\n",
      "//anaconda/lib/python3.5/site-packages/rpy2/rinterface/__init__.py:186: RRuntimeWarning: In addition: \n",
      "  warnings.warn(x, RRuntimeWarning)\n",
      "//anaconda/lib/python3.5/site-packages/rpy2/rinterface/__init__.py:186: RRuntimeWarning: Warning messages:\n",
      "\n",
      "  warnings.warn(x, RRuntimeWarning)\n",
      "//anaconda/lib/python3.5/site-packages/rpy2/rinterface/__init__.py:186: RRuntimeWarning: 1: package ‘reshape’ was built under R version 3.2.5 \n",
      "\n",
      "  warnings.warn(x, RRuntimeWarning)\n",
      "//anaconda/lib/python3.5/site-packages/rpy2/rinterface/__init__.py:186: RRuntimeWarning: 2: package ‘ggplot2’ was built under R version 3.2.5 \n",
      "\n",
      "  warnings.warn(x, RRuntimeWarning)\n",
      "//anaconda/lib/python3.5/site-packages/rpy2/rinterface/__init__.py:186: RRuntimeWarning: Error: package or namespace load failed for ‘ggplot2’\n",
      "\n",
      "  warnings.warn(x, RRuntimeWarning)\n"
     ]
    }
   ],
   "source": [
    "%%R \n",
    "# http://stackoverflow.com/questions/10397183/heat-map-of-binary-data-using-r-or-python\n",
    "install.packages(\"ggplot2\", lib='/Library/Frameworks/R.framework/Versions/3.2/Resources/library')\n",
    "library(ggplot2)\n",
    "# ggplot(data = melted_dtm_df[150000:160474,], aes(y=document, x=variable, fill=value)) + \n",
    "#   geom_tile() +\n",
    "#   theme(axis.text.x = element_text(angle = 90, hjust = 1, size = 5))\n",
    "\n",
    "#qplot(data=melted_dtm_df, x=variable,y=document, fill=factor(value),\n",
    "#    geom=\"tile\")+scale_fill_manual(values=c(\"0\"=\"lightblue\", \"1\"=\"red\")) +\n",
    "#  theme(axis.text.x = element_text(angle = 90, hjust = 1, size = 1), axis.text.y = element_text(size = 3))\n",
    "\n",
    "# Look at a subset\n",
    "# qplot(data = melted_dtm_df[1:10000,], x=variable, y=document, fill=factor(value),\n",
    "#     geom=\"tile\")+scale_fill_manual(values=c(\"0\"=\"lightblue\", \"1\"=\"red\")) +\n",
    "# theme(axis.text.x = element_text(angle = 90, hjust = 1, size = 8), axis.text.y = element_text(size = 5))\n"
   ]
  },
  {
   "cell_type": "markdown",
   "metadata": {
    "collapsed": true
   },
   "source": [
    "## Grouping Documents by Entry Similarity  \n",
    "We can use hierarchical clustering with our presence/absence matrix to uncover groups of similar documents. Ideally, we can benchmark these clusters' accuracy in uncovering geographically or chronologically related documents by looking at metadata, but for this collection the metadata may be too sparse to do that benchmarking.  \n",
    "\n",
    "In either case, we can establish a workflow for doing hierarchical clustering and apply that to other datasets with better provenance information to test for cluster utility.  "
   ]
  },
  {
   "cell_type": "markdown",
   "metadata": {},
   "source": [
    "Troubleshooting note:  \n",
    "When running R as a magic within Jupyter notebook, running install.packages() leads to the notebook prompting you for a selection. It turns out that this is due to the fact that anaconda actually installs a second R installation and stores installed packages separately from the users \"main\" R installation.  \n",
    "\n",
    "To avoid this issue, run '.libPaths()' within R in your console to find the path where anaconda stores your packages. You can then download binaries from CRAN and put them in that directory. "
   ]
  },
  {
   "cell_type": "code",
   "execution_count": 31,
   "metadata": {
    "collapsed": false
   },
   "outputs": [
    {
     "name": "stderr",
     "output_type": "stream",
     "text": [
      "//anaconda/lib/python3.5/site-packages/rpy2/rinterface/__init__.py:186: RRuntimeWarning: trying URL 'https://cran.cnr.berkeley.edu/bin/macosx/mavericks/contrib/3.2/ggdendro_0.1-20.tgz'\n",
      "\n",
      "  warnings.warn(x, RRuntimeWarning)\n",
      "//anaconda/lib/python3.5/site-packages/rpy2/rinterface/__init__.py:186: RRuntimeWarning:  length 120465 bytes (117 KB)\n",
      "\n",
      "  warnings.warn(x, RRuntimeWarning)\n",
      "//anaconda/lib/python3.5/site-packages/rpy2/rinterface/__init__.py:186: RRuntimeWarning: downloaded 117 KB\n",
      "\n",
      "\n",
      "  warnings.warn(x, RRuntimeWarning)\n"
     ]
    },
    {
     "data": {
      "text/plain": [
       "\n",
       "The downloaded binary packages are in\n",
       "\t/var/folders/13/n9ynb9310_b_0m12ws23d70r4fn7tn/T//RtmpHPiGlv/downloaded_packages\n"
      ]
     },
     "metadata": {},
     "output_type": "display_data"
    }
   ],
   "source": [
    "%%R \n",
    "# See Troubleshooting note above\n",
    "\n",
    "install.packages(\"ggdendro\", lib='/Library/Frameworks/R.framework/Versions/3.2/Resources/library')\n",
    "# install.packages(\"ggdendro\", \"/anaconda/lib/R/library\")"
   ]
  },
  {
   "cell_type": "code",
   "execution_count": 3,
   "metadata": {
    "collapsed": false
   },
   "outputs": [
    {
     "data": {
      "text/plain": [
       "[1] \"/Library/Frameworks/R.framework/Versions/3.2/Resources/library\"\n",
       "[2] \"/Users/veldhuis/Library/R/3.2/library\"                         \n"
      ]
     },
     "metadata": {},
     "output_type": "display_data"
    }
   ],
   "source": [
    "%%R\n",
    ".libPaths()"
   ]
  },
  {
   "cell_type": "code",
   "execution_count": 32,
   "metadata": {
    "collapsed": false
   },
   "outputs": [
    {
     "name": "stdout",
     "output_type": "stream",
     "text": [
      "\n",
      "Error: package or namespace load failed for ‘ggdendro’\n"
     ]
    },
    {
     "name": "stderr",
     "output_type": "stream",
     "text": [
      "//anaconda/lib/python3.5/site-packages/rpy2/rinterface/__init__.py:186: RRuntimeWarning: Warning message:\n",
      "\n",
      "  warnings.warn(x, RRuntimeWarning)\n",
      "//anaconda/lib/python3.5/site-packages/rpy2/rinterface/__init__.py:186: RRuntimeWarning: package ‘ggdendro’ was built under R version 3.2.5 \n",
      "\n",
      "  warnings.warn(x, RRuntimeWarning)\n",
      "//anaconda/lib/python3.5/site-packages/rpy2/rinterface/__init__.py:186: RRuntimeWarning: Error: package or namespace load failed for ‘ggdendro’\n",
      "\n",
      "  warnings.warn(x, RRuntimeWarning)\n"
     ]
    }
   ],
   "source": [
    "%%R\n",
    "library(ggdendro)\n",
    "clusters <- hclust(dist(dtm_df))"
   ]
  },
  {
   "cell_type": "code",
   "execution_count": 33,
   "metadata": {
    "collapsed": false
   },
   "outputs": [
    {
     "name": "stdout",
     "output_type": "stream",
     "text": [
      "\n",
      "Error in withVisible({ : could not find function \"ggdendrogram\"\n"
     ]
    },
    {
     "name": "stderr",
     "output_type": "stream",
     "text": [
      "//anaconda/lib/python3.5/site-packages/rpy2/rinterface/__init__.py:186: RRuntimeWarning: Error in withVisible({ : could not find function \"ggdendrogram\"\n",
      "\n",
      "  warnings.warn(x, RRuntimeWarning)\n"
     ]
    }
   ],
   "source": [
    "%%R\n",
    "ggdendrogram(clusters, rotate = TRUE) + theme(axis.text.y = element_text(size = 8))"
   ]
  },
  {
   "cell_type": "markdown",
   "metadata": {},
   "source": [
    "## Adding provenience by using ORACC metadata\n",
    "The file `data/metadata/dcclt-eta.csv` contains some metadata, including document provenience when known. We read in this data and add provenience to our DTM."
   ]
  },
  {
   "cell_type": "code",
   "execution_count": null,
   "metadata": {
    "collapsed": false
   },
   "outputs": [],
   "source": [
    "%%R \n",
    "# Bring in metadata\n",
    "ids = read.csv(\"../data/metadata/dcclt_meta.csv\")\n",
    "ids$document = ids$X\n",
    "ids$X = NULL\n",
    "head(ids)"
   ]
  },
  {
   "cell_type": "code",
   "execution_count": null,
   "metadata": {
    "collapsed": false
   },
   "outputs": [],
   "source": [
    "%%R\n",
    "# Add provenance information to dtm_df\n",
    "dtm_df = merge(dtm_df, ids, by = \"document\")\n",
    "dtm_df$provenience = droplevels(dtm_df)$provenience\n",
    "table(dtm_df$provenience)"
   ]
  },
  {
   "cell_type": "code",
   "execution_count": null,
   "metadata": {
    "collapsed": false
   },
   "outputs": [],
   "source": [
    "%%R\n",
    "\n",
    "# Add colors to dendrogram by provenance\n",
    "library(scales)\n",
    "numColors = length(levels(factor(dtm_df$provenience)))\n",
    "numColors\n",
    "myPalette = brewer_pal(palette = \"Paired\")(numColors)\n",
    "names(myPalette) = levels(dtm_df$provenience)\n",
    "print(names(myPalette))\n",
    "show_col(myPalette)\n",
    "ggdendrogram(clusters, rotate = TRUE) + \n",
    "theme(axis.text.y = element_text(size = 8, color = myPalette[dtm_df$provenience]))"
   ]
  }
 ],
 "metadata": {
  "anaconda-cloud": {},
  "kernelspec": {
   "display_name": "Python [conda root]",
   "language": "python",
   "name": "conda-root-py"
  },
  "language_info": {
   "codemirror_mode": {
    "name": "ipython",
    "version": 3
   },
   "file_extension": ".py",
   "mimetype": "text/x-python",
   "name": "python",
   "nbconvert_exporter": "python",
   "pygments_lexer": "ipython3",
   "version": "3.5.2"
  }
 },
 "nbformat": 4,
 "nbformat_minor": 2
}
