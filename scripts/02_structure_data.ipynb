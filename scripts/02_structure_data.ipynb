{
 "cells": [
  {
   "cell_type": "markdown",
   "metadata": {},
   "source": [
    "## Introduction to dataset and data structure\n",
    "\n",
    "This notebook uses data from the Digital Corpus of Cuneiform Lexical Texts ([DCCLT](http://oracc.org/dcclt)) derived from parsed JSON files. For the JSON output from the Open Richly Annotated Cuneiform Corpus ([ORACC](http://oracc.org)) see the [ORACC Open Data documentation](http://oracc.museum.upenn.edu/doc/opendata/index.html).  \n",
    "\n",
    "The JSON files are parsed with the notebook [grab_json.ipynb](https://github.com/ErinBecker/digital-humanities-phylogenetics/blob/master/scripts/grab_json.ipynb). This notebook takes an input file, identifying the text IDs of the documents to be parsed. The input file is [ob_lists_wood.txt](https://github.com/ErinBecker/digital-humanities-phylogenetics/blob/master/data/text_ids/ob_lists_wood.txt). \n",
    "\n",
    "The input file lists all the Text IDs of Old Babylonian lists of trees and wooden objects currently in [DCCLT](http://oracc.org/dcclt), as well as the composite text of the [Nippur version](http://oracc.org/Q000039). Text IDs consist of a P plus a six-digit number (commonly referred to as P-number) that is recognized by [ORACC](http://oracc.org) and by the Cuneiform Digital Library Initiative ([CDLI](http://cdli.ucla.edu)) and that has become the de-facto standard in Assyriology. [CDLI](http://cdli.ucla.edu) provides metadata (provenience, period, publication, museum number, etc) for each text. Composite text IDs consist of a Q plus a six-digit number (for instance Q000039). Texts that have not (yet) been cataloged in [CDLI](http://cdli.ucla.edu) receive a (temporary) six-digit X number.\n",
    "\n",
    "The data are placed in the directory [data](https://github.com/ErinBecker/digital-humanities-phylogenetics/tree/master/data). The are comma-separated files have the following fields: \n",
    "\n",
    "| field         | description                     |\n",
    "|-----------\t|------------------------------------------------------------------------------------------------------------------------------------------------------\t|\n",
    "| id_line   \t| consists of a text ID (P, Q, or X number) plus a reference number \t|\n",
    "| label \t| line number: obverse/reverse, column number, line number (e.g. o ii 16')                                                          \t|\n",
    "| lemma      \t| Sumerian words in lemmatized form (e.g. lugal[king]N); for unlemmatized words the raw transliteration is taken                                                                                  \t|\n",
    "| base      \t| Sumerian words in original spelling, but without morphological prefixes or suffixes   |\n",
    "| extent | (for missing data): how many lines or columns (restricted vocabulary) are missing|\n",
    "| scope | (for missing data): what is missing - line, column, face, or surface (restricted vocabulary) |\n",
    "\n",
    "There are various types of missing data, represented in different ways. A word that is present, but not lemmatized is represented in its transliterated form, followed by [NA]NA (that is: Guideword and POS are both NA). Words that are partly or entirely illegible on the original document are by definition unlemmatized and are handled the same way.\n",
    "\n",
    "Lines or multiple lines that are missing are indicated in the fields `extent` and `scope`. `Extent` gives the number of missing lines (or missing columns, etc). The restricted vocabulary includes numbers and the words 'n' (unknown), 'beginning', and 'rest'. `Scope` indicates the scope of the missing text: line, column, obverse, etc.\n",
    "\n",
    "| type         | how represented                     |\n",
    "|-----------\t|------------------------------------------------------------------------------------------------------------------------------------------------------\t|\n",
    "| words with unknown lemmatization| siki-siki[NA]NA |\n",
    "| illegible words | x[NA]NA |\n",
    "| known number of missing lines \t|extent: '5' scope: 'line' |\n",
    "| unknown number of missing lines\t|extent: 'n' scope: 'line |\n",
    "| two missing columns  | extent: '2' scope: 'column'|\n",
    "  \n"
   ]
  },
  {
   "cell_type": "code",
   "execution_count": 1,
   "metadata": {
    "collapsed": true
   },
   "outputs": [],
   "source": [
    "import pandas as pd\n",
    "import numpy as np\n",
    "import re"
   ]
  },
  {
   "cell_type": "markdown",
   "metadata": {},
   "source": [
    "# Reading in and structuring the data\n",
    "\n",
    "Choose a file (from the `csv` files in `data/raw`) and create a Dataframe in Pandas. Note that the field `extent` has to be read as string (not float); this is dealt with with the argument `dtype={'extent': object}`. See [stackoverflow](http://stackoverflow.com/questions/13293810/import-pandas-dataframe-column-as-string-not-int)."
   ]
  },
  {
   "cell_type": "code",
   "execution_count": 2,
   "metadata": {
    "collapsed": false
   },
   "outputs": [
    {
     "name": "stdout",
     "output_type": "stream",
     "text": [
      "Filename: Q42_par.csv\n"
     ]
    }
   ],
   "source": [
    "filename = input('Filename: ')"
   ]
  },
  {
   "cell_type": "code",
   "execution_count": 3,
   "metadata": {
    "collapsed": false
   },
   "outputs": [],
   "source": [
    "file = '../data/raw/' + filename\n",
    "df = pd.read_csv(file, dtype={'extent': object}).drop('Unnamed: 0', axis=1)"
   ]
  },
  {
   "cell_type": "code",
   "execution_count": 4,
   "metadata": {
    "collapsed": false
   },
   "outputs": [
    {
     "data": {
      "text/html": [
       "<div>\n",
       "<table border=\"1\" class=\"dataframe\">\n",
       "  <thead>\n",
       "    <tr style=\"text-align: right;\">\n",
       "      <th></th>\n",
       "      <th>id_line</th>\n",
       "      <th>label</th>\n",
       "      <th>lemma</th>\n",
       "      <th>base</th>\n",
       "      <th>extent</th>\n",
       "      <th>scope</th>\n",
       "      <th>id_text</th>\n",
       "      <th>line</th>\n",
       "    </tr>\n",
       "  </thead>\n",
       "  <tbody>\n",
       "    <tr>\n",
       "      <th>0</th>\n",
       "      <td>P235651.1</td>\n",
       "      <td>1</td>\n",
       "      <td>kur[mountain]N eren[cedar]N</td>\n",
       "      <td>kur {ŋeš}eren{ki}</td>\n",
       "      <td>NaN</td>\n",
       "      <td>NaN</td>\n",
       "      <td>P235651</td>\n",
       "      <td>1</td>\n",
       "    </tr>\n",
       "    <tr>\n",
       "      <th>1</th>\n",
       "      <td>P235651.2</td>\n",
       "      <td>2</td>\n",
       "      <td>kurbal[country]N</td>\n",
       "      <td>kur-bal{ki}</td>\n",
       "      <td>NaN</td>\n",
       "      <td>NaN</td>\n",
       "      <td>P235651</td>\n",
       "      <td>2</td>\n",
       "    </tr>\n",
       "    <tr>\n",
       "      <th>2</th>\n",
       "      <td>P235651.3</td>\n",
       "      <td>3</td>\n",
       "      <td>Guʾabak[1]SN</td>\n",
       "      <td>gu₂-ab-ba{ki}</td>\n",
       "      <td>NaN</td>\n",
       "      <td>NaN</td>\n",
       "      <td>P235651</td>\n",
       "      <td>3</td>\n",
       "    </tr>\n",
       "    <tr>\n",
       "      <th>3</th>\n",
       "      <td>P253856.4</td>\n",
       "      <td>o 1</td>\n",
       "      <td>Šumundar[1]WN</td>\n",
       "      <td>{id₂}šu-mu-dar</td>\n",
       "      <td>NaN</td>\n",
       "      <td>NaN</td>\n",
       "      <td>P253856</td>\n",
       "      <td>4</td>\n",
       "    </tr>\n",
       "    <tr>\n",
       "      <th>4</th>\n",
       "      <td>P253856.5</td>\n",
       "      <td>o 2</td>\n",
       "      <td>Mušbiʾana[1]WN</td>\n",
       "      <td>{id₂}muš₂-bi-an-na</td>\n",
       "      <td>NaN</td>\n",
       "      <td>NaN</td>\n",
       "      <td>P253856</td>\n",
       "      <td>5</td>\n",
       "    </tr>\n",
       "  </tbody>\n",
       "</table>\n",
       "</div>"
      ],
      "text/plain": [
       "     id_line label                        lemma                base extent  \\\n",
       "0  P235651.1     1  kur[mountain]N eren[cedar]N   kur {ŋeš}eren{ki}    NaN   \n",
       "1  P235651.2     2             kurbal[country]N         kur-bal{ki}    NaN   \n",
       "2  P235651.3     3                 Guʾabak[1]SN       gu₂-ab-ba{ki}    NaN   \n",
       "3  P253856.4   o 1                Šumundar[1]WN      {id₂}šu-mu-dar    NaN   \n",
       "4  P253856.5   o 2               Mušbiʾana[1]WN  {id₂}muš₂-bi-an-na    NaN   \n",
       "\n",
       "  scope  id_text  line  \n",
       "0   NaN  P235651     1  \n",
       "1   NaN  P235651     2  \n",
       "2   NaN  P235651     3  \n",
       "3   NaN  P253856     4  \n",
       "4   NaN  P253856     5  "
      ]
     },
     "execution_count": 4,
     "metadata": {},
     "output_type": "execute_result"
    }
   ],
   "source": [
    "df.head()"
   ]
  },
  {
   "cell_type": "markdown",
   "metadata": {},
   "source": [
    "## id_text and line\n",
    "The variable `id_line` contains the text ID plus a reference. The reference may be to a column, a line, or a set of broken lines. This reference is turned into an integer and put in the variable `line`. The variables `id_text` and `line` are then used to sort the dataframe."
   ]
  },
  {
   "cell_type": "code",
   "execution_count": 5,
   "metadata": {
    "collapsed": false
   },
   "outputs": [
    {
     "data": {
      "text/html": [
       "<div>\n",
       "<table border=\"1\" class=\"dataframe\">\n",
       "  <thead>\n",
       "    <tr style=\"text-align: right;\">\n",
       "      <th></th>\n",
       "      <th>id_line</th>\n",
       "      <th>label</th>\n",
       "      <th>lemma</th>\n",
       "      <th>base</th>\n",
       "      <th>extent</th>\n",
       "      <th>scope</th>\n",
       "      <th>id_text</th>\n",
       "      <th>line</th>\n",
       "    </tr>\n",
       "  </thead>\n",
       "  <tbody>\n",
       "    <tr>\n",
       "      <th>0</th>\n",
       "      <td>P235651.1</td>\n",
       "      <td>1</td>\n",
       "      <td>kur[mountain]N eren[cedar]N</td>\n",
       "      <td>kur {ŋeš}eren{ki}</td>\n",
       "      <td>NaN</td>\n",
       "      <td>NaN</td>\n",
       "      <td>P235651</td>\n",
       "      <td>1</td>\n",
       "    </tr>\n",
       "    <tr>\n",
       "      <th>1</th>\n",
       "      <td>P235651.2</td>\n",
       "      <td>2</td>\n",
       "      <td>kurbal[country]N</td>\n",
       "      <td>kur-bal{ki}</td>\n",
       "      <td>NaN</td>\n",
       "      <td>NaN</td>\n",
       "      <td>P235651</td>\n",
       "      <td>2</td>\n",
       "    </tr>\n",
       "    <tr>\n",
       "      <th>2</th>\n",
       "      <td>P235651.3</td>\n",
       "      <td>3</td>\n",
       "      <td>Guʾabak[1]SN</td>\n",
       "      <td>gu₂-ab-ba{ki}</td>\n",
       "      <td>NaN</td>\n",
       "      <td>NaN</td>\n",
       "      <td>P235651</td>\n",
       "      <td>3</td>\n",
       "    </tr>\n",
       "    <tr>\n",
       "      <th>3</th>\n",
       "      <td>P253856.4</td>\n",
       "      <td>o 1</td>\n",
       "      <td>Šumundar[1]WN</td>\n",
       "      <td>{id₂}šu-mu-dar</td>\n",
       "      <td>NaN</td>\n",
       "      <td>NaN</td>\n",
       "      <td>P253856</td>\n",
       "      <td>4</td>\n",
       "    </tr>\n",
       "    <tr>\n",
       "      <th>4</th>\n",
       "      <td>P253856.5</td>\n",
       "      <td>o 2</td>\n",
       "      <td>Mušbiʾana[1]WN</td>\n",
       "      <td>{id₂}muš₂-bi-an-na</td>\n",
       "      <td>NaN</td>\n",
       "      <td>NaN</td>\n",
       "      <td>P253856</td>\n",
       "      <td>5</td>\n",
       "    </tr>\n",
       "  </tbody>\n",
       "</table>\n",
       "</div>"
      ],
      "text/plain": [
       "     id_line label                        lemma                base extent  \\\n",
       "0  P235651.1     1  kur[mountain]N eren[cedar]N   kur {ŋeš}eren{ki}    NaN   \n",
       "1  P235651.2     2             kurbal[country]N         kur-bal{ki}    NaN   \n",
       "2  P235651.3     3                 Guʾabak[1]SN       gu₂-ab-ba{ki}    NaN   \n",
       "3  P253856.4   o 1                Šumundar[1]WN      {id₂}šu-mu-dar    NaN   \n",
       "4  P253856.5   o 2               Mušbiʾana[1]WN  {id₂}muš₂-bi-an-na    NaN   \n",
       "\n",
       "  scope  id_text  line  \n",
       "0   NaN  P235651     1  \n",
       "1   NaN  P235651     2  \n",
       "2   NaN  P235651     3  \n",
       "3   NaN  P253856     4  \n",
       "4   NaN  P253856     5  "
      ]
     },
     "execution_count": 5,
     "metadata": {},
     "output_type": "execute_result"
    }
   ],
   "source": [
    "df['line'] = [int(re.sub('.+\\.', '', line)) for line in df['id_line']] #create a line number for sorting\n",
    "df = df.sort_values(['id_text', 'line']).reset_index(drop=True)\n",
    "df.head()"
   ]
  },
  {
   "cell_type": "markdown",
   "metadata": {},
   "source": [
    "## The `skip` variable\n",
    "\n",
    "The variable `skip` is used to compute the distance between two lines in the data set. If a line has data (in `label`, `lemma`, and `base`) `skip` = 0. If, however, the original text has 5 missing lines, there will be a separate row, where `skip` is 5. If there is a gap in the text of unknown length, `skip` will be NaN.\n",
    "\n",
    "The `skip` variable works as follows (simplified data representation):\n",
    "\n",
    "|`label` | `lemma` | `skip` | `line`\n",
    "|--------|----------|--------|------|\n",
    "| o ii 4 | gigir[chariot]N    | 0| 43 |\n",
    "| o ii 5 | sahargi[dustguard]N gigir[chariot]N | 0| 44 |\n",
    "| NaN     | NAN     | 5 | 45 |\n",
    "| o ii 11 | margida[wagon]N | 0| 46 |\n",
    "\n",
    "\n",
    "The distance between the `margida[wagon]N` line and the `gigir[chariot]N` line is 7 (`line`₂ - `line`₁ + `skip`₁:₂ -1).\n",
    "\n",
    "The variable `skip` is computed from the [ORACC](http://oracc.org) variables `extent` and `scope`, which are part of the so-called \\$-line conventions. These conventions are explained in more detail [here](http://oracc.org/doc/help/editinginatf/primer/structuretutorial). A 'strict' \\$-line uses a limited vocabulary to describe the preservation or state of the object on which the text is written. Examples of strict \\$-lines are:,\n",
    "* \\$ beginning of column missing\n",
    "* \\$ 7 lines traces\n",
    "\n",
    "In these examples '7' and 'beginning' are the `extent`; 'column' and 'line' are `scope` ('missing' and 'traces' are `state`. The variable 'state' is ignored here - treating 'missing', 'broken', 'traces', etc. all as absence of data).\n",
    "\n",
    "If lines are missing the `extent` variable will indicate the number of missing lines or columns. A line with data has `extent` NaN.\n",
    "\n",
    "The variable `skip` is computed as follows:\n",
    "\n",
    "* if the line has data (in `label`, `lemma`, and `base`) `skip` = 0\n",
    "* if `scope` == 'column', or anything other than 'line', `skip` = NaN\n",
    "* if `extent` is a digit, `skip` is the integer version of that digit\n",
    "* if `extent` is 'n' or 'beginning' (or anything other than a digit), `skip` = NaN\n",
    "\n",
    "Because NaN cannot be used in a column of integers, `skip` will become a float.\n",
    "\n",
    "## Note to Erin\n",
    "\n",
    "I am proposing here to introduce a new variable `skip` (rather than adjust the variable `extent`). I think that is clearer to outsiders (and to our future selves). I hope the explanation of how it is done is also clearer. I haven't actually done what I describe here - because it would mess with your datastructure. Essentially, everything remains exactly the same, but what was called `extent` will now be called `skip`. Note that the formula for line distance needs more thought. The number of rows that have some `skip` value needs to be subtracted - there should be some smart way of doing that.\n",
    "\n",
    "We could, of course, use `999` instead of `NaN` for `skip` - but I prefer to use `NaN` here and to present the change to `999` as a feature of handing the data off to R."
   ]
  },
  {
   "cell_type": "code",
   "execution_count": 7,
   "metadata": {
    "collapsed": false
   },
   "outputs": [],
   "source": [
    "df.extent = df.extent.fillna('0')\n",
    "df['skip'] = [int(n) if n.isdigit() else np.NaN for n in df.extent]"
   ]
  },
  {
   "cell_type": "markdown",
   "metadata": {},
   "source": [
    "The variable `scope` may include 'line', 'column', 'obverse', etc. Only if scope is `line` the variable 'extent' is meaningful (if, say, 2 columns are missing, 'extent' is '2' but should be NaN because we do not know how many lines those 2 columns represent). If `scope` is NaN `extent` is '0' and should remain so. After this operation the column 'scope' can be dropped."
   ]
  },
  {
   "cell_type": "code",
   "execution_count": 8,
   "metadata": {
    "collapsed": false
   },
   "outputs": [
    {
     "data": {
      "text/html": [
       "<div>\n",
       "<table border=\"1\" class=\"dataframe\">\n",
       "  <thead>\n",
       "    <tr style=\"text-align: right;\">\n",
       "      <th></th>\n",
       "      <th>id_line</th>\n",
       "      <th>label</th>\n",
       "      <th>lemma</th>\n",
       "      <th>base</th>\n",
       "      <th>id_text</th>\n",
       "      <th>line</th>\n",
       "      <th>skip</th>\n",
       "    </tr>\n",
       "  </thead>\n",
       "  <tbody>\n",
       "    <tr>\n",
       "      <th>0</th>\n",
       "      <td>P235651.1</td>\n",
       "      <td>1</td>\n",
       "      <td>kur[mountain]N eren[cedar]N</td>\n",
       "      <td>kur {ŋeš}eren{ki}</td>\n",
       "      <td>P235651</td>\n",
       "      <td>1</td>\n",
       "      <td>0</td>\n",
       "    </tr>\n",
       "    <tr>\n",
       "      <th>1</th>\n",
       "      <td>P235651.2</td>\n",
       "      <td>2</td>\n",
       "      <td>kurbal[country]N</td>\n",
       "      <td>kur-bal{ki}</td>\n",
       "      <td>P235651</td>\n",
       "      <td>2</td>\n",
       "      <td>0</td>\n",
       "    </tr>\n",
       "    <tr>\n",
       "      <th>2</th>\n",
       "      <td>P235651.3</td>\n",
       "      <td>3</td>\n",
       "      <td>Guʾabak[1]SN</td>\n",
       "      <td>gu₂-ab-ba{ki}</td>\n",
       "      <td>P235651</td>\n",
       "      <td>3</td>\n",
       "      <td>0</td>\n",
       "    </tr>\n",
       "    <tr>\n",
       "      <th>3</th>\n",
       "      <td>P253856.4</td>\n",
       "      <td>o 1</td>\n",
       "      <td>Šumundar[1]WN</td>\n",
       "      <td>{id₂}šu-mu-dar</td>\n",
       "      <td>P253856</td>\n",
       "      <td>4</td>\n",
       "      <td>0</td>\n",
       "    </tr>\n",
       "    <tr>\n",
       "      <th>4</th>\n",
       "      <td>P253856.5</td>\n",
       "      <td>o 2</td>\n",
       "      <td>Mušbiʾana[1]WN</td>\n",
       "      <td>{id₂}muš₂-bi-an-na</td>\n",
       "      <td>P253856</td>\n",
       "      <td>5</td>\n",
       "      <td>0</td>\n",
       "    </tr>\n",
       "  </tbody>\n",
       "</table>\n",
       "</div>"
      ],
      "text/plain": [
       "     id_line label                        lemma                base  id_text  \\\n",
       "0  P235651.1     1  kur[mountain]N eren[cedar]N   kur {ŋeš}eren{ki}  P235651   \n",
       "1  P235651.2     2             kurbal[country]N         kur-bal{ki}  P235651   \n",
       "2  P235651.3     3                 Guʾabak[1]SN       gu₂-ab-ba{ki}  P235651   \n",
       "3  P253856.4   o 1                Šumundar[1]WN      {id₂}šu-mu-dar  P253856   \n",
       "4  P253856.5   o 2               Mušbiʾana[1]WN  {id₂}muš₂-bi-an-na  P253856   \n",
       "\n",
       "   line  skip  \n",
       "0     1     0  \n",
       "1     2     0  \n",
       "2     3     0  \n",
       "3     4     0  \n",
       "4     5     0  "
      ]
     },
     "execution_count": 8,
     "metadata": {},
     "output_type": "execute_result"
    }
   ],
   "source": [
    "df.skip = [df.skip[i] if df.scope[i] in ['line', np.NaN] else np.NaN for i in range(len(df))] # line to be activated when introducing `skip`\n",
    "df = df.drop(['scope', 'extent'], axis=1)\n",
    "df.head()"
   ]
  },
  {
   "cell_type": "markdown",
   "metadata": {},
   "source": [
    "## Create Expressions\n",
    "A line in a lexical text may contain more than one word. Usually a list is divided into sections by keyword, for instance:\n",
    "\n",
    "| text                \t| translation                      \t|\n",
    "|---------------------\t|----------------------------------\t|\n",
    "| {ŋeš}gigir          \t| chariot                          \t|\n",
    "| {ŋeš}e₂ gigir       \t| chariot cabin                    \t|\n",
    "| {ŋeš}e₂ usan₃ gigir \t| storage box for the chariot whip \t|\n",
    "| {ŋeš}gaba gigir     \t| breastwork of a chariot          \t|\n",
    "\n",
    "In the comparison between different versions of the list the individual words are less interesting than the *entries*, that is: the sequence of words in a single line. In order to look at entries (rather than words), words in an entry are connected by underscores (_)."
   ]
  },
  {
   "cell_type": "code",
   "execution_count": 9,
   "metadata": {
    "collapsed": false
   },
   "outputs": [
    {
     "data": {
      "text/html": [
       "<div>\n",
       "<table border=\"1\" class=\"dataframe\">\n",
       "  <thead>\n",
       "    <tr style=\"text-align: right;\">\n",
       "      <th></th>\n",
       "      <th>id_line</th>\n",
       "      <th>label</th>\n",
       "      <th>lemma</th>\n",
       "      <th>base</th>\n",
       "      <th>id_text</th>\n",
       "      <th>line</th>\n",
       "      <th>skip</th>\n",
       "      <th>entry</th>\n",
       "    </tr>\n",
       "  </thead>\n",
       "  <tbody>\n",
       "    <tr>\n",
       "      <th>0</th>\n",
       "      <td>P235651.1</td>\n",
       "      <td>1</td>\n",
       "      <td>kur[mountain]N eren[cedar]N</td>\n",
       "      <td>kur {ŋeš}eren{ki}</td>\n",
       "      <td>P235651</td>\n",
       "      <td>1</td>\n",
       "      <td>0</td>\n",
       "      <td>kur[mountain]N_eren[cedar]N</td>\n",
       "    </tr>\n",
       "    <tr>\n",
       "      <th>1</th>\n",
       "      <td>P235651.2</td>\n",
       "      <td>2</td>\n",
       "      <td>kurbal[country]N</td>\n",
       "      <td>kur-bal{ki}</td>\n",
       "      <td>P235651</td>\n",
       "      <td>2</td>\n",
       "      <td>0</td>\n",
       "      <td>kurbal[country]N</td>\n",
       "    </tr>\n",
       "    <tr>\n",
       "      <th>2</th>\n",
       "      <td>P235651.3</td>\n",
       "      <td>3</td>\n",
       "      <td>Guʾabak[1]SN</td>\n",
       "      <td>gu₂-ab-ba{ki}</td>\n",
       "      <td>P235651</td>\n",
       "      <td>3</td>\n",
       "      <td>0</td>\n",
       "      <td>Guʾabak[1]SN</td>\n",
       "    </tr>\n",
       "    <tr>\n",
       "      <th>3</th>\n",
       "      <td>P253856.4</td>\n",
       "      <td>o 1</td>\n",
       "      <td>Šumundar[1]WN</td>\n",
       "      <td>{id₂}šu-mu-dar</td>\n",
       "      <td>P253856</td>\n",
       "      <td>4</td>\n",
       "      <td>0</td>\n",
       "      <td>Šumundar[1]WN</td>\n",
       "    </tr>\n",
       "    <tr>\n",
       "      <th>4</th>\n",
       "      <td>P253856.5</td>\n",
       "      <td>o 2</td>\n",
       "      <td>Mušbiʾana[1]WN</td>\n",
       "      <td>{id₂}muš₂-bi-an-na</td>\n",
       "      <td>P253856</td>\n",
       "      <td>5</td>\n",
       "      <td>0</td>\n",
       "      <td>Mušbiʾana[1]WN</td>\n",
       "    </tr>\n",
       "  </tbody>\n",
       "</table>\n",
       "</div>"
      ],
      "text/plain": [
       "     id_line label                        lemma                base  id_text  \\\n",
       "0  P235651.1     1  kur[mountain]N eren[cedar]N   kur {ŋeš}eren{ki}  P235651   \n",
       "1  P235651.2     2             kurbal[country]N         kur-bal{ki}  P235651   \n",
       "2  P235651.3     3                 Guʾabak[1]SN       gu₂-ab-ba{ki}  P235651   \n",
       "3  P253856.4   o 1                Šumundar[1]WN      {id₂}šu-mu-dar  P253856   \n",
       "4  P253856.5   o 2               Mušbiʾana[1]WN  {id₂}muš₂-bi-an-na  P253856   \n",
       "\n",
       "   line  skip                        entry  \n",
       "0     1     0  kur[mountain]N_eren[cedar]N  \n",
       "1     2     0             kurbal[country]N  \n",
       "2     3     0                 Guʾabak[1]SN  \n",
       "3     4     0                Šumundar[1]WN  \n",
       "4     5     0               Mušbiʾana[1]WN  "
      ]
     },
     "execution_count": 9,
     "metadata": {},
     "output_type": "execute_result"
    }
   ],
   "source": [
    "df['entry'] = df['lemma']\n",
    "df['entry'] = df['entry'].str.replace(' ', '_')\n",
    "df.head()"
   ]
  },
  {
   "cell_type": "markdown",
   "metadata": {},
   "source": [
    "### Passing data to R\n",
    "\n",
    "The first step in passing our data from Python to R is converting the Python null value (`NaN`) to the R null value (`NA`). We do this by converting all `NaN` values in character/string columns to the intermediate value `unknown` and all `NaN` values in our numeric `skip` column to the intermediate value `999`.\n",
    "\n",
    "We will then convert both of these values to `NA` after passing the data to R.\n",
    "\n",
    "The directory `data/pass` is used for passing data from Python to R and vv."
   ]
  },
  {
   "cell_type": "code",
   "execution_count": 10,
   "metadata": {
    "collapsed": false
   },
   "outputs": [],
   "source": [
    "df.skip = df.skip.fillna(999)\n",
    "df = df.fillna('unknown')\n",
    "df.to_csv(\"../data/pass/\" + filename)"
   ]
  },
  {
   "cell_type": "code",
   "execution_count": null,
   "metadata": {
    "collapsed": true
   },
   "outputs": [],
   "source": []
  }
 ],
 "metadata": {
  "anaconda-cloud": {},
  "kernelspec": {
   "display_name": "Python 3",
   "language": "python",
   "name": "python3"
  },
  "language_info": {
   "codemirror_mode": {
    "name": "ipython",
    "version": 3
   },
   "file_extension": ".py",
   "mimetype": "text/x-python",
   "name": "python",
   "nbconvert_exporter": "python",
   "pygments_lexer": "ipython3",
   "version": "3.6.0"
  }
 },
 "nbformat": 4,
 "nbformat_minor": 2
}
