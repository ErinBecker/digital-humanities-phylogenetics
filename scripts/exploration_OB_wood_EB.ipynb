{
 "cells": [
  {
   "cell_type": "markdown",
   "metadata": {},
   "source": [
    "# Old Babylonian Lists of Trees and Wooden Objects"
   ]
  },
  {
   "cell_type": "markdown",
   "metadata": {},
   "source": [
    "## Introduction to research questions and analysis plan\n",
    "\n",
    "We are interested in understanding relationships among extant versions of lexical texts. Patterns in similarity of these texts may provide important information about text provenance and/or routes of influence from one geographical area onto another. \n",
    "\n",
    "We are also interested in understanding the patterns by which lexical texts evolved and changed. \n",
    "\n",
    "In comparing versions of a lexical text we may think of four types of features: \n",
    "\n",
    "1) presence or absence of entries  \n",
    "2) order of entries within a section  \n",
    "3) order of sections in a document  \n",
    "4) spelling of words  \n",
    "\n",
    "The following sections will explore these four features independently and in combination to uncover patterns of similarity among documents."
   ]
  },
  {
   "cell_type": "markdown",
   "metadata": {},
   "source": [
    "## Introduction to dataset and data structure\n",
    "\n",
    "This notebook uses data from the Digital Corpus of Cuneiform Lexical Texts ([DCCLT](http://oracc.org/dcclt)) derived from parsed JSON files. For the JSON output from the Open Richly Annotated Cuneiform Corpus ([ORACC](http://oracc.org)) see the [ORACC Open Data documentation](http://oracc.museum.upenn.edu/doc/opendata/index.html).  \n",
    "\n",
    "The JSON files are parsed with the notebook [grab_json.ipynb](https://github.com/ErinBecker/digital-humanities-phylogenetics/blob/master/scripts/grab_json.ipynb). This notebook takes an input file, identifying the text IDs of the documents to be parsed. The input file is [ob_lists_wood.txt](https://github.com/ErinBecker/digital-humanities-phylogenetics/blob/master/data/text_ids/ob_lists_wood.txt). \n",
    "\n",
    "The input file lists all the Text IDs of Old Babylonian lists of trees and wooden objects currently in [DCCLT](http://oracc.org/dcclt), as well as the composite text of the [Nippur version](http://oracc.org/Q000039). Text IDs consist of a P plus a six-digit number (commonly referred to as P-number) that is recognized by [ORACC](http://oracc.org) and by the Cuneiform Digital Library Initiative ([CDLI](http://cdli.ucla.edu)) and that has become the de-facto standard in Assyriology. [CDLI](http://cdli.ucla.edu) provides metadata (provenience, period, publication, museum number, etc) for each text. Composite text IDs consist of a Q plus a six-digit number (for instance Q000039). Texts that have not (yet) been cataloged in [CDLI](http://cdli.ucla.edu) receive a (temporary) six-digit X number.\n",
    "\n",
    "The data are placed in the directory [data](https://github.com/ErinBecker/digital-humanities-phylogenetics/tree/master/data). The are comma-separated files have the following fields: \n",
    "\n",
    "| field         | description                     |\n",
    "|-----------\t|------------------------------------------------------------------------------------------------------------------------------------------------------\t|\n",
    "| id_line   \t| consists of a text ID (P, Q, or X number) plus a reference number \t|\n",
    "| label \t| line number: obverse/reverse, column number, line number (e.g. o ii 16')                                                          \t|\n",
    "| lemma      \t| Sumerian words in lemmatized form (e.g. lugal[king]N); for unlemmatized words the raw transliteration is taken                                                                                  \t|\n",
    "| base      \t| Sumerian words in original spelling, but without morphological prefixes or suffixes   |\n",
    "| extent | (for missing data): how many lines or columns (restricted vocabulary) are missing|\n",
    "| scope | (for missing data): what is missing - line, column, face, or surface (restricted vocabulary) |\n",
    "\n",
    "There are various types of missing data, represented in different ways. A word that is present, but not lemmatized is represented in its transliterated form, followed by [NA]NA (that is: Guideword and POS are both NA). Words that are partly or entirely illegible on the original document are by definition unlemmatized and are handled the same way.\n",
    "\n",
    "Lines or multiple lines that are missing are indicated in the fields `extent` and `scope`. `Extent` gives the number of missing lines (or missing columns, etc). The restricted vocabulary includes numbers and the words 'n' (unknown), 'beginning', and 'rest'. `Scope` indicates the scope of the missing text: line, column, obverse, etc.\n",
    "\n",
    "| type         | how represented                     |\n",
    "|-----------\t|------------------------------------------------------------------------------------------------------------------------------------------------------\t|\n",
    "| words with unknown lemmatization| siki-siki[NA]NA |\n",
    "| illegible words | x[NA]NA |\n",
    "| known number of missing lines \t|extent: '5' scope: 'line' |\n",
    "| unknown number of missing lines\t|extent: 'n' scope: 'line |\n",
    "| two missing columns  | extent: '2' scope: 'column'|\n",
    "  \n"
   ]
  },
  {
   "cell_type": "code",
   "execution_count": 2,
   "metadata": {
    "collapsed": true
   },
   "outputs": [],
   "source": [
    "import pandas as pd\n",
    "import numpy as np\n",
    "import re"
   ]
  },
  {
   "cell_type": "code",
   "execution_count": 3,
   "metadata": {
    "collapsed": false
   },
   "outputs": [
    {
     "name": "stdout",
     "output_type": "stream",
     "text": [
      "The rpy2.ipython extension is already loaded. To reload it, use:\n",
      "  %reload_ext rpy2.ipython\n"
     ]
    }
   ],
   "source": [
    "import rpy2.ipython\n",
    "%load_ext rpy2.ipython"
   ]
  },
  {
   "cell_type": "markdown",
   "metadata": {},
   "source": [
    "## Troubleshooting note:  \n",
    "When running R as a magic within Jupyter notebook, running install.packages() leads to the notebook prompting you for a selection. It turns out that this is due to the fact that anaconda actually installs a second R installation and stores installed packages separately from the users \"main\" R installation.  \n",
    "\n",
    "To avoid this issue, run '.libPaths()' within R in your console to find the path where anaconda stores your packages. You can then download binaries from CRAN and put them in that directory.  \n",
    "\n",
    "Once you've placed the downloaded packages into the correct directory, you can run the following to load the relevant libraries. Remember to replace the `lib.loc` variable your anaconda R library location."
   ]
  },
  {
   "cell_type": "markdown",
   "metadata": {},
   "source": [
    "### R Package list\n",
    "\n",
    "The following R packages are used in this notebook.\n",
    "\n",
    "ggplot2()  \n",
    "ggdendro()  \n",
    "Rlibstree() (a Bioconductor package)   \n",
    "reshape()  \n",
    "scales()    "
   ]
  },
  {
   "cell_type": "code",
   "execution_count": 8,
   "metadata": {
    "collapsed": false
   },
   "outputs": [],
   "source": [
    "%%R\n",
    "#library(ggplot2, lib.loc = \"/anaconda/lib/R/library\")\n",
    "#library(ggdendro, lib.loc = \"/anaconda/lib/R/library\")\n",
    "#library(reshape, lib.loc = \"/anaconda/lib/R/library\")\n",
    "#library(scales, lib.loc = \"/anaconda/lib/R/library\")\n",
    "library(ggplot2, lib.loc = \"/Library/Frameworks/R.framework/Versions/3.2/Resources/library\")\n",
    "library(ggdendro, lib.loc = \"/Library/Frameworks/R.framework/Versions/3.2/Resources/library\")\n",
    "library(reshape, lib.loc = \"/Library/Frameworks/R.framework/Versions/3.2/Resources/library\")\n",
    "library(scales, lib.loc = \"/Library/Frameworks/R.framework/Versions/3.2/Resources/library\")\n"
   ]
  },
  {
   "cell_type": "markdown",
   "metadata": {},
   "source": [
    "### Installing Rlibstree and Bioconductor\n",
    "\n",
    "To calculate the longest shared substring between two entries, we are using the `Rlibstree` package from Bioconductor. The following two cells install Bioconductor and the package we want, repectively, and only need to be run once. You will get a prompt box with no text. This is for updating the packages listed in the warning box. I suggest entering \"n\" for no, as the notebook seems to have a problem with updating all the listed packages and times out."
   ]
  },
  {
   "cell_type": "code",
   "execution_count": 20,
   "metadata": {
    "collapsed": false
   },
   "outputs": [
    {
     "name": "stdout",
     "output_type": "stream",
     "text": [
      "\n",
      "Error: package or namespace load failed for ‘Rlibstree’\n"
     ]
    }
   ],
   "source": [
    "%%R\n",
    "#source(\"http://bioconductor.org/biocLite.R\")\n",
    "#biocLite(\"BiocInstaller\")\n",
    "#library(BiocInstaller)\n",
    "#biocLite(\"Rlibstree\")\n",
    "\n",
    "library(\"Rlibstree\", lib.loc = \"/Library/Frameworks/R.framework/Versions/3.2/Resources/library\")"
   ]
  },
  {
   "cell_type": "markdown",
   "metadata": {},
   "source": [
    "# Reading in and structuring the data\n",
    "Open file `ob_lists_wood.csv` and create a Dataframe in Pandas.  "
   ]
  },
  {
   "cell_type": "code",
   "execution_count": null,
   "metadata": {
    "collapsed": false
   },
   "outputs": [],
   "source": [
    "file = '../data/ob_lists_wood.csv'\n",
    "df = pd.read_csv(file).drop('Unnamed: 0', axis=1)"
   ]
  },
  {
   "cell_type": "code",
   "execution_count": null,
   "metadata": {
    "collapsed": false
   },
   "outputs": [],
   "source": [
    "df.head()"
   ]
  },
  {
   "cell_type": "markdown",
   "metadata": {},
   "source": [
    "## id_text and line\n",
    "The variable `id_line` contains the text ID plus a reference. The reference may be to a column, a line, or a set of broken lines. The text ID is put in the variable `id_text` and the reference is turned into an integer and put in the variable `line`. The variables `id_text` and `line` are then used to sort the dataframe."
   ]
  },
  {
   "cell_type": "code",
   "execution_count": null,
   "metadata": {
    "collapsed": false
   },
   "outputs": [],
   "source": [
    "df['id_text'] = df['id_line'].str[:7]\n",
    "df['line'] = [int(re.sub('.+\\.', '', line)) for line in df['id_line']] #create a line number for sorting\n",
    "df = df.sort_values(['id_text', 'line']).reset_index(drop=True)\n",
    "df.head()"
   ]
  },
  {
   "cell_type": "markdown",
   "metadata": {},
   "source": [
    "## The `skip` variable\n",
    "\n",
    "The variable `skip` is used to compute the distance between two lines in the data set. If a line has data (in `label`, `lemma`, and `base`) `skip` = 0. If, however, the original text has 5 missing lines, there will be a separate row, where `skip` is 5. If there is a gap in the text of unknown length, `skip` will be NaN.\n",
    "\n",
    "The `skip` variable works as follows (simplified data representation):\n",
    "\n",
    "|`label` | `lemma` | `skip` | `line`\n",
    "|--------|----------|--------|------|\n",
    "| o ii 4 | gigir[chariot]N    | 0| 43 |\n",
    "| o ii 5 | sahargi[dustguard]N gigir[chariot]N | 0| 44 |\n",
    "| NaN     | NAN     | 5 | 45 |\n",
    "| o ii 11 | margida[wagon]N | 0| 46 |\n",
    "\n",
    "\n",
    "The distance between the `margida[wagon]N` line and the `gigir[chariot]N` line is 7 (`line`₂ - `line`₁ + `skip`₁:₂ -1).\n",
    "\n",
    "The variable `skip` is computed from the [ORACC](http://oracc.org) variables `extent` and `scope`, which are part of the so-called \\$-line conventions. These conventions are explained in more detail [here](http://oracc.org/doc/help/editinginatf/primer/structuretutorial). A 'strict' \\$-line uses a limited vocabulary to describe the preservation or state of the object on which the text is written. Examples of strict \\$-lines are:,\n",
    "* \\$ beginning of column missing\n",
    "* \\$ 7 lines traces\n",
    "\n",
    "In these examples '7' and 'beginning' are the `extent`; 'column' and 'line' are `scope` ('missing' and 'traces' are `state`. The variable 'state' is ignored here - treating 'missing', 'broken', 'traces', etc. all as absence of data).\n",
    "\n",
    "If lines are missing the `extent` variable will indicate the number of missing lines or columns. A line with data has `extent` NaN.\n",
    "\n",
    "The variable `skip` is computed as follows:\n",
    "\n",
    "* if the line has data (in `label`, `lemma`, and `base`) `skip` = 0\n",
    "* if `scope` == 'column', or anything other than 'line', `skip` = NaN\n",
    "* if `extent` is a digit, `skip` is the integer version of that digit\n",
    "* if `extent` is 'n' or 'beginning' (or anything other than a digit), `skip` = NaN\n",
    "\n",
    "Because NaN cannot be used in a column of integers, `skip` will become a float.\n",
    "\n",
    "## Note to Erin\n",
    "\n",
    "I am proposing here to introduce a new variable `skip` (rather than adjust the variable `extent`). I think that is clearer to outsiders (and to our future selves). I hope the explanation of how it is done is also clearer. I haven't actually done what I describe here - because it would mess with your datastructure. Essentially, everything remains exactly the same, but what was called `extent` will now be called `skip`. Note that the formula for line distance needs more thought. The number of rows that have some `skip` value needs to be subtracted - there should be some smart way of doing that.\n",
    "\n",
    "We could, of course, use `999` instead of `NaN` for `skip` - but I prefer to use `NaN` here and to present the change to `999` as a feature of handing the data off to R."
   ]
  },
  {
   "cell_type": "code",
   "execution_count": null,
   "metadata": {
    "collapsed": false
   },
   "outputs": [],
   "source": [
    "df.extent = df.extent.fillna('0')\n",
    "df['skip'] = [int(n) if n.isdigit() else np.NaN for n in df.extent]"
   ]
  },
  {
   "cell_type": "markdown",
   "metadata": {},
   "source": [
    "The variable `scope` may include 'line', 'column', 'obverse', etc. Only if scope is `line` the variable 'extent' is meaningful (if, say, 2 columns are missing, 'extent' is '2' but should be NaN because we do not know how many lines those 2 columns represent). If `scope` is NaN `extent` is '0' and should remain so. After this operation the column 'scope' can be dropped."
   ]
  },
  {
   "cell_type": "code",
   "execution_count": null,
   "metadata": {
    "collapsed": false
   },
   "outputs": [],
   "source": [
    "df.skip = [df.skip[i] if df.scope[i] in ['line', np.NaN] else np.NaN for i in range(len(df))] # line to be activated when introducing `skip`\n",
    "df = df.drop(['scope', 'extent'], axis=1)\n",
    "df.head()"
   ]
  },
  {
   "cell_type": "code",
   "execution_count": null,
   "metadata": {
    "collapsed": false
   },
   "outputs": [],
   "source": [
    "#df.loc[df.skip > 0].head()\n",
    "#df.iloc[80:90]"
   ]
  },
  {
   "cell_type": "markdown",
   "metadata": {},
   "source": [
    "## Create Expressions\n",
    "A line in a lexical text may contain more than one word. Usually a list is divided into sections by keyword, for instance:\n",
    "\n",
    "| text                \t| translation                      \t|\n",
    "|---------------------\t|----------------------------------\t|\n",
    "| {ŋeš}gigir          \t| chariot                          \t|\n",
    "| {ŋeš}e₂ gigir       \t| chariot cabin                    \t|\n",
    "| {ŋeš}e₂ usan₃ gigir \t| storage box for the chariot whip \t|\n",
    "| {ŋeš}gaba gigir     \t| breastwork of a chariot          \t|\n",
    "\n",
    "In the comparison between different versions of the list the individual words are less interesting than the *entries*, that is: the sequence of words in a single line. In order to look at entries (rather than words), words in an entry are connected by underscores (_). Since in this case all words are in Sumerian, the language designation (sux:) is removed from the field `entry`."
   ]
  },
  {
   "cell_type": "code",
   "execution_count": null,
   "metadata": {
    "collapsed": false
   },
   "outputs": [],
   "source": [
    "df['entry'] = df['lemma']\n",
    "df['entry'] = df['entry'].str.replace(' ', '_')\n",
    "df.head()\n",
    "#df.to_csv(\"../data/ob_lists_wood_w_id_text.csv\")"
   ]
  },
  {
   "cell_type": "markdown",
   "metadata": {},
   "source": [
    "## Group by Document\n",
    "The `groupby()` function is used to group the data by document. The function `apply(' '.join)` concatenates the text in the `entries` column, separating them with a white space. The Pandas `groupby()` function results in a series, which is then tranformed into a new Dataframe."
   ]
  },
  {
   "cell_type": "code",
   "execution_count": null,
   "metadata": {
    "collapsed": false
   },
   "outputs": [],
   "source": [
    "df['entry'] = df['entry'].fillna('')\n",
    "entries_df = df[['id_text', 'line', 'entry']]\n",
    "#entries_df = entries_df.dropna()\n",
    "grouped = entries_df['entry'].groupby(entries_df['id_text']).apply(' '.join).reset_index()\n",
    "by_text_df = pd.DataFrame(grouped)\n",
    "by_text_df = by_text_df.set_index('id_text')\n",
    "by_text_df.head()"
   ]
  },
  {
   "cell_type": "markdown",
   "metadata": {},
   "source": [
    "## Questions for Niek\n",
    "1) What does the symbol \"~\" mean in the lemmatization? For example in row number one of the df above \"~tree\". \n",
    "\n",
    "NV: This means: \"pertains to\" and is used for words of vague or unclear semantics.\n",
    "\n",
    "2) Can you explain what's going on with the \"line\" column? It appears to start at an arbitrary number for each document.  \n",
    "\n",
    "NV: The field `line` is derived directly from the field `id_line`, minus the `id_text` (P-number) element. `Id_line` is a string but `line` is an integer, used to keep the lines in the right order.  \n",
    "\n",
    "3) Why do the first several entries in the DTM start with a number? It looks like these are all words that are unlematized. What do the numbers refer to? Is \"10[na]_na\" different from \"11[na]_na\"?\n",
    "\n",
    "NV: Some of these entries come from P251686 - and they indicate a problem we hadn't seen before. This is a tablet that combines a list of wooden objects with a metrological table. The metrological table shouldn't be here - there are, I believe, a few other such instances."
   ]
  },
  {
   "cell_type": "markdown",
   "metadata": {},
   "source": [
    "# Part 1: Analysis based on order of entries within a section"
   ]
  },
  {
   "cell_type": "markdown",
   "metadata": {},
   "source": [
    "## Defining sections\n",
    "\n",
    "The first step in analyzing order of entries within a section must be defining what constitutes a section. We've discussed three methods for defining sections. \n",
    "\n",
    "**1) Expert definition.**  \n",
    "**2) Automated based on composite text (eg. Q000039).**  \n",
    "**3) Automated based on entry proximity.** \n",
    "\n",
    "These methods are described more below:\n",
    "\n",
    "\n",
    "**1) Expert definition.**  \n",
    "Expert manually determines section boundaries based on knowledge of text type. This approach is the most sound, but does not scale. If we relied on this method, we would not be able to use our workflow with other collections of lexical lists without a time-intensive manual step. This method will be set aside for now. We may, however, want to leave users (assuming there ever are any) the option to read in and use their own section definitions for downstream analyses.  \n",
    "\n",
    "**2) Automated based on composite text.**  \n",
    "A composite text is read in and breakpoints in the text are determined based on fuzzy matching of similar words (either in base or lemma). Entries between those breakpoints are assumed to belong to the same section. This method would need to be tested and perhaps supervised to ensure that nonsense sections (a collection of words that don't really belong to any section) aren't grouped together. It may also miss sections that are based not on similarity of words (e.g. \"palm\") but similarity of object type or use (e.g. \"bowl\", \"spoon\", \"cup\"), unless that section is between two sections that are picked up by this method.  \n",
    "\n",
    "Based on the following (artificial) Q text, this method should lead to three sections. Lines 1-4 (related to palm), lines 5-8 (related to polar), and lines 9-14 (related to tree). \n",
    "\n",
    "*1) ŋešnimbar[palm]N*  \n",
    "*2) ŋešnimbar[palm]N sux:suhuš[offshoot]N*  \n",
    "*3) deg[collect]V/t sux:ŋešnimbar[palm]N*  \n",
    "*4) niŋkiluh[broom]N sux:ŋešnimbar[palm]N*  \n",
    "*5) asal[poplar]N*  \n",
    "*6) asal[poplar]N sux:kur[mountain]N*  \n",
    "*7) asal[poplar]N sux:dug[good]V/i*  \n",
    "*8) numun[seed]N sux:asal[poplar]N*  \n",
    "*9) ilur[tree]N*  \n",
    "*10) ad[bush]N*  \n",
    "*11) kišig[acacia]N*  \n",
    "*12) kišighar[tree]N*  \n",
    "*13) samazum[tree]N*  \n",
    "*14) peškal[tree]N*  \n",
    "\n",
    "**3) Automated based on entry proximity**  \n",
    "Lines that always apear within a certain (small) distance from each other could be considered to be part of the same section. Sections are defined based on entire corpus, not just a composite text. (eg. moving window, ~6-8 lines, middle in target)"
   ]
  },
  {
   "cell_type": "markdown",
   "metadata": {},
   "source": [
    "## Method 2) Automated based on composite text."
   ]
  },
  {
   "cell_type": "markdown",
   "metadata": {},
   "source": [
    "Our strategy for implementing this method is the following:  \n",
    "1) First, calculate the degree of similarity between any two adjacent entries in the source/composite document. This similarity can take two independent forms:\n",
    "- shared character strings in the Sumerian (citation form) or the English (guideword)\n",
    "- shared entire words (citation forms and/or guidewords)  \n",
    "\n",
    "2) Next, determine appropriate cutoff values for similarity that distinguish between sections.    \n",
    "3) Next, automatically assign a name to each section for ease of reference.  \n",
    "4) Finally, output a file containing the entries present in each section. \n",
    "\n",
    "We can then use these section definitions to analyze similarities and differences between texts."
   ]
  },
  {
   "cell_type": "markdown",
   "metadata": {},
   "source": [
    "### Passing data to R\n",
    "\n",
    "The first step in passing our data from Python to R is converting the Python null value (`NaN`) to the R null value (`NA`). We do this by converting all `NaN` values in character/string columns to the intermediate value `unknown` and all `NaN` values in our numeric `skip` column to the intermediate value `999`.\n",
    "\n",
    "We will then convert both of these values to `NA` after passing the data to R."
   ]
  },
  {
   "cell_type": "code",
   "execution_count": null,
   "metadata": {
    "collapsed": false
   },
   "outputs": [],
   "source": [
    "df.skip = df.skip.fillna(999)\n",
    "df = df.fillna('unknown')"
   ]
  },
  {
   "cell_type": "markdown",
   "metadata": {},
   "source": [
    "We then bring the data into R, convert the `lemma`, `base` and `entry` columns into character strings and check that all columns are represented correctly in R."
   ]
  },
  {
   "cell_type": "code",
   "execution_count": null,
   "metadata": {
    "collapsed": false
   },
   "outputs": [],
   "source": [
    "%%R -i df\n",
    "\n",
    "df$lemma = as.character(df$lemma)\n",
    "df$base = as.character(df$base)\n",
    "df$entry = as.character(df$entry)\n",
    "str(df)"
   ]
  },
  {
   "cell_type": "code",
   "execution_count": null,
   "metadata": {
    "collapsed": false
   },
   "outputs": [],
   "source": [
    "%%R\n",
    "\n",
    "## Functions\n",
    "get_guidewords = function(line) {\n",
    "  # extract all guidewords for an entry into character vector\n",
    "  line = unlist(strsplit(line, \"_\"))\n",
    "  line = gsub(\".*\\\\[\", \"\", line)\n",
    "  line = gsub(\"\\\\].*\", \"\", line)\n",
    "  line = gsub(\"~\", \"\", line)\n",
    "  guidewords = line\n",
    "  guidewords = guidewords[which(guidewords != \"na\")]\n",
    "  guidewords\n",
    "}\n",
    "\n",
    "get_citation_forms = function(line) {\n",
    "  # extract all citation forms for an entry into character vector\n",
    "  line = unlist(strsplit(line, \"_\"))\n",
    "  line = gsub(\"(.*)\\\\[.*\", \"\\\\1\", line)\n",
    "  citation_form = line\n",
    "  citation_form = citation_form[which(citation_form != \"na\")]\n",
    "  citation_form\n",
    "}\n",
    "\n",
    "clean_kmer = function(x) {\n",
    "  # get rid of part of speech (follows each ])\n",
    "#  x = gsub(\"(\\\\])[a-zA-Z/]*_\", paste0(\"\\\\1\", \"_\"), x) #for all but last word\n",
    "  x = gsub(\"(\\\\])[a-zA-Z/]*\", \"\\\\1\", x) #for all but last word\n",
    "#  x = gsub(\"(_.*\\\\])[a-zA-Z/]*\", \"\\\\1\", x) #for last word\n",
    "  \n",
    "  # get rid of punctuation (but only {}[]_.)\n",
    "  x = gsub(\"\\\\]\", \"\", x)\n",
    "  x = gsub(\"\\\\[\", \"\", x)\n",
    "  x = gsub(\"\\\\{\", \"\", x)\n",
    "  x = gsub(\"\\\\}\", \"\", x)\n",
    "  x = gsub(\"_\", \"\", x)\n",
    "  x = gsub(\"\\\\.\", \"\", x)\n",
    "  x = gsub(\"~\", \"\", x)\n",
    "  x\n",
    "}\n",
    "\n",
    "def_section_breaks = function(df, cutoff) {\n",
    "  # a section ends anytime overlap is zero and k is below the defined cutoff\n",
    "  df$section = NA\n",
    "  sect_num = 1\n",
    "  first_section_start = which(df$overlap > 0 | df$k >= cutoff)[1]\n",
    "  df$section[first_section_start] = sect_num\n",
    "  section_break = FALSE\n",
    "  \n",
    "  for (i in (first_section_start):nrow(df)) {\n",
    "    if (df$overlap[i] > 0 | df$k[i] >= cutoff) {\n",
    "      if (section_break == TRUE) { sect_num = sect_num + 1 }\n",
    "      df$section[i] = sect_num\n",
    "      section_break = FALSE\n",
    "    } \n",
    "    else { \n",
    "      df$section[i] = NA\n",
    "      section_break = TRUE\n",
    "    }}\n",
    "  df\n",
    "}\n",
    "\n",
    "extract_sections = function(df, file) {\n",
    "  # writes all entries present in each section to a file\n",
    "  section_nums = unique(df$section[!is.na(df$section)])\n",
    "  sections = data.frame(sapply(section_nums, function(x) x = character(max(table(df$section)) + 1)))\n",
    "  \n",
    "  for (i in section_nums) {\n",
    "    elements = unique(c(df[which(df$section == i),]$line_a, df[which(df$section == i),]$line_b))\n",
    "    missing = max(table(df$section) + 1) - length(elements)\n",
    "    elements = c(elements, rep(NA, missing))\n",
    "    sections[,i] = elements \n",
    "    colnames(sections)[i] = paste(get_guidewords(sections[1,i]), collapse = \"_\")\n",
    "  }\n",
    "  write.csv(sections, file, row.names = FALSE, quote = FALSE)\n",
    "}"
   ]
  },
  {
   "cell_type": "code",
   "execution_count": null,
   "metadata": {
    "collapsed": true
   },
   "outputs": [],
   "source": [
    "%%R\n",
    "compare_entries = function(infile, cutoff, outfile) {\n",
    "  name = strsplit(infile, \"\\\\.\")[[1]][1]\n",
    "  df_composite = read.csv(infile, stringsAsFactors = FALSE)\n",
    "  # remove lines in df representing missing lines or sections\n",
    "  empty_lines = which(df_composite$entry == \"\")\n",
    "  if (length(empty_lines) != 0) {df_composite = df_composite[-empty_lines,] }\n",
    "  \n",
    "  # initialize empty data frame for storing results\n",
    "  num_rows = nrow(df_composite) - 1\n",
    "  df_compare = data.frame(line_a = character(num_rows), \n",
    "                          line_b = character(num_rows),\n",
    "                          overlap = numeric(num_rows),\n",
    "                          kmer = character(num_rows),\n",
    "                          k = numeric(num_rows),\n",
    "                          stringsAsFactors = FALSE)\n",
    "  \n",
    "  for (i in 1:nrow(df_composite) - 1) {\n",
    "    line_a = tolower(df_composite$entry[i])\n",
    "    guidewords_a = get_guidewords(line_a)\n",
    "    citation_form_a = get_citation_forms(line_a)\n",
    "    \n",
    "    line_b = tolower(df_composite$entry[i + 1])\n",
    "    guidewords_b = get_guidewords(line_b)\n",
    "    citation_form_b = get_citation_forms(line_b)\n",
    "    \n",
    "    line_a_clean = clean_kmer(line_a)\n",
    "    line_b_clean = clean_kmer(line_b)\n",
    "    kmer = getLongestCommonSubstring(c(line_a_clean, line_b_clean))\n",
    "    kmer = gsub(\"[\\x80-\\xFF]\", \"\", kmer) # get rid of multibyte strings introduced by Rlibstree\n",
    "    k = nchar(kmer)\n",
    "    if (length(kmer) == 0) {\n",
    "        kmer = NA\n",
    "        k = 0 }\n",
    "    \n",
    "    overlap = sum(citation_form_a %in% citation_form_b) + sum(guidewords_a %in% guidewords_b)\n",
    "    \n",
    "    df_compare$line_a[i] = line_a\n",
    "    df_compare$line_b[i] = line_b\n",
    "    df_compare$overlap[i] = overlap\n",
    "    df_compare$kmer[i] = kmer\n",
    "    df_compare$k[i] = k\n",
    "  }\n",
    "  plot(df_compare$overlap, pch = \".\", main = name, ylab = \"# matching words\", xlab = \"line number\")\n",
    "  df_compare = def_section_breaks(df_compare, cutoff = cutoff)\n",
    "  plot(table(df_compare$section), main = name, ylab = \"# entries in section\", xlab = \"section\")\n",
    "  extract_sections(df_compare, outfile)\n",
    "  df_compare\n",
    "}"
   ]
  },
  {
   "cell_type": "code",
   "execution_count": null,
   "metadata": {
    "collapsed": false
   },
   "outputs": [],
   "source": [
    "%%R\n",
    "\n",
    "setwd(\"/Users/ebecker/Box Sync/digital-humanities-phylogenetics/data/composite_texts/\")\n",
    "\n",
    "Q1 = compare_entries(\"Q000001.csv\", cutoff = 3, \"Q000001_sections.csv\")\n",
    "Q39 = compare_entries(\"Q000039.csv\", cutoff = 3, \"Q000039_sections.csv\")\n",
    "Q40 = compare_entries(\"Q000040.csv\", cutoff = 3, \"Q000040_sections.csv\")\n",
    "Q41 = compare_entries(\"Q000041.csv\", cutoff = 3, \"Q000041_sections.csv\")\n",
    "Q42 = compare_entries(\"Q000042.csv\", cutoff = 3, \"Q000042_sections.csv\")"
   ]
  },
  {
   "cell_type": "code",
   "execution_count": null,
   "metadata": {
    "collapsed": false
   },
   "outputs": [],
   "source": [
    "%%R\n",
    "\n",
    "####### Read in section definitions from file #######\n",
    "\n",
    "Q1_sections = read.csv(\"Q000001_sections.csv\", stringsAsFactors = FALSE)\n",
    "Q39_sections = read.csv(\"Q000039_sections.csv\", stringsAsFactors = FALSE)\n",
    "Q40_sections = read.csv(\"Q000040_sections.csv\", stringsAsFactors = FALSE)\n",
    "Q41_sections = read.csv(\"Q000040_sections.csv\", stringsAsFactors = FALSE)\n",
    "Q42_sections = read.csv(\"Q000042_sections.csv\", stringsAsFactors = FALSE)"
   ]
  },
  {
   "cell_type": "markdown",
   "metadata": {},
   "source": [
    "# Map sections to documents\n",
    "\n",
    "For each document in a corpus, determine whether each section represented in the reference text is present in that document. For each section, determine how many times an entry from that section is present in each document."
   ]
  },
  {
   "cell_type": "code",
   "execution_count": null,
   "metadata": {
    "collapsed": true
   },
   "outputs": [],
   "source": [
    "%%R \n",
    "\n",
    "map_sections = function(corpus_file, section_defs) {\n",
    "# Read in a csv listing all documents in corpus\n",
    "    corpus = read.csv(corpus_file)\n",
    "# make df to store results\n",
    "    doc_list = unique(corpus$id_text)\n",
    "    section_names = colnames(section_defs)\n",
    "    section_df = data.frame(sapply(doc_list, function(x) \n",
    "        x = numeric(length(section_names))), row.names = section_names)\n",
    "    colnames(section_df) = doc_list\n",
    "    doc_list = as.character(doc_list)\n",
    "        \n",
    "# iterate through sections and documents to populate df counts\n",
    "    for (j in unique(doc_list)) {\n",
    "        entries = as.character(corpus[which(corpus$id_text == j),]$entry)\n",
    "        for (i in 1:ncol(section_defs)) {\n",
    "            presence = sum(section_defs[,i] %in% tolower(entries))\n",
    "            # if (presence > 0) presence = 1\n",
    "            section_df[i, j] = presence \n",
    "            }\n",
    "      section_df\n",
    "    }\n",
    "section_df\n",
    "}\n"
   ]
  },
  {
   "cell_type": "code",
   "execution_count": null,
   "metadata": {
    "collapsed": false
   },
   "outputs": [],
   "source": [
    "%%R\n",
    "\n",
    "test = map_sections(\"../ob_lists_wood_w_id_text.csv\", Q39_sections)\n",
    "head(test)"
   ]
  },
  {
   "cell_type": "code",
   "execution_count": null,
   "metadata": {
    "collapsed": false
   },
   "outputs": [],
   "source": [
    "%%R\n",
    "\n",
    "test2 = map_sections(\"../Q01_par.csv\", Q1_sections)\n",
    "test2$section_name = row.names(test2)\n",
    "head(test2)"
   ]
  },
  {
   "cell_type": "code",
   "execution_count": null,
   "metadata": {
    "collapsed": false
   },
   "outputs": [],
   "source": [
    "%%R\n",
    "# Put data into form that can be plotted by geom_tile in ggplot2\n",
    "\n",
    "melted_df = melt(test2)\n",
    "head(melted_df)"
   ]
  },
  {
   "cell_type": "code",
   "execution_count": null,
   "metadata": {
    "collapsed": false
   },
   "outputs": [],
   "source": [
    "%%R\n",
    "\n",
    "melted_df_binary = melted_df\n",
    "for (i in 1:nrow(melted_df_binary)) {\n",
    "  if (melted_df_binary$value[i] > 0) melted_df_binary$value[i] = 1\n",
    "}\n",
    "\n",
    "head(melted_df_binary)"
   ]
  },
  {
   "cell_type": "markdown",
   "metadata": {
    "collapsed": false
   },
   "source": [
    "%%R\n",
    "\n",
    "#This code breaks the kernel, so currently \"commented out\" as Markdown.\n",
    "\n",
    "# Make heatmaps\n",
    "\n",
    "ggplot(data = melted_df, aes(y = variable, x = section_name)) +\n",
    "  geom_tile(aes(fill = value)) +\n",
    "  theme(axis.text.x = element_text(angle = 90, hjust = 1, size = 3), axis.text.y = element_text(size = 3))\n",
    "\n",
    "qplot(data = melted_df_binary, x = section_name, y = variable, fill = factor(value),\n",
    "   geom = \"tile\") + scale_fill_manual(values = c(\"0\"=\"lightblue\", \"1\" = \"red\")) +\n",
    " theme(axis.text.x = element_text(angle = 90, hjust = 1, size = 3), axis.text.y = element_text(size = 3))\n"
   ]
  },
  {
   "cell_type": "markdown",
   "metadata": {},
   "source": [
    "### Questions\n",
    "- What fraction of possible entries for a section are present across documents (normalizing against Q39)?  \n",
    "- Length of document vs. number of sections present?  \n",
    "- Which sections are present across documents (using binary dataset)?  "
   ]
  },
  {
   "cell_type": "markdown",
   "metadata": {},
   "source": [
    "# Part 2: Analysis based on presence/absence of entries"
   ]
  },
  {
   "cell_type": "markdown",
   "metadata": {},
   "source": [
    "## Document Term Matrix\n",
    "Transform the DataFrame into a Document Term Matrix (DTM) by using CountVectorizer. This function uses a Regular Expression (token_pattern) to indicate how to find the beginning and end of token. In the current Dataframe entries are separated from each other by a white space. The expression `r.[^ ]+` means: any combination of characters, except the space.\n",
    "\n",
    "The output of the CountVectorizer (`dtm`) is not in a human-readable format. It is transformed into another DataFrame, with `id_text` as index."
   ]
  },
  {
   "cell_type": "code",
   "execution_count": null,
   "metadata": {
    "collapsed": false
   },
   "outputs": [],
   "source": [
    "from sklearn.feature_extraction.text import CountVectorizer\n",
    "cv = CountVectorizer(analyzer='word', token_pattern=r'[^ ]+')\n",
    "dtm = cv.fit_transform(by_text_df['entry'])\n",
    "dtm_df = pd.DataFrame(dtm.toarray(), columns = cv.get_feature_names(), index = by_text_df.index.values)\n",
    "dtm_df.head()"
   ]
  },
  {
   "cell_type": "markdown",
   "metadata": {},
   "source": [
    "## Analyzing the DTM\n",
    "Each document in the DTM may be understood as a vector, which allows for various kinds of computations, such as distance or cosine-similarity. \n",
    "\n",
    "It is important to recall that the DTM does not preserve information about the order of entries.\n",
    "\n",
    "It is also important to realize that the documents in this analysis of are of very different length (from 1 to 750 entries), with more than half of the documents 3 lines or less. The composite text from Nippur is by far the longest document and will dominate any comparison"
   ]
  },
  {
   "cell_type": "code",
   "execution_count": null,
   "metadata": {
    "collapsed": false
   },
   "outputs": [],
   "source": [
    "df_length = dtm_df.sum(axis=1)\n",
    "df_length.describe()"
   ]
  },
  {
   "cell_type": "markdown",
   "metadata": {},
   "source": [
    "Note that I'll be doing some analysis in R, whereas Niek will be doing some in Python. We can use both languages in different cells of the same notebook and even pass variables between languages. See tip #21 [here](https://www.dataquest.io/blog/jupyter-notebook-tips-tricks-shortcuts/).\n",
    "\n",
    "FYI - if you have difficulty running R cells in a Python notebook using rpy2, try installing\n",
    "rpy2 through conda instead of through pip.  \n",
    "\n",
    "`conda install -c r rpy2`"
   ]
  },
  {
   "cell_type": "markdown",
   "metadata": {},
   "source": [
    "## Make sure the R correctly parsed the DTM  \n",
    "- It looks like R doesn't allow variable names to start with a number, thus all entries starting with a number had \"X\" added to the beggining of the entry name.  \n",
    "- R doesn't allow parentheses in variable names, so entries like \"1(ban₂)[na]na\" parsed as \"X1.ban...na.na\".   \n",
    "- \n",
    "\n"
   ]
  },
  {
   "cell_type": "code",
   "execution_count": null,
   "metadata": {
    "collapsed": false
   },
   "outputs": [],
   "source": [
    "%%R -i dtm_df\n",
    "#Import dtm_df from Python\n",
    "\n",
    "# Set cols and rows to sum to not include summary column and row added later\n",
    "# This needs to be in separate cell from addition of summary col and row!\n",
    "cols_to_sum = ncol(dtm_df)\n",
    "rows_to_sum = nrow(dtm_df)\n",
    "\n",
    "#head(dtm_df[,1:10])\n",
    "#str(dtm_df)"
   ]
  },
  {
   "cell_type": "markdown",
   "metadata": {},
   "source": [
    "## Check density of DTM\n",
    "\n",
    "Look at distribution of document lengths (number of entries per document).  \n",
    "Look at distribution of entry freqency (number of documents each entry appears in)."
   ]
  },
  {
   "cell_type": "code",
   "execution_count": null,
   "metadata": {
    "collapsed": false
   },
   "outputs": [],
   "source": [
    "%%R\n",
    "\n",
    "dtm_df$num_entries = rowSums(dtm_df[1:cols_to_sum])\n",
    "dtm_df[\"num_occurances\",] = colSums(dtm_df[1:rows_to_sum,])\n",
    "dtm_df[\"num_occurances\",\"num_entries\"] = NA \n",
    "\n",
    "plot(density(dtm_df$num_entries, na.rm = TRUE))\n",
    "table(dtm_df$num_entries, useNA = \"ifany\") #number of documents with each number of entries\n",
    "\n",
    "print(paste(\"There are\", length(which(dtm_df$num_entries >= 10)), \"documents with 10 or more entries.\"))\n",
    "print(paste(\"There are\", length(which(dtm_df$num_entries >= 100)), \"documents with 100 or more entries.\"))"
   ]
  },
  {
   "cell_type": "code",
   "execution_count": null,
   "metadata": {
    "collapsed": false
   },
   "outputs": [],
   "source": [
    "%%R \n",
    "\n",
    "num_occurances = unlist(dtm_df[\"num_occurances\",])\n",
    "plot(density(num_occurances, na.rm = TRUE))\n",
    "table(num_occurances, useNA = \"ifany\")\n",
    "\n",
    "rare = round(length(which(dtm_df[\"num_occurances\",] <=2))/cols_to_sum*100,2)\n",
    "common = length(which(dtm_df[\"num_occurances\",] >=10))\n",
    "most_common = max(dtm_df[\"num_occurances\",], na.rm = TRUE)\n",
    "most_common_entry = colnames(dtm_df[which(dtm_df[\"num_occurances\",] == most_common)])\n",
    "\n",
    "print(paste0(rare, \"% of entries appear only once or twice across the corpus\"))\n",
    "print(paste(common, \"entries occur in 10 or more documents\"))\n",
    "print(paste(\"including one that occurs\", most_common, \"times across the\", rows_to_sum, \"documents\"))\n",
    "print(paste(\"The most common entry is\", most_common_entry))"
   ]
  },
  {
   "cell_type": "code",
   "execution_count": null,
   "metadata": {
    "collapsed": false
   },
   "outputs": [],
   "source": [
    "%%R \n",
    "# Look at some of the most common entries\n",
    "colnames(dtm_df)[which(dtm_df[\"num_occurances\",] >= 10)]"
   ]
  },
  {
   "cell_type": "code",
   "execution_count": null,
   "metadata": {
    "collapsed": false
   },
   "outputs": [],
   "source": [
    "%%R \n",
    "\n",
    "# currently \"variables\" (entries) are sorted alphabetically, would like sorted by frequency\n",
    "dtm_df = as.matrix((dtm_df > 0) + 0) # Converts to binary presence/absence information\n",
    "dtm_df = dtm_df[,order(colSums(dtm_df), decreasing = TRUE)]\n",
    "dtm_df = as.data.frame(dtm_df)"
   ]
  },
  {
   "cell_type": "code",
   "execution_count": null,
   "metadata": {
    "collapsed": false
   },
   "outputs": [],
   "source": [
    "%%R \n",
    "\n",
    "# Need to recaculate number of occurances, as was converted to binary. \n",
    "dtm_df$num_entries = rowSums(dtm_df[1:cols_to_sum])\n",
    "dtm_df[\"num_occurances\",] = colSums(dtm_df[1:rows_to_sum,])\n",
    "dtm_df[\"num_occurances\",\"num_entries\"] = NA \n",
    "\n",
    "num_occurances = unlist(dtm_df[\"num_occurances\",])\n",
    "most_frequent = max(num_occurances, na.rm = TRUE)\n",
    "most_frequent_entry = colnames(dtm_df[which(dtm_df[\"num_occurances\",] == most_frequent)])\n",
    "\n",
    "print(paste(table(num_occurances)[1], \"entries appear in only one document\"))\n",
    "print(paste(\"The entry that appears in the most documents is\", most_frequent_entry))\n",
    "\n",
    "table(num_occurances, useNA = \"ifany\")\n"
   ]
  },
  {
   "cell_type": "code",
   "execution_count": null,
   "metadata": {
    "collapsed": false
   },
   "outputs": [],
   "source": [
    "%%R\n",
    "# These entries appear in at least 10 different documents.\n",
    "colnames(dtm_df)[which(dtm_df[\"num_occurances\",] >=10)]"
   ]
  },
  {
   "cell_type": "code",
   "execution_count": null,
   "metadata": {
    "collapsed": false
   },
   "outputs": [],
   "source": [
    "%%R\n",
    "dtm_df$document = row.names(dtm_df) #add document names as row names\n",
    "dtm_df = dtm_df[-which(row.names(dtm_df) == \"num_occurances\"),] # remove num_occurances row"
   ]
  },
  {
   "cell_type": "code",
   "execution_count": null,
   "metadata": {
    "collapsed": false
   },
   "outputs": [],
   "source": [
    "%%R\n",
    "\n",
    "melted_dtm_df = melt(dtm_df)\n",
    "head(melted_dtm_df)"
   ]
  },
  {
   "cell_type": "code",
   "execution_count": null,
   "metadata": {
    "collapsed": false
   },
   "outputs": [],
   "source": [
    "%%R \n",
    "# http://stackoverflow.com/questions/10397183/heat-map-of-binary-data-using-r-or-python\n",
    "\n",
    "# ggplot(data = melted_dtm_df[150000:160474,], aes(y=document, x=variable, fill=value)) + \n",
    "#   geom_tile() +\n",
    "#   theme(axis.text.x = element_text(angle = 90, hjust = 1, size = 5))\n",
    "\n",
    "#qplot(data=melted_dtm_df, x=variable,y=document, fill=factor(value),\n",
    "#    geom=\"tile\")+scale_fill_manual(values=c(\"0\"=\"lightblue\", \"1\"=\"red\")) +\n",
    "#  theme(axis.text.x = element_text(angle = 90, hjust = 1, size = 1), axis.text.y = element_text(size = 3))\n",
    "\n",
    "# Look at a subset\n",
    "# qplot(data = melted_dtm_df[1:10000,], x=variable, y=document, fill=factor(value),\n",
    "#     geom=\"tile\")+scale_fill_manual(values=c(\"0\"=\"lightblue\", \"1\"=\"red\")) +\n",
    "# theme(axis.text.x = element_text(angle = 90, hjust = 1, size = 8), axis.text.y = element_text(size = 5))\n"
   ]
  },
  {
   "cell_type": "markdown",
   "metadata": {
    "collapsed": true
   },
   "source": [
    "## Grouping Documents by Entry Similarity  \n",
    "We can use hierarchical clustering with our presence/absence matrix to uncover groups of similar documents. Ideally, we can benchmark these clusters' accuracy in uncovering geographically or chronologically related documents by looking at metadata, but for this collection the metadata may be too sparse to do that benchmarking.  \n",
    "\n",
    "In either case, we can establish a workflow for doing hierarchical clustering and apply that to other datasets with better provenance information to test for cluster utility.  "
   ]
  },
  {
   "cell_type": "code",
   "execution_count": null,
   "metadata": {
    "collapsed": false
   },
   "outputs": [],
   "source": [
    "%%R\n",
    "clusters <- hclust(dist(dtm_df))"
   ]
  },
  {
   "cell_type": "code",
   "execution_count": null,
   "metadata": {
    "collapsed": false
   },
   "outputs": [],
   "source": [
    "%%R\n",
    "ggdendrogram(clusters, rotate = TRUE) + theme(axis.text.y = element_text(size = 8))"
   ]
  },
  {
   "cell_type": "markdown",
   "metadata": {},
   "source": [
    "## Adding provenience by using ORACC metadata\n",
    "The file `data/metadata/dcclt-eta.csv` contains some metadata, including document provenience when known. We read in this data and add provenience to our DTM."
   ]
  },
  {
   "cell_type": "code",
   "execution_count": null,
   "metadata": {
    "collapsed": false
   },
   "outputs": [],
   "source": [
    "%%R \n",
    "# Bring in metadata\n",
    "ids = read.csv(\"../data/metadata/dcclt_meta.csv\")\n",
    "ids$document = ids$X\n",
    "ids$X = NULL\n",
    "head(ids)"
   ]
  },
  {
   "cell_type": "code",
   "execution_count": null,
   "metadata": {
    "collapsed": false
   },
   "outputs": [],
   "source": [
    "%%R\n",
    "# Add provenance information to dtm_df\n",
    "dtm_df = merge(dtm_df, ids, by = \"document\")\n",
    "dtm_df$provenience = droplevels(dtm_df)$provenience\n",
    "table(dtm_df$provenience)"
   ]
  },
  {
   "cell_type": "code",
   "execution_count": null,
   "metadata": {
    "collapsed": false
   },
   "outputs": [],
   "source": [
    "%%R\n",
    "\n",
    "# Add colors to dendrogram by provenance\n",
    "numColors = length(levels(factor(dtm_df$provenience)))\n",
    "numColors\n",
    "myPalette = brewer_pal(palette = \"Paired\")(numColors)\n",
    "names(myPalette) = levels(dtm_df$provenience)\n",
    "print(names(myPalette))\n",
    "show_col(myPalette)\n",
    "ggdendrogram(clusters, rotate = TRUE) + \n",
    "theme(axis.text.y = element_text(size = 8, color = myPalette[dtm_df$provenience]))"
   ]
  }
 ],
 "metadata": {
  "anaconda-cloud": {},
  "kernelspec": {
   "display_name": "Python [conda root]",
   "language": "python",
   "name": "conda-root-py"
  },
  "language_info": {
   "codemirror_mode": {
    "name": "ipython",
    "version": 3
   },
   "file_extension": ".py",
   "mimetype": "text/x-python",
   "name": "python",
   "nbconvert_exporter": "python",
   "pygments_lexer": "ipython3",
   "version": "3.5.2"
  }
 },
 "nbformat": 4,
 "nbformat_minor": 2
}
