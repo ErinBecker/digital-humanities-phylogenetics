{
 "cells": [
  {
   "cell_type": "markdown",
   "metadata": {},
   "source": [
    "### R Package list\n",
    "\n",
    "The following R packages are used in this notebook.\n",
    "\n",
    "ggplot2()  \n",
    "ggdendro()  \n",
    "Rlibstree() (a Bioconductor package)   \n",
    "reshape()  \n",
    "scales()    "
   ]
  },
  {
   "cell_type": "code",
   "execution_count": null,
   "metadata": {
    "collapsed": true
   },
   "outputs": [],
   "source": [
    "library(ggplot2)\n",
    "library(ggdendro)\n",
    "library(reshape)\n",
    "library(scales)"
   ]
  },
  {
   "cell_type": "code",
   "execution_count": null,
   "metadata": {
    "collapsed": true
   },
   "outputs": [],
   "source": []
  }
 ],
 "metadata": {
  "anaconda-cloud": {},
  "kernelspec": {
   "display_name": "R",
   "language": "R",
   "name": "ir"
  }
 },
 "nbformat": 4,
 "nbformat_minor": 2
}
