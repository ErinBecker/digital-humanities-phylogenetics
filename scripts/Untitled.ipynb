{
 "cells": [
  {
   "cell_type": "markdown",
   "metadata": {},
   "source": [
    "### R Package list\n",
    "\n",
    "The following R packages are used in this notebook.\n",
    "\n",
    "ggplot2()  \n",
    "ggdendro()  \n",
    "Rlibstree() (a Bioconductor package)   \n",
    "reshape()  \n",
    "scales()    "
   ]
  },
  {
   "cell_type": "code",
   "execution_count": 3,
   "metadata": {
    "collapsed": false
   },
   "outputs": [
    {
     "data": {
      "text/html": [
       "<ol class=list-inline>\n",
       "\t<li>'/Users/veldhuis/Library/R/3.2/library'</li>\n",
       "\t<li>'/Library/Frameworks/R.framework/Versions/3.2/Resources/library'</li>\n",
       "</ol>\n"
      ],
      "text/latex": [
       "\\begin{enumerate*}\n",
       "\\item '/Users/veldhuis/Library/R/3.2/library'\n",
       "\\item '/Library/Frameworks/R.framework/Versions/3.2/Resources/library'\n",
       "\\end{enumerate*}\n"
      ],
      "text/markdown": [
       "1. '/Users/veldhuis/Library/R/3.2/library'\n",
       "2. '/Library/Frameworks/R.framework/Versions/3.2/Resources/library'\n",
       "\n",
       "\n"
      ],
      "text/plain": [
       "[1] \"/Users/veldhuis/Library/R/3.2/library\"                         \n",
       "[2] \"/Library/Frameworks/R.framework/Versions/3.2/Resources/library\""
      ]
     },
     "metadata": {},
     "output_type": "display_data"
    }
   ],
   "source": [
    ".libPaths()"
   ]
  },
  {
   "cell_type": "code",
   "execution_count": null,
   "metadata": {
    "collapsed": false
   },
   "outputs": [],
   "source": [
    "lib.dir = \"/Library/Frameworks/R.framework/Versions/3.2/Resources/library\"\n",
    "\n",
    "#install.packages('ggplot2', lib=lib.dir)\n",
    "#install.packages('ggdendro', lib=lib.dir)\n",
    "#install.packages('reshape', lib=lib.dir)\n",
    "#install.packages('scales', lib=lib.dir)\n",
    "library(ggplot2, lib.loc = lib.dir) #\"/Library/Frameworks/R.framework/Versions/3.2/Resources/library\")\n",
    "library(ggdendro, lib.loc = lib.dir) # \"/Library/Frameworks/R.framework/Versions/3.2/Resources/library\")\n",
    "library(reshape, lib.loc = lib.dir) #\"/Library/Frameworks/R.framework/Versions/3.2/Resources/library\")\n",
    "library(scales, lib.loc = lib.dir) #\"/Library/Frameworks/R.framework/Versions/3.2/Resources/library\")"
   ]
  },
  {
   "cell_type": "markdown",
   "metadata": {
    "collapsed": true
   },
   "source": [
    "### Installing Rlibstree and Bioconductor\n",
    "\n",
    "To calculate the longest shared substring between two entries, we are using the `Rlibstree` package from Bioconductor. The following two cells install Bioconductor and the package we want, repectively, and only need to be run once. You will get a prompt box with no text. This is for updating the packages listed in the warning box. I suggest entering \"n\" for no, as the notebook seems to have a problem with updating all the listed packages and times out."
   ]
  },
  {
   "cell_type": "code",
   "execution_count": null,
   "metadata": {
    "collapsed": false
   },
   "outputs": [],
   "source": [
    "#source(\"http://bioconductor.org/biocLite.R\")\n",
    "#biocLite(\"BiocInstaller\")\n",
    "#library(BiocInstaller)\n",
    "#biocLite(\"Rlibstree\")\n",
    "\n",
    "library(\"Rlibstree\")"
   ]
  },
  {
   "cell_type": "code",
   "execution_count": null,
   "metadata": {
    "collapsed": true
   },
   "outputs": [],
   "source": [
    "df = read.csv('../data/pass/ob_lists_wood_w_id_text.csv', stringsAsFactors = F) "
   ]
  },
  {
   "cell_type": "code",
   "execution_count": null,
   "metadata": {
    "collapsed": false
   },
   "outputs": [],
   "source": [
    "df$lemma = as.character(df$lemma)\n",
    "df$base = as.character(df$base)\n",
    "df$entry = as.character(df$entry)\n",
    "str(df)"
   ]
  },
  {
   "cell_type": "code",
   "execution_count": null,
   "metadata": {
    "collapsed": true
   },
   "outputs": [],
   "source": [
    "## Functions\n",
    "get_guidewords = function(line) {\n",
    "  # extract all guidewords for an entry into character vector\n",
    "  line = unlist(strsplit(line, \"_\"))\n",
    "  line = gsub(\".*\\\\[\", \"\", line)\n",
    "  line = gsub(\"\\\\].*\", \"\", line)\n",
    "  line = gsub(\"~\", \"\", line)\n",
    "  guidewords = line\n",
    "  guidewords = guidewords[which(guidewords != \"na\")]\n",
    "  guidewords\n",
    "}\n",
    "\n",
    "get_citation_forms = function(line) {\n",
    "  # extract all citation forms for an entry into character vector\n",
    "  line = unlist(strsplit(line, \"_\"))\n",
    "  line = gsub(\"(.*)\\\\[.*\", \"\\\\1\", line)\n",
    "  citation_form = line\n",
    "  citation_form = citation_form[which(citation_form != \"na\")]\n",
    "  citation_form\n",
    "}\n",
    "\n",
    "clean_kmer = function(x) {\n",
    "  # get rid of part of speech (follows each ])\n",
    "#  x = gsub(\"(\\\\])[a-zA-Z/]*_\", paste0(\"\\\\1\", \"_\"), x) #for all but last word\n",
    "  x = gsub(\"(\\\\])[a-zA-Z/]*\", \"\\\\1\", x) #for all but last word\n",
    "#  x = gsub(\"(_.*\\\\])[a-zA-Z/]*\", \"\\\\1\", x) #for last word\n",
    "  \n",
    "  # get rid of punctuation (but only {}[]_.)\n",
    "  x = gsub(\"\\\\]\", \"\", x)\n",
    "  x = gsub(\"\\\\[\", \"\", x)\n",
    "  x = gsub(\"\\\\{\", \"\", x)\n",
    "  x = gsub(\"\\\\}\", \"\", x)\n",
    "  x = gsub(\"_\", \"\", x)\n",
    "  x = gsub(\"\\\\.\", \"\", x)\n",
    "  x = gsub(\"~\", \"\", x)\n",
    "  x\n",
    "}\n",
    "\n",
    "def_section_breaks = function(df, cutoff) {\n",
    "  # a section ends anytime overlap is zero and k is below the defined cutoff\n",
    "  df$section = NA\n",
    "  sect_num = 1\n",
    "  first_section_start = which(df$overlap > 0 | df$k >= cutoff)[1]\n",
    "  df$section[first_section_start] = sect_num\n",
    "  section_break = FALSE\n",
    "  \n",
    "  for (i in (first_section_start):nrow(df)) {\n",
    "    if (df$overlap[i] > 0 | df$k[i] >= cutoff) {\n",
    "      if (section_break == TRUE) { sect_num = sect_num + 1 }\n",
    "      df$section[i] = sect_num\n",
    "      section_break = FALSE\n",
    "    } \n",
    "    else { \n",
    "      df$section[i] = NA\n",
    "      section_break = TRUE\n",
    "    }}\n",
    "  df\n",
    "}\n",
    "\n",
    "extract_sections = function(df, file) {\n",
    "  # writes all entries present in each section to a file\n",
    "  section_nums = unique(df$section[!is.na(df$section)])\n",
    "  sections = data.frame(sapply(section_nums, function(x) x = character(max(table(df$section)) + 1)))\n",
    "  \n",
    "  for (i in section_nums) {\n",
    "    elements = unique(c(df[which(df$section == i),]$line_a, df[which(df$section == i),]$line_b))\n",
    "    missing = max(table(df$section) + 1) - length(elements)\n",
    "    elements = c(elements, rep(NA, missing))\n",
    "    sections[,i] = elements \n",
    "    colnames(sections)[i] = paste(get_guidewords(sections[1,i]), collapse = \"_\")\n",
    "  }\n",
    "  write.csv(sections, file, row.names = FALSE, quote = FALSE)\n",
    "}"
   ]
  },
  {
   "cell_type": "code",
   "execution_count": null,
   "metadata": {
    "collapsed": true
   },
   "outputs": [],
   "source": [
    "compare_entries = function(infile, cutoff, outfile) {\n",
    "  name = strsplit(infile, \"\\\\.\")[[1]][1]\n",
    "  df_composite = read.csv(infile, stringsAsFactors = FALSE)\n",
    "  # remove lines in df representing missing lines or sections\n",
    "  empty_lines = which(df_composite$entry == \"\")\n",
    "  if (length(empty_lines) != 0) {df_composite = df_composite[-empty_lines,] }\n",
    "  \n",
    "  # initialize empty data frame for storing results\n",
    "  num_rows = nrow(df_composite) - 1\n",
    "  df_compare = data.frame(line_a = character(num_rows), \n",
    "                          line_b = character(num_rows),\n",
    "                          overlap = numeric(num_rows),\n",
    "                          kmer = character(num_rows),\n",
    "                          k = numeric(num_rows),\n",
    "                          stringsAsFactors = FALSE)\n",
    "  \n",
    "  for (i in 1:nrow(df_composite) - 1) {\n",
    "    line_a = tolower(df_composite$entry[i])\n",
    "    guidewords_a = get_guidewords(line_a)\n",
    "    citation_form_a = get_citation_forms(line_a)\n",
    "    \n",
    "    line_b = tolower(df_composite$entry[i + 1])\n",
    "    guidewords_b = get_guidewords(line_b)\n",
    "    citation_form_b = get_citation_forms(line_b)\n",
    "    \n",
    "    line_a_clean = clean_kmer(line_a)\n",
    "    line_b_clean = clean_kmer(line_b)\n",
    "    kmer = getLongestCommonSubstring(c(line_a_clean, line_b_clean))\n",
    "    kmer = gsub(\"[\\x80-\\xFF]\", \"\", kmer) # get rid of multibyte strings introduced by Rlibstree\n",
    "    k = nchar(kmer)\n",
    "    if (length(kmer) == 0) {\n",
    "        kmer = NA\n",
    "        k = 0 }\n",
    "    \n",
    "    overlap = sum(citation_form_a %in% citation_form_b) + sum(guidewords_a %in% guidewords_b)\n",
    "    \n",
    "    df_compare$line_a[i] = line_a\n",
    "    df_compare$line_b[i] = line_b\n",
    "    df_compare$overlap[i] = overlap\n",
    "    df_compare$kmer[i] = kmer\n",
    "    df_compare$k[i] = k\n",
    "  }\n",
    "  plot(df_compare$overlap, pch = \".\", main = name, ylab = \"# matching words\", xlab = \"line number\")\n",
    "  df_compare = def_section_breaks(df_compare, cutoff = cutoff)\n",
    "  plot(table(df_compare$section), main = name, ylab = \"# entries in section\", xlab = \"section\")\n",
    "  extract_sections(df_compare, outfile)\n",
    "  df_compare\n",
    "}"
   ]
  },
  {
   "cell_type": "code",
   "execution_count": null,
   "metadata": {
    "collapsed": false
   },
   "outputs": [],
   "source": [
    "setwd(\"../data/composite_texts/\")\n",
    "\n",
    "Q1 = compare_entries(\"Q000001.csv\", cutoff = 3, \"Q000001_sections.csv\")\n",
    "Q39 = compare_entries(\"Q000039.csv\", cutoff = 3, \"Q000039_sections.csv\")\n",
    "Q40 = compare_entries(\"Q000040.csv\", cutoff = 3, \"Q000040_sections.csv\")\n",
    "Q41 = compare_entries(\"Q000041.csv\", cutoff = 3, \"Q000041_sections.csv\")\n",
    "Q42 = compare_entries(\"Q000042.csv\", cutoff = 3, \"Q000042_sections.csv\")"
   ]
  },
  {
   "cell_type": "code",
   "execution_count": null,
   "metadata": {
    "collapsed": true
   },
   "outputs": [],
   "source": [
    "####### Read in section definitions from file #######\n",
    "\n",
    "Q1_sections = read.csv(\"Q000001_sections.csv\", stringsAsFactors = FALSE)\n",
    "Q39_sections = read.csv(\"Q000039_sections.csv\", stringsAsFactors = FALSE)\n",
    "Q40_sections = read.csv(\"Q000040_sections.csv\", stringsAsFactors = FALSE)\n",
    "Q41_sections = read.csv(\"Q000040_sections.csv\", stringsAsFactors = FALSE)\n",
    "Q42_sections = read.csv(\"Q000042_sections.csv\", stringsAsFactors = FALSE)"
   ]
  },
  {
   "cell_type": "markdown",
   "metadata": {},
   "source": [
    "# Map sections to documents\n",
    "\n",
    "For each document in a corpus, determine whether each section represented in the reference text is present in that document. For each section, determine how many times an entry from that section is present in each document."
   ]
  },
  {
   "cell_type": "code",
   "execution_count": null,
   "metadata": {
    "collapsed": true
   },
   "outputs": [],
   "source": [
    "map_sections = function(corpus_file, section_defs) {\n",
    "# Read in a csv listing all documents in corpus with text IDs\n",
    "    corpus = read.csv(corpus_file)\n",
    "# make df to store results\n",
    "    doc_list = unique(corpus$id_text)\n",
    "    section_names = colnames(section_defs)\n",
    "    section_df = data.frame(sapply(doc_list, function(x) \n",
    "        x = numeric(length(section_names))), row.names = section_names)\n",
    "    colnames(section_df) = doc_list\n",
    "    doc_list = as.character(doc_list)\n",
    "        \n",
    "# iterate through sections and documents to populate df counts\n",
    "    for (j in unique(doc_list)) {\n",
    "        entries = as.character(corpus[which(corpus$id_text == j),]$entry)\n",
    "        for (i in 1:ncol(section_defs)) {\n",
    "            presence = sum(section_defs[,i] %in% tolower(entries))\n",
    "            # if (presence > 0) presence = 1\n",
    "            section_df[i, j] = presence \n",
    "            }\n",
    "      section_df\n",
    "    }\n",
    "section_df\n",
    "}\n"
   ]
  },
  {
   "cell_type": "code",
   "execution_count": null,
   "metadata": {
    "collapsed": false
   },
   "outputs": [],
   "source": [
    "test = map_sections(\"../pass/ob_lists_wood_w_id_text.csv\", Q39_sections)\n",
    "head(test)"
   ]
  },
  {
   "cell_type": "code",
   "execution_count": null,
   "metadata": {
    "collapsed": true
   },
   "outputs": [],
   "source": []
  }
 ],
 "metadata": {
  "anaconda-cloud": {},
  "kernelspec": {
   "display_name": "R",
   "language": "R",
   "name": "ir"
  },
  "language_info": {
   "codemirror_mode": "r",
   "file_extension": ".r",
   "mimetype": "text/x-r-source",
   "name": "R",
   "pygments_lexer": "r",
   "version": "3.2.2"
  }
 },
 "nbformat": 4,
 "nbformat_minor": 2
}
